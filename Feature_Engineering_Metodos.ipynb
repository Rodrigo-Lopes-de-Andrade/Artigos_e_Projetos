{
  "nbformat": 4,
  "nbformat_minor": 0,
  "metadata": {
    "kernelspec": {
      "language": "python",
      "display_name": "Python 3",
      "name": "python3"
    },
    "language_info": {
      "pygments_lexer": "ipython3",
      "nbconvert_exporter": "python",
      "version": "3.6.4",
      "file_extension": ".py",
      "codemirror_mode": {
        "name": "ipython",
        "version": 3
      },
      "name": "python",
      "mimetype": "text/x-python"
    },
    "colab": {
      "name": "Cópia de Feature-Engineering-Metodos.ipynb",
      "provenance": [],
      "collapsed_sections": [
        "BSG5KOTcXrDm",
        "cdeQNN-YXrDo",
        "NZiSyNWDXrDs",
        "a8yAapdrXrDu",
        "RuPivgYmXrDw",
        "xkQt75QTXrDy",
        "HJpnZlnZXrDz",
        "BIqmEQ8dXrD6",
        "6TdnGl8wXrEN",
        "NySbQk1pXrEN",
        "ZfjgJlSnXrEO",
        "A2QPpqliXrEP",
        "RyxoglEEXrEP",
        "p5yWhqwXXrEP",
        "q2ssHtyQXrEQ",
        "dBCwKbXaXrET",
        "5OQzB2v_XrET"
      ],
      "include_colab_link": true
    }
  },
  "cells": [
    {
      "cell_type": "markdown",
      "metadata": {
        "id": "view-in-github",
        "colab_type": "text"
      },
      "source": [
        "<a href=\"https://colab.research.google.com/github/Rodrigo-Lopes-de-Andrade/Artigos_e_Projetos/blob/main/Feature_Engineering_Metodos.ipynb\" target=\"_parent\"><img src=\"https://colab.research.google.com/assets/colab-badge.svg\" alt=\"Open In Colab\"/></a>"
      ]
    },
    {
      "cell_type": "markdown",
      "metadata": {
        "id": "I6tKp-M2XrDK"
      },
      "source": [
        "<a class=\"anchor\" id=\"0\"></a>\n",
        "# **Um guia de referência para métodos de engenharia de atributos**\n",
        "\n",
        "\n",
        "Olá amigos,\n",
        "\n",
        "\n",
        "**Engenharia de atributos** é a base de qualquer modelo de aprendizado de máquina. O sucesso de qualquer modelo de aprendizado de máquina depende da aplicação de várias técnicas de engenharia de recursos. Portanto, neste kernel, discutirei várias técnicas de **Engenharia de atributos** que nos ajudarão a extrair, preparar e projetar recursos de nosso conjunto de dados de maneira adequada.\n",
        "\n",
        "Então vamos começar."
      ]
    },
    {
      "cell_type": "markdown",
      "metadata": {
        "id": "f2b0NmXSXrDU"
      },
      "source": [
        "- Este kernel é baseado no curso de Soledad Galli - [Feature Engineering for Machine Learning] (https://www.udemy.com/course/feature-engineering-for-machine-learning/) e seu artigo - [Feature Engineering for Machine Aprendendo; Uma visão geral abrangente] (https://www.trainindata.com/post/feature-engineering-comprehensive-overview).\n",
        "\n",
        "- Ela fez um trabalho fabuloso no curso acima, onde reuniu todas as principais técnicas de engenharia de recursos em um só lugar. Eu adaptei o código e as instruções de seu curso e artigo neste kernel. Eu gosto de parabenizá-la \n",
        "por seu excelente trabalho."
      ]
    },
    {
      "cell_type": "markdown",
      "metadata": {
        "id": "6IzFsEzoXrDW"
      },
      "source": [
        "<a class=\"anchor\" id=\"0.1\"></a>\n",
        "## Índice\n",
        "\n",
        "\n",
        "Introdução à Engenharia de Recursos \n",
        "2. Visão geral das técnicas de engenharia de atributos \n",
        "3.Imputação de dados ausentes\n",
        "   - 3.1 Análise de Caso Completa\n",
        "   - 3.2 Média / Mediana / Imputação de modo\n",
        "   - 3.3 Imputação de amostra aleatória\n",
        "   - 3.4 Substituição por valor arbitrário\n",
        "   - 3,5 fim de imputação de distribuição\n",
        "   - 3.6 Indicador de valor ausente\n",
        "4. Codificação categórica\n",
        "   - 4.1 One-Hot Encoding (OHE)\n",
        "   - 4.2 Codificação Ordinal\n",
        "   - 4.3 Codificação de contagem e frequência\n",
        "   - 4.4 Codificação de destino / média\n",
        "   - 4.5 Peso da evidência\n",
        "5. Transformação variável\n",
        "   - 5.1 Transformação Logarítmica\n",
        "   - 5.2 Transformação Recíproca\n",
        "   - 5.3 Transformação de raiz quadrada\n",
        "   - 5.4 Transformação Box-Cox\n",
        "6. Discretização\n",
        "   - 6.1 Discretização de largura igual com função de corte de pandas\n",
        "   - 6.2 Discretização de frequência igual com função pandas qcut\n",
        "   - 6.3 discretização do conhecimento do domínio\n",
        "7. Engenharia Outlier\n",
        "   - 7.1 Remoção de outlier\n",
        "   - 7.2 Tratando outliers como valores ausentes\n",
        "   - 7.3 Discretização\n",
        "   - 7.4 codificação superior / inferior / zero\n",
        "8. Engenharia de Dados e Tempo\n",
        "9. Referências\n",
        "\n",
        "\n",
        "\n",
        "\n",
        "\n",
        "\n",
        "\n"
      ]
    },
    {
      "cell_type": "markdown",
      "metadata": {
        "id": "fcKla_rGXrDY"
      },
      "source": [
        "# **1. Introduction to Feature Engineering** <a class=\"anchor\" id=\"1\"></a>\n",
        "\n",
        "\n",
        "Em termos de site da Wikipedia:\n",
        "\n",
        "**Feature Engineering é o processo de usar o conhecimento de domínio para extrair recursos de dados brutos por meio de técnicas de mineração de dados. Esses recursos podem ser usados ​​para melhorar o desempenho de algoritmos de aprendizado de máquina. A engenharia de recursos pode ser considerada como o próprio aprendizado de máquina aplicado**\n",
        "\n",
        "Fonte: https://en.wikipedia.org/wiki/Feature_engineering\n",
        "\n",
        "\n",
        "Outra definição importante de Engenharia de Recursos é a seguinte: -\n",
        "\n",
        "**Criar recursos é difícil, demorado e requer conhecimento especializado. \"Aprendizado de máquina aplicado\" é basicamente engenharia de recursos.**\n",
        "\n",
        "- Andrew Ng, aprendizado de máquina e IA via simulações cerebrais\n",
        "\n",
        "\n",
        "- Portanto, a engenharia de recursos é o processo de criação de recursos úteis em um modelo de aprendizado de máquina. Podemos ver que o sucesso de qualquer modelo de aprendizado de máquina depende da aplicação de várias técnicas de engenharia de recursos."
      ]
    },
    {
      "cell_type": "markdown",
      "metadata": {
        "id": "adrj57W9XrDa"
      },
      "source": [
        "# **2. Overview of Feature Engineering** <a class=\"anchor\" id=\"2\"></a>\n",
        "\n",
        "- **Feature engineering** é um termo muito amplo que consiste em diferentes técnicas para processar dados. Essas técnicas nos ajudam a processar nossos dados brutos em dados processados ​​prontos para serem alimentados em um algoritmo de aprendizado de máquina. Essas técnicas incluem o preenchimento de valores ausentes, codificação de variáveis ​​categóricas, transformação de variáveis, criação de novas variáveis ​​a partir das existentes e outras.\n",
        "\n",
        " \n",
        "- Nesta seção, listarei as principais técnicas de engenharia de recursos para processar os dados. Nas seções a seguir, descreverei cada técnica e suas aplicações.\n",
        "\n",
        "\n",
        "- As técnicas de engenharia de recursos que discutiremos neste kernel são as seguintes: -\n",
        "\n",
        "\n",
        "Falta de imputação de dados\n",
        "2. Codificação categórica\n",
        "3. Transformação de variável\n",
        "4. Discretização\n",
        "6. Engenharia de outlier\n",
        "7. Engenharia de data e hora"
      ]
    },
    {
      "cell_type": "markdown",
      "metadata": {
        "id": "_1nnrwwXXrDb"
      },
      "source": [
        "# **3. Missing data imputation**  <a class=\"anchor\" id=\"3\"></a>\n",
        "\n",
        "\n",
        "\n",
        "- Dados ausentes ou valores ausentes ocorrem quando nenhum dado / valor é armazenado para uma determinada observação dentro de uma variável.\n",
        "\n",
        "- Dados ausentes são uma ocorrência comum e podem ter um efeito significativo nas conclusões que podem ser tiradas dos dados. Dados incompletos são um problema inevitável ao lidar com a maioria das fontes de dados.\n",
        "\n",
        "\n",
        "- **Imputação** é o ato de substituir os dados ausentes por estimativas estatísticas dos valores ausentes. O objetivo de qualquer técnica de imputação é produzir um conjunto de dados completo que pode ser usado para treinar modelos de aprendizado de máquina.\n",
        "\n",
        " \n",
        "- Existem várias técnicas para imputação de dados ausentes. São os seguintes: -\n",
        "\n",
        "  1. Análise de caso completa\n",
        "\n",
        "  2. Imputação média / mediana / modo\n",
        "\n",
        "  Imputação de amostra aleatória\n",
        "\n",
        "  4. Substituição por valor arbitrário\n",
        "\n",
        "  5. Fim da Imputação de Distribuição\n",
        "\n",
        "  6. Indicador de valor ausente\n",
        "  \n",
        "  Imputação multivariada"
      ]
    },
    {
      "cell_type": "markdown",
      "metadata": {
        "id": "z8DrGCD2XrDd"
      },
      "source": [
        "## **Mecanismos de dados ausentes**\n",
        "\n",
        "- Existem 3 mecanismos que levam à perda de dados, 2 deles envolvem dados ausentes aleatoriamente ou quase aleatoriamente, e o terceiro envolve uma perda sistemática de dados.\n",
        "\n",
        "#### **Totalmente ausente no aleatório - Missing Completely at Random - MCAR**\n",
        "\n",
        "- Uma variável está faltando completamente ao acaso (MCAR) se a probabilidade de estar faltando é a mesma para todas as observações. Quando os dados são MCAR, não há absolutamente nenhuma relação entre os dados ausentes e quaisquer outros valores, observados ou ausentes, no conjunto de dados. Em outras palavras, esses pontos de dados ausentes são um subconjunto aleatório dos dados. Não há nada sistemático acontecendo que torne alguns dados mais prováveis ​​de serem perdidos do que outros.\n",
        "\n",
        "- Se os valores das observações estiverem faltando completamente ao acaso, desconsiderar esses casos não afetaria as inferências feitas.\n",
        "\n",
        "#### **Faltando aleatoriamente, MAR - Missing at Random - MAR**\n",
        "\n",
        "- MAR ocorre quando há uma relação sistemática entre a propensão de valores ausentes e os dados observados. Em outras palavras, a probabilidade de uma observação estar faltando depende apenas das informações disponíveis (outras variáveis ​​no conjunto de dados). Por exemplo, se os homens são mais propensos a revelar seu peso do que as mulheres, o peso é MAR. A informação do peso estará faltando aleatoriamente para aqueles homens e mulheres que decidiram não divulgar seu peso, mas como os homens são mais propensos a divulgá-lo, haverá mais valores omissos para as mulheres do que para os homens.\n",
        "\n",
        "- Em uma situação como a acima, se decidirmos prosseguir com a variável com valores ausentes (neste caso, peso), podemos nos beneficiar da inclusão de gênero para controlar o viés de peso para as observações ausentes.\n",
        "\n",
        "#### **Faltando não aleatoriamente - Missing at Random - MAR**\n",
        "\n",
        "- A falta de valores não é aleatória (MNAR) se a falta de valores depende de informações não registradas no conjunto de dados. Em outras palavras, existe um mecanismo ou uma razão pela qual os valores ausentes são introduzidos no conjunto de dados."
      ]
    },
    {
      "cell_type": "markdown",
      "metadata": {
        "id": "z8CS8kA-XrDe"
      },
      "source": [
        "## **3.1 Complete Case Analysis (CCA)** <a class=\"anchor\" id=\"3.1\"></a>\n",
        "\n",
        "\n",
        "- **Análise de caso completa** implica em analisar apenas as observações no conjunto de dados que contêm valores em todas as variáveis. Em outras palavras, na análise de caso completa, removemos todas as observações com valores ausentes. Este procedimento é adequado quando há poucas observações com dados ausentes no conjunto de dados.\n",
        "\n",
        "- **Portanto, a análise de caso completo (CCA)**, também chamada de exclusão por lista de casos, consiste em simplesmente descartar as observações em que faltam valores em qualquer uma das variáveis. Análise de caso completa significa literalmente analisar apenas aquelas observações para as quais há informações em todas as variáveis ​​(Xs).\n",
        "\n",
        "- Mas, se o conjunto de dados contém dados perdidos em várias variáveis, ou algumas variáveis ​​contêm uma alta proporção de observações ausentes, podemos remover facilmente uma grande parte do conjunto de dados, e isso é indesejável.\n",
        "\n",
        "- O CCA pode ser aplicado a variáveis ​​categóricas e numéricas.\n",
        "\n",
        "- Na prática, o CCA pode ser um método aceitável quando a quantidade de informações ausentes é pequena. Em muitos conjuntos de dados da vida real, a quantidade de dados ausentes nunca é pequena e, portanto, o CCA normalmente nunca é uma opção."
      ]
    },
    {
      "cell_type": "markdown",
      "metadata": {
        "id": "zmHw95c_XrDg"
      },
      "source": [
        "## **Aplicando CCA no Dataset do Titanic**\n",
        "\n",
        "- Agora, vou demonstrar a aplicação do CCA no conjunto de dados do Titanic."
      ]
    },
    {
      "cell_type": "code",
      "metadata": {
        "trusted": true,
        "id": "DjmBeOJ7XrDh"
      },
      "source": [
        "import numpy as np # linear algebra\n",
        "import pandas as pd # data processing, CSV file I/O (e.g. pd.read_csv)\n",
        "import matplotlib.pyplot as plt # for data visualization\n",
        "import seaborn as sns # for statistical data visualization\n",
        "import pylab \n",
        "import scipy.stats as stats\n",
        "import datetime\n",
        "%matplotlib inline\n",
        "\n",
        "pd.set_option('display.max_columns', None)\n"
      ],
      "execution_count": null,
      "outputs": []
    },
    {
      "cell_type": "code",
      "metadata": {
        "trusted": true,
        "id": "gDLszGDkXrDi"
      },
      "source": [
        "# ignore warnings\n",
        "import warnings\n",
        "warnings.filterwarnings('ignore')"
      ],
      "execution_count": null,
      "outputs": []
    },
    {
      "cell_type": "code",
      "metadata": {
        "trusted": true,
        "id": "pSVn_FZOXrDj"
      },
      "source": [
        "# load the dataset\n",
        "titanic = pd.read_csv('https://raw.githubusercontent.com/Rodrigo-Lopes-de-Andrade/Datasets/main/Feature_Engineering_Methods_train.csv')"
      ],
      "execution_count": null,
      "outputs": []
    },
    {
      "cell_type": "code",
      "metadata": {
        "trusted": true,
        "id": "0IANsorXXrDj"
      },
      "source": [
        "# make a copy of titanic dataset\n",
        "df = titanic.copy()"
      ],
      "execution_count": null,
      "outputs": []
    },
    {
      "cell_type": "code",
      "metadata": {
        "trusted": true,
        "colab": {
          "base_uri": "https://localhost:8080/"
        },
        "id": "fWWLff72XrDk",
        "outputId": "dbad4d37-2901-4ac7-fbcd-039d7a80dfc1"
      },
      "source": [
        " # check the percentage of missing values per variable\n",
        "\n",
        "df.isnull().mean()*100"
      ],
      "execution_count": null,
      "outputs": [
        {
          "output_type": "execute_result",
          "data": {
            "text/plain": [
              "PassengerId     0.000000\n",
              "Survived        0.000000\n",
              "Pclass          0.000000\n",
              "Name            0.000000\n",
              "Sex             0.000000\n",
              "Age            19.865320\n",
              "SibSp           0.000000\n",
              "Parch           0.000000\n",
              "Ticket          0.000000\n",
              "Fare            0.000000\n",
              "Cabin          77.104377\n",
              "Embarked        0.224467\n",
              "dtype: float64"
            ]
          },
          "metadata": {},
          "execution_count": 59
        }
      ]
    },
    {
      "cell_type": "code",
      "metadata": {
        "colab": {
          "base_uri": "https://localhost:8080/"
        },
        "id": "K7a9wLY1eAj5",
        "outputId": "93257c0d-fc1a-4e34-a34a-97247fd3b999"
      },
      "source": [
        "df.isna().sum()"
      ],
      "execution_count": null,
      "outputs": [
        {
          "output_type": "execute_result",
          "data": {
            "text/plain": [
              "PassengerId      0\n",
              "Survived         0\n",
              "Pclass           0\n",
              "Name             0\n",
              "Sex              0\n",
              "Age            177\n",
              "SibSp            0\n",
              "Parch            0\n",
              "Ticket           0\n",
              "Fare             0\n",
              "Cabin          687\n",
              "Embarked         2\n",
              "dtype: int64"
            ]
          },
          "metadata": {},
          "execution_count": 7
        }
      ]
    },
    {
      "cell_type": "markdown",
      "metadata": {
        "id": "13LXeNGvXrDk"
      },
      "source": [
        "- Agora, se optássemos por remover todas as observações faltantes, acabaríamos com um conjunto de dados muito pequeno, visto que falta Cabine para 77% das observações."
      ]
    },
    {
      "cell_type": "code",
      "metadata": {
        "trusted": true,
        "colab": {
          "base_uri": "https://localhost:8080/"
        },
        "id": "VdtjooIcXrDl",
        "outputId": "50cea880-a6f4-4be6-a84c-3c7d6e48dea7"
      },
      "source": [
        "# verifique quantas observações dropariamos\n",
        "print('total de passageiros com valores em todas as variáveis: ', df.dropna().shape[0])\n",
        "print('total de passageiros no Titanic: ', df.shape[0])\n",
        "print('porcentagem de dados sem valores ausentes: ', df.dropna().shape[0]/ np.float(df.shape[0]))"
      ],
      "execution_count": null,
      "outputs": [
        {
          "output_type": "stream",
          "name": "stdout",
          "text": [
            "total de passageiros com valores em todas as variáveis:  183\n",
            "total de passageiros no Titanic:  891\n",
            "porcentagem de dados sem valores ausentes:  0.2053872053872054\n"
          ]
        }
      ]
    },
    {
      "cell_type": "markdown",
      "metadata": {
        "id": "WtYq3rRJXrDl"
      },
      "source": [
        "- Portanto, temos informações completas para apenas 20% de nossas observações no conjunto de dados do Titanic. Portanto, o CCA não seria uma opção para este conjunto de dados."
      ]
    },
    {
      "cell_type": "markdown",
      "metadata": {
        "id": "WvOEWZSTXrDm"
      },
      "source": [
        "- Portanto, em conjuntos de dados com muitas variáveis ​​que contêm dados ausentes, o CCA normalmente não será uma opção, pois produzirá um conjunto de dados reduzido com observações completas. No entanto, se apenas um subconjunto das variáveis ​​do conjunto de dados for usado, poderíamos avaliar as variáveis ​​por variáveis, quer optemos por descartar valores com NA, ou substituí-los por outros métodos."
      ]
    },
    {
      "cell_type": "markdown",
      "metadata": {
        "trusted": true,
        "id": "BSG5KOTcXrDm"
      },
      "source": [
        "## **3.2 Mean / Median / Mode Imputation** <a class=\"anchor\" id=\"3.2\"></a>\n",
        "\n",
        "\n",
        "\n",
        "- Podemos substituir os valores perdidos pela média, mediana ou modo da variável. A imputação de média / mediana / modo é amplamente adotada em organizações e competições de dados. Embora na prática essa técnica seja usada em quase todas as situações, o procedimento é adequado se os dados estiverem ausentes ao acaso e em pequenas proporções. Se houver muitas observações ausentes, no entanto, distorceremos a distribuição da variável, bem como sua relação com outras variáveis ​​no conjunto de dados. A distorção na distribuição das variáveis ​​pode afetar o desempenho dos modelos lineares.\n",
        "\n",
        "- A imputação média / mediana consiste em substituir todas as ocorrências de valores perdidos (NA) dentro de uma variável pela média (se a variável tiver uma distribuição gaussiana) ou mediana (se a variável tiver uma distribuição assimétrica).\n",
        "\n",
        "- Para variáveis ​​categóricas, a substituição pelo modo, também é conhecida como substituição pela categoria mais frequente.\n",
        "\n",
        "- A imputação de média / mediana pressupõe que os dados estão ausentes completamente ao acaso (MCAR). Se for esse o caso, podemos pensar em substituir o NA pela ocorrência mais frequente da variável, que é a média se a variável tem uma distribuição gaussiana, ou a mediana caso contrário.\n",
        "\n",
        "- A lógica é substituir a população de valores ausentes pelo valor mais frequente, uma vez que esta é a ocorrência mais provável.\n",
        "\n",
        "- Ao substituir NA pela média ou mediana, a variância da variável será distorcida se o número de NA for grande em relação ao número total de observações (uma vez que os valores imputados não diferem da média ou entre si) . Portanto, levando a uma subestimação da variância.\n",
        "\n",
        "- Além disso, as estimativas de covariância e correlações com outras variáveis ​​no conjunto de dados também podem ser afetadas. Isso porque podemos estar destruindo correlações intrínsecas, uma vez que a média / mediana que agora substitui NA não preservará a relação com as variáveis ​​restantes."
      ]
    },
    {
      "cell_type": "markdown",
      "metadata": {
        "id": "yToRM3PTXrDn"
      },
      "source": [
        "## **Mean / Median / Mode Imputation no dataset Titanic**"
      ]
    },
    {
      "cell_type": "code",
      "metadata": {
        "trusted": true,
        "id": "Jn89v_WgXrDn"
      },
      "source": [
        "# make a copy of titanic dataset\n",
        "df2 = titanic.copy()"
      ],
      "execution_count": null,
      "outputs": []
    },
    {
      "cell_type": "code",
      "metadata": {
        "trusted": true,
        "colab": {
          "base_uri": "https://localhost:8080/"
        },
        "id": "8UqcP5qMXrDo",
        "outputId": "333d2a17-e030-4bb6-cec2-073b1479ae0b"
      },
      "source": [
        "# check the percentage of NA values in dataset\n",
        "\n",
        "df2.isnull().mean()"
      ],
      "execution_count": null,
      "outputs": [
        {
          "output_type": "execute_result",
          "data": {
            "text/plain": [
              "PassengerId    0.000000\n",
              "Survived       0.000000\n",
              "Pclass         0.000000\n",
              "Name           0.000000\n",
              "Sex            0.000000\n",
              "Age            0.198653\n",
              "SibSp          0.000000\n",
              "Parch          0.000000\n",
              "Ticket         0.000000\n",
              "Fare           0.000000\n",
              "Cabin          0.771044\n",
              "Embarked       0.002245\n",
              "dtype: float64"
            ]
          },
          "metadata": {},
          "execution_count": 15
        }
      ]
    },
    {
      "cell_type": "markdown",
      "metadata": {
        "id": "cdeQNN-YXrDo"
      },
      "source": [
        "### **Nota importante**\n",
        "\n",
        "- A imputação deve ser feita no conjunto de treinamento e, em seguida, propagada para o conjunto de teste. Isso significa que a média / mediana a ser usada para preencher os valores ausentes tanto no trem quanto no conjunto de teste deve ser extraída apenas do conjunto do Titanic. E isso é para evitar overfitting.\n",
        "\n",
        "- No conjunto de dados Titânic, podemos ver que `Age` contém 19,8653%,` Cabin` contém 77,10% e `Embarked` contém 0,22% de valores ausentes."
      ]
    },
    {
      "cell_type": "markdown",
      "metadata": {
        "id": "CiBVVEvsXrDo"
      },
      "source": [
        "### **Variável de imputação age**\n",
        "\n",
        "- `Age` é uma variável contínua. Primeiro, vamos verificar a distribuição das variáveis ​​`idade`."
      ]
    },
    {
      "cell_type": "code",
      "metadata": {
        "trusted": true,
        "colab": {
          "base_uri": "https://localhost:8080/",
          "height": 514
        },
        "id": "S2IWvPuOXrDo",
        "outputId": "aeae4866-e604-4f92-db98-cb252943c67c"
      },
      "source": [
        "# plotar a distribuição de idade para descobrir se eles são gaussianos ou enviesados.\n",
        "\n",
        "plt.figure(figsize=(12,8))\n",
        "fig = data2.Age.hist(bins=10)\n",
        "fig.set_ylabel('Number of passengers')\n",
        "fig.set_xlabel('Age')"
      ],
      "execution_count": null,
      "outputs": [
        {
          "output_type": "execute_result",
          "data": {
            "text/plain": [
              "Text(0.5, 0, 'Age')"
            ]
          },
          "metadata": {},
          "execution_count": 17
        },
        {
          "output_type": "display_data",
          "data": {
            "image/png": "[encoded data removed]",
            "text/plain": [
              "<Figure size 864x576 with 1 Axes>"
            ]
          },
          "metadata": {
            "needs_background": "light"
          }
        }
      ]
    },
    {
      "cell_type": "markdown",
      "metadata": {
        "id": "0h-aRM1cXrDp"
      },
      "source": [
        "- Podemos ver que a distribuição de `idade` está distorcida. Portanto, usaremos a imputação mediana."
      ]
    },
    {
      "cell_type": "code",
      "metadata": {
        "trusted": true,
        "colab": {
          "base_uri": "https://localhost:8080/"
        },
        "id": "_zLlDBBhXrDp",
        "outputId": "b6c0864f-9e04-48e8-adf8-ed19a0efaa03"
      },
      "source": [
        "# conjunto de dados separado em conjunto de treinamento e teste\n",
        "\n",
        "from sklearn.model_selection import train_test_split\n",
        "\n",
        "X_train, X_test, y_train, y_test = train_test_split(df2, df2.Survived, test_size=0.3, \n",
        "                                                    random_state=0)\n",
        "X_train.shape, X_test.shape"
      ],
      "execution_count": null,
      "outputs": [
        {
          "output_type": "execute_result",
          "data": {
            "text/plain": [
              "((623, 12), (268, 12))"
            ]
          },
          "metadata": {},
          "execution_count": 19
        }
      ]
    },
    {
      "cell_type": "code",
      "metadata": {
        "trusted": true,
        "colab": {
          "base_uri": "https://localhost:8080/"
        },
        "id": "F7Bq2-E8XrDq",
        "outputId": "e6d60a5c-d97e-4c21-cbf7-06f2c1d549ee"
      },
      "source": [
        "# calculate median of Age\n",
        "median = X_train.Age.median()\n",
        "median"
      ],
      "execution_count": null,
      "outputs": [
        {
          "output_type": "execute_result",
          "data": {
            "text/plain": [
              "29.0"
            ]
          },
          "metadata": {},
          "execution_count": 20
        }
      ]
    },
    {
      "cell_type": "code",
      "metadata": {
        "trusted": true,
        "id": "CC57ccXeXrDr"
      },
      "source": [
        "# impute missing values in age in train and test set\n",
        "\n",
        "for df in [X_train, X_test]:\n",
        "    df['Age'].fillna(median, inplace=True)"
      ],
      "execution_count": null,
      "outputs": []
    },
    {
      "cell_type": "markdown",
      "metadata": {
        "id": "YWAbDD8kXrDr"
      },
      "source": [
        "### **Verifique se há valores ausentes na variável `age`**"
      ]
    },
    {
      "cell_type": "code",
      "metadata": {
        "trusted": true,
        "colab": {
          "base_uri": "https://localhost:8080/"
        },
        "id": "MghtX0ZAXrDr",
        "outputId": "36d117b0-a99b-480b-b049-07d760f32216"
      },
      "source": [
        "X_train['Age'].isnull().sum()"
      ],
      "execution_count": null,
      "outputs": [
        {
          "output_type": "execute_result",
          "data": {
            "text/plain": [
              "0"
            ]
          },
          "metadata": {},
          "execution_count": 22
        }
      ]
    },
    {
      "cell_type": "code",
      "metadata": {
        "trusted": true,
        "colab": {
          "base_uri": "https://localhost:8080/"
        },
        "id": "6hCjVc8MXrDr",
        "outputId": "1bad56ab-82a6-40a3-df20-2ee0322c5cb1"
      },
      "source": [
        "X_test['Age'].isnull().sum()"
      ],
      "execution_count": null,
      "outputs": [
        {
          "output_type": "execute_result",
          "data": {
            "text/plain": [
              "0"
            ]
          },
          "metadata": {},
          "execution_count": 23
        }
      ]
    },
    {
      "cell_type": "markdown",
      "metadata": {
        "id": "cHGewAYNXrDs"
      },
      "source": [
        "- We can see that there are no missing values in `age` variable in the train and test set."
      ]
    },
    {
      "cell_type": "markdown",
      "metadata": {
        "id": "YdPqp_XvXrDs"
      },
      "source": [
        "- Podemos seguir na mesma linha e preencher os valores ausentes em `Cabine` e` Embarked` com o valor mais frequente.\n",
        "\n",
        "- **Imputação média / mediana / modo** é o método mais comum para imputar valores ausentes."
      ]
    },
    {
      "cell_type": "markdown",
      "metadata": {
        "id": "NZiSyNWDXrDs"
      },
      "source": [
        "## **3.3 Imputação de amostra aleatória** <a class=\"anchor\" id=\"3.3\"> </a>\n",
        "\n",
        "\n",
        "- A imputação de amostra aleatória refere-se à seleção aleatória de valores da variável para substituir os dados perdidos. Essa técnica preserva a distribuição de variáveis ​​e é adequada para dados ausentes aleatoriamente. Mas, precisamos levar em conta a aleatoriedade, definindo adequadamente uma semente. Caso contrário, a mesma observação ausente poderia ser substituída por valores diferentes em execuções de código diferentes e, portanto, levar a previsões de um modelo diferente. Isso não é desejável ao usar nossos modelos dentro de uma organização.\n",
        "\n",
        "- A substituição de NA por amostragem aleatória para variáveis ​​categóricas é exatamente o mesmo que para variáveis ​​numéricas.\n",
        "\n",
        "- A amostragem aleatória consiste em fazer uma observação aleatória do pool de observações disponíveis da variável, ou seja, do pool de categorias disponíveis, e usar esse valor extraído aleatoriamente para preencher o NA. Na amostragem aleatória, toma-se tantas observações aleatórias quanto os valores ausentes estiverem presentes na variável.\n",
        "\n",
        "- Por observações de amostragem aleatória das categorias presentes, garantimos que a frequência das diferentes categorias / rótulos dentro da variável é preservada.\n",
        "\n",
        "### Premissas\n",
        "\n",
        "- A imputação de amostra aleatória pressupõe que os dados estão ausentes completamente ao acaso (MCAR). Nesse caso, faz sentido substituir os valores perdidos por valores extraídos da distribuição da variável / frequência da categoria original.\n",
        " "
      ]
    },
    {
      "cell_type": "markdown",
      "metadata": {
        "id": "6XAa7ZhGXrDs"
      },
      "source": [
        "## **Random Sample imputation no dataset do Titânic**"
      ]
    },
    {
      "cell_type": "code",
      "metadata": {
        "trusted": true,
        "id": "PDwWh-QyXrDt"
      },
      "source": [
        "# make a copy of titanic dataset\n",
        "\n",
        "df3 = titanic.copy()"
      ],
      "execution_count": null,
      "outputs": []
    },
    {
      "cell_type": "code",
      "metadata": {
        "trusted": true,
        "colab": {
          "base_uri": "https://localhost:8080/"
        },
        "id": "xlosxHiZXrDt",
        "outputId": "831b9384-a385-4334-803d-578ebe8af804"
      },
      "source": [
        "# check the percentage of NA values\n",
        "\n",
        "df3.isnull().mean()"
      ],
      "execution_count": null,
      "outputs": [
        {
          "output_type": "execute_result",
          "data": {
            "text/plain": [
              "PassengerId    0.000000\n",
              "Survived       0.000000\n",
              "Pclass         0.000000\n",
              "Name           0.000000\n",
              "Sex            0.000000\n",
              "Age            0.198653\n",
              "SibSp          0.000000\n",
              "Parch          0.000000\n",
              "Ticket         0.000000\n",
              "Fare           0.000000\n",
              "Cabin          0.771044\n",
              "Embarked       0.002245\n",
              "dtype: float64"
            ]
          },
          "metadata": {},
          "execution_count": 65
        }
      ]
    },
    {
      "cell_type": "markdown",
      "metadata": {
        "id": "I9_Zg2dWXrDt"
      },
      "source": [
        "### **Nota importante**\n",
        "\n",
        "A imputação deve ser feita no conjunto de treinamento e, em seguida, propagada para o conjunto de teste. Isso significa que a amostra aleatória a ser usada para preencher os valores ausentes tanto no trem quanto no conjunto de teste deve ser extraída do conjunto de trem."
      ]
    },
    {
      "cell_type": "code",
      "metadata": {
        "trusted": true,
        "colab": {
          "base_uri": "https://localhost:8080/"
        },
        "id": "GzDWWOuLXrDt",
        "outputId": "ddfe6867-b67e-4b22-b8d6-11d1fc20cd5a"
      },
      "source": [
        "# conjunto de dados separado em conjunto de treinamento e teste\n",
        "\n",
        "X_train, X_test, y_train, y_test = train_test_split(df3, df3.Survived, test_size=0.3,\n",
        "                                                    random_state=0)\n",
        "X_train.shape, X_test.shape"
      ],
      "execution_count": null,
      "outputs": [
        {
          "output_type": "execute_result",
          "data": {
            "text/plain": [
              "((623, 12), (268, 12))"
            ]
          },
          "metadata": {},
          "execution_count": 66
        }
      ]
    },
    {
      "cell_type": "code",
      "metadata": {
        "trusted": true,
        "id": "c-gq6qVzXrDu"
      },
      "source": [
        "# escreva uma função para criar 3 variáveis ​​de Idade:\n",
        "\n",
        "def impute_na(df, variable, median):\n",
        "    \n",
        "    df[variable+'_median'] = df[variable].fillna(median)\n",
        "    df[variable+'_zero'] = df[variable].fillna(0)\n",
        "     \n",
        "    # amostragem aleatória\n",
        "    df[variable+'_random'] = df[variable]\n",
        "    \n",
        "    # extraia a amostra aleatória para preencher o na\n",
        "    random_sample = X_train[variable].dropna().sample(df[variable].isnull().sum(), random_state=0)\n",
        "    \n",
        "    # pandas precisa ter o mesmo índice para mesclar conjuntos de dados\n",
        "    random_sample.index = df[df[variable].isnull()].index\n",
        "    df.loc[df[variable].isnull(), variable+'_random'] = random_sample\n",
        "    \n",
        "    # preencher com amostra aleatória\n",
        "    df[variable+'_random_sample'] = df[variable].fillna(random_sample)"
      ],
      "execution_count": null,
      "outputs": []
    },
    {
      "cell_type": "code",
      "metadata": {
        "trusted": true,
        "id": "0KA3wy2oXrDu"
      },
      "source": [
        "impute_na(X_train, 'Age', median)"
      ],
      "execution_count": null,
      "outputs": []
    },
    {
      "cell_type": "code",
      "metadata": {
        "trusted": true,
        "id": "NrJn8qGqXrDu"
      },
      "source": [
        "impute_na(X_test, 'Age', median)"
      ],
      "execution_count": null,
      "outputs": []
    },
    {
      "cell_type": "code",
      "metadata": {
        "colab": {
          "base_uri": "https://localhost:8080/"
        },
        "id": "Wa1uyk2skcZp",
        "outputId": "861fdb72-eaac-49bb-b6dc-33c4eafd1520"
      },
      "source": [
        "# check the percentage of NA values\n",
        "\n",
        "X_train['Age'].isnull().sum()"
      ],
      "execution_count": null,
      "outputs": [
        {
          "output_type": "execute_result",
          "data": {
            "text/plain": [
              "121"
            ]
          },
          "metadata": {},
          "execution_count": 70
        }
      ]
    },
    {
      "cell_type": "markdown",
      "metadata": {
        "id": "a8yAapdrXrDu"
      },
      "source": [
        "## **3.4 Substituição por valor arbitrário** <a class=\"anchor\" id=\"3.4\"> </a>\n",
        "\n",
        "\n",
        "\n",
        "- A substituição por um valor arbitrário, como seus nomes indicam, refere-se à substituição de dados ausentes por qualquer valor determinado arbitrariamente, mas o mesmo valor para todos os dados ausentes. A substituição por um valor arbitrário é adequada se os dados não estiverem ausentes ao acaso ou se houver uma grande proporção de valores ausentes. Se todos os valores forem positivos, uma substituição típica é -1. Como alternativa, substituir por 999 ou -999 são práticas comuns. Precisamos antecipar que esses valores arbitrários não são uma ocorrência comum na variável. A substituição por valores arbitrários, entretanto, pode não ser adequada para modelos lineares, pois provavelmente distorcerá a distribuição das variáveis ​​e, portanto, as premissas do modelo podem não ser atendidas.\n",
        "\n",
        " \n",
        "- Para variáveis ​​categóricas, isso equivale a substituir as observações ausentes pelo rótulo “Perdidas”, que é um procedimento amplamente adotado.\n",
        "\n",
        "- Substituir o NA por valores artitrários deve ser usado quando houver razões para acreditar que o NA não está faltando ao acaso. Em situações como essa, não gostaríamos de substituir pela mediana ou pela média e, portanto, fazer com que NA se parecesse com a maioria de nossas observações.\n",
        "\n",
        "- Em vez disso, queremos sinalizá-los. Queremos capturar a falta de alguma forma."
      ]
    },
    {
      "cell_type": "markdown",
      "metadata": {
        "id": "Rn_uaoQPXrDv"
      },
      "source": [
        "## **Replacement by Arbitrary Value on Titanic dataset**"
      ]
    },
    {
      "cell_type": "code",
      "metadata": {
        "trusted": true,
        "id": "eDWlEgqHXrDv"
      },
      "source": [
        "# make a copy of titanic dataset\n",
        "\n",
        "data4 = titanic.copy()"
      ],
      "execution_count": null,
      "outputs": []
    },
    {
      "cell_type": "code",
      "metadata": {
        "trusted": true,
        "colab": {
          "base_uri": "https://localhost:8080/"
        },
        "id": "5pxnhWURXrDv",
        "outputId": "d6f6fcaf-d4fb-44d1-cd1d-0036ad1c5943"
      },
      "source": [
        "# let's separate into training and testing set\n",
        "\n",
        "X_train, X_test, y_train, y_test = train_test_split(data4, data4.Survived, test_size=0.3,\n",
        "                                                    random_state=0)\n",
        "X_train.shape, X_test.shape"
      ],
      "execution_count": null,
      "outputs": [
        {
          "output_type": "execute_result",
          "data": {
            "text/plain": [
              "((623, 12), (268, 12))"
            ]
          },
          "metadata": {},
          "execution_count": 85
        }
      ]
    },
    {
      "cell_type": "code",
      "metadata": {
        "trusted": true,
        "id": "1yaKCvvzXrDv"
      },
      "source": [
        "def impute_na(df, variable):\n",
        "    df[variable+'_zero'] = df[variable].fillna(0)\n",
        "    df[variable+'_hundred']= df[variable].fillna(100)"
      ],
      "execution_count": null,
      "outputs": []
    },
    {
      "cell_type": "code",
      "metadata": {
        "trusted": true,
        "id": "YU42heAKXrDv"
      },
      "source": [
        "# replace NA with the median value in the training and test set\n",
        "impute_na(X_train, 'Age')\n",
        "impute_na(X_test, 'Age')"
      ],
      "execution_count": null,
      "outputs": []
    },
    {
      "cell_type": "code",
      "metadata": {
        "colab": {
          "base_uri": "https://localhost:8080/"
        },
        "id": "14s40snCmknS",
        "outputId": "c4397b5a-482b-488a-83cc-6814c6aec4df"
      },
      "source": [
        "X_train['Age'].isnull().sum()"
      ],
      "execution_count": null,
      "outputs": [
        {
          "output_type": "execute_result",
          "data": {
            "text/plain": [
              "121"
            ]
          },
          "metadata": {},
          "execution_count": 88
        }
      ]
    },
    {
      "cell_type": "markdown",
      "metadata": {
        "trusted": true,
        "id": "DhpkELqKXrDw"
      },
      "source": [
        "- O valor arbitrário deve ser determinado para cada variável especificamente. Por exemplo, para este conjunto de dados, a escolha de substituir NA na idade por 0 ou 100 é válida, porque nenhum desses valores é frequente na distribuição original da variável e eles estão na cauda da distribuição.\n",
        "\n",
        "- No entanto, se substituirmos NA na tarifa, esses valores não serão mais válidos, porque podemos ver que a tarifa pode assumir valores de até 500. Portanto, podemos considerar o uso de 500 ou 1000 para substituir NA em vez de 100.\n",
        "\n",
        "- Podemos ver que isso é totalmente arbitrário. Mas, é usado na indústria. Os valores típicos escolhidos pelas empresas são -9999 ou 9999 ou semelhante."
      ]
    },
    {
      "cell_type": "markdown",
      "metadata": {
        "id": "RuPivgYmXrDw"
      },
      "source": [
        "## **3.5 Imputação de fim de distribuição** <a class=\"anchor\" id=\"3.5\"> </a>\n",
        "\n",
        "\n",
        "\n",
        "- Fim da imputação da cauda envolve a substituição dos valores perdidos por um valor na extremidade da cauda da distribuição da variável. Essa técnica é semelhante em essência à imputação por um valor arbitrário. No entanto, ao colocar o valor no final da distribuição, não precisamos olhar para cada distribuição de variável individualmente, pois o algoritmo faz isso automaticamente para nós. Essa técnica de imputação tende a funcionar bem com algoritmos baseados em árvore, mas pode afetar o desempenho dos modelos lineares, pois distorce a distribuição das variáveis.\n",
        "\n",
        "- Às vezes, temos motivos para suspeitar que os valores ausentes não estão ausentes ao acaso. E se o valor estiver faltando, deve haver uma razão para isso. Portanto, gostaríamos de capturar essas informações.\n",
        "\n",
        "- Adicionar uma variável adicional indicando falta pode ajudar nesta tarefa. No entanto, os valores ainda estão ausentes na variável original e precisam ser substituídos se planejarmos usar a variável no aprendizado de máquina.\n",
        "\n",
        "- Então, vamos substituir o NA, por valores que estão na extremidade da distribuição da variável.\n",
        "\n",
        "- O raciocínio é que, se o valor estiver ausente, deve ser por uma razão, portanto, não gostaríamos de substituir os valores ausentes pela média e fazer essa observação parecer a maioria de nossas observações. Em vez disso, queremos sinalizar essa observação como diferente e, portanto, atribuímos um valor que está na cauda da distribuição, onde as observações raramente são representadas na população."
      ]
    },
    {
      "cell_type": "markdown",
      "metadata": {
        "id": "OQYDJVIuXrDw"
      },
      "source": [
        "## **End of Distribution Imputation on Titanic dataset**"
      ]
    },
    {
      "cell_type": "code",
      "metadata": {
        "trusted": true,
        "id": "9rTXAzJGXrDw"
      },
      "source": [
        "# make a copy of titanic dataset\n",
        "\n",
        "data5 = titanic.copy()"
      ],
      "execution_count": null,
      "outputs": []
    },
    {
      "cell_type": "code",
      "metadata": {
        "trusted": true,
        "colab": {
          "base_uri": "https://localhost:8080/"
        },
        "id": "ykCXJy88XrDw",
        "outputId": "95e84109-f9d8-4b50-b7af-ef80792e0e0b"
      },
      "source": [
        "# let's separate into training and testing set\n",
        "\n",
        "X_train, X_test, y_train, y_test = train_test_split(data5, data5.Survived, test_size=0.3,\n",
        "                                                    random_state=0)\n",
        "X_train.shape, X_test.shape"
      ],
      "execution_count": null,
      "outputs": [
        {
          "output_type": "execute_result",
          "data": {
            "text/plain": [
              "((623, 12), (268, 12))"
            ]
          },
          "metadata": {},
          "execution_count": 77
        }
      ]
    },
    {
      "cell_type": "code",
      "metadata": {
        "trusted": true,
        "colab": {
          "base_uri": "https://localhost:8080/",
          "height": 500
        },
        "id": "4oLHLxDyXrDx",
        "outputId": "7b71824d-f859-488c-cfb6-0f848dab4edc"
      },
      "source": [
        "plt.figure(figsize=(12,8))\n",
        "X_train.Age.hist(bins=50)"
      ],
      "execution_count": null,
      "outputs": [
        {
          "output_type": "execute_result",
          "data": {
            "text/plain": [
              "<matplotlib.axes._subplots.AxesSubplot at 0x7fe50b877650>"
            ]
          },
          "metadata": {},
          "execution_count": 78
        },
        {
          "output_type": "display_data",
          "data": {
            "image/png": "[encoded data removed]",
            "text/plain": [
              "<Figure size 864x576 with 1 Axes>"
            ]
          },
          "metadata": {
            "needs_background": "light"
          }
        }
      ]
    },
    {
      "cell_type": "code",
      "metadata": {
        "trusted": true,
        "colab": {
          "base_uri": "https://localhost:8080/"
        },
        "id": "NfQTswXeXrDx",
        "outputId": "574811e3-bc1e-4abe-b659-86cb8aeb2861"
      },
      "source": [
        "# at far end of the distribution\n",
        "X_train.Age.mean()+3*X_train.Age.std()"
      ],
      "execution_count": null,
      "outputs": [
        {
          "output_type": "execute_result",
          "data": {
            "text/plain": [
              "73.43632005918366"
            ]
          },
          "metadata": {},
          "execution_count": 79
        }
      ]
    },
    {
      "cell_type": "code",
      "metadata": {
        "trusted": true,
        "colab": {
          "base_uri": "https://localhost:8080/",
          "height": 514
        },
        "id": "MxUygdivXrDx",
        "outputId": "66af73da-d591-47b3-9cdb-2b969565705f"
      },
      "source": [
        "# we can see that there are a few outliers for Age\n",
        "# according to its distribution, these outliers will be masked when we replace NA by values at the far end \n",
        "\n",
        "plt.figure(figsize=(12,8))\n",
        "sns.boxplot('Age', data=data5)"
      ],
      "execution_count": null,
      "outputs": [
        {
          "output_type": "execute_result",
          "data": {
            "text/plain": [
              "<matplotlib.axes._subplots.AxesSubplot at 0x7fe50b754ed0>"
            ]
          },
          "metadata": {},
          "execution_count": 80
        },
        {
          "output_type": "display_data",
          "data": {
            "image/png": "[encoded data removed]",
            "text/plain": [
              "<Figure size 864x576 with 1 Axes>"
            ]
          },
          "metadata": {
            "needs_background": "light"
          }
        }
      ]
    },
    {
      "cell_type": "code",
      "metadata": {
        "trusted": true,
        "id": "1aP0D4dBXrDy"
      },
      "source": [
        "def impute_na(df, variable, median, extreme):\n",
        "    df[variable+'_far_end'] = df[variable].fillna(extreme)\n",
        "    df[variable].fillna(median, inplace=True)"
      ],
      "execution_count": null,
      "outputs": []
    },
    {
      "cell_type": "code",
      "metadata": {
        "trusted": true,
        "id": "JRbsTnFXXrDy"
      },
      "source": [
        "# let's replace the NA with the median value in the training and testing sets\n",
        "impute_na(X_train, 'Age', X_train.Age.median(), X_train.Age.mean()+3*X_train.Age.std())\n",
        "impute_na(X_test, 'Age', X_train.Age.median(), X_train.Age.mean()+3*X_train.Age.std())"
      ],
      "execution_count": null,
      "outputs": []
    },
    {
      "cell_type": "code",
      "metadata": {
        "colab": {
          "base_uri": "https://localhost:8080/"
        },
        "id": "lnU_1aYNnZom",
        "outputId": "d848d874-b34f-4e91-be00-6ba17e1c3489"
      },
      "source": [
        "X_train['Age'].isnull().sum()"
      ],
      "execution_count": null,
      "outputs": [
        {
          "output_type": "execute_result",
          "data": {
            "text/plain": [
              "0"
            ]
          },
          "metadata": {},
          "execution_count": 83
        }
      ]
    },
    {
      "cell_type": "markdown",
      "metadata": {
        "id": "xkQt75QTXrDy"
      },
      "source": [
        "## **3.6 Missing Value Indicator** <a class=\"anchor\" id=\"3.6\"></a>\n",
        "\n",
        "\n",
        "\n",
        "- A técnica do indicador ausente envolve a adição de uma variável binária para indicar se o valor está ausente para uma determinada observação. Esta variável assume o valor 1 se a observação estiver faltando, ou 0 caso contrário. Uma coisa a notar é que ainda precisamos substituir os valores ausentes na variável original, o que tendemos a fazer com imputação de média ou mediana. Ao usar essas 2 técnicas juntas, se o valor ausente tiver poder preditivo, ele será capturado pelo indicador ausente e, se não tiver, será mascarado pela imputação de média / mediana.\n",
        "\n",
        "- Essas 2 técnicas combinadas tendem a funcionar bem com modelos lineares. No entanto, adicionar um indicador ausente expande o espaço de recursos e, como várias variáveis ​​tendem a ter valores ausentes para as mesmas observações, muitas dessas variáveis ​​binárias recém-criadas podem ser idênticas ou altamente correlacionadas."
      ]
    },
    {
      "cell_type": "markdown",
      "metadata": {
        "id": "IFoXxMVzXrDy"
      },
      "source": [
        "## **Missing Value Indicator no dataset do Titanic**"
      ]
    },
    {
      "cell_type": "code",
      "metadata": {
        "trusted": true,
        "id": "Q5njCXdcXrDy"
      },
      "source": [
        "# make a copy of titanic dataset\n",
        "\n",
        "data6 = titanic.copy()"
      ],
      "execution_count": null,
      "outputs": []
    },
    {
      "cell_type": "code",
      "metadata": {
        "trusted": true,
        "colab": {
          "base_uri": "https://localhost:8080/"
        },
        "id": "S9CB_EDZXrDy",
        "outputId": "8f294f79-c776-4fa4-9a06-e8d2f2b4ea0c"
      },
      "source": [
        "# let's separate into training and testing set\n",
        "\n",
        "X_train, X_test, y_train, y_test = train_test_split(data6, data6.Survived, test_size=0.3,\n",
        "                                                    random_state=0)\n",
        "X_train.shape, X_test.shape"
      ],
      "execution_count": null,
      "outputs": [
        {
          "output_type": "execute_result",
          "data": {
            "text/plain": [
              "((623, 12), (268, 12))"
            ]
          },
          "metadata": {},
          "execution_count": 90
        }
      ]
    },
    {
      "cell_type": "code",
      "metadata": {
        "trusted": true,
        "colab": {
          "base_uri": "https://localhost:8080/",
          "height": 270
        },
        "id": "gaMuFlgeXrDz",
        "outputId": "f73fd06d-5abb-4645-d135-0bae2754f76f"
      },
      "source": [
        "# create variable indicating missingness\n",
        "\n",
        "X_train['Age_NA'] = np.where(X_train['Age'].isnull(), 1, 0)\n",
        "X_test['Age_NA'] = np.where(X_test['Age'].isnull(), 1, 0)\n",
        "\n",
        "X_train.head()"
      ],
      "execution_count": null,
      "outputs": [
        {
          "output_type": "execute_result",
          "data": {
            "text/html": [
              "<div>\n",
              "<style scoped>\n",
              "    .dataframe tbody tr th:only-of-type {\n",
              "        vertical-align: middle;\n",
              "    }\n",
              "\n",
              "    .dataframe tbody tr th {\n",
              "        vertical-align: top;\n",
              "    }\n",
              "\n",
              "    .dataframe thead th {\n",
              "        text-align: right;\n",
              "    }\n",
              "</style>\n",
              "<table border=\"1\" class=\"dataframe\">\n",
              "  <thead>\n",
              "    <tr style=\"text-align: right;\">\n",
              "      <th></th>\n",
              "      <th>PassengerId</th>\n",
              "      <th>Survived</th>\n",
              "      <th>Pclass</th>\n",
              "      <th>Name</th>\n",
              "      <th>Sex</th>\n",
              "      <th>Age</th>\n",
              "      <th>SibSp</th>\n",
              "      <th>Parch</th>\n",
              "      <th>Ticket</th>\n",
              "      <th>Fare</th>\n",
              "      <th>Cabin</th>\n",
              "      <th>Embarked</th>\n",
              "      <th>Age_NA</th>\n",
              "    </tr>\n",
              "  </thead>\n",
              "  <tbody>\n",
              "    <tr>\n",
              "      <th>857</th>\n",
              "      <td>858</td>\n",
              "      <td>1</td>\n",
              "      <td>1</td>\n",
              "      <td>Daly, Mr. Peter Denis</td>\n",
              "      <td>male</td>\n",
              "      <td>51.0</td>\n",
              "      <td>0</td>\n",
              "      <td>0</td>\n",
              "      <td>113055</td>\n",
              "      <td>26.5500</td>\n",
              "      <td>E17</td>\n",
              "      <td>S</td>\n",
              "      <td>0</td>\n",
              "    </tr>\n",
              "    <tr>\n",
              "      <th>52</th>\n",
              "      <td>53</td>\n",
              "      <td>1</td>\n",
              "      <td>1</td>\n",
              "      <td>Harper, Mrs. Henry Sleeper (Myna Haxtun)</td>\n",
              "      <td>female</td>\n",
              "      <td>49.0</td>\n",
              "      <td>1</td>\n",
              "      <td>0</td>\n",
              "      <td>PC 17572</td>\n",
              "      <td>76.7292</td>\n",
              "      <td>D33</td>\n",
              "      <td>C</td>\n",
              "      <td>0</td>\n",
              "    </tr>\n",
              "    <tr>\n",
              "      <th>386</th>\n",
              "      <td>387</td>\n",
              "      <td>0</td>\n",
              "      <td>3</td>\n",
              "      <td>Goodwin, Master. Sidney Leonard</td>\n",
              "      <td>male</td>\n",
              "      <td>1.0</td>\n",
              "      <td>5</td>\n",
              "      <td>2</td>\n",
              "      <td>CA 2144</td>\n",
              "      <td>46.9000</td>\n",
              "      <td>NaN</td>\n",
              "      <td>S</td>\n",
              "      <td>0</td>\n",
              "    </tr>\n",
              "    <tr>\n",
              "      <th>124</th>\n",
              "      <td>125</td>\n",
              "      <td>0</td>\n",
              "      <td>1</td>\n",
              "      <td>White, Mr. Percival Wayland</td>\n",
              "      <td>male</td>\n",
              "      <td>54.0</td>\n",
              "      <td>0</td>\n",
              "      <td>1</td>\n",
              "      <td>35281</td>\n",
              "      <td>77.2875</td>\n",
              "      <td>D26</td>\n",
              "      <td>S</td>\n",
              "      <td>0</td>\n",
              "    </tr>\n",
              "    <tr>\n",
              "      <th>578</th>\n",
              "      <td>579</td>\n",
              "      <td>0</td>\n",
              "      <td>3</td>\n",
              "      <td>Caram, Mrs. Joseph (Maria Elias)</td>\n",
              "      <td>female</td>\n",
              "      <td>NaN</td>\n",
              "      <td>1</td>\n",
              "      <td>0</td>\n",
              "      <td>2689</td>\n",
              "      <td>14.4583</td>\n",
              "      <td>NaN</td>\n",
              "      <td>C</td>\n",
              "      <td>1</td>\n",
              "    </tr>\n",
              "  </tbody>\n",
              "</table>\n",
              "</div>"
            ],
            "text/plain": [
              "     PassengerId  Survived  Pclass                                      Name  \\\n",
              "857          858         1       1                    Daly, Mr. Peter Denis    \n",
              "52            53         1       1  Harper, Mrs. Henry Sleeper (Myna Haxtun)   \n",
              "386          387         0       3           Goodwin, Master. Sidney Leonard   \n",
              "124          125         0       1               White, Mr. Percival Wayland   \n",
              "578          579         0       3          Caram, Mrs. Joseph (Maria Elias)   \n",
              "\n",
              "        Sex   Age  SibSp  Parch    Ticket     Fare Cabin Embarked  Age_NA  \n",
              "857    male  51.0      0      0    113055  26.5500   E17        S       0  \n",
              "52   female  49.0      1      0  PC 17572  76.7292   D33        C       0  \n",
              "386    male   1.0      5      2   CA 2144  46.9000   NaN        S       0  \n",
              "124    male  54.0      0      1     35281  77.2875   D26        S       0  \n",
              "578  female   NaN      1      0      2689  14.4583   NaN        C       1  "
            ]
          },
          "metadata": {},
          "execution_count": 91
        }
      ]
    },
    {
      "cell_type": "code",
      "metadata": {
        "trusted": true,
        "colab": {
          "base_uri": "https://localhost:8080/"
        },
        "id": "P4i1r1-sXrDz",
        "outputId": "0b9de024-a49d-4a1a-8a3d-0f4a77b2c3de"
      },
      "source": [
        "# we can see that mean and median are similar. So I will replace with the median\n",
        "\n",
        "X_train.Age.mean(), X_train.Age.median()"
      ],
      "execution_count": null,
      "outputs": [
        {
          "output_type": "execute_result",
          "data": {
            "text/plain": [
              "(29.915338645418327, 29.0)"
            ]
          },
          "metadata": {},
          "execution_count": 92
        }
      ]
    },
    {
      "cell_type": "code",
      "metadata": {
        "trusted": true,
        "colab": {
          "base_uri": "https://localhost:8080/",
          "height": 558
        },
        "id": "NaNuyuw0XrDz",
        "outputId": "25a5438f-03ef-4e9e-f8e5-a6d6805cc0ff"
      },
      "source": [
        "# let's replace the NA with the median value in the training set\n",
        "X_train['Age'].fillna(X_train.Age.median(), inplace=True)\n",
        "X_test['Age'].fillna(X_train.Age.median(), inplace=True)\n",
        "\n",
        "X_train.head(10)"
      ],
      "execution_count": null,
      "outputs": [
        {
          "output_type": "execute_result",
          "data": {
            "text/html": [
              "<div>\n",
              "<style scoped>\n",
              "    .dataframe tbody tr th:only-of-type {\n",
              "        vertical-align: middle;\n",
              "    }\n",
              "\n",
              "    .dataframe tbody tr th {\n",
              "        vertical-align: top;\n",
              "    }\n",
              "\n",
              "    .dataframe thead th {\n",
              "        text-align: right;\n",
              "    }\n",
              "</style>\n",
              "<table border=\"1\" class=\"dataframe\">\n",
              "  <thead>\n",
              "    <tr style=\"text-align: right;\">\n",
              "      <th></th>\n",
              "      <th>PassengerId</th>\n",
              "      <th>Survived</th>\n",
              "      <th>Pclass</th>\n",
              "      <th>Name</th>\n",
              "      <th>Sex</th>\n",
              "      <th>Age</th>\n",
              "      <th>SibSp</th>\n",
              "      <th>Parch</th>\n",
              "      <th>Ticket</th>\n",
              "      <th>Fare</th>\n",
              "      <th>Cabin</th>\n",
              "      <th>Embarked</th>\n",
              "      <th>Age_NA</th>\n",
              "    </tr>\n",
              "  </thead>\n",
              "  <tbody>\n",
              "    <tr>\n",
              "      <th>857</th>\n",
              "      <td>858</td>\n",
              "      <td>1</td>\n",
              "      <td>1</td>\n",
              "      <td>Daly, Mr. Peter Denis</td>\n",
              "      <td>male</td>\n",
              "      <td>51.0</td>\n",
              "      <td>0</td>\n",
              "      <td>0</td>\n",
              "      <td>113055</td>\n",
              "      <td>26.5500</td>\n",
              "      <td>E17</td>\n",
              "      <td>S</td>\n",
              "      <td>0</td>\n",
              "    </tr>\n",
              "    <tr>\n",
              "      <th>52</th>\n",
              "      <td>53</td>\n",
              "      <td>1</td>\n",
              "      <td>1</td>\n",
              "      <td>Harper, Mrs. Henry Sleeper (Myna Haxtun)</td>\n",
              "      <td>female</td>\n",
              "      <td>49.0</td>\n",
              "      <td>1</td>\n",
              "      <td>0</td>\n",
              "      <td>PC 17572</td>\n",
              "      <td>76.7292</td>\n",
              "      <td>D33</td>\n",
              "      <td>C</td>\n",
              "      <td>0</td>\n",
              "    </tr>\n",
              "    <tr>\n",
              "      <th>386</th>\n",
              "      <td>387</td>\n",
              "      <td>0</td>\n",
              "      <td>3</td>\n",
              "      <td>Goodwin, Master. Sidney Leonard</td>\n",
              "      <td>male</td>\n",
              "      <td>1.0</td>\n",
              "      <td>5</td>\n",
              "      <td>2</td>\n",
              "      <td>CA 2144</td>\n",
              "      <td>46.9000</td>\n",
              "      <td>NaN</td>\n",
              "      <td>S</td>\n",
              "      <td>0</td>\n",
              "    </tr>\n",
              "    <tr>\n",
              "      <th>124</th>\n",
              "      <td>125</td>\n",
              "      <td>0</td>\n",
              "      <td>1</td>\n",
              "      <td>White, Mr. Percival Wayland</td>\n",
              "      <td>male</td>\n",
              "      <td>54.0</td>\n",
              "      <td>0</td>\n",
              "      <td>1</td>\n",
              "      <td>35281</td>\n",
              "      <td>77.2875</td>\n",
              "      <td>D26</td>\n",
              "      <td>S</td>\n",
              "      <td>0</td>\n",
              "    </tr>\n",
              "    <tr>\n",
              "      <th>578</th>\n",
              "      <td>579</td>\n",
              "      <td>0</td>\n",
              "      <td>3</td>\n",
              "      <td>Caram, Mrs. Joseph (Maria Elias)</td>\n",
              "      <td>female</td>\n",
              "      <td>29.0</td>\n",
              "      <td>1</td>\n",
              "      <td>0</td>\n",
              "      <td>2689</td>\n",
              "      <td>14.4583</td>\n",
              "      <td>NaN</td>\n",
              "      <td>C</td>\n",
              "      <td>1</td>\n",
              "    </tr>\n",
              "    <tr>\n",
              "      <th>549</th>\n",
              "      <td>550</td>\n",
              "      <td>1</td>\n",
              "      <td>2</td>\n",
              "      <td>Davies, Master. John Morgan Jr</td>\n",
              "      <td>male</td>\n",
              "      <td>8.0</td>\n",
              "      <td>1</td>\n",
              "      <td>1</td>\n",
              "      <td>C.A. 33112</td>\n",
              "      <td>36.7500</td>\n",
              "      <td>NaN</td>\n",
              "      <td>S</td>\n",
              "      <td>0</td>\n",
              "    </tr>\n",
              "    <tr>\n",
              "      <th>118</th>\n",
              "      <td>119</td>\n",
              "      <td>0</td>\n",
              "      <td>1</td>\n",
              "      <td>Baxter, Mr. Quigg Edmond</td>\n",
              "      <td>male</td>\n",
              "      <td>24.0</td>\n",
              "      <td>0</td>\n",
              "      <td>1</td>\n",
              "      <td>PC 17558</td>\n",
              "      <td>247.5208</td>\n",
              "      <td>B58 B60</td>\n",
              "      <td>C</td>\n",
              "      <td>0</td>\n",
              "    </tr>\n",
              "    <tr>\n",
              "      <th>12</th>\n",
              "      <td>13</td>\n",
              "      <td>0</td>\n",
              "      <td>3</td>\n",
              "      <td>Saundercock, Mr. William Henry</td>\n",
              "      <td>male</td>\n",
              "      <td>20.0</td>\n",
              "      <td>0</td>\n",
              "      <td>0</td>\n",
              "      <td>A/5. 2151</td>\n",
              "      <td>8.0500</td>\n",
              "      <td>NaN</td>\n",
              "      <td>S</td>\n",
              "      <td>0</td>\n",
              "    </tr>\n",
              "    <tr>\n",
              "      <th>157</th>\n",
              "      <td>158</td>\n",
              "      <td>0</td>\n",
              "      <td>3</td>\n",
              "      <td>Corn, Mr. Harry</td>\n",
              "      <td>male</td>\n",
              "      <td>30.0</td>\n",
              "      <td>0</td>\n",
              "      <td>0</td>\n",
              "      <td>SOTON/OQ 392090</td>\n",
              "      <td>8.0500</td>\n",
              "      <td>NaN</td>\n",
              "      <td>S</td>\n",
              "      <td>0</td>\n",
              "    </tr>\n",
              "    <tr>\n",
              "      <th>127</th>\n",
              "      <td>128</td>\n",
              "      <td>1</td>\n",
              "      <td>3</td>\n",
              "      <td>Madsen, Mr. Fridtjof Arne</td>\n",
              "      <td>male</td>\n",
              "      <td>24.0</td>\n",
              "      <td>0</td>\n",
              "      <td>0</td>\n",
              "      <td>C 17369</td>\n",
              "      <td>7.1417</td>\n",
              "      <td>NaN</td>\n",
              "      <td>S</td>\n",
              "      <td>0</td>\n",
              "    </tr>\n",
              "  </tbody>\n",
              "</table>\n",
              "</div>"
            ],
            "text/plain": [
              "     PassengerId  Survived  Pclass                                      Name  \\\n",
              "857          858         1       1                    Daly, Mr. Peter Denis    \n",
              "52            53         1       1  Harper, Mrs. Henry Sleeper (Myna Haxtun)   \n",
              "386          387         0       3           Goodwin, Master. Sidney Leonard   \n",
              "124          125         0       1               White, Mr. Percival Wayland   \n",
              "578          579         0       3          Caram, Mrs. Joseph (Maria Elias)   \n",
              "549          550         1       2            Davies, Master. John Morgan Jr   \n",
              "118          119         0       1                  Baxter, Mr. Quigg Edmond   \n",
              "12            13         0       3            Saundercock, Mr. William Henry   \n",
              "157          158         0       3                           Corn, Mr. Harry   \n",
              "127          128         1       3                 Madsen, Mr. Fridtjof Arne   \n",
              "\n",
              "        Sex   Age  SibSp  Parch           Ticket      Fare    Cabin Embarked  \\\n",
              "857    male  51.0      0      0           113055   26.5500      E17        S   \n",
              "52   female  49.0      1      0         PC 17572   76.7292      D33        C   \n",
              "386    male   1.0      5      2          CA 2144   46.9000      NaN        S   \n",
              "124    male  54.0      0      1            35281   77.2875      D26        S   \n",
              "578  female  29.0      1      0             2689   14.4583      NaN        C   \n",
              "549    male   8.0      1      1       C.A. 33112   36.7500      NaN        S   \n",
              "118    male  24.0      0      1         PC 17558  247.5208  B58 B60        C   \n",
              "12     male  20.0      0      0        A/5. 2151    8.0500      NaN        S   \n",
              "157    male  30.0      0      0  SOTON/OQ 392090    8.0500      NaN        S   \n",
              "127    male  24.0      0      0          C 17369    7.1417      NaN        S   \n",
              "\n",
              "     Age_NA  \n",
              "857       0  \n",
              "52        0  \n",
              "386       0  \n",
              "124       0  \n",
              "578       1  \n",
              "549       0  \n",
              "118       0  \n",
              "12        0  \n",
              "157       0  \n",
              "127       0  "
            ]
          },
          "metadata": {},
          "execution_count": 93
        }
      ]
    },
    {
      "cell_type": "markdown",
      "metadata": {
        "trusted": true,
        "id": "zdphWB0xXrDz"
      },
      "source": [
        "- We can see that another variable `Age_NA` is created to capture the missingness."
      ]
    },
    {
      "cell_type": "markdown",
      "metadata": {
        "id": "HJpnZlnZXrDz"
      },
      "source": [
        "## **Conclusão - Quando usar cada método de imputação**\n",
        "\n",
        "\n",
        "- Se os valores ausentes forem **inferiores a 5%** da variável, opte pela imputação de **média / mediana ou substituição aleatória da amostra**. Imputa pela categoria **mais frequente** se os valores ausentes forem **mais do que 5% da variável**. Efetue a **imputação de média / mediana + adição** de uma **variável binária** adicional para capturar a falta, adicione um rótulo 'ausente' nas variáveis ​​categóricas.\n",
        "\n",
        "- Se o **número de NA** em uma variável for **pequeno**, é improvável que tenham um forte impacto na variável / alvo que você está tentando prever. Portanto, tratá-los de maneira especial certamente adicionará ruído às variáveis. Portanto, é mais útil substituir por média / amostra aleatória para preservar a distribuição das variáveis.\n",
        "\n",
        "- Se a variável / alvo que você está tentando prever for altamente desequilibrada, então pode ser que este pequeno número de NA seja realmente informativo.\n",
        "\n",
        "#### Exceções\n",
        "\n",
        "- Se suspeitarmos que NAs não estão faltando aleatoriamente e não quisermos atribuir a ocorrência mais comum a NA, e se não quisermos aumentar o espaço de recursos adicionando uma variável adicional para indicar falta - nesses casos, substitua por um valor na extremidade da distribuição ou um valor arbitrário."
      ]
    },
    {
      "cell_type": "markdown",
      "metadata": {
        "id": "bW8xIo3WXrD0"
      },
      "source": [
        "# **4. Codificação categórica - Categorical Encoding** <a class=\"anchor\" id=\"4\"> </a>\n",
        "\n",
        "\n",
        "\n",
        "- Dados categóricos são dados que usam apenas um número limitado de valores.\n",
        "\n",
        "- Por exemplo, se você respondeu a uma pesquisa sobre qual marca de carro eles possuem, o resultado seria categórico (porque as respostas seriam coisas como Honda, Toyota, Ford, Nenhum, etc.). As respostas se enquadram em um conjunto fixo de categorias.\n",
        "\n",
        "- Você obterá um erro se tentar conectar essas variáveis ​​na maioria dos modelos de aprendizado de máquina em Python sem \"codificá-los\" primeiro. Aqui, mostraremos o método mais popular para codificar variáveis ​​categóricas.\n",
        "\n",
        "\n",
        "- Codificação de variável categórica é um termo amplo para técnicas coletivas usadas para transformar strings ou rótulos de variáveis ​​categóricas em números. Existem várias técnicas sob este método:\n",
        "\n",
        "  1. One-Hot encoding (OHE) - Codificação One-Hot (OHE)\n",
        "  \n",
        "  2. Ordinal encoding - Codificação ordinal\n",
        "\n",
        "  3. Count and Frequency encoding - Codificação de contagem e frequência\n",
        "\n",
        "  4. Target encoding / Mean encoding -  Codificação alvo / codificação média \n",
        "\n",
        "  5. Weight of Evidence - Peso da Prova\n",
        "\n",
        "  6. Rare label encoding - Codificação de rótulo raro"
      ]
    },
    {
      "cell_type": "markdown",
      "metadata": {
        "id": "N6xfr-L2XrD0"
      },
      "source": [
        "## **4.1 One-Hot Encoding (OHE)** <a class=\"anchor\" id=\"4.1\"></a>\n",
        "\n",
        " \n",
        "- OHE é a abordagem padrão para codificar dados categóricos.\n",
        "\n",
        "- Uma codificação quente (OHE) cria uma variável binária para cada uma das diferentes categorias presentes em uma variável.\n",
        "\n",
        "Essas variáveis ​​binárias recebem 1 se a observação mostrar uma determinada categoria ou 0 caso contrário. OHE é adequado para modelos lineares. Porém, o OHE expande o espaço de recursos de maneira bastante dramática se as variáveis ​​categóricas forem altamente cardinais ou se houver muitas variáveis ​​categóricas. Além disso, muitas das variáveis ​​dummy derivadas podem ser altamente correlacionadas.\n",
        "\n",
        "- OHE, consiste em substituir a variável categórica por diferentes variáveis ​​booleanas, que assumem valor 0 ou 1, para indicar se uma determinada categoria / rótulo da variável estava presente para aquela observação. Cada uma das variáveis ​​booleanas também são conhecidas como variáveis ​​dummy ou variáveis ​​binárias.\n",
        "\n",
        "- For example, from the categorical variable \"Gender\", with labels 'female' and 'male', we can generate the boolean variable \"female\", which takes 1 if the person is female or 0 otherwise. We can also generate the variable male, which takes 1 if the person is \"male\" and 0 otherwise."
      ]
    },
    {
      "cell_type": "code",
      "metadata": {
        "trusted": true,
        "id": "NKXlN18VXrD0"
      },
      "source": [
        "# make a copy of titanic dataset\n",
        "\n",
        "data7 = titanic.copy()"
      ],
      "execution_count": null,
      "outputs": []
    },
    {
      "cell_type": "code",
      "metadata": {
        "trusted": true,
        "colab": {
          "base_uri": "https://localhost:8080/"
        },
        "id": "jEO788joXrD0",
        "outputId": "9f8709da-b1e0-4e99-a350-bef756f05231"
      },
      "source": [
        "data7['Sex'].head()"
      ],
      "execution_count": null,
      "outputs": [
        {
          "output_type": "execute_result",
          "data": {
            "text/plain": [
              "0      male\n",
              "1    female\n",
              "2    female\n",
              "3    female\n",
              "4      male\n",
              "Name: Sex, dtype: object"
            ]
          },
          "metadata": {},
          "execution_count": 95
        }
      ]
    },
    {
      "cell_type": "code",
      "metadata": {
        "trusted": true,
        "colab": {
          "base_uri": "https://localhost:8080/",
          "height": 203
        },
        "id": "JiivqWD4XrD0",
        "outputId": "3cb177a0-9682-4421-f24e-b085988b04c0"
      },
      "source": [
        "# one hot encoding\n",
        "\n",
        "pd.get_dummies(data7['Sex']).head()"
      ],
      "execution_count": null,
      "outputs": [
        {
          "output_type": "execute_result",
          "data": {
            "text/html": [
              "<div>\n",
              "<style scoped>\n",
              "    .dataframe tbody tr th:only-of-type {\n",
              "        vertical-align: middle;\n",
              "    }\n",
              "\n",
              "    .dataframe tbody tr th {\n",
              "        vertical-align: top;\n",
              "    }\n",
              "\n",
              "    .dataframe thead th {\n",
              "        text-align: right;\n",
              "    }\n",
              "</style>\n",
              "<table border=\"1\" class=\"dataframe\">\n",
              "  <thead>\n",
              "    <tr style=\"text-align: right;\">\n",
              "      <th></th>\n",
              "      <th>female</th>\n",
              "      <th>male</th>\n",
              "    </tr>\n",
              "  </thead>\n",
              "  <tbody>\n",
              "    <tr>\n",
              "      <th>0</th>\n",
              "      <td>0</td>\n",
              "      <td>1</td>\n",
              "    </tr>\n",
              "    <tr>\n",
              "      <th>1</th>\n",
              "      <td>1</td>\n",
              "      <td>0</td>\n",
              "    </tr>\n",
              "    <tr>\n",
              "      <th>2</th>\n",
              "      <td>1</td>\n",
              "      <td>0</td>\n",
              "    </tr>\n",
              "    <tr>\n",
              "      <th>3</th>\n",
              "      <td>1</td>\n",
              "      <td>0</td>\n",
              "    </tr>\n",
              "    <tr>\n",
              "      <th>4</th>\n",
              "      <td>0</td>\n",
              "      <td>1</td>\n",
              "    </tr>\n",
              "  </tbody>\n",
              "</table>\n",
              "</div>"
            ],
            "text/plain": [
              "   female  male\n",
              "0       0     1\n",
              "1       1     0\n",
              "2       1     0\n",
              "3       1     0\n",
              "4       0     1"
            ]
          },
          "metadata": {},
          "execution_count": 96
        }
      ]
    },
    {
      "cell_type": "code",
      "metadata": {
        "trusted": true,
        "colab": {
          "base_uri": "https://localhost:8080/",
          "height": 203
        },
        "id": "Ax8adSQYXrD0",
        "outputId": "ac8bea2a-c157-487c-ff07-92ff889882ee"
      },
      "source": [
        "# for better visualisation\n",
        "pd.concat([data7['Sex'], pd.get_dummies(data7['Sex'])], axis=1).head()"
      ],
      "execution_count": null,
      "outputs": [
        {
          "output_type": "execute_result",
          "data": {
            "text/html": [
              "<div>\n",
              "<style scoped>\n",
              "    .dataframe tbody tr th:only-of-type {\n",
              "        vertical-align: middle;\n",
              "    }\n",
              "\n",
              "    .dataframe tbody tr th {\n",
              "        vertical-align: top;\n",
              "    }\n",
              "\n",
              "    .dataframe thead th {\n",
              "        text-align: right;\n",
              "    }\n",
              "</style>\n",
              "<table border=\"1\" class=\"dataframe\">\n",
              "  <thead>\n",
              "    <tr style=\"text-align: right;\">\n",
              "      <th></th>\n",
              "      <th>Sex</th>\n",
              "      <th>female</th>\n",
              "      <th>male</th>\n",
              "    </tr>\n",
              "  </thead>\n",
              "  <tbody>\n",
              "    <tr>\n",
              "      <th>0</th>\n",
              "      <td>male</td>\n",
              "      <td>0</td>\n",
              "      <td>1</td>\n",
              "    </tr>\n",
              "    <tr>\n",
              "      <th>1</th>\n",
              "      <td>female</td>\n",
              "      <td>1</td>\n",
              "      <td>0</td>\n",
              "    </tr>\n",
              "    <tr>\n",
              "      <th>2</th>\n",
              "      <td>female</td>\n",
              "      <td>1</td>\n",
              "      <td>0</td>\n",
              "    </tr>\n",
              "    <tr>\n",
              "      <th>3</th>\n",
              "      <td>female</td>\n",
              "      <td>1</td>\n",
              "      <td>0</td>\n",
              "    </tr>\n",
              "    <tr>\n",
              "      <th>4</th>\n",
              "      <td>male</td>\n",
              "      <td>0</td>\n",
              "      <td>1</td>\n",
              "    </tr>\n",
              "  </tbody>\n",
              "</table>\n",
              "</div>"
            ],
            "text/plain": [
              "      Sex  female  male\n",
              "0    male       0     1\n",
              "1  female       1     0\n",
              "2  female       1     0\n",
              "3  female       1     0\n",
              "4    male       0     1"
            ]
          },
          "metadata": {},
          "execution_count": 97
        }
      ]
    },
    {
      "cell_type": "markdown",
      "metadata": {
        "id": "DyMiAR9vXrD4"
      },
      "source": [
        "- Podemos ver que precisamos apenas de 1 das 2 variáveis ​​dummy para representar a variável categórica original `Sexo`. Qualquer um dos 2 fará o trabalho, e não importa qual deles selecionarmos, pois eles são equivalentes. Portanto, para codificar uma variável categórica com 2 rótulos, precisamos apenas de 1 variável fictícia.\n",
        "\n",
        "- Para estender este conceito, para codificar variáveis ​​categóricas com rótulos k, precisamos de k-1 variáveis ​​fictícias. Podemos realizar essa tarefa da seguinte maneira:"
      ]
    },
    {
      "cell_type": "code",
      "metadata": {
        "trusted": true,
        "colab": {
          "base_uri": "https://localhost:8080/",
          "height": 203
        },
        "id": "fXfeoq34XrD4",
        "outputId": "6994a878-a5a7-408d-dda7-b9a89fe860f0"
      },
      "source": [
        "# obtaining k-1 labels\n",
        "pd.get_dummies(data7['Sex'], drop_first=True).head()"
      ],
      "execution_count": null,
      "outputs": [
        {
          "output_type": "execute_result",
          "data": {
            "text/html": [
              "<div>\n",
              "<style scoped>\n",
              "    .dataframe tbody tr th:only-of-type {\n",
              "        vertical-align: middle;\n",
              "    }\n",
              "\n",
              "    .dataframe tbody tr th {\n",
              "        vertical-align: top;\n",
              "    }\n",
              "\n",
              "    .dataframe thead th {\n",
              "        text-align: right;\n",
              "    }\n",
              "</style>\n",
              "<table border=\"1\" class=\"dataframe\">\n",
              "  <thead>\n",
              "    <tr style=\"text-align: right;\">\n",
              "      <th></th>\n",
              "      <th>male</th>\n",
              "    </tr>\n",
              "  </thead>\n",
              "  <tbody>\n",
              "    <tr>\n",
              "      <th>0</th>\n",
              "      <td>1</td>\n",
              "    </tr>\n",
              "    <tr>\n",
              "      <th>1</th>\n",
              "      <td>0</td>\n",
              "    </tr>\n",
              "    <tr>\n",
              "      <th>2</th>\n",
              "      <td>0</td>\n",
              "    </tr>\n",
              "    <tr>\n",
              "      <th>3</th>\n",
              "      <td>0</td>\n",
              "    </tr>\n",
              "    <tr>\n",
              "      <th>4</th>\n",
              "      <td>1</td>\n",
              "    </tr>\n",
              "  </tbody>\n",
              "</table>\n",
              "</div>"
            ],
            "text/plain": [
              "   male\n",
              "0     1\n",
              "1     0\n",
              "2     0\n",
              "3     0\n",
              "4     1"
            ]
          },
          "metadata": {},
          "execution_count": 98
        }
      ]
    },
    {
      "cell_type": "code",
      "metadata": {
        "trusted": true,
        "colab": {
          "base_uri": "https://localhost:8080/"
        },
        "id": "LhWMua5IXrD4",
        "outputId": "3ad8159d-0634-45fa-d008-8b775002715b"
      },
      "source": [
        "# Let's now look at an example with more than 2 labels\n",
        "\n",
        "data7['Embarked'].head()"
      ],
      "execution_count": null,
      "outputs": [
        {
          "output_type": "execute_result",
          "data": {
            "text/plain": [
              "0    S\n",
              "1    C\n",
              "2    S\n",
              "3    S\n",
              "4    S\n",
              "Name: Embarked, dtype: object"
            ]
          },
          "metadata": {},
          "execution_count": 99
        }
      ]
    },
    {
      "cell_type": "code",
      "metadata": {
        "trusted": true,
        "colab": {
          "base_uri": "https://localhost:8080/"
        },
        "id": "bCL2f7MCXrD5",
        "outputId": "4ac0f98b-ecaa-426e-cfb2-fe0b80d0b016"
      },
      "source": [
        "# check the number of different labels\n",
        "data7.Embarked.unique()"
      ],
      "execution_count": null,
      "outputs": [
        {
          "output_type": "execute_result",
          "data": {
            "text/plain": [
              "array(['S', 'C', 'Q', nan], dtype=object)"
            ]
          },
          "metadata": {},
          "execution_count": 100
        }
      ]
    },
    {
      "cell_type": "code",
      "metadata": {
        "trusted": true,
        "colab": {
          "base_uri": "https://localhost:8080/",
          "height": 203
        },
        "id": "ixBrlEk4XrD5",
        "outputId": "560a4e73-f361-4cbc-f777-5c31a5165f64"
      },
      "source": [
        "# get whole set of dummy variables\n",
        "\n",
        "pd.get_dummies(data7['Embarked']).head()"
      ],
      "execution_count": null,
      "outputs": [
        {
          "output_type": "execute_result",
          "data": {
            "text/html": [
              "<div>\n",
              "<style scoped>\n",
              "    .dataframe tbody tr th:only-of-type {\n",
              "        vertical-align: middle;\n",
              "    }\n",
              "\n",
              "    .dataframe tbody tr th {\n",
              "        vertical-align: top;\n",
              "    }\n",
              "\n",
              "    .dataframe thead th {\n",
              "        text-align: right;\n",
              "    }\n",
              "</style>\n",
              "<table border=\"1\" class=\"dataframe\">\n",
              "  <thead>\n",
              "    <tr style=\"text-align: right;\">\n",
              "      <th></th>\n",
              "      <th>C</th>\n",
              "      <th>Q</th>\n",
              "      <th>S</th>\n",
              "    </tr>\n",
              "  </thead>\n",
              "  <tbody>\n",
              "    <tr>\n",
              "      <th>0</th>\n",
              "      <td>0</td>\n",
              "      <td>0</td>\n",
              "      <td>1</td>\n",
              "    </tr>\n",
              "    <tr>\n",
              "      <th>1</th>\n",
              "      <td>1</td>\n",
              "      <td>0</td>\n",
              "      <td>0</td>\n",
              "    </tr>\n",
              "    <tr>\n",
              "      <th>2</th>\n",
              "      <td>0</td>\n",
              "      <td>0</td>\n",
              "      <td>1</td>\n",
              "    </tr>\n",
              "    <tr>\n",
              "      <th>3</th>\n",
              "      <td>0</td>\n",
              "      <td>0</td>\n",
              "      <td>1</td>\n",
              "    </tr>\n",
              "    <tr>\n",
              "      <th>4</th>\n",
              "      <td>0</td>\n",
              "      <td>0</td>\n",
              "      <td>1</td>\n",
              "    </tr>\n",
              "  </tbody>\n",
              "</table>\n",
              "</div>"
            ],
            "text/plain": [
              "   C  Q  S\n",
              "0  0  0  1\n",
              "1  1  0  0\n",
              "2  0  0  1\n",
              "3  0  0  1\n",
              "4  0  0  1"
            ]
          },
          "metadata": {},
          "execution_count": 101
        }
      ]
    },
    {
      "cell_type": "code",
      "metadata": {
        "trusted": true,
        "colab": {
          "base_uri": "https://localhost:8080/",
          "height": 203
        },
        "id": "wmOPpWuNXrD5",
        "outputId": "aaae9de3-c434-401a-bef9-8a9cb849c572"
      },
      "source": [
        "# get k-1 dummy variables\n",
        "\n",
        "pd.get_dummies(data7['Embarked'], drop_first=True).head()"
      ],
      "execution_count": null,
      "outputs": [
        {
          "output_type": "execute_result",
          "data": {
            "text/html": [
              "<div>\n",
              "<style scoped>\n",
              "    .dataframe tbody tr th:only-of-type {\n",
              "        vertical-align: middle;\n",
              "    }\n",
              "\n",
              "    .dataframe tbody tr th {\n",
              "        vertical-align: top;\n",
              "    }\n",
              "\n",
              "    .dataframe thead th {\n",
              "        text-align: right;\n",
              "    }\n",
              "</style>\n",
              "<table border=\"1\" class=\"dataframe\">\n",
              "  <thead>\n",
              "    <tr style=\"text-align: right;\">\n",
              "      <th></th>\n",
              "      <th>Q</th>\n",
              "      <th>S</th>\n",
              "    </tr>\n",
              "  </thead>\n",
              "  <tbody>\n",
              "    <tr>\n",
              "      <th>0</th>\n",
              "      <td>0</td>\n",
              "      <td>1</td>\n",
              "    </tr>\n",
              "    <tr>\n",
              "      <th>1</th>\n",
              "      <td>0</td>\n",
              "      <td>0</td>\n",
              "    </tr>\n",
              "    <tr>\n",
              "      <th>2</th>\n",
              "      <td>0</td>\n",
              "      <td>1</td>\n",
              "    </tr>\n",
              "    <tr>\n",
              "      <th>3</th>\n",
              "      <td>0</td>\n",
              "      <td>1</td>\n",
              "    </tr>\n",
              "    <tr>\n",
              "      <th>4</th>\n",
              "      <td>0</td>\n",
              "      <td>1</td>\n",
              "    </tr>\n",
              "  </tbody>\n",
              "</table>\n",
              "</div>"
            ],
            "text/plain": [
              "   Q  S\n",
              "0  0  1\n",
              "1  0  0\n",
              "2  0  1\n",
              "3  0  1\n",
              "4  0  1"
            ]
          },
          "metadata": {},
          "execution_count": 102
        }
      ]
    },
    {
      "cell_type": "markdown",
      "metadata": {
        "id": "ZXhgJVgkXrD5"
      },
      "source": [
        "- A API Scikt-Learn fornece uma classe para [codificação one-hot] (https://scikit-learn.org/stable/modules/generated/sklearn.preprocessing.OneHotEncoder.html).\n",
        "\n",
        "- Além disso, apresentarei a você uma ampla gama de opções de codificação do [pacote Category Encoders] (https://contrib.scikit-learn.org/categorical-encoding/) para uso com scikit-learn em Python.\n",
        "\n",
        "- Ambas as opções acima também podem ser usadas para One-Hot Encoding."
      ]
    },
    {
      "cell_type": "markdown",
      "metadata": {
        "id": "BIqmEQ8dXrD6"
      },
      "source": [
        "## **Nota importante sobre OHE**\n",
        "\n",
        "- Scikit-learn's [one hot encoder class] (https://scikit-learn.org/stable/modules/generated/sklearn.preprocessing.OneHotEncoder.html#sklearn.preprocessing.OneHotEncoder) aceita apenas valores numéricos categóricos. Portanto, qualquer valor de tipo de string deve ser codificado por rótulo primeiro, antes de um codificado a quente.\n",
        "\n",
        "- No exemplo titânico, o gênero dos passageiros deve ser codificado por rótulo primeiro, antes de ser codificado um hot usando a classe de codificador one hot do Scikit-learn."
      ]
    },
    {
      "cell_type": "markdown",
      "metadata": {
        "id": "ro41tCL0XrD6"
      },
      "source": [
        "## **4.2 Ordinal encoding** <a class=\"anchor\" id=\"4.2\"></a>\n",
        "\n",
        "\n",
        "\n",
        "- Variáveis ​​categóricas cujas categorias podem ser ordenadas de forma significativa são chamadas ordinais. Por exemplo:\n",
        "\n",
        "  - Nota do aluno em um exame (A, B, C ou Reprovado).\n",
        "  - Os dias da semana podem ser ordinais com segunda-feira = 1 e domingo = 7.\n",
        "  - Nível educacional, com as categorias: Ensino fundamental, Ensino médio, Graduação universitária, Doutorado classificados de 1 a 4.\n",
        "   \n",
        "- Quando a variável categórica é ordinal, a abordagem mais direta é substituir os rótulos por algum número ordinal.\n",
        "\n",
        "- Na codificação ordinal substituímos as categorias por dígitos, de forma arbitrária ou informada. Se codificarmos categorias arbitrariamente, atribuímos um inteiro por categoria de 1 a n, onde n é o número de categorias únicas. Se, em vez disso, atribuímos os inteiros de maneira informada, observamos a distribuição alvo: ordenamos as categorias de 1 a n, atribuindo 1 à categoria para a qual as observações mostram a maior média de valor alvo, en à categoria com o valor médio alvo mais baixo."
      ]
    },
    {
      "cell_type": "markdown",
      "metadata": {
        "id": "f7HueDBBXrD6"
      },
      "source": [
        "- Podemos usar [Category Encoders Package] (https://contrib.scikit-learn.org/categorical-encoding/) para realizar a codificação ordinal. Consulte a documentação para obter mais informações.\n"
      ]
    },
    {
      "cell_type": "markdown",
      "metadata": {
        "id": "lQVIsjruXrD6"
      },
      "source": [
        "## **4.3 Count and Frequency Encoding** <a class=\"anchor\" id=\"4.3\"></a>\n",
        "\n",
        "[Table of Contents](#0.1)\n",
        "\n",
        "\n",
        "- In count encoding we replace the categories by the count of the observations that show that category in the dataset. Similarly, we can replace the category by the frequency -or percentage- of observations in the dataset. That is, if 10 of our 100 observations show the colour blue, we would replace blue by 10 if doing count encoding, or by 0.1 if replacing by the frequency. These techniques capture the representation of each label in a dataset, but the encoding may not necessarily be predictive of the outcome. \n",
        "\n",
        "- This approach is heavily used in Kaggle competitions, wherein we replace each label of the categorical variable by the count, this is the amount of times each label appears in the dataset. Or the frequency, this is the percentage of observations within that category. The two methods are equivalent."
      ]
    },
    {
      "cell_type": "code",
      "metadata": {
        "trusted": true,
        "id": "sRa4qGdDXrD7"
      },
      "source": [
        "#import dataset\n",
        "df_train = pd.read_csv('/content/Mercedes-Benz-train.csv')\n",
        "                       \n",
        "\n",
        "df_test = pd.read_csv('/content/Mercedes-Benz-test.csv') \n",
        "                      "
      ],
      "execution_count": null,
      "outputs": []
    },
    {
      "cell_type": "code",
      "metadata": {
        "trusted": true,
        "colab": {
          "base_uri": "https://localhost:8080/",
          "height": 223
        },
        "id": "JXaXQ5mTXrD7",
        "outputId": "31e64f99-abbe-4d7e-979b-111d64faa9de"
      },
      "source": [
        "df_train.head()"
      ],
      "execution_count": null,
      "outputs": [
        {
          "output_type": "execute_result",
          "data": {
            "text/html": [
              "<div>\n",
              "<style scoped>\n",
              "    .dataframe tbody tr th:only-of-type {\n",
              "        vertical-align: middle;\n",
              "    }\n",
              "\n",
              "    .dataframe tbody tr th {\n",
              "        vertical-align: top;\n",
              "    }\n",
              "\n",
              "    .dataframe thead th {\n",
              "        text-align: right;\n",
              "    }\n",
              "</style>\n",
              "<table border=\"1\" class=\"dataframe\">\n",
              "  <thead>\n",
              "    <tr style=\"text-align: right;\">\n",
              "      <th></th>\n",
              "      <th>ID</th>\n",
              "      <th>y</th>\n",
              "      <th>X0</th>\n",
              "      <th>X1</th>\n",
              "      <th>X2</th>\n",
              "      <th>X3</th>\n",
              "      <th>X4</th>\n",
              "      <th>X5</th>\n",
              "      <th>X6</th>\n",
              "      <th>X8</th>\n",
              "      <th>X10</th>\n",
              "      <th>X11</th>\n",
              "      <th>X12</th>\n",
              "      <th>X13</th>\n",
              "      <th>X14</th>\n",
              "      <th>X15</th>\n",
              "      <th>X16</th>\n",
              "      <th>X17</th>\n",
              "      <th>X18</th>\n",
              "      <th>X19</th>\n",
              "      <th>X20</th>\n",
              "      <th>X21</th>\n",
              "      <th>X22</th>\n",
              "      <th>X23</th>\n",
              "      <th>X24</th>\n",
              "      <th>X26</th>\n",
              "      <th>X27</th>\n",
              "      <th>X28</th>\n",
              "      <th>X29</th>\n",
              "      <th>X30</th>\n",
              "      <th>X31</th>\n",
              "      <th>X32</th>\n",
              "      <th>X33</th>\n",
              "      <th>X34</th>\n",
              "      <th>X35</th>\n",
              "      <th>X36</th>\n",
              "      <th>X37</th>\n",
              "      <th>X38</th>\n",
              "      <th>X39</th>\n",
              "      <th>X40</th>\n",
              "      <th>X41</th>\n",
              "      <th>X42</th>\n",
              "      <th>X43</th>\n",
              "      <th>X44</th>\n",
              "      <th>X45</th>\n",
              "      <th>X46</th>\n",
              "      <th>X47</th>\n",
              "      <th>X48</th>\n",
              "      <th>X49</th>\n",
              "      <th>X50</th>\n",
              "      <th>X51</th>\n",
              "      <th>X52</th>\n",
              "      <th>X53</th>\n",
              "      <th>X54</th>\n",
              "      <th>X55</th>\n",
              "      <th>X56</th>\n",
              "      <th>X57</th>\n",
              "      <th>X58</th>\n",
              "      <th>X59</th>\n",
              "      <th>X60</th>\n",
              "      <th>X61</th>\n",
              "      <th>X62</th>\n",
              "      <th>X63</th>\n",
              "      <th>X64</th>\n",
              "      <th>X65</th>\n",
              "      <th>X66</th>\n",
              "      <th>X67</th>\n",
              "      <th>X68</th>\n",
              "      <th>X69</th>\n",
              "      <th>X70</th>\n",
              "      <th>X71</th>\n",
              "      <th>X73</th>\n",
              "      <th>X74</th>\n",
              "      <th>X75</th>\n",
              "      <th>X76</th>\n",
              "      <th>X77</th>\n",
              "      <th>X78</th>\n",
              "      <th>X79</th>\n",
              "      <th>X80</th>\n",
              "      <th>X81</th>\n",
              "      <th>X82</th>\n",
              "      <th>X83</th>\n",
              "      <th>X84</th>\n",
              "      <th>X85</th>\n",
              "      <th>X86</th>\n",
              "      <th>X87</th>\n",
              "      <th>X88</th>\n",
              "      <th>X89</th>\n",
              "      <th>X90</th>\n",
              "      <th>X91</th>\n",
              "      <th>X92</th>\n",
              "      <th>X93</th>\n",
              "      <th>X94</th>\n",
              "      <th>X95</th>\n",
              "      <th>X96</th>\n",
              "      <th>X97</th>\n",
              "      <th>X98</th>\n",
              "      <th>X99</th>\n",
              "      <th>X100</th>\n",
              "      <th>X101</th>\n",
              "      <th>X102</th>\n",
              "      <th>X103</th>\n",
              "      <th>X104</th>\n",
              "      <th>X105</th>\n",
              "      <th>X106</th>\n",
              "      <th>X107</th>\n",
              "      <th>X108</th>\n",
              "      <th>X109</th>\n",
              "      <th>X110</th>\n",
              "      <th>X111</th>\n",
              "      <th>X112</th>\n",
              "      <th>X113</th>\n",
              "      <th>X114</th>\n",
              "      <th>X115</th>\n",
              "      <th>X116</th>\n",
              "      <th>X117</th>\n",
              "      <th>X118</th>\n",
              "      <th>X119</th>\n",
              "      <th>X120</th>\n",
              "      <th>X122</th>\n",
              "      <th>X123</th>\n",
              "      <th>X124</th>\n",
              "      <th>X125</th>\n",
              "      <th>X126</th>\n",
              "      <th>X127</th>\n",
              "      <th>X128</th>\n",
              "      <th>X129</th>\n",
              "      <th>X130</th>\n",
              "      <th>X131</th>\n",
              "      <th>X132</th>\n",
              "      <th>X133</th>\n",
              "      <th>X134</th>\n",
              "      <th>X135</th>\n",
              "      <th>X136</th>\n",
              "      <th>X137</th>\n",
              "      <th>X138</th>\n",
              "      <th>X139</th>\n",
              "      <th>X140</th>\n",
              "      <th>X141</th>\n",
              "      <th>X142</th>\n",
              "      <th>X143</th>\n",
              "      <th>X144</th>\n",
              "      <th>X145</th>\n",
              "      <th>X146</th>\n",
              "      <th>X147</th>\n",
              "      <th>X148</th>\n",
              "      <th>X150</th>\n",
              "      <th>X151</th>\n",
              "      <th>X152</th>\n",
              "      <th>X153</th>\n",
              "      <th>X154</th>\n",
              "      <th>X155</th>\n",
              "      <th>X156</th>\n",
              "      <th>X157</th>\n",
              "      <th>X158</th>\n",
              "      <th>X159</th>\n",
              "      <th>X160</th>\n",
              "      <th>X161</th>\n",
              "      <th>X162</th>\n",
              "      <th>X163</th>\n",
              "      <th>X164</th>\n",
              "      <th>X165</th>\n",
              "      <th>X166</th>\n",
              "      <th>X167</th>\n",
              "      <th>X168</th>\n",
              "      <th>X169</th>\n",
              "      <th>X170</th>\n",
              "      <th>X171</th>\n",
              "      <th>X172</th>\n",
              "      <th>X173</th>\n",
              "      <th>X174</th>\n",
              "      <th>X175</th>\n",
              "      <th>X176</th>\n",
              "      <th>X177</th>\n",
              "      <th>X178</th>\n",
              "      <th>X179</th>\n",
              "      <th>X180</th>\n",
              "      <th>X181</th>\n",
              "      <th>X182</th>\n",
              "      <th>X183</th>\n",
              "      <th>X184</th>\n",
              "      <th>X185</th>\n",
              "      <th>X186</th>\n",
              "      <th>X187</th>\n",
              "      <th>X189</th>\n",
              "      <th>X190</th>\n",
              "      <th>X191</th>\n",
              "      <th>X192</th>\n",
              "      <th>X194</th>\n",
              "      <th>X195</th>\n",
              "      <th>X196</th>\n",
              "      <th>X197</th>\n",
              "      <th>X198</th>\n",
              "      <th>X199</th>\n",
              "      <th>X200</th>\n",
              "      <th>X201</th>\n",
              "      <th>X202</th>\n",
              "      <th>X203</th>\n",
              "      <th>X204</th>\n",
              "      <th>X205</th>\n",
              "      <th>X206</th>\n",
              "      <th>X207</th>\n",
              "      <th>X208</th>\n",
              "      <th>X209</th>\n",
              "      <th>X210</th>\n",
              "      <th>X211</th>\n",
              "      <th>X212</th>\n",
              "      <th>X213</th>\n",
              "      <th>X214</th>\n",
              "      <th>X215</th>\n",
              "      <th>X216</th>\n",
              "      <th>X217</th>\n",
              "      <th>X218</th>\n",
              "      <th>X219</th>\n",
              "      <th>X220</th>\n",
              "      <th>X221</th>\n",
              "      <th>X222</th>\n",
              "      <th>X223</th>\n",
              "      <th>X224</th>\n",
              "      <th>X225</th>\n",
              "      <th>X226</th>\n",
              "      <th>X227</th>\n",
              "      <th>X228</th>\n",
              "      <th>X229</th>\n",
              "      <th>X230</th>\n",
              "      <th>X231</th>\n",
              "      <th>X232</th>\n",
              "      <th>X233</th>\n",
              "      <th>X234</th>\n",
              "      <th>X235</th>\n",
              "      <th>X236</th>\n",
              "      <th>X237</th>\n",
              "      <th>X238</th>\n",
              "      <th>X239</th>\n",
              "      <th>X240</th>\n",
              "      <th>X241</th>\n",
              "      <th>X242</th>\n",
              "      <th>X243</th>\n",
              "      <th>X244</th>\n",
              "      <th>X245</th>\n",
              "      <th>X246</th>\n",
              "      <th>X247</th>\n",
              "      <th>X248</th>\n",
              "      <th>X249</th>\n",
              "      <th>X250</th>\n",
              "      <th>X251</th>\n",
              "      <th>X252</th>\n",
              "      <th>X253</th>\n",
              "      <th>X254</th>\n",
              "      <th>X255</th>\n",
              "      <th>X256</th>\n",
              "      <th>X257</th>\n",
              "      <th>X258</th>\n",
              "      <th>X259</th>\n",
              "      <th>X260</th>\n",
              "      <th>X261</th>\n",
              "      <th>X262</th>\n",
              "      <th>X263</th>\n",
              "      <th>X264</th>\n",
              "      <th>X265</th>\n",
              "      <th>X266</th>\n",
              "      <th>X267</th>\n",
              "      <th>X268</th>\n",
              "      <th>X269</th>\n",
              "      <th>X270</th>\n",
              "      <th>X271</th>\n",
              "      <th>X272</th>\n",
              "      <th>X273</th>\n",
              "      <th>X274</th>\n",
              "      <th>X275</th>\n",
              "      <th>X276</th>\n",
              "      <th>X277</th>\n",
              "      <th>X278</th>\n",
              "      <th>X279</th>\n",
              "      <th>X280</th>\n",
              "      <th>X281</th>\n",
              "      <th>X282</th>\n",
              "      <th>X283</th>\n",
              "      <th>X284</th>\n",
              "      <th>X285</th>\n",
              "      <th>X286</th>\n",
              "      <th>X287</th>\n",
              "      <th>X288</th>\n",
              "      <th>X289</th>\n",
              "      <th>X290</th>\n",
              "      <th>X291</th>\n",
              "      <th>X292</th>\n",
              "      <th>X293</th>\n",
              "      <th>X294</th>\n",
              "      <th>X295</th>\n",
              "      <th>X296</th>\n",
              "      <th>X297</th>\n",
              "      <th>X298</th>\n",
              "      <th>X299</th>\n",
              "      <th>X300</th>\n",
              "      <th>X301</th>\n",
              "      <th>X302</th>\n",
              "      <th>X304</th>\n",
              "      <th>X305</th>\n",
              "      <th>X306</th>\n",
              "      <th>X307</th>\n",
              "      <th>X308</th>\n",
              "      <th>X309</th>\n",
              "      <th>X310</th>\n",
              "      <th>X311</th>\n",
              "      <th>X312</th>\n",
              "      <th>X313</th>\n",
              "      <th>X314</th>\n",
              "      <th>X315</th>\n",
              "      <th>X316</th>\n",
              "      <th>X317</th>\n",
              "      <th>X318</th>\n",
              "      <th>X319</th>\n",
              "      <th>X320</th>\n",
              "      <th>X321</th>\n",
              "      <th>X322</th>\n",
              "      <th>X323</th>\n",
              "      <th>X324</th>\n",
              "      <th>X325</th>\n",
              "      <th>X326</th>\n",
              "      <th>X327</th>\n",
              "      <th>X328</th>\n",
              "      <th>X329</th>\n",
              "      <th>X330</th>\n",
              "      <th>X331</th>\n",
              "      <th>X332</th>\n",
              "      <th>X333</th>\n",
              "      <th>X334</th>\n",
              "      <th>X335</th>\n",
              "      <th>X336</th>\n",
              "      <th>X337</th>\n",
              "      <th>X338</th>\n",
              "      <th>X339</th>\n",
              "      <th>X340</th>\n",
              "      <th>X341</th>\n",
              "      <th>X342</th>\n",
              "      <th>X343</th>\n",
              "      <th>X344</th>\n",
              "      <th>X345</th>\n",
              "      <th>X346</th>\n",
              "      <th>X347</th>\n",
              "      <th>X348</th>\n",
              "      <th>X349</th>\n",
              "      <th>X350</th>\n",
              "      <th>X351</th>\n",
              "      <th>X352</th>\n",
              "      <th>X353</th>\n",
              "      <th>X354</th>\n",
              "      <th>X355</th>\n",
              "      <th>X356</th>\n",
              "      <th>X357</th>\n",
              "      <th>X358</th>\n",
              "      <th>X359</th>\n",
              "      <th>X360</th>\n",
              "      <th>X361</th>\n",
              "      <th>X362</th>\n",
              "      <th>X363</th>\n",
              "      <th>X364</th>\n",
              "      <th>X365</th>\n",
              "      <th>X366</th>\n",
              "      <th>X367</th>\n",
              "      <th>X368</th>\n",
              "      <th>X369</th>\n",
              "      <th>X370</th>\n",
              "      <th>X371</th>\n",
              "      <th>X372</th>\n",
              "      <th>X373</th>\n",
              "      <th>X374</th>\n",
              "      <th>X375</th>\n",
              "      <th>X376</th>\n",
              "      <th>X377</th>\n",
              "      <th>X378</th>\n",
              "      <th>X379</th>\n",
              "      <th>X380</th>\n",
              "      <th>X382</th>\n",
              "      <th>X383</th>\n",
              "      <th>X384</th>\n",
              "      <th>X385</th>\n",
              "    </tr>\n",
              "  </thead>\n",
              "  <tbody>\n",
              "    <tr>\n",
              "      <th>0</th>\n",
              "      <td>0</td>\n",
              "      <td>130.81</td>\n",
              "      <td>k</td>\n",
              "      <td>v</td>\n",
              "      <td>at</td>\n",
              "      <td>a</td>\n",
              "      <td>d</td>\n",
              "      <td>u</td>\n",
              "      <td>j</td>\n",
              "      <td>o</td>\n",
              "      <td>0</td>\n",
              "      <td>0</td>\n",
              "      <td>0</td>\n",
              "      <td>1</td>\n",
              "      <td>0</td>\n",
              "      <td>0</td>\n",
              "      <td>0</td>\n",
              "      <td>0</td>\n",
              "      <td>1</td>\n",
              "      <td>0</td>\n",
              "      <td>0</td>\n",
              "      <td>1</td>\n",
              "      <td>0</td>\n",
              "      <td>0</td>\n",
              "      <td>0</td>\n",
              "      <td>0</td>\n",
              "      <td>0</td>\n",
              "      <td>0</td>\n",
              "      <td>0</td>\n",
              "      <td>0</td>\n",
              "      <td>1</td>\n",
              "      <td>0</td>\n",
              "      <td>0</td>\n",
              "      <td>0</td>\n",
              "      <td>1</td>\n",
              "      <td>0</td>\n",
              "      <td>1</td>\n",
              "      <td>0</td>\n",
              "      <td>0</td>\n",
              "      <td>0</td>\n",
              "      <td>0</td>\n",
              "      <td>0</td>\n",
              "      <td>0</td>\n",
              "      <td>0</td>\n",
              "      <td>0</td>\n",
              "      <td>1</td>\n",
              "      <td>0</td>\n",
              "      <td>0</td>\n",
              "      <td>0</td>\n",
              "      <td>0</td>\n",
              "      <td>0</td>\n",
              "      <td>0</td>\n",
              "      <td>0</td>\n",
              "      <td>0</td>\n",
              "      <td>0</td>\n",
              "      <td>0</td>\n",
              "      <td>0</td>\n",
              "      <td>1</td>\n",
              "      <td>0</td>\n",
              "      <td>0</td>\n",
              "      <td>0</td>\n",
              "      <td>0</td>\n",
              "      <td>0</td>\n",
              "      <td>0</td>\n",
              "      <td>0</td>\n",
              "      <td>0</td>\n",
              "      <td>0</td>\n",
              "      <td>1</td>\n",
              "      <td>0</td>\n",
              "      <td>1</td>\n",
              "      <td>0</td>\n",
              "      <td>0</td>\n",
              "      <td>1</td>\n",
              "      <td>0</td>\n",
              "      <td>0</td>\n",
              "      <td>0</td>\n",
              "      <td>0</td>\n",
              "      <td>0</td>\n",
              "      <td>0</td>\n",
              "      <td>0</td>\n",
              "      <td>0</td>\n",
              "      <td>0</td>\n",
              "      <td>0</td>\n",
              "      <td>1</td>\n",
              "      <td>0</td>\n",
              "      <td>0</td>\n",
              "      <td>0</td>\n",
              "      <td>0</td>\n",
              "      <td>0</td>\n",
              "      <td>0</td>\n",
              "      <td>0</td>\n",
              "      <td>0</td>\n",
              "      <td>0</td>\n",
              "      <td>0</td>\n",
              "      <td>0</td>\n",
              "      <td>0</td>\n",
              "      <td>0</td>\n",
              "      <td>0</td>\n",
              "      <td>0</td>\n",
              "      <td>0</td>\n",
              "      <td>0</td>\n",
              "      <td>0</td>\n",
              "      <td>0</td>\n",
              "      <td>0</td>\n",
              "      <td>0</td>\n",
              "      <td>0</td>\n",
              "      <td>0</td>\n",
              "      <td>0</td>\n",
              "      <td>0</td>\n",
              "      <td>1</td>\n",
              "      <td>0</td>\n",
              "      <td>0</td>\n",
              "      <td>1</td>\n",
              "      <td>0</td>\n",
              "      <td>1</td>\n",
              "      <td>0</td>\n",
              "      <td>1</td>\n",
              "      <td>1</td>\n",
              "      <td>1</td>\n",
              "      <td>0</td>\n",
              "      <td>0</td>\n",
              "      <td>0</td>\n",
              "      <td>0</td>\n",
              "      <td>0</td>\n",
              "      <td>0</td>\n",
              "      <td>1</td>\n",
              "      <td>0</td>\n",
              "      <td>0</td>\n",
              "      <td>1</td>\n",
              "      <td>0</td>\n",
              "      <td>0</td>\n",
              "      <td>0</td>\n",
              "      <td>0</td>\n",
              "      <td>1</td>\n",
              "      <td>1</td>\n",
              "      <td>0</td>\n",
              "      <td>0</td>\n",
              "      <td>0</td>\n",
              "      <td>0</td>\n",
              "      <td>1</td>\n",
              "      <td>0</td>\n",
              "      <td>1</td>\n",
              "      <td>0</td>\n",
              "      <td>0</td>\n",
              "      <td>0</td>\n",
              "      <td>0</td>\n",
              "      <td>1</td>\n",
              "      <td>0</td>\n",
              "      <td>0</td>\n",
              "      <td>0</td>\n",
              "      <td>0</td>\n",
              "      <td>0</td>\n",
              "      <td>1</td>\n",
              "      <td>0</td>\n",
              "      <td>0</td>\n",
              "      <td>0</td>\n",
              "      <td>0</td>\n",
              "      <td>0</td>\n",
              "      <td>0</td>\n",
              "      <td>0</td>\n",
              "      <td>0</td>\n",
              "      <td>0</td>\n",
              "      <td>0</td>\n",
              "      <td>0</td>\n",
              "      <td>0</td>\n",
              "      <td>0</td>\n",
              "      <td>1</td>\n",
              "      <td>0</td>\n",
              "      <td>0</td>\n",
              "      <td>0</td>\n",
              "      <td>0</td>\n",
              "      <td>0</td>\n",
              "      <td>0</td>\n",
              "      <td>0</td>\n",
              "      <td>0</td>\n",
              "      <td>1</td>\n",
              "      <td>0</td>\n",
              "      <td>0</td>\n",
              "      <td>0</td>\n",
              "      <td>0</td>\n",
              "      <td>1</td>\n",
              "      <td>0</td>\n",
              "      <td>0</td>\n",
              "      <td>1</td>\n",
              "      <td>1</td>\n",
              "      <td>0</td>\n",
              "      <td>0</td>\n",
              "      <td>0</td>\n",
              "      <td>1</td>\n",
              "      <td>0</td>\n",
              "      <td>0</td>\n",
              "      <td>0</td>\n",
              "      <td>0</td>\n",
              "      <td>0</td>\n",
              "      <td>0</td>\n",
              "      <td>0</td>\n",
              "      <td>0</td>\n",
              "      <td>0</td>\n",
              "      <td>1</td>\n",
              "      <td>0</td>\n",
              "      <td>0</td>\n",
              "      <td>0</td>\n",
              "      <td>0</td>\n",
              "      <td>1</td>\n",
              "      <td>0</td>\n",
              "      <td>0</td>\n",
              "      <td>0</td>\n",
              "      <td>0</td>\n",
              "      <td>0</td>\n",
              "      <td>0</td>\n",
              "      <td>0</td>\n",
              "      <td>0</td>\n",
              "      <td>0</td>\n",
              "      <td>0</td>\n",
              "      <td>1</td>\n",
              "      <td>0</td>\n",
              "      <td>0</td>\n",
              "      <td>0</td>\n",
              "      <td>0</td>\n",
              "      <td>0</td>\n",
              "      <td>0</td>\n",
              "      <td>0</td>\n",
              "      <td>0</td>\n",
              "      <td>0</td>\n",
              "      <td>0</td>\n",
              "      <td>0</td>\n",
              "      <td>0</td>\n",
              "      <td>0</td>\n",
              "      <td>1</td>\n",
              "      <td>0</td>\n",
              "      <td>0</td>\n",
              "      <td>1</td>\n",
              "      <td>0</td>\n",
              "      <td>0</td>\n",
              "      <td>0</td>\n",
              "      <td>0</td>\n",
              "      <td>0</td>\n",
              "      <td>0</td>\n",
              "      <td>0</td>\n",
              "      <td>0</td>\n",
              "      <td>0</td>\n",
              "      <td>0</td>\n",
              "      <td>0</td>\n",
              "      <td>0</td>\n",
              "      <td>0</td>\n",
              "      <td>0</td>\n",
              "      <td>0</td>\n",
              "      <td>0</td>\n",
              "      <td>0</td>\n",
              "      <td>0</td>\n",
              "      <td>0</td>\n",
              "      <td>0</td>\n",
              "      <td>0</td>\n",
              "      <td>0</td>\n",
              "      <td>0</td>\n",
              "      <td>0</td>\n",
              "      <td>1</td>\n",
              "      <td>1</td>\n",
              "      <td>0</td>\n",
              "      <td>0</td>\n",
              "      <td>1</td>\n",
              "      <td>0</td>\n",
              "      <td>0</td>\n",
              "      <td>0</td>\n",
              "      <td>0</td>\n",
              "      <td>0</td>\n",
              "      <td>0</td>\n",
              "      <td>1</td>\n",
              "      <td>0</td>\n",
              "      <td>1</td>\n",
              "      <td>0</td>\n",
              "      <td>0</td>\n",
              "      <td>0</td>\n",
              "      <td>0</td>\n",
              "      <td>0</td>\n",
              "      <td>0</td>\n",
              "      <td>0</td>\n",
              "      <td>0</td>\n",
              "      <td>0</td>\n",
              "      <td>1</td>\n",
              "      <td>0</td>\n",
              "      <td>0</td>\n",
              "      <td>0</td>\n",
              "      <td>0</td>\n",
              "      <td>0</td>\n",
              "      <td>0</td>\n",
              "      <td>0</td>\n",
              "      <td>0</td>\n",
              "      <td>0</td>\n",
              "      <td>0</td>\n",
              "      <td>0</td>\n",
              "      <td>0</td>\n",
              "      <td>0</td>\n",
              "      <td>0</td>\n",
              "      <td>0</td>\n",
              "      <td>0</td>\n",
              "      <td>0</td>\n",
              "      <td>0</td>\n",
              "      <td>0</td>\n",
              "      <td>1</td>\n",
              "      <td>0</td>\n",
              "      <td>0</td>\n",
              "      <td>0</td>\n",
              "      <td>0</td>\n",
              "      <td>0</td>\n",
              "      <td>0</td>\n",
              "      <td>0</td>\n",
              "      <td>0</td>\n",
              "      <td>0</td>\n",
              "      <td>1</td>\n",
              "      <td>0</td>\n",
              "      <td>0</td>\n",
              "      <td>0</td>\n",
              "      <td>0</td>\n",
              "      <td>0</td>\n",
              "      <td>0</td>\n",
              "      <td>0</td>\n",
              "      <td>1</td>\n",
              "      <td>0</td>\n",
              "      <td>0</td>\n",
              "      <td>1</td>\n",
              "      <td>0</td>\n",
              "      <td>1</td>\n",
              "      <td>0</td>\n",
              "      <td>0</td>\n",
              "      <td>0</td>\n",
              "      <td>0</td>\n",
              "      <td>1</td>\n",
              "      <td>0</td>\n",
              "      <td>0</td>\n",
              "      <td>0</td>\n",
              "      <td>0</td>\n",
              "      <td>0</td>\n",
              "      <td>0</td>\n",
              "      <td>0</td>\n",
              "      <td>0</td>\n",
              "      <td>0</td>\n",
              "      <td>0</td>\n",
              "      <td>0</td>\n",
              "      <td>0</td>\n",
              "      <td>0</td>\n",
              "      <td>0</td>\n",
              "      <td>0</td>\n",
              "      <td>0</td>\n",
              "      <td>0</td>\n",
              "      <td>0</td>\n",
              "      <td>0</td>\n",
              "      <td>1</td>\n",
              "      <td>0</td>\n",
              "      <td>0</td>\n",
              "      <td>0</td>\n",
              "      <td>0</td>\n",
              "      <td>0</td>\n",
              "      <td>0</td>\n",
              "      <td>1</td>\n",
              "      <td>0</td>\n",
              "      <td>0</td>\n",
              "      <td>0</td>\n",
              "      <td>0</td>\n",
              "      <td>0</td>\n",
              "      <td>0</td>\n",
              "      <td>0</td>\n",
              "      <td>0</td>\n",
              "      <td>0</td>\n",
              "      <td>0</td>\n",
              "      <td>0</td>\n",
              "      <td>0</td>\n",
              "      <td>0</td>\n",
              "      <td>0</td>\n",
              "      <td>0</td>\n",
              "      <td>1</td>\n",
              "      <td>0</td>\n",
              "      <td>0</td>\n",
              "      <td>0</td>\n",
              "      <td>0</td>\n",
              "      <td>0</td>\n",
              "      <td>0</td>\n",
              "      <td>0</td>\n",
              "    </tr>\n",
              "    <tr>\n",
              "      <th>1</th>\n",
              "      <td>6</td>\n",
              "      <td>88.53</td>\n",
              "      <td>k</td>\n",
              "      <td>t</td>\n",
              "      <td>av</td>\n",
              "      <td>e</td>\n",
              "      <td>d</td>\n",
              "      <td>y</td>\n",
              "      <td>l</td>\n",
              "      <td>o</td>\n",
              "      <td>0</td>\n",
              "      <td>0</td>\n",
              "      <td>0</td>\n",
              "      <td>0</td>\n",
              "      <td>0</td>\n",
              "      <td>0</td>\n",
              "      <td>0</td>\n",
              "      <td>0</td>\n",
              "      <td>1</td>\n",
              "      <td>0</td>\n",
              "      <td>0</td>\n",
              "      <td>0</td>\n",
              "      <td>0</td>\n",
              "      <td>0</td>\n",
              "      <td>0</td>\n",
              "      <td>0</td>\n",
              "      <td>1</td>\n",
              "      <td>0</td>\n",
              "      <td>0</td>\n",
              "      <td>0</td>\n",
              "      <td>1</td>\n",
              "      <td>0</td>\n",
              "      <td>0</td>\n",
              "      <td>0</td>\n",
              "      <td>1</td>\n",
              "      <td>0</td>\n",
              "      <td>1</td>\n",
              "      <td>0</td>\n",
              "      <td>0</td>\n",
              "      <td>0</td>\n",
              "      <td>0</td>\n",
              "      <td>0</td>\n",
              "      <td>0</td>\n",
              "      <td>0</td>\n",
              "      <td>0</td>\n",
              "      <td>0</td>\n",
              "      <td>0</td>\n",
              "      <td>0</td>\n",
              "      <td>0</td>\n",
              "      <td>0</td>\n",
              "      <td>1</td>\n",
              "      <td>0</td>\n",
              "      <td>0</td>\n",
              "      <td>0</td>\n",
              "      <td>0</td>\n",
              "      <td>0</td>\n",
              "      <td>0</td>\n",
              "      <td>0</td>\n",
              "      <td>0</td>\n",
              "      <td>0</td>\n",
              "      <td>1</td>\n",
              "      <td>0</td>\n",
              "      <td>0</td>\n",
              "      <td>0</td>\n",
              "      <td>0</td>\n",
              "      <td>0</td>\n",
              "      <td>0</td>\n",
              "      <td>0</td>\n",
              "      <td>0</td>\n",
              "      <td>1</td>\n",
              "      <td>0</td>\n",
              "      <td>0</td>\n",
              "      <td>1</td>\n",
              "      <td>0</td>\n",
              "      <td>0</td>\n",
              "      <td>0</td>\n",
              "      <td>0</td>\n",
              "      <td>0</td>\n",
              "      <td>1</td>\n",
              "      <td>0</td>\n",
              "      <td>0</td>\n",
              "      <td>0</td>\n",
              "      <td>0</td>\n",
              "      <td>1</td>\n",
              "      <td>0</td>\n",
              "      <td>0</td>\n",
              "      <td>0</td>\n",
              "      <td>0</td>\n",
              "      <td>0</td>\n",
              "      <td>0</td>\n",
              "      <td>0</td>\n",
              "      <td>0</td>\n",
              "      <td>0</td>\n",
              "      <td>0</td>\n",
              "      <td>1</td>\n",
              "      <td>0</td>\n",
              "      <td>1</td>\n",
              "      <td>0</td>\n",
              "      <td>1</td>\n",
              "      <td>1</td>\n",
              "      <td>0</td>\n",
              "      <td>0</td>\n",
              "      <td>0</td>\n",
              "      <td>0</td>\n",
              "      <td>0</td>\n",
              "      <td>0</td>\n",
              "      <td>0</td>\n",
              "      <td>0</td>\n",
              "      <td>0</td>\n",
              "      <td>1</td>\n",
              "      <td>0</td>\n",
              "      <td>0</td>\n",
              "      <td>0</td>\n",
              "      <td>0</td>\n",
              "      <td>0</td>\n",
              "      <td>0</td>\n",
              "      <td>1</td>\n",
              "      <td>1</td>\n",
              "      <td>1</td>\n",
              "      <td>0</td>\n",
              "      <td>0</td>\n",
              "      <td>0</td>\n",
              "      <td>0</td>\n",
              "      <td>0</td>\n",
              "      <td>1</td>\n",
              "      <td>1</td>\n",
              "      <td>0</td>\n",
              "      <td>0</td>\n",
              "      <td>0</td>\n",
              "      <td>1</td>\n",
              "      <td>0</td>\n",
              "      <td>0</td>\n",
              "      <td>0</td>\n",
              "      <td>1</td>\n",
              "      <td>0</td>\n",
              "      <td>0</td>\n",
              "      <td>0</td>\n",
              "      <td>0</td>\n",
              "      <td>0</td>\n",
              "      <td>1</td>\n",
              "      <td>0</td>\n",
              "      <td>1</td>\n",
              "      <td>0</td>\n",
              "      <td>0</td>\n",
              "      <td>0</td>\n",
              "      <td>0</td>\n",
              "      <td>1</td>\n",
              "      <td>0</td>\n",
              "      <td>0</td>\n",
              "      <td>0</td>\n",
              "      <td>0</td>\n",
              "      <td>0</td>\n",
              "      <td>1</td>\n",
              "      <td>0</td>\n",
              "      <td>0</td>\n",
              "      <td>0</td>\n",
              "      <td>0</td>\n",
              "      <td>0</td>\n",
              "      <td>0</td>\n",
              "      <td>0</td>\n",
              "      <td>0</td>\n",
              "      <td>1</td>\n",
              "      <td>0</td>\n",
              "      <td>0</td>\n",
              "      <td>0</td>\n",
              "      <td>0</td>\n",
              "      <td>0</td>\n",
              "      <td>0</td>\n",
              "      <td>0</td>\n",
              "      <td>0</td>\n",
              "      <td>0</td>\n",
              "      <td>0</td>\n",
              "      <td>0</td>\n",
              "      <td>0</td>\n",
              "      <td>1</td>\n",
              "      <td>0</td>\n",
              "      <td>0</td>\n",
              "      <td>0</td>\n",
              "      <td>0</td>\n",
              "      <td>0</td>\n",
              "      <td>0</td>\n",
              "      <td>0</td>\n",
              "      <td>0</td>\n",
              "      <td>1</td>\n",
              "      <td>1</td>\n",
              "      <td>0</td>\n",
              "      <td>0</td>\n",
              "      <td>0</td>\n",
              "      <td>1</td>\n",
              "      <td>0</td>\n",
              "      <td>0</td>\n",
              "      <td>0</td>\n",
              "      <td>0</td>\n",
              "      <td>0</td>\n",
              "      <td>0</td>\n",
              "      <td>0</td>\n",
              "      <td>0</td>\n",
              "      <td>0</td>\n",
              "      <td>0</td>\n",
              "      <td>1</td>\n",
              "      <td>0</td>\n",
              "      <td>0</td>\n",
              "      <td>0</td>\n",
              "      <td>1</td>\n",
              "      <td>0</td>\n",
              "      <td>0</td>\n",
              "      <td>0</td>\n",
              "      <td>0</td>\n",
              "      <td>0</td>\n",
              "      <td>0</td>\n",
              "      <td>0</td>\n",
              "      <td>0</td>\n",
              "      <td>0</td>\n",
              "      <td>0</td>\n",
              "      <td>0</td>\n",
              "      <td>0</td>\n",
              "      <td>0</td>\n",
              "      <td>0</td>\n",
              "      <td>0</td>\n",
              "      <td>0</td>\n",
              "      <td>0</td>\n",
              "      <td>0</td>\n",
              "      <td>0</td>\n",
              "      <td>1</td>\n",
              "      <td>0</td>\n",
              "      <td>0</td>\n",
              "      <td>0</td>\n",
              "      <td>0</td>\n",
              "      <td>0</td>\n",
              "      <td>0</td>\n",
              "      <td>0</td>\n",
              "      <td>0</td>\n",
              "      <td>1</td>\n",
              "      <td>0</td>\n",
              "      <td>0</td>\n",
              "      <td>0</td>\n",
              "      <td>0</td>\n",
              "      <td>0</td>\n",
              "      <td>0</td>\n",
              "      <td>0</td>\n",
              "      <td>0</td>\n",
              "      <td>0</td>\n",
              "      <td>0</td>\n",
              "      <td>0</td>\n",
              "      <td>1</td>\n",
              "      <td>0</td>\n",
              "      <td>0</td>\n",
              "      <td>0</td>\n",
              "      <td>0</td>\n",
              "      <td>0</td>\n",
              "      <td>0</td>\n",
              "      <td>0</td>\n",
              "      <td>0</td>\n",
              "      <td>0</td>\n",
              "      <td>0</td>\n",
              "      <td>0</td>\n",
              "      <td>0</td>\n",
              "      <td>1</td>\n",
              "      <td>0</td>\n",
              "      <td>1</td>\n",
              "      <td>0</td>\n",
              "      <td>0</td>\n",
              "      <td>0</td>\n",
              "      <td>0</td>\n",
              "      <td>0</td>\n",
              "      <td>0</td>\n",
              "      <td>0</td>\n",
              "      <td>1</td>\n",
              "      <td>0</td>\n",
              "      <td>1</td>\n",
              "      <td>0</td>\n",
              "      <td>0</td>\n",
              "      <td>0</td>\n",
              "      <td>0</td>\n",
              "      <td>0</td>\n",
              "      <td>0</td>\n",
              "      <td>0</td>\n",
              "      <td>0</td>\n",
              "      <td>0</td>\n",
              "      <td>1</td>\n",
              "      <td>0</td>\n",
              "      <td>0</td>\n",
              "      <td>0</td>\n",
              "      <td>0</td>\n",
              "      <td>0</td>\n",
              "      <td>0</td>\n",
              "      <td>0</td>\n",
              "      <td>0</td>\n",
              "      <td>0</td>\n",
              "      <td>0</td>\n",
              "      <td>0</td>\n",
              "      <td>0</td>\n",
              "      <td>0</td>\n",
              "      <td>0</td>\n",
              "      <td>0</td>\n",
              "      <td>0</td>\n",
              "      <td>0</td>\n",
              "      <td>1</td>\n",
              "      <td>0</td>\n",
              "      <td>0</td>\n",
              "      <td>0</td>\n",
              "      <td>0</td>\n",
              "      <td>0</td>\n",
              "      <td>0</td>\n",
              "      <td>1</td>\n",
              "      <td>0</td>\n",
              "      <td>0</td>\n",
              "      <td>0</td>\n",
              "      <td>0</td>\n",
              "      <td>1</td>\n",
              "      <td>0</td>\n",
              "      <td>0</td>\n",
              "      <td>0</td>\n",
              "      <td>0</td>\n",
              "      <td>0</td>\n",
              "      <td>0</td>\n",
              "      <td>0</td>\n",
              "      <td>0</td>\n",
              "      <td>0</td>\n",
              "      <td>0</td>\n",
              "      <td>0</td>\n",
              "      <td>0</td>\n",
              "      <td>1</td>\n",
              "      <td>0</td>\n",
              "      <td>0</td>\n",
              "      <td>0</td>\n",
              "      <td>0</td>\n",
              "      <td>0</td>\n",
              "      <td>0</td>\n",
              "      <td>1</td>\n",
              "      <td>1</td>\n",
              "      <td>0</td>\n",
              "      <td>0</td>\n",
              "      <td>0</td>\n",
              "      <td>0</td>\n",
              "      <td>0</td>\n",
              "      <td>0</td>\n",
              "      <td>0</td>\n",
              "      <td>0</td>\n",
              "      <td>0</td>\n",
              "      <td>0</td>\n",
              "      <td>1</td>\n",
              "      <td>0</td>\n",
              "      <td>0</td>\n",
              "      <td>0</td>\n",
              "      <td>0</td>\n",
              "      <td>0</td>\n",
              "      <td>0</td>\n",
              "      <td>0</td>\n",
              "      <td>0</td>\n",
              "      <td>0</td>\n",
              "      <td>0</td>\n",
              "      <td>0</td>\n",
              "      <td>0</td>\n",
              "      <td>1</td>\n",
              "      <td>0</td>\n",
              "      <td>1</td>\n",
              "      <td>0</td>\n",
              "      <td>0</td>\n",
              "      <td>0</td>\n",
              "      <td>0</td>\n",
              "      <td>0</td>\n",
              "      <td>0</td>\n",
              "      <td>0</td>\n",
              "      <td>0</td>\n",
              "      <td>0</td>\n",
              "      <td>0</td>\n",
              "      <td>0</td>\n",
              "      <td>1</td>\n",
              "      <td>0</td>\n",
              "      <td>0</td>\n",
              "      <td>0</td>\n",
              "      <td>0</td>\n",
              "      <td>0</td>\n",
              "      <td>0</td>\n",
              "      <td>0</td>\n",
              "      <td>0</td>\n",
              "      <td>0</td>\n",
              "    </tr>\n",
              "    <tr>\n",
              "      <th>2</th>\n",
              "      <td>7</td>\n",
              "      <td>76.26</td>\n",
              "      <td>az</td>\n",
              "      <td>w</td>\n",
              "      <td>n</td>\n",
              "      <td>c</td>\n",
              "      <td>d</td>\n",
              "      <td>x</td>\n",
              "      <td>j</td>\n",
              "      <td>x</td>\n",
              "      <td>0</td>\n",
              "      <td>0</td>\n",
              "      <td>0</td>\n",
              "      <td>0</td>\n",
              "      <td>0</td>\n",
              "      <td>0</td>\n",
              "      <td>0</td>\n",
              "      <td>1</td>\n",
              "      <td>0</td>\n",
              "      <td>0</td>\n",
              "      <td>0</td>\n",
              "      <td>0</td>\n",
              "      <td>0</td>\n",
              "      <td>0</td>\n",
              "      <td>0</td>\n",
              "      <td>0</td>\n",
              "      <td>1</td>\n",
              "      <td>1</td>\n",
              "      <td>1</td>\n",
              "      <td>0</td>\n",
              "      <td>1</td>\n",
              "      <td>0</td>\n",
              "      <td>0</td>\n",
              "      <td>0</td>\n",
              "      <td>1</td>\n",
              "      <td>0</td>\n",
              "      <td>1</td>\n",
              "      <td>0</td>\n",
              "      <td>0</td>\n",
              "      <td>0</td>\n",
              "      <td>0</td>\n",
              "      <td>0</td>\n",
              "      <td>1</td>\n",
              "      <td>0</td>\n",
              "      <td>0</td>\n",
              "      <td>1</td>\n",
              "      <td>0</td>\n",
              "      <td>0</td>\n",
              "      <td>0</td>\n",
              "      <td>0</td>\n",
              "      <td>1</td>\n",
              "      <td>0</td>\n",
              "      <td>0</td>\n",
              "      <td>1</td>\n",
              "      <td>0</td>\n",
              "      <td>0</td>\n",
              "      <td>0</td>\n",
              "      <td>1</td>\n",
              "      <td>0</td>\n",
              "      <td>0</td>\n",
              "      <td>1</td>\n",
              "      <td>0</td>\n",
              "      <td>0</td>\n",
              "      <td>0</td>\n",
              "      <td>0</td>\n",
              "      <td>0</td>\n",
              "      <td>0</td>\n",
              "      <td>1</td>\n",
              "      <td>0</td>\n",
              "      <td>1</td>\n",
              "      <td>1</td>\n",
              "      <td>0</td>\n",
              "      <td>1</td>\n",
              "      <td>1</td>\n",
              "      <td>1</td>\n",
              "      <td>0</td>\n",
              "      <td>0</td>\n",
              "      <td>0</td>\n",
              "      <td>1</td>\n",
              "      <td>0</td>\n",
              "      <td>0</td>\n",
              "      <td>0</td>\n",
              "      <td>1</td>\n",
              "      <td>1</td>\n",
              "      <td>0</td>\n",
              "      <td>0</td>\n",
              "      <td>0</td>\n",
              "      <td>0</td>\n",
              "      <td>0</td>\n",
              "      <td>0</td>\n",
              "      <td>0</td>\n",
              "      <td>0</td>\n",
              "      <td>0</td>\n",
              "      <td>0</td>\n",
              "      <td>1</td>\n",
              "      <td>0</td>\n",
              "      <td>1</td>\n",
              "      <td>0</td>\n",
              "      <td>0</td>\n",
              "      <td>1</td>\n",
              "      <td>0</td>\n",
              "      <td>0</td>\n",
              "      <td>0</td>\n",
              "      <td>0</td>\n",
              "      <td>0</td>\n",
              "      <td>0</td>\n",
              "      <td>0</td>\n",
              "      <td>0</td>\n",
              "      <td>0</td>\n",
              "      <td>1</td>\n",
              "      <td>0</td>\n",
              "      <td>0</td>\n",
              "      <td>0</td>\n",
              "      <td>0</td>\n",
              "      <td>0</td>\n",
              "      <td>0</td>\n",
              "      <td>0</td>\n",
              "      <td>0</td>\n",
              "      <td>1</td>\n",
              "      <td>0</td>\n",
              "      <td>0</td>\n",
              "      <td>0</td>\n",
              "      <td>0</td>\n",
              "      <td>0</td>\n",
              "      <td>0</td>\n",
              "      <td>1</td>\n",
              "      <td>0</td>\n",
              "      <td>0</td>\n",
              "      <td>0</td>\n",
              "      <td>1</td>\n",
              "      <td>0</td>\n",
              "      <td>0</td>\n",
              "      <td>0</td>\n",
              "      <td>0</td>\n",
              "      <td>1</td>\n",
              "      <td>0</td>\n",
              "      <td>0</td>\n",
              "      <td>0</td>\n",
              "      <td>0</td>\n",
              "      <td>0</td>\n",
              "      <td>0</td>\n",
              "      <td>1</td>\n",
              "      <td>0</td>\n",
              "      <td>0</td>\n",
              "      <td>0</td>\n",
              "      <td>1</td>\n",
              "      <td>1</td>\n",
              "      <td>0</td>\n",
              "      <td>0</td>\n",
              "      <td>0</td>\n",
              "      <td>0</td>\n",
              "      <td>0</td>\n",
              "      <td>0</td>\n",
              "      <td>1</td>\n",
              "      <td>1</td>\n",
              "      <td>0</td>\n",
              "      <td>0</td>\n",
              "      <td>0</td>\n",
              "      <td>1</td>\n",
              "      <td>1</td>\n",
              "      <td>0</td>\n",
              "      <td>0</td>\n",
              "      <td>0</td>\n",
              "      <td>0</td>\n",
              "      <td>0</td>\n",
              "      <td>1</td>\n",
              "      <td>0</td>\n",
              "      <td>0</td>\n",
              "      <td>0</td>\n",
              "      <td>0</td>\n",
              "      <td>0</td>\n",
              "      <td>0</td>\n",
              "      <td>0</td>\n",
              "      <td>0</td>\n",
              "      <td>0</td>\n",
              "      <td>1</td>\n",
              "      <td>0</td>\n",
              "      <td>0</td>\n",
              "      <td>0</td>\n",
              "      <td>0</td>\n",
              "      <td>0</td>\n",
              "      <td>0</td>\n",
              "      <td>0</td>\n",
              "      <td>0</td>\n",
              "      <td>0</td>\n",
              "      <td>0</td>\n",
              "      <td>0</td>\n",
              "      <td>0</td>\n",
              "      <td>1</td>\n",
              "      <td>0</td>\n",
              "      <td>0</td>\n",
              "      <td>0</td>\n",
              "      <td>0</td>\n",
              "      <td>0</td>\n",
              "      <td>0</td>\n",
              "      <td>0</td>\n",
              "      <td>0</td>\n",
              "      <td>0</td>\n",
              "      <td>0</td>\n",
              "      <td>1</td>\n",
              "      <td>1</td>\n",
              "      <td>0</td>\n",
              "      <td>0</td>\n",
              "      <td>1</td>\n",
              "      <td>0</td>\n",
              "      <td>0</td>\n",
              "      <td>0</td>\n",
              "      <td>0</td>\n",
              "      <td>0</td>\n",
              "      <td>0</td>\n",
              "      <td>0</td>\n",
              "      <td>0</td>\n",
              "      <td>1</td>\n",
              "      <td>1</td>\n",
              "      <td>1</td>\n",
              "      <td>0</td>\n",
              "      <td>0</td>\n",
              "      <td>1</td>\n",
              "      <td>1</td>\n",
              "      <td>0</td>\n",
              "      <td>0</td>\n",
              "      <td>0</td>\n",
              "      <td>1</td>\n",
              "      <td>0</td>\n",
              "      <td>0</td>\n",
              "      <td>0</td>\n",
              "      <td>1</td>\n",
              "      <td>0</td>\n",
              "      <td>0</td>\n",
              "      <td>0</td>\n",
              "      <td>0</td>\n",
              "      <td>0</td>\n",
              "      <td>0</td>\n",
              "      <td>0</td>\n",
              "      <td>0</td>\n",
              "      <td>1</td>\n",
              "      <td>0</td>\n",
              "      <td>0</td>\n",
              "      <td>1</td>\n",
              "      <td>0</td>\n",
              "      <td>1</td>\n",
              "      <td>0</td>\n",
              "      <td>0</td>\n",
              "      <td>0</td>\n",
              "      <td>1</td>\n",
              "      <td>0</td>\n",
              "      <td>1</td>\n",
              "      <td>0</td>\n",
              "      <td>0</td>\n",
              "      <td>0</td>\n",
              "      <td>1</td>\n",
              "      <td>0</td>\n",
              "      <td>0</td>\n",
              "      <td>0</td>\n",
              "      <td>0</td>\n",
              "      <td>0</td>\n",
              "      <td>0</td>\n",
              "      <td>0</td>\n",
              "      <td>0</td>\n",
              "      <td>0</td>\n",
              "      <td>0</td>\n",
              "      <td>0</td>\n",
              "      <td>0</td>\n",
              "      <td>0</td>\n",
              "      <td>0</td>\n",
              "      <td>0</td>\n",
              "      <td>1</td>\n",
              "      <td>1</td>\n",
              "      <td>1</td>\n",
              "      <td>0</td>\n",
              "      <td>1</td>\n",
              "      <td>0</td>\n",
              "      <td>0</td>\n",
              "      <td>1</td>\n",
              "      <td>0</td>\n",
              "      <td>0</td>\n",
              "      <td>0</td>\n",
              "      <td>0</td>\n",
              "      <td>0</td>\n",
              "      <td>0</td>\n",
              "      <td>1</td>\n",
              "      <td>0</td>\n",
              "      <td>0</td>\n",
              "      <td>0</td>\n",
              "      <td>0</td>\n",
              "      <td>0</td>\n",
              "      <td>0</td>\n",
              "      <td>0</td>\n",
              "      <td>0</td>\n",
              "      <td>0</td>\n",
              "      <td>0</td>\n",
              "      <td>0</td>\n",
              "      <td>0</td>\n",
              "      <td>0</td>\n",
              "      <td>0</td>\n",
              "      <td>0</td>\n",
              "      <td>0</td>\n",
              "      <td>1</td>\n",
              "      <td>0</td>\n",
              "      <td>0</td>\n",
              "      <td>0</td>\n",
              "      <td>0</td>\n",
              "      <td>0</td>\n",
              "      <td>0</td>\n",
              "      <td>0</td>\n",
              "      <td>0</td>\n",
              "      <td>0</td>\n",
              "      <td>0</td>\n",
              "      <td>0</td>\n",
              "      <td>0</td>\n",
              "      <td>0</td>\n",
              "      <td>0</td>\n",
              "      <td>0</td>\n",
              "      <td>0</td>\n",
              "      <td>0</td>\n",
              "      <td>0</td>\n",
              "      <td>0</td>\n",
              "      <td>1</td>\n",
              "      <td>0</td>\n",
              "      <td>0</td>\n",
              "      <td>0</td>\n",
              "      <td>1</td>\n",
              "      <td>0</td>\n",
              "      <td>0</td>\n",
              "      <td>0</td>\n",
              "      <td>0</td>\n",
              "      <td>0</td>\n",
              "      <td>1</td>\n",
              "      <td>0</td>\n",
              "      <td>0</td>\n",
              "      <td>0</td>\n",
              "      <td>0</td>\n",
              "      <td>0</td>\n",
              "      <td>0</td>\n",
              "      <td>0</td>\n",
              "      <td>0</td>\n",
              "      <td>0</td>\n",
              "      <td>0</td>\n",
              "      <td>0</td>\n",
              "      <td>0</td>\n",
              "      <td>0</td>\n",
              "      <td>1</td>\n",
              "      <td>0</td>\n",
              "      <td>1</td>\n",
              "      <td>0</td>\n",
              "      <td>0</td>\n",
              "      <td>0</td>\n",
              "      <td>1</td>\n",
              "      <td>0</td>\n",
              "      <td>0</td>\n",
              "      <td>0</td>\n",
              "      <td>1</td>\n",
              "      <td>0</td>\n",
              "      <td>0</td>\n",
              "      <td>1</td>\n",
              "      <td>0</td>\n",
              "      <td>1</td>\n",
              "      <td>0</td>\n",
              "      <td>0</td>\n",
              "      <td>0</td>\n",
              "      <td>0</td>\n",
              "      <td>0</td>\n",
              "      <td>0</td>\n",
              "      <td>0</td>\n",
              "      <td>0</td>\n",
              "      <td>0</td>\n",
              "      <td>0</td>\n",
              "      <td>0</td>\n",
              "      <td>0</td>\n",
              "      <td>0</td>\n",
              "      <td>0</td>\n",
              "      <td>0</td>\n",
              "      <td>0</td>\n",
              "      <td>0</td>\n",
              "      <td>1</td>\n",
              "      <td>0</td>\n",
              "      <td>0</td>\n",
              "      <td>0</td>\n",
              "    </tr>\n",
              "    <tr>\n",
              "      <th>3</th>\n",
              "      <td>9</td>\n",
              "      <td>80.62</td>\n",
              "      <td>az</td>\n",
              "      <td>t</td>\n",
              "      <td>n</td>\n",
              "      <td>f</td>\n",
              "      <td>d</td>\n",
              "      <td>x</td>\n",
              "      <td>l</td>\n",
              "      <td>e</td>\n",
              "      <td>0</td>\n",
              "      <td>0</td>\n",
              "      <td>0</td>\n",
              "      <td>0</td>\n",
              "      <td>0</td>\n",
              "      <td>0</td>\n",
              "      <td>0</td>\n",
              "      <td>0</td>\n",
              "      <td>0</td>\n",
              "      <td>0</td>\n",
              "      <td>0</td>\n",
              "      <td>0</td>\n",
              "      <td>0</td>\n",
              "      <td>0</td>\n",
              "      <td>0</td>\n",
              "      <td>0</td>\n",
              "      <td>1</td>\n",
              "      <td>1</td>\n",
              "      <td>1</td>\n",
              "      <td>0</td>\n",
              "      <td>1</td>\n",
              "      <td>0</td>\n",
              "      <td>0</td>\n",
              "      <td>0</td>\n",
              "      <td>1</td>\n",
              "      <td>0</td>\n",
              "      <td>1</td>\n",
              "      <td>0</td>\n",
              "      <td>0</td>\n",
              "      <td>0</td>\n",
              "      <td>0</td>\n",
              "      <td>0</td>\n",
              "      <td>1</td>\n",
              "      <td>0</td>\n",
              "      <td>0</td>\n",
              "      <td>1</td>\n",
              "      <td>0</td>\n",
              "      <td>0</td>\n",
              "      <td>0</td>\n",
              "      <td>0</td>\n",
              "      <td>0</td>\n",
              "      <td>0</td>\n",
              "      <td>0</td>\n",
              "      <td>1</td>\n",
              "      <td>0</td>\n",
              "      <td>0</td>\n",
              "      <td>0</td>\n",
              "      <td>0</td>\n",
              "      <td>0</td>\n",
              "      <td>0</td>\n",
              "      <td>1</td>\n",
              "      <td>0</td>\n",
              "      <td>0</td>\n",
              "      <td>0</td>\n",
              "      <td>0</td>\n",
              "      <td>0</td>\n",
              "      <td>0</td>\n",
              "      <td>0</td>\n",
              "      <td>0</td>\n",
              "      <td>1</td>\n",
              "      <td>1</td>\n",
              "      <td>0</td>\n",
              "      <td>1</td>\n",
              "      <td>0</td>\n",
              "      <td>1</td>\n",
              "      <td>0</td>\n",
              "      <td>0</td>\n",
              "      <td>0</td>\n",
              "      <td>1</td>\n",
              "      <td>0</td>\n",
              "      <td>0</td>\n",
              "      <td>0</td>\n",
              "      <td>1</td>\n",
              "      <td>0</td>\n",
              "      <td>0</td>\n",
              "      <td>0</td>\n",
              "      <td>0</td>\n",
              "      <td>0</td>\n",
              "      <td>0</td>\n",
              "      <td>0</td>\n",
              "      <td>0</td>\n",
              "      <td>0</td>\n",
              "      <td>0</td>\n",
              "      <td>0</td>\n",
              "      <td>1</td>\n",
              "      <td>0</td>\n",
              "      <td>1</td>\n",
              "      <td>0</td>\n",
              "      <td>0</td>\n",
              "      <td>1</td>\n",
              "      <td>0</td>\n",
              "      <td>0</td>\n",
              "      <td>0</td>\n",
              "      <td>0</td>\n",
              "      <td>0</td>\n",
              "      <td>0</td>\n",
              "      <td>1</td>\n",
              "      <td>0</td>\n",
              "      <td>0</td>\n",
              "      <td>1</td>\n",
              "      <td>0</td>\n",
              "      <td>0</td>\n",
              "      <td>1</td>\n",
              "      <td>0</td>\n",
              "      <td>0</td>\n",
              "      <td>0</td>\n",
              "      <td>0</td>\n",
              "      <td>0</td>\n",
              "      <td>1</td>\n",
              "      <td>0</td>\n",
              "      <td>0</td>\n",
              "      <td>0</td>\n",
              "      <td>0</td>\n",
              "      <td>0</td>\n",
              "      <td>0</td>\n",
              "      <td>1</td>\n",
              "      <td>0</td>\n",
              "      <td>0</td>\n",
              "      <td>0</td>\n",
              "      <td>1</td>\n",
              "      <td>0</td>\n",
              "      <td>0</td>\n",
              "      <td>0</td>\n",
              "      <td>0</td>\n",
              "      <td>0</td>\n",
              "      <td>0</td>\n",
              "      <td>0</td>\n",
              "      <td>0</td>\n",
              "      <td>0</td>\n",
              "      <td>1</td>\n",
              "      <td>0</td>\n",
              "      <td>1</td>\n",
              "      <td>0</td>\n",
              "      <td>0</td>\n",
              "      <td>0</td>\n",
              "      <td>1</td>\n",
              "      <td>1</td>\n",
              "      <td>0</td>\n",
              "      <td>0</td>\n",
              "      <td>0</td>\n",
              "      <td>0</td>\n",
              "      <td>0</td>\n",
              "      <td>0</td>\n",
              "      <td>1</td>\n",
              "      <td>0</td>\n",
              "      <td>0</td>\n",
              "      <td>0</td>\n",
              "      <td>0</td>\n",
              "      <td>1</td>\n",
              "      <td>0</td>\n",
              "      <td>0</td>\n",
              "      <td>0</td>\n",
              "      <td>1</td>\n",
              "      <td>0</td>\n",
              "      <td>0</td>\n",
              "      <td>0</td>\n",
              "      <td>0</td>\n",
              "      <td>0</td>\n",
              "      <td>0</td>\n",
              "      <td>0</td>\n",
              "      <td>1</td>\n",
              "      <td>0</td>\n",
              "      <td>0</td>\n",
              "      <td>0</td>\n",
              "      <td>0</td>\n",
              "      <td>1</td>\n",
              "      <td>0</td>\n",
              "      <td>0</td>\n",
              "      <td>0</td>\n",
              "      <td>0</td>\n",
              "      <td>0</td>\n",
              "      <td>0</td>\n",
              "      <td>0</td>\n",
              "      <td>0</td>\n",
              "      <td>0</td>\n",
              "      <td>0</td>\n",
              "      <td>0</td>\n",
              "      <td>0</td>\n",
              "      <td>1</td>\n",
              "      <td>0</td>\n",
              "      <td>0</td>\n",
              "      <td>0</td>\n",
              "      <td>0</td>\n",
              "      <td>0</td>\n",
              "      <td>0</td>\n",
              "      <td>0</td>\n",
              "      <td>0</td>\n",
              "      <td>0</td>\n",
              "      <td>0</td>\n",
              "      <td>1</td>\n",
              "      <td>0</td>\n",
              "      <td>0</td>\n",
              "      <td>0</td>\n",
              "      <td>1</td>\n",
              "      <td>0</td>\n",
              "      <td>0</td>\n",
              "      <td>0</td>\n",
              "      <td>0</td>\n",
              "      <td>0</td>\n",
              "      <td>0</td>\n",
              "      <td>0</td>\n",
              "      <td>0</td>\n",
              "      <td>1</td>\n",
              "      <td>0</td>\n",
              "      <td>1</td>\n",
              "      <td>0</td>\n",
              "      <td>0</td>\n",
              "      <td>1</td>\n",
              "      <td>0</td>\n",
              "      <td>0</td>\n",
              "      <td>0</td>\n",
              "      <td>0</td>\n",
              "      <td>0</td>\n",
              "      <td>1</td>\n",
              "      <td>0</td>\n",
              "      <td>0</td>\n",
              "      <td>1</td>\n",
              "      <td>0</td>\n",
              "      <td>0</td>\n",
              "      <td>0</td>\n",
              "      <td>0</td>\n",
              "      <td>0</td>\n",
              "      <td>0</td>\n",
              "      <td>0</td>\n",
              "      <td>0</td>\n",
              "      <td>1</td>\n",
              "      <td>0</td>\n",
              "      <td>0</td>\n",
              "      <td>1</td>\n",
              "      <td>0</td>\n",
              "      <td>1</td>\n",
              "      <td>0</td>\n",
              "      <td>0</td>\n",
              "      <td>0</td>\n",
              "      <td>1</td>\n",
              "      <td>0</td>\n",
              "      <td>1</td>\n",
              "      <td>0</td>\n",
              "      <td>0</td>\n",
              "      <td>0</td>\n",
              "      <td>1</td>\n",
              "      <td>0</td>\n",
              "      <td>0</td>\n",
              "      <td>0</td>\n",
              "      <td>0</td>\n",
              "      <td>0</td>\n",
              "      <td>0</td>\n",
              "      <td>0</td>\n",
              "      <td>0</td>\n",
              "      <td>0</td>\n",
              "      <td>0</td>\n",
              "      <td>0</td>\n",
              "      <td>0</td>\n",
              "      <td>0</td>\n",
              "      <td>0</td>\n",
              "      <td>0</td>\n",
              "      <td>1</td>\n",
              "      <td>1</td>\n",
              "      <td>0</td>\n",
              "      <td>0</td>\n",
              "      <td>1</td>\n",
              "      <td>0</td>\n",
              "      <td>0</td>\n",
              "      <td>1</td>\n",
              "      <td>0</td>\n",
              "      <td>0</td>\n",
              "      <td>0</td>\n",
              "      <td>0</td>\n",
              "      <td>0</td>\n",
              "      <td>0</td>\n",
              "      <td>1</td>\n",
              "      <td>0</td>\n",
              "      <td>0</td>\n",
              "      <td>0</td>\n",
              "      <td>0</td>\n",
              "      <td>1</td>\n",
              "      <td>0</td>\n",
              "      <td>0</td>\n",
              "      <td>0</td>\n",
              "      <td>0</td>\n",
              "      <td>0</td>\n",
              "      <td>0</td>\n",
              "      <td>0</td>\n",
              "      <td>0</td>\n",
              "      <td>0</td>\n",
              "      <td>0</td>\n",
              "      <td>0</td>\n",
              "      <td>1</td>\n",
              "      <td>0</td>\n",
              "      <td>0</td>\n",
              "      <td>0</td>\n",
              "      <td>0</td>\n",
              "      <td>0</td>\n",
              "      <td>0</td>\n",
              "      <td>0</td>\n",
              "      <td>0</td>\n",
              "      <td>0</td>\n",
              "      <td>0</td>\n",
              "      <td>0</td>\n",
              "      <td>0</td>\n",
              "      <td>0</td>\n",
              "      <td>0</td>\n",
              "      <td>0</td>\n",
              "      <td>0</td>\n",
              "      <td>0</td>\n",
              "      <td>0</td>\n",
              "      <td>0</td>\n",
              "      <td>0</td>\n",
              "      <td>0</td>\n",
              "      <td>0</td>\n",
              "      <td>0</td>\n",
              "      <td>1</td>\n",
              "      <td>0</td>\n",
              "      <td>0</td>\n",
              "      <td>0</td>\n",
              "      <td>0</td>\n",
              "      <td>0</td>\n",
              "      <td>0</td>\n",
              "      <td>0</td>\n",
              "      <td>0</td>\n",
              "      <td>0</td>\n",
              "      <td>0</td>\n",
              "      <td>0</td>\n",
              "      <td>0</td>\n",
              "      <td>0</td>\n",
              "      <td>0</td>\n",
              "      <td>0</td>\n",
              "      <td>0</td>\n",
              "      <td>0</td>\n",
              "      <td>0</td>\n",
              "      <td>0</td>\n",
              "      <td>1</td>\n",
              "      <td>0</td>\n",
              "      <td>1</td>\n",
              "      <td>0</td>\n",
              "      <td>0</td>\n",
              "      <td>0</td>\n",
              "      <td>0</td>\n",
              "      <td>0</td>\n",
              "      <td>0</td>\n",
              "      <td>0</td>\n",
              "      <td>1</td>\n",
              "      <td>0</td>\n",
              "      <td>0</td>\n",
              "      <td>1</td>\n",
              "      <td>0</td>\n",
              "      <td>1</td>\n",
              "      <td>0</td>\n",
              "      <td>0</td>\n",
              "      <td>0</td>\n",
              "      <td>0</td>\n",
              "      <td>0</td>\n",
              "      <td>0</td>\n",
              "      <td>0</td>\n",
              "      <td>0</td>\n",
              "      <td>1</td>\n",
              "      <td>0</td>\n",
              "      <td>0</td>\n",
              "      <td>0</td>\n",
              "      <td>0</td>\n",
              "      <td>0</td>\n",
              "      <td>0</td>\n",
              "      <td>0</td>\n",
              "      <td>0</td>\n",
              "      <td>0</td>\n",
              "      <td>0</td>\n",
              "      <td>0</td>\n",
              "      <td>0</td>\n",
              "    </tr>\n",
              "    <tr>\n",
              "      <th>4</th>\n",
              "      <td>13</td>\n",
              "      <td>78.02</td>\n",
              "      <td>az</td>\n",
              "      <td>v</td>\n",
              "      <td>n</td>\n",
              "      <td>f</td>\n",
              "      <td>d</td>\n",
              "      <td>h</td>\n",
              "      <td>d</td>\n",
              "      <td>n</td>\n",
              "      <td>0</td>\n",
              "      <td>0</td>\n",
              "      <td>0</td>\n",
              "      <td>0</td>\n",
              "      <td>0</td>\n",
              "      <td>0</td>\n",
              "      <td>0</td>\n",
              "      <td>0</td>\n",
              "      <td>0</td>\n",
              "      <td>0</td>\n",
              "      <td>0</td>\n",
              "      <td>0</td>\n",
              "      <td>0</td>\n",
              "      <td>0</td>\n",
              "      <td>0</td>\n",
              "      <td>0</td>\n",
              "      <td>1</td>\n",
              "      <td>1</td>\n",
              "      <td>1</td>\n",
              "      <td>0</td>\n",
              "      <td>1</td>\n",
              "      <td>0</td>\n",
              "      <td>0</td>\n",
              "      <td>0</td>\n",
              "      <td>1</td>\n",
              "      <td>0</td>\n",
              "      <td>1</td>\n",
              "      <td>0</td>\n",
              "      <td>0</td>\n",
              "      <td>0</td>\n",
              "      <td>0</td>\n",
              "      <td>0</td>\n",
              "      <td>1</td>\n",
              "      <td>0</td>\n",
              "      <td>0</td>\n",
              "      <td>1</td>\n",
              "      <td>0</td>\n",
              "      <td>0</td>\n",
              "      <td>0</td>\n",
              "      <td>0</td>\n",
              "      <td>1</td>\n",
              "      <td>0</td>\n",
              "      <td>0</td>\n",
              "      <td>1</td>\n",
              "      <td>0</td>\n",
              "      <td>0</td>\n",
              "      <td>0</td>\n",
              "      <td>0</td>\n",
              "      <td>0</td>\n",
              "      <td>0</td>\n",
              "      <td>1</td>\n",
              "      <td>0</td>\n",
              "      <td>0</td>\n",
              "      <td>0</td>\n",
              "      <td>0</td>\n",
              "      <td>0</td>\n",
              "      <td>0</td>\n",
              "      <td>0</td>\n",
              "      <td>0</td>\n",
              "      <td>1</td>\n",
              "      <td>0</td>\n",
              "      <td>0</td>\n",
              "      <td>1</td>\n",
              "      <td>0</td>\n",
              "      <td>1</td>\n",
              "      <td>0</td>\n",
              "      <td>0</td>\n",
              "      <td>0</td>\n",
              "      <td>1</td>\n",
              "      <td>0</td>\n",
              "      <td>0</td>\n",
              "      <td>0</td>\n",
              "      <td>0</td>\n",
              "      <td>0</td>\n",
              "      <td>0</td>\n",
              "      <td>0</td>\n",
              "      <td>0</td>\n",
              "      <td>0</td>\n",
              "      <td>0</td>\n",
              "      <td>0</td>\n",
              "      <td>0</td>\n",
              "      <td>0</td>\n",
              "      <td>0</td>\n",
              "      <td>0</td>\n",
              "      <td>1</td>\n",
              "      <td>0</td>\n",
              "      <td>1</td>\n",
              "      <td>0</td>\n",
              "      <td>0</td>\n",
              "      <td>1</td>\n",
              "      <td>0</td>\n",
              "      <td>0</td>\n",
              "      <td>0</td>\n",
              "      <td>0</td>\n",
              "      <td>0</td>\n",
              "      <td>0</td>\n",
              "      <td>1</td>\n",
              "      <td>0</td>\n",
              "      <td>0</td>\n",
              "      <td>1</td>\n",
              "      <td>0</td>\n",
              "      <td>0</td>\n",
              "      <td>1</td>\n",
              "      <td>0</td>\n",
              "      <td>0</td>\n",
              "      <td>0</td>\n",
              "      <td>0</td>\n",
              "      <td>0</td>\n",
              "      <td>1</td>\n",
              "      <td>0</td>\n",
              "      <td>0</td>\n",
              "      <td>0</td>\n",
              "      <td>0</td>\n",
              "      <td>0</td>\n",
              "      <td>0</td>\n",
              "      <td>1</td>\n",
              "      <td>0</td>\n",
              "      <td>0</td>\n",
              "      <td>0</td>\n",
              "      <td>1</td>\n",
              "      <td>0</td>\n",
              "      <td>0</td>\n",
              "      <td>0</td>\n",
              "      <td>0</td>\n",
              "      <td>0</td>\n",
              "      <td>0</td>\n",
              "      <td>0</td>\n",
              "      <td>0</td>\n",
              "      <td>0</td>\n",
              "      <td>0</td>\n",
              "      <td>0</td>\n",
              "      <td>1</td>\n",
              "      <td>0</td>\n",
              "      <td>0</td>\n",
              "      <td>0</td>\n",
              "      <td>1</td>\n",
              "      <td>1</td>\n",
              "      <td>0</td>\n",
              "      <td>0</td>\n",
              "      <td>0</td>\n",
              "      <td>0</td>\n",
              "      <td>0</td>\n",
              "      <td>0</td>\n",
              "      <td>1</td>\n",
              "      <td>1</td>\n",
              "      <td>0</td>\n",
              "      <td>0</td>\n",
              "      <td>0</td>\n",
              "      <td>1</td>\n",
              "      <td>0</td>\n",
              "      <td>0</td>\n",
              "      <td>0</td>\n",
              "      <td>1</td>\n",
              "      <td>0</td>\n",
              "      <td>0</td>\n",
              "      <td>0</td>\n",
              "      <td>0</td>\n",
              "      <td>0</td>\n",
              "      <td>0</td>\n",
              "      <td>0</td>\n",
              "      <td>0</td>\n",
              "      <td>0</td>\n",
              "      <td>0</td>\n",
              "      <td>0</td>\n",
              "      <td>0</td>\n",
              "      <td>1</td>\n",
              "      <td>0</td>\n",
              "      <td>0</td>\n",
              "      <td>0</td>\n",
              "      <td>0</td>\n",
              "      <td>0</td>\n",
              "      <td>0</td>\n",
              "      <td>0</td>\n",
              "      <td>0</td>\n",
              "      <td>0</td>\n",
              "      <td>0</td>\n",
              "      <td>0</td>\n",
              "      <td>0</td>\n",
              "      <td>1</td>\n",
              "      <td>0</td>\n",
              "      <td>0</td>\n",
              "      <td>0</td>\n",
              "      <td>0</td>\n",
              "      <td>0</td>\n",
              "      <td>0</td>\n",
              "      <td>0</td>\n",
              "      <td>0</td>\n",
              "      <td>0</td>\n",
              "      <td>0</td>\n",
              "      <td>1</td>\n",
              "      <td>0</td>\n",
              "      <td>0</td>\n",
              "      <td>0</td>\n",
              "      <td>1</td>\n",
              "      <td>0</td>\n",
              "      <td>0</td>\n",
              "      <td>0</td>\n",
              "      <td>0</td>\n",
              "      <td>0</td>\n",
              "      <td>0</td>\n",
              "      <td>0</td>\n",
              "      <td>0</td>\n",
              "      <td>1</td>\n",
              "      <td>0</td>\n",
              "      <td>1</td>\n",
              "      <td>0</td>\n",
              "      <td>0</td>\n",
              "      <td>1</td>\n",
              "      <td>0</td>\n",
              "      <td>0</td>\n",
              "      <td>0</td>\n",
              "      <td>0</td>\n",
              "      <td>0</td>\n",
              "      <td>1</td>\n",
              "      <td>0</td>\n",
              "      <td>0</td>\n",
              "      <td>1</td>\n",
              "      <td>0</td>\n",
              "      <td>0</td>\n",
              "      <td>0</td>\n",
              "      <td>0</td>\n",
              "      <td>0</td>\n",
              "      <td>0</td>\n",
              "      <td>0</td>\n",
              "      <td>0</td>\n",
              "      <td>0</td>\n",
              "      <td>0</td>\n",
              "      <td>0</td>\n",
              "      <td>0</td>\n",
              "      <td>0</td>\n",
              "      <td>1</td>\n",
              "      <td>0</td>\n",
              "      <td>0</td>\n",
              "      <td>0</td>\n",
              "      <td>1</td>\n",
              "      <td>0</td>\n",
              "      <td>1</td>\n",
              "      <td>0</td>\n",
              "      <td>0</td>\n",
              "      <td>0</td>\n",
              "      <td>1</td>\n",
              "      <td>0</td>\n",
              "      <td>0</td>\n",
              "      <td>0</td>\n",
              "      <td>0</td>\n",
              "      <td>0</td>\n",
              "      <td>0</td>\n",
              "      <td>0</td>\n",
              "      <td>0</td>\n",
              "      <td>0</td>\n",
              "      <td>0</td>\n",
              "      <td>0</td>\n",
              "      <td>0</td>\n",
              "      <td>0</td>\n",
              "      <td>0</td>\n",
              "      <td>0</td>\n",
              "      <td>1</td>\n",
              "      <td>1</td>\n",
              "      <td>0</td>\n",
              "      <td>0</td>\n",
              "      <td>1</td>\n",
              "      <td>0</td>\n",
              "      <td>0</td>\n",
              "      <td>1</td>\n",
              "      <td>0</td>\n",
              "      <td>0</td>\n",
              "      <td>0</td>\n",
              "      <td>0</td>\n",
              "      <td>0</td>\n",
              "      <td>0</td>\n",
              "      <td>1</td>\n",
              "      <td>0</td>\n",
              "      <td>0</td>\n",
              "      <td>0</td>\n",
              "      <td>0</td>\n",
              "      <td>0</td>\n",
              "      <td>0</td>\n",
              "      <td>0</td>\n",
              "      <td>0</td>\n",
              "      <td>0</td>\n",
              "      <td>0</td>\n",
              "      <td>0</td>\n",
              "      <td>0</td>\n",
              "      <td>0</td>\n",
              "      <td>0</td>\n",
              "      <td>0</td>\n",
              "      <td>0</td>\n",
              "      <td>1</td>\n",
              "      <td>0</td>\n",
              "      <td>0</td>\n",
              "      <td>0</td>\n",
              "      <td>0</td>\n",
              "      <td>0</td>\n",
              "      <td>0</td>\n",
              "      <td>0</td>\n",
              "      <td>0</td>\n",
              "      <td>0</td>\n",
              "      <td>0</td>\n",
              "      <td>0</td>\n",
              "      <td>0</td>\n",
              "      <td>0</td>\n",
              "      <td>0</td>\n",
              "      <td>0</td>\n",
              "      <td>0</td>\n",
              "      <td>0</td>\n",
              "      <td>0</td>\n",
              "      <td>0</td>\n",
              "      <td>0</td>\n",
              "      <td>0</td>\n",
              "      <td>0</td>\n",
              "      <td>0</td>\n",
              "      <td>1</td>\n",
              "      <td>0</td>\n",
              "      <td>0</td>\n",
              "      <td>0</td>\n",
              "      <td>0</td>\n",
              "      <td>0</td>\n",
              "      <td>1</td>\n",
              "      <td>0</td>\n",
              "      <td>0</td>\n",
              "      <td>0</td>\n",
              "      <td>0</td>\n",
              "      <td>0</td>\n",
              "      <td>0</td>\n",
              "      <td>0</td>\n",
              "      <td>0</td>\n",
              "      <td>0</td>\n",
              "      <td>0</td>\n",
              "      <td>0</td>\n",
              "      <td>0</td>\n",
              "      <td>0</td>\n",
              "      <td>1</td>\n",
              "      <td>0</td>\n",
              "      <td>1</td>\n",
              "      <td>0</td>\n",
              "      <td>0</td>\n",
              "      <td>0</td>\n",
              "      <td>0</td>\n",
              "      <td>0</td>\n",
              "      <td>0</td>\n",
              "      <td>0</td>\n",
              "      <td>1</td>\n",
              "      <td>0</td>\n",
              "      <td>0</td>\n",
              "      <td>1</td>\n",
              "      <td>0</td>\n",
              "      <td>1</td>\n",
              "      <td>0</td>\n",
              "      <td>0</td>\n",
              "      <td>0</td>\n",
              "      <td>0</td>\n",
              "      <td>0</td>\n",
              "      <td>0</td>\n",
              "      <td>0</td>\n",
              "      <td>1</td>\n",
              "      <td>0</td>\n",
              "      <td>0</td>\n",
              "      <td>0</td>\n",
              "      <td>0</td>\n",
              "      <td>0</td>\n",
              "      <td>0</td>\n",
              "      <td>0</td>\n",
              "      <td>0</td>\n",
              "      <td>0</td>\n",
              "      <td>0</td>\n",
              "      <td>0</td>\n",
              "      <td>0</td>\n",
              "      <td>0</td>\n",
              "    </tr>\n",
              "  </tbody>\n",
              "</table>\n",
              "</div>"
            ],
            "text/plain": [
              "   ID       y  X0 X1  X2 X3 X4 X5 X6 X8  X10  X11  X12  X13  X14  X15  X16  \\\n",
              "0   0  130.81   k  v  at  a  d  u  j  o    0    0    0    1    0    0    0   \n",
              "1   6   88.53   k  t  av  e  d  y  l  o    0    0    0    0    0    0    0   \n",
              "2   7   76.26  az  w   n  c  d  x  j  x    0    0    0    0    0    0    0   \n",
              "3   9   80.62  az  t   n  f  d  x  l  e    0    0    0    0    0    0    0   \n",
              "4  13   78.02  az  v   n  f  d  h  d  n    0    0    0    0    0    0    0   \n",
              "\n",
              "   X17  X18  X19  X20  X21  X22  X23  X24  X26  X27  X28  X29  X30  X31  X32  \\\n",
              "0    0    1    0    0    1    0    0    0    0    0    0    0    0    1    0   \n",
              "1    0    1    0    0    0    0    0    0    0    1    0    0    0    1    0   \n",
              "2    1    0    0    0    0    0    0    0    0    1    1    1    0    1    0   \n",
              "3    0    0    0    0    0    0    0    0    0    1    1    1    0    1    0   \n",
              "4    0    0    0    0    0    0    0    0    0    1    1    1    0    1    0   \n",
              "\n",
              "   X33  X34  X35  X36  X37  X38  X39  X40  X41  X42  X43  X44  X45  X46  X47  \\\n",
              "0    0    0    1    0    1    0    0    0    0    0    0    0    0    1    0   \n",
              "1    0    0    1    0    1    0    0    0    0    0    0    0    0    0    0   \n",
              "2    0    0    1    0    1    0    0    0    0    0    1    0    0    1    0   \n",
              "3    0    0    1    0    1    0    0    0    0    0    1    0    0    1    0   \n",
              "4    0    0    1    0    1    0    0    0    0    0    1    0    0    1    0   \n",
              "\n",
              "   X48  X49  X50  X51  X52  X53  X54  X55  X56  X57  X58  X59  X60  X61  X62  \\\n",
              "0    0    0    0    0    0    0    0    0    0    0    1    0    0    0    0   \n",
              "1    0    0    0    1    0    0    0    0    0    0    0    0    0    1    0   \n",
              "2    0    0    0    1    0    0    1    0    0    0    1    0    0    1    0   \n",
              "3    0    0    0    0    0    0    1    0    0    0    0    0    0    1    0   \n",
              "4    0    0    0    1    0    0    1    0    0    0    0    0    0    1    0   \n",
              "\n",
              "   X63  X64  X65  X66  X67  X68  X69  X70  X71  X73  X74  X75  X76  X77  X78  \\\n",
              "0    0    0    0    0    0    1    0    1    0    0    1    0    0    0    0   \n",
              "1    0    0    0    0    0    0    0    1    0    0    1    0    0    0    0   \n",
              "2    0    0    0    0    0    1    0    1    1    0    1    1    1    0    0   \n",
              "3    0    0    0    0    0    0    0    1    1    0    1    0    1    0    0   \n",
              "4    0    0    0    0    0    0    0    1    0    0    1    0    1    0    0   \n",
              "\n",
              "   X79  X80  X81  X82  X83  X84  X85  X86  X87  X88  X89  X90  X91  X92  X93  \\\n",
              "0    0    0    0    0    0    0    1    0    0    0    0    0    0    0    0   \n",
              "1    0    1    0    0    0    0    1    0    0    0    0    0    0    0    0   \n",
              "2    0    1    0    0    0    1    1    0    0    0    0    0    0    0    0   \n",
              "3    0    1    0    0    0    1    0    0    0    0    0    0    0    0    0   \n",
              "4    0    1    0    0    0    0    0    0    0    0    0    0    0    0    0   \n",
              "\n",
              "   X94  X95  X96  X97  X98  X99  X100  X101  X102  X103  X104  X105  X106  \\\n",
              "0    0    0    0    0    0    0     0     0     0     0     0     0     0   \n",
              "1    0    0    1    0    1    0     1     1     0     0     0     0     0   \n",
              "2    0    0    1    0    1    0     0     1     0     0     0     0     0   \n",
              "3    0    0    1    0    1    0     0     1     0     0     0     0     0   \n",
              "4    0    0    1    0    1    0     0     1     0     0     0     0     0   \n",
              "\n",
              "   X107  X108  X109  X110  X111  X112  X113  X114  X115  X116  X117  X118  \\\n",
              "0     0     0     0     0     1     0     0     1     0     1     0     1   \n",
              "1     0     0     0     0     1     0     0     0     0     0     0     1   \n",
              "2     0     0     0     0     1     0     0     0     0     0     0     0   \n",
              "3     0     1     0     0     1     0     0     1     0     0     0     0   \n",
              "4     0     1     0     0     1     0     0     1     0     0     0     0   \n",
              "\n",
              "   X119  X120  X122  X123  X124  X125  X126  X127  X128  X129  X130  X131  \\\n",
              "0     1     1     0     0     0     0     0     0     1     0     0     1   \n",
              "1     1     1     0     0     0     0     0     1     1     0     0     0   \n",
              "2     0     1     0     0     0     0     0     0     1     0     0     0   \n",
              "3     0     1     0     0     0     0     0     0     1     0     0     0   \n",
              "4     0     1     0     0     0     0     0     0     1     0     0     0   \n",
              "\n",
              "   X132  X133  X134  X135  X136  X137  X138  X139  X140  X141  X142  X143  \\\n",
              "0     0     0     0     0     1     1     0     0     0     0     1     0   \n",
              "1     1     0     0     0     1     0     0     0     0     0     1     0   \n",
              "2     1     0     0     0     0     1     0     0     0     0     0     0   \n",
              "3     1     0     0     0     0     0     0     0     0     0     1     0   \n",
              "4     1     0     0     0     0     0     0     0     0     0     0     0   \n",
              "\n",
              "   X144  X145  X146  X147  X148  X150  X151  X152  X153  X154  X155  X156  \\\n",
              "0     1     0     0     0     0     1     0     0     0     0     0     1   \n",
              "1     1     0     0     0     0     1     0     0     0     0     0     1   \n",
              "2     1     0     0     0     1     1     0     0     0     0     0     0   \n",
              "3     1     0     0     0     1     1     0     0     0     0     0     0   \n",
              "4     1     0     0     0     1     1     0     0     0     0     0     0   \n",
              "\n",
              "   X157  X158  X159  X160  X161  X162  X163  X164  X165  X166  X167  X168  \\\n",
              "0     0     0     0     0     0     0     0     0     0     0     0     0   \n",
              "1     0     0     0     0     0     0     0     0     1     0     0     0   \n",
              "2     1     1     0     0     0     1     1     0     0     0     0     0   \n",
              "3     1     0     0     0     0     1     0     0     0     1     0     0   \n",
              "4     1     1     0     0     0     1     0     0     0     1     0     0   \n",
              "\n",
              "   X169  X170  X171  X172  X173  X174  X175  X176  X177  X178  X179  X180  \\\n",
              "0     0     1     0     0     0     0     0     0     0     0     1     0   \n",
              "1     0     0     0     0     0     0     0     0     0     1     0     0   \n",
              "2     1     0     0     0     0     0     0     0     0     0     1     0   \n",
              "3     0     0     0     0     0     1     0     0     0     0     1     0   \n",
              "4     0     0     0     0     0     0     0     0     0     0     1     0   \n",
              "\n",
              "   X181  X182  X183  X184  X185  X186  X187  X189  X190  X191  X192  X194  \\\n",
              "0     0     0     0     1     0     0     1     1     0     0     0     1   \n",
              "1     0     0     0     0     0     0     1     1     0     0     0     1   \n",
              "2     0     0     0     0     0     0     0     0     0     0     0     1   \n",
              "3     0     0     0     0     0     0     0     0     0     0     0     1   \n",
              "4     0     0     0     0     0     0     0     0     0     0     0     1   \n",
              "\n",
              "   X195  X196  X197  X198  X199  X200  X201  X202  X203  X204  X205  X206  \\\n",
              "0     0     0     0     0     0     0     0     0     0     1     0     0   \n",
              "1     0     0     0     0     0     0     0     0     0     0     1     0   \n",
              "2     0     0     0     0     0     0     0     0     0     0     1     1   \n",
              "3     0     0     0     0     0     0     0     0     0     0     1     0   \n",
              "4     0     0     0     0     0     0     0     0     0     0     1     0   \n",
              "\n",
              "   X207  X208  X209  X210  X211  X212  X213  X214  X215  X216  X217  X218  \\\n",
              "0     0     0     1     0     0     0     0     0     0     0     0     0   \n",
              "1     0     0     1     0     0     0     0     0     0     0     0     0   \n",
              "2     0     0     1     0     0     0     0     0     0     0     0     1   \n",
              "3     0     0     1     0     0     0     0     0     0     0     0     1   \n",
              "4     0     0     1     0     0     0     0     0     0     0     0     1   \n",
              "\n",
              "   X219  X220  X221  X222  X223  X224  X225  X226  X227  X228  X229  X230  \\\n",
              "0     0     1     0     0     0     0     0     0     0     0     0     0   \n",
              "1     0     0     0     0     0     0     0     0     0     0     1     0   \n",
              "2     1     1     0     0     1     1     0     0     0     1     0     0   \n",
              "3     0     1     0     0     1     0     0     0     0     0     1     0   \n",
              "4     0     1     0     0     1     0     0     0     0     0     1     0   \n",
              "\n",
              "   X231  X232  X233  X234  X235  X236  X237  X238  X239  X240  X241  X242  \\\n",
              "0     0     0     0     1     0     0     1     0     0     0     0     0   \n",
              "1     0     0     0     0     0     0     0     1     0     0     0     0   \n",
              "2     0     1     0     0     0     0     0     0     0     0     1     0   \n",
              "3     0     1     0     0     0     0     0     0     0     0     1     0   \n",
              "4     0     1     0     0     0     0     0     0     0     0     0     0   \n",
              "\n",
              "   X243  X244  X245  X246  X247  X248  X249  X250  X251  X252  X253  X254  \\\n",
              "0     0     0     0     0     0     0     0     0     0     0     0     0   \n",
              "1     0     0     0     0     0     0     0     1     0     0     0     0   \n",
              "2     0     1     0     1     0     0     0     1     0     1     0     0   \n",
              "3     0     1     0     1     0     0     0     1     0     1     0     0   \n",
              "4     0     0     0     1     0     0     0     1     0     1     0     0   \n",
              "\n",
              "   X255  X256  X257  X258  X259  X260  X261  X262  X263  X264  X265  X266  \\\n",
              "0     0     0     0     0     0     0     0     1     1     0     0     1   \n",
              "1     0     0     0     0     0     0     0     0     1     0     1     0   \n",
              "2     0     1     0     0     0     0     0     0     0     0     0     0   \n",
              "3     0     1     0     0     0     0     0     0     0     0     0     0   \n",
              "4     0     1     0     0     0     0     0     0     0     0     0     0   \n",
              "\n",
              "   X267  X268  X269  X270  X271  X272  X273  X274  X275  X276  X277  X278  \\\n",
              "0     0     0     0     0     0     0     1     0     1     0     0     0   \n",
              "1     0     0     0     0     0     0     1     0     1     0     0     0   \n",
              "2     0     0     0     0     0     1     1     1     0     1     0     0   \n",
              "3     0     0     0     0     0     1     1     0     0     1     0     0   \n",
              "4     0     0     0     0     0     1     1     0     0     1     0     0   \n",
              "\n",
              "   X279  X280  X281  X282  X283  X284  X285  X286  X287  X288  X289  X290  \\\n",
              "0     0     0     0     0     0     0     1     0     0     0     0     0   \n",
              "1     0     0     0     0     0     0     1     0     0     0     0     0   \n",
              "2     1     0     0     0     0     0     0     1     0     0     0     0   \n",
              "3     1     0     0     0     0     0     0     1     0     0     0     0   \n",
              "4     1     0     0     0     0     0     0     1     0     0     0     0   \n",
              "\n",
              "   X291  X292  X293  X294  X295  X296  X297  X298  X299  X300  X301  X302  \\\n",
              "0     0     0     0     0     0     0     0     0     0     0     0     0   \n",
              "1     0     0     0     0     0     0     0     0     0     0     0     0   \n",
              "2     0     0     0     0     0     0     0     0     0     0     0     0   \n",
              "3     1     0     0     0     0     0     0     0     0     0     0     0   \n",
              "4     0     0     0     0     0     0     0     0     0     0     0     0   \n",
              "\n",
              "   X304  X305  X306  X307  X308  X309  X310  X311  X312  X313  X314  X315  \\\n",
              "0     0     0     1     0     0     0     0     0     0     0     0     0   \n",
              "1     1     0     0     0     0     0     0     1     0     0     0     0   \n",
              "2     1     0     0     0     0     0     0     0     0     0     0     0   \n",
              "3     1     0     0     0     0     0     0     0     0     0     0     0   \n",
              "4     1     0     0     0     0     0     0     0     0     0     0     0   \n",
              "\n",
              "   X316  X317  X318  X319  X320  X321  X322  X323  X324  X325  X326  X327  \\\n",
              "0     1     0     0     0     0     0     0     0     1     0     0     1   \n",
              "1     1     0     0     0     0     0     0     0     0     0     0     0   \n",
              "2     0     0     0     0     0     0     0     0     1     0     0     0   \n",
              "3     0     0     0     0     0     0     0     0     0     0     0     0   \n",
              "4     0     0     0     0     0     0     0     0     0     0     0     0   \n",
              "\n",
              "   X328  X329  X330  X331  X332  X333  X334  X335  X336  X337  X338  X339  \\\n",
              "0     0     1     0     0     0     0     1     0     0     0     0     0   \n",
              "1     0     1     0     0     0     0     0     0     1     1     0     0   \n",
              "2     1     0     0     0     0     0     1     0     0     0     0     0   \n",
              "3     1     0     0     0     0     0     0     0     0     0     0     0   \n",
              "4     1     0     0     0     0     0     1     0     0     0     0     0   \n",
              "\n",
              "   X340  X341  X342  X343  X344  X345  X346  X347  X348  X349  X350  X351  \\\n",
              "0     0     0     0     0     0     0     0     0     0     0     0     0   \n",
              "1     0     0     0     0     0     0     0     0     1     0     0     0   \n",
              "2     0     0     0     0     0     0     0     0     1     0     1     0   \n",
              "3     0     0     0     0     0     0     0     0     1     0     1     0   \n",
              "4     0     0     0     0     0     0     0     0     1     0     1     0   \n",
              "\n",
              "   X352  X353  X354  X355  X356  X357  X358  X359  X360  X361  X362  X363  \\\n",
              "0     0     0     1     0     0     0     0     0     0     1     0     0   \n",
              "1     0     0     0     0     0     0     0     0     0     1     0     1   \n",
              "2     0     0     1     0     0     0     1     0     0     1     0     1   \n",
              "3     0     0     0     0     0     0     1     0     0     1     0     1   \n",
              "4     0     0     0     0     0     0     1     0     0     1     0     1   \n",
              "\n",
              "   X364  X365  X366  X367  X368  X369  X370  X371  X372  X373  X374  X375  \\\n",
              "0     0     0     0     0     0     0     0     0     0     0     0     0   \n",
              "1     0     0     0     0     0     0     0     0     0     0     0     1   \n",
              "2     0     0     0     0     0     0     0     0     0     0     0     0   \n",
              "3     0     0     0     0     0     0     0     0     1     0     0     0   \n",
              "4     0     0     0     0     0     0     0     1     0     0     0     0   \n",
              "\n",
              "   X376  X377  X378  X379  X380  X382  X383  X384  X385  \n",
              "0     0     1     0     0     0     0     0     0     0  \n",
              "1     0     0     0     0     0     0     0     0     0  \n",
              "2     0     0     0     0     0     1     0     0     0  \n",
              "3     0     0     0     0     0     0     0     0     0  \n",
              "4     0     0     0     0     0     0     0     0     0  "
            ]
          },
          "metadata": {},
          "execution_count": 104
        }
      ]
    },
    {
      "cell_type": "code",
      "metadata": {
        "trusted": true,
        "colab": {
          "base_uri": "https://localhost:8080/"
        },
        "id": "4cv2h3bXXrD7",
        "outputId": "fd1ad00d-39e3-4c07-da55-1fef1dd8209b"
      },
      "source": [
        "# let's have a look at how many labels\n",
        "\n",
        "for col in df_train.columns[3:9]:\n",
        "    print(col, ': ', len(df_train[col].unique()), ' labels')"
      ],
      "execution_count": null,
      "outputs": [
        {
          "output_type": "stream",
          "name": "stdout",
          "text": [
            "X1 :  27  labels\n",
            "X2 :  44  labels\n",
            "X3 :  7  labels\n",
            "X4 :  4  labels\n",
            "X5 :  29  labels\n",
            "X6 :  12  labels\n"
          ]
        }
      ]
    },
    {
      "cell_type": "markdown",
      "metadata": {
        "id": "JnP1rtYFXrD7"
      },
      "source": [
        "Ao fazer a transformação de contagem de variáveis ​​categóricas, é importante calcular a contagem (ou frequência = contagem / total de observações) no conjunto de treinamento e, em seguida, usar esses números para substituir os rótulos no conjunto de teste."
      ]
    },
    {
      "cell_type": "code",
      "metadata": {
        "trusted": true,
        "colab": {
          "base_uri": "https://localhost:8080/"
        },
        "id": "GYPSdPjAXrD7",
        "outputId": "1b346133-e8d6-4d24-e436-b842b5ac2e71"
      },
      "source": [
        "X_train, X_test, y_train, y_test = train_test_split(df_train[['X1', 'X2', 'X3', 'X4', 'X5', 'X6']], df_train.y,\n",
        "                                                    test_size=0.3,\n",
        "                                                    random_state=0)\n",
        "X_train.shape, X_test.shape"
      ],
      "execution_count": null,
      "outputs": [
        {
          "output_type": "execute_result",
          "data": {
            "text/plain": [
              "((2946, 6), (1263, 6))"
            ]
          },
          "metadata": {},
          "execution_count": 106
        }
      ]
    },
    {
      "cell_type": "code",
      "metadata": {
        "trusted": true,
        "colab": {
          "base_uri": "https://localhost:8080/"
        },
        "id": "Y5h5nJj0XrD7",
        "outputId": "208b4117-7542-4ed4-8ef1-8b9c834034ab"
      },
      "source": [
        "# vamos obter as contagens para cada um dos rótulos na variável X2\n",
        "# vamos capturar isso em um dicionário que podemos usar para mapear novamente os rótulos\n",
        "\n",
        "X_train.X2.value_counts().to_dict()"
      ],
      "execution_count": null,
      "outputs": [
        {
          "output_type": "execute_result",
          "data": {
            "text/plain": [
              "{'a': 34,\n",
              " 'aa': 1,\n",
              " 'ac': 10,\n",
              " 'ae': 342,\n",
              " 'af': 1,\n",
              " 'ag': 15,\n",
              " 'ah': 3,\n",
              " 'ai': 289,\n",
              " 'ak': 188,\n",
              " 'al': 3,\n",
              " 'am': 1,\n",
              " 'an': 3,\n",
              " 'ao': 10,\n",
              " 'ap': 5,\n",
              " 'aq': 46,\n",
              " 'as': 1155,\n",
              " 'at': 5,\n",
              " 'au': 3,\n",
              " 'av': 2,\n",
              " 'aw': 2,\n",
              " 'ay': 40,\n",
              " 'b': 12,\n",
              " 'c': 1,\n",
              " 'd': 12,\n",
              " 'e': 61,\n",
              " 'f': 59,\n",
              " 'g': 10,\n",
              " 'h': 4,\n",
              " 'i': 15,\n",
              " 'k': 16,\n",
              " 'l': 1,\n",
              " 'm': 284,\n",
              " 'n': 97,\n",
              " 'o': 1,\n",
              " 'p': 1,\n",
              " 'q': 3,\n",
              " 'r': 101,\n",
              " 's': 63,\n",
              " 't': 17,\n",
              " 'x': 8,\n",
              " 'y': 8,\n",
              " 'z': 14}"
            ]
          },
          "metadata": {},
          "execution_count": 107
        }
      ]
    },
    {
      "cell_type": "code",
      "metadata": {
        "trusted": true,
        "colab": {
          "base_uri": "https://localhost:8080/",
          "height": 203
        },
        "id": "m9fD2ylHXrD8",
        "outputId": "4e327ac5-38e0-405a-de78-48cb78ccf9cd"
      },
      "source": [
        "# vamos olhar para o X_train para que possamos comparar a recodificação da variável\n",
        "\n",
        "X_train.head()"
      ],
      "execution_count": null,
      "outputs": [
        {
          "output_type": "execute_result",
          "data": {
            "text/html": [
              "<div>\n",
              "<style scoped>\n",
              "    .dataframe tbody tr th:only-of-type {\n",
              "        vertical-align: middle;\n",
              "    }\n",
              "\n",
              "    .dataframe tbody tr th {\n",
              "        vertical-align: top;\n",
              "    }\n",
              "\n",
              "    .dataframe thead th {\n",
              "        text-align: right;\n",
              "    }\n",
              "</style>\n",
              "<table border=\"1\" class=\"dataframe\">\n",
              "  <thead>\n",
              "    <tr style=\"text-align: right;\">\n",
              "      <th></th>\n",
              "      <th>X1</th>\n",
              "      <th>X2</th>\n",
              "      <th>X3</th>\n",
              "      <th>X4</th>\n",
              "      <th>X5</th>\n",
              "      <th>X6</th>\n",
              "    </tr>\n",
              "  </thead>\n",
              "  <tbody>\n",
              "    <tr>\n",
              "      <th>3059</th>\n",
              "      <td>aa</td>\n",
              "      <td>ai</td>\n",
              "      <td>c</td>\n",
              "      <td>d</td>\n",
              "      <td>q</td>\n",
              "      <td>g</td>\n",
              "    </tr>\n",
              "    <tr>\n",
              "      <th>3014</th>\n",
              "      <td>b</td>\n",
              "      <td>m</td>\n",
              "      <td>c</td>\n",
              "      <td>d</td>\n",
              "      <td>q</td>\n",
              "      <td>i</td>\n",
              "    </tr>\n",
              "    <tr>\n",
              "      <th>3368</th>\n",
              "      <td>o</td>\n",
              "      <td>f</td>\n",
              "      <td>f</td>\n",
              "      <td>d</td>\n",
              "      <td>s</td>\n",
              "      <td>l</td>\n",
              "    </tr>\n",
              "    <tr>\n",
              "      <th>2772</th>\n",
              "      <td>aa</td>\n",
              "      <td>as</td>\n",
              "      <td>d</td>\n",
              "      <td>d</td>\n",
              "      <td>p</td>\n",
              "      <td>j</td>\n",
              "    </tr>\n",
              "    <tr>\n",
              "      <th>3383</th>\n",
              "      <td>v</td>\n",
              "      <td>e</td>\n",
              "      <td>c</td>\n",
              "      <td>d</td>\n",
              "      <td>s</td>\n",
              "      <td>g</td>\n",
              "    </tr>\n",
              "  </tbody>\n",
              "</table>\n",
              "</div>"
            ],
            "text/plain": [
              "      X1  X2 X3 X4 X5 X6\n",
              "3059  aa  ai  c  d  q  g\n",
              "3014   b   m  c  d  q  i\n",
              "3368   o   f  f  d  s  l\n",
              "2772  aa  as  d  d  p  j\n",
              "3383   v   e  c  d  s  g"
            ]
          },
          "metadata": {},
          "execution_count": 108
        }
      ]
    },
    {
      "cell_type": "code",
      "metadata": {
        "trusted": true,
        "colab": {
          "base_uri": "https://localhost:8080/",
          "height": 203
        },
        "id": "U1z2DUYHXrD8",
        "outputId": "e465362b-a316-4c50-9c4c-07b94991540f"
      },
      "source": [
        "# agora vamos substituir cada rótulo em X2 por sua contagem\n",
        "\n",
        "\n",
        "# primeiro fazemos um dicionário que mapeia cada rótulo para as contagens\n",
        "X_frequency_map = X_train.X2.value_counts().to_dict()\n",
        "\n",
        "# e agora substituímos os rótulos X2 no trem e no conjunto de teste com o mesmo mapa\n",
        "X_train.X2 = X_train.X2.map(X_frequency_map)\n",
        "X_test.X2 = X_test.X2.map(X_frequency_map)\n",
        "\n",
        "X_train.head()"
      ],
      "execution_count": null,
      "outputs": [
        {
          "output_type": "execute_result",
          "data": {
            "text/html": [
              "<div>\n",
              "<style scoped>\n",
              "    .dataframe tbody tr th:only-of-type {\n",
              "        vertical-align: middle;\n",
              "    }\n",
              "\n",
              "    .dataframe tbody tr th {\n",
              "        vertical-align: top;\n",
              "    }\n",
              "\n",
              "    .dataframe thead th {\n",
              "        text-align: right;\n",
              "    }\n",
              "</style>\n",
              "<table border=\"1\" class=\"dataframe\">\n",
              "  <thead>\n",
              "    <tr style=\"text-align: right;\">\n",
              "      <th></th>\n",
              "      <th>X1</th>\n",
              "      <th>X2</th>\n",
              "      <th>X3</th>\n",
              "      <th>X4</th>\n",
              "      <th>X5</th>\n",
              "      <th>X6</th>\n",
              "    </tr>\n",
              "  </thead>\n",
              "  <tbody>\n",
              "    <tr>\n",
              "      <th>3059</th>\n",
              "      <td>aa</td>\n",
              "      <td>289</td>\n",
              "      <td>c</td>\n",
              "      <td>d</td>\n",
              "      <td>q</td>\n",
              "      <td>g</td>\n",
              "    </tr>\n",
              "    <tr>\n",
              "      <th>3014</th>\n",
              "      <td>b</td>\n",
              "      <td>284</td>\n",
              "      <td>c</td>\n",
              "      <td>d</td>\n",
              "      <td>q</td>\n",
              "      <td>i</td>\n",
              "    </tr>\n",
              "    <tr>\n",
              "      <th>3368</th>\n",
              "      <td>o</td>\n",
              "      <td>59</td>\n",
              "      <td>f</td>\n",
              "      <td>d</td>\n",
              "      <td>s</td>\n",
              "      <td>l</td>\n",
              "    </tr>\n",
              "    <tr>\n",
              "      <th>2772</th>\n",
              "      <td>aa</td>\n",
              "      <td>1155</td>\n",
              "      <td>d</td>\n",
              "      <td>d</td>\n",
              "      <td>p</td>\n",
              "      <td>j</td>\n",
              "    </tr>\n",
              "    <tr>\n",
              "      <th>3383</th>\n",
              "      <td>v</td>\n",
              "      <td>61</td>\n",
              "      <td>c</td>\n",
              "      <td>d</td>\n",
              "      <td>s</td>\n",
              "      <td>g</td>\n",
              "    </tr>\n",
              "  </tbody>\n",
              "</table>\n",
              "</div>"
            ],
            "text/plain": [
              "      X1    X2 X3 X4 X5 X6\n",
              "3059  aa   289  c  d  q  g\n",
              "3014   b   284  c  d  q  i\n",
              "3368   o    59  f  d  s  l\n",
              "2772  aa  1155  d  d  p  j\n",
              "3383   v    61  c  d  s  g"
            ]
          },
          "metadata": {},
          "execution_count": 109
        }
      ]
    },
    {
      "cell_type": "markdown",
      "metadata": {
        "id": "Mp01ybcmXrD8"
      },
      "source": [
        "Onde no conjunto de dados original, para a observação 1 na variável 2 antes era 'ai', agora foi substituído pela contagem 289. E assim por diante para o resto das categorias."
      ]
    },
    {
      "cell_type": "markdown",
      "metadata": {
        "id": "NIgH1on5XrD8"
      },
      "source": [
        "## **4.4 Target / Mean Encoding** <a class=\"anchor\" id=\"4.4\"></a>\n",
        "\n",
        "- Uma codificação de nível, também chamada de codificação de mídia, substitui cada categoria por uma variável, o valor médio do nível, por observações que representam uma determinada categoria. Por exemplo, temos uma categoria variável \"cidade\" e queremos que nosso cliente compre uma TV da qual enviamos um cartão. Se 30% das pessoas na cidade de \"Londres\" cobrirem a TV, substituiremos Londres por 0,3.\n",
        "\n",
        "\n",
        "- Esta técnica tem 3 benefícios:\n",
        "\n",
        "  1. não expande o espaço do recurso,\n",
        "\n",
        "  2. captura algumas informações sobre o nível de codificação da categoria e\n",
        "\n",
        "  3. cria uma relação monotônica entre variável e constante.\n",
        "  \n",
        "\n",
        "- As relações monotônicas entre a variável e o destino tendem a aumentar ou diminuir linearmente.\n",
        " "
      ]
    },
    {
      "cell_type": "code",
      "metadata": {
        "trusted": true,
        "colab": {
          "base_uri": "https://localhost:8080/",
          "height": 203
        },
        "id": "PLjQLtO9XrD8",
        "outputId": "0bbf7095-cdd3-43aa-d203-3f73c0d0e570"
      },
      "source": [
        "# let's load again the titanic dataset\n",
        "\n",
        "data = pd.read_csv('https://raw.githubusercontent.com/Rodrigo-Lopes-de-Andrade/Datasets/main/Feature_Engineering_Methods_train.csv', usecols=['Cabin', 'Survived'])\n",
        "data.head()"
      ],
      "execution_count": null,
      "outputs": [
        {
          "output_type": "execute_result",
          "data": {
            "text/html": [
              "<div>\n",
              "<style scoped>\n",
              "    .dataframe tbody tr th:only-of-type {\n",
              "        vertical-align: middle;\n",
              "    }\n",
              "\n",
              "    .dataframe tbody tr th {\n",
              "        vertical-align: top;\n",
              "    }\n",
              "\n",
              "    .dataframe thead th {\n",
              "        text-align: right;\n",
              "    }\n",
              "</style>\n",
              "<table border=\"1\" class=\"dataframe\">\n",
              "  <thead>\n",
              "    <tr style=\"text-align: right;\">\n",
              "      <th></th>\n",
              "      <th>Survived</th>\n",
              "      <th>Cabin</th>\n",
              "    </tr>\n",
              "  </thead>\n",
              "  <tbody>\n",
              "    <tr>\n",
              "      <th>0</th>\n",
              "      <td>0</td>\n",
              "      <td>NaN</td>\n",
              "    </tr>\n",
              "    <tr>\n",
              "      <th>1</th>\n",
              "      <td>1</td>\n",
              "      <td>C85</td>\n",
              "    </tr>\n",
              "    <tr>\n",
              "      <th>2</th>\n",
              "      <td>1</td>\n",
              "      <td>NaN</td>\n",
              "    </tr>\n",
              "    <tr>\n",
              "      <th>3</th>\n",
              "      <td>1</td>\n",
              "      <td>C123</td>\n",
              "    </tr>\n",
              "    <tr>\n",
              "      <th>4</th>\n",
              "      <td>0</td>\n",
              "      <td>NaN</td>\n",
              "    </tr>\n",
              "  </tbody>\n",
              "</table>\n",
              "</div>"
            ],
            "text/plain": [
              "   Survived Cabin\n",
              "0         0   NaN\n",
              "1         1   C85\n",
              "2         1   NaN\n",
              "3         1  C123\n",
              "4         0   NaN"
            ]
          },
          "metadata": {},
          "execution_count": 134
        }
      ]
    },
    {
      "cell_type": "code",
      "metadata": {
        "trusted": true,
        "colab": {
          "base_uri": "https://localhost:8080/",
          "height": 203
        },
        "id": "Y6DkAq6SXrD9",
        "outputId": "c5256fd9-6863-4e18-aa55-afa2a5476230"
      },
      "source": [
        "# let's fill NA values with an additional label\n",
        "\n",
        "data.Cabin.fillna('Missing', inplace=True)\n",
        "data.head()"
      ],
      "execution_count": null,
      "outputs": [
        {
          "output_type": "execute_result",
          "data": {
            "text/html": [
              "<div>\n",
              "<style scoped>\n",
              "    .dataframe tbody tr th:only-of-type {\n",
              "        vertical-align: middle;\n",
              "    }\n",
              "\n",
              "    .dataframe tbody tr th {\n",
              "        vertical-align: top;\n",
              "    }\n",
              "\n",
              "    .dataframe thead th {\n",
              "        text-align: right;\n",
              "    }\n",
              "</style>\n",
              "<table border=\"1\" class=\"dataframe\">\n",
              "  <thead>\n",
              "    <tr style=\"text-align: right;\">\n",
              "      <th></th>\n",
              "      <th>Survived</th>\n",
              "      <th>Cabin</th>\n",
              "    </tr>\n",
              "  </thead>\n",
              "  <tbody>\n",
              "    <tr>\n",
              "      <th>0</th>\n",
              "      <td>0</td>\n",
              "      <td>Missing</td>\n",
              "    </tr>\n",
              "    <tr>\n",
              "      <th>1</th>\n",
              "      <td>1</td>\n",
              "      <td>C85</td>\n",
              "    </tr>\n",
              "    <tr>\n",
              "      <th>2</th>\n",
              "      <td>1</td>\n",
              "      <td>Missing</td>\n",
              "    </tr>\n",
              "    <tr>\n",
              "      <th>3</th>\n",
              "      <td>1</td>\n",
              "      <td>C123</td>\n",
              "    </tr>\n",
              "    <tr>\n",
              "      <th>4</th>\n",
              "      <td>0</td>\n",
              "      <td>Missing</td>\n",
              "    </tr>\n",
              "  </tbody>\n",
              "</table>\n",
              "</div>"
            ],
            "text/plain": [
              "   Survived    Cabin\n",
              "0         0  Missing\n",
              "1         1      C85\n",
              "2         1  Missing\n",
              "3         1     C123\n",
              "4         0  Missing"
            ]
          },
          "metadata": {},
          "execution_count": 135
        }
      ]
    },
    {
      "cell_type": "code",
      "metadata": {
        "trusted": true,
        "colab": {
          "base_uri": "https://localhost:8080/"
        },
        "id": "ndyekrO3XrD9",
        "outputId": "5bcded6b-fec8-41e1-816e-c1732cd2ef69"
      },
      "source": [
        "# check number of different labels in Cabin\n",
        "\n",
        "len(data.Cabin.unique())"
      ],
      "execution_count": null,
      "outputs": [
        {
          "output_type": "execute_result",
          "data": {
            "text/plain": [
              "148"
            ]
          },
          "metadata": {},
          "execution_count": 112
        }
      ]
    },
    {
      "cell_type": "code",
      "metadata": {
        "trusted": true,
        "colab": {
          "base_uri": "https://localhost:8080/",
          "height": 203
        },
        "id": "l2E54dUlXrD9",
        "outputId": "14308aa3-4066-47ca-afef-5a341e76c676"
      },
      "source": [
        "# Now we extract the first letter of the cabin\n",
        "\n",
        "data['Cabin'] = data['Cabin'].astype(str).str[0]\n",
        "data.head()"
      ],
      "execution_count": null,
      "outputs": [
        {
          "output_type": "execute_result",
          "data": {
            "text/html": [
              "<div>\n",
              "<style scoped>\n",
              "    .dataframe tbody tr th:only-of-type {\n",
              "        vertical-align: middle;\n",
              "    }\n",
              "\n",
              "    .dataframe tbody tr th {\n",
              "        vertical-align: top;\n",
              "    }\n",
              "\n",
              "    .dataframe thead th {\n",
              "        text-align: right;\n",
              "    }\n",
              "</style>\n",
              "<table border=\"1\" class=\"dataframe\">\n",
              "  <thead>\n",
              "    <tr style=\"text-align: right;\">\n",
              "      <th></th>\n",
              "      <th>Survived</th>\n",
              "      <th>Cabin</th>\n",
              "    </tr>\n",
              "  </thead>\n",
              "  <tbody>\n",
              "    <tr>\n",
              "      <th>0</th>\n",
              "      <td>0</td>\n",
              "      <td>M</td>\n",
              "    </tr>\n",
              "    <tr>\n",
              "      <th>1</th>\n",
              "      <td>1</td>\n",
              "      <td>C</td>\n",
              "    </tr>\n",
              "    <tr>\n",
              "      <th>2</th>\n",
              "      <td>1</td>\n",
              "      <td>M</td>\n",
              "    </tr>\n",
              "    <tr>\n",
              "      <th>3</th>\n",
              "      <td>1</td>\n",
              "      <td>C</td>\n",
              "    </tr>\n",
              "    <tr>\n",
              "      <th>4</th>\n",
              "      <td>0</td>\n",
              "      <td>M</td>\n",
              "    </tr>\n",
              "  </tbody>\n",
              "</table>\n",
              "</div>"
            ],
            "text/plain": [
              "   Survived Cabin\n",
              "0         0     M\n",
              "1         1     C\n",
              "2         1     M\n",
              "3         1     C\n",
              "4         0     M"
            ]
          },
          "metadata": {},
          "execution_count": 113
        }
      ]
    },
    {
      "cell_type": "code",
      "metadata": {
        "trusted": true,
        "colab": {
          "base_uri": "https://localhost:8080/"
        },
        "id": "9X7TkwikXrD9",
        "outputId": "2575641a-fa99-4beb-db35-98eb13c20feb"
      },
      "source": [
        "# check the labels\n",
        "data.Cabin.unique()"
      ],
      "execution_count": null,
      "outputs": [
        {
          "output_type": "execute_result",
          "data": {
            "text/plain": [
              "array(['M', 'C', 'E', 'G', 'D', 'A', 'B', 'F', 'T'], dtype=object)"
            ]
          },
          "metadata": {},
          "execution_count": 114
        }
      ]
    },
    {
      "cell_type": "markdown",
      "metadata": {
        "id": "aCEqtZNdXrD9"
      },
      "source": [
        "### **Importante**\n",
        "\n",
        "- O fator de risco deve ser calculado por rótulo considerando apenas o conjunto de treinamento e, em seguida, expandido para o conjunto de teste."
      ]
    },
    {
      "cell_type": "code",
      "metadata": {
        "trusted": true,
        "colab": {
          "base_uri": "https://localhost:8080/"
        },
        "id": "Pnjc6bY8XrD-",
        "outputId": "1e38d92a-182f-487a-f490-51a771158aea"
      },
      "source": [
        "# Let's separate into training and testing set\n",
        "\n",
        "X_train, X_test, y_train, y_test = train_test_split(data[['Cabin', 'Survived']], data.Survived, test_size=0.3,\n",
        "                                                    random_state=0)\n",
        "X_train.shape, X_test.shape"
      ],
      "execution_count": null,
      "outputs": [
        {
          "output_type": "execute_result",
          "data": {
            "text/plain": [
              "((623, 2), (268, 2))"
            ]
          },
          "metadata": {},
          "execution_count": 115
        }
      ]
    },
    {
      "cell_type": "code",
      "metadata": {
        "trusted": true,
        "colab": {
          "base_uri": "https://localhost:8080/"
        },
        "id": "6G21BS9LXrD_",
        "outputId": "8b8b1788-4b62-4b3f-eea3-55458a7886ea"
      },
      "source": [
        "# let's calculate the target frequency for each label\n",
        "\n",
        "X_train.groupby(['Cabin'])['Survived'].mean()"
      ],
      "execution_count": null,
      "outputs": [
        {
          "output_type": "execute_result",
          "data": {
            "text/plain": [
              "Cabin\n",
              "A    0.428571\n",
              "B    0.774194\n",
              "C    0.571429\n",
              "D    0.692308\n",
              "E    0.740741\n",
              "F    0.666667\n",
              "G    0.500000\n",
              "M    0.303609\n",
              "T    0.000000\n",
              "Name: Survived, dtype: float64"
            ]
          },
          "metadata": {},
          "execution_count": 116
        }
      ]
    },
    {
      "cell_type": "code",
      "metadata": {
        "trusted": true,
        "colab": {
          "base_uri": "https://localhost:8080/"
        },
        "id": "DSEfbcmzXrEA",
        "outputId": "b309fbc6-9374-4208-9621-b5e2efe66e7a"
      },
      "source": [
        "# and now let's do the same but capturing the result in a dictionary\n",
        "\n",
        "ordered_labels = X_train.groupby(['Cabin'])['Survived'].mean().to_dict()\n",
        "ordered_labels"
      ],
      "execution_count": null,
      "outputs": [
        {
          "output_type": "execute_result",
          "data": {
            "text/plain": [
              "{'A': 0.42857142857142855,\n",
              " 'B': 0.7741935483870968,\n",
              " 'C': 0.5714285714285714,\n",
              " 'D': 0.6923076923076923,\n",
              " 'E': 0.7407407407407407,\n",
              " 'F': 0.6666666666666666,\n",
              " 'G': 0.5,\n",
              " 'M': 0.3036093418259023,\n",
              " 'T': 0.0}"
            ]
          },
          "metadata": {},
          "execution_count": 117
        }
      ]
    },
    {
      "cell_type": "code",
      "metadata": {
        "trusted": true,
        "id": "zrrAUhEdXrEA"
      },
      "source": [
        "# replace the labels with the 'risk' (target frequency)\n",
        "# note that we calculated the frequencies based on the training set only\n",
        "\n",
        "X_train['Cabin_ordered'] = X_train.Cabin.map(ordered_labels)\n",
        "X_test['Cabin_ordered'] = X_test.Cabin.map(ordered_labels)"
      ],
      "execution_count": null,
      "outputs": []
    },
    {
      "cell_type": "code",
      "metadata": {
        "trusted": true,
        "colab": {
          "base_uri": "https://localhost:8080/",
          "height": 203
        },
        "id": "a3RknZ6-XrEA",
        "outputId": "ac3ee9ec-e7ab-4ff4-e917-f015cdec1e1e"
      },
      "source": [
        "# view results\n",
        "\n",
        "X_train.head()"
      ],
      "execution_count": null,
      "outputs": [
        {
          "output_type": "execute_result",
          "data": {
            "text/html": [
              "<div>\n",
              "<style scoped>\n",
              "    .dataframe tbody tr th:only-of-type {\n",
              "        vertical-align: middle;\n",
              "    }\n",
              "\n",
              "    .dataframe tbody tr th {\n",
              "        vertical-align: top;\n",
              "    }\n",
              "\n",
              "    .dataframe thead th {\n",
              "        text-align: right;\n",
              "    }\n",
              "</style>\n",
              "<table border=\"1\" class=\"dataframe\">\n",
              "  <thead>\n",
              "    <tr style=\"text-align: right;\">\n",
              "      <th></th>\n",
              "      <th>Cabin</th>\n",
              "      <th>Survived</th>\n",
              "      <th>Cabin_ordered</th>\n",
              "    </tr>\n",
              "  </thead>\n",
              "  <tbody>\n",
              "    <tr>\n",
              "      <th>857</th>\n",
              "      <td>E</td>\n",
              "      <td>1</td>\n",
              "      <td>0.740741</td>\n",
              "    </tr>\n",
              "    <tr>\n",
              "      <th>52</th>\n",
              "      <td>D</td>\n",
              "      <td>1</td>\n",
              "      <td>0.692308</td>\n",
              "    </tr>\n",
              "    <tr>\n",
              "      <th>386</th>\n",
              "      <td>M</td>\n",
              "      <td>0</td>\n",
              "      <td>0.303609</td>\n",
              "    </tr>\n",
              "    <tr>\n",
              "      <th>124</th>\n",
              "      <td>D</td>\n",
              "      <td>0</td>\n",
              "      <td>0.692308</td>\n",
              "    </tr>\n",
              "    <tr>\n",
              "      <th>578</th>\n",
              "      <td>M</td>\n",
              "      <td>0</td>\n",
              "      <td>0.303609</td>\n",
              "    </tr>\n",
              "  </tbody>\n",
              "</table>\n",
              "</div>"
            ],
            "text/plain": [
              "    Cabin  Survived  Cabin_ordered\n",
              "857     E         1       0.740741\n",
              "52      D         1       0.692308\n",
              "386     M         0       0.303609\n",
              "124     D         0       0.692308\n",
              "578     M         0       0.303609"
            ]
          },
          "metadata": {},
          "execution_count": 119
        }
      ]
    },
    {
      "cell_type": "code",
      "metadata": {
        "trusted": true,
        "colab": {
          "base_uri": "https://localhost:8080/",
          "height": 421
        },
        "id": "oFIrLQZoXrEA",
        "outputId": "904cf8bf-d8fe-41e2-d485-23b6feb53700"
      },
      "source": [
        "# plot the original variable\n",
        "\n",
        "fig = plt.figure(figsize=(8,6))\n",
        "fig = X_train.groupby(['Cabin'])['Survived'].mean().plot()\n",
        "fig.set_title('Normal relationship between variable and target')\n",
        "fig.set_ylabel('Survived')"
      ],
      "execution_count": null,
      "outputs": [
        {
          "output_type": "execute_result",
          "data": {
            "text/plain": [
              "Text(0, 0.5, 'Survived')"
            ]
          },
          "metadata": {},
          "execution_count": 120
        },
        {
          "output_type": "display_data",
          "data": {
            "image/png": "[encoded data removed]",
            "text/plain": [
              "<Figure size 576x432 with 1 Axes>"
            ]
          },
          "metadata": {
            "needs_background": "light"
          }
        }
      ]
    },
    {
      "cell_type": "code",
      "metadata": {
        "trusted": true,
        "colab": {
          "base_uri": "https://localhost:8080/",
          "height": 422
        },
        "id": "6n8UkSZsXrEA",
        "outputId": "98a95f06-582c-4371-caaf-8a87134357ea"
      },
      "source": [
        "# plot the transformed result: the monotonic variable\n",
        "\n",
        "fig = plt.figure(figsize=(8,6))\n",
        "fig = X_train.groupby(['Cabin_ordered'])['Survived'].mean().plot()\n",
        "fig.set_title('Monotonic relationship between variable and target')\n",
        "fig.set_ylabel('Survived')"
      ],
      "execution_count": null,
      "outputs": [
        {
          "output_type": "execute_result",
          "data": {
            "text/plain": [
              "Text(0, 0.5, 'Survived')"
            ]
          },
          "metadata": {},
          "execution_count": 121
        },
        {
          "output_type": "display_data",
          "data": {
            "image/png": "[encoded data removed]",
            "text/plain": [
              "<Figure size 576x432 with 1 Axes>"
            ]
          },
          "metadata": {
            "needs_background": "light"
          }
        }
      ]
    },
    {
      "cell_type": "markdown",
      "metadata": {
        "id": "pd461dKKXrEB"
      },
      "source": [
        "## **4.5 Weight of evidence** <a class=\"anchor\" id=\"4.5\"></a>\n",
        "\n",
        "[Table of Contents](#0.1)\n",
        "\n",
        "\n",
        "- Weight of evidence (WOE) is a technique used to encode categorical variables for classification. WOE is the natural logarithm of the probability of the target being 1 divided the probability of the target being 0. WOE has the property that its value will be 0 if the phenomenon is random; it will be bigger than 0 if the probability of the target being 0 is bigger, and it will be smaller than 0 when the probability of the target being 1 is greater.\n",
        "\n",
        "- WOE transformation creates a nice visual representation of the variable, because by looking at the WOE encoded variable, we can see, category by category, whether it favours the outcome of 0, or of 1. In addition, WOE creates a monotonic relationship between variable and target, and leaves all the variables within the same value range."
      ]
    },
    {
      "cell_type": "code",
      "metadata": {
        "trusted": true,
        "colab": {
          "base_uri": "https://localhost:8080/",
          "height": 203
        },
        "id": "d-XXzRB9XrEB",
        "outputId": "53d16828-1327-44ea-f25c-2c7e2a0b69e7"
      },
      "source": [
        "# preview X_train\n",
        "\n",
        "X_train.head()"
      ],
      "execution_count": null,
      "outputs": [
        {
          "output_type": "execute_result",
          "data": {
            "text/html": [
              "<div>\n",
              "<style scoped>\n",
              "    .dataframe tbody tr th:only-of-type {\n",
              "        vertical-align: middle;\n",
              "    }\n",
              "\n",
              "    .dataframe tbody tr th {\n",
              "        vertical-align: top;\n",
              "    }\n",
              "\n",
              "    .dataframe thead th {\n",
              "        text-align: right;\n",
              "    }\n",
              "</style>\n",
              "<table border=\"1\" class=\"dataframe\">\n",
              "  <thead>\n",
              "    <tr style=\"text-align: right;\">\n",
              "      <th></th>\n",
              "      <th>Cabin</th>\n",
              "      <th>Survived</th>\n",
              "      <th>Cabin_ordered</th>\n",
              "    </tr>\n",
              "  </thead>\n",
              "  <tbody>\n",
              "    <tr>\n",
              "      <th>857</th>\n",
              "      <td>E</td>\n",
              "      <td>1</td>\n",
              "      <td>0.740741</td>\n",
              "    </tr>\n",
              "    <tr>\n",
              "      <th>52</th>\n",
              "      <td>D</td>\n",
              "      <td>1</td>\n",
              "      <td>0.692308</td>\n",
              "    </tr>\n",
              "    <tr>\n",
              "      <th>386</th>\n",
              "      <td>M</td>\n",
              "      <td>0</td>\n",
              "      <td>0.303609</td>\n",
              "    </tr>\n",
              "    <tr>\n",
              "      <th>124</th>\n",
              "      <td>D</td>\n",
              "      <td>0</td>\n",
              "      <td>0.692308</td>\n",
              "    </tr>\n",
              "    <tr>\n",
              "      <th>578</th>\n",
              "      <td>M</td>\n",
              "      <td>0</td>\n",
              "      <td>0.303609</td>\n",
              "    </tr>\n",
              "  </tbody>\n",
              "</table>\n",
              "</div>"
            ],
            "text/plain": [
              "    Cabin  Survived  Cabin_ordered\n",
              "857     E         1       0.740741\n",
              "52      D         1       0.692308\n",
              "386     M         0       0.303609\n",
              "124     D         0       0.692308\n",
              "578     M         0       0.303609"
            ]
          },
          "metadata": {},
          "execution_count": 122
        }
      ]
    },
    {
      "cell_type": "code",
      "metadata": {
        "trusted": true,
        "colab": {
          "base_uri": "https://localhost:8080/"
        },
        "id": "wT5bcXANXrEB",
        "outputId": "6ae18664-ba67-4fbd-e9a4-60e8df064c96"
      },
      "source": [
        "# now we calculate the probability of target=1 \n",
        "X_train.groupby(['Cabin'])['Survived'].mean()"
      ],
      "execution_count": null,
      "outputs": [
        {
          "output_type": "execute_result",
          "data": {
            "text/plain": [
              "Cabin\n",
              "A    0.428571\n",
              "B    0.774194\n",
              "C    0.571429\n",
              "D    0.692308\n",
              "E    0.740741\n",
              "F    0.666667\n",
              "G    0.500000\n",
              "M    0.303609\n",
              "T    0.000000\n",
              "Name: Survived, dtype: float64"
            ]
          },
          "metadata": {},
          "execution_count": 123
        }
      ]
    },
    {
      "cell_type": "code",
      "metadata": {
        "trusted": true,
        "colab": {
          "base_uri": "https://localhost:8080/",
          "height": 357
        },
        "id": "u5dSmHy3XrEB",
        "outputId": "f24dd027-918a-4ab8-e577-1ab87b9fd9b2"
      },
      "source": [
        "# let's make a dataframe with the above calculation\n",
        "\n",
        "prob_df = X_train.groupby(['Cabin'])['Survived'].mean()\n",
        "prob_df = pd.DataFrame(prob_df)\n",
        "prob_df"
      ],
      "execution_count": null,
      "outputs": [
        {
          "output_type": "execute_result",
          "data": {
            "text/html": [
              "<div>\n",
              "<style scoped>\n",
              "    .dataframe tbody tr th:only-of-type {\n",
              "        vertical-align: middle;\n",
              "    }\n",
              "\n",
              "    .dataframe tbody tr th {\n",
              "        vertical-align: top;\n",
              "    }\n",
              "\n",
              "    .dataframe thead th {\n",
              "        text-align: right;\n",
              "    }\n",
              "</style>\n",
              "<table border=\"1\" class=\"dataframe\">\n",
              "  <thead>\n",
              "    <tr style=\"text-align: right;\">\n",
              "      <th></th>\n",
              "      <th>Survived</th>\n",
              "    </tr>\n",
              "    <tr>\n",
              "      <th>Cabin</th>\n",
              "      <th></th>\n",
              "    </tr>\n",
              "  </thead>\n",
              "  <tbody>\n",
              "    <tr>\n",
              "      <th>A</th>\n",
              "      <td>0.428571</td>\n",
              "    </tr>\n",
              "    <tr>\n",
              "      <th>B</th>\n",
              "      <td>0.774194</td>\n",
              "    </tr>\n",
              "    <tr>\n",
              "      <th>C</th>\n",
              "      <td>0.571429</td>\n",
              "    </tr>\n",
              "    <tr>\n",
              "      <th>D</th>\n",
              "      <td>0.692308</td>\n",
              "    </tr>\n",
              "    <tr>\n",
              "      <th>E</th>\n",
              "      <td>0.740741</td>\n",
              "    </tr>\n",
              "    <tr>\n",
              "      <th>F</th>\n",
              "      <td>0.666667</td>\n",
              "    </tr>\n",
              "    <tr>\n",
              "      <th>G</th>\n",
              "      <td>0.500000</td>\n",
              "    </tr>\n",
              "    <tr>\n",
              "      <th>M</th>\n",
              "      <td>0.303609</td>\n",
              "    </tr>\n",
              "    <tr>\n",
              "      <th>T</th>\n",
              "      <td>0.000000</td>\n",
              "    </tr>\n",
              "  </tbody>\n",
              "</table>\n",
              "</div>"
            ],
            "text/plain": [
              "       Survived\n",
              "Cabin          \n",
              "A      0.428571\n",
              "B      0.774194\n",
              "C      0.571429\n",
              "D      0.692308\n",
              "E      0.740741\n",
              "F      0.666667\n",
              "G      0.500000\n",
              "M      0.303609\n",
              "T      0.000000"
            ]
          },
          "metadata": {},
          "execution_count": 124
        }
      ]
    },
    {
      "cell_type": "code",
      "metadata": {
        "trusted": true,
        "colab": {
          "base_uri": "https://localhost:8080/",
          "height": 357
        },
        "id": "rQzAQ1s0XrEC",
        "outputId": "ba766e5e-e761-4be5-b7e3-1be66b4b913d"
      },
      "source": [
        "# and now the probability of target = 0 \n",
        "# and we add it to the dataframe\n",
        "\n",
        "prob_df = X_train.groupby(['Cabin'])['Survived'].mean()\n",
        "prob_df = pd.DataFrame(prob_df)\n",
        "prob_df['Died'] = 1-prob_df.Survived\n",
        "prob_df"
      ],
      "execution_count": null,
      "outputs": [
        {
          "output_type": "execute_result",
          "data": {
            "text/html": [
              "<div>\n",
              "<style scoped>\n",
              "    .dataframe tbody tr th:only-of-type {\n",
              "        vertical-align: middle;\n",
              "    }\n",
              "\n",
              "    .dataframe tbody tr th {\n",
              "        vertical-align: top;\n",
              "    }\n",
              "\n",
              "    .dataframe thead th {\n",
              "        text-align: right;\n",
              "    }\n",
              "</style>\n",
              "<table border=\"1\" class=\"dataframe\">\n",
              "  <thead>\n",
              "    <tr style=\"text-align: right;\">\n",
              "      <th></th>\n",
              "      <th>Survived</th>\n",
              "      <th>Died</th>\n",
              "    </tr>\n",
              "    <tr>\n",
              "      <th>Cabin</th>\n",
              "      <th></th>\n",
              "      <th></th>\n",
              "    </tr>\n",
              "  </thead>\n",
              "  <tbody>\n",
              "    <tr>\n",
              "      <th>A</th>\n",
              "      <td>0.428571</td>\n",
              "      <td>0.571429</td>\n",
              "    </tr>\n",
              "    <tr>\n",
              "      <th>B</th>\n",
              "      <td>0.774194</td>\n",
              "      <td>0.225806</td>\n",
              "    </tr>\n",
              "    <tr>\n",
              "      <th>C</th>\n",
              "      <td>0.571429</td>\n",
              "      <td>0.428571</td>\n",
              "    </tr>\n",
              "    <tr>\n",
              "      <th>D</th>\n",
              "      <td>0.692308</td>\n",
              "      <td>0.307692</td>\n",
              "    </tr>\n",
              "    <tr>\n",
              "      <th>E</th>\n",
              "      <td>0.740741</td>\n",
              "      <td>0.259259</td>\n",
              "    </tr>\n",
              "    <tr>\n",
              "      <th>F</th>\n",
              "      <td>0.666667</td>\n",
              "      <td>0.333333</td>\n",
              "    </tr>\n",
              "    <tr>\n",
              "      <th>G</th>\n",
              "      <td>0.500000</td>\n",
              "      <td>0.500000</td>\n",
              "    </tr>\n",
              "    <tr>\n",
              "      <th>M</th>\n",
              "      <td>0.303609</td>\n",
              "      <td>0.696391</td>\n",
              "    </tr>\n",
              "    <tr>\n",
              "      <th>T</th>\n",
              "      <td>0.000000</td>\n",
              "      <td>1.000000</td>\n",
              "    </tr>\n",
              "  </tbody>\n",
              "</table>\n",
              "</div>"
            ],
            "text/plain": [
              "       Survived      Died\n",
              "Cabin                    \n",
              "A      0.428571  0.571429\n",
              "B      0.774194  0.225806\n",
              "C      0.571429  0.428571\n",
              "D      0.692308  0.307692\n",
              "E      0.740741  0.259259\n",
              "F      0.666667  0.333333\n",
              "G      0.500000  0.500000\n",
              "M      0.303609  0.696391\n",
              "T      0.000000  1.000000"
            ]
          },
          "metadata": {},
          "execution_count": 125
        }
      ]
    },
    {
      "cell_type": "code",
      "metadata": {
        "trusted": true,
        "colab": {
          "base_uri": "https://localhost:8080/",
          "height": 357
        },
        "id": "RiNWRMu-XrEC",
        "outputId": "a31788bf-0ada-46f9-e778-ffc0271e73f0"
      },
      "source": [
        "# since the log of zero is not defined, let's set this number to something small and non-zero\n",
        "\n",
        "prob_df.loc[prob_df.Survived == 0, 'Survived'] = 0.00001\n",
        "prob_df"
      ],
      "execution_count": null,
      "outputs": [
        {
          "output_type": "execute_result",
          "data": {
            "text/html": [
              "<div>\n",
              "<style scoped>\n",
              "    .dataframe tbody tr th:only-of-type {\n",
              "        vertical-align: middle;\n",
              "    }\n",
              "\n",
              "    .dataframe tbody tr th {\n",
              "        vertical-align: top;\n",
              "    }\n",
              "\n",
              "    .dataframe thead th {\n",
              "        text-align: right;\n",
              "    }\n",
              "</style>\n",
              "<table border=\"1\" class=\"dataframe\">\n",
              "  <thead>\n",
              "    <tr style=\"text-align: right;\">\n",
              "      <th></th>\n",
              "      <th>Survived</th>\n",
              "      <th>Died</th>\n",
              "    </tr>\n",
              "    <tr>\n",
              "      <th>Cabin</th>\n",
              "      <th></th>\n",
              "      <th></th>\n",
              "    </tr>\n",
              "  </thead>\n",
              "  <tbody>\n",
              "    <tr>\n",
              "      <th>A</th>\n",
              "      <td>0.428571</td>\n",
              "      <td>0.571429</td>\n",
              "    </tr>\n",
              "    <tr>\n",
              "      <th>B</th>\n",
              "      <td>0.774194</td>\n",
              "      <td>0.225806</td>\n",
              "    </tr>\n",
              "    <tr>\n",
              "      <th>C</th>\n",
              "      <td>0.571429</td>\n",
              "      <td>0.428571</td>\n",
              "    </tr>\n",
              "    <tr>\n",
              "      <th>D</th>\n",
              "      <td>0.692308</td>\n",
              "      <td>0.307692</td>\n",
              "    </tr>\n",
              "    <tr>\n",
              "      <th>E</th>\n",
              "      <td>0.740741</td>\n",
              "      <td>0.259259</td>\n",
              "    </tr>\n",
              "    <tr>\n",
              "      <th>F</th>\n",
              "      <td>0.666667</td>\n",
              "      <td>0.333333</td>\n",
              "    </tr>\n",
              "    <tr>\n",
              "      <th>G</th>\n",
              "      <td>0.500000</td>\n",
              "      <td>0.500000</td>\n",
              "    </tr>\n",
              "    <tr>\n",
              "      <th>M</th>\n",
              "      <td>0.303609</td>\n",
              "      <td>0.696391</td>\n",
              "    </tr>\n",
              "    <tr>\n",
              "      <th>T</th>\n",
              "      <td>0.000010</td>\n",
              "      <td>1.000000</td>\n",
              "    </tr>\n",
              "  </tbody>\n",
              "</table>\n",
              "</div>"
            ],
            "text/plain": [
              "       Survived      Died\n",
              "Cabin                    \n",
              "A      0.428571  0.571429\n",
              "B      0.774194  0.225806\n",
              "C      0.571429  0.428571\n",
              "D      0.692308  0.307692\n",
              "E      0.740741  0.259259\n",
              "F      0.666667  0.333333\n",
              "G      0.500000  0.500000\n",
              "M      0.303609  0.696391\n",
              "T      0.000010  1.000000"
            ]
          },
          "metadata": {},
          "execution_count": 126
        }
      ]
    },
    {
      "cell_type": "code",
      "metadata": {
        "trusted": true,
        "colab": {
          "base_uri": "https://localhost:8080/",
          "height": 357
        },
        "id": "I9eOcnleXrEC",
        "outputId": "e82719db-77f7-466c-d2bb-d222b7fbdd37"
      },
      "source": [
        "# now we calculate the WoE\n",
        "\n",
        "prob_df['WoE'] = np.log(prob_df.Survived/prob_df.Died)\n",
        "prob_df"
      ],
      "execution_count": null,
      "outputs": [
        {
          "output_type": "execute_result",
          "data": {
            "text/html": [
              "<div>\n",
              "<style scoped>\n",
              "    .dataframe tbody tr th:only-of-type {\n",
              "        vertical-align: middle;\n",
              "    }\n",
              "\n",
              "    .dataframe tbody tr th {\n",
              "        vertical-align: top;\n",
              "    }\n",
              "\n",
              "    .dataframe thead th {\n",
              "        text-align: right;\n",
              "    }\n",
              "</style>\n",
              "<table border=\"1\" class=\"dataframe\">\n",
              "  <thead>\n",
              "    <tr style=\"text-align: right;\">\n",
              "      <th></th>\n",
              "      <th>Survived</th>\n",
              "      <th>Died</th>\n",
              "      <th>WoE</th>\n",
              "    </tr>\n",
              "    <tr>\n",
              "      <th>Cabin</th>\n",
              "      <th></th>\n",
              "      <th></th>\n",
              "      <th></th>\n",
              "    </tr>\n",
              "  </thead>\n",
              "  <tbody>\n",
              "    <tr>\n",
              "      <th>A</th>\n",
              "      <td>0.428571</td>\n",
              "      <td>0.571429</td>\n",
              "      <td>-0.287682</td>\n",
              "    </tr>\n",
              "    <tr>\n",
              "      <th>B</th>\n",
              "      <td>0.774194</td>\n",
              "      <td>0.225806</td>\n",
              "      <td>1.232144</td>\n",
              "    </tr>\n",
              "    <tr>\n",
              "      <th>C</th>\n",
              "      <td>0.571429</td>\n",
              "      <td>0.428571</td>\n",
              "      <td>0.287682</td>\n",
              "    </tr>\n",
              "    <tr>\n",
              "      <th>D</th>\n",
              "      <td>0.692308</td>\n",
              "      <td>0.307692</td>\n",
              "      <td>0.810930</td>\n",
              "    </tr>\n",
              "    <tr>\n",
              "      <th>E</th>\n",
              "      <td>0.740741</td>\n",
              "      <td>0.259259</td>\n",
              "      <td>1.049822</td>\n",
              "    </tr>\n",
              "    <tr>\n",
              "      <th>F</th>\n",
              "      <td>0.666667</td>\n",
              "      <td>0.333333</td>\n",
              "      <td>0.693147</td>\n",
              "    </tr>\n",
              "    <tr>\n",
              "      <th>G</th>\n",
              "      <td>0.500000</td>\n",
              "      <td>0.500000</td>\n",
              "      <td>0.000000</td>\n",
              "    </tr>\n",
              "    <tr>\n",
              "      <th>M</th>\n",
              "      <td>0.303609</td>\n",
              "      <td>0.696391</td>\n",
              "      <td>-0.830169</td>\n",
              "    </tr>\n",
              "    <tr>\n",
              "      <th>T</th>\n",
              "      <td>0.000010</td>\n",
              "      <td>1.000000</td>\n",
              "      <td>-11.512925</td>\n",
              "    </tr>\n",
              "  </tbody>\n",
              "</table>\n",
              "</div>"
            ],
            "text/plain": [
              "       Survived      Died        WoE\n",
              "Cabin                               \n",
              "A      0.428571  0.571429  -0.287682\n",
              "B      0.774194  0.225806   1.232144\n",
              "C      0.571429  0.428571   0.287682\n",
              "D      0.692308  0.307692   0.810930\n",
              "E      0.740741  0.259259   1.049822\n",
              "F      0.666667  0.333333   0.693147\n",
              "G      0.500000  0.500000   0.000000\n",
              "M      0.303609  0.696391  -0.830169\n",
              "T      0.000010  1.000000 -11.512925"
            ]
          },
          "metadata": {},
          "execution_count": 127
        }
      ]
    },
    {
      "cell_type": "code",
      "metadata": {
        "trusted": true,
        "colab": {
          "base_uri": "https://localhost:8080/"
        },
        "id": "J_ephjL9XrEC",
        "outputId": "fa6ae6eb-b093-4dda-e941-dae9ebc2f052"
      },
      "source": [
        "# and we create a dictionary to re-map the variable\n",
        "\n",
        "prob_df['WoE'].to_dict()"
      ],
      "execution_count": null,
      "outputs": [
        {
          "output_type": "execute_result",
          "data": {
            "text/plain": [
              "{'A': -0.2876820724517809,\n",
              " 'B': 1.232143681292632,\n",
              " 'C': 0.28768207245178085,\n",
              " 'D': 0.8109302162163288,\n",
              " 'E': 1.0498221244986774,\n",
              " 'F': 0.6931471805599452,\n",
              " 'G': 0.0,\n",
              " 'M': -0.8301689781242366,\n",
              " 'T': -11.512925464970229}"
            ]
          },
          "metadata": {},
          "execution_count": 128
        }
      ]
    },
    {
      "cell_type": "code",
      "metadata": {
        "trusted": true,
        "id": "jww7WFYzXrEC"
      },
      "source": [
        "# and we make a dictionary to map the orignal variable to the WoE\n",
        "# same as above but we capture the dictionary in a variable\n",
        "\n",
        "ordered_labels = prob_df['WoE'].to_dict()"
      ],
      "execution_count": null,
      "outputs": []
    },
    {
      "cell_type": "code",
      "metadata": {
        "trusted": true,
        "id": "0GmxJOGRXrED"
      },
      "source": [
        "# replace the labels with the WoE\n",
        "\n",
        "X_train['Cabin_ordered'] = X_train.Cabin.map(ordered_labels)\n",
        "X_test['Cabin_ordered'] = X_test.Cabin.map(ordered_labels)"
      ],
      "execution_count": null,
      "outputs": []
    },
    {
      "cell_type": "code",
      "metadata": {
        "trusted": true,
        "colab": {
          "base_uri": "https://localhost:8080/",
          "height": 203
        },
        "id": "P9KsrrBcXrED",
        "outputId": "2d3e641b-1c1a-428c-d216-0e9029b9f96d"
      },
      "source": [
        "# check the results\n",
        "\n",
        "X_train.head()"
      ],
      "execution_count": null,
      "outputs": [
        {
          "output_type": "execute_result",
          "data": {
            "text/html": [
              "<div>\n",
              "<style scoped>\n",
              "    .dataframe tbody tr th:only-of-type {\n",
              "        vertical-align: middle;\n",
              "    }\n",
              "\n",
              "    .dataframe tbody tr th {\n",
              "        vertical-align: top;\n",
              "    }\n",
              "\n",
              "    .dataframe thead th {\n",
              "        text-align: right;\n",
              "    }\n",
              "</style>\n",
              "<table border=\"1\" class=\"dataframe\">\n",
              "  <thead>\n",
              "    <tr style=\"text-align: right;\">\n",
              "      <th></th>\n",
              "      <th>Cabin</th>\n",
              "      <th>Survived</th>\n",
              "      <th>Cabin_ordered</th>\n",
              "    </tr>\n",
              "  </thead>\n",
              "  <tbody>\n",
              "    <tr>\n",
              "      <th>857</th>\n",
              "      <td>E</td>\n",
              "      <td>1</td>\n",
              "      <td>1.049822</td>\n",
              "    </tr>\n",
              "    <tr>\n",
              "      <th>52</th>\n",
              "      <td>D</td>\n",
              "      <td>1</td>\n",
              "      <td>0.810930</td>\n",
              "    </tr>\n",
              "    <tr>\n",
              "      <th>386</th>\n",
              "      <td>M</td>\n",
              "      <td>0</td>\n",
              "      <td>-0.830169</td>\n",
              "    </tr>\n",
              "    <tr>\n",
              "      <th>124</th>\n",
              "      <td>D</td>\n",
              "      <td>0</td>\n",
              "      <td>0.810930</td>\n",
              "    </tr>\n",
              "    <tr>\n",
              "      <th>578</th>\n",
              "      <td>M</td>\n",
              "      <td>0</td>\n",
              "      <td>-0.830169</td>\n",
              "    </tr>\n",
              "  </tbody>\n",
              "</table>\n",
              "</div>"
            ],
            "text/plain": [
              "    Cabin  Survived  Cabin_ordered\n",
              "857     E         1       1.049822\n",
              "52      D         1       0.810930\n",
              "386     M         0      -0.830169\n",
              "124     D         0       0.810930\n",
              "578     M         0      -0.830169"
            ]
          },
          "metadata": {},
          "execution_count": 131
        }
      ]
    },
    {
      "cell_type": "code",
      "metadata": {
        "trusted": true,
        "colab": {
          "base_uri": "https://localhost:8080/",
          "height": 421
        },
        "id": "JPg3wEM_XrED",
        "outputId": "233c78fc-6a5f-4196-e032-3431cef035e9"
      },
      "source": [
        "# plot the original variable\n",
        "\n",
        "fig = plt.figure(figsize=(8,6))\n",
        "fig = X_train.groupby(['Cabin'])['Survived'].mean().plot()\n",
        "fig.set_title('Normal relationship between variable and target')\n",
        "fig.set_ylabel('Survived')"
      ],
      "execution_count": null,
      "outputs": [
        {
          "output_type": "execute_result",
          "data": {
            "text/plain": [
              "Text(0, 0.5, 'Survived')"
            ]
          },
          "metadata": {},
          "execution_count": 132
        },
        {
          "output_type": "display_data",
          "data": {
            "image/png": "[encoded data removed]",
            "text/plain": [
              "<Figure size 576x432 with 1 Axes>"
            ]
          },
          "metadata": {
            "needs_background": "light"
          }
        }
      ]
    },
    {
      "cell_type": "code",
      "metadata": {
        "trusted": true,
        "colab": {
          "base_uri": "https://localhost:8080/",
          "height": 422
        },
        "id": "D13ksPPfXrED",
        "outputId": "2c9bce83-1f55-4969-8ea4-996df4154725"
      },
      "source": [
        "# plot the transformed result: the monotonic variable\n",
        "\n",
        "fig = plt.figure(figsize=(8,6))\n",
        "fig = X_train.groupby(['Cabin_ordered'])['Survived'].mean().plot()\n",
        "fig.set_title('Monotonic relationship between variable and target')\n",
        "fig.set_ylabel('Survived')"
      ],
      "execution_count": null,
      "outputs": [
        {
          "output_type": "execute_result",
          "data": {
            "text/plain": [
              "Text(0, 0.5, 'Survived')"
            ]
          },
          "metadata": {},
          "execution_count": 133
        },
        {
          "output_type": "display_data",
          "data": {
            "image/png": "[encoded data removed]",
            "text/plain": [
              "<Figure size 576x432 with 1 Axes>"
            ]
          },
          "metadata": {
            "needs_background": "light"
          }
        }
      ]
    },
    {
      "cell_type": "markdown",
      "metadata": {
        "id": "HPbN_l6WXrEE"
      },
      "source": [
        "We can see in the above plot, there is now a monotonic relationship between the variable Cabin and probability of survival. The higher the Cabin number, the more likely the person was to survive."
      ]
    },
    {
      "cell_type": "markdown",
      "metadata": {
        "trusted": true,
        "id": "iVde4EAFXrEE"
      },
      "source": [
        "# **5. Variable Transformation** <a class=\"anchor\" id=\"5\"></a>\n",
        "\n",
        "[Table of Contents](#0.1)\n",
        "\n",
        "\n",
        "- Some machine learning models like linear and logistic regression assume that the variables are normally distributed. Others benefit from **Gaussian-like** distributions, as in such distributions the observations of X available to predict Y vary across a greater range of values. Thus, Gaussian distributed variables may boost the machine learning algorithm performance.\n",
        "\n",
        "- If a variable is not normally distributed, sometimes it is possible to find a mathematical transformation so that the transformed variable is Gaussian. Typically used mathematical transformations are:\n",
        "\n",
        " \n",
        "  1. Logarithm transformation - log(x)\n",
        "\n",
        "  2. Reciprocal transformation - 1 / x\n",
        "\n",
        "  3. Square root transformation - sqrt(x)\n",
        "\n",
        "  4. Exponential transformation - exp(x)\n",
        "\n",
        "  5. Box-Cox transformation  \n",
        "  \n",
        "- Now, let's demonstrate the above transformations on the titanic dataset."
      ]
    },
    {
      "cell_type": "code",
      "metadata": {
        "trusted": true,
        "colab": {
          "base_uri": "https://localhost:8080/",
          "height": 203
        },
        "id": "N_qBV6rjXrEE",
        "outputId": "25722ee1-6524-4a15-d684-5c0d2c67a33f"
      },
      "source": [
        "# load the numerical variables of the Titanic Dataset\n",
        "\n",
        "data = pd.read_csv('https://raw.githubusercontent.com/Rodrigo-Lopes-de-Andrade/Datasets/main/Feature_Engineering_Methods_train.csv', usecols = ['Age', 'Fare', 'Survived'])\n",
        "data.head()"
      ],
      "execution_count": null,
      "outputs": [
        {
          "output_type": "execute_result",
          "data": {
            "text/html": [
              "<div>\n",
              "<style scoped>\n",
              "    .dataframe tbody tr th:only-of-type {\n",
              "        vertical-align: middle;\n",
              "    }\n",
              "\n",
              "    .dataframe tbody tr th {\n",
              "        vertical-align: top;\n",
              "    }\n",
              "\n",
              "    .dataframe thead th {\n",
              "        text-align: right;\n",
              "    }\n",
              "</style>\n",
              "<table border=\"1\" class=\"dataframe\">\n",
              "  <thead>\n",
              "    <tr style=\"text-align: right;\">\n",
              "      <th></th>\n",
              "      <th>Survived</th>\n",
              "      <th>Age</th>\n",
              "      <th>Fare</th>\n",
              "    </tr>\n",
              "  </thead>\n",
              "  <tbody>\n",
              "    <tr>\n",
              "      <th>0</th>\n",
              "      <td>0</td>\n",
              "      <td>22.0</td>\n",
              "      <td>7.2500</td>\n",
              "    </tr>\n",
              "    <tr>\n",
              "      <th>1</th>\n",
              "      <td>1</td>\n",
              "      <td>38.0</td>\n",
              "      <td>71.2833</td>\n",
              "    </tr>\n",
              "    <tr>\n",
              "      <th>2</th>\n",
              "      <td>1</td>\n",
              "      <td>26.0</td>\n",
              "      <td>7.9250</td>\n",
              "    </tr>\n",
              "    <tr>\n",
              "      <th>3</th>\n",
              "      <td>1</td>\n",
              "      <td>35.0</td>\n",
              "      <td>53.1000</td>\n",
              "    </tr>\n",
              "    <tr>\n",
              "      <th>4</th>\n",
              "      <td>0</td>\n",
              "      <td>35.0</td>\n",
              "      <td>8.0500</td>\n",
              "    </tr>\n",
              "  </tbody>\n",
              "</table>\n",
              "</div>"
            ],
            "text/plain": [
              "   Survived   Age     Fare\n",
              "0         0  22.0   7.2500\n",
              "1         1  38.0  71.2833\n",
              "2         1  26.0   7.9250\n",
              "3         1  35.0  53.1000\n",
              "4         0  35.0   8.0500"
            ]
          },
          "metadata": {},
          "execution_count": 137
        }
      ]
    },
    {
      "cell_type": "markdown",
      "metadata": {
        "id": "JZmJHxk-XrEE"
      },
      "source": [
        "### **Fill missing data with random sample**"
      ]
    },
    {
      "cell_type": "code",
      "metadata": {
        "trusted": true,
        "id": "0EGmExRFXrEE"
      },
      "source": [
        "# first I will fill the missing data of the variable age, with a random sample of the variable\n",
        "\n",
        "def impute_na(data, variable):\n",
        "    # function to fill na with a random sample\n",
        "    df = data.copy()\n",
        "    \n",
        "    # random sampling\n",
        "    df[variable+'_random'] = df[variable]\n",
        "    \n",
        "    # extract the random sample to fill the na\n",
        "    random_sample = df[variable].dropna().sample(df[variable].isnull().sum(), random_state=0)\n",
        "    \n",
        "    # pandas needs to have the same index in order to merge datasets\n",
        "    random_sample.index = df[df[variable].isnull()].index\n",
        "    df.loc[df[variable].isnull(), variable+'_random'] = random_sample\n",
        "    \n",
        "    return df[variable+'_random']"
      ],
      "execution_count": null,
      "outputs": []
    },
    {
      "cell_type": "code",
      "metadata": {
        "trusted": true,
        "id": "s9R-apVQXrEF"
      },
      "source": [
        "# fill na\n",
        "data['Age'] = impute_na(data, 'Age')"
      ],
      "execution_count": null,
      "outputs": []
    },
    {
      "cell_type": "markdown",
      "metadata": {
        "id": "ZO4INLfeXrEF"
      },
      "source": [
        "## **Age**\n",
        "\n",
        "\n",
        "### **Original distribution**\n",
        "\n",
        "\n",
        "- We can visualise the distribution of the `Age` variable, by plotting a histogram and the Q-Q plot."
      ]
    },
    {
      "cell_type": "code",
      "metadata": {
        "trusted": true,
        "colab": {
          "base_uri": "https://localhost:8080/",
          "height": 404
        },
        "id": "B-KXaCtRXrEF",
        "outputId": "8ac7f783-cf34-47fa-9d14-f66408eb63d5"
      },
      "source": [
        "# plot the histograms to have a quick look at the distributions\n",
        "# we can plot Q-Q plots to visualise if the variable is normally distributed\n",
        "\n",
        "def diagnostic_plots(df, variable):\n",
        "    # function to plot a histogram and a Q-Q plot\n",
        "    # side by side, for a certain variable\n",
        "    \n",
        "    plt.figure(figsize=(15,6))\n",
        "    plt.subplot(1, 2, 1)\n",
        "    df[variable].hist()\n",
        "\n",
        "    plt.subplot(1, 2, 2)\n",
        "    stats.probplot(df[variable], dist=\"norm\", plot=pylab)\n",
        "\n",
        "    plt.show()\n",
        "    \n",
        "diagnostic_plots(data, 'Age')"
      ],
      "execution_count": null,
      "outputs": [
        {
          "output_type": "display_data",
          "data": {
            "image/png": "[encoded data removed]",
            "text/plain": [
              "<Figure size 1080x432 with 2 Axes>"
            ]
          },
          "metadata": {
            "needs_background": "light"
          }
        }
      ]
    },
    {
      "cell_type": "markdown",
      "metadata": {
        "id": "GA7cYYxzXrEF"
      },
      "source": [
        "- The variable `Age` is almost normally distributed, except for some observations on the lower value tail of the distribution. Note the slight skew to the left in the histogram, and the deviation from the straight line towards the lower values in the Q-Q- plot. \n",
        "\n",
        "- In the following cells, I will apply the above mentioned transformations and compare the distributions of the transformed `Age` variable."
      ]
    },
    {
      "cell_type": "markdown",
      "metadata": {
        "id": "25oKmH5oXrEG"
      },
      "source": [
        "## **5.1 Logarithmic transformation** <a class=\"anchor\" id=\"5.1\"></a>\n",
        "\n",
        "[Table of Contents](#0.1)"
      ]
    },
    {
      "cell_type": "code",
      "metadata": {
        "trusted": true,
        "colab": {
          "base_uri": "https://localhost:8080/",
          "height": 404
        },
        "id": "5A2h9TTJXrEG",
        "outputId": "98b811d8-28b4-4c6d-b551-8ca6f58fff17"
      },
      "source": [
        "### Logarithmic transformation\n",
        "data['Age_log'] = np.log(data.Age)\n",
        "\n",
        "diagnostic_plots(data, 'Age_log')"
      ],
      "execution_count": null,
      "outputs": [
        {
          "output_type": "display_data",
          "data": {
            "image/png": "[encoded data removed]",
            "text/plain": [
              "<Figure size 1080x432 with 2 Axes>"
            ]
          },
          "metadata": {
            "needs_background": "light"
          }
        }
      ]
    },
    {
      "cell_type": "markdown",
      "metadata": {
        "id": "z5uq8lETXrEG"
      },
      "source": [
        "- The logarithmic transformation, did not produce a Gaussian like distribution for Age."
      ]
    },
    {
      "cell_type": "markdown",
      "metadata": {
        "id": "yKM6BtjGXrEG"
      },
      "source": [
        "## **5.2 Reciprocal transformation** <a class=\"anchor\" id=\"5.2\"></a>\n",
        "\n",
        "[Table of Contents](#0.1)"
      ]
    },
    {
      "cell_type": "code",
      "metadata": {
        "trusted": true,
        "colab": {
          "base_uri": "https://localhost:8080/",
          "height": 404
        },
        "id": "SVXrTXaOXrEG",
        "outputId": "8282f616-e943-47c0-99fd-ab623065a62b"
      },
      "source": [
        "### Reciprocal transformation\n",
        "data['Age_reciprocal'] = 1 / data.Age\n",
        "\n",
        "diagnostic_plots(data, 'Age_reciprocal')"
      ],
      "execution_count": null,
      "outputs": [
        {
          "output_type": "display_data",
          "data": {
            "image/png": "[encoded data removed]",
            "text/plain": [
              "<Figure size 1080x432 with 2 Axes>"
            ]
          },
          "metadata": {
            "needs_background": "light"
          }
        }
      ]
    },
    {
      "cell_type": "markdown",
      "metadata": {
        "id": "2ybPYRoIXrEG"
      },
      "source": [
        "The reciprocal transformation was also not useful to transform Age into a variable normally distributed."
      ]
    },
    {
      "cell_type": "markdown",
      "metadata": {
        "id": "epCVGCfPXrEH"
      },
      "source": [
        "## **5.3 Square root transformation** <a class=\"anchor\" id=\"5.3\"></a>\n",
        "\n",
        "[Table of Contents](#0.1)"
      ]
    },
    {
      "cell_type": "code",
      "metadata": {
        "trusted": true,
        "colab": {
          "base_uri": "https://localhost:8080/",
          "height": 404
        },
        "id": "0FLiNqWGXrEH",
        "outputId": "97afa79a-7346-4627-dd4b-f82426790b02"
      },
      "source": [
        "data['Age_sqr'] =data.Age**(1/2)\n",
        "\n",
        "diagnostic_plots(data, 'Age_sqr')"
      ],
      "execution_count": null,
      "outputs": [
        {
          "output_type": "display_data",
          "data": {
            "image/png": "[encoded data removed]",
            "text/plain": [
              "<Figure size 1080x432 with 2 Axes>"
            ]
          },
          "metadata": {
            "needs_background": "light"
          }
        }
      ]
    },
    {
      "cell_type": "markdown",
      "metadata": {
        "id": "asWizWLrXrEH"
      },
      "source": [
        "The square root transformation is a bit more succesful that the previous two transformations. However, the variable is still not Gaussian, and this does not represent an improvement towards normality respect the original distribution of Age."
      ]
    },
    {
      "cell_type": "markdown",
      "metadata": {
        "id": "p0OP70G8XrEH"
      },
      "source": [
        "## **5.4 Exponential Transformation** <a class=\"anchor\" id=\"5.4\"></a>\n",
        "\n",
        "[Table of Contents](#0.1)"
      ]
    },
    {
      "cell_type": "code",
      "metadata": {
        "trusted": true,
        "colab": {
          "base_uri": "https://localhost:8080/",
          "height": 404
        },
        "id": "DPd2OQ-6XrEH",
        "outputId": "fea7557e-cad0-41ec-e2f9-d9877514a5d4"
      },
      "source": [
        "data['Age_exp'] = data.Age**(1/1.2) \n",
        "\n",
        "diagnostic_plots(data, 'Age_exp')"
      ],
      "execution_count": null,
      "outputs": [
        {
          "output_type": "display_data",
          "data": {
            "image/png": "[encoded data removed]",
            "text/plain": [
              "<Figure size 1080x432 with 2 Axes>"
            ]
          },
          "metadata": {
            "needs_background": "light"
          }
        }
      ]
    },
    {
      "cell_type": "markdown",
      "metadata": {
        "id": "koM7f36nXrEH"
      },
      "source": [
        "The exponential transformation is the best of all the transformations above, at the time of generating a variable that is normally distributed. Comparing the histogram and Q-Q plot of the exponentially transformed Age with the original distribution, we can say that the transformed variable follows more closely a Gaussian distribution."
      ]
    },
    {
      "cell_type": "markdown",
      "metadata": {
        "id": "TxHDsZtqXrEI"
      },
      "source": [
        "## **5.5 BoxCox transformation** <a class=\"anchor\" id=\"5.5\"></a>\n",
        "\n",
        "[Table of Contents](#0.1)\n",
        "\n",
        "\n",
        "- The Box-Cox transformation is defined as: \n",
        "\n",
        "     T(Y)=(Y exp(λ)−1)/λ\n",
        "\n",
        "- where Y is the response variable and λ is the transformation parameter. λ varies from -5 to 5. In the transformation, all values of λ  are considered and the optimal value for a given variable is selected.\n",
        "\n",
        "- Briefly, for each  λ (the transformation tests several λs), the correlation coefficient of the Probability Plot (Q-Q plot below, correlation between ordered values and theoretical quantiles) is calculated. \n",
        "\n",
        "- The value of λ corresponding to the maximum correlation on the plot is then the optimal choice for λ.\n",
        "\n",
        "- In python, we can evaluate and obtain the best λ with the stats.boxcox function from the package scipy.\n",
        "\n",
        "- We can proceed as follows -"
      ]
    },
    {
      "cell_type": "code",
      "metadata": {
        "trusted": true,
        "colab": {
          "base_uri": "https://localhost:8080/",
          "height": 421
        },
        "id": "ujtiPryQXrEI",
        "outputId": "e3a90bc9-3e95-4e32-c1d4-760bd7af6b91"
      },
      "source": [
        "data['Age_boxcox'], param = stats.boxcox(data.Age) \n",
        "\n",
        "print('Optimal λ: ', param)\n",
        "\n",
        "diagnostic_plots(data, 'Age_boxcox')"
      ],
      "execution_count": null,
      "outputs": [
        {
          "output_type": "stream",
          "name": "stdout",
          "text": [
            "Optimal λ:  0.7648522500282625\n"
          ]
        },
        {
          "output_type": "display_data",
          "data": {
            "image/png": "[encoded data removed]",
            "text/plain": [
              "<Figure size 1080x432 with 2 Axes>"
            ]
          },
          "metadata": {
            "needs_background": "light"
          }
        }
      ]
    },
    {
      "cell_type": "markdown",
      "metadata": {
        "id": "QSyyIjDxXrEI"
      },
      "source": [
        "The Box Cox transformation was as good as the exponential transformation we performed above to make Age look more Gaussian. Whether we decide to proceed with the original variable or the transformed variable, will depend of the purpose of the exercise."
      ]
    },
    {
      "cell_type": "markdown",
      "metadata": {
        "_uuid": "d629ff2d2480ee46fbb7e2d37f6b5fab8052498a",
        "_cell_guid": "79c7e3d0-c299-4dcb-8224-4455121ee9b0",
        "trusted": true,
        "id": "lDWenDWeXrEI"
      },
      "source": [
        "# **6. Discretization** <a class=\"anchor\" id=\"6\"></a>\n",
        "\n",
        "[Table of Contents](#0.1)\n",
        "\n",
        "\n",
        "- **Discretisation** is the process of transforming continuous variables into discrete variables by creating a set of contiguous intervals that spans the range of the variable's values.\n",
        "\n",
        "### Discretisation helps handle outliers and highly skewed variables\n",
        "\n",
        "- **Discretisation** helps handle outliers by placing these values into the lower or higher intervals together with the remaining inlier values of the distribution. Thus, these outlier observations no longer differ from the rest of the values at the tails of the distribution, as they are now all together in the same interval / bucket. In addition, by creating appropriate bins or intervals, discretisation can help spread the values of a skewed variable across a set of bins with equal number of observations.\n",
        "\n",
        "- There are several approaches to transform continuous variables into discrete ones. This process is also known as **binning**, with each bin being each  interval. \n",
        "\n",
        "- **Discretisation** refers to sorting the values of the variable into bins or intervals, also called buckets. There are multiple ways to discretise variables:\n",
        " \n",
        "\n",
        "  1. Equal width discretisation\n",
        "\n",
        "  2. Equal Frequency discretisation\n",
        "  \n",
        "  3. Domain knowledge discretisation\n",
        "\n",
        "  4. Discretisation using decision trees"
      ]
    },
    {
      "cell_type": "markdown",
      "metadata": {
        "id": "SmmMCkjZXrEI"
      },
      "source": [
        "## **Discretising data with pandas cut and qcut functions**\n",
        "\n",
        "- When dealing with continuous numeric data, it is often helpful to bin the data into multiple buckets for further analysis. Pandas supports these approaches using the **cut** and **qcut** functions.\n",
        "\n",
        "- **cut** command creates equispaced bins but frequency of samples is unequal in each bin.\n",
        "\n",
        "- **qcut** command creates unequal size bins but frequency of samples is equal in each bin.\n",
        "\n",
        "- The following diagram illustrates the point :-"
      ]
    },
    {
      "cell_type": "markdown",
      "metadata": {
        "id": "XlVxxkRkXrEJ"
      },
      "source": [
        "![Discretising data with pandas cut and qcut](https://i.stack.imgur.com/pObHa.png)"
      ]
    },
    {
      "cell_type": "markdown",
      "metadata": {
        "id": "AKioP3NlXrEJ"
      },
      "source": [
        "## **6.1 Equal width discretisation with pandas cut function** <a class=\"anchor\" id=\"6.1\"></a>\n",
        "\n",
        "[Table of Contents](#0.1)\n",
        "\n",
        "\n",
        "- Equal width binning divides the scope of possible values into N bins of the same width.The width is determined by the range of values in the variable and the number of bins we wish to use to divide the variable.\n",
        "\n",
        "  width = (max value - min value) / N\n",
        "\n",
        "- For example if the values of the variable vary between 0 and 100, we create 5 bins like this: width = (100-0) / 5 = 20. The bins thus are 0-20, 20-40, 40-60, 80-100. The first and final bins (0-20 and 80-100) can be expanded to accommodate outliers (that is, values under 0 or greater than 100 would be placed in those bins as well).\n",
        "\n",
        "- There is no rule of thumb to define N. Typically, we would not want more than 10.\n",
        "\n",
        "- Source : https://pandas.pydata.org/pandas-docs/version/0.23.4/generated/pandas.cut.html\n"
      ]
    },
    {
      "cell_type": "code",
      "metadata": {
        "trusted": true,
        "colab": {
          "base_uri": "https://localhost:8080/"
        },
        "id": "JeEkoGjQXrEJ",
        "outputId": "fe12ee21-ac11-41ee-aa9e-dedb4235c72b"
      },
      "source": [
        "# define x\n",
        "x = np.array([24,  7,  2, 25, 22, 29])\n",
        "x    "
      ],
      "execution_count": null,
      "outputs": [
        {
          "output_type": "execute_result",
          "data": {
            "text/plain": [
              "array([24,  7,  2, 25, 22, 29])"
            ]
          },
          "metadata": {},
          "execution_count": 146
        }
      ]
    },
    {
      "cell_type": "code",
      "metadata": {
        "trusted": true,
        "colab": {
          "base_uri": "https://localhost:8080/"
        },
        "id": "yC7VC5FqXrEJ",
        "outputId": "229fa826-f162-4286-a63c-204412f9aa04"
      },
      "source": [
        "# equal width discretisation with cut \n",
        "pd.cut(x, bins = 3, labels = [\"bad\", \"medium\", \"good\"]).value_counts() #Bins size has equal interval of 9   "
      ],
      "execution_count": null,
      "outputs": [
        {
          "output_type": "execute_result",
          "data": {
            "text/plain": [
              "bad       2\n",
              "medium    0\n",
              "good      4\n",
              "dtype: int64"
            ]
          },
          "metadata": {},
          "execution_count": 147
        }
      ]
    },
    {
      "cell_type": "markdown",
      "metadata": {
        "id": "MyDhVds4XrEJ"
      },
      "source": [
        "## **6.2 Equal frequency discretisation with pandas qcut function** <a class=\"anchor\" id=\"6.2\"></a>\n",
        "\n",
        "[Table of Contents](#0.1)\n",
        "\n",
        "- Equal frequency binning divides the scope of possible values of the variable into N bins, where each bin carries the same amount of observations. This is particularly useful for skewed variables as it spreads the observations over the different bins equally. Typically, we find the interval boundaries by determining the quantiles.\n",
        "\n",
        "- Equal frequency discretisation using quantiles consists of dividing the continuous variable into N quantiles, N to be defined by the user. There is no rule of thumb to define N. However, if we think of the discrete variable as a categorical variable, where each bin is a category, we would like to keep N (the number of categories) low (typically no more than 10).\n",
        "\n",
        "- Source : https://pandas.pydata.org/pandas-docs/version/0.23.4/generated/pandas.qcut.html"
      ]
    },
    {
      "cell_type": "code",
      "metadata": {
        "trusted": true,
        "colab": {
          "base_uri": "https://localhost:8080/"
        },
        "id": "ulowP8txXrEJ",
        "outputId": "288f5fa6-a5ca-4572-c87f-9da71c3acccc"
      },
      "source": [
        "# define x\n",
        "x = np.array([24,  7,  2, 25, 22, 29])\n",
        "x    "
      ],
      "execution_count": null,
      "outputs": [
        {
          "output_type": "execute_result",
          "data": {
            "text/plain": [
              "array([24,  7,  2, 25, 22, 29])"
            ]
          },
          "metadata": {},
          "execution_count": 148
        }
      ]
    },
    {
      "cell_type": "code",
      "metadata": {
        "trusted": true,
        "colab": {
          "base_uri": "https://localhost:8080/"
        },
        "id": "2nh9CftJXrEK",
        "outputId": "3e3f359e-80ee-447f-c0ab-96a694e5c292"
      },
      "source": [
        "# equal frequency discretisation with qcut \n",
        "pd.qcut(x, q = 3, labels = [\"bad\", \"medium\", \"good\"]).value_counts() #Equal frequency of 2 in each bins"
      ],
      "execution_count": null,
      "outputs": [
        {
          "output_type": "execute_result",
          "data": {
            "text/plain": [
              "bad       2\n",
              "medium    2\n",
              "good      2\n",
              "dtype: int64"
            ]
          },
          "metadata": {},
          "execution_count": 149
        }
      ]
    },
    {
      "cell_type": "markdown",
      "metadata": {
        "trusted": true,
        "id": "d3xBI41TXrEK"
      },
      "source": [
        "## **6.3 Domain knowledge discretisation** <a class=\"anchor\" id=\"6.3\"></a>\n",
        "\n",
        "[Table of Contents](#0.1)\n",
        "\n",
        "- Frequently, when engineering variables in a business setting, the business experts determine the intervals in which they think the variable should be divided so that it makes sense for the business. These intervals may be defined both arbitrarily or following some criteria of use to the business. Typical examples are the discretisation of variables like Age and Income. \n",
        "\n",
        "- Income for example is usually capped at a certain maximum value, and all incomes above that value fall into the last bucket. As per Age, it is usually divided in certain groups according to the business need, for example division into  0-21 (for under-aged), 20-30 (for young adults), 30-40, 40-60, and > 60 (for retired or close to) are frequent."
      ]
    },
    {
      "cell_type": "code",
      "metadata": {
        "trusted": true,
        "colab": {
          "base_uri": "https://localhost:8080/",
          "height": 203
        },
        "id": "3JcX5meJXrEK",
        "outputId": "ad5bd50f-7163-4c16-e19a-bb6b4f41a191"
      },
      "source": [
        "# load the numerical variables of the Titanic Dataset\n",
        "data = pd.read_csv('https://raw.githubusercontent.com/Rodrigo-Lopes-de-Andrade/Datasets/main/Feature_Engineering_Methods_train.csv', usecols = ['Age', 'Survived'])\n",
        "data.head()"
      ],
      "execution_count": null,
      "outputs": [
        {
          "output_type": "execute_result",
          "data": {
            "text/html": [
              "<div>\n",
              "<style scoped>\n",
              "    .dataframe tbody tr th:only-of-type {\n",
              "        vertical-align: middle;\n",
              "    }\n",
              "\n",
              "    .dataframe tbody tr th {\n",
              "        vertical-align: top;\n",
              "    }\n",
              "\n",
              "    .dataframe thead th {\n",
              "        text-align: right;\n",
              "    }\n",
              "</style>\n",
              "<table border=\"1\" class=\"dataframe\">\n",
              "  <thead>\n",
              "    <tr style=\"text-align: right;\">\n",
              "      <th></th>\n",
              "      <th>Survived</th>\n",
              "      <th>Age</th>\n",
              "    </tr>\n",
              "  </thead>\n",
              "  <tbody>\n",
              "    <tr>\n",
              "      <th>0</th>\n",
              "      <td>0</td>\n",
              "      <td>22.0</td>\n",
              "    </tr>\n",
              "    <tr>\n",
              "      <th>1</th>\n",
              "      <td>1</td>\n",
              "      <td>38.0</td>\n",
              "    </tr>\n",
              "    <tr>\n",
              "      <th>2</th>\n",
              "      <td>1</td>\n",
              "      <td>26.0</td>\n",
              "    </tr>\n",
              "    <tr>\n",
              "      <th>3</th>\n",
              "      <td>1</td>\n",
              "      <td>35.0</td>\n",
              "    </tr>\n",
              "    <tr>\n",
              "      <th>4</th>\n",
              "      <td>0</td>\n",
              "      <td>35.0</td>\n",
              "    </tr>\n",
              "  </tbody>\n",
              "</table>\n",
              "</div>"
            ],
            "text/plain": [
              "   Survived   Age\n",
              "0         0  22.0\n",
              "1         1  38.0\n",
              "2         1  26.0\n",
              "3         1  35.0\n",
              "4         0  35.0"
            ]
          },
          "metadata": {},
          "execution_count": 150
        }
      ]
    },
    {
      "cell_type": "markdown",
      "metadata": {
        "id": "3RZHQT_LXrEK"
      },
      "source": [
        "The variable Age contains missing data, that I will fill by extracting a random sample of the variable."
      ]
    },
    {
      "cell_type": "code",
      "metadata": {
        "trusted": true,
        "id": "BtLVQot1XrEK"
      },
      "source": [
        "def impute_na(data, variable):\n",
        "    df = data.copy()\n",
        "    \n",
        "    # random sampling\n",
        "    df[variable+'_random'] = df[variable]\n",
        "    \n",
        "    # extract the random sample to fill the na\n",
        "    random_sample = data[variable].dropna().sample(df[variable].isnull().sum(), random_state=0)\n",
        "    \n",
        "    # pandas needs to have the same index in order to merge datasets\n",
        "    random_sample.index = df[df[variable].isnull()].index\n",
        "    df.loc[df[variable].isnull(), variable+'_random'] = random_sample\n",
        "    \n",
        "    return df[variable+'_random']"
      ],
      "execution_count": null,
      "outputs": []
    },
    {
      "cell_type": "code",
      "metadata": {
        "trusted": true,
        "id": "JoPMh_cRXrEL"
      },
      "source": [
        "# let's fill the missing data\n",
        "data['Age'] = impute_na(data, 'Age')"
      ],
      "execution_count": null,
      "outputs": []
    },
    {
      "cell_type": "code",
      "metadata": {
        "trusted": true,
        "colab": {
          "base_uri": "https://localhost:8080/"
        },
        "id": "0RmuoyRLXrEL",
        "outputId": "8fb06d55-8199-4a3f-836f-8c0766e284c7"
      },
      "source": [
        "data['Age'].isnull().sum()"
      ],
      "execution_count": null,
      "outputs": [
        {
          "output_type": "execute_result",
          "data": {
            "text/plain": [
              "0"
            ]
          },
          "metadata": {},
          "execution_count": 153
        }
      ]
    },
    {
      "cell_type": "code",
      "metadata": {
        "trusted": true,
        "colab": {
          "base_uri": "https://localhost:8080/"
        },
        "id": "EFk-0TiQXrEL",
        "outputId": "4f29bf08-864a-4376-d2e6-536b2006331d"
      },
      "source": [
        "# let's divide age into the buckets \n",
        "\n",
        "# bucket boundaries\n",
        "buckets = [0,20,40,60,100]\n",
        "\n",
        "# bucket labels\n",
        "labels = ['0-20', '20-40', '40-60', '>60']\n",
        "\n",
        "# discretisation\n",
        "pd.cut(data.Age, bins = buckets, labels = labels, include_lowest=True).value_counts()"
      ],
      "execution_count": null,
      "outputs": [
        {
          "output_type": "execute_result",
          "data": {
            "text/plain": [
              "20-40    486\n",
              "0-20     221\n",
              "40-60    156\n",
              ">60       28\n",
              "Name: Age, dtype: int64"
            ]
          },
          "metadata": {},
          "execution_count": 154
        }
      ]
    },
    {
      "cell_type": "code",
      "metadata": {
        "trusted": true,
        "colab": {
          "base_uri": "https://localhost:8080/",
          "height": 203
        },
        "id": "9Aytk1GyXrEL",
        "outputId": "b1db5624-9444-476f-e470-e5749025e50f"
      },
      "source": [
        "# create two new columns after discretisation\n",
        "\n",
        "data['Age_buckets_labels'] = pd.cut(data.Age, bins=buckets, labels = labels, include_lowest=True)\n",
        "data['Age_buckets'] = pd.cut(data.Age, bins=buckets, include_lowest=True)\n",
        "\n",
        "data.head()"
      ],
      "execution_count": null,
      "outputs": [
        {
          "output_type": "execute_result",
          "data": {
            "text/html": [
              "<div>\n",
              "<style scoped>\n",
              "    .dataframe tbody tr th:only-of-type {\n",
              "        vertical-align: middle;\n",
              "    }\n",
              "\n",
              "    .dataframe tbody tr th {\n",
              "        vertical-align: top;\n",
              "    }\n",
              "\n",
              "    .dataframe thead th {\n",
              "        text-align: right;\n",
              "    }\n",
              "</style>\n",
              "<table border=\"1\" class=\"dataframe\">\n",
              "  <thead>\n",
              "    <tr style=\"text-align: right;\">\n",
              "      <th></th>\n",
              "      <th>Survived</th>\n",
              "      <th>Age</th>\n",
              "      <th>Age_buckets_labels</th>\n",
              "      <th>Age_buckets</th>\n",
              "    </tr>\n",
              "  </thead>\n",
              "  <tbody>\n",
              "    <tr>\n",
              "      <th>0</th>\n",
              "      <td>0</td>\n",
              "      <td>22.0</td>\n",
              "      <td>20-40</td>\n",
              "      <td>(20.0, 40.0]</td>\n",
              "    </tr>\n",
              "    <tr>\n",
              "      <th>1</th>\n",
              "      <td>1</td>\n",
              "      <td>38.0</td>\n",
              "      <td>20-40</td>\n",
              "      <td>(20.0, 40.0]</td>\n",
              "    </tr>\n",
              "    <tr>\n",
              "      <th>2</th>\n",
              "      <td>1</td>\n",
              "      <td>26.0</td>\n",
              "      <td>20-40</td>\n",
              "      <td>(20.0, 40.0]</td>\n",
              "    </tr>\n",
              "    <tr>\n",
              "      <th>3</th>\n",
              "      <td>1</td>\n",
              "      <td>35.0</td>\n",
              "      <td>20-40</td>\n",
              "      <td>(20.0, 40.0]</td>\n",
              "    </tr>\n",
              "    <tr>\n",
              "      <th>4</th>\n",
              "      <td>0</td>\n",
              "      <td>35.0</td>\n",
              "      <td>20-40</td>\n",
              "      <td>(20.0, 40.0]</td>\n",
              "    </tr>\n",
              "  </tbody>\n",
              "</table>\n",
              "</div>"
            ],
            "text/plain": [
              "   Survived   Age Age_buckets_labels   Age_buckets\n",
              "0         0  22.0              20-40  (20.0, 40.0]\n",
              "1         1  38.0              20-40  (20.0, 40.0]\n",
              "2         1  26.0              20-40  (20.0, 40.0]\n",
              "3         1  35.0              20-40  (20.0, 40.0]\n",
              "4         0  35.0              20-40  (20.0, 40.0]"
            ]
          },
          "metadata": {},
          "execution_count": 155
        }
      ]
    },
    {
      "cell_type": "code",
      "metadata": {
        "trusted": true,
        "colab": {
          "base_uri": "https://localhost:8080/",
          "height": 203
        },
        "id": "D3ZlZToNXrEL",
        "outputId": "046590f8-8440-463b-ad45-9791a9723ef7"
      },
      "source": [
        "data.tail()"
      ],
      "execution_count": null,
      "outputs": [
        {
          "output_type": "execute_result",
          "data": {
            "text/html": [
              "<div>\n",
              "<style scoped>\n",
              "    .dataframe tbody tr th:only-of-type {\n",
              "        vertical-align: middle;\n",
              "    }\n",
              "\n",
              "    .dataframe tbody tr th {\n",
              "        vertical-align: top;\n",
              "    }\n",
              "\n",
              "    .dataframe thead th {\n",
              "        text-align: right;\n",
              "    }\n",
              "</style>\n",
              "<table border=\"1\" class=\"dataframe\">\n",
              "  <thead>\n",
              "    <tr style=\"text-align: right;\">\n",
              "      <th></th>\n",
              "      <th>Survived</th>\n",
              "      <th>Age</th>\n",
              "      <th>Age_buckets_labels</th>\n",
              "      <th>Age_buckets</th>\n",
              "    </tr>\n",
              "  </thead>\n",
              "  <tbody>\n",
              "    <tr>\n",
              "      <th>886</th>\n",
              "      <td>0</td>\n",
              "      <td>27.0</td>\n",
              "      <td>20-40</td>\n",
              "      <td>(20.0, 40.0]</td>\n",
              "    </tr>\n",
              "    <tr>\n",
              "      <th>887</th>\n",
              "      <td>1</td>\n",
              "      <td>19.0</td>\n",
              "      <td>0-20</td>\n",
              "      <td>(-0.001, 20.0]</td>\n",
              "    </tr>\n",
              "    <tr>\n",
              "      <th>888</th>\n",
              "      <td>0</td>\n",
              "      <td>15.0</td>\n",
              "      <td>0-20</td>\n",
              "      <td>(-0.001, 20.0]</td>\n",
              "    </tr>\n",
              "    <tr>\n",
              "      <th>889</th>\n",
              "      <td>1</td>\n",
              "      <td>26.0</td>\n",
              "      <td>20-40</td>\n",
              "      <td>(20.0, 40.0]</td>\n",
              "    </tr>\n",
              "    <tr>\n",
              "      <th>890</th>\n",
              "      <td>0</td>\n",
              "      <td>32.0</td>\n",
              "      <td>20-40</td>\n",
              "      <td>(20.0, 40.0]</td>\n",
              "    </tr>\n",
              "  </tbody>\n",
              "</table>\n",
              "</div>"
            ],
            "text/plain": [
              "     Survived   Age Age_buckets_labels     Age_buckets\n",
              "886         0  27.0              20-40    (20.0, 40.0]\n",
              "887         1  19.0               0-20  (-0.001, 20.0]\n",
              "888         0  15.0               0-20  (-0.001, 20.0]\n",
              "889         1  26.0              20-40    (20.0, 40.0]\n",
              "890         0  32.0              20-40    (20.0, 40.0]"
            ]
          },
          "metadata": {},
          "execution_count": 156
        }
      ]
    },
    {
      "cell_type": "markdown",
      "metadata": {
        "id": "8KEDeH2hXrEL"
      },
      "source": [
        "- We can observe the buckets into which each Age observation was placed. For example, age 27 was placed into the 20-40 bucket."
      ]
    },
    {
      "cell_type": "code",
      "metadata": {
        "trusted": true,
        "colab": {
          "base_uri": "https://localhost:8080/",
          "height": 506
        },
        "id": "GUyKvPSOXrEM",
        "outputId": "25f41e53-b92f-4641-9eb4-8827fae3c859"
      },
      "source": [
        "# number of passengers per age bucket\n",
        "\n",
        "plt.figure(figsize=(12,8))\n",
        "data.groupby('Age_buckets_labels')['Age'].count().plot.bar()"
      ],
      "execution_count": null,
      "outputs": [
        {
          "output_type": "execute_result",
          "data": {
            "text/plain": [
              "<matplotlib.axes._subplots.AxesSubplot at 0x7fe50ad0d9d0>"
            ]
          },
          "metadata": {},
          "execution_count": 157
        },
        {
          "output_type": "display_data",
          "data": {
            "image/png": "[encoded data removed]",
            "text/plain": [
              "<Figure size 864x576 with 1 Axes>"
            ]
          },
          "metadata": {
            "needs_background": "light"
          }
        }
      ]
    },
    {
      "cell_type": "markdown",
      "metadata": {
        "id": "CFgjRMB1XrEM"
      },
      "source": [
        "- We can see that there are different passengers in each age bucket label."
      ]
    },
    {
      "cell_type": "markdown",
      "metadata": {
        "id": "9whCAmedXrEN"
      },
      "source": [
        "# **7. Outlier Engineering** <a class=\"anchor\" id=\"7\"></a>\n",
        "\n",
        "[Table of Contents](#0.1)\n",
        "\n",
        "\n",
        "- Outliers are values that are unusually high or unusually low respect to the rest of the observations of the variable. There are a few techniques for outlier handling:\n",
        "\n",
        "  1. Outlier removal\n",
        "\n",
        "  2. Treating outliers as missing values\n",
        "\n",
        "  3. Discretisation\n",
        "\n",
        "  4. Top / bottom / zero coding\n",
        " "
      ]
    },
    {
      "cell_type": "markdown",
      "metadata": {
        "id": "6TdnGl8wXrEN"
      },
      "source": [
        "### **Identifying outliers**\n",
        "\n",
        "#### **Extreme Value Analysis**\n",
        "\n",
        "- The most basic form of outlier detection is Extreme Value Analysis of 1-dimensional data. The key for this method is to determine the statistical tails of the underlying distribution of the variable, and then finding the values that sit at the very end of the tails.\n",
        "\n",
        "- In the typical scenario, the distribution of the variable is Gaussian and thus outliers will lie outside the mean plus or minus 3 times the standard deviation of the variable.\n",
        "\n",
        "- If the variable is not normally distributed, a general approach is to calculate the quantiles, and then the interquantile range (IQR), as follows:\n",
        "\n",
        "- IQR = 75th quantile - 25th quantile\n",
        "\n",
        "- An outlier will sit outside the following upper and lower boundaries:\n",
        "\n",
        "- Upper boundary = 75th quantile + (IQR * 1.5)\n",
        "\n",
        "- Lower boundary = 25th quantile - (IQR * 1.5)\n",
        "\n",
        "or for extreme cases:\n",
        "\n",
        "- Upper boundary = 75th quantile + (IQR * 3)\n",
        "\n",
        "- Lower boundary = 25th quantile - (IQR * 3)"
      ]
    },
    {
      "cell_type": "markdown",
      "metadata": {
        "id": "NySbQk1pXrEN"
      },
      "source": [
        "## **7.1 Outlier removal** <a class=\"anchor\" id=\"7.1\"></a>\n",
        "\n",
        "[Table of Contents](#0.1)\n",
        "\n",
        "\n",
        "- Outlier removal refers to removing outlier observations from the dataset. Outliers, by nature are not abundant, so this procedure should not distort the dataset dramatically. But if there are outliers across multiple variables, we may end up removing a big portion of the dataset."
      ]
    },
    {
      "cell_type": "markdown",
      "metadata": {
        "id": "ZfjgJlSnXrEO"
      },
      "source": [
        "## **7.2 Treating outliers as missing values** <a class=\"anchor\" id=\"7.2\"></a>\n",
        "\n",
        "[Table of Contents](#0.1)\n",
        "\n",
        "- We can treat outliers as missing information, and carry on any of the imputation methods described earlier in this kernel.\n",
        "\n",
        " "
      ]
    },
    {
      "cell_type": "markdown",
      "metadata": {
        "id": "A2QPpqliXrEP"
      },
      "source": [
        "## **7.3 Discretisation** <a class=\"anchor\" id=\"7.3\"></a>\n",
        "\n",
        "[Table of Contents](#0.1)\n",
        "\n",
        "- Discretisation handles outliers automatically, as outliers are sorted into the terminal bins, together with the other higher or lower value observations. The best approaches are equal frequency and tree based discretisation."
      ]
    },
    {
      "cell_type": "markdown",
      "metadata": {
        "id": "RyxoglEEXrEP"
      },
      "source": [
        "## **7.4 Top /bottom / zero coding** <a class=\"anchor\" id=\"7.4\"></a>\n",
        "\n",
        "[Table of Contents](#0.1)\n",
        "\n",
        "- Top or bottom coding are also known as **Winsorisation** or **outlier capping**. The procedure involves capping the maximum and minimum values at a predefined value. This predefined value can be arbitrary, or it can be derived from the variable distribution.\n",
        "\n",
        "- If the variable is normally distributed we can cap the maximum and minimum values at the mean plus or minus 3 times the standard deviation. If the variable is skewed, we can use the inter-quantile range proximity rule or cap at the top and bottom percentiles.\n",
        "\n",
        "- This is demonstrated using the titanic dataset below:-\n",
        "\n",
        " \n",
        "\n"
      ]
    },
    {
      "cell_type": "code",
      "metadata": {
        "trusted": true,
        "id": "FP8WJDZ6XrEP"
      },
      "source": [
        "# load the numerical variables of the Titanic Dataset\n",
        "data = pd.read_csv('/kaggle/input/titanic/train.csv', usecols = ['Pclass', 'Age', 'SibSp', 'Parch', 'Fare', 'Survived'])\n",
        "data.head()"
      ],
      "execution_count": null,
      "outputs": []
    },
    {
      "cell_type": "markdown",
      "metadata": {
        "id": "p5yWhqwXXrEP"
      },
      "source": [
        "### **Top-coding important**\n",
        "\n",
        "Top-coding and bottom-coding, as any other feature pre-processing step, should be determined over the training set, and then transferred onto the test set. This means that we should find the upper and lower bounds in the training set only, and use those bands to cap  the values in the test set."
      ]
    },
    {
      "cell_type": "code",
      "metadata": {
        "trusted": true,
        "id": "ltrXrhj4XrEQ"
      },
      "source": [
        "# divide dataset into train and test set\n",
        "X_train, X_test, y_train, y_test = train_test_split(data, data.Survived,\n",
        "                                                    test_size=0.3,\n",
        "                                                    random_state=0)\n",
        "X_train.shape, X_test.shape"
      ],
      "execution_count": null,
      "outputs": []
    },
    {
      "cell_type": "markdown",
      "metadata": {
        "id": "q2ssHtyQXrEQ"
      },
      "source": [
        "### **Outliers in continuous variables**\n",
        "\n",
        "- We can see that `Age` and `Fare` are continuous variables. So, first I will cap the outliers in those variables."
      ]
    },
    {
      "cell_type": "code",
      "metadata": {
        "trusted": true,
        "id": "71hzktaQXrER"
      },
      "source": [
        "# let's make boxplots to visualise outliers in the continuous variables \n",
        "# Age and Fare\n",
        "\n",
        "plt.figure(figsize=(15,6))\n",
        "plt.subplot(1, 2, 1)\n",
        "fig = data.boxplot(column='Age')\n",
        "fig.set_title('')\n",
        "fig.set_ylabel('Age')\n",
        "\n",
        "plt.subplot(1, 2, 2)\n",
        "fig = data.boxplot(column='Fare')\n",
        "fig.set_title('')\n",
        "fig.set_ylabel('Fare')"
      ],
      "execution_count": null,
      "outputs": []
    },
    {
      "cell_type": "markdown",
      "metadata": {
        "id": "tDoBovljXrER"
      },
      "source": [
        "- Both Age and Fare contain outliers. Let's find which valuers are the outliers."
      ]
    },
    {
      "cell_type": "code",
      "metadata": {
        "trusted": true,
        "id": "En-0Ij68XrER"
      },
      "source": [
        "# first we plot the distributions to find out if they are Gaussian or skewed.\n",
        "# Depending on the distribution, we will use the normal assumption or the interquantile\n",
        "# range to find outliers\n",
        "\n",
        "plt.figure(figsize=(15,6))\n",
        "plt.subplot(1, 2, 1)\n",
        "fig = data.Age.hist(bins=20)\n",
        "fig.set_ylabel('Number of passengers')\n",
        "fig.set_xlabel('Age')\n",
        "\n",
        "plt.subplot(1, 2, 2)\n",
        "fig = data.Fare.hist(bins=20)\n",
        "fig.set_ylabel('Number of passengers')\n",
        "fig.set_xlabel('Fare')"
      ],
      "execution_count": null,
      "outputs": []
    },
    {
      "cell_type": "markdown",
      "metadata": {
        "id": "2pmGIfe2XrES"
      },
      "source": [
        "Age is quite Gaussian and Fare is skewed, so I will use the Gaussian assumption for Age, and the interquantile range for Fare."
      ]
    },
    {
      "cell_type": "code",
      "metadata": {
        "trusted": true,
        "id": "uYeIpPSVXrES"
      },
      "source": [
        "# find outliers\n",
        "\n",
        "# Age\n",
        "Upper_boundary = data.Age.mean() + 3* data.Age.std()\n",
        "Lower_boundary = data.Age.mean() - 3* data.Age.std()\n",
        "print('Age outliers are values < {lowerboundary} or > {upperboundary}'.format(lowerboundary=Lower_boundary, upperboundary=Upper_boundary))\n",
        "\n",
        "# Fare\n",
        "IQR = data.Fare.quantile(0.75) - data.Fare.quantile(0.25)\n",
        "Lower_fence = data.Fare.quantile(0.25) - (IQR * 3)\n",
        "Upper_fence = data.Fare.quantile(0.75) + (IQR * 3)\n",
        "print('Fare outliers are values < {lowerboundary} or > {upperboundary}'.format(lowerboundary=Lower_fence, upperboundary=Upper_fence))"
      ],
      "execution_count": null,
      "outputs": []
    },
    {
      "cell_type": "markdown",
      "metadata": {
        "id": "dBCwKbXaXrET"
      },
      "source": [
        "### **Age**\n",
        "\n",
        "- For Age variable the outliers lie only on the right of the distribution. Therefore we only need to introduce top-coding."
      ]
    },
    {
      "cell_type": "code",
      "metadata": {
        "trusted": true,
        "id": "NSvPYp4VXrET"
      },
      "source": [
        "# view the statistical summary of Age\n",
        "data.Age.describe()"
      ],
      "execution_count": null,
      "outputs": []
    },
    {
      "cell_type": "code",
      "metadata": {
        "trusted": true,
        "id": "Nc81eLjcXrET"
      },
      "source": [
        "# Assuming normality\n",
        "\n",
        "Upper_boundary = X_train.Age.mean() + 3* X_train.Age.std()\n",
        "Upper_boundary"
      ],
      "execution_count": null,
      "outputs": []
    },
    {
      "cell_type": "code",
      "metadata": {
        "trusted": true,
        "id": "bz2u06u2XrET"
      },
      "source": [
        "# top-coding the Age variable\n",
        "\n",
        "X_train.loc[X_train.Age>73, 'Age'] = 73\n",
        "X_test.loc[X_test.Age>73, 'Age'] = 73\n",
        "\n",
        "X_train.Age.max(), X_test.Age.max()"
      ],
      "execution_count": null,
      "outputs": []
    },
    {
      "cell_type": "markdown",
      "metadata": {
        "id": "5OQzB2v_XrET"
      },
      "source": [
        "### **Fare**\n",
        "\n",
        "- The outliers, according to the above plot, lie all at the right side of the distribution. This is, some people paid extremely high prices for their tickets. Therefore, in this variable, only extremely high values will affect the performance of our machine learning models, and we need to do therefore top-coding. "
      ]
    },
    {
      "cell_type": "code",
      "metadata": {
        "trusted": true,
        "id": "c3cVKW5-XrEU"
      },
      "source": [
        "# view statistical properties of Fare\n",
        "\n",
        "X_train.Fare.describe()"
      ],
      "execution_count": null,
      "outputs": []
    },
    {
      "cell_type": "code",
      "metadata": {
        "trusted": true,
        "id": "qbC0xyNNXrEU"
      },
      "source": [
        "# top coding: upper boundary for outliers according to interquantile proximity rule\n",
        "\n",
        "IQR = data.Fare.quantile(0.75) - data.Fare.quantile(0.25)\n",
        "\n",
        "Upper_fence = X_train.Fare.quantile(0.75) + (IQR * 3)\n",
        "\n",
        "Upper_fence"
      ],
      "execution_count": null,
      "outputs": []
    },
    {
      "cell_type": "markdown",
      "metadata": {
        "id": "Ln2YY2nQXrEU"
      },
      "source": [
        "The upper boundary, above which every value is considered an outlier is a cost of 100 dollars for the Fare."
      ]
    },
    {
      "cell_type": "code",
      "metadata": {
        "trusted": true,
        "id": "gFJdJGe9XrEU"
      },
      "source": [
        "# top-coding: capping the variable Fare at 100\n",
        "X_train.loc[X_train.Fare>100, 'Fare'] = 100\n",
        "X_test.loc[X_test.Fare>100, 'Fare'] = 100\n",
        "X_train.Fare.max(), X_test.Fare.max()"
      ],
      "execution_count": null,
      "outputs": []
    },
    {
      "cell_type": "markdown",
      "metadata": {
        "id": "RZECORwpXrEU"
      },
      "source": [
        "Thus we deal with outliers from a machine learning perspective."
      ]
    },
    {
      "cell_type": "markdown",
      "metadata": {
        "id": "GRxa2gDyXrEU"
      },
      "source": [
        "# **8. Date and Time Engineering** <a class=\"anchor\" id=\"8\"></a>\n",
        "\n",
        "[Table of Contents](#0.1)\n",
        "\n",
        "\n",
        "Date variables are special type of categorical variable. By their own nature, date variables will contain a multitude of different labels, each one corresponding to a specific date and sometimes time. Date variables, when preprocessed properly can highly enrich a dataset. For example, from a date variable we can extract:\n",
        "\n",
        "- Month\n",
        "- Quarter\n",
        "- Semester\n",
        "- Day (number)\n",
        "- Day of the week\n",
        "- Is Weekend?\n",
        "- Hr\n",
        "- Time differences in years, months, days, hrs, etc.\n",
        "\n",
        "\n",
        "It is important to understand that date variables should not be used as the categorical variables we have been working so far when building a machine learning model. Not only because they have a multitude of categories, but also because when we actually use the model to score a new observation, this observation will most likely be in the future, an therefore its date label, will be different than the ones contained in the training set and therefore the ones used to train the machine learning algorithm.\n",
        "\n",
        "\n",
        "- I will use the lending club dataset for demonstration -"
      ]
    },
    {
      "cell_type": "code",
      "metadata": {
        "trusted": true,
        "colab": {
          "base_uri": "https://localhost:8080/",
          "height": 203
        },
        "id": "I0y7cLZlXrEV",
        "outputId": "4982e579-5ed7-4fff-cd81-a7bcca465376"
      },
      "source": [
        "# let's load the Lending Club dataset with selected columns and rows\n",
        "\n",
        "use_cols = ['issue_d', 'last_pymnt_d']\n",
        "data = pd.read_csv('/content/loan.csv', usecols=use_cols, nrows=10000)\n",
        "data.head()"
      ],
      "execution_count": null,
      "outputs": [
        {
          "output_type": "execute_result",
          "data": {
            "text/html": [
              "<div>\n",
              "<style scoped>\n",
              "    .dataframe tbody tr th:only-of-type {\n",
              "        vertical-align: middle;\n",
              "    }\n",
              "\n",
              "    .dataframe tbody tr th {\n",
              "        vertical-align: top;\n",
              "    }\n",
              "\n",
              "    .dataframe thead th {\n",
              "        text-align: right;\n",
              "    }\n",
              "</style>\n",
              "<table border=\"1\" class=\"dataframe\">\n",
              "  <thead>\n",
              "    <tr style=\"text-align: right;\">\n",
              "      <th></th>\n",
              "      <th>issue_d</th>\n",
              "      <th>last_pymnt_d</th>\n",
              "    </tr>\n",
              "  </thead>\n",
              "  <tbody>\n",
              "    <tr>\n",
              "      <th>0</th>\n",
              "      <td>Dec-11</td>\n",
              "      <td>Jan-15</td>\n",
              "    </tr>\n",
              "    <tr>\n",
              "      <th>1</th>\n",
              "      <td>Dec-11</td>\n",
              "      <td>Apr-13</td>\n",
              "    </tr>\n",
              "    <tr>\n",
              "      <th>2</th>\n",
              "      <td>Dec-11</td>\n",
              "      <td>Jun-14</td>\n",
              "    </tr>\n",
              "    <tr>\n",
              "      <th>3</th>\n",
              "      <td>Dec-11</td>\n",
              "      <td>Jan-15</td>\n",
              "    </tr>\n",
              "    <tr>\n",
              "      <th>4</th>\n",
              "      <td>Dec-11</td>\n",
              "      <td>May-16</td>\n",
              "    </tr>\n",
              "  </tbody>\n",
              "</table>\n",
              "</div>"
            ],
            "text/plain": [
              "  issue_d last_pymnt_d\n",
              "0  Dec-11       Jan-15\n",
              "1  Dec-11       Apr-13\n",
              "2  Dec-11       Jun-14\n",
              "3  Dec-11       Jan-15\n",
              "4  Dec-11       May-16"
            ]
          },
          "metadata": {},
          "execution_count": 160
        }
      ]
    },
    {
      "cell_type": "code",
      "metadata": {
        "trusted": true,
        "colab": {
          "base_uri": "https://localhost:8080/",
          "height": 774
        },
        "id": "uJRmWqt2XrEV",
        "outputId": "7c7cc370-9300-43ca-9ebf-ff9a92ab41a1"
      },
      "source": [
        "# now let's parse the dates, currently coded as strings, into datetime format\n",
        "\n",
        "data['issue_dt'] = pd.to_datetime(data.issue_d)\n",
        "data['last_pymnt_dt'] = pd.to_datetime(data.last_pymnt_d)\n",
        "\n",
        "data[['issue_d','issue_dt','last_pymnt_d', 'last_pymnt_dt']].head()"
      ],
      "execution_count": null,
      "outputs": [
        {
          "output_type": "error",
          "ename": "OutOfBoundsDatetime",
          "evalue": "ignored",
          "traceback": [
            "\u001b[0;31m---------------------------------------------------------------------------\u001b[0m",
            "\u001b[0;31mTypeError\u001b[0m                                 Traceback (most recent call last)",
            "\u001b[0;32m/usr/local/lib/python3.7/dist-packages/pandas/core/arrays/datetimes.py\u001b[0m in \u001b[0;36mobjects_to_datetime64ns\u001b[0;34m(data, dayfirst, yearfirst, utc, errors, require_iso8601, allow_object)\u001b[0m\n\u001b[1;32m   2058\u001b[0m         \u001b[0;32mtry\u001b[0m\u001b[0;34m:\u001b[0m\u001b[0;34m\u001b[0m\u001b[0;34m\u001b[0m\u001b[0m\n\u001b[0;32m-> 2059\u001b[0;31m             \u001b[0mvalues\u001b[0m\u001b[0;34m,\u001b[0m \u001b[0mtz_parsed\u001b[0m \u001b[0;34m=\u001b[0m \u001b[0mconversion\u001b[0m\u001b[0;34m.\u001b[0m\u001b[0mdatetime_to_datetime64\u001b[0m\u001b[0;34m(\u001b[0m\u001b[0mdata\u001b[0m\u001b[0;34m)\u001b[0m\u001b[0;34m\u001b[0m\u001b[0;34m\u001b[0m\u001b[0m\n\u001b[0m\u001b[1;32m   2060\u001b[0m             \u001b[0;31m# If tzaware, these values represent unix timestamps, so we\u001b[0m\u001b[0;34m\u001b[0m\u001b[0;34m\u001b[0m\u001b[0;34m\u001b[0m\u001b[0m\n",
            "\u001b[0;32mpandas/_libs/tslibs/conversion.pyx\u001b[0m in \u001b[0;36mpandas._libs.tslibs.conversion.datetime_to_datetime64\u001b[0;34m()\u001b[0m\n",
            "\u001b[0;31mTypeError\u001b[0m: Unrecognized value type: <class 'str'>",
            "\nDuring handling of the above exception, another exception occurred:\n",
            "\u001b[0;31mOutOfBoundsDatetime\u001b[0m                       Traceback (most recent call last)",
            "\u001b[0;32m<ipython-input-166-b61b3f18698c>\u001b[0m in \u001b[0;36m<module>\u001b[0;34m()\u001b[0m\n\u001b[1;32m      1\u001b[0m \u001b[0;31m# now let's parse the dates, currently coded as strings, into datetime format\u001b[0m\u001b[0;34m\u001b[0m\u001b[0;34m\u001b[0m\u001b[0;34m\u001b[0m\u001b[0m\n\u001b[1;32m      2\u001b[0m \u001b[0;34m\u001b[0m\u001b[0m\n\u001b[0;32m----> 3\u001b[0;31m \u001b[0mdata\u001b[0m\u001b[0;34m[\u001b[0m\u001b[0;34m'issue_dt'\u001b[0m\u001b[0;34m]\u001b[0m \u001b[0;34m=\u001b[0m \u001b[0mpd\u001b[0m\u001b[0;34m.\u001b[0m\u001b[0mto_datetime\u001b[0m\u001b[0;34m(\u001b[0m\u001b[0mdata\u001b[0m\u001b[0;34m.\u001b[0m\u001b[0missue_d\u001b[0m\u001b[0;34m)\u001b[0m\u001b[0;34m\u001b[0m\u001b[0;34m\u001b[0m\u001b[0m\n\u001b[0m\u001b[1;32m      4\u001b[0m \u001b[0mdata\u001b[0m\u001b[0;34m[\u001b[0m\u001b[0;34m'last_pymnt_dt'\u001b[0m\u001b[0;34m]\u001b[0m \u001b[0;34m=\u001b[0m \u001b[0mpd\u001b[0m\u001b[0;34m.\u001b[0m\u001b[0mto_datetime\u001b[0m\u001b[0;34m(\u001b[0m\u001b[0mdata\u001b[0m\u001b[0;34m.\u001b[0m\u001b[0mlast_pymnt_d\u001b[0m\u001b[0;34m)\u001b[0m\u001b[0;34m\u001b[0m\u001b[0;34m\u001b[0m\u001b[0m\n\u001b[1;32m      5\u001b[0m \u001b[0;34m\u001b[0m\u001b[0m\n",
            "\u001b[0;32m/usr/local/lib/python3.7/dist-packages/pandas/core/tools/datetimes.py\u001b[0m in \u001b[0;36mto_datetime\u001b[0;34m(arg, errors, dayfirst, yearfirst, utc, format, exact, unit, infer_datetime_format, origin, cache)\u001b[0m\n\u001b[1;32m    797\u001b[0m                 \u001b[0mresult\u001b[0m \u001b[0;34m=\u001b[0m \u001b[0mresult\u001b[0m\u001b[0;34m.\u001b[0m\u001b[0mtz_localize\u001b[0m\u001b[0;34m(\u001b[0m\u001b[0mtz\u001b[0m\u001b[0;34m)\u001b[0m\u001b[0;34m\u001b[0m\u001b[0;34m\u001b[0m\u001b[0m\n\u001b[1;32m    798\u001b[0m     \u001b[0;32melif\u001b[0m \u001b[0misinstance\u001b[0m\u001b[0;34m(\u001b[0m\u001b[0marg\u001b[0m\u001b[0;34m,\u001b[0m \u001b[0mABCSeries\u001b[0m\u001b[0;34m)\u001b[0m\u001b[0;34m:\u001b[0m\u001b[0;34m\u001b[0m\u001b[0;34m\u001b[0m\u001b[0m\n\u001b[0;32m--> 799\u001b[0;31m         \u001b[0mcache_array\u001b[0m \u001b[0;34m=\u001b[0m \u001b[0m_maybe_cache\u001b[0m\u001b[0;34m(\u001b[0m\u001b[0marg\u001b[0m\u001b[0;34m,\u001b[0m \u001b[0mformat\u001b[0m\u001b[0;34m,\u001b[0m \u001b[0mcache\u001b[0m\u001b[0;34m,\u001b[0m \u001b[0mconvert_listlike\u001b[0m\u001b[0;34m)\u001b[0m\u001b[0;34m\u001b[0m\u001b[0;34m\u001b[0m\u001b[0m\n\u001b[0m\u001b[1;32m    800\u001b[0m         \u001b[0;32mif\u001b[0m \u001b[0;32mnot\u001b[0m \u001b[0mcache_array\u001b[0m\u001b[0;34m.\u001b[0m\u001b[0mempty\u001b[0m\u001b[0;34m:\u001b[0m\u001b[0;34m\u001b[0m\u001b[0;34m\u001b[0m\u001b[0m\n\u001b[1;32m    801\u001b[0m             \u001b[0mresult\u001b[0m \u001b[0;34m=\u001b[0m \u001b[0marg\u001b[0m\u001b[0;34m.\u001b[0m\u001b[0mmap\u001b[0m\u001b[0;34m(\u001b[0m\u001b[0mcache_array\u001b[0m\u001b[0;34m)\u001b[0m\u001b[0;34m\u001b[0m\u001b[0;34m\u001b[0m\u001b[0m\n",
            "\u001b[0;32m/usr/local/lib/python3.7/dist-packages/pandas/core/tools/datetimes.py\u001b[0m in \u001b[0;36m_maybe_cache\u001b[0;34m(arg, format, cache, convert_listlike)\u001b[0m\n\u001b[1;32m    168\u001b[0m         \u001b[0munique_dates\u001b[0m \u001b[0;34m=\u001b[0m \u001b[0munique\u001b[0m\u001b[0;34m(\u001b[0m\u001b[0marg\u001b[0m\u001b[0;34m)\u001b[0m\u001b[0;34m\u001b[0m\u001b[0;34m\u001b[0m\u001b[0m\n\u001b[1;32m    169\u001b[0m         \u001b[0;32mif\u001b[0m \u001b[0mlen\u001b[0m\u001b[0;34m(\u001b[0m\u001b[0munique_dates\u001b[0m\u001b[0;34m)\u001b[0m \u001b[0;34m<\u001b[0m \u001b[0mlen\u001b[0m\u001b[0;34m(\u001b[0m\u001b[0marg\u001b[0m\u001b[0;34m)\u001b[0m\u001b[0;34m:\u001b[0m\u001b[0;34m\u001b[0m\u001b[0;34m\u001b[0m\u001b[0m\n\u001b[0;32m--> 170\u001b[0;31m             \u001b[0mcache_dates\u001b[0m \u001b[0;34m=\u001b[0m \u001b[0mconvert_listlike\u001b[0m\u001b[0;34m(\u001b[0m\u001b[0munique_dates\u001b[0m\u001b[0;34m,\u001b[0m \u001b[0mformat\u001b[0m\u001b[0;34m)\u001b[0m\u001b[0;34m\u001b[0m\u001b[0;34m\u001b[0m\u001b[0m\n\u001b[0m\u001b[1;32m    171\u001b[0m             \u001b[0mcache_array\u001b[0m \u001b[0;34m=\u001b[0m \u001b[0mSeries\u001b[0m\u001b[0;34m(\u001b[0m\u001b[0mcache_dates\u001b[0m\u001b[0;34m,\u001b[0m \u001b[0mindex\u001b[0m\u001b[0;34m=\u001b[0m\u001b[0munique_dates\u001b[0m\u001b[0;34m)\u001b[0m\u001b[0;34m\u001b[0m\u001b[0;34m\u001b[0m\u001b[0m\n\u001b[1;32m    172\u001b[0m     \u001b[0;32mreturn\u001b[0m \u001b[0mcache_array\u001b[0m\u001b[0;34m\u001b[0m\u001b[0;34m\u001b[0m\u001b[0m\n",
            "\u001b[0;32m/usr/local/lib/python3.7/dist-packages/pandas/core/tools/datetimes.py\u001b[0m in \u001b[0;36m_convert_listlike_datetimes\u001b[0;34m(arg, format, name, tz, unit, errors, infer_datetime_format, dayfirst, yearfirst, exact)\u001b[0m\n\u001b[1;32m    464\u001b[0m             \u001b[0merrors\u001b[0m\u001b[0;34m=\u001b[0m\u001b[0merrors\u001b[0m\u001b[0;34m,\u001b[0m\u001b[0;34m\u001b[0m\u001b[0;34m\u001b[0m\u001b[0m\n\u001b[1;32m    465\u001b[0m             \u001b[0mrequire_iso8601\u001b[0m\u001b[0;34m=\u001b[0m\u001b[0mrequire_iso8601\u001b[0m\u001b[0;34m,\u001b[0m\u001b[0;34m\u001b[0m\u001b[0;34m\u001b[0m\u001b[0m\n\u001b[0;32m--> 466\u001b[0;31m             \u001b[0mallow_object\u001b[0m\u001b[0;34m=\u001b[0m\u001b[0;32mTrue\u001b[0m\u001b[0;34m,\u001b[0m\u001b[0;34m\u001b[0m\u001b[0;34m\u001b[0m\u001b[0m\n\u001b[0m\u001b[1;32m    467\u001b[0m         )\n\u001b[1;32m    468\u001b[0m \u001b[0;34m\u001b[0m\u001b[0m\n",
            "\u001b[0;32m/usr/local/lib/python3.7/dist-packages/pandas/core/arrays/datetimes.py\u001b[0m in \u001b[0;36mobjects_to_datetime64ns\u001b[0;34m(data, dayfirst, yearfirst, utc, errors, require_iso8601, allow_object)\u001b[0m\n\u001b[1;32m   2062\u001b[0m             \u001b[0;32mreturn\u001b[0m \u001b[0mvalues\u001b[0m\u001b[0;34m.\u001b[0m\u001b[0mview\u001b[0m\u001b[0;34m(\u001b[0m\u001b[0;34m\"i8\"\u001b[0m\u001b[0;34m)\u001b[0m\u001b[0;34m,\u001b[0m \u001b[0mtz_parsed\u001b[0m\u001b[0;34m\u001b[0m\u001b[0;34m\u001b[0m\u001b[0m\n\u001b[1;32m   2063\u001b[0m         \u001b[0;32mexcept\u001b[0m \u001b[0;34m(\u001b[0m\u001b[0mValueError\u001b[0m\u001b[0;34m,\u001b[0m \u001b[0mTypeError\u001b[0m\u001b[0;34m)\u001b[0m\u001b[0;34m:\u001b[0m\u001b[0;34m\u001b[0m\u001b[0;34m\u001b[0m\u001b[0m\n\u001b[0;32m-> 2064\u001b[0;31m             \u001b[0;32mraise\u001b[0m \u001b[0me\u001b[0m\u001b[0;34m\u001b[0m\u001b[0;34m\u001b[0m\u001b[0m\n\u001b[0m\u001b[1;32m   2065\u001b[0m \u001b[0;34m\u001b[0m\u001b[0m\n\u001b[1;32m   2066\u001b[0m     \u001b[0;32mif\u001b[0m \u001b[0mtz_parsed\u001b[0m \u001b[0;32mis\u001b[0m \u001b[0;32mnot\u001b[0m \u001b[0;32mNone\u001b[0m\u001b[0;34m:\u001b[0m\u001b[0;34m\u001b[0m\u001b[0;34m\u001b[0m\u001b[0m\n",
            "\u001b[0;32m/usr/local/lib/python3.7/dist-packages/pandas/core/arrays/datetimes.py\u001b[0m in \u001b[0;36mobjects_to_datetime64ns\u001b[0;34m(data, dayfirst, yearfirst, utc, errors, require_iso8601, allow_object)\u001b[0m\n\u001b[1;32m   2053\u001b[0m             \u001b[0mdayfirst\u001b[0m\u001b[0;34m=\u001b[0m\u001b[0mdayfirst\u001b[0m\u001b[0;34m,\u001b[0m\u001b[0;34m\u001b[0m\u001b[0;34m\u001b[0m\u001b[0m\n\u001b[1;32m   2054\u001b[0m             \u001b[0myearfirst\u001b[0m\u001b[0;34m=\u001b[0m\u001b[0myearfirst\u001b[0m\u001b[0;34m,\u001b[0m\u001b[0;34m\u001b[0m\u001b[0;34m\u001b[0m\u001b[0m\n\u001b[0;32m-> 2055\u001b[0;31m             \u001b[0mrequire_iso8601\u001b[0m\u001b[0;34m=\u001b[0m\u001b[0mrequire_iso8601\u001b[0m\u001b[0;34m,\u001b[0m\u001b[0;34m\u001b[0m\u001b[0;34m\u001b[0m\u001b[0m\n\u001b[0m\u001b[1;32m   2056\u001b[0m         )\n\u001b[1;32m   2057\u001b[0m     \u001b[0;32mexcept\u001b[0m \u001b[0mValueError\u001b[0m \u001b[0;32mas\u001b[0m \u001b[0me\u001b[0m\u001b[0;34m:\u001b[0m\u001b[0;34m\u001b[0m\u001b[0;34m\u001b[0m\u001b[0m\n",
            "\u001b[0;32mpandas/_libs/tslib.pyx\u001b[0m in \u001b[0;36mpandas._libs.tslib.array_to_datetime\u001b[0;34m()\u001b[0m\n",
            "\u001b[0;32mpandas/_libs/tslib.pyx\u001b[0m in \u001b[0;36mpandas._libs.tslib.array_to_datetime\u001b[0;34m()\u001b[0m\n",
            "\u001b[0;32mpandas/_libs/tslib.pyx\u001b[0m in \u001b[0;36mpandas._libs.tslib.array_to_datetime\u001b[0;34m()\u001b[0m\n",
            "\u001b[0;32mpandas/_libs/tslib.pyx\u001b[0m in \u001b[0;36mpandas._libs.tslib.array_to_datetime\u001b[0;34m()\u001b[0m\n",
            "\u001b[0;32mpandas/_libs/tslibs/conversion.pyx\u001b[0m in \u001b[0;36mpandas._libs.tslibs.conversion.convert_datetime_to_tsobject\u001b[0;34m()\u001b[0m\n",
            "\u001b[0;32mpandas/_libs/tslibs/np_datetime.pyx\u001b[0m in \u001b[0;36mpandas._libs.tslibs.np_datetime.check_dts_bounds\u001b[0;34m()\u001b[0m\n",
            "\u001b[0;31mOutOfBoundsDatetime\u001b[0m: Out of bounds nanosecond timestamp: 1-12-11 00:00:00"
          ]
        }
      ]
    },
    {
      "cell_type": "code",
      "metadata": {
        "trusted": true,
        "colab": {
          "base_uri": "https://localhost:8080/",
          "height": 622
        },
        "id": "UTO70PCBXrEV",
        "outputId": "54e06dd0-3d14-4452-e477-100d26bf1b03"
      },
      "source": [
        "# Extracting Month from date\n",
        "\n",
        "data['issue_dt_month'] = data['issue_dt'].dt.month\n",
        "\n",
        "data[['issue_dt', 'issue_dt_month']].head()"
      ],
      "execution_count": null,
      "outputs": [
        {
          "output_type": "error",
          "ename": "KeyError",
          "evalue": "ignored",
          "traceback": [
            "\u001b[0;31m---------------------------------------------------------------------------\u001b[0m",
            "\u001b[0;31mKeyError\u001b[0m                                  Traceback (most recent call last)",
            "\u001b[0;32m/usr/local/lib/python3.7/dist-packages/pandas/core/indexes/base.py\u001b[0m in \u001b[0;36mget_loc\u001b[0;34m(self, key, method, tolerance)\u001b[0m\n\u001b[1;32m   2897\u001b[0m             \u001b[0;32mtry\u001b[0m\u001b[0;34m:\u001b[0m\u001b[0;34m\u001b[0m\u001b[0;34m\u001b[0m\u001b[0m\n\u001b[0;32m-> 2898\u001b[0;31m                 \u001b[0;32mreturn\u001b[0m \u001b[0mself\u001b[0m\u001b[0;34m.\u001b[0m\u001b[0m_engine\u001b[0m\u001b[0;34m.\u001b[0m\u001b[0mget_loc\u001b[0m\u001b[0;34m(\u001b[0m\u001b[0mcasted_key\u001b[0m\u001b[0;34m)\u001b[0m\u001b[0;34m\u001b[0m\u001b[0;34m\u001b[0m\u001b[0m\n\u001b[0m\u001b[1;32m   2899\u001b[0m             \u001b[0;32mexcept\u001b[0m \u001b[0mKeyError\u001b[0m \u001b[0;32mas\u001b[0m \u001b[0merr\u001b[0m\u001b[0;34m:\u001b[0m\u001b[0;34m\u001b[0m\u001b[0;34m\u001b[0m\u001b[0m\n",
            "\u001b[0;32mpandas/_libs/index.pyx\u001b[0m in \u001b[0;36mpandas._libs.index.IndexEngine.get_loc\u001b[0;34m()\u001b[0m\n",
            "\u001b[0;32mpandas/_libs/index.pyx\u001b[0m in \u001b[0;36mpandas._libs.index.IndexEngine.get_loc\u001b[0;34m()\u001b[0m\n",
            "\u001b[0;32mpandas/_libs/hashtable_class_helper.pxi\u001b[0m in \u001b[0;36mpandas._libs.hashtable.PyObjectHashTable.get_item\u001b[0;34m()\u001b[0m\n",
            "\u001b[0;32mpandas/_libs/hashtable_class_helper.pxi\u001b[0m in \u001b[0;36mpandas._libs.hashtable.PyObjectHashTable.get_item\u001b[0;34m()\u001b[0m\n",
            "\u001b[0;31mKeyError\u001b[0m: 'issue_dt'",
            "\nThe above exception was the direct cause of the following exception:\n",
            "\u001b[0;31mKeyError\u001b[0m                                  Traceback (most recent call last)",
            "\u001b[0;32m<ipython-input-163-ec094a86119c>\u001b[0m in \u001b[0;36m<module>\u001b[0;34m()\u001b[0m\n\u001b[1;32m      1\u001b[0m \u001b[0;31m# Extracting Month from date\u001b[0m\u001b[0;34m\u001b[0m\u001b[0;34m\u001b[0m\u001b[0;34m\u001b[0m\u001b[0m\n\u001b[1;32m      2\u001b[0m \u001b[0;34m\u001b[0m\u001b[0m\n\u001b[0;32m----> 3\u001b[0;31m \u001b[0mdata\u001b[0m\u001b[0;34m[\u001b[0m\u001b[0;34m'issue_dt_month'\u001b[0m\u001b[0;34m]\u001b[0m \u001b[0;34m=\u001b[0m \u001b[0mdata\u001b[0m\u001b[0;34m[\u001b[0m\u001b[0;34m'issue_dt'\u001b[0m\u001b[0;34m]\u001b[0m\u001b[0;34m.\u001b[0m\u001b[0mdt\u001b[0m\u001b[0;34m.\u001b[0m\u001b[0mmonth\u001b[0m\u001b[0;34m\u001b[0m\u001b[0;34m\u001b[0m\u001b[0m\n\u001b[0m\u001b[1;32m      4\u001b[0m \u001b[0;34m\u001b[0m\u001b[0m\n\u001b[1;32m      5\u001b[0m \u001b[0mdata\u001b[0m\u001b[0;34m[\u001b[0m\u001b[0;34m[\u001b[0m\u001b[0;34m'issue_dt'\u001b[0m\u001b[0;34m,\u001b[0m \u001b[0;34m'issue_dt_month'\u001b[0m\u001b[0;34m]\u001b[0m\u001b[0;34m]\u001b[0m\u001b[0;34m.\u001b[0m\u001b[0mhead\u001b[0m\u001b[0;34m(\u001b[0m\u001b[0;34m)\u001b[0m\u001b[0;34m\u001b[0m\u001b[0;34m\u001b[0m\u001b[0m\n",
            "\u001b[0;32m/usr/local/lib/python3.7/dist-packages/pandas/core/frame.py\u001b[0m in \u001b[0;36m__getitem__\u001b[0;34m(self, key)\u001b[0m\n\u001b[1;32m   2904\u001b[0m             \u001b[0;32mif\u001b[0m \u001b[0mself\u001b[0m\u001b[0;34m.\u001b[0m\u001b[0mcolumns\u001b[0m\u001b[0;34m.\u001b[0m\u001b[0mnlevels\u001b[0m \u001b[0;34m>\u001b[0m \u001b[0;36m1\u001b[0m\u001b[0;34m:\u001b[0m\u001b[0;34m\u001b[0m\u001b[0;34m\u001b[0m\u001b[0m\n\u001b[1;32m   2905\u001b[0m                 \u001b[0;32mreturn\u001b[0m \u001b[0mself\u001b[0m\u001b[0;34m.\u001b[0m\u001b[0m_getitem_multilevel\u001b[0m\u001b[0;34m(\u001b[0m\u001b[0mkey\u001b[0m\u001b[0;34m)\u001b[0m\u001b[0;34m\u001b[0m\u001b[0;34m\u001b[0m\u001b[0m\n\u001b[0;32m-> 2906\u001b[0;31m             \u001b[0mindexer\u001b[0m \u001b[0;34m=\u001b[0m \u001b[0mself\u001b[0m\u001b[0;34m.\u001b[0m\u001b[0mcolumns\u001b[0m\u001b[0;34m.\u001b[0m\u001b[0mget_loc\u001b[0m\u001b[0;34m(\u001b[0m\u001b[0mkey\u001b[0m\u001b[0;34m)\u001b[0m\u001b[0;34m\u001b[0m\u001b[0;34m\u001b[0m\u001b[0m\n\u001b[0m\u001b[1;32m   2907\u001b[0m             \u001b[0;32mif\u001b[0m \u001b[0mis_integer\u001b[0m\u001b[0;34m(\u001b[0m\u001b[0mindexer\u001b[0m\u001b[0;34m)\u001b[0m\u001b[0;34m:\u001b[0m\u001b[0;34m\u001b[0m\u001b[0;34m\u001b[0m\u001b[0m\n\u001b[1;32m   2908\u001b[0m                 \u001b[0mindexer\u001b[0m \u001b[0;34m=\u001b[0m \u001b[0;34m[\u001b[0m\u001b[0mindexer\u001b[0m\u001b[0;34m]\u001b[0m\u001b[0;34m\u001b[0m\u001b[0;34m\u001b[0m\u001b[0m\n",
            "\u001b[0;32m/usr/local/lib/python3.7/dist-packages/pandas/core/indexes/base.py\u001b[0m in \u001b[0;36mget_loc\u001b[0;34m(self, key, method, tolerance)\u001b[0m\n\u001b[1;32m   2898\u001b[0m                 \u001b[0;32mreturn\u001b[0m \u001b[0mself\u001b[0m\u001b[0;34m.\u001b[0m\u001b[0m_engine\u001b[0m\u001b[0;34m.\u001b[0m\u001b[0mget_loc\u001b[0m\u001b[0;34m(\u001b[0m\u001b[0mcasted_key\u001b[0m\u001b[0;34m)\u001b[0m\u001b[0;34m\u001b[0m\u001b[0;34m\u001b[0m\u001b[0m\n\u001b[1;32m   2899\u001b[0m             \u001b[0;32mexcept\u001b[0m \u001b[0mKeyError\u001b[0m \u001b[0;32mas\u001b[0m \u001b[0merr\u001b[0m\u001b[0;34m:\u001b[0m\u001b[0;34m\u001b[0m\u001b[0;34m\u001b[0m\u001b[0m\n\u001b[0;32m-> 2900\u001b[0;31m                 \u001b[0;32mraise\u001b[0m \u001b[0mKeyError\u001b[0m\u001b[0;34m(\u001b[0m\u001b[0mkey\u001b[0m\u001b[0;34m)\u001b[0m \u001b[0;32mfrom\u001b[0m \u001b[0merr\u001b[0m\u001b[0;34m\u001b[0m\u001b[0;34m\u001b[0m\u001b[0m\n\u001b[0m\u001b[1;32m   2901\u001b[0m \u001b[0;34m\u001b[0m\u001b[0m\n\u001b[1;32m   2902\u001b[0m         \u001b[0;32mif\u001b[0m \u001b[0mtolerance\u001b[0m \u001b[0;32mis\u001b[0m \u001b[0;32mnot\u001b[0m \u001b[0;32mNone\u001b[0m\u001b[0;34m:\u001b[0m\u001b[0;34m\u001b[0m\u001b[0;34m\u001b[0m\u001b[0m\n",
            "\u001b[0;31mKeyError\u001b[0m: 'issue_dt'"
          ]
        }
      ]
    },
    {
      "cell_type": "code",
      "metadata": {
        "trusted": true,
        "colab": {
          "base_uri": "https://localhost:8080/",
          "height": 337
        },
        "id": "lR_PGL2oXrEV",
        "outputId": "62117f90-4f66-4de0-9f56-3de42dff9beb"
      },
      "source": [
        "data[['issue_dt', 'issue_dt_month']].tail()"
      ],
      "execution_count": null,
      "outputs": [
        {
          "output_type": "error",
          "ename": "KeyError",
          "evalue": "ignored",
          "traceback": [
            "\u001b[0;31m---------------------------------------------------------------------------\u001b[0m",
            "\u001b[0;31mKeyError\u001b[0m                                  Traceback (most recent call last)",
            "\u001b[0;32m<ipython-input-164-e9e258f25352>\u001b[0m in \u001b[0;36m<module>\u001b[0;34m()\u001b[0m\n\u001b[0;32m----> 1\u001b[0;31m \u001b[0mdata\u001b[0m\u001b[0;34m[\u001b[0m\u001b[0;34m[\u001b[0m\u001b[0;34m'issue_dt'\u001b[0m\u001b[0;34m,\u001b[0m \u001b[0;34m'issue_dt_month'\u001b[0m\u001b[0;34m]\u001b[0m\u001b[0;34m]\u001b[0m\u001b[0;34m.\u001b[0m\u001b[0mtail\u001b[0m\u001b[0;34m(\u001b[0m\u001b[0;34m)\u001b[0m\u001b[0;34m\u001b[0m\u001b[0;34m\u001b[0m\u001b[0m\n\u001b[0m",
            "\u001b[0;32m/usr/local/lib/python3.7/dist-packages/pandas/core/frame.py\u001b[0m in \u001b[0;36m__getitem__\u001b[0;34m(self, key)\u001b[0m\n\u001b[1;32m   2910\u001b[0m             \u001b[0;32mif\u001b[0m \u001b[0mis_iterator\u001b[0m\u001b[0;34m(\u001b[0m\u001b[0mkey\u001b[0m\u001b[0;34m)\u001b[0m\u001b[0;34m:\u001b[0m\u001b[0;34m\u001b[0m\u001b[0;34m\u001b[0m\u001b[0m\n\u001b[1;32m   2911\u001b[0m                 \u001b[0mkey\u001b[0m \u001b[0;34m=\u001b[0m \u001b[0mlist\u001b[0m\u001b[0;34m(\u001b[0m\u001b[0mkey\u001b[0m\u001b[0;34m)\u001b[0m\u001b[0;34m\u001b[0m\u001b[0;34m\u001b[0m\u001b[0m\n\u001b[0;32m-> 2912\u001b[0;31m             \u001b[0mindexer\u001b[0m \u001b[0;34m=\u001b[0m \u001b[0mself\u001b[0m\u001b[0;34m.\u001b[0m\u001b[0mloc\u001b[0m\u001b[0;34m.\u001b[0m\u001b[0m_get_listlike_indexer\u001b[0m\u001b[0;34m(\u001b[0m\u001b[0mkey\u001b[0m\u001b[0;34m,\u001b[0m \u001b[0maxis\u001b[0m\u001b[0;34m=\u001b[0m\u001b[0;36m1\u001b[0m\u001b[0;34m,\u001b[0m \u001b[0mraise_missing\u001b[0m\u001b[0;34m=\u001b[0m\u001b[0;32mTrue\u001b[0m\u001b[0;34m)\u001b[0m\u001b[0;34m[\u001b[0m\u001b[0;36m1\u001b[0m\u001b[0;34m]\u001b[0m\u001b[0;34m\u001b[0m\u001b[0;34m\u001b[0m\u001b[0m\n\u001b[0m\u001b[1;32m   2913\u001b[0m \u001b[0;34m\u001b[0m\u001b[0m\n\u001b[1;32m   2914\u001b[0m         \u001b[0;31m# take() does not accept boolean indexers\u001b[0m\u001b[0;34m\u001b[0m\u001b[0;34m\u001b[0m\u001b[0;34m\u001b[0m\u001b[0m\n",
            "\u001b[0;32m/usr/local/lib/python3.7/dist-packages/pandas/core/indexing.py\u001b[0m in \u001b[0;36m_get_listlike_indexer\u001b[0;34m(self, key, axis, raise_missing)\u001b[0m\n\u001b[1;32m   1252\u001b[0m             \u001b[0mkeyarr\u001b[0m\u001b[0;34m,\u001b[0m \u001b[0mindexer\u001b[0m\u001b[0;34m,\u001b[0m \u001b[0mnew_indexer\u001b[0m \u001b[0;34m=\u001b[0m \u001b[0max\u001b[0m\u001b[0;34m.\u001b[0m\u001b[0m_reindex_non_unique\u001b[0m\u001b[0;34m(\u001b[0m\u001b[0mkeyarr\u001b[0m\u001b[0;34m)\u001b[0m\u001b[0;34m\u001b[0m\u001b[0;34m\u001b[0m\u001b[0m\n\u001b[1;32m   1253\u001b[0m \u001b[0;34m\u001b[0m\u001b[0m\n\u001b[0;32m-> 1254\u001b[0;31m         \u001b[0mself\u001b[0m\u001b[0;34m.\u001b[0m\u001b[0m_validate_read_indexer\u001b[0m\u001b[0;34m(\u001b[0m\u001b[0mkeyarr\u001b[0m\u001b[0;34m,\u001b[0m \u001b[0mindexer\u001b[0m\u001b[0;34m,\u001b[0m \u001b[0maxis\u001b[0m\u001b[0;34m,\u001b[0m \u001b[0mraise_missing\u001b[0m\u001b[0;34m=\u001b[0m\u001b[0mraise_missing\u001b[0m\u001b[0;34m)\u001b[0m\u001b[0;34m\u001b[0m\u001b[0;34m\u001b[0m\u001b[0m\n\u001b[0m\u001b[1;32m   1255\u001b[0m         \u001b[0;32mreturn\u001b[0m \u001b[0mkeyarr\u001b[0m\u001b[0;34m,\u001b[0m \u001b[0mindexer\u001b[0m\u001b[0;34m\u001b[0m\u001b[0;34m\u001b[0m\u001b[0m\n\u001b[1;32m   1256\u001b[0m \u001b[0;34m\u001b[0m\u001b[0m\n",
            "\u001b[0;32m/usr/local/lib/python3.7/dist-packages/pandas/core/indexing.py\u001b[0m in \u001b[0;36m_validate_read_indexer\u001b[0;34m(self, key, indexer, axis, raise_missing)\u001b[0m\n\u001b[1;32m   1296\u001b[0m             \u001b[0;32mif\u001b[0m \u001b[0mmissing\u001b[0m \u001b[0;34m==\u001b[0m \u001b[0mlen\u001b[0m\u001b[0;34m(\u001b[0m\u001b[0mindexer\u001b[0m\u001b[0;34m)\u001b[0m\u001b[0;34m:\u001b[0m\u001b[0;34m\u001b[0m\u001b[0;34m\u001b[0m\u001b[0m\n\u001b[1;32m   1297\u001b[0m                 \u001b[0maxis_name\u001b[0m \u001b[0;34m=\u001b[0m \u001b[0mself\u001b[0m\u001b[0;34m.\u001b[0m\u001b[0mobj\u001b[0m\u001b[0;34m.\u001b[0m\u001b[0m_get_axis_name\u001b[0m\u001b[0;34m(\u001b[0m\u001b[0maxis\u001b[0m\u001b[0;34m)\u001b[0m\u001b[0;34m\u001b[0m\u001b[0;34m\u001b[0m\u001b[0m\n\u001b[0;32m-> 1298\u001b[0;31m                 \u001b[0;32mraise\u001b[0m \u001b[0mKeyError\u001b[0m\u001b[0;34m(\u001b[0m\u001b[0;34mf\"None of [{key}] are in the [{axis_name}]\"\u001b[0m\u001b[0;34m)\u001b[0m\u001b[0;34m\u001b[0m\u001b[0;34m\u001b[0m\u001b[0m\n\u001b[0m\u001b[1;32m   1299\u001b[0m \u001b[0;34m\u001b[0m\u001b[0m\n\u001b[1;32m   1300\u001b[0m             \u001b[0;31m# We (temporarily) allow for some missing keys with .loc, except in\u001b[0m\u001b[0;34m\u001b[0m\u001b[0;34m\u001b[0m\u001b[0;34m\u001b[0m\u001b[0m\n",
            "\u001b[0;31mKeyError\u001b[0m: \"None of [Index(['issue_dt', 'issue_dt_month'], dtype='object')] are in the [columns]\""
          ]
        }
      ]
    },
    {
      "cell_type": "code",
      "metadata": {
        "trusted": true,
        "colab": {
          "base_uri": "https://localhost:8080/",
          "height": 622
        },
        "id": "5vJh6x8MXrEW",
        "outputId": "cab2d70f-7b58-4ea6-befd-e64d9d6a2a77"
      },
      "source": [
        "# Extract quarter from date variable\n",
        "\n",
        "data['issue_dt_quarter'] = data['issue_dt'].dt.quarter\n",
        "\n",
        "data[['issue_dt', 'issue_dt_quarter']].head()"
      ],
      "execution_count": null,
      "outputs": [
        {
          "output_type": "error",
          "ename": "KeyError",
          "evalue": "ignored",
          "traceback": [
            "\u001b[0;31m---------------------------------------------------------------------------\u001b[0m",
            "\u001b[0;31mKeyError\u001b[0m                                  Traceback (most recent call last)",
            "\u001b[0;32m/usr/local/lib/python3.7/dist-packages/pandas/core/indexes/base.py\u001b[0m in \u001b[0;36mget_loc\u001b[0;34m(self, key, method, tolerance)\u001b[0m\n\u001b[1;32m   2897\u001b[0m             \u001b[0;32mtry\u001b[0m\u001b[0;34m:\u001b[0m\u001b[0;34m\u001b[0m\u001b[0;34m\u001b[0m\u001b[0m\n\u001b[0;32m-> 2898\u001b[0;31m                 \u001b[0;32mreturn\u001b[0m \u001b[0mself\u001b[0m\u001b[0;34m.\u001b[0m\u001b[0m_engine\u001b[0m\u001b[0;34m.\u001b[0m\u001b[0mget_loc\u001b[0m\u001b[0;34m(\u001b[0m\u001b[0mcasted_key\u001b[0m\u001b[0;34m)\u001b[0m\u001b[0;34m\u001b[0m\u001b[0;34m\u001b[0m\u001b[0m\n\u001b[0m\u001b[1;32m   2899\u001b[0m             \u001b[0;32mexcept\u001b[0m \u001b[0mKeyError\u001b[0m \u001b[0;32mas\u001b[0m \u001b[0merr\u001b[0m\u001b[0;34m:\u001b[0m\u001b[0;34m\u001b[0m\u001b[0;34m\u001b[0m\u001b[0m\n",
            "\u001b[0;32mpandas/_libs/index.pyx\u001b[0m in \u001b[0;36mpandas._libs.index.IndexEngine.get_loc\u001b[0;34m()\u001b[0m\n",
            "\u001b[0;32mpandas/_libs/index.pyx\u001b[0m in \u001b[0;36mpandas._libs.index.IndexEngine.get_loc\u001b[0;34m()\u001b[0m\n",
            "\u001b[0;32mpandas/_libs/hashtable_class_helper.pxi\u001b[0m in \u001b[0;36mpandas._libs.hashtable.PyObjectHashTable.get_item\u001b[0;34m()\u001b[0m\n",
            "\u001b[0;32mpandas/_libs/hashtable_class_helper.pxi\u001b[0m in \u001b[0;36mpandas._libs.hashtable.PyObjectHashTable.get_item\u001b[0;34m()\u001b[0m\n",
            "\u001b[0;31mKeyError\u001b[0m: 'issue_dt'",
            "\nThe above exception was the direct cause of the following exception:\n",
            "\u001b[0;31mKeyError\u001b[0m                                  Traceback (most recent call last)",
            "\u001b[0;32m<ipython-input-165-6ea163f22291>\u001b[0m in \u001b[0;36m<module>\u001b[0;34m()\u001b[0m\n\u001b[1;32m      1\u001b[0m \u001b[0;31m# Extract quarter from date variable\u001b[0m\u001b[0;34m\u001b[0m\u001b[0;34m\u001b[0m\u001b[0;34m\u001b[0m\u001b[0m\n\u001b[1;32m      2\u001b[0m \u001b[0;34m\u001b[0m\u001b[0m\n\u001b[0;32m----> 3\u001b[0;31m \u001b[0mdata\u001b[0m\u001b[0;34m[\u001b[0m\u001b[0;34m'issue_dt_quarter'\u001b[0m\u001b[0;34m]\u001b[0m \u001b[0;34m=\u001b[0m \u001b[0mdata\u001b[0m\u001b[0;34m[\u001b[0m\u001b[0;34m'issue_dt'\u001b[0m\u001b[0;34m]\u001b[0m\u001b[0;34m.\u001b[0m\u001b[0mdt\u001b[0m\u001b[0;34m.\u001b[0m\u001b[0mquarter\u001b[0m\u001b[0;34m\u001b[0m\u001b[0;34m\u001b[0m\u001b[0m\n\u001b[0m\u001b[1;32m      4\u001b[0m \u001b[0;34m\u001b[0m\u001b[0m\n\u001b[1;32m      5\u001b[0m \u001b[0mdata\u001b[0m\u001b[0;34m[\u001b[0m\u001b[0;34m[\u001b[0m\u001b[0;34m'issue_dt'\u001b[0m\u001b[0;34m,\u001b[0m \u001b[0;34m'issue_dt_quarter'\u001b[0m\u001b[0;34m]\u001b[0m\u001b[0;34m]\u001b[0m\u001b[0;34m.\u001b[0m\u001b[0mhead\u001b[0m\u001b[0;34m(\u001b[0m\u001b[0;34m)\u001b[0m\u001b[0;34m\u001b[0m\u001b[0;34m\u001b[0m\u001b[0m\n",
            "\u001b[0;32m/usr/local/lib/python3.7/dist-packages/pandas/core/frame.py\u001b[0m in \u001b[0;36m__getitem__\u001b[0;34m(self, key)\u001b[0m\n\u001b[1;32m   2904\u001b[0m             \u001b[0;32mif\u001b[0m \u001b[0mself\u001b[0m\u001b[0;34m.\u001b[0m\u001b[0mcolumns\u001b[0m\u001b[0;34m.\u001b[0m\u001b[0mnlevels\u001b[0m \u001b[0;34m>\u001b[0m \u001b[0;36m1\u001b[0m\u001b[0;34m:\u001b[0m\u001b[0;34m\u001b[0m\u001b[0;34m\u001b[0m\u001b[0m\n\u001b[1;32m   2905\u001b[0m                 \u001b[0;32mreturn\u001b[0m \u001b[0mself\u001b[0m\u001b[0;34m.\u001b[0m\u001b[0m_getitem_multilevel\u001b[0m\u001b[0;34m(\u001b[0m\u001b[0mkey\u001b[0m\u001b[0;34m)\u001b[0m\u001b[0;34m\u001b[0m\u001b[0;34m\u001b[0m\u001b[0m\n\u001b[0;32m-> 2906\u001b[0;31m             \u001b[0mindexer\u001b[0m \u001b[0;34m=\u001b[0m \u001b[0mself\u001b[0m\u001b[0;34m.\u001b[0m\u001b[0mcolumns\u001b[0m\u001b[0;34m.\u001b[0m\u001b[0mget_loc\u001b[0m\u001b[0;34m(\u001b[0m\u001b[0mkey\u001b[0m\u001b[0;34m)\u001b[0m\u001b[0;34m\u001b[0m\u001b[0;34m\u001b[0m\u001b[0m\n\u001b[0m\u001b[1;32m   2907\u001b[0m             \u001b[0;32mif\u001b[0m \u001b[0mis_integer\u001b[0m\u001b[0;34m(\u001b[0m\u001b[0mindexer\u001b[0m\u001b[0;34m)\u001b[0m\u001b[0;34m:\u001b[0m\u001b[0;34m\u001b[0m\u001b[0;34m\u001b[0m\u001b[0m\n\u001b[1;32m   2908\u001b[0m                 \u001b[0mindexer\u001b[0m \u001b[0;34m=\u001b[0m \u001b[0;34m[\u001b[0m\u001b[0mindexer\u001b[0m\u001b[0;34m]\u001b[0m\u001b[0;34m\u001b[0m\u001b[0;34m\u001b[0m\u001b[0m\n",
            "\u001b[0;32m/usr/local/lib/python3.7/dist-packages/pandas/core/indexes/base.py\u001b[0m in \u001b[0;36mget_loc\u001b[0;34m(self, key, method, tolerance)\u001b[0m\n\u001b[1;32m   2898\u001b[0m                 \u001b[0;32mreturn\u001b[0m \u001b[0mself\u001b[0m\u001b[0;34m.\u001b[0m\u001b[0m_engine\u001b[0m\u001b[0;34m.\u001b[0m\u001b[0mget_loc\u001b[0m\u001b[0;34m(\u001b[0m\u001b[0mcasted_key\u001b[0m\u001b[0;34m)\u001b[0m\u001b[0;34m\u001b[0m\u001b[0;34m\u001b[0m\u001b[0m\n\u001b[1;32m   2899\u001b[0m             \u001b[0;32mexcept\u001b[0m \u001b[0mKeyError\u001b[0m \u001b[0;32mas\u001b[0m \u001b[0merr\u001b[0m\u001b[0;34m:\u001b[0m\u001b[0;34m\u001b[0m\u001b[0;34m\u001b[0m\u001b[0m\n\u001b[0;32m-> 2900\u001b[0;31m                 \u001b[0;32mraise\u001b[0m \u001b[0mKeyError\u001b[0m\u001b[0;34m(\u001b[0m\u001b[0mkey\u001b[0m\u001b[0;34m)\u001b[0m \u001b[0;32mfrom\u001b[0m \u001b[0merr\u001b[0m\u001b[0;34m\u001b[0m\u001b[0;34m\u001b[0m\u001b[0m\n\u001b[0m\u001b[1;32m   2901\u001b[0m \u001b[0;34m\u001b[0m\u001b[0m\n\u001b[1;32m   2902\u001b[0m         \u001b[0;32mif\u001b[0m \u001b[0mtolerance\u001b[0m \u001b[0;32mis\u001b[0m \u001b[0;32mnot\u001b[0m \u001b[0;32mNone\u001b[0m\u001b[0;34m:\u001b[0m\u001b[0;34m\u001b[0m\u001b[0;34m\u001b[0m\u001b[0m\n",
            "\u001b[0;31mKeyError\u001b[0m: 'issue_dt'"
          ]
        }
      ]
    },
    {
      "cell_type": "code",
      "metadata": {
        "trusted": true,
        "id": "05gOGEKiXrEW"
      },
      "source": [
        "data[['issue_dt', 'issue_dt_quarter']].tail()"
      ],
      "execution_count": null,
      "outputs": []
    },
    {
      "cell_type": "code",
      "metadata": {
        "trusted": true,
        "id": "fuGrPkQjXrEX"
      },
      "source": [
        "# We could also extract semester\n",
        "\n",
        "data['issue_dt_semester'] = np.where(data.issue_dt_quarter.isin([1,2]),1,2)\n",
        "data.head()"
      ],
      "execution_count": null,
      "outputs": []
    },
    {
      "cell_type": "code",
      "metadata": {
        "trusted": true,
        "id": "OVhahUpWXrEX"
      },
      "source": [
        "# day - numeric from 1-31\n",
        "\n",
        "data['issue_dt_day'] = data['issue_dt'].dt.day\n",
        "\n",
        "data[['issue_dt', 'issue_dt_day']].head()"
      ],
      "execution_count": null,
      "outputs": []
    },
    {
      "cell_type": "code",
      "metadata": {
        "trusted": true,
        "id": "dOk6EofNXrEX"
      },
      "source": [
        "# day of the week - from 0 to 6\n",
        "\n",
        "data['issue_dt_dayofweek'] = data['issue_dt'].dt.dayofweek\n",
        "\n",
        "data[['issue_dt', 'issue_dt_dayofweek']].head()"
      ],
      "execution_count": null,
      "outputs": []
    },
    {
      "cell_type": "code",
      "metadata": {
        "trusted": true,
        "id": "03nSBV16XrEX"
      },
      "source": [
        "data[['issue_dt', 'issue_dt_dayofweek']].tail()"
      ],
      "execution_count": null,
      "outputs": []
    },
    {
      "cell_type": "code",
      "metadata": {
        "trusted": true,
        "id": "_SiRywZcXrEX"
      },
      "source": [
        "# day of the week - name\n",
        "\n",
        "data['issue_dt_dayofweek'] = data['issue_dt'].dt.weekday_name\n",
        "\n",
        "data[['issue_dt', 'issue_dt_dayofweek']].head()"
      ],
      "execution_count": null,
      "outputs": []
    },
    {
      "cell_type": "code",
      "metadata": {
        "trusted": true,
        "id": "iImDFfhYXrEY"
      },
      "source": [
        "data[['issue_dt', 'issue_dt_dayofweek']].tail()"
      ],
      "execution_count": null,
      "outputs": []
    },
    {
      "cell_type": "code",
      "metadata": {
        "trusted": true,
        "id": "OzUig3XMXrEY"
      },
      "source": [
        "# was the application done on the weekend?\n",
        "\n",
        "data['issue_dt_is_weekend'] = np.where(data['issue_dt_dayofweek'].isin(['Sunday', 'Saturday']), 1,0)\n",
        "data[['issue_dt', 'issue_dt_dayofweek','issue_dt_is_weekend']].head()"
      ],
      "execution_count": null,
      "outputs": []
    },
    {
      "cell_type": "code",
      "metadata": {
        "trusted": true,
        "id": "WcssLUQsXrEZ"
      },
      "source": [
        "data[data.issue_dt_is_weekend==1][['issue_dt', 'issue_dt_dayofweek','issue_dt_is_weekend']].head()"
      ],
      "execution_count": null,
      "outputs": []
    },
    {
      "cell_type": "code",
      "metadata": {
        "trusted": true,
        "id": "SrX3Cn8iXrEZ"
      },
      "source": [
        "# extract year \n",
        "\n",
        "data['issue_dt_year'] = data['issue_dt'].dt.year\n",
        "\n",
        "data[['issue_dt', 'issue_dt_year']].head()"
      ],
      "execution_count": null,
      "outputs": []
    },
    {
      "cell_type": "code",
      "metadata": {
        "trusted": true,
        "id": "ED-zmWDEXrEa"
      },
      "source": [
        "# extract the date difference between 2 dates\n",
        "\n",
        "data['issue_dt'] - data['last_pymnt_dt']"
      ],
      "execution_count": null,
      "outputs": []
    },
    {
      "cell_type": "markdown",
      "metadata": {
        "id": "TpaJ-jf5XrEa"
      },
      "source": [
        "# **9. References** <a class=\"anchor\" id=\"9\"></a>\n",
        "\n",
        "[Table of Contents](#0.1)\n",
        "\n",
        "\n",
        "This kernel is based on -\n",
        "\n",
        "1. Soledad Galli's course - [Feature Engineering for Machine Learning](https://www.udemy.com/course/feature-engineering-for-machine-learning/) , and \n",
        "\n",
        "2. Her article - [Feature Engineering for Machine Learning ; A Comprehensive Overview](https://www.trainindata.com/post/feature-engineering-comprehensive-overview).\n",
        "\n"
      ]
    },
    {
      "cell_type": "markdown",
      "metadata": {
        "id": "bvvKK0ojXrEa"
      },
      "source": [
        "[Go to Top](#0)"
      ]
    }
  ]
}
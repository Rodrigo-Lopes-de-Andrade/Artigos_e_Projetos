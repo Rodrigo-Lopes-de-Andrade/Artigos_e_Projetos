{
  "nbformat": 4,
  "nbformat_minor": 0,
  "metadata": {
    "kernelspec": {
      "language": "python",
      "display_name": "Python 3",
      "name": "python3"
    },
    "language_info": {
      "pygments_lexer": "ipython3",
      "nbconvert_exporter": "python",
      "version": "3.6.4",
      "file_extension": ".py",
      "codemirror_mode": {
        "name": "ipython",
        "version": 3
      },
      "name": "python",
      "mimetype": "text/x-python"
    },
    "colab": {
      "name": "Feature-selection.ipynb",
      "provenance": [],
      "collapsed_sections": [
        "SWmOiM427yqr",
        "vVjB6cn37yqs",
        "AUww9-Cn7yqt",
        "Xcu9vZGd7yqt",
        "McQP27Hi7yqt",
        "cqYQLqPM7yqt",
        "QvSP7W6c7yqt",
        "MNTJc-mT7yqy",
        "0v-8SsHB7yq1",
        "9EW1879_7yq2",
        "vaJYcsUq7yq2",
        "1DC2ZxaO7yq2",
        "2OsqzwxJ7yrD",
        "wlb_i1be7yrD"
      ],
      "include_colab_link": true
    }
  },
  "cells": [
    {
      "cell_type": "markdown",
      "metadata": {
        "id": "view-in-github",
        "colab_type": "text"
      },
      "source": [
        "<a href=\"https://colab.research.google.com/github/Rodrigo-Lopes-de-Andrade/Artigos_e_Projetos/blob/main/Feature_selection.ipynb\" target=\"_parent\"><img src=\"https://colab.research.google.com/assets/colab-badge.svg\" alt=\"Open In Colab\"/></a>"
      ]
    },
    {
      "cell_type": "markdown",
      "metadata": {
        "id": "FT2RQcA_704E"
      },
      "source": [
        "<p align=\"center\">\n",
        "    <a href=\"https://medium.com/rodrigo-lopesandrade\" alt=\"Contributors\">\n",
        "        <img src=\"https://img.shields.io/badge/Medium-RLA Data Science-magenta\" />\n",
        "    </a>\n",
        "<a href=\"https://linkedin.com/in/rodrigo-lopes-de-andrade-51753246\" alt=\"Contributors\">\n",
        "        <img src=\"https://img.shields.io/badge/Linkedin-Rodrigo Lopes de Andrade-cyan\" />\n",
        "    </a>\n",
        "<a href=\"https://github.com/Rodrigo-Lopes-de-Andrade\" alt=\"Contributors\">\n",
        "        <img src=\"https://img.shields.io/badge/GitHub-Rodrigo Lopes de Andrade-purple\" />\n",
        "       </a>\n",
        "   <img src=\"http://views.whatilearened.today/views/github/Rodrigo-Lopes-de-Andrade/views.svg\"/> <a href=\"https://github.com/Rodrigo-Lopes-de-Andrade/\"><img src=\"https://img.shields.io/github/followers/Rodrigo-Lopes-de-Andrade?color=%234CC61E&label=GitHub%20Followers%20%3A\"/></a> \n",
        "    </a>\n",
        "<p align=\"center\">\n",
        "  <img src=\"https://raw.githubusercontent.com/Rodrigo-Lopes-de-Andrade/Portifolio_Rodrigo_Andrade/main/LOGORLA.JPG\" >\n",
        "\n"
      ]
    },
    {
      "cell_type": "markdown",
      "metadata": {
        "id": "GaYVv-3C7yqK"
      },
      "source": [
        "<a class=\"anchor\" id=\"0\"> </a>\n",
        "# **Guia completo sobre seleção de recursos - Feature Selection**\n",
        "\n",
        "\n",
        "Olá amigos,\n",
        "\n",
        "\n",
        "**Feature Selection** (**Seleção de recursos**) é o processo de seleção do número ideal de recursos de um conjunto maior de recursos. Existem várias vantagens neste processo de seleção e várias técnicas disponíveis para este processo. Neste notebook, veremos essas vantagens e várias técnicas de seleção de recursos.\n",
        "\n",
        "\n",
        "Então vamos começar."
      ]
    },
    {
      "cell_type": "markdown",
      "metadata": {
        "id": "n2T24goq7yqU"
      },
      "source": [
        "Este notebook é baseado no curso de Soledad Galli - [Seleção de recursos para aprendizado de máquina] (https://www.udemy.com/course/feature-selection-for-machine-learning/)\n",
        "\n",
        "Ela fez um trabalho fabuloso no curso acima, onde reuniu todas as principais técnicas de seleção de recursos em um só lugar. Eu adaptei o código e as instruções de seu curso neste notebook. Gostaria de parabenizá-la pelo excelente trabalho."
      ]
    },
    {
      "cell_type": "markdown",
      "metadata": {
        "id": "My_bZotL7yqW"
      },
      "source": [
        "<a class=\"anchor\" id=\"0.1\"> </a>\n",
        "# **Índice**\n",
        "\n",
        "\n",
        "1. Introdução à seleção de recursos\n",
        "2. Métodos de Filtro\n",
        "   - 2.1. Métodos Básicos\n",
        "        - 2.1.1 Remover características constantes\n",
        "        - 2.1.2 Remover características quase constantes\n",
        "   - 2.2 Métodos de Seleção Univariada\n",
        "        - 2.2.1 SelectKBest\n",
        "        - 2.2.2 SelectPercentile\n",
        "   - 2.3 Ganho de informação\n",
        "   - 2.4 Pontuação Fisher (implementação do qui-quadrado\n",
        "   - 2.5 ANOVA F-Value for Feature Selection\n",
        "   - 2.6 Matriz de Correlação com Mapa de Calor\n",
        "3. Métodos de Wrapper\n",
        "   - 3.1 Seleção direta\n",
        "   - 3.2 Eliminação para trás\n",
        "   - 3.3 Seleção exaustiva de recursos\n",
        "   - 3.4 Eliminação de recurso recursivo\n",
        "   - 3.5 Eliminação de recurso recursivo com validação cruzada\n",
        "4. Métodos incorporados\n",
        "   - 4.1 Regressão LASSO\n",
        "   - 4.2 Importância Florestal Aleatória\n",
        "5. Como escolher o método certo de seleção de recursos\n",
        "6. Dicas e truques para seleção de recursos\n",
        "7. Referências"
      ]
    },
    {
      "cell_type": "markdown",
      "metadata": {
        "trusted": true,
        "id": "q7R32S3J7yqX"
      },
      "source": [
        "# **1. Introdução à seleção de recursos - Feature Selection** <a class=\"anchor\" id=\"1\"> </a>\n",
        "\n",
        "\n",
        "## **Seleção de recursos**\n",
        "\n",
        "- **Seleção de recursos** ou **seleção de variáveis** é o processo de seleção de um subconjunto de recursos ou variáveis ​​relevantes a partir do total de recursos de um nível em um conjunto de dados para construir algoritmos de aprendizado de máquina.\n",
        "\n",
        "\n",
        "## **Vantagens de selecionar recursos**\n",
        "\n",
        "- Existem várias vantagens do processo de seleção de recursos. São os seguintes: -\n",
        "\n",
        "  1. Maior precisão\n",
        "  2. Modelos simples são mais fáceis de interpretar.\n",
        "  3. Tempos de treinamento mais curtos\n",
        "  4. Ampliação da generalização reduzindo o Overfitting\n",
        "  5. Mais fácil de implementar por desenvolvedores de software\n",
        "  6. Redução do risco de erros de dados pelo uso do modelo\n",
        "  Redundância variável\n",
        "  8. Comportamento de aprendizado ruim em espaços dimensionais elevados\n",
        "\n",
        "\n",
        "## **Seleção de recursos - técnicas**\n",
        "\n",
        "\n",
        "- As técnicas de seleção de recursos são categorizadas em 3 digitadores. São os seguintes: -\n",
        "\n",
        "  Métodos de filtro (Filter Methods)\n",
        "  2. Métodos de wrapper\n",
        "  3. Métodos incorporados\n",
        "  \n",
        "  \n",
        "## **Métodos de filtro**\n",
        "\n",
        "- Os métodos de filtro consistem em várias técnicas, conforme abaixo: -\n",
        "\n",
        "  1. Métodos básicos\n",
        "  2. Métodos univariados\n",
        "  3. Ganho de informação\n",
        "  4. Pontuação Fischer\n",
        "  5. Matriz de correlação com mapa de calor\n",
        "  \n",
        "  \n",
        "## **Métodos de wrapper**\n",
        "\n",
        "- Os métodos de invólucro consistem nas seguintes técnicas: -\n",
        "\n",
        "  1. Seleção para frente\n",
        "  2. Eliminação para trás\n",
        "  3. Seleção exaustiva de recursos\n",
        "  4. Eliminação de recurso recursivo\n",
        "  5. Eliminação de recurso recursivo com validação cruzada\n",
        "  \n",
        "  \n",
        "  \n",
        "## **Métodos incorporados**\n",
        "\n",
        "- Os métodos incorporados consistem nas seguintes técnicas: -\n",
        "\n",
        "  1. LASSO\n",
        "  2. RIDGE\n",
        "  3. Importância da árvore\n",
        "  \n",
        "  \n",
        "- Agora, discutiremos esses métodos em detalhes.\n"
      ]
    },
    {
      "cell_type": "markdown",
      "metadata": {
        "id": "kHcy0YfK7yqZ"
      },
      "source": [
        "# **2. Filter Methods (Métodos de Filtro)** <a class=\"anchor\" id=\"2\"></a>\n",
        "\n",
        "- Os métodos de filtro geralmente são usados ​​como uma etapa de pré-processamento. A seleção de recursos é independente de quaisquer algoritmos de aprendizado de máquina. Em vez disso, os recursos são selecionados com base em suas pontuações em vários testes estatísticos para sua correlação com a variável de resultado. As características desses métodos são as seguintes: \n",
        "\n",
        "  - Esses métodos dependem das características dos dados (características do recurso)\n",
        "  - Eles não usam algoritmos de aprendizado de máquina.\n",
        "  - Estes são agnósticos de modelo.\n",
        "  - Eles tendem a ser menos caros computacionalmente.\n",
        "  - Eles geralmente fornecem desempenho de previsão mais baixo do que os wrapper methods.\n",
        "  - Eles são muito adequados para uma tela rápida e remoção de recursos irrelevantes.\n",
        "  \n",
        "  \n",
        " - Os métodos de filtro consistem em várias técnicas, conforme abaixo: \n",
        "\n",
        "   - 2.1. Métodos básicos\n",
        "   - 2.2. Seleção univariada de recursos\n",
        "   - 2.3. Ganho de informação\n",
        "   - 2.4. Pontuação Fischer\n",
        "   - 2,5. ANOVA F-Value for Feature Selection\n",
        "   - 2.6. Matriz de correlação com mapa de calor\n",
        "  \n",
        "- Os métodos de filtro podem ser explicados com a ajuda do seguinte gráfico:"
      ]
    },
    {
      "cell_type": "markdown",
      "metadata": {
        "id": "WXLu_iCe7yqb"
      },
      "source": [
        "![FilterMethods](https://res.cloudinary.com/dyd911kmh/image/upload/f_auto,q_auto:best/v1537552825/Image3_fqsh79.png)\n",
        "\n",
        "### Fonte da imagem: AnalyticsVidhya"
      ]
    },
    {
      "cell_type": "markdown",
      "metadata": {
        "id": "kim2g21B7yqc"
      },
      "source": [
        "## **2.1 Métodos básicos** <a class=\"anchor\" id=\"2.1\"> </a>\n",
        "\n",
        "\n",
        "\n",
        "- Nos métodos básicos, removemos recursos constantes e quase constantes."
      ]
    },
    {
      "cell_type": "markdown",
      "metadata": {
        "id": "66AlWQaY7yqd"
      },
      "source": [
        "## **2.1.1 Remover recursos constantes (Remove constant features)** <a class=\"anchor\" id=\"2.1.1\"> </a>\n",
        "\n",
        "\n",
        "- Características constantes são aquelas que apresentam o mesmo valor, apenas um valor, para todas as observações do conjunto de dados. Ou seja, o mesmo valor para todas as linhas do conjunto de dados. Esses recursos não fornecem informações que permitam a um modelo de aprendizado de máquina discriminar ou prever um alvo.\n",
        "\n",
        "- Identificar e remover recursos constantes é uma primeira etapa fácil para a seleção de recursos e modelos de aprendizado de máquina mais facilmente interpretáveis. Para identificar recursos constantes, podemos usar a função VarianceThreshold do sklearn.\n",
        "\n",
        "- Vou demonstrar como identificar características constantes usando o conjunto de dados Santander Customer Satisfaction da Kaggle.\n",
        "\n",
        "- Fonte:\n",
        "\n",
        "- https://scikit-learn.org/stable/modules/generated/sklearn.feature_selection.VarianceThreshold.html\n",
        "\n",
        "- https://scikit-learn.org/stable/modules/feature_selection.html"
      ]
    },
    {
      "cell_type": "code",
      "metadata": {
        "trusted": true,
        "id": "Pay7es3v7yqe"
      },
      "source": [
        "import numpy as np # linear algebra\n",
        "import pandas as pd # data processing, CSV file I/O (e.g. pd.read_csv)\n",
        "import matplotlib.pyplot as plt\n",
        "import seaborn as sns\n",
        "\n",
        "import warnings # ignore warnings\n",
        "warnings.filterwarnings('ignore')"
      ],
      "execution_count": 15,
      "outputs": []
    },
    {
      "cell_type": "code",
      "metadata": {
        "colab": {
          "base_uri": "https://localhost:8080/"
        },
        "id": "LWWZGCPQjswM",
        "outputId": "f30d149b-0c11-498c-d842-2a4356331f01"
      },
      "source": [
        "from google.colab import drive\n",
        "drive.mount('/content/drive')"
      ],
      "execution_count": 25,
      "outputs": [
        {
          "output_type": "stream",
          "name": "stdout",
          "text": [
            "Mounted at /content/drive\n"
          ]
        }
      ]
    },
    {
      "cell_type": "code",
      "metadata": {
        "trusted": true,
        "id": "vIIACcXm7yqh"
      },
      "source": [
        "# import the Santander customer satisfaction dataset from Kaggle\n",
        "\n",
        "X_train = pd.read_csv('/content/drive/MyDrive/Datasets/Santander_Costumer_train.csv', nrows=35000)\n",
        "\n",
        "X_test = pd.read_csv('/content/drive/MyDrive/Datasets/Santander_Costumer_test.csv', nrows=15000)"
      ],
      "execution_count": 20,
      "outputs": []
    },
    {
      "cell_type": "code",
      "metadata": {
        "colab": {
          "base_uri": "https://localhost:8080/",
          "height": 253
        },
        "id": "TPxTkfAvBKqa",
        "outputId": "41c77b06-c293-4c38-9d09-5c19e8b05c5a"
      },
      "source": [
        "X_train.head()"
      ],
      "execution_count": 21,
      "outputs": [
        {
          "output_type": "execute_result",
          "data": {
            "text/html": [
              "<div>\n",
              "<style scoped>\n",
              "    .dataframe tbody tr th:only-of-type {\n",
              "        vertical-align: middle;\n",
              "    }\n",
              "\n",
              "    .dataframe tbody tr th {\n",
              "        vertical-align: top;\n",
              "    }\n",
              "\n",
              "    .dataframe thead th {\n",
              "        text-align: right;\n",
              "    }\n",
              "</style>\n",
              "<table border=\"1\" class=\"dataframe\">\n",
              "  <thead>\n",
              "    <tr style=\"text-align: right;\">\n",
              "      <th></th>\n",
              "      <th>ID</th>\n",
              "      <th>var3</th>\n",
              "      <th>var15</th>\n",
              "      <th>imp_ent_var16_ult1</th>\n",
              "      <th>imp_op_var39_comer_ult1</th>\n",
              "      <th>imp_op_var39_comer_ult3</th>\n",
              "      <th>imp_op_var40_comer_ult1</th>\n",
              "      <th>imp_op_var40_comer_ult3</th>\n",
              "      <th>imp_op_var40_efect_ult1</th>\n",
              "      <th>imp_op_var40_efect_ult3</th>\n",
              "      <th>imp_op_var40_ult1</th>\n",
              "      <th>imp_op_var41_comer_ult1</th>\n",
              "      <th>imp_op_var41_comer_ult3</th>\n",
              "      <th>imp_op_var41_efect_ult1</th>\n",
              "      <th>imp_op_var41_efect_ult3</th>\n",
              "      <th>imp_op_var41_ult1</th>\n",
              "      <th>imp_op_var39_efect_ult1</th>\n",
              "      <th>imp_op_var39_efect_ult3</th>\n",
              "      <th>imp_op_var39_ult1</th>\n",
              "      <th>imp_sal_var16_ult1</th>\n",
              "      <th>ind_var1_0</th>\n",
              "      <th>ind_var1</th>\n",
              "      <th>ind_var2_0</th>\n",
              "      <th>ind_var2</th>\n",
              "      <th>ind_var5_0</th>\n",
              "      <th>ind_var5</th>\n",
              "      <th>ind_var6_0</th>\n",
              "      <th>ind_var6</th>\n",
              "      <th>ind_var8_0</th>\n",
              "      <th>ind_var8</th>\n",
              "      <th>ind_var12_0</th>\n",
              "      <th>ind_var12</th>\n",
              "      <th>ind_var13_0</th>\n",
              "      <th>ind_var13_corto_0</th>\n",
              "      <th>ind_var13_corto</th>\n",
              "      <th>ind_var13_largo_0</th>\n",
              "      <th>ind_var13_largo</th>\n",
              "      <th>ind_var13_medio_0</th>\n",
              "      <th>ind_var13_medio</th>\n",
              "      <th>ind_var13</th>\n",
              "      <th>...</th>\n",
              "      <th>saldo_medio_var5_ult1</th>\n",
              "      <th>saldo_medio_var5_ult3</th>\n",
              "      <th>saldo_medio_var8_hace2</th>\n",
              "      <th>saldo_medio_var8_hace3</th>\n",
              "      <th>saldo_medio_var8_ult1</th>\n",
              "      <th>saldo_medio_var8_ult3</th>\n",
              "      <th>saldo_medio_var12_hace2</th>\n",
              "      <th>saldo_medio_var12_hace3</th>\n",
              "      <th>saldo_medio_var12_ult1</th>\n",
              "      <th>saldo_medio_var12_ult3</th>\n",
              "      <th>saldo_medio_var13_corto_hace2</th>\n",
              "      <th>saldo_medio_var13_corto_hace3</th>\n",
              "      <th>saldo_medio_var13_corto_ult1</th>\n",
              "      <th>saldo_medio_var13_corto_ult3</th>\n",
              "      <th>saldo_medio_var13_largo_hace2</th>\n",
              "      <th>saldo_medio_var13_largo_hace3</th>\n",
              "      <th>saldo_medio_var13_largo_ult1</th>\n",
              "      <th>saldo_medio_var13_largo_ult3</th>\n",
              "      <th>saldo_medio_var13_medio_hace2</th>\n",
              "      <th>saldo_medio_var13_medio_hace3</th>\n",
              "      <th>saldo_medio_var13_medio_ult1</th>\n",
              "      <th>saldo_medio_var13_medio_ult3</th>\n",
              "      <th>saldo_medio_var17_hace2</th>\n",
              "      <th>saldo_medio_var17_hace3</th>\n",
              "      <th>saldo_medio_var17_ult1</th>\n",
              "      <th>saldo_medio_var17_ult3</th>\n",
              "      <th>saldo_medio_var29_hace2</th>\n",
              "      <th>saldo_medio_var29_hace3</th>\n",
              "      <th>saldo_medio_var29_ult1</th>\n",
              "      <th>saldo_medio_var29_ult3</th>\n",
              "      <th>saldo_medio_var33_hace2</th>\n",
              "      <th>saldo_medio_var33_hace3</th>\n",
              "      <th>saldo_medio_var33_ult1</th>\n",
              "      <th>saldo_medio_var33_ult3</th>\n",
              "      <th>saldo_medio_var44_hace2</th>\n",
              "      <th>saldo_medio_var44_hace3</th>\n",
              "      <th>saldo_medio_var44_ult1</th>\n",
              "      <th>saldo_medio_var44_ult3</th>\n",
              "      <th>var38</th>\n",
              "      <th>TARGET</th>\n",
              "    </tr>\n",
              "  </thead>\n",
              "  <tbody>\n",
              "    <tr>\n",
              "      <th>0</th>\n",
              "      <td>1</td>\n",
              "      <td>2</td>\n",
              "      <td>23</td>\n",
              "      <td>0.0</td>\n",
              "      <td>0.0</td>\n",
              "      <td>0.0</td>\n",
              "      <td>0.0</td>\n",
              "      <td>0.0</td>\n",
              "      <td>0.0</td>\n",
              "      <td>0.0</td>\n",
              "      <td>0.0</td>\n",
              "      <td>0.0</td>\n",
              "      <td>0.0</td>\n",
              "      <td>0.0</td>\n",
              "      <td>0.0</td>\n",
              "      <td>0.0</td>\n",
              "      <td>0.0</td>\n",
              "      <td>0.0</td>\n",
              "      <td>0.0</td>\n",
              "      <td>0.0</td>\n",
              "      <td>0</td>\n",
              "      <td>0</td>\n",
              "      <td>0</td>\n",
              "      <td>0</td>\n",
              "      <td>1</td>\n",
              "      <td>0</td>\n",
              "      <td>0</td>\n",
              "      <td>0</td>\n",
              "      <td>0</td>\n",
              "      <td>0</td>\n",
              "      <td>0</td>\n",
              "      <td>0</td>\n",
              "      <td>0</td>\n",
              "      <td>0</td>\n",
              "      <td>0</td>\n",
              "      <td>0</td>\n",
              "      <td>0</td>\n",
              "      <td>0</td>\n",
              "      <td>0</td>\n",
              "      <td>0</td>\n",
              "      <td>...</td>\n",
              "      <td>0.00</td>\n",
              "      <td>0.00</td>\n",
              "      <td>0.0</td>\n",
              "      <td>0.0</td>\n",
              "      <td>0.0</td>\n",
              "      <td>0.0</td>\n",
              "      <td>0.0</td>\n",
              "      <td>0.0</td>\n",
              "      <td>0.00</td>\n",
              "      <td>0.00</td>\n",
              "      <td>0.0</td>\n",
              "      <td>0.00</td>\n",
              "      <td>0.0</td>\n",
              "      <td>0.00</td>\n",
              "      <td>0.0</td>\n",
              "      <td>0.0</td>\n",
              "      <td>0.0</td>\n",
              "      <td>0.0</td>\n",
              "      <td>0.0</td>\n",
              "      <td>0</td>\n",
              "      <td>0</td>\n",
              "      <td>0.0</td>\n",
              "      <td>0.0</td>\n",
              "      <td>0.0</td>\n",
              "      <td>0.0</td>\n",
              "      <td>0.0</td>\n",
              "      <td>0.0</td>\n",
              "      <td>0</td>\n",
              "      <td>0.0</td>\n",
              "      <td>0.0</td>\n",
              "      <td>0.0</td>\n",
              "      <td>0.0</td>\n",
              "      <td>0.0</td>\n",
              "      <td>0.0</td>\n",
              "      <td>0.0</td>\n",
              "      <td>0.0</td>\n",
              "      <td>0.0</td>\n",
              "      <td>0.0</td>\n",
              "      <td>39205.170000</td>\n",
              "      <td>0</td>\n",
              "    </tr>\n",
              "    <tr>\n",
              "      <th>1</th>\n",
              "      <td>3</td>\n",
              "      <td>2</td>\n",
              "      <td>34</td>\n",
              "      <td>0.0</td>\n",
              "      <td>0.0</td>\n",
              "      <td>0.0</td>\n",
              "      <td>0.0</td>\n",
              "      <td>0.0</td>\n",
              "      <td>0.0</td>\n",
              "      <td>0.0</td>\n",
              "      <td>0.0</td>\n",
              "      <td>0.0</td>\n",
              "      <td>0.0</td>\n",
              "      <td>0.0</td>\n",
              "      <td>0.0</td>\n",
              "      <td>0.0</td>\n",
              "      <td>0.0</td>\n",
              "      <td>0.0</td>\n",
              "      <td>0.0</td>\n",
              "      <td>0.0</td>\n",
              "      <td>0</td>\n",
              "      <td>0</td>\n",
              "      <td>0</td>\n",
              "      <td>0</td>\n",
              "      <td>1</td>\n",
              "      <td>0</td>\n",
              "      <td>0</td>\n",
              "      <td>0</td>\n",
              "      <td>0</td>\n",
              "      <td>0</td>\n",
              "      <td>0</td>\n",
              "      <td>0</td>\n",
              "      <td>1</td>\n",
              "      <td>1</td>\n",
              "      <td>1</td>\n",
              "      <td>0</td>\n",
              "      <td>0</td>\n",
              "      <td>0</td>\n",
              "      <td>0</td>\n",
              "      <td>1</td>\n",
              "      <td>...</td>\n",
              "      <td>0.00</td>\n",
              "      <td>0.00</td>\n",
              "      <td>0.0</td>\n",
              "      <td>0.0</td>\n",
              "      <td>0.0</td>\n",
              "      <td>0.0</td>\n",
              "      <td>0.0</td>\n",
              "      <td>0.0</td>\n",
              "      <td>0.00</td>\n",
              "      <td>0.00</td>\n",
              "      <td>300.0</td>\n",
              "      <td>122.22</td>\n",
              "      <td>300.0</td>\n",
              "      <td>240.75</td>\n",
              "      <td>0.0</td>\n",
              "      <td>0.0</td>\n",
              "      <td>0.0</td>\n",
              "      <td>0.0</td>\n",
              "      <td>0.0</td>\n",
              "      <td>0</td>\n",
              "      <td>0</td>\n",
              "      <td>0.0</td>\n",
              "      <td>0.0</td>\n",
              "      <td>0.0</td>\n",
              "      <td>0.0</td>\n",
              "      <td>0.0</td>\n",
              "      <td>0.0</td>\n",
              "      <td>0</td>\n",
              "      <td>0.0</td>\n",
              "      <td>0.0</td>\n",
              "      <td>0.0</td>\n",
              "      <td>0.0</td>\n",
              "      <td>0.0</td>\n",
              "      <td>0.0</td>\n",
              "      <td>0.0</td>\n",
              "      <td>0.0</td>\n",
              "      <td>0.0</td>\n",
              "      <td>0.0</td>\n",
              "      <td>49278.030000</td>\n",
              "      <td>0</td>\n",
              "    </tr>\n",
              "    <tr>\n",
              "      <th>2</th>\n",
              "      <td>4</td>\n",
              "      <td>2</td>\n",
              "      <td>23</td>\n",
              "      <td>0.0</td>\n",
              "      <td>0.0</td>\n",
              "      <td>0.0</td>\n",
              "      <td>0.0</td>\n",
              "      <td>0.0</td>\n",
              "      <td>0.0</td>\n",
              "      <td>0.0</td>\n",
              "      <td>0.0</td>\n",
              "      <td>0.0</td>\n",
              "      <td>0.0</td>\n",
              "      <td>0.0</td>\n",
              "      <td>0.0</td>\n",
              "      <td>0.0</td>\n",
              "      <td>0.0</td>\n",
              "      <td>0.0</td>\n",
              "      <td>0.0</td>\n",
              "      <td>0.0</td>\n",
              "      <td>0</td>\n",
              "      <td>0</td>\n",
              "      <td>0</td>\n",
              "      <td>0</td>\n",
              "      <td>1</td>\n",
              "      <td>1</td>\n",
              "      <td>0</td>\n",
              "      <td>0</td>\n",
              "      <td>0</td>\n",
              "      <td>0</td>\n",
              "      <td>0</td>\n",
              "      <td>0</td>\n",
              "      <td>0</td>\n",
              "      <td>0</td>\n",
              "      <td>0</td>\n",
              "      <td>0</td>\n",
              "      <td>0</td>\n",
              "      <td>0</td>\n",
              "      <td>0</td>\n",
              "      <td>0</td>\n",
              "      <td>...</td>\n",
              "      <td>3.00</td>\n",
              "      <td>2.07</td>\n",
              "      <td>0.0</td>\n",
              "      <td>0.0</td>\n",
              "      <td>0.0</td>\n",
              "      <td>0.0</td>\n",
              "      <td>0.0</td>\n",
              "      <td>0.0</td>\n",
              "      <td>0.00</td>\n",
              "      <td>0.00</td>\n",
              "      <td>0.0</td>\n",
              "      <td>0.00</td>\n",
              "      <td>0.0</td>\n",
              "      <td>0.00</td>\n",
              "      <td>0.0</td>\n",
              "      <td>0.0</td>\n",
              "      <td>0.0</td>\n",
              "      <td>0.0</td>\n",
              "      <td>0.0</td>\n",
              "      <td>0</td>\n",
              "      <td>0</td>\n",
              "      <td>0.0</td>\n",
              "      <td>0.0</td>\n",
              "      <td>0.0</td>\n",
              "      <td>0.0</td>\n",
              "      <td>0.0</td>\n",
              "      <td>0.0</td>\n",
              "      <td>0</td>\n",
              "      <td>0.0</td>\n",
              "      <td>0.0</td>\n",
              "      <td>0.0</td>\n",
              "      <td>0.0</td>\n",
              "      <td>0.0</td>\n",
              "      <td>0.0</td>\n",
              "      <td>0.0</td>\n",
              "      <td>0.0</td>\n",
              "      <td>0.0</td>\n",
              "      <td>0.0</td>\n",
              "      <td>67333.770000</td>\n",
              "      <td>0</td>\n",
              "    </tr>\n",
              "    <tr>\n",
              "      <th>3</th>\n",
              "      <td>8</td>\n",
              "      <td>2</td>\n",
              "      <td>37</td>\n",
              "      <td>0.0</td>\n",
              "      <td>195.0</td>\n",
              "      <td>195.0</td>\n",
              "      <td>0.0</td>\n",
              "      <td>0.0</td>\n",
              "      <td>0.0</td>\n",
              "      <td>0.0</td>\n",
              "      <td>0.0</td>\n",
              "      <td>195.0</td>\n",
              "      <td>195.0</td>\n",
              "      <td>0.0</td>\n",
              "      <td>0.0</td>\n",
              "      <td>195.0</td>\n",
              "      <td>0.0</td>\n",
              "      <td>0.0</td>\n",
              "      <td>195.0</td>\n",
              "      <td>0.0</td>\n",
              "      <td>0</td>\n",
              "      <td>0</td>\n",
              "      <td>0</td>\n",
              "      <td>0</td>\n",
              "      <td>1</td>\n",
              "      <td>1</td>\n",
              "      <td>0</td>\n",
              "      <td>0</td>\n",
              "      <td>0</td>\n",
              "      <td>0</td>\n",
              "      <td>0</td>\n",
              "      <td>0</td>\n",
              "      <td>0</td>\n",
              "      <td>0</td>\n",
              "      <td>0</td>\n",
              "      <td>0</td>\n",
              "      <td>0</td>\n",
              "      <td>0</td>\n",
              "      <td>0</td>\n",
              "      <td>0</td>\n",
              "      <td>...</td>\n",
              "      <td>91.56</td>\n",
              "      <td>138.84</td>\n",
              "      <td>0.0</td>\n",
              "      <td>0.0</td>\n",
              "      <td>0.0</td>\n",
              "      <td>0.0</td>\n",
              "      <td>0.0</td>\n",
              "      <td>0.0</td>\n",
              "      <td>0.00</td>\n",
              "      <td>0.00</td>\n",
              "      <td>0.0</td>\n",
              "      <td>0.00</td>\n",
              "      <td>0.0</td>\n",
              "      <td>0.00</td>\n",
              "      <td>0.0</td>\n",
              "      <td>0.0</td>\n",
              "      <td>0.0</td>\n",
              "      <td>0.0</td>\n",
              "      <td>0.0</td>\n",
              "      <td>0</td>\n",
              "      <td>0</td>\n",
              "      <td>0.0</td>\n",
              "      <td>0.0</td>\n",
              "      <td>0.0</td>\n",
              "      <td>0.0</td>\n",
              "      <td>0.0</td>\n",
              "      <td>0.0</td>\n",
              "      <td>0</td>\n",
              "      <td>0.0</td>\n",
              "      <td>0.0</td>\n",
              "      <td>0.0</td>\n",
              "      <td>0.0</td>\n",
              "      <td>0.0</td>\n",
              "      <td>0.0</td>\n",
              "      <td>0.0</td>\n",
              "      <td>0.0</td>\n",
              "      <td>0.0</td>\n",
              "      <td>0.0</td>\n",
              "      <td>64007.970000</td>\n",
              "      <td>0</td>\n",
              "    </tr>\n",
              "    <tr>\n",
              "      <th>4</th>\n",
              "      <td>10</td>\n",
              "      <td>2</td>\n",
              "      <td>39</td>\n",
              "      <td>0.0</td>\n",
              "      <td>0.0</td>\n",
              "      <td>0.0</td>\n",
              "      <td>0.0</td>\n",
              "      <td>0.0</td>\n",
              "      <td>0.0</td>\n",
              "      <td>0.0</td>\n",
              "      <td>0.0</td>\n",
              "      <td>0.0</td>\n",
              "      <td>0.0</td>\n",
              "      <td>0.0</td>\n",
              "      <td>0.0</td>\n",
              "      <td>0.0</td>\n",
              "      <td>0.0</td>\n",
              "      <td>0.0</td>\n",
              "      <td>0.0</td>\n",
              "      <td>0.0</td>\n",
              "      <td>0</td>\n",
              "      <td>0</td>\n",
              "      <td>0</td>\n",
              "      <td>0</td>\n",
              "      <td>1</td>\n",
              "      <td>0</td>\n",
              "      <td>0</td>\n",
              "      <td>0</td>\n",
              "      <td>0</td>\n",
              "      <td>0</td>\n",
              "      <td>1</td>\n",
              "      <td>1</td>\n",
              "      <td>0</td>\n",
              "      <td>0</td>\n",
              "      <td>0</td>\n",
              "      <td>0</td>\n",
              "      <td>0</td>\n",
              "      <td>0</td>\n",
              "      <td>0</td>\n",
              "      <td>0</td>\n",
              "      <td>...</td>\n",
              "      <td>40501.08</td>\n",
              "      <td>13501.47</td>\n",
              "      <td>0.0</td>\n",
              "      <td>0.0</td>\n",
              "      <td>0.0</td>\n",
              "      <td>0.0</td>\n",
              "      <td>0.0</td>\n",
              "      <td>0.0</td>\n",
              "      <td>85501.89</td>\n",
              "      <td>85501.89</td>\n",
              "      <td>0.0</td>\n",
              "      <td>0.00</td>\n",
              "      <td>0.0</td>\n",
              "      <td>0.00</td>\n",
              "      <td>0.0</td>\n",
              "      <td>0.0</td>\n",
              "      <td>0.0</td>\n",
              "      <td>0.0</td>\n",
              "      <td>0.0</td>\n",
              "      <td>0</td>\n",
              "      <td>0</td>\n",
              "      <td>0.0</td>\n",
              "      <td>0.0</td>\n",
              "      <td>0.0</td>\n",
              "      <td>0.0</td>\n",
              "      <td>0.0</td>\n",
              "      <td>0.0</td>\n",
              "      <td>0</td>\n",
              "      <td>0.0</td>\n",
              "      <td>0.0</td>\n",
              "      <td>0.0</td>\n",
              "      <td>0.0</td>\n",
              "      <td>0.0</td>\n",
              "      <td>0.0</td>\n",
              "      <td>0.0</td>\n",
              "      <td>0.0</td>\n",
              "      <td>0.0</td>\n",
              "      <td>0.0</td>\n",
              "      <td>117310.979016</td>\n",
              "      <td>0</td>\n",
              "    </tr>\n",
              "  </tbody>\n",
              "</table>\n",
              "<p>5 rows × 371 columns</p>\n",
              "</div>"
            ],
            "text/plain": [
              "   ID  var3  var15  ...  saldo_medio_var44_ult3          var38  TARGET\n",
              "0   1     2     23  ...                     0.0   39205.170000       0\n",
              "1   3     2     34  ...                     0.0   49278.030000       0\n",
              "2   4     2     23  ...                     0.0   67333.770000       0\n",
              "3   8     2     37  ...                     0.0   64007.970000       0\n",
              "4  10     2     39  ...                     0.0  117310.979016       0\n",
              "\n",
              "[5 rows x 371 columns]"
            ]
          },
          "metadata": {},
          "execution_count": 21
        }
      ]
    },
    {
      "cell_type": "code",
      "metadata": {
        "colab": {
          "base_uri": "https://localhost:8080/",
          "height": 253
        },
        "id": "NHJPK2QWBWB4",
        "outputId": "8e37c5b2-1420-4494-ed2f-7da7cb55139c"
      },
      "source": [
        "X_test.head()"
      ],
      "execution_count": 22,
      "outputs": [
        {
          "output_type": "execute_result",
          "data": {
            "text/html": [
              "<div>\n",
              "<style scoped>\n",
              "    .dataframe tbody tr th:only-of-type {\n",
              "        vertical-align: middle;\n",
              "    }\n",
              "\n",
              "    .dataframe tbody tr th {\n",
              "        vertical-align: top;\n",
              "    }\n",
              "\n",
              "    .dataframe thead th {\n",
              "        text-align: right;\n",
              "    }\n",
              "</style>\n",
              "<table border=\"1\" class=\"dataframe\">\n",
              "  <thead>\n",
              "    <tr style=\"text-align: right;\">\n",
              "      <th></th>\n",
              "      <th>ID</th>\n",
              "      <th>var3</th>\n",
              "      <th>var15</th>\n",
              "      <th>imp_ent_var16_ult1</th>\n",
              "      <th>imp_op_var39_comer_ult1</th>\n",
              "      <th>imp_op_var39_comer_ult3</th>\n",
              "      <th>imp_op_var40_comer_ult1</th>\n",
              "      <th>imp_op_var40_comer_ult3</th>\n",
              "      <th>imp_op_var40_efect_ult1</th>\n",
              "      <th>imp_op_var40_efect_ult3</th>\n",
              "      <th>imp_op_var40_ult1</th>\n",
              "      <th>imp_op_var41_comer_ult1</th>\n",
              "      <th>imp_op_var41_comer_ult3</th>\n",
              "      <th>imp_op_var41_efect_ult1</th>\n",
              "      <th>imp_op_var41_efect_ult3</th>\n",
              "      <th>imp_op_var41_ult1</th>\n",
              "      <th>imp_op_var39_efect_ult1</th>\n",
              "      <th>imp_op_var39_efect_ult3</th>\n",
              "      <th>imp_op_var39_ult1</th>\n",
              "      <th>imp_sal_var16_ult1</th>\n",
              "      <th>ind_var1_0</th>\n",
              "      <th>ind_var1</th>\n",
              "      <th>ind_var2_0</th>\n",
              "      <th>ind_var2</th>\n",
              "      <th>ind_var5_0</th>\n",
              "      <th>ind_var5</th>\n",
              "      <th>ind_var6_0</th>\n",
              "      <th>ind_var6</th>\n",
              "      <th>ind_var8_0</th>\n",
              "      <th>ind_var8</th>\n",
              "      <th>ind_var12_0</th>\n",
              "      <th>ind_var12</th>\n",
              "      <th>ind_var13_0</th>\n",
              "      <th>ind_var13_corto_0</th>\n",
              "      <th>ind_var13_corto</th>\n",
              "      <th>ind_var13_largo_0</th>\n",
              "      <th>ind_var13_largo</th>\n",
              "      <th>ind_var13_medio_0</th>\n",
              "      <th>ind_var13_medio</th>\n",
              "      <th>ind_var13</th>\n",
              "      <th>...</th>\n",
              "      <th>saldo_medio_var5_hace3</th>\n",
              "      <th>saldo_medio_var5_ult1</th>\n",
              "      <th>saldo_medio_var5_ult3</th>\n",
              "      <th>saldo_medio_var8_hace2</th>\n",
              "      <th>saldo_medio_var8_hace3</th>\n",
              "      <th>saldo_medio_var8_ult1</th>\n",
              "      <th>saldo_medio_var8_ult3</th>\n",
              "      <th>saldo_medio_var12_hace2</th>\n",
              "      <th>saldo_medio_var12_hace3</th>\n",
              "      <th>saldo_medio_var12_ult1</th>\n",
              "      <th>saldo_medio_var12_ult3</th>\n",
              "      <th>saldo_medio_var13_corto_hace2</th>\n",
              "      <th>saldo_medio_var13_corto_hace3</th>\n",
              "      <th>saldo_medio_var13_corto_ult1</th>\n",
              "      <th>saldo_medio_var13_corto_ult3</th>\n",
              "      <th>saldo_medio_var13_largo_hace2</th>\n",
              "      <th>saldo_medio_var13_largo_hace3</th>\n",
              "      <th>saldo_medio_var13_largo_ult1</th>\n",
              "      <th>saldo_medio_var13_largo_ult3</th>\n",
              "      <th>saldo_medio_var13_medio_hace2</th>\n",
              "      <th>saldo_medio_var13_medio_hace3</th>\n",
              "      <th>saldo_medio_var13_medio_ult1</th>\n",
              "      <th>saldo_medio_var13_medio_ult3</th>\n",
              "      <th>saldo_medio_var17_hace2</th>\n",
              "      <th>saldo_medio_var17_hace3</th>\n",
              "      <th>saldo_medio_var17_ult1</th>\n",
              "      <th>saldo_medio_var17_ult3</th>\n",
              "      <th>saldo_medio_var29_hace2</th>\n",
              "      <th>saldo_medio_var29_hace3</th>\n",
              "      <th>saldo_medio_var29_ult1</th>\n",
              "      <th>saldo_medio_var29_ult3</th>\n",
              "      <th>saldo_medio_var33_hace2</th>\n",
              "      <th>saldo_medio_var33_hace3</th>\n",
              "      <th>saldo_medio_var33_ult1</th>\n",
              "      <th>saldo_medio_var33_ult3</th>\n",
              "      <th>saldo_medio_var44_hace2</th>\n",
              "      <th>saldo_medio_var44_hace3</th>\n",
              "      <th>saldo_medio_var44_ult1</th>\n",
              "      <th>saldo_medio_var44_ult3</th>\n",
              "      <th>var38</th>\n",
              "    </tr>\n",
              "  </thead>\n",
              "  <tbody>\n",
              "    <tr>\n",
              "      <th>0</th>\n",
              "      <td>2</td>\n",
              "      <td>2</td>\n",
              "      <td>32</td>\n",
              "      <td>0.0</td>\n",
              "      <td>0.0</td>\n",
              "      <td>0.0</td>\n",
              "      <td>0.0</td>\n",
              "      <td>0.0</td>\n",
              "      <td>0</td>\n",
              "      <td>0</td>\n",
              "      <td>0.0</td>\n",
              "      <td>0.0</td>\n",
              "      <td>0.0</td>\n",
              "      <td>0.0</td>\n",
              "      <td>0.0</td>\n",
              "      <td>0.0</td>\n",
              "      <td>0.0</td>\n",
              "      <td>0.0</td>\n",
              "      <td>0.0</td>\n",
              "      <td>0.0</td>\n",
              "      <td>0</td>\n",
              "      <td>0</td>\n",
              "      <td>0</td>\n",
              "      <td>0</td>\n",
              "      <td>1</td>\n",
              "      <td>1</td>\n",
              "      <td>0</td>\n",
              "      <td>0</td>\n",
              "      <td>0</td>\n",
              "      <td>0</td>\n",
              "      <td>0</td>\n",
              "      <td>0</td>\n",
              "      <td>0</td>\n",
              "      <td>0</td>\n",
              "      <td>0</td>\n",
              "      <td>0</td>\n",
              "      <td>0</td>\n",
              "      <td>0</td>\n",
              "      <td>0</td>\n",
              "      <td>0</td>\n",
              "      <td>...</td>\n",
              "      <td>2.43</td>\n",
              "      <td>6.00</td>\n",
              "      <td>4.80</td>\n",
              "      <td>0.0</td>\n",
              "      <td>0.0</td>\n",
              "      <td>0.0</td>\n",
              "      <td>0.0</td>\n",
              "      <td>0.0</td>\n",
              "      <td>0.0</td>\n",
              "      <td>0.0</td>\n",
              "      <td>0.0</td>\n",
              "      <td>0.0</td>\n",
              "      <td>0.0</td>\n",
              "      <td>0.0</td>\n",
              "      <td>0.0</td>\n",
              "      <td>0.0</td>\n",
              "      <td>0.0</td>\n",
              "      <td>0.0</td>\n",
              "      <td>0.0</td>\n",
              "      <td>0.0</td>\n",
              "      <td>0</td>\n",
              "      <td>0</td>\n",
              "      <td>0.0</td>\n",
              "      <td>0.0</td>\n",
              "      <td>0.0</td>\n",
              "      <td>0.0</td>\n",
              "      <td>0.0</td>\n",
              "      <td>0</td>\n",
              "      <td>0</td>\n",
              "      <td>0</td>\n",
              "      <td>0</td>\n",
              "      <td>0.0</td>\n",
              "      <td>0.0</td>\n",
              "      <td>0.0</td>\n",
              "      <td>0.0</td>\n",
              "      <td>0.0</td>\n",
              "      <td>0.0</td>\n",
              "      <td>0.0</td>\n",
              "      <td>0.0</td>\n",
              "      <td>40532.10</td>\n",
              "    </tr>\n",
              "    <tr>\n",
              "      <th>1</th>\n",
              "      <td>5</td>\n",
              "      <td>2</td>\n",
              "      <td>35</td>\n",
              "      <td>0.0</td>\n",
              "      <td>0.0</td>\n",
              "      <td>0.0</td>\n",
              "      <td>0.0</td>\n",
              "      <td>0.0</td>\n",
              "      <td>0</td>\n",
              "      <td>0</td>\n",
              "      <td>0.0</td>\n",
              "      <td>0.0</td>\n",
              "      <td>0.0</td>\n",
              "      <td>0.0</td>\n",
              "      <td>0.0</td>\n",
              "      <td>0.0</td>\n",
              "      <td>0.0</td>\n",
              "      <td>0.0</td>\n",
              "      <td>0.0</td>\n",
              "      <td>0.0</td>\n",
              "      <td>0</td>\n",
              "      <td>0</td>\n",
              "      <td>0</td>\n",
              "      <td>0</td>\n",
              "      <td>1</td>\n",
              "      <td>1</td>\n",
              "      <td>0</td>\n",
              "      <td>0</td>\n",
              "      <td>0</td>\n",
              "      <td>0</td>\n",
              "      <td>0</td>\n",
              "      <td>0</td>\n",
              "      <td>0</td>\n",
              "      <td>0</td>\n",
              "      <td>0</td>\n",
              "      <td>0</td>\n",
              "      <td>0</td>\n",
              "      <td>0</td>\n",
              "      <td>0</td>\n",
              "      <td>0</td>\n",
              "      <td>...</td>\n",
              "      <td>2.55</td>\n",
              "      <td>3.00</td>\n",
              "      <td>2.85</td>\n",
              "      <td>0.0</td>\n",
              "      <td>0.0</td>\n",
              "      <td>0.0</td>\n",
              "      <td>0.0</td>\n",
              "      <td>0.0</td>\n",
              "      <td>0.0</td>\n",
              "      <td>0.0</td>\n",
              "      <td>0.0</td>\n",
              "      <td>0.0</td>\n",
              "      <td>0.0</td>\n",
              "      <td>0.0</td>\n",
              "      <td>0.0</td>\n",
              "      <td>0.0</td>\n",
              "      <td>0.0</td>\n",
              "      <td>0.0</td>\n",
              "      <td>0.0</td>\n",
              "      <td>0.0</td>\n",
              "      <td>0</td>\n",
              "      <td>0</td>\n",
              "      <td>0.0</td>\n",
              "      <td>0.0</td>\n",
              "      <td>0.0</td>\n",
              "      <td>0.0</td>\n",
              "      <td>0.0</td>\n",
              "      <td>0</td>\n",
              "      <td>0</td>\n",
              "      <td>0</td>\n",
              "      <td>0</td>\n",
              "      <td>0.0</td>\n",
              "      <td>0.0</td>\n",
              "      <td>0.0</td>\n",
              "      <td>0.0</td>\n",
              "      <td>0.0</td>\n",
              "      <td>0.0</td>\n",
              "      <td>0.0</td>\n",
              "      <td>0.0</td>\n",
              "      <td>45486.72</td>\n",
              "    </tr>\n",
              "    <tr>\n",
              "      <th>2</th>\n",
              "      <td>6</td>\n",
              "      <td>2</td>\n",
              "      <td>23</td>\n",
              "      <td>0.0</td>\n",
              "      <td>0.0</td>\n",
              "      <td>0.0</td>\n",
              "      <td>0.0</td>\n",
              "      <td>0.0</td>\n",
              "      <td>0</td>\n",
              "      <td>0</td>\n",
              "      <td>0.0</td>\n",
              "      <td>0.0</td>\n",
              "      <td>0.0</td>\n",
              "      <td>60.0</td>\n",
              "      <td>60.0</td>\n",
              "      <td>60.0</td>\n",
              "      <td>60.0</td>\n",
              "      <td>60.0</td>\n",
              "      <td>60.0</td>\n",
              "      <td>0.0</td>\n",
              "      <td>0</td>\n",
              "      <td>0</td>\n",
              "      <td>0</td>\n",
              "      <td>0</td>\n",
              "      <td>1</td>\n",
              "      <td>1</td>\n",
              "      <td>0</td>\n",
              "      <td>0</td>\n",
              "      <td>0</td>\n",
              "      <td>0</td>\n",
              "      <td>0</td>\n",
              "      <td>0</td>\n",
              "      <td>0</td>\n",
              "      <td>0</td>\n",
              "      <td>0</td>\n",
              "      <td>0</td>\n",
              "      <td>0</td>\n",
              "      <td>0</td>\n",
              "      <td>0</td>\n",
              "      <td>0</td>\n",
              "      <td>...</td>\n",
              "      <td>57.00</td>\n",
              "      <td>51.45</td>\n",
              "      <td>66.15</td>\n",
              "      <td>0.0</td>\n",
              "      <td>0.0</td>\n",
              "      <td>0.0</td>\n",
              "      <td>0.0</td>\n",
              "      <td>0.0</td>\n",
              "      <td>0.0</td>\n",
              "      <td>0.0</td>\n",
              "      <td>0.0</td>\n",
              "      <td>0.0</td>\n",
              "      <td>0.0</td>\n",
              "      <td>0.0</td>\n",
              "      <td>0.0</td>\n",
              "      <td>0.0</td>\n",
              "      <td>0.0</td>\n",
              "      <td>0.0</td>\n",
              "      <td>0.0</td>\n",
              "      <td>0.0</td>\n",
              "      <td>0</td>\n",
              "      <td>0</td>\n",
              "      <td>0.0</td>\n",
              "      <td>0.0</td>\n",
              "      <td>0.0</td>\n",
              "      <td>0.0</td>\n",
              "      <td>0.0</td>\n",
              "      <td>0</td>\n",
              "      <td>0</td>\n",
              "      <td>0</td>\n",
              "      <td>0</td>\n",
              "      <td>0.0</td>\n",
              "      <td>0.0</td>\n",
              "      <td>0.0</td>\n",
              "      <td>0.0</td>\n",
              "      <td>0.0</td>\n",
              "      <td>0.0</td>\n",
              "      <td>0.0</td>\n",
              "      <td>0.0</td>\n",
              "      <td>46993.95</td>\n",
              "    </tr>\n",
              "    <tr>\n",
              "      <th>3</th>\n",
              "      <td>7</td>\n",
              "      <td>2</td>\n",
              "      <td>24</td>\n",
              "      <td>0.0</td>\n",
              "      <td>0.0</td>\n",
              "      <td>0.0</td>\n",
              "      <td>0.0</td>\n",
              "      <td>0.0</td>\n",
              "      <td>0</td>\n",
              "      <td>0</td>\n",
              "      <td>0.0</td>\n",
              "      <td>0.0</td>\n",
              "      <td>0.0</td>\n",
              "      <td>0.0</td>\n",
              "      <td>0.0</td>\n",
              "      <td>0.0</td>\n",
              "      <td>0.0</td>\n",
              "      <td>0.0</td>\n",
              "      <td>0.0</td>\n",
              "      <td>0.0</td>\n",
              "      <td>0</td>\n",
              "      <td>0</td>\n",
              "      <td>0</td>\n",
              "      <td>0</td>\n",
              "      <td>1</td>\n",
              "      <td>0</td>\n",
              "      <td>0</td>\n",
              "      <td>0</td>\n",
              "      <td>0</td>\n",
              "      <td>0</td>\n",
              "      <td>0</td>\n",
              "      <td>0</td>\n",
              "      <td>0</td>\n",
              "      <td>0</td>\n",
              "      <td>0</td>\n",
              "      <td>0</td>\n",
              "      <td>0</td>\n",
              "      <td>0</td>\n",
              "      <td>0</td>\n",
              "      <td>0</td>\n",
              "      <td>...</td>\n",
              "      <td>0.00</td>\n",
              "      <td>0.00</td>\n",
              "      <td>0.00</td>\n",
              "      <td>0.0</td>\n",
              "      <td>0.0</td>\n",
              "      <td>0.0</td>\n",
              "      <td>0.0</td>\n",
              "      <td>0.0</td>\n",
              "      <td>0.0</td>\n",
              "      <td>0.0</td>\n",
              "      <td>0.0</td>\n",
              "      <td>0.0</td>\n",
              "      <td>0.0</td>\n",
              "      <td>0.0</td>\n",
              "      <td>0.0</td>\n",
              "      <td>0.0</td>\n",
              "      <td>0.0</td>\n",
              "      <td>0.0</td>\n",
              "      <td>0.0</td>\n",
              "      <td>0.0</td>\n",
              "      <td>0</td>\n",
              "      <td>0</td>\n",
              "      <td>0.0</td>\n",
              "      <td>0.0</td>\n",
              "      <td>0.0</td>\n",
              "      <td>0.0</td>\n",
              "      <td>0.0</td>\n",
              "      <td>0</td>\n",
              "      <td>0</td>\n",
              "      <td>0</td>\n",
              "      <td>0</td>\n",
              "      <td>0.0</td>\n",
              "      <td>0.0</td>\n",
              "      <td>0.0</td>\n",
              "      <td>0.0</td>\n",
              "      <td>0.0</td>\n",
              "      <td>0.0</td>\n",
              "      <td>0.0</td>\n",
              "      <td>0.0</td>\n",
              "      <td>187898.61</td>\n",
              "    </tr>\n",
              "    <tr>\n",
              "      <th>4</th>\n",
              "      <td>9</td>\n",
              "      <td>2</td>\n",
              "      <td>23</td>\n",
              "      <td>0.0</td>\n",
              "      <td>0.0</td>\n",
              "      <td>0.0</td>\n",
              "      <td>0.0</td>\n",
              "      <td>0.0</td>\n",
              "      <td>0</td>\n",
              "      <td>0</td>\n",
              "      <td>0.0</td>\n",
              "      <td>0.0</td>\n",
              "      <td>0.0</td>\n",
              "      <td>0.0</td>\n",
              "      <td>0.0</td>\n",
              "      <td>0.0</td>\n",
              "      <td>0.0</td>\n",
              "      <td>0.0</td>\n",
              "      <td>0.0</td>\n",
              "      <td>0.0</td>\n",
              "      <td>0</td>\n",
              "      <td>0</td>\n",
              "      <td>0</td>\n",
              "      <td>0</td>\n",
              "      <td>1</td>\n",
              "      <td>1</td>\n",
              "      <td>0</td>\n",
              "      <td>0</td>\n",
              "      <td>0</td>\n",
              "      <td>0</td>\n",
              "      <td>0</td>\n",
              "      <td>0</td>\n",
              "      <td>0</td>\n",
              "      <td>0</td>\n",
              "      <td>0</td>\n",
              "      <td>0</td>\n",
              "      <td>0</td>\n",
              "      <td>0</td>\n",
              "      <td>0</td>\n",
              "      <td>0</td>\n",
              "      <td>...</td>\n",
              "      <td>3.87</td>\n",
              "      <td>30.00</td>\n",
              "      <td>21.30</td>\n",
              "      <td>0.0</td>\n",
              "      <td>0.0</td>\n",
              "      <td>0.0</td>\n",
              "      <td>0.0</td>\n",
              "      <td>0.0</td>\n",
              "      <td>0.0</td>\n",
              "      <td>0.0</td>\n",
              "      <td>0.0</td>\n",
              "      <td>0.0</td>\n",
              "      <td>0.0</td>\n",
              "      <td>0.0</td>\n",
              "      <td>0.0</td>\n",
              "      <td>0.0</td>\n",
              "      <td>0.0</td>\n",
              "      <td>0.0</td>\n",
              "      <td>0.0</td>\n",
              "      <td>0.0</td>\n",
              "      <td>0</td>\n",
              "      <td>0</td>\n",
              "      <td>0.0</td>\n",
              "      <td>0.0</td>\n",
              "      <td>0.0</td>\n",
              "      <td>0.0</td>\n",
              "      <td>0.0</td>\n",
              "      <td>0</td>\n",
              "      <td>0</td>\n",
              "      <td>0</td>\n",
              "      <td>0</td>\n",
              "      <td>0.0</td>\n",
              "      <td>0.0</td>\n",
              "      <td>0.0</td>\n",
              "      <td>0.0</td>\n",
              "      <td>0.0</td>\n",
              "      <td>0.0</td>\n",
              "      <td>0.0</td>\n",
              "      <td>0.0</td>\n",
              "      <td>73649.73</td>\n",
              "    </tr>\n",
              "  </tbody>\n",
              "</table>\n",
              "<p>5 rows × 370 columns</p>\n",
              "</div>"
            ],
            "text/plain": [
              "   ID  var3  var15  ...  saldo_medio_var44_ult1  saldo_medio_var44_ult3      var38\n",
              "0   2     2     32  ...                     0.0                     0.0   40532.10\n",
              "1   5     2     35  ...                     0.0                     0.0   45486.72\n",
              "2   6     2     23  ...                     0.0                     0.0   46993.95\n",
              "3   7     2     24  ...                     0.0                     0.0  187898.61\n",
              "4   9     2     23  ...                     0.0                     0.0   73649.73\n",
              "\n",
              "[5 rows x 370 columns]"
            ]
          },
          "metadata": {},
          "execution_count": 22
        }
      ]
    },
    {
      "cell_type": "code",
      "metadata": {
        "trusted": true,
        "id": "ey_9Ve637yqh"
      },
      "source": [
        "# drop TARGET label from X_train\n",
        "\n",
        "X_train.drop(labels=['TARGET'], axis=1, inplace = True)"
      ],
      "execution_count": 23,
      "outputs": []
    },
    {
      "cell_type": "code",
      "metadata": {
        "trusted": true,
        "colab": {
          "base_uri": "https://localhost:8080/"
        },
        "id": "nTXOgx8v7yqi",
        "outputId": "95fc5004-aaab-4bc9-cda8-f2951562bc3b"
      },
      "source": [
        "# check shape of training and test sets\n",
        "\n",
        "X_train.shape, X_test.shape"
      ],
      "execution_count": 24,
      "outputs": [
        {
          "output_type": "execute_result",
          "data": {
            "text/plain": [
              "((35000, 370), (15000, 370))"
            ]
          },
          "metadata": {},
          "execution_count": 24
        }
      ]
    },
    {
      "cell_type": "markdown",
      "metadata": {
        "id": "SEgY9SeA7yqi"
      },
      "source": [
        "### **Importante**\n",
        "\n",
        "- Em todos os procedimentos de seleção de recursos, é uma boa prática selecionar os recursos examinando apenas o conjunto de treinamento. Isso é feito para evitar overfitting."
      ]
    },
    {
      "cell_type": "markdown",
      "metadata": {
        "id": "BI2ThM1I7yqj"
      },
      "source": [
        "### **Usando o limite de variância do sklearn**\n",
        "\n",
        "- O limite de variação do sklearn é uma abordagem simples de linha de base para a seleção de recursos. Ele remove todos os recursos cuja variação não atende a algum limite. Por padrão, ele remove todos os recursos de variação zero, ou seja, recursos que têm o mesmo valor em todas as amostras."
      ]
    },
    {
      "cell_type": "code",
      "metadata": {
        "trusted": true,
        "colab": {
          "base_uri": "https://localhost:8080/"
        },
        "id": "gfk6zmnN7yqj",
        "outputId": "7aaddbf0-35bb-4f5f-e52e-401013d3ccf1"
      },
      "source": [
        "# using sklearn variancethreshold para encontrar recursos constantes\n",
        "\n",
        "from sklearn.feature_selection import VarianceThreshold\n",
        "sel = VarianceThreshold(threshold=0)\n",
        "sel.fit(X_train)  # fit encontra os recursos com variação zero"
      ],
      "execution_count": 25,
      "outputs": [
        {
          "output_type": "execute_result",
          "data": {
            "text/plain": [
              "VarianceThreshold(threshold=0)"
            ]
          },
          "metadata": {},
          "execution_count": 25
        }
      ]
    },
    {
      "cell_type": "code",
      "metadata": {
        "trusted": true,
        "colab": {
          "base_uri": "https://localhost:8080/"
        },
        "id": "_e3tJiQP7yqj",
        "outputId": "1d6af45c-ffbe-4a07-cbf6-e72311de0f07"
      },
      "source": [
        "# get_support é um vetor booleano que indica quais recursos são retidos\n",
        "# se somarmos get_support, obtemos o número de recursos que não são constantes\n",
        "sum(sel.get_support())"
      ],
      "execution_count": 26,
      "outputs": [
        {
          "output_type": "execute_result",
          "data": {
            "text/plain": [
              "319"
            ]
          },
          "metadata": {},
          "execution_count": 26
        }
      ]
    },
    {
      "cell_type": "code",
      "metadata": {
        "trusted": true,
        "colab": {
          "base_uri": "https://localhost:8080/"
        },
        "id": "WfO5Ys2n7yqk",
        "outputId": "6d5e96df-456a-4074-dd34-786ce1b084d9"
      },
      "source": [
        "# maneira alternativa de encontrar recursos não constantes\n",
        "len(X_train.columns[sel.get_support()])"
      ],
      "execution_count": 27,
      "outputs": [
        {
          "output_type": "execute_result",
          "data": {
            "text/plain": [
              "319"
            ]
          },
          "metadata": {},
          "execution_count": 27
        }
      ]
    },
    {
      "cell_type": "code",
      "metadata": {
        "trusted": true,
        "colab": {
          "base_uri": "https://localhost:8080/"
        },
        "id": "S-LKzFsR7yqk",
        "outputId": "7bf4cf1f-8a50-4f1d-e858-d231a6c1e9c2"
      },
      "source": [
        "# imprime os recursos constantes\n",
        "print(\n",
        "    len([\n",
        "        x for x in X_train.columns\n",
        "        if x not in X_train.columns[sel.get_support()]\n",
        "    ]))\n",
        "\n",
        "[x for x in X_train.columns if x not in X_train.columns[sel.get_support()]]"
      ],
      "execution_count": 28,
      "outputs": [
        {
          "output_type": "stream",
          "name": "stdout",
          "text": [
            "51\n"
          ]
        },
        {
          "output_type": "execute_result",
          "data": {
            "text/plain": [
              "['ind_var2_0',\n",
              " 'ind_var2',\n",
              " 'ind_var18_0',\n",
              " 'ind_var18',\n",
              " 'ind_var27_0',\n",
              " 'ind_var28_0',\n",
              " 'ind_var28',\n",
              " 'ind_var27',\n",
              " 'ind_var34_0',\n",
              " 'ind_var34',\n",
              " 'ind_var41',\n",
              " 'ind_var46_0',\n",
              " 'ind_var46',\n",
              " 'num_var18_0',\n",
              " 'num_var18',\n",
              " 'num_var27_0',\n",
              " 'num_var28_0',\n",
              " 'num_var28',\n",
              " 'num_var27',\n",
              " 'num_var34_0',\n",
              " 'num_var34',\n",
              " 'num_var41',\n",
              " 'num_var46_0',\n",
              " 'num_var46',\n",
              " 'saldo_var18',\n",
              " 'saldo_var28',\n",
              " 'saldo_var27',\n",
              " 'saldo_var34',\n",
              " 'saldo_var41',\n",
              " 'saldo_var46',\n",
              " 'delta_imp_amort_var18_1y3',\n",
              " 'delta_imp_amort_var34_1y3',\n",
              " 'imp_amort_var18_hace3',\n",
              " 'imp_amort_var18_ult1',\n",
              " 'imp_amort_var34_hace3',\n",
              " 'imp_amort_var34_ult1',\n",
              " 'imp_reemb_var13_hace3',\n",
              " 'imp_reemb_var17_hace3',\n",
              " 'imp_reemb_var33_hace3',\n",
              " 'imp_trasp_var17_out_hace3',\n",
              " 'imp_trasp_var33_out_hace3',\n",
              " 'num_var2_0_ult1',\n",
              " 'num_var2_ult1',\n",
              " 'num_reemb_var13_hace3',\n",
              " 'num_reemb_var17_hace3',\n",
              " 'num_reemb_var33_hace3',\n",
              " 'num_trasp_var17_out_hace3',\n",
              " 'num_trasp_var33_out_hace3',\n",
              " 'saldo_var2_ult1',\n",
              " 'saldo_medio_var13_medio_hace3',\n",
              " 'saldo_medio_var29_hace3']"
            ]
          },
          "metadata": {},
          "execution_count": 28
        }
      ]
    },
    {
      "cell_type": "markdown",
      "metadata": {
        "id": "-Emg8Q007yql"
      },
      "source": [
        "- Podemos ver que existem 51 colunas / variáveis ​​que são constantes. Isso significa que 51 variáveis ​​apresentam o mesmo valor, apenas um valor, para todas as observações do conjunto de treinamento."
      ]
    },
    {
      "cell_type": "markdown",
      "metadata": {
        "id": "qVaRHHL77yql"
      },
      "source": [
        "Em seguida, usamos a função de transformação para reduzir os conjuntos de treinamento e teste."
      ]
    },
    {
      "cell_type": "code",
      "metadata": {
        "trusted": true,
        "id": "CY2us96Q7yql"
      },
      "source": [
        "# podemos então retirar essas colunas do trem e dos conjuntos de teste\n",
        "X_train = sel.transform(X_train)\n",
        "X_test = sel.transform(X_test)"
      ],
      "execution_count": 29,
      "outputs": []
    },
    {
      "cell_type": "code",
      "metadata": {
        "trusted": true,
        "colab": {
          "base_uri": "https://localhost:8080/"
        },
        "id": "R7m0pQLX7yqm",
        "outputId": "46899cd4-bb3f-4bde-a953-873ff1119a26"
      },
      "source": [
        "# check the shape of training and test set\n",
        "\n",
        "X_train.shape, X_test.shape"
      ],
      "execution_count": 30,
      "outputs": [
        {
          "output_type": "execute_result",
          "data": {
            "text/plain": [
              "((35000, 319), (15000, 319))"
            ]
          },
          "metadata": {},
          "execution_count": 30
        }
      ]
    },
    {
      "cell_type": "markdown",
      "metadata": {
        "id": "El_0p7p87yqm"
      },
      "source": [
        "- Podemos ver como removendo recursos constantes, conseguimos reduzir um pouco o espaço de recursos."
      ]
    },
    {
      "cell_type": "markdown",
      "metadata": {
        "id": "DHom_xA67yqm"
      },
      "source": [
        "## **2.1.2 Remove quasi-constant features - Remover recursos quase constantes** <a class=\"anchor\" id=\"2.1.2\"></a>\n",
        "\n",
        "- Características quase constantes são aquelas que apresentam o mesmo valor para a grande maioria das observações do conjunto de dados. Em geral, esses recursos fornecem pouca ou nenhuma informação que permita a um modelo de aprendizado de máquina discriminar ou prever um alvo. Mas pode haver exceções. Portanto, devemos ter cuidado ao remover esse tipo de recurso. Identificar e remover recursos quase constantes é uma primeira etapa fácil para a seleção de recursos e modelos de aprendizado de máquina mais facilmente interpretáveis."
      ]
    },
    {
      "cell_type": "code",
      "metadata": {
        "trusted": true,
        "id": "0uL_Alvc7yqm"
      },
      "source": [
        "# import the Santander customer satisfaction dataset from Kaggle\n",
        "\n",
        "X_train = pd.read_csv('/content/drive/MyDrive/Datasets/Santander_Costumer_train.csv', nrows=35000)\n",
        "\n",
        "X_test = pd.read_csv('/content/drive/MyDrive/Datasets/Santander_Costumer_test.csv', nrows=15000)"
      ],
      "execution_count": 31,
      "outputs": []
    },
    {
      "cell_type": "code",
      "metadata": {
        "trusted": true,
        "id": "c9zjjnlv7yqn"
      },
      "source": [
        "# drop TARGET label from X_train\n",
        "\n",
        "X_train.drop(labels=['TARGET'], axis=1, inplace = True)"
      ],
      "execution_count": 32,
      "outputs": []
    },
    {
      "cell_type": "code",
      "metadata": {
        "trusted": true,
        "colab": {
          "base_uri": "https://localhost:8080/"
        },
        "id": "-4MlEIGH7yqn",
        "outputId": "cb0ebfb5-531c-4660-e2ea-a997247cc233"
      },
      "source": [
        "# check shape of training and test sets\n",
        "\n",
        "X_train.shape, X_test.shape"
      ],
      "execution_count": 33,
      "outputs": [
        {
          "output_type": "execute_result",
          "data": {
            "text/plain": [
              "((35000, 370), (15000, 370))"
            ]
          },
          "metadata": {},
          "execution_count": 33
        }
      ]
    },
    {
      "cell_type": "markdown",
      "metadata": {
        "id": "on6VzirJ7yqo"
      },
      "source": [
        "### **Removing quasi-constant features**\n",
        "\n",
        "#### **Using variance threshold from sklearn - Usando o limite de variância do sklearn**\n",
        "\n",
        "- O limite de variação do sklearn é uma abordagem simples de linha de base para a seleção de recursos. Ele remove todos os recursos cuja variação não atende a algum limite. Por padrão, ele remove todos os recursos de variação zero, ou seja, recursos que têm o mesmo valor em todas as amostras.\n",
        "\n",
        "- Aqui, alterarei o limite padrão para remover recursos quase / quase constantes."
      ]
    },
    {
      "cell_type": "code",
      "metadata": {
        "trusted": true,
        "colab": {
          "base_uri": "https://localhost:8080/"
        },
        "id": "XVu8HIyi7yqo",
        "outputId": "359a368f-e296-4a63-cf52-c2713f49762d"
      },
      "source": [
        "sel = VarianceThreshold(threshold=0.01)  # 0.1 indica 99% das observações aproximadamente\n",
        "\n",
        "sel.fit(X_train)  # fit encontra os recursos com baixa variação"
      ],
      "execution_count": 35,
      "outputs": [
        {
          "output_type": "execute_result",
          "data": {
            "text/plain": [
              "VarianceThreshold(threshold=0.01)"
            ]
          },
          "metadata": {},
          "execution_count": 35
        }
      ]
    },
    {
      "cell_type": "code",
      "metadata": {
        "trusted": true,
        "colab": {
          "base_uri": "https://localhost:8080/"
        },
        "id": "g3FHgbbT7yqo",
        "outputId": "1b81b50e-7710-42cb-909d-0b24398c606e"
      },
      "source": [
        "# get_support é um vetor booleano que indica quais recursos\n",
        "# são retidos. Se somarmos get_support, obtemos o número\n",
        "# de recursos que não são quase constantes\n",
        "sum(sel.get_support())"
      ],
      "execution_count": 36,
      "outputs": [
        {
          "output_type": "execute_result",
          "data": {
            "text/plain": [
              "263"
            ]
          },
          "metadata": {},
          "execution_count": 36
        }
      ]
    },
    {
      "cell_type": "code",
      "metadata": {
        "trusted": true,
        "colab": {
          "base_uri": "https://localhost:8080/"
        },
        "id": "UMPePNc97yqo",
        "outputId": "628c6dd5-e2a4-4f71-ed71-44226404dc81"
      },
      "source": [
        "# forma alternativa de fazer a operação acima:\n",
        "len(X_train.columns[sel.get_support()])"
      ],
      "execution_count": 38,
      "outputs": [
        {
          "output_type": "execute_result",
          "data": {
            "text/plain": [
              "263"
            ]
          },
          "metadata": {},
          "execution_count": 38
        }
      ]
    },
    {
      "cell_type": "code",
      "metadata": {
        "trusted": true,
        "colab": {
          "base_uri": "https://localhost:8080/"
        },
        "id": "Fj3h5pXJ7yqp",
        "outputId": "42a99352-6168-4ec4-95d1-d25ff597cdd9"
      },
      "source": [
        "# finalmente podemos imprimir os recursos quase constantes\n",
        "print(\n",
        "    len([\n",
        "        x for x in X_train.columns\n",
        "        if x not in X_train.columns[sel.get_support()]\n",
        "    ]))\n",
        "\n",
        "[x for x in X_train.columns if x not in X_train.columns[sel.get_support()]]"
      ],
      "execution_count": 39,
      "outputs": [
        {
          "output_type": "stream",
          "name": "stdout",
          "text": [
            "107\n"
          ]
        },
        {
          "output_type": "execute_result",
          "data": {
            "text/plain": [
              "['ind_var1',\n",
              " 'ind_var2_0',\n",
              " 'ind_var2',\n",
              " 'ind_var6_0',\n",
              " 'ind_var6',\n",
              " 'ind_var13_largo',\n",
              " 'ind_var13_medio_0',\n",
              " 'ind_var13_medio',\n",
              " 'ind_var14',\n",
              " 'ind_var17_0',\n",
              " 'ind_var17',\n",
              " 'ind_var18_0',\n",
              " 'ind_var18',\n",
              " 'ind_var19',\n",
              " 'ind_var20_0',\n",
              " 'ind_var20',\n",
              " 'ind_var27_0',\n",
              " 'ind_var28_0',\n",
              " 'ind_var28',\n",
              " 'ind_var27',\n",
              " 'ind_var29_0',\n",
              " 'ind_var29',\n",
              " 'ind_var30_0',\n",
              " 'ind_var31_0',\n",
              " 'ind_var31',\n",
              " 'ind_var32_cte',\n",
              " 'ind_var32_0',\n",
              " 'ind_var32',\n",
              " 'ind_var33_0',\n",
              " 'ind_var33',\n",
              " 'ind_var34_0',\n",
              " 'ind_var34',\n",
              " 'ind_var40',\n",
              " 'ind_var41',\n",
              " 'ind_var39',\n",
              " 'ind_var44_0',\n",
              " 'ind_var44',\n",
              " 'ind_var46_0',\n",
              " 'ind_var46',\n",
              " 'num_var6_0',\n",
              " 'num_var6',\n",
              " 'num_var13_medio_0',\n",
              " 'num_var13_medio',\n",
              " 'num_var18_0',\n",
              " 'num_var18',\n",
              " 'num_op_var40_hace3',\n",
              " 'num_var27_0',\n",
              " 'num_var28_0',\n",
              " 'num_var28',\n",
              " 'num_var27',\n",
              " 'num_var29_0',\n",
              " 'num_var29',\n",
              " 'num_var33',\n",
              " 'num_var34_0',\n",
              " 'num_var34',\n",
              " 'num_var41',\n",
              " 'num_var46_0',\n",
              " 'num_var46',\n",
              " 'saldo_var18',\n",
              " 'saldo_var28',\n",
              " 'saldo_var27',\n",
              " 'saldo_var34',\n",
              " 'saldo_var41',\n",
              " 'saldo_var46',\n",
              " 'delta_imp_amort_var18_1y3',\n",
              " 'delta_imp_amort_var34_1y3',\n",
              " 'delta_imp_aport_var33_1y3',\n",
              " 'delta_num_aport_var33_1y3',\n",
              " 'imp_amort_var18_hace3',\n",
              " 'imp_amort_var18_ult1',\n",
              " 'imp_amort_var34_hace3',\n",
              " 'imp_amort_var34_ult1',\n",
              " 'imp_reemb_var13_hace3',\n",
              " 'imp_reemb_var17_hace3',\n",
              " 'imp_reemb_var33_hace3',\n",
              " 'imp_trasp_var17_out_hace3',\n",
              " 'imp_trasp_var33_out_hace3',\n",
              " 'ind_var7_emit_ult1',\n",
              " 'ind_var7_recib_ult1',\n",
              " 'num_var2_0_ult1',\n",
              " 'num_var2_ult1',\n",
              " 'num_aport_var33_hace3',\n",
              " 'num_aport_var33_ult1',\n",
              " 'num_var7_emit_ult1',\n",
              " 'num_meses_var13_medio_ult3',\n",
              " 'num_meses_var17_ult3',\n",
              " 'num_meses_var29_ult3',\n",
              " 'num_meses_var33_ult3',\n",
              " 'num_meses_var44_ult3',\n",
              " 'num_reemb_var13_hace3',\n",
              " 'num_reemb_var13_ult1',\n",
              " 'num_reemb_var17_hace3',\n",
              " 'num_reemb_var17_ult1',\n",
              " 'num_reemb_var33_hace3',\n",
              " 'num_reemb_var33_ult1',\n",
              " 'num_trasp_var17_in_hace3',\n",
              " 'num_trasp_var17_in_ult1',\n",
              " 'num_trasp_var17_out_hace3',\n",
              " 'num_trasp_var17_out_ult1',\n",
              " 'num_trasp_var33_in_hace3',\n",
              " 'num_trasp_var33_in_ult1',\n",
              " 'num_trasp_var33_out_hace3',\n",
              " 'num_trasp_var33_out_ult1',\n",
              " 'num_venta_var44_hace3',\n",
              " 'saldo_var2_ult1',\n",
              " 'saldo_medio_var13_medio_hace3',\n",
              " 'saldo_medio_var29_hace3']"
            ]
          },
          "metadata": {},
          "execution_count": 39
        }
      ]
    },
    {
      "cell_type": "markdown",
      "metadata": {
        "id": "DiYUGzNu7yqp"
      },
      "source": [
        "- Podemos ver que 107 colunas / variáveis ​​são quase constantes. Isso significa que 107 variáveis ​​mostram predominantemente um valor para ~ 99% das observações do conjunto de treinamento."
      ]
    },
    {
      "cell_type": "code",
      "metadata": {
        "trusted": true,
        "colab": {
          "base_uri": "https://localhost:8080/"
        },
        "id": "2j-dDl9e7yqp",
        "outputId": "c2258eb5-bfb8-4062-bdba-c0c4ecf4a47f"
      },
      "source": [
        "# porcentagem de observações mostrando cada um dos diferentes valores\n",
        "X_train['ind_var31'].value_counts() / np.float(len(X_train))"
      ],
      "execution_count": 40,
      "outputs": [
        {
          "output_type": "execute_result",
          "data": {
            "text/plain": [
              "0    0.996286\n",
              "1    0.003714\n",
              "Name: ind_var31, dtype: float64"
            ]
          },
          "metadata": {},
          "execution_count": 40
        }
      ]
    },
    {
      "cell_type": "markdown",
      "metadata": {
        "id": "6w6jmB-Y7yqq"
      },
      "source": [
        "- Podemos ver que> 99% das observações mostram um valor, 0. Portanto, esse recurso é quase constante."
      ]
    },
    {
      "cell_type": "code",
      "metadata": {
        "trusted": true,
        "id": "oi-K_HO97yqq"
      },
      "source": [
        "# podemos então remover os recursos do conjunto de treinamento e teste\n",
        "X_train = sel.transform(X_train)\n",
        "X_test = sel.transform(X_test)"
      ],
      "execution_count": 41,
      "outputs": []
    },
    {
      "cell_type": "code",
      "metadata": {
        "trusted": true,
        "colab": {
          "base_uri": "https://localhost:8080/"
        },
        "id": "6iXYbL4f7yqq",
        "outputId": "028081bd-6411-43d8-9a6d-a1917b0048f0"
      },
      "source": [
        "# verificar a forma de treinamento e conjunto de teste\n",
        "X_train.shape, X_test.shape"
      ],
      "execution_count": 42,
      "outputs": [
        {
          "output_type": "execute_result",
          "data": {
            "text/plain": [
              "((35000, 263), (15000, 263))"
            ]
          },
          "metadata": {},
          "execution_count": 42
        }
      ]
    },
    {
      "cell_type": "markdown",
      "metadata": {
        "id": "bbIN0oyi7yqq"
      },
      "source": [
        "- Ao remover recursos constantes e quase constantes, reduzimos o espaço de recursos de 370 para 263. Podemos ver que mais de 100 recursos foram removidos do conjunto de dados atual."
      ]
    },
    {
      "cell_type": "markdown",
      "metadata": {
        "id": "SWmOiM427yqr"
      },
      "source": [
        "## **2.2 Univariate selection methods - Métodos de seleção univariada** <a class=\"anchor\" id=\"2.2\"></a>\n",
        "\n",
        "- Os métodos de seleção de recursos univariados funcionam selecionando os melhores recursos com base em testes estatísticos univariados como ANOVA. Pode ser visto como uma etapa de pré-processamento para um estimador. O Scikit-learn expõe rotinas de seleção de recursos como objetos que implementam o método de transformação.\n",
        "\n",
        "- Os métodos baseados no F-test estimam o grau de dependência linear entre duas variáveis ​​aleatórias. Eles assumem uma relação linear entre o recurso e o destino. Esses métodos também assumem que as variáveis ​​seguem uma distribuição gaussiana.\n",
        "\n",
        "- Existem 4 métodos que se enquadram nesta categoria:\n",
        "\n",
        "  1. SelectKBest\n",
        "  2. SelectPercentile\n",
        "  3. SelectFpr, SelectFdr, or family wise error SelectFwe\n",
        "  4. GenericUnivariateSelection\n",
        "  \n",
        "Fonte: https://scikit-learn.org/stable/modules/feature_selection.html\n",
        "\n",
        "\n",
        "- Aqui, vou limitar a discussão a SelectKBest e SelectPercentile, porque esses dois são mais comumente usados ​​na prática."
      ]
    },
    {
      "cell_type": "markdown",
      "metadata": {
        "id": "eE-22r1p7yqr"
      },
      "source": [
        "## **2.2.1 SelectKBest** <a class=\"anchor\" id=\"2.2.1\"></a>\n",
        "\n",
        "- Este método seleciona recursos de acordo com as k pontuações mais altas.\n",
        "\n",
        "- Por exemplo, podemos realizar um teste qui-quadrado para as amostras para recuperar apenas as duas melhores características do conjunto de dados da íris da seguinte forma:\n",
        "\n",
        "Fonte: https://scikit-learn.org/stable/modules/feature_selection.html\n",
        "\n",
        "https://scikit-learn.org/stable/modules/generated/sklearn.feature_selection.SelectKBest.html#sklearn.feature_selection.SelectKBest"
      ]
    },
    {
      "cell_type": "code",
      "metadata": {
        "trusted": true,
        "colab": {
          "base_uri": "https://localhost:8080/"
        },
        "id": "9mhFLm3u7yqr",
        "outputId": "7a7bd663-9b26-4fdd-b586-916e99b9d03b"
      },
      "source": [
        "from sklearn.datasets import load_iris\n",
        "from sklearn.feature_selection import SelectKBest, chi2\n",
        "X, y = load_iris(return_X_y=True)\n",
        "X.shape"
      ],
      "execution_count": 1,
      "outputs": [
        {
          "output_type": "execute_result",
          "data": {
            "text/plain": [
              "(150, 4)"
            ]
          },
          "metadata": {},
          "execution_count": 1
        }
      ]
    },
    {
      "cell_type": "code",
      "metadata": {
        "trusted": true,
        "colab": {
          "base_uri": "https://localhost:8080/"
        },
        "id": "wv_T3qTg7yqr",
        "outputId": "e9cf988c-1f36-4d93-ff54-24e19ea1036a"
      },
      "source": [
        "# select the two best features\n",
        "X_new = SelectKBest(chi2, k=2).fit_transform(X, y)\n",
        "X_new.shape"
      ],
      "execution_count": 2,
      "outputs": [
        {
          "output_type": "execute_result",
          "data": {
            "text/plain": [
              "(150, 2)"
            ]
          },
          "metadata": {},
          "execution_count": 2
        }
      ]
    },
    {
      "cell_type": "markdown",
      "metadata": {
        "id": "4Dww_pO47yqr"
      },
      "source": [
        "- Assim, selecionamos as duas melhores características do conjunto de dados da íris."
      ]
    },
    {
      "cell_type": "markdown",
      "metadata": {
        "trusted": true,
        "id": "d7iwMfZL7yqs"
      },
      "source": [
        "## **2.2.2 SelectPercentile** <a class=\"anchor\" id=\"2.2.2\"></a>\n",
        "\n",
        "\n",
        "- Selecione recursos de acordo com um percentual das pontuações mais altas.\n",
        "\n",
        "Fonte: https://scikit-learn.org/stable/modules/generated/sklearn.feature_selection.SelectPercentile.html#sklearn.feature_selection.SelectPercentile"
      ]
    },
    {
      "cell_type": "code",
      "metadata": {
        "trusted": true,
        "colab": {
          "base_uri": "https://localhost:8080/"
        },
        "id": "nbITq7Z47yqs",
        "outputId": "7917ebdb-8ea7-4bc3-956b-cc68e4e30656"
      },
      "source": [
        "from sklearn.datasets import load_digits\n",
        "from sklearn.feature_selection import SelectPercentile, chi2\n",
        "X, y = load_digits(return_X_y=True)\n",
        "X.shape\n"
      ],
      "execution_count": 3,
      "outputs": [
        {
          "output_type": "execute_result",
          "data": {
            "text/plain": [
              "(1797, 64)"
            ]
          },
          "metadata": {},
          "execution_count": 3
        }
      ]
    },
    {
      "cell_type": "code",
      "metadata": {
        "trusted": true,
        "colab": {
          "base_uri": "https://localhost:8080/"
        },
        "id": "hc5OxC-L7yqs",
        "outputId": "751a40e4-31ea-4f52-f534-622a900b14b9"
      },
      "source": [
        "# now select features based on top 10 percentile\n",
        "X_new = SelectPercentile(chi2, percentile=10).fit_transform(X, y)\n",
        "X_new.shape"
      ],
      "execution_count": 4,
      "outputs": [
        {
          "output_type": "execute_result",
          "data": {
            "text/plain": [
              "(1797, 7)"
            ]
          },
          "metadata": {},
          "execution_count": 4
        }
      ]
    },
    {
      "cell_type": "markdown",
      "metadata": {
        "id": "dBwKS4C57yqs"
      },
      "source": [
        "- Podemos ver que apenas 7 recursos estão no percentil 10 e, portanto, os selecionamos de acordo."
      ]
    },
    {
      "cell_type": "markdown",
      "metadata": {
        "id": "vVjB6cn37yqs"
      },
      "source": [
        "## **Infromações importantes**\n",
        "\n",
        "- Esses objetos tomam como entrada uma função de pontuação que retorna pontuações e valores p univariados (or only scores for [SelectKBest](https://scikit-learn.org/stable/modules/generated/sklearn.feature_selection.SelectKBest.html#sklearn.feature_selection.SelectKBest) and [SelectPercentile](https://scikit-learn.org/stable/modules/generated/sklearn.feature_selection.SelectPercentile.html#sklearn.feature_selection.SelectPercentile):\n",
        "\n",
        "\n",
        "- For regression tasks: [f_regression](https://scikit-learn.org/stable/modules/generated/sklearn.feature_selection.f_regression.html#sklearn.feature_selection.f_regression), [mutual_info_regression](https://scikit-learn.org/stable/modules/generated/sklearn.feature_selection.mutual_info_regression.html#sklearn.feature_selection.mutual_info_regression)\n",
        "\n",
        "- For classification tasks: [chi2](https://scikit-learn.org/stable/modules/generated/sklearn.feature_selection.chi2.html#sklearn.feature_selection.chi2), \n",
        "[f_classif](https://scikit-learn.org/stable/modules/generated/sklearn.feature_selection.f_classif.html#sklearn.feature_selection.f_classif), [mutual_info_classif](https://scikit-learn.org/stable/modules/generated/sklearn.feature_selection.mutual_info_classif.html#sklearn.feature_selection.mutual_info_classif)\n",
        "\n",
        "Os métodos baseados no teste F estimam o grau de dependência linear entre duas variáveis ​​aleatórias. Por outro lado, os métodos de informação mútua podem capturar qualquer tipo de dependência estatística, mas sendo não paramétricos, eles requerem mais amostras para uma estimativa precisa."
      ]
    },
    {
      "cell_type": "markdown",
      "metadata": {
        "id": "AUww9-Cn7yqt"
      },
      "source": [
        "## **Seleção de recursos com dados esparsos**\n",
        "\n",
        "- Se você usar dados esparsos (ou seja, dados representados como matrizes esparsas), [chi2](https://scikit-learn.org/stable/modules/generated/sklearn.feature_selection.chi2.html#sklearn.feature_selection.chi2), [mutual_info_regression](https://scikit-learn.org/stable/modules/generated/sklearn.feature_selection.mutual_info_regression.html#sklearn.feature_selection.mutual_info_regression), [mutual_info_classif](https://scikit-learn.org/stable/modules/generated/sklearn.feature_selection.mutual_info_classif.html#sklearn.feature_selection.mutual_info_classif) lidará com os dados sem torná-los densos.\n",
        "\n",
        "Source : https://scikit-learn.org/stable/modules/feature_selection.html"
      ]
    },
    {
      "cell_type": "markdown",
      "metadata": {
        "id": "Xcu9vZGd7yqt"
      },
      "source": [
        "## **Aviso**\n",
        "\n",
        "- Cuidado para não usar uma função de pontuação de regressão com um problema de classificação, você obterá resultados inúteis."
      ]
    },
    {
      "cell_type": "markdown",
      "metadata": {
        "trusted": true,
        "id": "McQP27Hi7yqt"
      },
      "source": [
        "## **2.3 Information Gain** <a class=\"anchor\" id=\"2.3\"></a>\n",
        "\n",
        "\n",
        "- **Ganho de informação** ou **informação mútua** mede quanta informação a presença / ausência de um recurso contribui para fazer a previsão correta no alvo.\n",
        "\n",
        "\n",
        "- Em termos de [wikipedia] (https://en.wikipedia.org/wiki/Mutual_information):\n",
        "\n",
        "\n",
        "   - **As informações mútuas medem as informações que X e Y compartilham: medem o quanto o conhecimento de uma dessas variáveis ​​reduz a incerteza sobre a outra. Por exemplo, se X e Y são independentes, saber X não fornece nenhuma informação sobre Y e vice-versa, portanto, suas informações mútuas são zero. No outro extremo, se X é uma função determinística de Y e Y é uma função determinística de X, então todas as informações transmitidas por X são compartilhadas com Y: saber X determina o valor de Y e vice-versa. Como resultado, neste caso, a informação mútua é igual à incerteza contida apenas em Y (ou X), ou seja, a entropia de Y (ou X). Além disso, essa informação mútua é a mesma que a entropia de X e a entropia de Y. (Um caso muito especial disso é quando X e Y são a mesma variável aleatória.)**\n"
      ]
    },
    {
      "cell_type": "markdown",
      "metadata": {
        "id": "cqYQLqPM7yqt"
      },
      "source": [
        "## **mutual_info_classif**\n",
        "\n",
        "\n",
        "- Ele estima informações mútuas para uma variável de destino discreta.\n",
        "\n",
        "- A informação mútua (MI) entre duas variáveis ​​aleatórias é um valor não negativo, que mede a dependência entre as variáveis. É igual a zero se e somente se duas variáveis ​​aleatórias são independentes, e valores mais altos significam maior dependência.\n",
        "\n",
        "- Esta função depende de métodos não paramétricos baseados na estimativa de entropia a partir de distâncias k-vizinhos mais próximos.\n",
        "\n",
        "- Pode ser usado para seleção univariada de recursos.\n",
        "\n",
        "- Fonte:\n",
        "\n",
        "https://scikit-learn.org/stable/modules/generated/sklearn.feature_selection.mutual_info_classif.html#sklearn.feature_selection.mutual_info_classif"
      ]
    },
    {
      "cell_type": "markdown",
      "metadata": {
        "id": "QvSP7W6c7yqt"
      },
      "source": [
        "## **mutual_info_regression**\n",
        "\n",
        "- Estimar informações mútuas para uma variável de destino contínua.\n",
        "\n",
        "- A informação mútua (MI) entre duas variáveis ​​aleatórias é um valor não negativo, que mede a dependência entre as variáveis. É igual a zero se e somente se duas variáveis ​​aleatórias são independentes, e valores mais altos significam maior dependência.\n",
        "\n",
        "- A função depende de métodos não paramétricos baseados na estimativa de entropia a partir de distâncias k-vizinhos mais próximos.\n",
        "\n",
        "- Pode ser usado para seleção univariada de recursos\n",
        "\n",
        "- Fonte:\n",
        "\n",
        "https://scikit-learn.org/stable/modules/generated/sklearn.feature_selection.mutual_info_regression.html#sklearn.feature_selection.mutual_info_regression"
      ]
    },
    {
      "cell_type": "markdown",
      "metadata": {
        "trusted": true,
        "id": "vNST3XOy7yqt"
      },
      "source": [
        "## **2.4 Fisher Score (chi-square implementation)** <a class=\"anchor\" id=\"2.4\"></a>\n",
        "\n",
        "\n",
        "- É a **implementação qui-quadrado** no scikit-learn. Ele calcula estatísticas qui-quadradas entre cada característica e classe não negativa.\n",
        "\n",
        "- Esta pontuação deve ser usada para avaliar variáveis ​​categóricas em uma tarefa de classificação. Ele compara a distribuição observada das diferentes classes de destino Y entre as diferentes categorias do recurso, contra a distribuição esperada das classes de destino, independentemente das categorias de recurso.\n"
      ]
    },
    {
      "cell_type": "code",
      "metadata": {
        "trusted": true,
        "id": "6eDJMAYs7yqu"
      },
      "source": [
        "# load libraries\n",
        "from sklearn.datasets import load_iris\n",
        "from sklearn.feature_selection import SelectKBest, chi2"
      ],
      "execution_count": 5,
      "outputs": []
    },
    {
      "cell_type": "code",
      "metadata": {
        "trusted": true,
        "id": "t1CqDll17yqu"
      },
      "source": [
        "# Carregar dados\n",
        "# carregar dados da íris\n",
        "iris = load_iris()\n",
        "\n",
        "# criar recursos e destino\n",
        "X = iris.data\n",
        "y = iris.target\n",
        "\n",
        "\n",
        "# converter em dados categóricos, convertendo dados em inteiros\n",
        "X = X.astype(int)"
      ],
      "execution_count": 6,
      "outputs": []
    },
    {
      "cell_type": "code",
      "metadata": {
        "trusted": true,
        "id": "3kgsdY9F7yqu"
      },
      "source": [
        "# Compare as estatísticas do qui-quadrado\n",
        "# seleciona dois recursos com estatísticas de qui-quadrado mais altas\n",
        "chi2_selector = SelectKBest(chi2, k=2)\n",
        "X_kbest = chi2_selector.fit_transform(X, y)"
      ],
      "execution_count": 7,
      "outputs": []
    },
    {
      "cell_type": "code",
      "metadata": {
        "trusted": true,
        "colab": {
          "base_uri": "https://localhost:8080/"
        },
        "id": "nOeRl9Tf7yqu",
        "outputId": "e2d464fd-5bf1-4914-ea6b-b686c8299438"
      },
      "source": [
        "# View results\n",
        "print('Original number of features:', X.shape[1])\n",
        "print('Reduced number of features:', X_kbest.shape[1])"
      ],
      "execution_count": 8,
      "outputs": [
        {
          "output_type": "stream",
          "name": "stdout",
          "text": [
            "Original number of features: 4\n",
            "Reduced number of features: 2\n"
          ]
        }
      ]
    },
    {
      "cell_type": "markdown",
      "metadata": {
        "trusted": true,
        "id": "xnZbDJRY7yqv"
      },
      "source": [
        "- Podemos ver que o código acima nos ajuda a selecionar os 2 melhores recursos com base na pontuação de Fisher."
      ]
    },
    {
      "cell_type": "markdown",
      "metadata": {
        "id": "cRMqGvWy7yqv"
      },
      "source": [
        "## **2.5 ANOVA F-value For Feature Selection**  <a class=\"anchor\" id=\"2.5\"></a>\n",
        "\n",
        "- Calcule o valor ANOVA F para a amostra fornecida.\n",
        "\n",
        "- Se os recursos forem categóricos, calcularemos uma estatística qui-quadrado entre cada recurso e o vetor de destino. No entanto, se os recursos forem quantitativos, calcularemos o valor ANOVA F entre cada recurso e o vetor de destino.\n",
        "\n",
        "- As pontuações do valor F examinam se, quando agrupamos a característica numérica pelo vetor alvo, as médias para cada grupo são significativamente diferentes."
      ]
    },
    {
      "cell_type": "code",
      "metadata": {
        "trusted": true,
        "id": "ylv-CyHS7yqv"
      },
      "source": [
        "# Load libraries\n",
        "from sklearn.datasets import load_iris\n",
        "from sklearn.feature_selection import SelectKBest\n",
        "from sklearn.feature_selection import f_classif"
      ],
      "execution_count": 9,
      "outputs": []
    },
    {
      "cell_type": "code",
      "metadata": {
        "trusted": true,
        "id": "cgo3I_M87yqv"
      },
      "source": [
        "# Load iris data\n",
        "iris = load_iris()\n",
        "\n",
        "# Create features and target\n",
        "X = iris.data\n",
        "y = iris.target"
      ],
      "execution_count": 10,
      "outputs": []
    },
    {
      "cell_type": "code",
      "metadata": {
        "trusted": true,
        "id": "4oQdwtLS7yqw"
      },
      "source": [
        "# Select Features With Best ANOVA F-Values\n",
        "\n",
        "# Create an SelectKBest object to select features with two best ANOVA F-Values\n",
        "fvalue_selector = SelectKBest(f_classif, k=2)\n",
        "\n",
        "# Apply the SelectKBest object to the features and target\n",
        "X_kbest = fvalue_selector.fit_transform(X, y)"
      ],
      "execution_count": 11,
      "outputs": []
    },
    {
      "cell_type": "code",
      "metadata": {
        "trusted": true,
        "colab": {
          "base_uri": "https://localhost:8080/"
        },
        "id": "a3p9GRB97yqw",
        "outputId": "ded89bea-9642-4a7d-b241-4354028f2fb0"
      },
      "source": [
        "# View results\n",
        "print('Original number of features:', X.shape[1])\n",
        "print('Reduced number of features:', X_kbest.shape[1])"
      ],
      "execution_count": 12,
      "outputs": [
        {
          "output_type": "stream",
          "name": "stdout",
          "text": [
            "Original number of features: 4\n",
            "Reduced number of features: 2\n"
          ]
        }
      ]
    },
    {
      "cell_type": "markdown",
      "metadata": {
        "id": "DyuEdwf77yqw"
      },
      "source": [
        "- Podemos ver que o código acima nos ajuda a selecionar os 2 melhores recursos com base no ANOVA F-Value."
      ]
    },
    {
      "cell_type": "markdown",
      "metadata": {
        "id": "DMP7VtEp7yqw"
      },
      "source": [
        "## **2.6 Correlation-Matrix with Heatmap** <a class=\"anchor\" id=\"2.6\"></a>\n",
        "\n",
        "- **Correlação** é uma medida da relação linear de 2 ou mais variáveis. Por meio da correlação, podemos prever uma variável a partir da outra.\n",
        "\n",
        "- **Boas variáveis ​​são altamente correlacionadas com o alvo**.\n",
        "\n",
        "- As variáveis ​​preditoras correlacionadas fornecem informações redundantes.\n",
        "\n",
        "- **As variáveis ​​devem ser correlacionadas com o alvo, mas não correlacionadas entre si**.\n",
        "\n",
        "\n",
        "- A seleção de recursos de correlação avalia subconjuntos de recursos com base na seguinte hipótese:\n",
        "\n",
        "   - \"Bons subconjuntos de recursos contêm recursos altamente correlacionados com o destino, mas não correlacionados entre si\".\n",
        "   \n",
        "   \n",
        "- Nesta seção, demonstrarei como selecionar recursos com base na correlação entre dois recursos. Podemos encontrar recursos que estão correlacionados uns com os outros. Ao identificar esses recursos, podemos decidir quais recursos queremos manter e quais queremos remover.\n"
      ]
    },
    {
      "cell_type": "markdown",
      "metadata": {
        "id": "HIN9gm_W7yqw"
      },
      "source": [
        "- Usando a correlação de Pearson, nossos valores de coeficiente retornados irão variar entre -1 e 1.\n",
        "\n",
        "- Se a correlação entre dois recursos for 0, isso significa que alterar qualquer um desses dois recursos não afetará o outro.\n",
        "\n",
        "- Se a correlação entre dois recursos for maior que 0, isso significa que aumentar os valores em um recurso aumentará também os valores no outro recurso (quanto mais próximo o coeficiente de correlação for de 1 e mais forte será este vínculo entre as duas características diferentes).\n",
        "\n",
        "- Se a correlação entre dois recursos for menor que 0, isso significa que aumentar os valores em um recurso fará diminuir os valores no outro recurso (quanto mais próximo o coeficiente de correlação for de -1 e mais forte será esta relação entre as duas características diferentes).\n",
        "\n",
        "- Nesta análise iremos verificar se as variáveis ​​selecionadas são altamente correlacionadas entre si. Se forem, precisaríamos manter apenas um dos correlacionados e descartar os outros."
      ]
    },
    {
      "cell_type": "code",
      "metadata": {
        "trusted": true,
        "id": "_UYvSJNv7yqx"
      },
      "source": [
        "# Load iris data\n",
        "from sklearn.datasets import load_iris\n",
        "iris = load_iris()\n",
        "\n",
        "# Create features and target\n",
        "X = iris.data\n",
        "y = iris.target"
      ],
      "execution_count": 13,
      "outputs": []
    },
    {
      "cell_type": "code",
      "metadata": {
        "trusted": true,
        "colab": {
          "base_uri": "https://localhost:8080/"
        },
        "id": "FwvXVFob7yqx",
        "outputId": "acd3ab75-ac70-48cb-defc-662551a00433"
      },
      "source": [
        "# Convert feature matrix into DataFrame\n",
        "df = pd.DataFrame(X)\n",
        "\n",
        "# View the data frame\n",
        "print(df)"
      ],
      "execution_count": 16,
      "outputs": [
        {
          "output_type": "stream",
          "name": "stdout",
          "text": [
            "       0    1    2    3\n",
            "0    5.1  3.5  1.4  0.2\n",
            "1    4.9  3.0  1.4  0.2\n",
            "2    4.7  3.2  1.3  0.2\n",
            "3    4.6  3.1  1.5  0.2\n",
            "4    5.0  3.6  1.4  0.2\n",
            "..   ...  ...  ...  ...\n",
            "145  6.7  3.0  5.2  2.3\n",
            "146  6.3  2.5  5.0  1.9\n",
            "147  6.5  3.0  5.2  2.0\n",
            "148  6.2  3.4  5.4  2.3\n",
            "149  5.9  3.0  5.1  1.8\n",
            "\n",
            "[150 rows x 4 columns]\n"
          ]
        }
      ]
    },
    {
      "cell_type": "code",
      "metadata": {
        "trusted": true,
        "colab": {
          "base_uri": "https://localhost:8080/"
        },
        "id": "dNdWBpDn7yqx",
        "outputId": "e012b187-6d1f-4332-8374-f61bcb86bc1f"
      },
      "source": [
        "# Create correlation matrix\n",
        "corr_matrix = df.corr()\n",
        "print(corr_matrix)"
      ],
      "execution_count": 17,
      "outputs": [
        {
          "output_type": "stream",
          "name": "stdout",
          "text": [
            "          0         1         2         3\n",
            "0  1.000000 -0.117570  0.871754  0.817941\n",
            "1 -0.117570  1.000000 -0.428440 -0.366126\n",
            "2  0.871754 -0.428440  1.000000  0.962865\n",
            "3  0.817941 -0.366126  0.962865  1.000000\n"
          ]
        }
      ]
    },
    {
      "cell_type": "code",
      "metadata": {
        "trusted": true,
        "colab": {
          "base_uri": "https://localhost:8080/",
          "height": 392
        },
        "id": "e8oTd3OY7yqx",
        "outputId": "65f0de27-de46-474c-d934-54c4cc0ecd95"
      },
      "source": [
        "# Create correlation heatmap\n",
        "plt.figure(figsize=(8,6))\n",
        "plt.title('Correlation Heatmap of Iris Dataset')\n",
        "a = sns.heatmap(corr_matrix, square=True, annot=True, fmt='.2f', linecolor='black')\n",
        "a.set_xticklabels(a.get_xticklabels(), rotation=30)\n",
        "a.set_yticklabels(a.get_yticklabels(), rotation=30)           \n",
        "plt.show()    \n"
      ],
      "execution_count": 18,
      "outputs": [
        {
          "output_type": "display_data",
          "data": {
            "image/png": "[encoded data removed]",
            "text/plain": [
              "<Figure size 576x432 with 2 Axes>"
            ]
          },
          "metadata": {
            "needs_background": "light"
          }
        }
      ]
    },
    {
      "cell_type": "code",
      "metadata": {
        "trusted": true,
        "colab": {
          "base_uri": "https://localhost:8080/",
          "height": 173
        },
        "id": "kJrbyaRR7yqx",
        "outputId": "544ccc12-a50d-4190-aef3-7528cf95ee08"
      },
      "source": [
        "# Selecione o triângulo superior da matriz de correlação \n",
        "upper = corr_matrix.where(np.triu(np.ones(corr_matrix.shape), k=1).astype(np.bool))\n",
        "upper    "
      ],
      "execution_count": 20,
      "outputs": [
        {
          "output_type": "execute_result",
          "data": {
            "text/html": [
              "<div>\n",
              "<style scoped>\n",
              "    .dataframe tbody tr th:only-of-type {\n",
              "        vertical-align: middle;\n",
              "    }\n",
              "\n",
              "    .dataframe tbody tr th {\n",
              "        vertical-align: top;\n",
              "    }\n",
              "\n",
              "    .dataframe thead th {\n",
              "        text-align: right;\n",
              "    }\n",
              "</style>\n",
              "<table border=\"1\" class=\"dataframe\">\n",
              "  <thead>\n",
              "    <tr style=\"text-align: right;\">\n",
              "      <th></th>\n",
              "      <th>0</th>\n",
              "      <th>1</th>\n",
              "      <th>2</th>\n",
              "      <th>3</th>\n",
              "    </tr>\n",
              "  </thead>\n",
              "  <tbody>\n",
              "    <tr>\n",
              "      <th>0</th>\n",
              "      <td>NaN</td>\n",
              "      <td>-0.11757</td>\n",
              "      <td>0.871754</td>\n",
              "      <td>0.817941</td>\n",
              "    </tr>\n",
              "    <tr>\n",
              "      <th>1</th>\n",
              "      <td>NaN</td>\n",
              "      <td>NaN</td>\n",
              "      <td>-0.428440</td>\n",
              "      <td>-0.366126</td>\n",
              "    </tr>\n",
              "    <tr>\n",
              "      <th>2</th>\n",
              "      <td>NaN</td>\n",
              "      <td>NaN</td>\n",
              "      <td>NaN</td>\n",
              "      <td>0.962865</td>\n",
              "    </tr>\n",
              "    <tr>\n",
              "      <th>3</th>\n",
              "      <td>NaN</td>\n",
              "      <td>NaN</td>\n",
              "      <td>NaN</td>\n",
              "      <td>NaN</td>\n",
              "    </tr>\n",
              "  </tbody>\n",
              "</table>\n",
              "</div>"
            ],
            "text/plain": [
              "    0        1         2         3\n",
              "0 NaN -0.11757  0.871754  0.817941\n",
              "1 NaN      NaN -0.428440 -0.366126\n",
              "2 NaN      NaN       NaN  0.962865\n",
              "3 NaN      NaN       NaN       NaN"
            ]
          },
          "metadata": {},
          "execution_count": 20
        }
      ]
    },
    {
      "cell_type": "code",
      "metadata": {
        "trusted": true,
        "colab": {
          "base_uri": "https://localhost:8080/"
        },
        "id": "VY7rq-aX7yqy",
        "outputId": "a423e67d-4840-4496-83e9-8f34a27b8013"
      },
      "source": [
        "# Find index of feature columns with correlation greater than 0.9\n",
        "to_drop = [column for column in upper.columns if any(upper[column] > 0.9)]\n",
        "print(to_drop)"
      ],
      "execution_count": 22,
      "outputs": [
        {
          "output_type": "stream",
          "name": "stdout",
          "text": [
            "[3]\n"
          ]
        }
      ]
    },
    {
      "cell_type": "code",
      "metadata": {
        "trusted": true,
        "colab": {
          "base_uri": "https://localhost:8080/"
        },
        "id": "hF2bCWz97yqy",
        "outputId": "e09a190a-2abb-4f9d-d662-accda10d369c"
      },
      "source": [
        "# Drop Marked Features\n",
        "df1 = df.drop(df.columns[to_drop], axis=1)\n",
        "print(df1)\n"
      ],
      "execution_count": 23,
      "outputs": [
        {
          "output_type": "stream",
          "name": "stdout",
          "text": [
            "       0    1    2\n",
            "0    5.1  3.5  1.4\n",
            "1    4.9  3.0  1.4\n",
            "2    4.7  3.2  1.3\n",
            "3    4.6  3.1  1.5\n",
            "4    5.0  3.6  1.4\n",
            "..   ...  ...  ...\n",
            "145  6.7  3.0  5.2\n",
            "146  6.3  2.5  5.0\n",
            "147  6.5  3.0  5.2\n",
            "148  6.2  3.4  5.4\n",
            "149  5.9  3.0  5.1\n",
            "\n",
            "[150 rows x 3 columns]\n"
          ]
        }
      ]
    },
    {
      "cell_type": "markdown",
      "metadata": {
        "id": "4duRAoHE7yqy"
      },
      "source": [
        "- Podemos ver que eliminamos a terceira coluna do conjunto de dados original."
      ]
    },
    {
      "cell_type": "markdown",
      "metadata": {
        "trusted": true,
        "id": "OThOoTrs7yqy"
      },
      "source": [
        "# **3. Wrapper Methods** <a class=\"anchor\" id=\"3\"></a>\n",
        "\n",
        "- Nos métodos wrapper, tentamos usar um subconjunto de recursos e treinar um modelo usando-os. Com base nas inferências que extraímos do modelo anterior, decidimos adicionar ou remover recursos do subconjunto. O problema é essencialmente reduzido a um problema de pesquisa. Esses métodos são geralmente muito caros do ponto de vista computacional.\n",
        "\n",
        "- Alguns exemplos comuns de métodos de wrapper são\n",
        "\n",
        "  - 1. Seleção para frente,\n",
        "  - 2. Eliminação reversa,\n",
        "  - 3. Seleção exaustiva de recursos,\n",
        "  - 4. Eliminação de recurso recursivo.\n",
        "  - 5. Eliminação de recurso recursivo com validação cruzada\n",
        "  \n",
        "  \n",
        "- Os métodos de wrapper podem ser explicados com a ajuda do seguinte gráfico:\n"
      ]
    },
    {
      "cell_type": "markdown",
      "metadata": {
        "id": "MNTJc-mT7yqy"
      },
      "source": [
        "![Wrapper Methods](https://res.cloudinary.com/dyd911kmh/image/upload/f_auto,q_auto:best/v1537549832/Image2_ajaeo8.png)\n",
        "\n",
        "\n",
        "\n",
        "### Fonte da imagem: AnalyticsVidhya"
      ]
    },
    {
      "cell_type": "markdown",
      "metadata": {
        "id": "Ac-Agm4Q7yqy"
      },
      "source": [
        "## **3.1 Forward Selection** <a class=\"anchor\" id=\"3.1\"></a>\n",
        "\n",
        "- A seleção direta é um método iterativo no qual começamos sem ter nenhum recurso no modelo. Em cada iteração, continuamos adicionando o recurso que melhor melhora nosso modelo até que a adição de uma nova variável não melhore o desempenho do modelo.\n",
        "\n",
        "- O procedimento começa com um conjunto vazio de recursos [conjunto reduzido]. O melhor dos recursos originais é determinado e adicionado ao conjunto reduzido. Em cada iteração subsequente, o melhor dos atributos originais restantes é adicionado ao conjunto.\n",
        "\n",
        "- A seleção de recursos de avanço começa avaliando todos os recursos individualmente e seleciona aquele que gera o algoritmo de melhor desempenho, de acordo com um critério de avaliação predefinido. Na segunda etapa, ele avalia todas as combinações possíveis do recurso selecionado e um segundo recurso e seleciona o par que produz o algoritmo de melhor desempenho com base nos mesmos critérios predefinidos.\n",
        "\n",
        "- Os critérios predefinidos podem ser o roc_auc para classificação e o r ao quadrado para regressão, por exemplo.\n",
        "\n",
        "- Este procedimento de seleção é denominado guloso, pois avalia todas as combinações de características simples, duplas, triplas e assim por diante. Portanto, é bastante caro computacionalmente e, às vezes, se o espaço de recursos for grande, até inviável.\n",
        "\n",
        "- Existe um pacote especial para python que implementa este tipo de seleção de recursos: mlxtend.\n",
        "\n",
        "- Na implementação do mlxtend da seleção de recursos step forward, o critério de parada é um número arbitrariamente definido de recursos. Assim, a pesquisa terminará quando atingirmos o número desejado de recursos selecionados.\n",
        "\n",
        "- Vou demonstrar o algoritmo de seleção de recursos Step Forward do mlxtend usando o conjunto de dados House Price."
      ]
    },
    {
      "cell_type": "code",
      "metadata": {
        "trusted": true,
        "id": "7LAn78987yqz"
      },
      "source": [
        "# step forward feature selection\n",
        "\n",
        "from sklearn.model_selection import train_test_split\n",
        "from sklearn.ensemble import RandomForestRegressor\n",
        "from sklearn.metrics import r2_score\n",
        "from mlxtend.feature_selection import SequentialFeatureSelector as SFS"
      ],
      "execution_count": 24,
      "outputs": []
    },
    {
      "cell_type": "code",
      "metadata": {
        "trusted": true,
        "colab": {
          "base_uri": "https://localhost:8080/"
        },
        "id": "w33G4pxC7yqz",
        "outputId": "60ba037a-ee57-4f2b-8b36-23ea7d2b9401"
      },
      "source": [
        "#load dataset\n",
        "data = pd.read_csv('/content/drive/MyDrive/Datasets/House Prices_Advanced_train.csv')\n",
        "data.shape"
      ],
      "execution_count": 26,
      "outputs": [
        {
          "output_type": "execute_result",
          "data": {
            "text/plain": [
              "(1460, 81)"
            ]
          },
          "metadata": {},
          "execution_count": 26
        }
      ]
    },
    {
      "cell_type": "code",
      "metadata": {
        "trusted": true,
        "colab": {
          "base_uri": "https://localhost:8080/"
        },
        "id": "h8wXurtp7yqz",
        "outputId": "6ca892fb-da5b-4b46-f670-6fdfeb65e5c4"
      },
      "source": [
        "# Na prática, a seleção de recursos deve ser feita após o pré-processamento dos dados,\n",
        "# então, idealmente, todas as variáveis ​​categóricas são codificadas em números,\n",
        "# e então você pode avaliar o quão deterministas eles são do alvo\n",
        "\n",
        "# aqui para simplificar, usarei apenas variáveis ​​numéricas\n",
        "# selecionar colunas numéricas:\n",
        "\n",
        "numerics = ['int16', 'int32', 'int64', 'float16', 'float32', 'float64']\n",
        "numerical_vars = list(data.select_dtypes(include=numerics).columns)\n",
        "data = data[numerical_vars]\n",
        "data.shape"
      ],
      "execution_count": 27,
      "outputs": [
        {
          "output_type": "execute_result",
          "data": {
            "text/plain": [
              "(1460, 38)"
            ]
          },
          "metadata": {},
          "execution_count": 27
        }
      ]
    },
    {
      "cell_type": "code",
      "metadata": {
        "trusted": true,
        "colab": {
          "base_uri": "https://localhost:8080/"
        },
        "id": "3tbG5cTo7yqz",
        "outputId": "e545d7c4-c8d4-4a66-b337-03c771ccb85b"
      },
      "source": [
        "# separate train and test sets\n",
        "X_train, X_test, y_train, y_test = train_test_split(\n",
        "    data.drop(labels=['SalePrice'], axis=1),\n",
        "    data['SalePrice'],\n",
        "    test_size=0.3,\n",
        "    random_state=0)\n",
        "\n",
        "X_train.shape, X_test.shape"
      ],
      "execution_count": 28,
      "outputs": [
        {
          "output_type": "execute_result",
          "data": {
            "text/plain": [
              "((1022, 37), (438, 37))"
            ]
          },
          "metadata": {},
          "execution_count": 28
        }
      ]
    },
    {
      "cell_type": "code",
      "metadata": {
        "trusted": true,
        "colab": {
          "base_uri": "https://localhost:8080/"
        },
        "id": "PyaOr0UX7yqz",
        "outputId": "ec8e90fb-e9e5-49ef-a7ef-32a24b7daf22"
      },
      "source": [
        "# localizar e remover recursos correlacionados\n",
        "def correlation(dataset, threshold):\n",
        "    col_corr = set()  # Conjunto de todos os nomes de colunas correlacionadas\n",
        "    corr_matrix = dataset.corr()\n",
        "    for i in range(len(corr_matrix.columns)):\n",
        "        for j in range(i):\n",
        "            if abs(corr_matrix.iloc[i, j]) > threshold: # estamos interessados ​​no valor coeficiente absoluto\n",
        "                colname = corr_matrix.columns[i]  # obtendo o nome da coluna\n",
        "                col_corr.add(colname)\n",
        "    return col_corr\n",
        "\n",
        "corr_features = correlation(X_train, 0.8)\n",
        "print('correlated features: ', len(set(corr_features)) )"
      ],
      "execution_count": 30,
      "outputs": [
        {
          "output_type": "stream",
          "name": "stdout",
          "text": [
            "correlated features:  3\n"
          ]
        }
      ]
    },
    {
      "cell_type": "code",
      "metadata": {
        "trusted": true,
        "colab": {
          "base_uri": "https://localhost:8080/"
        },
        "id": "bOsSM5Dk7yq0",
        "outputId": "33dac3dc-2212-49e0-923d-77d40f3b7ea2"
      },
      "source": [
        "# recursos correlacionados removidos\n",
        "X_train.drop(labels=corr_features, axis=1, inplace=True)\n",
        "X_test.drop(labels=corr_features, axis=1, inplace=True)\n",
        "\n",
        "X_train.shape, X_test.shape"
      ],
      "execution_count": 31,
      "outputs": [
        {
          "output_type": "execute_result",
          "data": {
            "text/plain": [
              "((1022, 34), (438, 34))"
            ]
          },
          "metadata": {},
          "execution_count": 31
        }
      ]
    },
    {
      "cell_type": "code",
      "metadata": {
        "trusted": true,
        "id": "DrOWvOfa7yq0"
      },
      "source": [
        "X_train.fillna(0, inplace=True)"
      ],
      "execution_count": 32,
      "outputs": []
    },
    {
      "cell_type": "code",
      "metadata": {
        "trusted": true,
        "colab": {
          "base_uri": "https://localhost:8080/"
        },
        "id": "tVC4HRE97yq0",
        "outputId": "bc176fc4-cb87-4781-c3c2-4dd5f57bb6c0"
      },
      "source": [
        "# Passo à frente seleção de recursos\n",
        "# Seleção de Recursos Avançada\n",
        "\n",
        "from mlxtend.feature_selection import SequentialFeatureSelector as SFS\n",
        "\n",
        "sfs1 = SFS(RandomForestRegressor(), \n",
        "           k_features=10, \n",
        "           forward=True, \n",
        "           floating=False, \n",
        "           verbose=2,\n",
        "           scoring='r2',\n",
        "           cv=3)\n",
        "\n",
        "sfs1 = sfs1.fit(np.array(X_train), y_train)"
      ],
      "execution_count": 33,
      "outputs": [
        {
          "output_type": "stream",
          "name": "stderr",
          "text": [
            "[Parallel(n_jobs=1)]: Using backend SequentialBackend with 1 concurrent workers.\n",
            "[Parallel(n_jobs=1)]: Done   1 out of   1 | elapsed:    0.6s remaining:    0.0s\n",
            "[Parallel(n_jobs=1)]: Done  34 out of  34 | elapsed:   14.7s finished\n",
            "\n",
            "[2021-10-09 22:50:47] Features: 1/10 -- score: 0.6667115950759772[Parallel(n_jobs=1)]: Using backend SequentialBackend with 1 concurrent workers.\n",
            "[Parallel(n_jobs=1)]: Done   1 out of   1 | elapsed:    0.6s remaining:    0.0s\n",
            "[Parallel(n_jobs=1)]: Done  33 out of  33 | elapsed:   15.1s finished\n",
            "\n",
            "[2021-10-09 22:51:02] Features: 2/10 -- score: 0.7228478088638993[Parallel(n_jobs=1)]: Using backend SequentialBackend with 1 concurrent workers.\n",
            "[Parallel(n_jobs=1)]: Done   1 out of   1 | elapsed:    0.6s remaining:    0.0s\n",
            "[Parallel(n_jobs=1)]: Done  32 out of  32 | elapsed:   15.6s finished\n",
            "\n",
            "[2021-10-09 22:51:17] Features: 3/10 -- score: 0.7466821125179597[Parallel(n_jobs=1)]: Using backend SequentialBackend with 1 concurrent workers.\n",
            "[Parallel(n_jobs=1)]: Done   1 out of   1 | elapsed:    0.6s remaining:    0.0s\n",
            "[Parallel(n_jobs=1)]: Done  31 out of  31 | elapsed:   16.0s finished\n",
            "\n",
            "[2021-10-09 22:51:33] Features: 4/10 -- score: 0.7630108945649692[Parallel(n_jobs=1)]: Using backend SequentialBackend with 1 concurrent workers.\n",
            "[Parallel(n_jobs=1)]: Done   1 out of   1 | elapsed:    0.7s remaining:    0.0s\n",
            "[Parallel(n_jobs=1)]: Done  30 out of  30 | elapsed:   16.2s finished\n",
            "\n",
            "[2021-10-09 22:51:49] Features: 5/10 -- score: 0.7696684180315579[Parallel(n_jobs=1)]: Using backend SequentialBackend with 1 concurrent workers.\n",
            "[Parallel(n_jobs=1)]: Done   1 out of   1 | elapsed:    0.7s remaining:    0.0s\n",
            "[Parallel(n_jobs=1)]: Done  29 out of  29 | elapsed:   17.3s finished\n",
            "\n",
            "[2021-10-09 22:52:07] Features: 6/10 -- score: 0.78002599104764[Parallel(n_jobs=1)]: Using backend SequentialBackend with 1 concurrent workers.\n",
            "[Parallel(n_jobs=1)]: Done   1 out of   1 | elapsed:    0.8s remaining:    0.0s\n",
            "[Parallel(n_jobs=1)]: Done  28 out of  28 | elapsed:   21.3s finished\n",
            "\n",
            "[2021-10-09 22:52:28] Features: 7/10 -- score: 0.8246814268040801[Parallel(n_jobs=1)]: Using backend SequentialBackend with 1 concurrent workers.\n",
            "[Parallel(n_jobs=1)]: Done   1 out of   1 | elapsed:    0.9s remaining:    0.0s\n",
            "[Parallel(n_jobs=1)]: Done  27 out of  27 | elapsed:   22.2s finished\n",
            "\n",
            "[2021-10-09 22:52:50] Features: 8/10 -- score: 0.8375640997998621[Parallel(n_jobs=1)]: Using backend SequentialBackend with 1 concurrent workers.\n",
            "[Parallel(n_jobs=1)]: Done   1 out of   1 | elapsed:    1.0s remaining:    0.0s\n",
            "[Parallel(n_jobs=1)]: Done  26 out of  26 | elapsed:   23.9s finished\n",
            "\n",
            "[2021-10-09 22:53:14] Features: 9/10 -- score: 0.8453746786591747[Parallel(n_jobs=1)]: Using backend SequentialBackend with 1 concurrent workers.\n",
            "[Parallel(n_jobs=1)]: Done   1 out of   1 | elapsed:    1.1s remaining:    0.0s\n",
            "[Parallel(n_jobs=1)]: Done  25 out of  25 | elapsed:   25.1s finished\n",
            "\n",
            "[2021-10-09 22:53:39] Features: 10/10 -- score: 0.8513287960911157"
          ]
        }
      ]
    },
    {
      "cell_type": "code",
      "metadata": {
        "trusted": true,
        "colab": {
          "base_uri": "https://localhost:8080/"
        },
        "id": "RwoPUlij7yq0",
        "outputId": "e2b003d2-aa1d-432a-df3f-1d1d8fd3c083"
      },
      "source": [
        "sfs1.k_feature_idx_"
      ],
      "execution_count": 34,
      "outputs": [
        {
          "output_type": "execute_result",
          "data": {
            "text/plain": [
              "(4, 5, 6, 9, 13, 14, 16, 17, 19, 24)"
            ]
          },
          "metadata": {},
          "execution_count": 34
        }
      ]
    },
    {
      "cell_type": "code",
      "metadata": {
        "trusted": true,
        "colab": {
          "base_uri": "https://localhost:8080/"
        },
        "id": "4LxxwCid7yq0",
        "outputId": "5929716d-ef82-46b2-997f-798409385443"
      },
      "source": [
        "X_train.columns[list(sfs1.k_feature_idx_)]"
      ],
      "execution_count": 35,
      "outputs": [
        {
          "output_type": "execute_result",
          "data": {
            "text/plain": [
              "Index(['OverallQual', 'OverallCond', 'YearBuilt', 'BsmtFinSF1', '1stFlrSF',\n",
              "       '2ndFlrSF', 'GrLivArea', 'BsmtFullBath', 'FullBath', 'GarageCars'],\n",
              "      dtype='object')"
            ]
          },
          "metadata": {},
          "execution_count": 35
        }
      ]
    },
    {
      "cell_type": "markdown",
      "metadata": {
        "id": "sp74n0n-7yq0"
      },
      "source": [
        "- Podemos ver que a seleção de recursos avançados resulta nas colunas acima sendo selecionadas de todas as colunas fornecidas."
      ]
    },
    {
      "cell_type": "markdown",
      "metadata": {
        "id": "BUF285gM7yq1"
      },
      "source": [
        "## **3.2 Backward Elimination** <a class=\"anchor\" id=\"3.2\"></a>\n",
        "\n",
        "- Na eliminação reversa, começamos com todos os recursos e removemos o recurso menos significativo em cada iteração, o que melhora o desempenho do modelo. Repetimos isso até que nenhuma melhora seja observada na remoção de recursos.\n",
        "\n",
        "- O procedimento começa com o conjunto completo de atributos. Em cada etapa, ele remove o pior atributo restante no conjunto.\n"
      ]
    },
    {
      "cell_type": "code",
      "metadata": {
        "trusted": true,
        "colab": {
          "base_uri": "https://localhost:8080/"
        },
        "id": "f4S73Chx7yq1",
        "outputId": "9d6da3a8-64fc-4f7f-abad-cc4df96b9dc2"
      },
      "source": [
        "# step backward feature elimination\n",
        "\n",
        "sfs1 = SFS(RandomForestRegressor(), \n",
        "           k_features=10, \n",
        "           forward=False, \n",
        "           floating=False, \n",
        "           verbose=2,\n",
        "           scoring='r2',\n",
        "           cv=3)\n",
        "\n",
        "sfs1 = sfs1.fit(np.array(X_train), y_train)"
      ],
      "execution_count": 36,
      "outputs": [
        {
          "output_type": "stream",
          "name": "stderr",
          "text": [
            "[Parallel(n_jobs=1)]: Using backend SequentialBackend with 1 concurrent workers.\n",
            "[Parallel(n_jobs=1)]: Done   1 out of   1 | elapsed:    2.1s remaining:    0.0s\n",
            "[Parallel(n_jobs=1)]: Done  34 out of  34 | elapsed:  1.2min finished\n",
            "\n",
            "[2021-10-09 22:58:39] Features: 33/10 -- score: 0.8552628944184901[Parallel(n_jobs=1)]: Using backend SequentialBackend with 1 concurrent workers.\n",
            "[Parallel(n_jobs=1)]: Done   1 out of   1 | elapsed:    2.1s remaining:    0.0s\n",
            "[Parallel(n_jobs=1)]: Done  33 out of  33 | elapsed:  1.1min finished\n",
            "\n",
            "[2021-10-09 22:59:47] Features: 32/10 -- score: 0.8554763241081794[Parallel(n_jobs=1)]: Using backend SequentialBackend with 1 concurrent workers.\n",
            "[Parallel(n_jobs=1)]: Done   1 out of   1 | elapsed:    2.0s remaining:    0.0s\n",
            "[Parallel(n_jobs=1)]: Done  32 out of  32 | elapsed:  1.1min finished\n",
            "\n",
            "[2021-10-09 23:00:52] Features: 31/10 -- score: 0.8547489586981588[Parallel(n_jobs=1)]: Using backend SequentialBackend with 1 concurrent workers.\n",
            "[Parallel(n_jobs=1)]: Done   1 out of   1 | elapsed:    1.9s remaining:    0.0s\n",
            "[Parallel(n_jobs=1)]: Done  31 out of  31 | elapsed:   59.6s finished\n",
            "\n",
            "[2021-10-09 23:01:51] Features: 30/10 -- score: 0.8555266669182613[Parallel(n_jobs=1)]: Using backend SequentialBackend with 1 concurrent workers.\n",
            "[Parallel(n_jobs=1)]: Done   1 out of   1 | elapsed:    1.9s remaining:    0.0s\n",
            "[Parallel(n_jobs=1)]: Done  30 out of  30 | elapsed:   56.1s finished\n",
            "\n",
            "[2021-10-09 23:02:48] Features: 29/10 -- score: 0.8577259410244006[Parallel(n_jobs=1)]: Using backend SequentialBackend with 1 concurrent workers.\n",
            "[Parallel(n_jobs=1)]: Done   1 out of   1 | elapsed:    1.8s remaining:    0.0s\n",
            "[Parallel(n_jobs=1)]: Done  29 out of  29 | elapsed:   52.2s finished\n",
            "\n",
            "[2021-10-09 23:03:40] Features: 28/10 -- score: 0.8594039210484895[Parallel(n_jobs=1)]: Using backend SequentialBackend with 1 concurrent workers.\n",
            "[Parallel(n_jobs=1)]: Done   1 out of   1 | elapsed:    1.8s remaining:    0.0s\n",
            "[Parallel(n_jobs=1)]: Done  28 out of  28 | elapsed:   49.5s finished\n",
            "\n",
            "[2021-10-09 23:04:29] Features: 27/10 -- score: 0.8607813169231696[Parallel(n_jobs=1)]: Using backend SequentialBackend with 1 concurrent workers.\n",
            "[Parallel(n_jobs=1)]: Done   1 out of   1 | elapsed:    1.7s remaining:    0.0s\n",
            "[Parallel(n_jobs=1)]: Done  27 out of  27 | elapsed:   45.1s finished\n",
            "\n",
            "[2021-10-09 23:05:14] Features: 26/10 -- score: 0.8626810586640236[Parallel(n_jobs=1)]: Using backend SequentialBackend with 1 concurrent workers.\n",
            "[Parallel(n_jobs=1)]: Done   1 out of   1 | elapsed:    1.7s remaining:    0.0s\n",
            "[Parallel(n_jobs=1)]: Done  26 out of  26 | elapsed:   43.1s finished\n",
            "\n",
            "[2021-10-09 23:05:57] Features: 25/10 -- score: 0.8622916663041531[Parallel(n_jobs=1)]: Using backend SequentialBackend with 1 concurrent workers.\n",
            "[Parallel(n_jobs=1)]: Done   1 out of   1 | elapsed:    1.7s remaining:    0.0s\n",
            "[Parallel(n_jobs=1)]: Done  25 out of  25 | elapsed:   41.1s finished\n",
            "\n",
            "[2021-10-09 23:06:39] Features: 24/10 -- score: 0.8629210155189094[Parallel(n_jobs=1)]: Using backend SequentialBackend with 1 concurrent workers.\n",
            "[Parallel(n_jobs=1)]: Done   1 out of   1 | elapsed:    1.6s remaining:    0.0s\n",
            "[Parallel(n_jobs=1)]: Done  24 out of  24 | elapsed:   38.6s finished\n",
            "\n",
            "[2021-10-09 23:07:17] Features: 23/10 -- score: 0.8618976994144975[Parallel(n_jobs=1)]: Using backend SequentialBackend with 1 concurrent workers.\n",
            "[Parallel(n_jobs=1)]: Done   1 out of   1 | elapsed:    1.6s remaining:    0.0s\n",
            "[Parallel(n_jobs=1)]: Done  23 out of  23 | elapsed:   36.5s finished\n",
            "\n",
            "[2021-10-09 23:07:54] Features: 22/10 -- score: 0.8629162107778079[Parallel(n_jobs=1)]: Using backend SequentialBackend with 1 concurrent workers.\n",
            "[Parallel(n_jobs=1)]: Done   1 out of   1 | elapsed:    1.5s remaining:    0.0s\n",
            "[Parallel(n_jobs=1)]: Done  22 out of  22 | elapsed:   32.8s finished\n",
            "\n",
            "[2021-10-09 23:08:26] Features: 21/10 -- score: 0.8607978503670807[Parallel(n_jobs=1)]: Using backend SequentialBackend with 1 concurrent workers.\n",
            "[Parallel(n_jobs=1)]: Done   1 out of   1 | elapsed:    1.5s remaining:    0.0s\n",
            "[Parallel(n_jobs=1)]: Done  21 out of  21 | elapsed:   30.7s finished\n",
            "\n",
            "[2021-10-09 23:08:57] Features: 20/10 -- score: 0.862709553310764[Parallel(n_jobs=1)]: Using backend SequentialBackend with 1 concurrent workers.\n",
            "[Parallel(n_jobs=1)]: Done   1 out of   1 | elapsed:    1.4s remaining:    0.0s\n",
            "[Parallel(n_jobs=1)]: Done  20 out of  20 | elapsed:   27.2s finished\n",
            "\n",
            "[2021-10-09 23:09:24] Features: 19/10 -- score: 0.8610763603723987[Parallel(n_jobs=1)]: Using backend SequentialBackend with 1 concurrent workers.\n",
            "[Parallel(n_jobs=1)]: Done   1 out of   1 | elapsed:    1.4s remaining:    0.0s\n",
            "[Parallel(n_jobs=1)]: Done  19 out of  19 | elapsed:   25.8s finished\n",
            "\n",
            "[2021-10-09 23:09:50] Features: 18/10 -- score: 0.8609283565948864[Parallel(n_jobs=1)]: Using backend SequentialBackend with 1 concurrent workers.\n",
            "[Parallel(n_jobs=1)]: Done   1 out of   1 | elapsed:    1.4s remaining:    0.0s\n",
            "[Parallel(n_jobs=1)]: Done  18 out of  18 | elapsed:   23.8s finished\n",
            "\n",
            "[2021-10-09 23:10:14] Features: 17/10 -- score: 0.8626066936334257[Parallel(n_jobs=1)]: Using backend SequentialBackend with 1 concurrent workers.\n",
            "[Parallel(n_jobs=1)]: Done   1 out of   1 | elapsed:    1.4s remaining:    0.0s\n",
            "[Parallel(n_jobs=1)]: Done  17 out of  17 | elapsed:   22.3s finished\n",
            "\n",
            "[2021-10-09 23:10:36] Features: 16/10 -- score: 0.8624357881067862[Parallel(n_jobs=1)]: Using backend SequentialBackend with 1 concurrent workers.\n",
            "[Parallel(n_jobs=1)]: Done   1 out of   1 | elapsed:    1.3s remaining:    0.0s\n",
            "[Parallel(n_jobs=1)]: Done  16 out of  16 | elapsed:   20.2s finished\n",
            "\n",
            "[2021-10-09 23:10:56] Features: 15/10 -- score: 0.861019549036639[Parallel(n_jobs=1)]: Using backend SequentialBackend with 1 concurrent workers.\n",
            "[Parallel(n_jobs=1)]: Done   1 out of   1 | elapsed:    1.3s remaining:    0.0s\n",
            "[Parallel(n_jobs=1)]: Done  15 out of  15 | elapsed:   18.7s finished\n",
            "\n",
            "[2021-10-09 23:11:15] Features: 14/10 -- score: 0.8594887423295859[Parallel(n_jobs=1)]: Using backend SequentialBackend with 1 concurrent workers.\n",
            "[Parallel(n_jobs=1)]: Done   1 out of   1 | elapsed:    1.2s remaining:    0.0s\n",
            "[Parallel(n_jobs=1)]: Done  14 out of  14 | elapsed:   16.4s finished\n",
            "\n",
            "[2021-10-09 23:11:32] Features: 13/10 -- score: 0.8608305074752556[Parallel(n_jobs=1)]: Using backend SequentialBackend with 1 concurrent workers.\n",
            "[Parallel(n_jobs=1)]: Done   1 out of   1 | elapsed:    1.1s remaining:    0.0s\n",
            "[Parallel(n_jobs=1)]: Done  13 out of  13 | elapsed:   13.9s finished\n",
            "\n",
            "[2021-10-09 23:11:45] Features: 12/10 -- score: 0.8596624048447074[Parallel(n_jobs=1)]: Using backend SequentialBackend with 1 concurrent workers.\n",
            "[Parallel(n_jobs=1)]: Done   1 out of   1 | elapsed:    1.1s remaining:    0.0s\n",
            "[Parallel(n_jobs=1)]: Done  12 out of  12 | elapsed:   12.4s finished\n",
            "\n",
            "[2021-10-09 23:11:58] Features: 11/10 -- score: 0.8578665479041993[Parallel(n_jobs=1)]: Using backend SequentialBackend with 1 concurrent workers.\n",
            "[Parallel(n_jobs=1)]: Done   1 out of   1 | elapsed:    1.0s remaining:    0.0s\n",
            "[Parallel(n_jobs=1)]: Done  11 out of  11 | elapsed:   11.2s finished\n",
            "\n",
            "[2021-10-09 23:12:09] Features: 10/10 -- score: 0.857843720788343"
          ]
        }
      ]
    },
    {
      "cell_type": "code",
      "metadata": {
        "trusted": true,
        "id": "68BLvtW97yq1"
      },
      "source": [
        "sfs1.k_feature_idx_"
      ],
      "execution_count": null,
      "outputs": []
    },
    {
      "cell_type": "code",
      "metadata": {
        "trusted": true,
        "id": "fEGqeDKF7yq1"
      },
      "source": [
        "X_train.columns[list(sfs1.k_feature_idx_)]"
      ],
      "execution_count": null,
      "outputs": []
    },
    {
      "cell_type": "markdown",
      "metadata": {
        "id": "nIbskDIv7yq1"
      },
      "source": [
        "- Portanto, a eliminação do recurso reverso resulta na seleção das seguintes colunas."
      ]
    },
    {
      "cell_type": "markdown",
      "metadata": {
        "id": "0v-8SsHB7yq1"
      },
      "source": [
        "## **3.3 Exhaustive Feature Selection** <a class=\"anchor\" id=\"3.3\"></a>\n",
        "\n",
        "[Table of Contents](#0.1) \n",
        "\n",
        "\n",
        "- Em uma seleção exaustiva de recursos, o melhor subconjunto de recursos é selecionado, entre todos os subconjuntos de recursos possíveis, otimizando uma métrica de desempenho especificada para um determinado algoritmo de aprendizado de máquina. Por exemplo, se o classificador for uma regressão logística e o conjunto de dados consistir em 4 recursos, o algoritmo avaliará todas as 15 combinações de recursos da seguinte forma:\n",
        "\n",
        "  - todas as combinações possíveis de 1 recurso\n",
        "  - todas as combinações possíveis de 2 recursos\n",
        "  - todas as combinações possíveis de 3 recursos\n",
        "  - todos os 4 recursos\n",
        "  \n",
        "  \n",
        "e selecione aquele que resulta no melhor desempenho (por exemplo, precisão de classificação) do classificador de regressão logística.\n",
        "\n",
        "- Este é outro algoritmo ganancioso, pois avalia todas as combinações de recursos possíveis. É bastante caro computacionalmente e, às vezes, se o espaço de recursos for grande, até mesmo inviável.\n",
        "\n",
        "- Existe um pacote especial para python que implementa este tipo de seleção de recursos: mlxtend.\n",
        "\n",
        "- Na implementação do mlxtend da seleção exaustiva de recursos, o critério de parada é um número arbitrariamente definido de recursos. Assim, a pesquisa terminará quando atingirmos o número desejado de recursos selecionados.\n",
        "\n",
        "- Isso é um tanto arbitrário porque podemos estar selecionando um número subótimo de recursos ou, da mesma forma, um grande número de recursos."
      ]
    },
    {
      "cell_type": "markdown",
      "metadata": {
        "id": "9EW1879_7yq2"
      },
      "source": [
        "## **3.4 Recursive Feature elimination** <a class=\"anchor\" id=\"3.4\"></a>\n",
        "\n",
        "\n",
        "- É um algoritmo de otimização guloso que visa encontrar o subconjunto de recursos de melhor desempenho. Ele cria modelos repetidamente e mantém de lado o recurso de melhor ou pior desempenho em cada iteração. Ele constrói o próximo modelo com os recursos à esquerda até que todos os recursos sejam exauridos. Em seguida, ele classifica os recursos com base na ordem de eliminação.\n",
        "\n",
        "- A eliminação recursiva de recursos executa uma pesquisa gananciosa para encontrar o subconjunto de recursos de melhor desempenho. Ele cria modelos iterativamente e determina o melhor ou o pior recurso de desempenho em cada iteração. Ele constrói os modelos subsequentes com os recursos à esquerda até que todos os recursos sejam explorados. Em seguida, ele classifica os recursos com base na ordem de eliminação. No pior caso, se um conjunto de dados contiver N número de recursos, o RFE fará uma busca gananciosa por 2N combinações de recursos.\n",
        "\n",
        "\n",
        "- Source : https://scikit-learn.org/stable/auto_examples/feature_selection/plot_rfe_digits.html#sphx-glr-auto-examples-feature-selection-plot-rfe-digits-py"
      ]
    },
    {
      "cell_type": "markdown",
      "metadata": {
        "id": "vaJYcsUq7yq2"
      },
      "source": [
        "## **3.5 Recursive Feature Elimination with Cross-Validation** <a class=\"anchor\" id=\"3.5\"></a>\n",
        "\n",
        "\n",
        "\n",
        "- **Eliminação de recurso recursivo com validação cruzada (RFECV)** A técnica de seleção de recurso seleciona o melhor subconjunto de recursos para o estimador removendo recursos de 0 a N iterativamente usando a eliminação de recurso recursiva.\n",
        "\n",
        "- Em seguida, ele seleciona o melhor subconjunto com base na precisão ou pontuação de validação cruzada ou roc-auc do modelo. A técnica de eliminação de recurso recursivo elimina n recursos de um modelo ajustando o modelo várias vezes e em cada etapa, removendo os recursos mais fracos.\n"
      ]
    },
    {
      "cell_type": "markdown",
      "metadata": {
        "id": "LyfAUIYx7yq2"
      },
      "source": [
        "# **4. Embedded Methods** <a class=\"anchor\" id=\"4\"></a>\n",
        "\n",
        "\n",
        "- Os métodos incorporados são iterativos no sentido de que cuida de cada iteração do processo de treinamento do modelo e extrai cuidadosamente os recursos que mais contribuem para o treinamento de uma iteração específica. Os métodos de regularização são os métodos incorporados mais comumente usados ​​que penalizam um recurso dado um limite de coeficiente.\n",
        "\n",
        "- É por isso que os métodos de regularização também são chamados de métodos de penalização que introduzem restrições adicionais na otimização de um algoritmo preditivo (como um algoritmo de regressão) que influencia o modelo em direção a uma complexidade mais baixa (menos coeficientes).\n",
        "\n",
        "- Alguns dos exemplos mais populares desses métodos são LASSO e regressão RIDGE, que possuem funções de penalização integradas para reduzir o sobreajuste.\n",
        "\n",
        "- Os métodos incorporados podem ser explicados com a ajuda do seguinte gráfico:\n"
      ]
    },
    {
      "cell_type": "markdown",
      "metadata": {
        "id": "1DC2ZxaO7yq2"
      },
      "source": [
        "![Embedded Methods](https://www.analyticsvidhya.com/wp-content/uploads/2016/11/Embedded_1.png)\n",
        "\n",
        "\n",
        "### Image source : AnalyticsVidhya"
      ]
    },
    {
      "cell_type": "markdown",
      "metadata": {
        "id": "aaNsDsZM7yq2"
      },
      "source": [
        "## **4.1 LASSO Regression**<a class=\"anchor\" id=\"4.1\"></a>\n",
        "\n",
        "- A regressão Lasso realiza a regularização L1 que adiciona penalidade equivalente ao valor absoluto da magnitude dos coeficientes.\n",
        "\n",
        "- A regularização consiste em adicionar uma penalidade aos diferentes parâmetros do modelo de aprendizado de máquina para reduzir a liberdade do modelo e, em outras palavras, para evitar overfitting. Na regularização do modelo linear, a penalidade é aplicada sobre os coeficientes que multiplicam cada um dos preditores. Dos diferentes tipos de regularização, Lasso ou l1 tem a propriedade de reduzir alguns dos coeficientes a zero. Portanto, esse recurso pode ser removido do modelo.\n",
        "\n",
        "- Vou demonstrar como selecionar recursos usando a regularização Lasso no conjunto de dados House Price de Kaggle."
      ]
    },
    {
      "cell_type": "code",
      "metadata": {
        "trusted": true,
        "id": "F8tBJ2f47yq3"
      },
      "source": [
        "#load libraries\n",
        "from sklearn.model_selection import train_test_split\n",
        "from sklearn.linear_model import Lasso\n",
        "from sklearn.feature_selection import SelectFromModel\n",
        "from sklearn.preprocessing import StandardScaler"
      ],
      "execution_count": null,
      "outputs": []
    },
    {
      "cell_type": "code",
      "metadata": {
        "trusted": true,
        "id": "bYbRCyGO7yq4"
      },
      "source": [
        "# load dataset\n",
        "data = pd.read_csv('/kaggle/input/house-prices-advanced-regression-techniques/train.csv')\n",
        "data.shape"
      ],
      "execution_count": null,
      "outputs": []
    },
    {
      "cell_type": "code",
      "metadata": {
        "trusted": true,
        "id": "d2lOxOAh7yq5"
      },
      "source": [
        "  # Na prática, a seleção de recursos deve ser feita após o pré-processamento dos dados,\n",
        "  # então, idealmente, todas as variáveis ​​categóricas são codificadas em números,\n",
        "  # e então você pode avaliar o quão deterministas eles são do alvo\n",
        "\n",
        "  # aqui para simplificar, usarei apenas variáveis ​​numéricas\n",
        "  # selecionar colunas numéricas:\n",
        "\n",
        "numerics = ['int16', 'int32', 'int64', 'float16', 'float32', 'float64']\n",
        "numerical_vars = list(data.select_dtypes(include=numerics).columns)\n",
        "data = data[numerical_vars]\n",
        "data.shape"
      ],
      "execution_count": null,
      "outputs": []
    },
    {
      "cell_type": "code",
      "metadata": {
        "trusted": true,
        "id": "282YsTKL7yq5"
      },
      "source": [
        "# conjuntos separados de treino e teste\n",
        "X_train, X_test, y_train, y_test = train_test_split(\n",
        "    data.drop(labels=['SalePrice'], axis=1),\n",
        "    data['SalePrice'],\n",
        "    test_size=0.3,\n",
        "    random_state=0)\n",
        "\n",
        "X_train.shape, X_test.shape"
      ],
      "execution_count": null,
      "outputs": []
    },
    {
      "cell_type": "code",
      "metadata": {
        "trusted": true,
        "id": "gRydfcMf7yq5"
      },
      "source": [
        "# os recursos no conjunto de dados da casa estão muito\n",
        "# escalas diferentes, então ajuda a regressão para escalá-los\n",
        "\n",
        "scaler = StandardScaler()\n",
        "scaler.fit(X_train.fillna(0))"
      ],
      "execution_count": null,
      "outputs": []
    },
    {
      "cell_type": "code",
      "metadata": {
        "trusted": true,
        "id": "DzESYB_g7yq5"
      },
      "source": [
        "# aqui, mais uma vez, treinarei uma regressão Linear Lasso e selecionarei\n",
        "# os recursos diferentes de zero em uma linha.\n",
        "# tenha em mente que o objeto de regressão linear de sklearn faz\n",
        "# não permite regularização. Então, se você quiser fazer uma regularização\n",
        "# regressão linear, você precisa importar especificamente \"Lasso\"\n",
        "# essa é a versão l1 da regressão linear\n",
        "# alfa é a penalização aqui, então a defini como alta para\n",
        "# para forçar o algoritmo a reduzir alguns coeficientes\n",
        "\n",
        "sel_ = SelectFromModel(Lasso(alpha=100))\n",
        "sel_.fit(scaler.transform(X_train.fillna(0)), y_train)"
      ],
      "execution_count": null,
      "outputs": []
    },
    {
      "cell_type": "code",
      "metadata": {
        "trusted": true,
        "id": "nd1LI5Bo7yq6"
      },
      "source": [
        "sel_.get_support()"
      ],
      "execution_count": null,
      "outputs": []
    },
    {
      "cell_type": "code",
      "metadata": {
        "trusted": true,
        "id": "ZOVJtYFQ7yq9"
      },
      "source": [
        "# faça uma lista com os recursos selecionados e imprima os resultados\n",
        "selected_feat = X_train.columns[(sel_.get_support())]\n",
        "\n",
        "print('total features: {}'.format((X_train.shape[1])))\n",
        "print('selected features: {}'.format(len(selected_feat)))\n",
        "print('features with coefficients shrank to zero: {}'.format(\n",
        "    np.sum(sel_.estimator_.coef_ == 0)))"
      ],
      "execution_count": null,
      "outputs": []
    },
    {
      "cell_type": "markdown",
      "metadata": {
        "id": "gqQTGFaU7yq-"
      },
      "source": [
        "- Podemos ver que a regularização Lasso ajuda a remover características não importantes do conjunto de dados. Assim, aumentar a penalização resultará no aumento do número de recursos removidos. Portanto, precisamos ficar atentos e monitorar para não definir uma penalidade muito alta para remover até mesmo recursos importantes, ou muito baixa e, em seguida, não remover recursos não importantes.\n",
        "\n",
        "- Se a penalidade for muito alta e recursos importantes forem removidos, notaremos uma queda no desempenho do algoritmo e então perceberemos que precisamos diminuir a regularização."
      ]
    },
    {
      "cell_type": "markdown",
      "metadata": {
        "_uuid": "8f2839f25d086af736a60e9eeb907d3b93b6e0e5",
        "_cell_guid": "b1076dfc-b9ad-4769-8c92-a6c4dae69d19",
        "trusted": true,
        "id": "kedwpNRU7yq-"
      },
      "source": [
        "## **4.2 Random Forest Importance**<a class=\"anchor\" id=\"4.2\"></a>\n",
        "\n",
        "\n",
        "- Florestas aleatórias são um dos algoritmos de aprendizado de máquina mais populares. Eles são muito bem-sucedidos porque geralmente fornecem um bom desempenho preditivo, baixo ajuste excessivo e fácil interpretabilidade. Essa interpretabilidade é dada pelo fato de que é simples derivar a importância de cada variável na decisão da árvore. Em outras palavras, é fácil calcular o quanto cada variável está contribuindo para a decisão.\n",
        "\n",
        "- Florestas aleatórias consistem em 4-12 centenas de árvores de decisão, cada uma delas construída sobre uma extração aleatória das observações do conjunto de dados e uma extração aleatória das características. Nem toda árvore vê todas as características ou todas as observações, e isso garante que as árvores sejam descorrelacionadas e, portanto, menos sujeitas a sobreajuste. Cada árvore também é uma sequência de perguntas sim-não com base em um único recurso ou em uma combinação de recursos. Em cada nó (isso é em cada questão), os três dividem o conjunto de dados em 2 depósitos, cada um deles hospedando observações que são mais semelhantes entre si e diferentes das do outro bloco. Portanto, a importância de cada recurso é derivada de quão \"puro\" cada um dos baldes é.\n",
        "\n",
        "- Para classificação, a medida de impureza é a impureza de Gini ou o ganho / entropia de informação. Para regressão, a medida de impureza é a variância. Portanto, ao treinar uma árvore, é possível calcular o quanto cada recurso diminui a impureza. Quanto mais um recurso diminui a impureza, mais importante ele é. Em florestas aleatórias, a diminuição da impureza de cada recurso pode ser calculada em média entre as árvores para determinar a importância final da variável.\n",
        "\n",
        "- Para dar uma melhor intuição, os recursos selecionados no topo das árvores são em geral mais importantes do que os recursos selecionados nos nós finais das árvores, pois geralmente as divisões superiores levam a maiores ganhos de informação.\n",
        "\n",
        "- Por favor, consulte meu kernel, [Random Forest Classifier + Feature Importance - Seção 13. Encontre recursos importantes com o modelo Random Forest] (https://www.kaggle.com/prashant111/random-forest-classifier-feature-importance) para saber como encontrar características importantes usando o modelo de floresta aleatório.\n",
        "\n",
        "- Vou demonstrar esse processo usando o conjunto de dados de classificação de cogumelos da seguinte forma:"
      ]
    },
    {
      "cell_type": "code",
      "metadata": {
        "trusted": true,
        "id": "p99cHj5r7yq-"
      },
      "source": [
        "# Import libraries\n",
        "from sklearn import preprocessing\n",
        "from sklearn.preprocessing import LabelEncoder\n",
        "from sklearn.preprocessing import StandardScaler\n",
        "from sklearn.model_selection import train_test_split\n",
        "from sklearn import tree\n",
        "from sklearn.ensemble import RandomForestClassifier"
      ],
      "execution_count": null,
      "outputs": []
    },
    {
      "cell_type": "code",
      "metadata": {
        "trusted": true,
        "id": "SvKaRxwp7yq_"
      },
      "source": [
        "# Load dataset\n",
        "df = pd.read_csv('/content/drive/MyDrive/Datasets/mushrooms.csv')"
      ],
      "execution_count": null,
      "outputs": []
    },
    {
      "cell_type": "code",
      "metadata": {
        "trusted": true,
        "id": "mX1CnUXE7yq_"
      },
      "source": [
        "# Declare feature vector and target variable\n",
        "X = df.drop(['class'], axis = 1)\n",
        "y = df['class']"
      ],
      "execution_count": null,
      "outputs": []
    },
    {
      "cell_type": "code",
      "metadata": {
        "trusted": true,
        "id": "wXzz93QH7yq_"
      },
      "source": [
        "# Encode categorical variables\n",
        "X = pd.get_dummies(X, prefix_sep='_')\n",
        "y = LabelEncoder().fit_transform(y)"
      ],
      "execution_count": null,
      "outputs": []
    },
    {
      "cell_type": "code",
      "metadata": {
        "trusted": true,
        "id": "HXWI14Wx7yrA"
      },
      "source": [
        "# Normalize feature vector\n",
        "X2 = StandardScaler().fit_transform(X)"
      ],
      "execution_count": null,
      "outputs": []
    },
    {
      "cell_type": "code",
      "metadata": {
        "trusted": true,
        "id": "2MUMPzGE7yrA"
      },
      "source": [
        "# Split the dataset\n",
        "X_train, X_test, y_train, y_test = train_test_split(X2, y, test_size = 0.30, random_state = 0)"
      ],
      "execution_count": null,
      "outputs": []
    },
    {
      "cell_type": "code",
      "metadata": {
        "trusted": true,
        "id": "5TsV1Dk57yrB"
      },
      "source": [
        "\n",
        "# instantiate the classifier with n_estimators = 100\n",
        "clf = RandomForestClassifier(n_estimators=100, random_state=0)\n"
      ],
      "execution_count": null,
      "outputs": []
    },
    {
      "cell_type": "code",
      "metadata": {
        "trusted": true,
        "id": "MtMUb2dj7yrB"
      },
      "source": [
        "# fit the classifier to the training set\n",
        "clf.fit(X_train, y_train)"
      ],
      "execution_count": null,
      "outputs": []
    },
    {
      "cell_type": "code",
      "metadata": {
        "trusted": true,
        "id": "pirc19Hg7yrB"
      },
      "source": [
        "# predict on the test set\n",
        "y_pred = clf.predict(X_test)"
      ],
      "execution_count": null,
      "outputs": []
    },
    {
      "cell_type": "markdown",
      "metadata": {
        "id": "rda_IEXV7yrC"
      },
      "source": [
        "## **Feature Importance**\n",
        "\n",
        "- Modelos de árvores de decisão baseados em conjuntos (por exemplo, Árvores extras e Floresta aleatória) podem ser usados ​​para classificar a importância das diferentes características. Saber quais recursos nosso modelo está dando mais importância pode ser de vital importância para entender como nosso modelo está fazendo previsões (portanto, tornando-o mais explicável). Ao mesmo tempo, podemos nos livrar de recursos que não trazem nenhum benefício ao nosso modelo."
      ]
    },
    {
      "cell_type": "code",
      "metadata": {
        "trusted": true,
        "id": "EVv94U717yrC"
      },
      "source": [
        "# visualize feature importance\n",
        "\n",
        "plt.figure(num=None, figsize=(10,8), dpi=80, facecolor='w', edgecolor='k')\n",
        "\n",
        "feat_importances = pd.Series(clf.feature_importances_, index= X.columns)\n",
        "\n",
        "feat_importances.nlargest(7).plot(kind='barh')"
      ],
      "execution_count": null,
      "outputs": []
    },
    {
      "cell_type": "markdown",
      "metadata": {
        "id": "qssH6BTC7yrC"
      },
      "source": [
        "- Agora que sabemos quais recursos são mais importantes no modelo Random Forest, podemos treinar nosso modelo usando apenas esses recursos.\n",
        "\n",
        "- Eu implementei isso no kernel - [Random Forest Classifier + Feature Importance : Section 15 - Build the Random Forest model on selected features](https://www.kaggle.com/prashant111/random-forest-classifier-feature-importance). Resultou em maior precisão."
      ]
    },
    {
      "cell_type": "markdown",
      "metadata": {
        "id": "f8wesgUR7yrD"
      },
      "source": [
        "# **5. How to choose the right feature selection method** <a class=\"anchor\" id=\"5\"></a>\n",
        "\n",
        "- Podemos ver que existem muitas técnicas de seleção de recursos disponíveis.\n",
        "\n",
        "- O gráfico a seguir servirá como um guia sobre como escolher um método de seleção de recursos:"
      ]
    },
    {
      "cell_type": "markdown",
      "metadata": {
        "id": "2OsqzwxJ7yrD"
      },
      "source": [
        "![How to Choose a Feature Selection Method](https://3qeqpr26caki16dnhd19sv6by6v-wpengine.netdna-ssl.com/wp-content/uploads/2019/11/How-to-Choose-Feature-Selection-Methods-For-Machine-Learning.png)\n",
        "\n",
        "\n",
        "## **Image Source : Machine Learning Mastery**"
      ]
    },
    {
      "cell_type": "markdown",
      "metadata": {
        "id": "wlb_i1be7yrD"
      },
      "source": [
        "## **Entrada Numérica, Saída Numérica**\n",
        "\n",
        "- Este é um problema de modelagem preditiva de regressão com variáveis ​​de entrada numéricas.\n",
        "\n",
        "- As técnicas mais comuns são usar um coeficiente de correlação, como Pearson para uma correlação linear ou métodos baseados em classificação para uma correlação não linear.\n",
        "\n",
        "- Os testes aplicados são os seguintes: -\n",
        "\n",
        "  - Coeficiente de correlação de Pearson (linear).\n",
        "  - Coeficiente de classificação de Spearman (não linear)\n",
        "  \n",
        "  \n",
        "## **Entrada numérica, saída categórica**\n",
        "\n",
        "- Este é um problema de modelagem preditiva de classificação com variáveis ​​de entrada numéricas.\n",
        "\n",
        "- Este pode ser o exemplo mais comum de um problema de classificação,\n",
        "\n",
        "- Novamente, as técnicas mais comuns são baseadas em correlação, embora, neste caso, elas devam levar em consideração a meta categórica.\n",
        "\n",
        "- Podemos empregar os seguintes testes da seguinte forma: \n",
        "\n",
        "  - Coeficiente de correlação ANOVA (linear).\n",
        "  - Coeficiente de classificação de Kendall (não linear).\n",
        "  \n",
        "- Kendall assume que a variável categórica é ordinal.\n",
        "\n",
        "\n",
        "## **Entrada categórica, saída numérica**\n",
        "\n",
        "- Este é um problema de modelagem preditiva de regressão com variáveis ​​de entrada categóricas.\n",
        "\n",
        "- Este é um exemplo estranho de um problema de regressão (por exemplo, não o encontraremos com frequência).\n",
        "\n",
        "- Podemos usar os mesmos métodos de “entrada numérica, saída categórica” (descritos acima), mas ao contrário.\n",
        "\n",
        "\n",
        "\n",
        "\n",
        "## **Entrada categórica, saída categórica**\n",
        "\n",
        "- Este é um problema de modelagem preditiva de classificação com variáveis ​​de entrada categóricas.\n",
        "\n",
        "- A medida de correlação mais comum para dados categóricos é o teste qui-quadrado. Também podemos usar a informação mútua (ganho de informação) do campo da teoria da informação.\n",
        "\n",
        "- Os seguintes testes podem ser empregados neste caso -\n",
        "\n",
        "  - Teste Qui-Quadrado (tabelas de contingência).\n",
        "  - Informação mútua.\n",
        "  \n",
        "Na verdade, a informação mútua é um método poderoso que pode ser útil para dados categóricos e numéricos, por exemplo, é independente dos tipos de dados."
      ]
    },
    {
      "cell_type": "markdown",
      "metadata": {
        "id": "We4Y0wmi7yrE"
      },
      "source": [
        "\n",
        "# **6. Dicas e truques para a seleção de recursos** <a class=\"anchor\" id=\"6\"> </a>\n",
        "\n",
        "\n",
        "- Nesta seção, fornecemos algumas considerações adicionais ao usar a seleção de recursos baseada em filtro.\n",
        "\n",
        "\n",
        "## **Estatísticas de correlação**\n",
        "\n",
        "- A biblioteca scikit-learn fornece uma implementação da maioria das medidas estatísticas úteis.\n",
        "\n",
        "- Por exemplo:\n",
        "   - Pearson’s Correlation Coefficient: [f_regression()](https://scikit-learn.org/stable/modules/generated/sklearn.feature_selection.f_regression.html)\n",
        "   - ANOVA: [f_classif()](https://scikit-learn.org/stable/modules/generated/sklearn.feature_selection.f_classif.html)\n",
        "   - Chi-Squared: [chi2()](https://scikit-learn.org/stable/modules/generated/sklearn.feature_selection.chi2.html)\n",
        "   - Mutual Information: [mutual_info_classif()](https://scikit-learn.org/stable/modules/generated/sklearn.feature_selection.mutual_info_classif.html) and [mutual_info_regression()](https://scikit-learn.org/stable/modules/generated/sklearn.feature_selection.mutual_info_regression.html).\n",
        "   \n",
        "   \n",
        "- Além disso, a biblioteca SciPy fornece uma implementação de muito mais estatísticas, como o tau de Kendall (kendalltau) e a correlação de classificação de Spearman (spearmanr).\n",
        "\n",
        "\n",
        "## **Selection Method**\n",
        "\n",
        "- A biblioteca scikit-learn também fornece muitos métodos de filtragem diferentes, uma vez que as estatísticas foram calculadas para cada variável de entrada com o destino.\n",
        "\n",
        "- Dois dos métodos mais populares incluem:\n",
        "\n",
        "    - Select the top k variables: [SelectKBest](https://scikit-learn.org/stable/modules/generated/sklearn.feature_selection.SelectKBest.html)\n",
        "    - Select the top percentile variables: [SelectPercentile](https://scikit-learn.org/stable/modules/generated/sklearn.feature_selection.SelectPercentile.html)\n",
        "    \n",
        "\n",
        "\n",
        "## **Variáveis ​​de transformação**\n",
        "\n",
        "- Podemos considerar a transformação das variáveis ​​para acessar diferentes métodos estatísticos. Por exemplo, podemos transformar uma variável categórica em ordinal, mesmo que não seja, e ver se algum resultado interessante sai.\n",
        "\n",
        "- Também podemos fazer uma variável numérica discreta (por exemplo, bins); tente medidas baseadas em categorias.\n",
        "\n",
        "- Algumas medidas estatísticas assumem propriedades das variáveis, como a de Pearson, que assume uma distribuição de probabilidade gaussiana para as observações e uma relação linear. Você pode transformar os dados para atender às expectativas do teste e tentar o teste independentemente das expectativas e comparar os resultados.\n",
        "\n",
        "\n",
        "\n",
        "## **Qual é o melhor método?**\n",
        "\n",
        "- Não existe o melhor método de seleção de recursos. Assim como não existe o melhor conjunto de variáveis ​​de entrada ou o melhor algoritmo de aprendizado de máquina.\n",
        "\n",
        "- Em vez disso, devemos descobrir o que funciona melhor para o seu problema específico, usando experimentação sistemática cuidadosa.\n",
        "\n",
        "- Devemos tentar uma variedade de modelos diferentes que se encaixam em diferentes subconjuntos de recursos escolhidos por meio de diferentes medidas estatísticas e descobrir o que funciona melhor para o seu problema específico.\n",
        "\n",
        "\n",
        "## **4 melhores formas de seleção de recursos**\n",
        "\n",
        "- As 4 formas práticas de seleção de recursos que produzem melhores resultados são as seguintes:\n",
        "\n",
        "    1. SelectKBest\n",
        "    2. Recursive Feature Elimination\n",
        "    3. Correlation-matrix with heatmap\n",
        "    4. Random-Forest Importance"
      ]
    },
    {
      "cell_type": "markdown",
      "metadata": {
        "_uuid": "d629ff2d2480ee46fbb7e2d37f6b5fab8052498a",
        "collapsed": true,
        "_cell_guid": "79c7e3d0-c299-4dcb-8224-4455121ee9b0",
        "trusted": false,
        "id": "lpF0byQr7yrE"
      },
      "source": [
        "# **7. Referências** <a class=\"anchor\" id=\"7\"> </a>\n",
        "\n",
        "\n",
        "\n",
        "- O trabalho realizado neste kernel é inspirado nos seguintes cursos e sites: -\n",
        "\n",
        "\n",
        "  1. [Feature Selection for Machine Learning](https://www.udemy.com/course/feature-selection-for-machine-learning/) by Soledad Galli\n",
        "\n",
        "  2. [Analytics Vidhya article on Feature Selection](https://www.analyticsvidhya.com/blog/2016/12/introduction-to-feature-selection-methods-with-an-example-or-how-to-select-the-right-variables/)\n",
        "\n",
        "  3. https://en.wikipedia.org/wiki/Feature_selection\n",
        "\n",
        "  4. https://machinelearningmastery.com/feature-selection-with-real-and-categorical-data/"
      ]
    }
  ]
}
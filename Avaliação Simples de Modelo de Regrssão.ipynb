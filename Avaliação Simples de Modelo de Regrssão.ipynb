{
  "metadata": {
    "kernelspec": {
      "language": "python",
      "display_name": "Python 3",
      "name": "python3"
    },
    "language_info": {
      "pygments_lexer": "ipython3",
      "nbconvert_exporter": "python",
      "version": "3.6.4",
      "file_extension": ".py",
      "codemirror_mode": {
        "name": "ipython",
        "version": 3
      },
      "name": "python",
      "mimetype": "text/x-python"
    },
    "colab": {
      "name": "Avaliação de Modelo de Regressão.ipynb",
      "provenance": [],
      "collapsed_sections": []
    }
  },
  "nbformat_minor": 0,
  "nbformat": 4,
  "cells": [
    {
      "cell_type": "code",
      "source": [
        "\n",
        "import numpy as np # linear algebra\n",
        "import pandas as pd # data processing, CSV file I/O (e.g. pd.read_csv)\n"
      ],
      "metadata": {
        "_uuid": "8f2839f25d086af736a60e9eeb907d3b93b6e0e5",
        "_cell_guid": "b1076dfc-b9ad-4769-8c92-a6c4dae69d19",
        "trusted": true,
        "id": "sPoXp7ugo5Tt"
      },
      "execution_count": null,
      "outputs": []
    },
    {
      "cell_type": "code",
      "source": [
        "import pandas as pd\n",
        "import numpy as np\n",
        "from sklearn.model_selection import train_test_split\n",
        "from sklearn.metrics import r2_score\n",
        "import matplotlib.pyplot as plt\n",
        "import seaborn as sns"
      ],
      "metadata": {
        "_uuid": "d629ff2d2480ee46fbb7e2d37f6b5fab8052498a",
        "_cell_guid": "79c7e3d0-c299-4dcb-8224-4455121ee9b0",
        "trusted": true,
        "id": "CidAK8teo5Tw"
      },
      "execution_count": null,
      "outputs": []
    },
    {
      "cell_type": "code",
      "source": [
        "df = pd.read_csv('/content/CarPrice_Assignment.csv')"
      ],
      "metadata": {
        "trusted": true,
        "id": "0bgjGhqno5Tx"
      },
      "execution_count": null,
      "outputs": []
    },
    {
      "cell_type": "code",
      "source": [
        "df.drop(['car_ID', 'CarName', 'fueltype', 'aspiration', 'cylindernumber', 'fuelsystem', 'enginetype', 'doornumber', 'carbody' , 'drivewheel','enginelocation'], axis=1, inplace=True)"
      ],
      "metadata": {
        "id": "cZ27l8sQvU3B"
      },
      "execution_count": null,
      "outputs": []
    },
    {
      "cell_type": "code",
      "source": [
        "df.head()"
      ],
      "metadata": {
        "colab": {
          "base_uri": "https://localhost:8080/",
          "height": 270
        },
        "id": "176ZeW-yuXnw",
        "outputId": "e4423f12-9c29-4c16-c0ee-6041b9570d87"
      },
      "execution_count": null,
      "outputs": [
        {
          "output_type": "execute_result",
          "data": {
            "text/html": [
              "\n",
              "  <div id=\"df-1f305567-32fd-4fd0-858a-7bb9a60b7f4b\">\n",
              "    <div class=\"colab-df-container\">\n",
              "      <div>\n",
              "<style scoped>\n",
              "    .dataframe tbody tr th:only-of-type {\n",
              "        vertical-align: middle;\n",
              "    }\n",
              "\n",
              "    .dataframe tbody tr th {\n",
              "        vertical-align: top;\n",
              "    }\n",
              "\n",
              "    .dataframe thead th {\n",
              "        text-align: right;\n",
              "    }\n",
              "</style>\n",
              "<table border=\"1\" class=\"dataframe\">\n",
              "  <thead>\n",
              "    <tr style=\"text-align: right;\">\n",
              "      <th></th>\n",
              "      <th>symboling</th>\n",
              "      <th>wheelbase</th>\n",
              "      <th>carlength</th>\n",
              "      <th>carwidth</th>\n",
              "      <th>carheight</th>\n",
              "      <th>curbweight</th>\n",
              "      <th>enginesize</th>\n",
              "      <th>boreratio</th>\n",
              "      <th>stroke</th>\n",
              "      <th>compressionratio</th>\n",
              "      <th>horsepower</th>\n",
              "      <th>peakrpm</th>\n",
              "      <th>citympg</th>\n",
              "      <th>highwaympg</th>\n",
              "      <th>price</th>\n",
              "    </tr>\n",
              "  </thead>\n",
              "  <tbody>\n",
              "    <tr>\n",
              "      <th>0</th>\n",
              "      <td>3</td>\n",
              "      <td>88.6</td>\n",
              "      <td>168.8</td>\n",
              "      <td>64.1</td>\n",
              "      <td>48.8</td>\n",
              "      <td>2548</td>\n",
              "      <td>130</td>\n",
              "      <td>3.47</td>\n",
              "      <td>2.68</td>\n",
              "      <td>9.0</td>\n",
              "      <td>111</td>\n",
              "      <td>5000</td>\n",
              "      <td>21</td>\n",
              "      <td>27</td>\n",
              "      <td>13495.0</td>\n",
              "    </tr>\n",
              "    <tr>\n",
              "      <th>1</th>\n",
              "      <td>3</td>\n",
              "      <td>88.6</td>\n",
              "      <td>168.8</td>\n",
              "      <td>64.1</td>\n",
              "      <td>48.8</td>\n",
              "      <td>2548</td>\n",
              "      <td>130</td>\n",
              "      <td>3.47</td>\n",
              "      <td>2.68</td>\n",
              "      <td>9.0</td>\n",
              "      <td>111</td>\n",
              "      <td>5000</td>\n",
              "      <td>21</td>\n",
              "      <td>27</td>\n",
              "      <td>16500.0</td>\n",
              "    </tr>\n",
              "    <tr>\n",
              "      <th>2</th>\n",
              "      <td>1</td>\n",
              "      <td>94.5</td>\n",
              "      <td>171.2</td>\n",
              "      <td>65.5</td>\n",
              "      <td>52.4</td>\n",
              "      <td>2823</td>\n",
              "      <td>152</td>\n",
              "      <td>2.68</td>\n",
              "      <td>3.47</td>\n",
              "      <td>9.0</td>\n",
              "      <td>154</td>\n",
              "      <td>5000</td>\n",
              "      <td>19</td>\n",
              "      <td>26</td>\n",
              "      <td>16500.0</td>\n",
              "    </tr>\n",
              "    <tr>\n",
              "      <th>3</th>\n",
              "      <td>2</td>\n",
              "      <td>99.8</td>\n",
              "      <td>176.6</td>\n",
              "      <td>66.2</td>\n",
              "      <td>54.3</td>\n",
              "      <td>2337</td>\n",
              "      <td>109</td>\n",
              "      <td>3.19</td>\n",
              "      <td>3.40</td>\n",
              "      <td>10.0</td>\n",
              "      <td>102</td>\n",
              "      <td>5500</td>\n",
              "      <td>24</td>\n",
              "      <td>30</td>\n",
              "      <td>13950.0</td>\n",
              "    </tr>\n",
              "    <tr>\n",
              "      <th>4</th>\n",
              "      <td>2</td>\n",
              "      <td>99.4</td>\n",
              "      <td>176.6</td>\n",
              "      <td>66.4</td>\n",
              "      <td>54.3</td>\n",
              "      <td>2824</td>\n",
              "      <td>136</td>\n",
              "      <td>3.19</td>\n",
              "      <td>3.40</td>\n",
              "      <td>8.0</td>\n",
              "      <td>115</td>\n",
              "      <td>5500</td>\n",
              "      <td>18</td>\n",
              "      <td>22</td>\n",
              "      <td>17450.0</td>\n",
              "    </tr>\n",
              "  </tbody>\n",
              "</table>\n",
              "</div>\n",
              "      <button class=\"colab-df-convert\" onclick=\"convertToInteractive('df-1f305567-32fd-4fd0-858a-7bb9a60b7f4b')\"\n",
              "              title=\"Convert this dataframe to an interactive table.\"\n",
              "              style=\"display:none;\">\n",
              "        \n",
              "  <svg xmlns=\"http://www.w3.org/2000/svg\" height=\"24px\"viewBox=\"0 0 24 24\"\n",
              "       width=\"24px\">\n",
              "    <path d=\"M0 0h24v24H0V0z\" fill=\"none\"/>\n",
              "    <path d=\"M18.56 5.44l.94 2.06.94-2.06 2.06-.94-2.06-.94-.94-2.06-.94 2.06-2.06.94zm-11 1L8.5 8.5l.94-2.06 2.06-.94-2.06-.94L8.5 2.5l-.94 2.06-2.06.94zm10 10l.94 2.06.94-2.06 2.06-.94-2.06-.94-.94-2.06-.94 2.06-2.06.94z\"/><path d=\"M17.41 7.96l-1.37-1.37c-.4-.4-.92-.59-1.43-.59-.52 0-1.04.2-1.43.59L10.3 9.45l-7.72 7.72c-.78.78-.78 2.05 0 2.83L4 21.41c.39.39.9.59 1.41.59.51 0 1.02-.2 1.41-.59l7.78-7.78 2.81-2.81c.8-.78.8-2.07 0-2.86zM5.41 20L4 18.59l7.72-7.72 1.47 1.35L5.41 20z\"/>\n",
              "  </svg>\n",
              "      </button>\n",
              "      \n",
              "  <style>\n",
              "    .colab-df-container {\n",
              "      display:flex;\n",
              "      flex-wrap:wrap;\n",
              "      gap: 12px;\n",
              "    }\n",
              "\n",
              "    .colab-df-convert {\n",
              "      background-color: #E8F0FE;\n",
              "      border: none;\n",
              "      border-radius: 50%;\n",
              "      cursor: pointer;\n",
              "      display: none;\n",
              "      fill: #1967D2;\n",
              "      height: 32px;\n",
              "      padding: 0 0 0 0;\n",
              "      width: 32px;\n",
              "    }\n",
              "\n",
              "    .colab-df-convert:hover {\n",
              "      background-color: #E2EBFA;\n",
              "      box-shadow: 0px 1px 2px rgba(60, 64, 67, 0.3), 0px 1px 3px 1px rgba(60, 64, 67, 0.15);\n",
              "      fill: #174EA6;\n",
              "    }\n",
              "\n",
              "    [theme=dark] .colab-df-convert {\n",
              "      background-color: #3B4455;\n",
              "      fill: #D2E3FC;\n",
              "    }\n",
              "\n",
              "    [theme=dark] .colab-df-convert:hover {\n",
              "      background-color: #434B5C;\n",
              "      box-shadow: 0px 1px 3px 1px rgba(0, 0, 0, 0.15);\n",
              "      filter: drop-shadow(0px 1px 2px rgba(0, 0, 0, 0.3));\n",
              "      fill: #FFFFFF;\n",
              "    }\n",
              "  </style>\n",
              "\n",
              "      <script>\n",
              "        const buttonEl =\n",
              "          document.querySelector('#df-1f305567-32fd-4fd0-858a-7bb9a60b7f4b button.colab-df-convert');\n",
              "        buttonEl.style.display =\n",
              "          google.colab.kernel.accessAllowed ? 'block' : 'none';\n",
              "\n",
              "        async function convertToInteractive(key) {\n",
              "          const element = document.querySelector('#df-1f305567-32fd-4fd0-858a-7bb9a60b7f4b');\n",
              "          const dataTable =\n",
              "            await google.colab.kernel.invokeFunction('convertToInteractive',\n",
              "                                                     [key], {});\n",
              "          if (!dataTable) return;\n",
              "\n",
              "          const docLinkHtml = 'Like what you see? Visit the ' +\n",
              "            '<a target=\"_blank\" href=https://colab.research.google.com/notebooks/data_table.ipynb>data table notebook</a>'\n",
              "            + ' to learn more about interactive tables.';\n",
              "          element.innerHTML = '';\n",
              "          dataTable['output_type'] = 'display_data';\n",
              "          await google.colab.output.renderOutput(dataTable, element);\n",
              "          const docLink = document.createElement('div');\n",
              "          docLink.innerHTML = docLinkHtml;\n",
              "          element.appendChild(docLink);\n",
              "        }\n",
              "      </script>\n",
              "    </div>\n",
              "  </div>\n",
              "  "
            ],
            "text/plain": [
              "   symboling  wheelbase  carlength  ...  citympg  highwaympg    price\n",
              "0          3       88.6      168.8  ...       21          27  13495.0\n",
              "1          3       88.6      168.8  ...       21          27  16500.0\n",
              "2          1       94.5      171.2  ...       19          26  16500.0\n",
              "3          2       99.8      176.6  ...       24          30  13950.0\n",
              "4          2       99.4      176.6  ...       18          22  17450.0\n",
              "\n",
              "[5 rows x 15 columns]"
            ]
          },
          "metadata": {},
          "execution_count": 70
        }
      ]
    },
    {
      "cell_type": "code",
      "source": [
        "y = df['price']\n",
        "X = df.drop(['price'], axis=1)\n",
        "\n",
        "# Split our data\n",
        "X_train,X_test, y_train, y_test = train_test_split(X, y, test_size=0.2, random_state=42)"
      ],
      "metadata": {
        "id": "QGOX7JDeub56"
      },
      "execution_count": null,
      "outputs": []
    },
    {
      "cell_type": "code",
      "source": [
        "from sklearn.tree import DecisionTreeRegressor\n",
        "from sklearn.ensemble import RandomForestRegressor\n",
        "from sklearn.ensemble import GradientBoostingRegressor\n",
        "from sklearn.ensemble import VotingRegressor"
      ],
      "metadata": {
        "id": "35RS7uQisNdx"
      },
      "execution_count": null,
      "outputs": []
    },
    {
      "cell_type": "code",
      "source": [
        "models = {\n",
        "    \"Decision Tree\": DecisionTreeRegressor(random_state=0),\n",
        "    \"Random Forest\": RandomForestRegressor(random_state=0),\n",
        "    \"Gradient Boosting\": GradientBoostingRegressor(random_state=0),\n",
        "}"
      ],
      "metadata": {
        "id": "quLkNFtopl5B"
      },
      "execution_count": null,
      "outputs": []
    },
    {
      "cell_type": "code",
      "source": [
        "df.dtypes"
      ],
      "metadata": {
        "colab": {
          "base_uri": "https://localhost:8080/"
        },
        "id": "VZw5Tljlu-hT",
        "outputId": "921118a7-9939-4053-a012-723dff2ec425"
      },
      "execution_count": null,
      "outputs": [
        {
          "output_type": "execute_result",
          "data": {
            "text/plain": [
              "symboling             int64\n",
              "wheelbase           float64\n",
              "carlength           float64\n",
              "carwidth            float64\n",
              "carheight           float64\n",
              "curbweight            int64\n",
              "enginesize            int64\n",
              "boreratio           float64\n",
              "stroke              float64\n",
              "compressionratio    float64\n",
              "horsepower            int64\n",
              "peakrpm               int64\n",
              "citympg               int64\n",
              "highwaympg            int64\n",
              "price               float64\n",
              "dtype: object"
            ]
          },
          "metadata": {},
          "execution_count": 80
        }
      ]
    },
    {
      "cell_type": "code",
      "source": [
        "model_df = []\n",
        "RMSE = []\n",
        "MAE = []\n",
        "r2 = []\n",
        "\n",
        "\n",
        "for model, model_launch in models.items():\n",
        "    \n",
        "    # Loop through listed models\n",
        "    model_initiated = model_launch\n",
        "    model_initiated.fit(X_train, y_train)\n",
        "    predictions = model_initiated.predict(X_test)\n",
        "    \n",
        "    # Model Names\n",
        "    model_df.append(model)\n",
        "    \n",
        "    # Model Scores\n",
        "    RMSE.append(np.sqrt(mean_squared_error(y_test, predictions)))\n",
        "    MAE.append(mean_absolute_error(y_test, predictions))\n",
        "    r2.append(r2_score(y_test, predictions))\n",
        "   \n",
        "    \n",
        "    # Model Names & Scores in to a DataFrame\n",
        "    \n",
        "    scores_df = pd.DataFrame({'Model':model_df,\n",
        "                              'RMSE': RMSE, \n",
        "                              'MAE': MAE,\n",
        "                              'R2':r2}).sort_values(by='R2', ascending=False)\n",
        "    \n",
        "    \n",
        "# Stylised DataFrame to help quickly grasp top performing models across metrics\n",
        "scores_df\n",
        "\n",
        "(scores_df.style\n",
        "  .background_gradient(cmap='RdBu', subset=['RMSE', 'MAE','R2'])\n",
        "  .highlight_max(subset=['RMSE', 'MAE','R2'], color='gold')\n",
        "  .set_caption('Desempenho do modelo com dados não dimensionados')\n",
        "  .format({'RMSE': \"{:.6}\",\n",
        "           'MAE':  \"{:.6}\",\n",
        "           'R2':   \"{:.2%}\",\n",
        "          }))\n"
      ],
      "metadata": {
        "colab": {
          "base_uri": "https://localhost:8080/",
          "height": 178
        },
        "id": "Zk48lMTIASL5",
        "outputId": "9598ced7-0ed6-4de7-918f-1ce129a05fb2"
      },
      "execution_count": null,
      "outputs": [
        {
          "output_type": "execute_result",
          "data": {
            "text/html": [
              "<style  type=\"text/css\" >\n",
              "#T_6f8763f2_7d15_11ec_9658_0242ac1c0002row0_col1,#T_6f8763f2_7d15_11ec_9658_0242ac1c0002row0_col2,#T_6f8763f2_7d15_11ec_9658_0242ac1c0002row2_col3{\n",
              "            background-color:  #67001f;\n",
              "            color:  #f1f1f1;\n",
              "        }#T_6f8763f2_7d15_11ec_9658_0242ac1c0002row0_col3,#T_6f8763f2_7d15_11ec_9658_0242ac1c0002row2_col1,#T_6f8763f2_7d15_11ec_9658_0242ac1c0002row2_col2{\n",
              "            background-color:  #053061;\n",
              "            color:  #f1f1f1;\n",
              "            background-color:  gold;\n",
              "        }#T_6f8763f2_7d15_11ec_9658_0242ac1c0002row1_col1{\n",
              "            background-color:  #f2f5f6;\n",
              "            color:  #000000;\n",
              "        }#T_6f8763f2_7d15_11ec_9658_0242ac1c0002row1_col2{\n",
              "            background-color:  #c2ddec;\n",
              "            color:  #000000;\n",
              "        }#T_6f8763f2_7d15_11ec_9658_0242ac1c0002row1_col3{\n",
              "            background-color:  #e7f0f4;\n",
              "            color:  #000000;\n",
              "        }</style><table id=\"T_6f8763f2_7d15_11ec_9658_0242ac1c0002\" class=\"dataframe\"><caption>Desempenho do modelo com dados não dimensionados</caption><thead>    <tr>        <th class=\"blank level0\" ></th>        <th class=\"col_heading level0 col0\" >Model</th>        <th class=\"col_heading level0 col1\" >RMSE</th>        <th class=\"col_heading level0 col2\" >MAE</th>        <th class=\"col_heading level0 col3\" >R2</th>    </tr></thead><tbody>\n",
              "                <tr>\n",
              "                        <th id=\"T_6f8763f2_7d15_11ec_9658_0242ac1c0002level0_row0\" class=\"row_heading level0 row0\" >1</th>\n",
              "                        <td id=\"T_6f8763f2_7d15_11ec_9658_0242ac1c0002row0_col0\" class=\"data row0 col0\" >Random Forest</td>\n",
              "                        <td id=\"T_6f8763f2_7d15_11ec_9658_0242ac1c0002row0_col1\" class=\"data row0 col1\" >1758.09</td>\n",
              "                        <td id=\"T_6f8763f2_7d15_11ec_9658_0242ac1c0002row0_col2\" class=\"data row0 col2\" >1173.77</td>\n",
              "                        <td id=\"T_6f8763f2_7d15_11ec_9658_0242ac1c0002row0_col3\" class=\"data row0 col3\" >96.08%</td>\n",
              "            </tr>\n",
              "            <tr>\n",
              "                        <th id=\"T_6f8763f2_7d15_11ec_9658_0242ac1c0002level0_row1\" class=\"row_heading level0 row1\" >2</th>\n",
              "                        <td id=\"T_6f8763f2_7d15_11ec_9658_0242ac1c0002row1_col0\" class=\"data row1 col0\" >Gradient Boosting</td>\n",
              "                        <td id=\"T_6f8763f2_7d15_11ec_9658_0242ac1c0002row1_col1\" class=\"data row1 col1\" >2292.99</td>\n",
              "                        <td id=\"T_6f8763f2_7d15_11ec_9658_0242ac1c0002row1_col2\" class=\"data row1 col2\" >1611.94</td>\n",
              "                        <td id=\"T_6f8763f2_7d15_11ec_9658_0242ac1c0002row1_col3\" class=\"data row1 col3\" >93.34%</td>\n",
              "            </tr>\n",
              "            <tr>\n",
              "                        <th id=\"T_6f8763f2_7d15_11ec_9658_0242ac1c0002level0_row2\" class=\"row_heading level0 row2\" >0</th>\n",
              "                        <td id=\"T_6f8763f2_7d15_11ec_9658_0242ac1c0002row2_col0\" class=\"data row2 col0\" >Decision Tree</td>\n",
              "                        <td id=\"T_6f8763f2_7d15_11ec_9658_0242ac1c0002row2_col1\" class=\"data row2 col1\" >2797.6</td>\n",
              "                        <td id=\"T_6f8763f2_7d15_11ec_9658_0242ac1c0002row2_col2\" class=\"data row2 col2\" >1879.09</td>\n",
              "                        <td id=\"T_6f8763f2_7d15_11ec_9658_0242ac1c0002row2_col3\" class=\"data row2 col3\" >90.09%</td>\n",
              "            </tr>\n",
              "    </tbody></table>"
            ],
            "text/plain": [
              "<pandas.io.formats.style.Styler at 0x7f32fb85f710>"
            ]
          },
          "metadata": {},
          "execution_count": 141
        }
      ]
    },
    {
      "cell_type": "code",
      "source": [
        ""
      ],
      "metadata": {
        "id": "fSHSh2tAhT58"
      },
      "execution_count": null,
      "outputs": []
    }
  ]
}
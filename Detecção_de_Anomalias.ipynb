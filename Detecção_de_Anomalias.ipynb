{
  "nbformat": 4,
  "nbformat_minor": 0,
  "metadata": {
    "kernelspec": {
      "display_name": "Python 3",
      "language": "python",
      "name": "python3"
    },
    "language_info": {
      "codemirror_mode": {
        "name": "ipython",
        "version": 3
      },
      "file_extension": ".py",
      "mimetype": "text/x-python",
      "name": "python",
      "nbconvert_exporter": "python",
      "pygments_lexer": "ipython3",
      "version": "3.7.4"
    },
    "colab": {
      "name": "Detecção de  Anomalias.ipynb",
      "provenance": [],
      "collapsed_sections": [
        "5oCNHyU2Wxtv",
        "qe-7XKosWxtx"
      ],
      "include_colab_link": true
    }
  },
  "cells": [
    {
      "cell_type": "markdown",
      "metadata": {
        "id": "view-in-github",
        "colab_type": "text"
      },
      "source": [
        "<a href=\"https://colab.research.google.com/github/Rodrigo-Lopes-de-Andrade/Artigos_e_Projetos/blob/main/Detec%C3%A7%C3%A3o_de_Anomalias.ipynb\" target=\"_parent\"><img src=\"https://colab.research.google.com/assets/colab-badge.svg\" alt=\"Open In Colab\"/></a>"
      ]
    },
    {
      "cell_type": "markdown",
      "metadata": {
        "id": "1ZLLG_JyWxtP"
      },
      "source": [
        "### Ao contrário do que a maioria dos cursos de ciência de dados faria você acreditar, nem todo conjunto de dados é um grupo perfeitamente curado de observações sem valores ausentes ou outliers (por exemplo, mtcars e conjuntos de dados de íris). Os dados do mundo real são confusos, o que significa que precisamos limpá-los e colocá-los em um formato aceitável antes mesmo de iniciarmos a análise. A limpeza de dados é uma parte nada glamorosa, mas necessária da maioria dos problemas reais de ciência de dados. Neste caderno, tentarei explicar o que são outliers e seus tipos, como detectar outliers e também medidas corretivas para outliers\n",
        "\n",
        "### Por favor, vote positivamente no bloco de notas se você achar que é perspicaz!\n",
        "\n",
        "### Espero que você ache o caderno útil, deixe-me saber o que você acha na seção de comentários abaixo e conecte-me no LinkedIn @ [Rodrigo Andrade] (https://www.linkedin.com/in/rodrigo-lopes-de-andrade-51753246/)\n",
        "\n",
        "#### Vamos começar importando todas as bibliotecas necessárias"
      ]
    },
    {
      "cell_type": "code",
      "metadata": {
        "trusted": true,
        "id": "hnTQN-O7WxtX"
      },
      "source": [
        "import numpy as np\n",
        "import pandas as pd\n",
        "import matplotlib.pyplot as plt\n",
        "import seaborn as sns \n",
        "pd.set_option(\"display.max_columns\",None) \n",
        "pd.set_option(\"display.max_rows\",None) \n",
        "\n",
        "import warnings\n",
        "warnings.filterwarnings(\"ignore\")\n",
        "\n",
        "from IPython.display import Image\n",
        "from sklearn.preprocessing import StandardScaler\n",
        "from sklearn.cluster import DBSCAN\n",
        "from sklearn.neighbors import LocalOutlierFactor\n",
        "sns.set(style=\"darkgrid\", palette=\"pastel\", color_codes=True)\n",
        "sns.set_context('talk')"
      ],
      "execution_count": null,
      "outputs": []
    },
    {
      "cell_type": "markdown",
      "metadata": {
        "id": "QJfXhfn2Wxth"
      },
      "source": [
        "# O que são outliers?"
      ]
    },
    {
      "cell_type": "markdown",
      "metadata": {
        "id": "RQ9-JlPbWxtj"
      },
      "source": [
        "#### Vou tentar explicar de uma maneira simplificada\n",
        "### Um outlier é uma observação diferente das outras observações. É raro, distinto ou não se encaixa de alguma forma. Também é chamado de anomalias."
      ]
    },
    {
      "cell_type": "markdown",
      "metadata": {
        "id": "GpD9MlsBWxtj"
      },
      "source": [
        "#### Outliers podem ter muitas causas, como:\n",
        "\n",
        "#### - Erro de medição ou entrada.\n",
        "#### - Corrupção de dados.\n",
        "#### - Observação de valores discrepantes verdadeiros.\n",
        "\n",
        "#### Não há uma maneira precisa de definir e identificar outliers em geral devido às especificidades de cada conjunto de dados. Em vez disso, você, ou um especialista no domínio, deve interpretar as observações brutas e decidir se um valor é um outlier ou não.\n",
        "\n",
        "#### No entanto, podemos usar métodos estatísticos para identificar observações que parecem raras ou improváveis, dados os dados disponíveis. Isso não significa que os valores identificados sejam outliers e devam ser removidos. Uma boa dica é considerar representar graficamente os valores discrepantes identificados, talvez no contexto de valores não discrepantes para ver se há algum relacionamento ou padrão sistemático para os valores discrepantes. Se houver, talvez eles não sejam valores discrepantes e possam ser explicados, ou talvez os próprios valores discrepantes possam ser identificados de forma mais sistemática."
      ]
    },
    {
      "cell_type": "markdown",
      "metadata": {
        "_kg_hide-input": false,
        "trusted": true,
        "id": "Ka_xb7PMWxtk"
      },
      "source": [
        "<img src=\"https://media.giphy.com/media/bWlBE4EgQrXb2/giphy.gif\">"
      ]
    },
    {
      "cell_type": "markdown",
      "metadata": {
        "id": "z5rEbAOVWxtm"
      },
      "source": [
        "# Types of outliers:"
      ]
    },
    {
      "cell_type": "markdown",
      "metadata": {
        "id": "zIethzLhWxto"
      },
      "source": [
        "### Outlier pode ser de dois tipos:\n",
        "### 1) Univariada\n",
        "### 2) Multivariada.\n",
        "\n",
        "#### Outliers univariados podem ser encontrados quando olhamos para a distribuição de uma única variável. Outliers multivariados são outliers em um espaço n-dimensional. Para encontrá-los, você deve examinar as distribuições em várias dimensões.\n",
        "\n",
        "#### Vamos entender isso com um exemplo. Digamos que estamos entendendo a relação entre altura e peso. Abaixo, temos a distribuição univariada e bivariada para Altura, Peso. Dê uma olhada no gráfico de caixa. Não temos nenhum outlier (acima e abaixo de 1,5 * IQR, método mais comum). Agora olhe para o gráfico de dispersão. Aqui, temos dois valores abaixo e um acima da média em um segmento específico de peso e altura."
      ]
    },
    {
      "cell_type": "markdown",
      "metadata": {
        "id": "sBl3a86vWxtp"
      },
      "source": [
        "## Qual é o impacto de outliers em um conjunto de dados?"
      ]
    },
    {
      "cell_type": "markdown",
      "metadata": {
        "id": "nrAeMwZlWxtq"
      },
      "source": [
        "#### Outliers podem alterar drasticamente os resultados da análise de dados e da modelagem estatística. Existem inúmeros impactos desfavoráveis ​​de outliers no conjunto de dados:\n",
        "\n",
        "#### - Aumenta a variância do erro e reduz o poder dos testes estatísticos\n",
        "#### - Se os outliers não forem distribuídos aleatoriamente, eles podem diminuir a normalidade\n",
        "#### - Eles podem enviesar ou influenciar estimativas que podem ser de interesse substantivo\n",
        "#### - Eles também podem afetar a suposição básica de regressão, ANOVA e outras suposições do modelo estatístico.\n",
        "\n"
      ]
    },
    {
      "cell_type": "markdown",
      "metadata": {
        "id": "twaPgDkhWxtr"
      },
      "source": [
        "### Para dar exemplos de detecção de valores discrepantes e medidas corretivas, vou pegar alguns conjuntos de dados para trabalhar"
      ]
    },
    {
      "cell_type": "markdown",
      "metadata": {
        "id": "oeUsWd8TWxts"
      },
      "source": [
        "# Outlier Detection Techniques:"
      ]
    },
    {
      "cell_type": "markdown",
      "metadata": {
        "id": "jI57xe7bWxts"
      },
      "source": [
        "## A) Univariate Outliers:"
      ]
    },
    {
      "cell_type": "code",
      "metadata": {
        "trusted": true,
        "colab": {
          "base_uri": "https://localhost:8080/",
          "height": 205
        },
        "id": "d7j4xOPQWxts",
        "outputId": "1ca6bdac-7d8b-4351-c54f-34627c3e4ca3"
      },
      "source": [
        "df_1 = pd.read_csv(\"https://raw.githubusercontent.com/Rodrigo-Lopes-de-Andrade/Datasets/main/outlier_heart.csv\")\n",
        "df_1.head()"
      ],
      "execution_count": null,
      "outputs": [
        {
          "output_type": "execute_result",
          "data": {
            "text/html": [
              "<div>\n",
              "<style scoped>\n",
              "    .dataframe tbody tr th:only-of-type {\n",
              "        vertical-align: middle;\n",
              "    }\n",
              "\n",
              "    .dataframe tbody tr th {\n",
              "        vertical-align: top;\n",
              "    }\n",
              "\n",
              "    .dataframe thead th {\n",
              "        text-align: right;\n",
              "    }\n",
              "</style>\n",
              "<table border=\"1\" class=\"dataframe\">\n",
              "  <thead>\n",
              "    <tr style=\"text-align: right;\">\n",
              "      <th></th>\n",
              "      <th>age</th>\n",
              "      <th>sex</th>\n",
              "      <th>cp</th>\n",
              "      <th>trestbps</th>\n",
              "      <th>chol</th>\n",
              "      <th>fbs</th>\n",
              "      <th>restecg</th>\n",
              "      <th>thalach</th>\n",
              "      <th>exang</th>\n",
              "      <th>oldpeak</th>\n",
              "      <th>slope</th>\n",
              "      <th>ca</th>\n",
              "      <th>thal</th>\n",
              "      <th>target</th>\n",
              "    </tr>\n",
              "  </thead>\n",
              "  <tbody>\n",
              "    <tr>\n",
              "      <th>0</th>\n",
              "      <td>63</td>\n",
              "      <td>1</td>\n",
              "      <td>3</td>\n",
              "      <td>145</td>\n",
              "      <td>233</td>\n",
              "      <td>1</td>\n",
              "      <td>0</td>\n",
              "      <td>150</td>\n",
              "      <td>0</td>\n",
              "      <td>2.3</td>\n",
              "      <td>0</td>\n",
              "      <td>0</td>\n",
              "      <td>1</td>\n",
              "      <td>1</td>\n",
              "    </tr>\n",
              "    <tr>\n",
              "      <th>1</th>\n",
              "      <td>37</td>\n",
              "      <td>1</td>\n",
              "      <td>2</td>\n",
              "      <td>130</td>\n",
              "      <td>250</td>\n",
              "      <td>0</td>\n",
              "      <td>1</td>\n",
              "      <td>187</td>\n",
              "      <td>0</td>\n",
              "      <td>3.5</td>\n",
              "      <td>0</td>\n",
              "      <td>0</td>\n",
              "      <td>2</td>\n",
              "      <td>1</td>\n",
              "    </tr>\n",
              "    <tr>\n",
              "      <th>2</th>\n",
              "      <td>41</td>\n",
              "      <td>0</td>\n",
              "      <td>1</td>\n",
              "      <td>130</td>\n",
              "      <td>204</td>\n",
              "      <td>0</td>\n",
              "      <td>0</td>\n",
              "      <td>172</td>\n",
              "      <td>0</td>\n",
              "      <td>1.4</td>\n",
              "      <td>2</td>\n",
              "      <td>0</td>\n",
              "      <td>2</td>\n",
              "      <td>1</td>\n",
              "    </tr>\n",
              "    <tr>\n",
              "      <th>3</th>\n",
              "      <td>56</td>\n",
              "      <td>1</td>\n",
              "      <td>1</td>\n",
              "      <td>120</td>\n",
              "      <td>236</td>\n",
              "      <td>0</td>\n",
              "      <td>1</td>\n",
              "      <td>178</td>\n",
              "      <td>0</td>\n",
              "      <td>0.8</td>\n",
              "      <td>2</td>\n",
              "      <td>0</td>\n",
              "      <td>2</td>\n",
              "      <td>1</td>\n",
              "    </tr>\n",
              "    <tr>\n",
              "      <th>4</th>\n",
              "      <td>57</td>\n",
              "      <td>0</td>\n",
              "      <td>0</td>\n",
              "      <td>120</td>\n",
              "      <td>354</td>\n",
              "      <td>0</td>\n",
              "      <td>1</td>\n",
              "      <td>163</td>\n",
              "      <td>1</td>\n",
              "      <td>0.6</td>\n",
              "      <td>2</td>\n",
              "      <td>0</td>\n",
              "      <td>2</td>\n",
              "      <td>1</td>\n",
              "    </tr>\n",
              "  </tbody>\n",
              "</table>\n",
              "</div>"
            ],
            "text/plain": [
              "   age  sex  cp  trestbps  chol  fbs  restecg  thalach  exang  oldpeak  slope  \\\n",
              "0   63    1   3       145   233    1        0      150      0      2.3      0   \n",
              "1   37    1   2       130   250    0        1      187      0      3.5      0   \n",
              "2   41    0   1       130   204    0        0      172      0      1.4      2   \n",
              "3   56    1   1       120   236    0        1      178      0      0.8      2   \n",
              "4   57    0   0       120   354    0        1      163      1      0.6      2   \n",
              "\n",
              "   ca  thal  target  \n",
              "0   0     1       1  \n",
              "1   0     2       1  \n",
              "2   0     2       1  \n",
              "3   0     2       1  \n",
              "4   0     2       1  "
            ]
          },
          "metadata": {},
          "execution_count": 2
        }
      ]
    },
    {
      "cell_type": "markdown",
      "metadata": {
        "id": "U9zg2a-9Wxtt"
      },
      "source": [
        "#### I will perform basic EDA to analyse the Data Frame"
      ]
    },
    {
      "cell_type": "code",
      "metadata": {
        "trusted": true,
        "colab": {
          "base_uri": "https://localhost:8080/"
        },
        "id": "9dd8iM6-Wxtt",
        "outputId": "e0a49cba-9475-47ef-a7d6-657564b42038"
      },
      "source": [
        "df_1.isnull().sum()"
      ],
      "execution_count": null,
      "outputs": [
        {
          "output_type": "execute_result",
          "data": {
            "text/plain": [
              "age         0\n",
              "sex         0\n",
              "cp          0\n",
              "trestbps    0\n",
              "chol        0\n",
              "fbs         0\n",
              "restecg     0\n",
              "thalach     0\n",
              "exang       0\n",
              "oldpeak     0\n",
              "slope       0\n",
              "ca          0\n",
              "thal        0\n",
              "target      0\n",
              "dtype: int64"
            ]
          },
          "metadata": {},
          "execution_count": 5
        }
      ]
    },
    {
      "cell_type": "markdown",
      "metadata": {
        "id": "GIABMOIFWxtu"
      },
      "source": [
        "#### There are no null values in the data frame"
      ]
    },
    {
      "cell_type": "code",
      "metadata": {
        "scrolled": true,
        "trusted": true,
        "colab": {
          "base_uri": "https://localhost:8080/",
          "height": 319
        },
        "id": "q1feYiL4Wxtu",
        "outputId": "836b46cb-e88e-4cc9-a9e3-1a0198a04eeb"
      },
      "source": [
        "df_1.describe()"
      ],
      "execution_count": null,
      "outputs": [
        {
          "output_type": "execute_result",
          "data": {
            "text/html": [
              "<div>\n",
              "<style scoped>\n",
              "    .dataframe tbody tr th:only-of-type {\n",
              "        vertical-align: middle;\n",
              "    }\n",
              "\n",
              "    .dataframe tbody tr th {\n",
              "        vertical-align: top;\n",
              "    }\n",
              "\n",
              "    .dataframe thead th {\n",
              "        text-align: right;\n",
              "    }\n",
              "</style>\n",
              "<table border=\"1\" class=\"dataframe\">\n",
              "  <thead>\n",
              "    <tr style=\"text-align: right;\">\n",
              "      <th></th>\n",
              "      <th>age</th>\n",
              "      <th>sex</th>\n",
              "      <th>cp</th>\n",
              "      <th>trestbps</th>\n",
              "      <th>chol</th>\n",
              "      <th>fbs</th>\n",
              "      <th>restecg</th>\n",
              "      <th>thalach</th>\n",
              "      <th>exang</th>\n",
              "      <th>oldpeak</th>\n",
              "      <th>slope</th>\n",
              "      <th>ca</th>\n",
              "      <th>thal</th>\n",
              "      <th>target</th>\n",
              "    </tr>\n",
              "  </thead>\n",
              "  <tbody>\n",
              "    <tr>\n",
              "      <th>count</th>\n",
              "      <td>303.000000</td>\n",
              "      <td>303.000000</td>\n",
              "      <td>303.000000</td>\n",
              "      <td>303.000000</td>\n",
              "      <td>303.000000</td>\n",
              "      <td>303.000000</td>\n",
              "      <td>303.000000</td>\n",
              "      <td>303.000000</td>\n",
              "      <td>303.000000</td>\n",
              "      <td>303.000000</td>\n",
              "      <td>303.000000</td>\n",
              "      <td>303.000000</td>\n",
              "      <td>303.000000</td>\n",
              "      <td>303.000000</td>\n",
              "    </tr>\n",
              "    <tr>\n",
              "      <th>mean</th>\n",
              "      <td>54.366337</td>\n",
              "      <td>0.683168</td>\n",
              "      <td>0.966997</td>\n",
              "      <td>131.623762</td>\n",
              "      <td>246.264026</td>\n",
              "      <td>0.148515</td>\n",
              "      <td>0.528053</td>\n",
              "      <td>149.646865</td>\n",
              "      <td>0.326733</td>\n",
              "      <td>1.039604</td>\n",
              "      <td>1.399340</td>\n",
              "      <td>0.729373</td>\n",
              "      <td>2.313531</td>\n",
              "      <td>0.544554</td>\n",
              "    </tr>\n",
              "    <tr>\n",
              "      <th>std</th>\n",
              "      <td>9.082101</td>\n",
              "      <td>0.466011</td>\n",
              "      <td>1.032052</td>\n",
              "      <td>17.538143</td>\n",
              "      <td>51.830751</td>\n",
              "      <td>0.356198</td>\n",
              "      <td>0.525860</td>\n",
              "      <td>22.905161</td>\n",
              "      <td>0.469794</td>\n",
              "      <td>1.161075</td>\n",
              "      <td>0.616226</td>\n",
              "      <td>1.022606</td>\n",
              "      <td>0.612277</td>\n",
              "      <td>0.498835</td>\n",
              "    </tr>\n",
              "    <tr>\n",
              "      <th>min</th>\n",
              "      <td>29.000000</td>\n",
              "      <td>0.000000</td>\n",
              "      <td>0.000000</td>\n",
              "      <td>94.000000</td>\n",
              "      <td>126.000000</td>\n",
              "      <td>0.000000</td>\n",
              "      <td>0.000000</td>\n",
              "      <td>71.000000</td>\n",
              "      <td>0.000000</td>\n",
              "      <td>0.000000</td>\n",
              "      <td>0.000000</td>\n",
              "      <td>0.000000</td>\n",
              "      <td>0.000000</td>\n",
              "      <td>0.000000</td>\n",
              "    </tr>\n",
              "    <tr>\n",
              "      <th>25%</th>\n",
              "      <td>47.500000</td>\n",
              "      <td>0.000000</td>\n",
              "      <td>0.000000</td>\n",
              "      <td>120.000000</td>\n",
              "      <td>211.000000</td>\n",
              "      <td>0.000000</td>\n",
              "      <td>0.000000</td>\n",
              "      <td>133.500000</td>\n",
              "      <td>0.000000</td>\n",
              "      <td>0.000000</td>\n",
              "      <td>1.000000</td>\n",
              "      <td>0.000000</td>\n",
              "      <td>2.000000</td>\n",
              "      <td>0.000000</td>\n",
              "    </tr>\n",
              "    <tr>\n",
              "      <th>50%</th>\n",
              "      <td>55.000000</td>\n",
              "      <td>1.000000</td>\n",
              "      <td>1.000000</td>\n",
              "      <td>130.000000</td>\n",
              "      <td>240.000000</td>\n",
              "      <td>0.000000</td>\n",
              "      <td>1.000000</td>\n",
              "      <td>153.000000</td>\n",
              "      <td>0.000000</td>\n",
              "      <td>0.800000</td>\n",
              "      <td>1.000000</td>\n",
              "      <td>0.000000</td>\n",
              "      <td>2.000000</td>\n",
              "      <td>1.000000</td>\n",
              "    </tr>\n",
              "    <tr>\n",
              "      <th>75%</th>\n",
              "      <td>61.000000</td>\n",
              "      <td>1.000000</td>\n",
              "      <td>2.000000</td>\n",
              "      <td>140.000000</td>\n",
              "      <td>274.500000</td>\n",
              "      <td>0.000000</td>\n",
              "      <td>1.000000</td>\n",
              "      <td>166.000000</td>\n",
              "      <td>1.000000</td>\n",
              "      <td>1.600000</td>\n",
              "      <td>2.000000</td>\n",
              "      <td>1.000000</td>\n",
              "      <td>3.000000</td>\n",
              "      <td>1.000000</td>\n",
              "    </tr>\n",
              "    <tr>\n",
              "      <th>max</th>\n",
              "      <td>77.000000</td>\n",
              "      <td>1.000000</td>\n",
              "      <td>3.000000</td>\n",
              "      <td>200.000000</td>\n",
              "      <td>564.000000</td>\n",
              "      <td>1.000000</td>\n",
              "      <td>2.000000</td>\n",
              "      <td>202.000000</td>\n",
              "      <td>1.000000</td>\n",
              "      <td>6.200000</td>\n",
              "      <td>2.000000</td>\n",
              "      <td>4.000000</td>\n",
              "      <td>3.000000</td>\n",
              "      <td>1.000000</td>\n",
              "    </tr>\n",
              "  </tbody>\n",
              "</table>\n",
              "</div>"
            ],
            "text/plain": [
              "              age         sex          cp    trestbps        chol         fbs  \\\n",
              "count  303.000000  303.000000  303.000000  303.000000  303.000000  303.000000   \n",
              "mean    54.366337    0.683168    0.966997  131.623762  246.264026    0.148515   \n",
              "std      9.082101    0.466011    1.032052   17.538143   51.830751    0.356198   \n",
              "min     29.000000    0.000000    0.000000   94.000000  126.000000    0.000000   \n",
              "25%     47.500000    0.000000    0.000000  120.000000  211.000000    0.000000   \n",
              "50%     55.000000    1.000000    1.000000  130.000000  240.000000    0.000000   \n",
              "75%     61.000000    1.000000    2.000000  140.000000  274.500000    0.000000   \n",
              "max     77.000000    1.000000    3.000000  200.000000  564.000000    1.000000   \n",
              "\n",
              "          restecg     thalach       exang     oldpeak       slope          ca  \\\n",
              "count  303.000000  303.000000  303.000000  303.000000  303.000000  303.000000   \n",
              "mean     0.528053  149.646865    0.326733    1.039604    1.399340    0.729373   \n",
              "std      0.525860   22.905161    0.469794    1.161075    0.616226    1.022606   \n",
              "min      0.000000   71.000000    0.000000    0.000000    0.000000    0.000000   \n",
              "25%      0.000000  133.500000    0.000000    0.000000    1.000000    0.000000   \n",
              "50%      1.000000  153.000000    0.000000    0.800000    1.000000    0.000000   \n",
              "75%      1.000000  166.000000    1.000000    1.600000    2.000000    1.000000   \n",
              "max      2.000000  202.000000    1.000000    6.200000    2.000000    4.000000   \n",
              "\n",
              "             thal      target  \n",
              "count  303.000000  303.000000  \n",
              "mean     2.313531    0.544554  \n",
              "std      0.612277    0.498835  \n",
              "min      0.000000    0.000000  \n",
              "25%      2.000000    0.000000  \n",
              "50%      2.000000    1.000000  \n",
              "75%      3.000000    1.000000  \n",
              "max      3.000000    1.000000  "
            ]
          },
          "metadata": {},
          "execution_count": 6
        }
      ]
    },
    {
      "cell_type": "markdown",
      "metadata": {
        "id": "sowJ88cvWxtu"
      },
      "source": [
        "#### Let's consider serum cholestoral in mg/dl column i.e. \"chol\" for our analysis. I'll plot a simple box plot which is the best visualization for detecting outliers"
      ]
    },
    {
      "cell_type": "code",
      "metadata": {
        "trusted": true,
        "colab": {
          "base_uri": "https://localhost:8080/",
          "height": 485
        },
        "id": "Wyoce8wkWxtv",
        "outputId": "39de8ce5-4eaa-4c04-b270-32476f4fab23"
      },
      "source": [
        "plt.figure(figsize = (4,8))\n",
        "sns.boxplot(y = df_1.chol)"
      ],
      "execution_count": null,
      "outputs": [
        {
          "output_type": "execute_result",
          "data": {
            "text/plain": [
              "<matplotlib.axes._subplots.AxesSubplot at 0x7f8c33cc6710>"
            ]
          },
          "metadata": {},
          "execution_count": 7
        },
        {
          "output_type": "display_data",
          "data": {
            "image/png": "[encoded data removed]",
            "text/plain": [
              "<Figure size 288x576 with 1 Axes>"
            ]
          },
          "metadata": {}
        }
      ]
    },
    {
      "cell_type": "markdown",
      "metadata": {
        "id": "5oCNHyU2Wxtv"
      },
      "source": [
        "#### From the above box plot, we can surely observe that there are outliers in it!"
      ]
    },
    {
      "cell_type": "markdown",
      "metadata": {
        "id": "xwoqeZrhWxtv"
      },
      "source": [
        "# 1) Interquartile Range Method"
      ]
    },
    {
      "cell_type": "markdown",
      "metadata": {
        "id": "4FsADmjEWxtv"
      },
      "source": [
        "#### O conceito de Intervalo Interquartil (IQR) é usado para construir os gráficos de boxplot. IQR é um conceito em estatística usado para medir a dispersão estatística e a variabilidade dos dados dividindo o conjunto de dados em quartis.\n",
        "\n",
        "#### Em palavras simples, qualquer conjunto de dados ou qualquer conjunto de observações é dividido em quatro intervalos definidos com base nos valores dos dados e como eles se comparam ao conjunto de dados inteiro. Um quartil é o que divide os dados em três pontos e quatro intervalos.\n",
        "\n",
        "#### É a diferença entre o terceiro quartil e o primeiro quartil (IQR = Q3 -Q1). Outliers neste caso são definidos como as observações que estão abaixo (Q1 - 1,5x IQR) ou bigode inferior do boxplot ou acima (Q3 + 1,5x IQR) ou bigode superior do boxplot. Pode ser representado visualmente pelo box plot."
      ]
    },
    {
      "cell_type": "markdown",
      "metadata": {
        "id": "jKrbwezkWxtw"
      },
      "source": [
        "#### Vamos definir uma função para descobrir o IQR, inferior e superior do bigode."
      ]
    },
    {
      "cell_type": "code",
      "metadata": {
        "trusted": true,
        "id": "Lru4OsxVWxtw"
      },
      "source": [
        "def out_iqr(df , column):\n",
        "    global lower,upper\n",
        "    q25, q75 = np.quantile(df[column], 0.25), np.quantile(df[column], 0.75)\n",
        "    # calcular o IQR\n",
        "    iqr = q75 - q25\n",
        "    # calcule o corte de outlier\n",
        "    cut_off = iqr * 1.5\n",
        "    # calcule o valor do limite inferior e superior\n",
        "    lower, upper = q25 - cut_off, q75 + cut_off\n",
        "    print('The IQR is',iqr)\n",
        "    print('The lower bound value is', lower)\n",
        "    print('The upper bound value is', upper)\n",
        "    # Calcular o número de registros abaixo e acima do valor limite inferior e acima, respectivamente\n",
        "    df1 = df[df[column] > upper]\n",
        "    df2 = df[df[column] < lower]\n",
        "    return print('Total number of outliers are', df1.shape[0]+ df2.shape[0])"
      ],
      "execution_count": null,
      "outputs": []
    },
    {
      "cell_type": "markdown",
      "metadata": {
        "id": "EBi2CkF9Wxtx"
      },
      "source": [
        "### Vou usar o [Heart disease UCI DataSet] (https://www.kaggle.com/ronitf/heart-disease-uci) para explicar o método IQR."
      ]
    },
    {
      "cell_type": "code",
      "metadata": {
        "scrolled": true,
        "trusted": true,
        "colab": {
          "base_uri": "https://localhost:8080/"
        },
        "id": "vfq2JDOfWxtx",
        "outputId": "b84df6b8-2d89-4184-de32-750b63b2304b"
      },
      "source": [
        "out_iqr(df_1,'chol')\n",
        "#Input the dataset and the required column"
      ],
      "execution_count": null,
      "outputs": [
        {
          "output_type": "stream",
          "name": "stdout",
          "text": [
            "The IQR is 63.5\n",
            "The lower bound value is 115.75\n",
            "The upper bound value is 369.75\n",
            "Total number of outliers are 5\n"
          ]
        }
      ]
    },
    {
      "cell_type": "code",
      "metadata": {
        "colab": {
          "base_uri": "https://localhost:8080/"
        },
        "id": "ZNd5AaNeeXP5",
        "outputId": "188e2cff-54d7-4b33-fa38-8f15f029874f"
      },
      "source": [
        "### Imprimir os Outliers \n",
        "out=[]\n",
        "def iqr_outliers(df):\n",
        "    q1 = df.quantile(0.25)\n",
        "    q3 = df.quantile(0.75)\n",
        "    iqr = q3-q1\n",
        "    Lower_tail = q1 - 1.5 * iqr\n",
        "    Upper_tail = q3 + 1.5 * iqr\n",
        "    for i in df:\n",
        "        if i > Upper_tail or i < Lower_tail:\n",
        "            out.append(i)\n",
        "    print(\"Outliers:\",out)\n",
        "iqr_outliers(df_1['chol'])"
      ],
      "execution_count": null,
      "outputs": [
        {
          "output_type": "stream",
          "name": "stdout",
          "text": [
            "Outliers: [417, 564, 394, 407, 409]\n"
          ]
        }
      ]
    },
    {
      "cell_type": "markdown",
      "metadata": {
        "id": "qe-7XKosWxtx"
      },
      "source": [
        "### De acordo com o método IQR, existem 5 outliers."
      ]
    },
    {
      "cell_type": "markdown",
      "metadata": {
        "id": "S9qg6BPuWxtx"
      },
      "source": [
        "### Representação visual:"
      ]
    },
    {
      "cell_type": "code",
      "metadata": {
        "trusted": true,
        "colab": {
          "base_uri": "https://localhost:8080/",
          "height": 428
        },
        "id": "BqOOaad5Wxty",
        "outputId": "ddc342d5-37dc-418f-af6d-0a736db4282e"
      },
      "source": [
        "plt.figure(figsize = (10,6))\n",
        "sns.distplot(df_1.chol, kde=False)\n",
        "plt.axvspan(xmin = lower,xmax= df_1.chol.min(),alpha=0.2, color='red')\n",
        "plt.axvspan(xmin = upper,xmax= df_1.chol.max(),alpha=0.2, color='red')"
      ],
      "execution_count": null,
      "outputs": [
        {
          "output_type": "execute_result",
          "data": {
            "text/plain": [
              "<matplotlib.patches.Polygon at 0x7fc197549ed0>"
            ]
          },
          "metadata": {},
          "execution_count": 7
        },
        {
          "output_type": "display_data",
          "data": {
            "image/png": "[encoded data removed]",
            "text/plain": [
              "<Figure size 720x432 with 1 Axes>"
            ]
          },
          "metadata": {
            "needs_background": "light"
          }
        }
      ]
    },
    {
      "cell_type": "markdown",
      "metadata": {
        "id": "3IRiPiDhpQ8Z"
      },
      "source": [
        "#### Aqui, a zona vermelha representa a zona atípica! Os registros presentes nessa zona são considerados outliers"
      ]
    },
    {
      "cell_type": "markdown",
      "metadata": {
        "id": "6dmr63uzpKio"
      },
      "source": [
        ""
      ]
    },
    {
      "cell_type": "code",
      "metadata": {
        "colab": {
          "base_uri": "https://localhost:8080/",
          "height": 1000
        },
        "id": "iiXaMeXBzzAy",
        "outputId": "136477aa-17e3-4a95-e631-1a25fa6b0421"
      },
      "source": [
        "import pandas as pd\n",
        "import seaborn as sns\n",
        "from matplotlib import pyplot as plt\n",
        "from statsmodels.graphics.gofplots import qqplot\n",
        "\n",
        "def Box_plots(df):\n",
        "    plt.figure(figsize=(10, 4))\n",
        "    plt.title(\"Box Plot\")\n",
        "    sns.boxplot(df)\n",
        "    plt.show()\n",
        "Box_plots(df_1['age'])\n",
        "\n",
        "def hist_plots(df):\n",
        "    plt.figure(figsize=(10, 4))\n",
        "    plt.hist(df)\n",
        "    plt.title(\"Histogram Plot\")\n",
        "    plt.show()\n",
        "hist_plots(df_1['age'])\n",
        "\n",
        "def scatter_plots(df1,df2):\n",
        "    fig, ax = plt.subplots(figsize=(10,4))\n",
        "    ax.scatter(df1,df2)\n",
        "    ax.set_xlabel('age')\n",
        "    ax.set_ylabel('sex')\n",
        "    plt.title(\"Scatter Plot\")\n",
        "    plt.show()\n",
        "scatter_plots(df_1['age'],df_1['sex'])\n",
        "\n",
        "def dist_plots(df):\n",
        "    plt.figure(figsize=(10, 4))\n",
        "    sns.distplot(df)\n",
        "    plt.title(\"Distribution plot\")\n",
        "    sns.despine()\n",
        "    plt.show()\n",
        "dist_plots(df_1['age'])\n",
        "\n",
        "def qq_plots(df):\n",
        "    plt.figure(figsize=(10, 4))\n",
        "    qqplot(df,line='s')\n",
        "    plt.title(\"Normal QQPlot\")\n",
        "    plt.show()\n",
        "qq_plots(df_1['age'])\n"
      ],
      "execution_count": null,
      "outputs": [
        {
          "output_type": "display_data",
          "data": {
            "image/png": "[encoded data removed]",
            "text/plain": [
              "<Figure size 720x288 with 1 Axes>"
            ]
          },
          "metadata": {
            "needs_background": "light"
          }
        },
        {
          "output_type": "display_data",
          "data": {
            "image/png": "[encoded data removed]",
            "text/plain": [
              "<Figure size 720x288 with 1 Axes>"
            ]
          },
          "metadata": {
            "needs_background": "light"
          }
        },
        {
          "output_type": "display_data",
          "data": {
            "image/png": "[encoded data removed]",
            "text/plain": [
              "<Figure size 720x288 with 1 Axes>"
            ]
          },
          "metadata": {
            "needs_background": "light"
          }
        },
        {
          "output_type": "display_data",
          "data": {
            "image/png": "[encoded data removed]",
            "text/plain": [
              "<Figure size 720x288 with 1 Axes>"
            ]
          },
          "metadata": {
            "needs_background": "light"
          }
        },
        {
          "output_type": "display_data",
          "data": {
            "text/plain": [
              "<Figure size 720x288 with 0 Axes>"
            ]
          },
          "metadata": {}
        },
        {
          "output_type": "display_data",
          "data": {
            "image/png": "[encoded data removed]",
            "text/plain": [
              "<Figure size 432x288 with 1 Axes>"
            ]
          },
          "metadata": {
            "needs_background": "light"
          }
        }
      ]
    },
    {
      "cell_type": "markdown",
      "metadata": {
        "id": "FIIoPwSZWxty"
      },
      "source": [
        "### Medida Corretiva:\n",
        "#### Remova os registros que estão acima do valor do limite superior e os registros abaixo do valor do limite inferior!"
      ]
    },
    {
      "cell_type": "code",
      "metadata": {
        "trusted": true,
        "id": "MtNYFsmQWxtz"
      },
      "source": [
        "#Data Frame without outliers\n",
        "df_new = df_1[(df_1['chol'] < upper) | (df_1['chol'] > lower)]"
      ],
      "execution_count": null,
      "outputs": []
    },
    {
      "cell_type": "code",
      "metadata": {
        "colab": {
          "base_uri": "https://localhost:8080/",
          "height": 625
        },
        "id": "WqqiLOurplT0",
        "outputId": "cdbb57b5-43f5-43f3-8f1e-a8c79b77feca"
      },
      "source": [
        "sns.boxplot(df_1['chol'])\n",
        "plt.title(\"Box Plot before outlier removing\")\n",
        "plt.show()\n",
        "def drop_outliers(df, field_name):\n",
        "    iqr = 1.5 * (np.percentile(df[field_name], 75) - np.percentile(df[field_name], 25))\n",
        "    df.drop(df[df[field_name] > (iqr + np.percentile(df[field_name], 75))].index, inplace=True)\n",
        "    df.drop(df[df[field_name] < (np.percentile(df[field_name], 25) - iqr)].index, inplace=True)\n",
        "drop_outliers(df_1, 'chol')\n",
        "sns.boxplot(df_1['chol'])\n",
        "plt.title(\"Box Plot after outlier removing\")\n",
        "plt.show()"
      ],
      "execution_count": null,
      "outputs": [
        {
          "output_type": "display_data",
          "data": {
            "image/png": "[encoded data removed]",
            "text/plain": [
              "<Figure size 432x288 with 1 Axes>"
            ]
          },
          "metadata": {
            "needs_background": "light"
          }
        },
        {
          "output_type": "display_data",
          "data": {
            "image/png": "[encoded data removed]",
            "text/plain": [
              "<Figure size 432x288 with 1 Axes>"
            ]
          },
          "metadata": {
            "needs_background": "light"
          }
        }
      ]
    },
    {
      "cell_type": "code",
      "metadata": {
        "colab": {
          "base_uri": "https://localhost:8080/",
          "height": 205
        },
        "id": "JbSgCtUKujqA",
        "outputId": "37c13ff6-a7cf-4e64-816f-7dcdeb12cc0a"
      },
      "source": [
        "df = pd.read_csv(\"https://raw.githubusercontent.com/Rodrigo-Lopes-de-Andrade/Datasets/main/outlier_heart.csv\")\n",
        "df.head()"
      ],
      "execution_count": null,
      "outputs": [
        {
          "output_type": "execute_result",
          "data": {
            "text/html": [
              "<div>\n",
              "<style scoped>\n",
              "    .dataframe tbody tr th:only-of-type {\n",
              "        vertical-align: middle;\n",
              "    }\n",
              "\n",
              "    .dataframe tbody tr th {\n",
              "        vertical-align: top;\n",
              "    }\n",
              "\n",
              "    .dataframe thead th {\n",
              "        text-align: right;\n",
              "    }\n",
              "</style>\n",
              "<table border=\"1\" class=\"dataframe\">\n",
              "  <thead>\n",
              "    <tr style=\"text-align: right;\">\n",
              "      <th></th>\n",
              "      <th>age</th>\n",
              "      <th>sex</th>\n",
              "      <th>cp</th>\n",
              "      <th>trestbps</th>\n",
              "      <th>chol</th>\n",
              "      <th>fbs</th>\n",
              "      <th>restecg</th>\n",
              "      <th>thalach</th>\n",
              "      <th>exang</th>\n",
              "      <th>oldpeak</th>\n",
              "      <th>slope</th>\n",
              "      <th>ca</th>\n",
              "      <th>thal</th>\n",
              "      <th>target</th>\n",
              "    </tr>\n",
              "  </thead>\n",
              "  <tbody>\n",
              "    <tr>\n",
              "      <th>0</th>\n",
              "      <td>63</td>\n",
              "      <td>1</td>\n",
              "      <td>3</td>\n",
              "      <td>145</td>\n",
              "      <td>233</td>\n",
              "      <td>1</td>\n",
              "      <td>0</td>\n",
              "      <td>150</td>\n",
              "      <td>0</td>\n",
              "      <td>2.3</td>\n",
              "      <td>0</td>\n",
              "      <td>0</td>\n",
              "      <td>1</td>\n",
              "      <td>1</td>\n",
              "    </tr>\n",
              "    <tr>\n",
              "      <th>1</th>\n",
              "      <td>37</td>\n",
              "      <td>1</td>\n",
              "      <td>2</td>\n",
              "      <td>130</td>\n",
              "      <td>250</td>\n",
              "      <td>0</td>\n",
              "      <td>1</td>\n",
              "      <td>187</td>\n",
              "      <td>0</td>\n",
              "      <td>3.5</td>\n",
              "      <td>0</td>\n",
              "      <td>0</td>\n",
              "      <td>2</td>\n",
              "      <td>1</td>\n",
              "    </tr>\n",
              "    <tr>\n",
              "      <th>2</th>\n",
              "      <td>41</td>\n",
              "      <td>0</td>\n",
              "      <td>1</td>\n",
              "      <td>130</td>\n",
              "      <td>204</td>\n",
              "      <td>0</td>\n",
              "      <td>0</td>\n",
              "      <td>172</td>\n",
              "      <td>0</td>\n",
              "      <td>1.4</td>\n",
              "      <td>2</td>\n",
              "      <td>0</td>\n",
              "      <td>2</td>\n",
              "      <td>1</td>\n",
              "    </tr>\n",
              "    <tr>\n",
              "      <th>3</th>\n",
              "      <td>56</td>\n",
              "      <td>1</td>\n",
              "      <td>1</td>\n",
              "      <td>120</td>\n",
              "      <td>236</td>\n",
              "      <td>0</td>\n",
              "      <td>1</td>\n",
              "      <td>178</td>\n",
              "      <td>0</td>\n",
              "      <td>0.8</td>\n",
              "      <td>2</td>\n",
              "      <td>0</td>\n",
              "      <td>2</td>\n",
              "      <td>1</td>\n",
              "    </tr>\n",
              "    <tr>\n",
              "      <th>4</th>\n",
              "      <td>57</td>\n",
              "      <td>0</td>\n",
              "      <td>0</td>\n",
              "      <td>120</td>\n",
              "      <td>354</td>\n",
              "      <td>0</td>\n",
              "      <td>1</td>\n",
              "      <td>163</td>\n",
              "      <td>1</td>\n",
              "      <td>0.6</td>\n",
              "      <td>2</td>\n",
              "      <td>0</td>\n",
              "      <td>2</td>\n",
              "      <td>1</td>\n",
              "    </tr>\n",
              "  </tbody>\n",
              "</table>\n",
              "</div>"
            ],
            "text/plain": [
              "   age  sex  cp  trestbps  chol  fbs  restecg  thalach  exang  oldpeak  slope  \\\n",
              "0   63    1   3       145   233    1        0      150      0      2.3      0   \n",
              "1   37    1   2       130   250    0        1      187      0      3.5      0   \n",
              "2   41    0   1       130   204    0        0      172      0      1.4      2   \n",
              "3   56    1   1       120   236    0        1      178      0      0.8      2   \n",
              "4   57    0   0       120   354    0        1      163      1      0.6      2   \n",
              "\n",
              "   ca  thal  target  \n",
              "0   0     1       1  \n",
              "1   0     2       1  \n",
              "2   0     2       1  \n",
              "3   0     2       1  \n",
              "4   0     2       1  "
            ]
          },
          "metadata": {},
          "execution_count": 9
        }
      ]
    },
    {
      "cell_type": "code",
      "metadata": {
        "colab": {
          "base_uri": "https://localhost:8080/"
        },
        "id": "dzTLAQcvy8c5",
        "outputId": "8bc49a5d-77dd-40d0-e31c-bffedf36cae9"
      },
      "source": [
        "def check_missing(dataframe):\n",
        "    if dataframe.isnull().sum().sum() > 0:\n",
        "        print(dataframe.isnull().sum(), '\\n')\n",
        "        print('Existem {} valores ausentes'.format(dataframe.isnull().sum().sum()))\n",
        "    else:\n",
        "        print('Não há valores ausentes')\n",
        "\n",
        "check_missing(df)"
      ],
      "execution_count": null,
      "outputs": [
        {
          "output_type": "stream",
          "name": "stdout",
          "text": [
            "Não há valores ausentes\n"
          ]
        }
      ]
    },
    {
      "cell_type": "code",
      "metadata": {
        "colab": {
          "base_uri": "https://localhost:8080/"
        },
        "id": "dGjF0awf4JTZ",
        "outputId": "f460d944-c486-4eea-c6d7-c16cb8df1e9f"
      },
      "source": [
        "def missing_values_table(dataframe, na_name=False):\n",
        "    na_columns = [col for col in dataframe.columns if dataframe[col].isnull().sum() > 0]\n",
        "    n_miss = dataframe[na_columns].isnull().sum().sort_values(ascending=False)\n",
        "    ratio = (dataframe[na_columns].isnull().sum() / dataframe.shape[0] * 100).sort_values(ascending=False)\n",
        "    missing_df = pd.concat([n_miss, np.round(ratio, 2)], axis=1, keys=['n_miss', 'ratio'])\n",
        "    print(missing_df, end=\"\\n\")\n",
        "    if na_name:\n",
        "        return na_columns\n",
        "    \n",
        "def missing_vs_target(dataframe, target, na_columns):\n",
        "    temp_df = dataframe.copy()\n",
        "    for col in na_columns:\n",
        "        temp_df[col + '_NA_FLAG'] = np.where(temp_df[col].isnull(), 1, 0)\n",
        "    na_flags = temp_df.loc[:, temp_df.columns.str.contains(\"_NA_\")].columns\n",
        "    for col in na_flags:\n",
        "        print(pd.DataFrame({\"TARGET_MEAN\": temp_df.groupby(col)[target].mean(),\n",
        "                            \"Count\": temp_df.groupby(col)[target].count()}), end=\"\\n\\n\\n\")\n",
        "        \n",
        "missing_vs_target(df,'target',missing_values_table(df,na_name=True))"
      ],
      "execution_count": null,
      "outputs": [
        {
          "output_type": "stream",
          "name": "stdout",
          "text": [
            "          n_miss  ratio\n",
            "trestbps       9   2.98\n",
            "oldpeak        5   1.66\n",
            "chol           5   1.66\n",
            "thalach        1   0.33\n",
            "                  TARGET_MEAN  Count\n",
            "trestbps_NA_FLAG                    \n",
            "0                    0.549488    293\n",
            "1                    0.333333      9\n",
            "\n",
            "\n",
            "              TARGET_MEAN  Count\n",
            "chol_NA_FLAG                    \n",
            "0                0.542088    297\n",
            "1                0.600000      5\n",
            "\n",
            "\n",
            "                 TARGET_MEAN  Count\n",
            "thalach_NA_FLAG                    \n",
            "0                    0.54485    301\n",
            "1                    0.00000      1\n",
            "\n",
            "\n",
            "                 TARGET_MEAN  Count\n",
            "oldpeak_NA_FLAG                    \n",
            "0                   0.548822    297\n",
            "1                   0.200000      5\n",
            "\n",
            "\n"
          ]
        }
      ]
    },
    {
      "cell_type": "code",
      "metadata": {
        "colab": {
          "base_uri": "https://localhost:8080/",
          "height": 486
        },
        "id": "o5f7JTt_ugBR",
        "outputId": "4ea0c125-b0b1-499d-f060-f1a8e7358e2c"
      },
      "source": [
        "#Looking  data\n",
        "total = df.isnull().sum().sort_values(ascending=False)\n",
        "percent = (df.isnull().sum()/df.isnull().count()).sort_values(ascending=False)\n",
        "missing_data = pd.concat([total, percent], axis=1, keys=['Total', 'Percent'])\n",
        "missing_data.head(20)"
      ],
      "execution_count": null,
      "outputs": [
        {
          "output_type": "execute_result",
          "data": {
            "text/html": [
              "<div>\n",
              "<style scoped>\n",
              "    .dataframe tbody tr th:only-of-type {\n",
              "        vertical-align: middle;\n",
              "    }\n",
              "\n",
              "    .dataframe tbody tr th {\n",
              "        vertical-align: top;\n",
              "    }\n",
              "\n",
              "    .dataframe thead th {\n",
              "        text-align: right;\n",
              "    }\n",
              "</style>\n",
              "<table border=\"1\" class=\"dataframe\">\n",
              "  <thead>\n",
              "    <tr style=\"text-align: right;\">\n",
              "      <th></th>\n",
              "      <th>Total</th>\n",
              "      <th>Percent</th>\n",
              "    </tr>\n",
              "  </thead>\n",
              "  <tbody>\n",
              "    <tr>\n",
              "      <th>trestbps</th>\n",
              "      <td>9</td>\n",
              "      <td>0.029801</td>\n",
              "    </tr>\n",
              "    <tr>\n",
              "      <th>oldpeak</th>\n",
              "      <td>5</td>\n",
              "      <td>0.016556</td>\n",
              "    </tr>\n",
              "    <tr>\n",
              "      <th>chol</th>\n",
              "      <td>5</td>\n",
              "      <td>0.016556</td>\n",
              "    </tr>\n",
              "    <tr>\n",
              "      <th>thalach</th>\n",
              "      <td>1</td>\n",
              "      <td>0.003311</td>\n",
              "    </tr>\n",
              "    <tr>\n",
              "      <th>target</th>\n",
              "      <td>0</td>\n",
              "      <td>0.000000</td>\n",
              "    </tr>\n",
              "    <tr>\n",
              "      <th>thal</th>\n",
              "      <td>0</td>\n",
              "      <td>0.000000</td>\n",
              "    </tr>\n",
              "    <tr>\n",
              "      <th>ca</th>\n",
              "      <td>0</td>\n",
              "      <td>0.000000</td>\n",
              "    </tr>\n",
              "    <tr>\n",
              "      <th>slope</th>\n",
              "      <td>0</td>\n",
              "      <td>0.000000</td>\n",
              "    </tr>\n",
              "    <tr>\n",
              "      <th>exang</th>\n",
              "      <td>0</td>\n",
              "      <td>0.000000</td>\n",
              "    </tr>\n",
              "    <tr>\n",
              "      <th>restecg</th>\n",
              "      <td>0</td>\n",
              "      <td>0.000000</td>\n",
              "    </tr>\n",
              "    <tr>\n",
              "      <th>fbs</th>\n",
              "      <td>0</td>\n",
              "      <td>0.000000</td>\n",
              "    </tr>\n",
              "    <tr>\n",
              "      <th>cp</th>\n",
              "      <td>0</td>\n",
              "      <td>0.000000</td>\n",
              "    </tr>\n",
              "    <tr>\n",
              "      <th>sex</th>\n",
              "      <td>0</td>\n",
              "      <td>0.000000</td>\n",
              "    </tr>\n",
              "    <tr>\n",
              "      <th>age</th>\n",
              "      <td>0</td>\n",
              "      <td>0.000000</td>\n",
              "    </tr>\n",
              "  </tbody>\n",
              "</table>\n",
              "</div>"
            ],
            "text/plain": [
              "          Total   Percent\n",
              "trestbps      9  0.029801\n",
              "oldpeak       5  0.016556\n",
              "chol          5  0.016556\n",
              "thalach       1  0.003311\n",
              "target        0  0.000000\n",
              "thal          0  0.000000\n",
              "ca            0  0.000000\n",
              "slope         0  0.000000\n",
              "exang         0  0.000000\n",
              "restecg       0  0.000000\n",
              "fbs           0  0.000000\n",
              "cp            0  0.000000\n",
              "sex           0  0.000000\n",
              "age           0  0.000000"
            ]
          },
          "metadata": {},
          "execution_count": 43
        }
      ]
    },
    {
      "cell_type": "code",
      "metadata": {
        "id": "AOa3KVQuu2zm"
      },
      "source": [
        "for c in ['thal', 'cp', 'sex']:\n",
        "    df[c].fillna('none', inplace=True)"
      ],
      "execution_count": null,
      "outputs": []
    },
    {
      "cell_type": "code",
      "metadata": {
        "colab": {
          "base_uri": "https://localhost:8080/"
        },
        "id": "SU62AdyFvIgj",
        "outputId": "ebdb4ef9-51c9-42d5-b981-5fce0ffa0148"
      },
      "source": [
        "numerical_feats = df.dtypes[df.dtypes != \"object\"].index\n",
        "print(\"Number of Numerical features: \", len(numerical_feats))\n",
        "\n",
        "categorical_feats = df.dtypes[df.dtypes == \"object\"].index\n",
        "print(\"Number of Categorical features: \", len(categorical_feats))"
      ],
      "execution_count": null,
      "outputs": [
        {
          "output_type": "stream",
          "name": "stdout",
          "text": [
            "Number of Numerical features:  14\n",
            "Number of Categorical features:  0\n"
          ]
        }
      ]
    },
    {
      "cell_type": "code",
      "metadata": {
        "colab": {
          "base_uri": "https://localhost:8080/"
        },
        "id": "xf7wKpDKvfks",
        "outputId": "758ae259-a811-4b23-ea19-0e369ca28431"
      },
      "source": [
        "print(df.shape)\n",
        "\n",
        "n = df.select_dtypes(include=object)\n",
        "for column in n.columns:\n",
        "    print(column, ':  ', data[column].unique())"
      ],
      "execution_count": null,
      "outputs": [
        {
          "output_type": "stream",
          "name": "stdout",
          "text": [
            "(303, 14)\n"
          ]
        }
      ]
    },
    {
      "cell_type": "code",
      "metadata": {
        "id": "RJVDknhkvt5I"
      },
      "source": [
        "## Let's see the distribuition of the categories: \n",
        "for category in list(categorical_feats):\n",
        "    print('#'*35)    \n",
        "    print('Distribuition of feature:', category)\n",
        "    print(data[category].value_counts(normalize=True))\n",
        "    print('#'*35)"
      ],
      "execution_count": null,
      "outputs": []
    },
    {
      "cell_type": "code",
      "metadata": {
        "id": "rsBqUKWLv7_p"
      },
      "source": [
        "# fillna\n",
        "for c in ['MiscFeature', 'Alley', 'Fence']:\n",
        "    data[c].fillna('None', inplace=True)\n",
        "    \n",
        "data['LotFrontage'] = data.groupby('Neighborhood')['LotFrontage'].transform(lambda x: x.fillna(x.median()))\n",
        "\n",
        "data.loc[data.GarageYrBlt.isnull(),'GarageYrBlt'] = data.loc[all_data.GarageYrBlt.isnull(),'YearBuilt']\n",
        "\n",
        "data['GarageType'].fillna('None', inplace=True)\n",
        "data['GarageFinish'].fillna(0, inplace=True)\n",
        "\n",
        "for c in ['GarageArea', 'GarageCars', 'BsmtFinSF1', 'BsmtFinSF2', 'BsmtUnfSF','TotalBsmtSF', 'BsmtFullBath', 'BsmtHalfBath']:\n",
        "    data[c].fillna(0, inplace=True)"
      ],
      "execution_count": null,
      "outputs": []
    },
    {
      "cell_type": "code",
      "metadata": {
        "id": "hdBdJGUdw60q"
      },
      "source": [
        "from sklearn.preprocessing import LabelEncoder\n",
        "\n",
        "\n",
        "for i, t in data.loc[:, data.columns != 'SalePrice'].dtypes.iteritems():\n",
        "    if t == object:\n",
        "        data[i].fillna(data[i].mode()[0], inplace=True)\n",
        "        data[i] = LabelEncoder().fit_transform(data[i].astype(str))\n",
        "    else:\n",
        "        data[i].fillna(data[i].median(), inplace=True)"
      ],
      "execution_count": null,
      "outputs": []
    },
    {
      "cell_type": "code",
      "metadata": {
        "colab": {
          "base_uri": "https://localhost:8080/"
        },
        "id": "6SO2wwifyVwV",
        "outputId": "cf0dd1d9-bb24-48d7-9d2c-1e5a4664669d"
      },
      "source": [
        "def check_duplications(dataframe):\n",
        "    if dataframe.duplicated().sum() > 0:\n",
        "        if dataframe.duplicated().sum() == 1:\n",
        "            print('Há {} valores duplicados nos dados'.format(dataframe.duplicated().sum()))\n",
        "        else:\n",
        "            print('Existem {} valores duplicados nos dados'.format(dataframe.duplicated().sum()))\n",
        "    else:\n",
        "        print('Não há valores duplicados nos dados ')\n",
        "        \n",
        "check_duplications(df)"
      ],
      "execution_count": null,
      "outputs": [
        {
          "output_type": "stream",
          "name": "stdout",
          "text": [
            "Há 1 valores duplicados nos dados\n"
          ]
        }
      ]
    },
    {
      "cell_type": "code",
      "metadata": {
        "colab": {
          "base_uri": "https://localhost:8080/",
          "height": 81
        },
        "id": "BjcaN02gybEL",
        "outputId": "a5d3a2ae-51b0-485b-b2db-39369b8b91bc"
      },
      "source": [
        "df[df.duplicated()]"
      ],
      "execution_count": null,
      "outputs": [
        {
          "output_type": "execute_result",
          "data": {
            "text/html": [
              "<div>\n",
              "<style scoped>\n",
              "    .dataframe tbody tr th:only-of-type {\n",
              "        vertical-align: middle;\n",
              "    }\n",
              "\n",
              "    .dataframe tbody tr th {\n",
              "        vertical-align: top;\n",
              "    }\n",
              "\n",
              "    .dataframe thead th {\n",
              "        text-align: right;\n",
              "    }\n",
              "</style>\n",
              "<table border=\"1\" class=\"dataframe\">\n",
              "  <thead>\n",
              "    <tr style=\"text-align: right;\">\n",
              "      <th></th>\n",
              "      <th>age</th>\n",
              "      <th>sex</th>\n",
              "      <th>cp</th>\n",
              "      <th>trestbps</th>\n",
              "      <th>chol</th>\n",
              "      <th>fbs</th>\n",
              "      <th>restecg</th>\n",
              "      <th>thalach</th>\n",
              "      <th>exang</th>\n",
              "      <th>oldpeak</th>\n",
              "      <th>slope</th>\n",
              "      <th>ca</th>\n",
              "      <th>thal</th>\n",
              "      <th>target</th>\n",
              "    </tr>\n",
              "  </thead>\n",
              "  <tbody>\n",
              "    <tr>\n",
              "      <th>164</th>\n",
              "      <td>38</td>\n",
              "      <td>1</td>\n",
              "      <td>2</td>\n",
              "      <td>138</td>\n",
              "      <td>175</td>\n",
              "      <td>0</td>\n",
              "      <td>1</td>\n",
              "      <td>173</td>\n",
              "      <td>0</td>\n",
              "      <td>0.0</td>\n",
              "      <td>2</td>\n",
              "      <td>4</td>\n",
              "      <td>2</td>\n",
              "      <td>1</td>\n",
              "    </tr>\n",
              "  </tbody>\n",
              "</table>\n",
              "</div>"
            ],
            "text/plain": [
              "     age  sex  cp  trestbps  chol  fbs  restecg  thalach  exang  oldpeak  \\\n",
              "164   38    1   2       138   175    0        1      173      0      0.0   \n",
              "\n",
              "     slope  ca  thal  target  \n",
              "164      2   4     2       1  "
            ]
          },
          "metadata": {},
          "execution_count": 20
        }
      ]
    },
    {
      "cell_type": "code",
      "metadata": {
        "colab": {
          "base_uri": "https://localhost:8080/"
        },
        "id": "t9j8pm3dynPN",
        "outputId": "c562a38e-0806-431c-f70b-7286362c8286"
      },
      "source": [
        "df.drop_duplicates(keep='first',inplace=True)\n",
        "check_duplications(df)"
      ],
      "execution_count": null,
      "outputs": [
        {
          "output_type": "stream",
          "name": "stdout",
          "text": [
            "Não há valores duplicados nos dados \n"
          ]
        }
      ]
    },
    {
      "cell_type": "code",
      "metadata": {
        "colab": {
          "base_uri": "https://localhost:8080/",
          "height": 523
        },
        "id": "8BKF3R00ysk5",
        "outputId": "7e7757b9-0a9e-4715-d279-4881561a7f56"
      },
      "source": [
        "import missingno as msno\n",
        "msno.bar(df)\n",
        "plt.show()"
      ],
      "execution_count": null,
      "outputs": [
        {
          "output_type": "display_data",
          "data": {
            "image/png": "[encoded data removed]",
            "text/plain": [
              "<Figure size 1800x720 with 3 Axes>"
            ]
          },
          "metadata": {
            "needs_background": "light"
          }
        }
      ]
    },
    {
      "cell_type": "code",
      "metadata": {
        "colab": {
          "base_uri": "https://localhost:8080/",
          "height": 501
        },
        "id": "Khu-1_Ly6SAd",
        "outputId": "74933a88-943e-4a2a-ca19-355c5470267a"
      },
      "source": [
        "import missingno as msno\n",
        "msno.matrix(df)\n",
        "plt.show()"
      ],
      "execution_count": null,
      "outputs": [
        {
          "output_type": "display_data",
          "data": {
            "image/png": "[encoded data removed]",
            "text/plain": [
              "<Figure size 1800x720 with 2 Axes>"
            ]
          },
          "metadata": {
            "needs_background": "light"
          }
        }
      ]
    },
    {
      "cell_type": "code",
      "metadata": {
        "colab": {
          "base_uri": "https://localhost:8080/",
          "height": 750
        },
        "id": "OMe1TEQn6alt",
        "outputId": "5e598feb-ee84-4316-e379-2080cc3f6c44"
      },
      "source": [
        "import missingno as msno\n",
        "msno.heatmap(df)\n",
        "plt.show()"
      ],
      "execution_count": null,
      "outputs": [
        {
          "output_type": "display_data",
          "data": {
            "image/png": "[encoded data removed]",
            "text/plain": [
              "<Figure size 1440x864 with 2 Axes>"
            ]
          },
          "metadata": {
            "needs_background": "light"
          }
        }
      ]
    },
    {
      "cell_type": "code",
      "metadata": {
        "colab": {
          "base_uri": "https://localhost:8080/",
          "height": 205
        },
        "id": "vY1sdxVq6j2V",
        "outputId": "83a22811-03d0-4870-9d7d-c01f704470df"
      },
      "source": [
        "df.loc[df['chol'].isnull()]"
      ],
      "execution_count": null,
      "outputs": [
        {
          "output_type": "execute_result",
          "data": {
            "text/html": [
              "<div>\n",
              "<style scoped>\n",
              "    .dataframe tbody tr th:only-of-type {\n",
              "        vertical-align: middle;\n",
              "    }\n",
              "\n",
              "    .dataframe tbody tr th {\n",
              "        vertical-align: top;\n",
              "    }\n",
              "\n",
              "    .dataframe thead th {\n",
              "        text-align: right;\n",
              "    }\n",
              "</style>\n",
              "<table border=\"1\" class=\"dataframe\">\n",
              "  <thead>\n",
              "    <tr style=\"text-align: right;\">\n",
              "      <th></th>\n",
              "      <th>age</th>\n",
              "      <th>sex</th>\n",
              "      <th>cp</th>\n",
              "      <th>trestbps</th>\n",
              "      <th>chol</th>\n",
              "      <th>fbs</th>\n",
              "      <th>restecg</th>\n",
              "      <th>thalach</th>\n",
              "      <th>exang</th>\n",
              "      <th>oldpeak</th>\n",
              "      <th>slope</th>\n",
              "      <th>ca</th>\n",
              "      <th>thal</th>\n",
              "      <th>target</th>\n",
              "    </tr>\n",
              "  </thead>\n",
              "  <tbody>\n",
              "    <tr>\n",
              "      <th>28</th>\n",
              "      <td>65</td>\n",
              "      <td>0</td>\n",
              "      <td>2</td>\n",
              "      <td>140.0</td>\n",
              "      <td>NaN</td>\n",
              "      <td>1</td>\n",
              "      <td>0</td>\n",
              "      <td>157.0</td>\n",
              "      <td>0</td>\n",
              "      <td>0.8</td>\n",
              "      <td>2</td>\n",
              "      <td>1</td>\n",
              "      <td>2</td>\n",
              "      <td>1</td>\n",
              "    </tr>\n",
              "    <tr>\n",
              "      <th>85</th>\n",
              "      <td>67</td>\n",
              "      <td>0</td>\n",
              "      <td>2</td>\n",
              "      <td>115.0</td>\n",
              "      <td>NaN</td>\n",
              "      <td>0</td>\n",
              "      <td>0</td>\n",
              "      <td>160.0</td>\n",
              "      <td>0</td>\n",
              "      <td>1.6</td>\n",
              "      <td>1</td>\n",
              "      <td>0</td>\n",
              "      <td>3</td>\n",
              "      <td>1</td>\n",
              "    </tr>\n",
              "    <tr>\n",
              "      <th>96</th>\n",
              "      <td>62</td>\n",
              "      <td>0</td>\n",
              "      <td>0</td>\n",
              "      <td>140.0</td>\n",
              "      <td>NaN</td>\n",
              "      <td>0</td>\n",
              "      <td>0</td>\n",
              "      <td>157.0</td>\n",
              "      <td>0</td>\n",
              "      <td>1.2</td>\n",
              "      <td>1</td>\n",
              "      <td>0</td>\n",
              "      <td>2</td>\n",
              "      <td>1</td>\n",
              "    </tr>\n",
              "    <tr>\n",
              "      <th>221</th>\n",
              "      <td>55</td>\n",
              "      <td>1</td>\n",
              "      <td>0</td>\n",
              "      <td>140.0</td>\n",
              "      <td>NaN</td>\n",
              "      <td>0</td>\n",
              "      <td>1</td>\n",
              "      <td>111.0</td>\n",
              "      <td>1</td>\n",
              "      <td>5.6</td>\n",
              "      <td>0</td>\n",
              "      <td>0</td>\n",
              "      <td>3</td>\n",
              "      <td>0</td>\n",
              "    </tr>\n",
              "    <tr>\n",
              "      <th>247</th>\n",
              "      <td>66</td>\n",
              "      <td>1</td>\n",
              "      <td>1</td>\n",
              "      <td>160.0</td>\n",
              "      <td>NaN</td>\n",
              "      <td>0</td>\n",
              "      <td>1</td>\n",
              "      <td>120.0</td>\n",
              "      <td>1</td>\n",
              "      <td>0.0</td>\n",
              "      <td>1</td>\n",
              "      <td>3</td>\n",
              "      <td>1</td>\n",
              "      <td>0</td>\n",
              "    </tr>\n",
              "  </tbody>\n",
              "</table>\n",
              "</div>"
            ],
            "text/plain": [
              "     age  sex  cp  trestbps  chol  fbs  restecg  thalach  exang  oldpeak  \\\n",
              "28    65    0   2     140.0   NaN    1        0    157.0      0      0.8   \n",
              "85    67    0   2     115.0   NaN    0        0    160.0      0      1.6   \n",
              "96    62    0   0     140.0   NaN    0        0    157.0      0      1.2   \n",
              "221   55    1   0     140.0   NaN    0        1    111.0      1      5.6   \n",
              "247   66    1   1     160.0   NaN    0        1    120.0      1      0.0   \n",
              "\n",
              "     slope  ca  thal  target  \n",
              "28       2   1     2       1  \n",
              "85       1   0     3       1  \n",
              "96       1   0     2       1  \n",
              "221      0   0     3       0  \n",
              "247      1   3     1       0  "
            ]
          },
          "metadata": {},
          "execution_count": 48
        }
      ]
    },
    {
      "cell_type": "code",
      "metadata": {
        "colab": {
          "base_uri": "https://localhost:8080/"
        },
        "id": "I3iKYiz_65qn",
        "outputId": "36360147-eaad-4e59-aaf6-f470a06ccff8"
      },
      "source": [
        "missing_values_table(df,na_name=False)"
      ],
      "execution_count": null,
      "outputs": [
        {
          "output_type": "stream",
          "name": "stdout",
          "text": [
            "          n_miss  ratio\n",
            "trestbps       9   2.98\n",
            "oldpeak        5   1.66\n",
            "chol           5   1.66\n",
            "thalach        1   0.33\n"
          ]
        }
      ]
    },
    {
      "cell_type": "code",
      "metadata": {
        "colab": {
          "base_uri": "https://localhost:8080/"
        },
        "id": "o-ttHAcG8Y9D",
        "outputId": "421918cb-f693-4b5a-e8bb-569301ed2600"
      },
      "source": [
        "def one_hot_encoder(dataframe, categorical_cols, drop_first=False):\n",
        "    dataframe = pd.get_dummies(dataframe,\n",
        "                               columns = categorical_cols,\n",
        "                               drop_first = drop_first)\n",
        "    return dataframe\n",
        "\n",
        "def label_encoder(dataframe, binary_col):\n",
        "    labelencoder = LabelEncoder()\n",
        "    dataframe[binary_col] = labelencoder.fit_transform(dataframe[binary_col])\n",
        "    return dataframe\n",
        "\n",
        "binary_cols = [col for col in df.columns if df[col].dtype not in [int, float]\n",
        "               and df[col].nunique() == 2]\n",
        "print('Binary Variables: {}'.format(binary_cols))\n",
        "\n",
        "ohe_cols = [col for col in df.columns if 10 >= df[col].nunique() > 2]\n",
        "print('Multiclass Variables: {}'.format(ohe_cols))"
      ],
      "execution_count": null,
      "outputs": [
        {
          "output_type": "stream",
          "name": "stdout",
          "text": [
            "Binary Variables: []\n",
            "Multiclass Variables: ['cp', 'restecg', 'slope', 'ca', 'thal']\n"
          ]
        }
      ]
    },
    {
      "cell_type": "code",
      "metadata": {
        "id": "QMW4r6TI8t9R"
      },
      "source": [
        "for col in binary_cols:\n",
        "    df = label_encoder(df, col)"
      ],
      "execution_count": null,
      "outputs": []
    },
    {
      "cell_type": "code",
      "metadata": {
        "colab": {
          "base_uri": "https://localhost:8080/"
        },
        "id": "UHcGK0Cs90tz",
        "outputId": "d7de51f7-f861-46b4-e590-18c8d8a8f7b8"
      },
      "source": [
        "##Variáveis ​​inúteis\n",
        "useless_cols = [col for col in df.columns if df[col].nunique() == 2 and\n",
        "                (df[col].value_counts() / len(df) < 0.01).any(axis=None)]\n",
        "print('Number of useless variables: {}'.format(len(useless_cols)))"
      ],
      "execution_count": null,
      "outputs": [
        {
          "output_type": "stream",
          "name": "stdout",
          "text": [
            "Number of useless variables: 0\n"
          ]
        }
      ]
    },
    {
      "cell_type": "code",
      "metadata": {
        "colab": {
          "base_uri": "https://localhost:8080/",
          "height": 189
        },
        "id": "t34B3zs0-HKN",
        "outputId": "9734687a-da17-41a6-f012-528e1ab77172"
      },
      "source": [
        "df.drop(useless_cols, axis=1, inplace=True)\n",
        "cat_cols, num_cols, cat_but_car = grab_col_names(df)"
      ],
      "execution_count": null,
      "outputs": [
        {
          "output_type": "error",
          "ename": "NameError",
          "evalue": "ignored",
          "traceback": [
            "\u001b[0;31m---------------------------------------------------------------------------\u001b[0m",
            "\u001b[0;31mNameError\u001b[0m                                 Traceback (most recent call last)",
            "\u001b[0;32m<ipython-input-54-ef1cddd7af15>\u001b[0m in \u001b[0;36m<module>\u001b[0;34m()\u001b[0m\n\u001b[1;32m      1\u001b[0m \u001b[0mdf\u001b[0m\u001b[0;34m.\u001b[0m\u001b[0mdrop\u001b[0m\u001b[0;34m(\u001b[0m\u001b[0museless_cols\u001b[0m\u001b[0;34m,\u001b[0m \u001b[0maxis\u001b[0m\u001b[0;34m=\u001b[0m\u001b[0;36m1\u001b[0m\u001b[0;34m,\u001b[0m \u001b[0minplace\u001b[0m\u001b[0;34m=\u001b[0m\u001b[0;32mTrue\u001b[0m\u001b[0;34m)\u001b[0m\u001b[0;34m\u001b[0m\u001b[0;34m\u001b[0m\u001b[0m\n\u001b[0;32m----> 2\u001b[0;31m \u001b[0mcat_cols\u001b[0m\u001b[0;34m,\u001b[0m \u001b[0mnum_cols\u001b[0m\u001b[0;34m,\u001b[0m \u001b[0mcat_but_car\u001b[0m \u001b[0;34m=\u001b[0m \u001b[0mgrab_col_names\u001b[0m\u001b[0;34m(\u001b[0m\u001b[0mdf\u001b[0m\u001b[0;34m)\u001b[0m\u001b[0;34m\u001b[0m\u001b[0;34m\u001b[0m\u001b[0m\n\u001b[0m",
            "\u001b[0;31mNameError\u001b[0m: name 'grab_col_names' is not defined"
          ]
        }
      ]
    },
    {
      "cell_type": "code",
      "metadata": {
        "colab": {
          "base_uri": "https://localhost:8080/",
          "height": 205
        },
        "id": "Gqp_lK1v-dGm",
        "outputId": "3301ee94-89f1-4e7f-f4fe-7cc55357013d"
      },
      "source": [
        "from sklearn.preprocessing import StandardScaler, RobustScaler\n",
        "scaler = RobustScaler() #StandardScaler - RobustScaler\n",
        "df[num_cols] = scaler.fit_transform(df[num_cols])\n",
        "df.head()"
      ],
      "execution_count": null,
      "outputs": [
        {
          "output_type": "execute_result",
          "data": {
            "text/html": [
              "<div>\n",
              "<style scoped>\n",
              "    .dataframe tbody tr th:only-of-type {\n",
              "        vertical-align: middle;\n",
              "    }\n",
              "\n",
              "    .dataframe tbody tr th {\n",
              "        vertical-align: top;\n",
              "    }\n",
              "\n",
              "    .dataframe thead th {\n",
              "        text-align: right;\n",
              "    }\n",
              "</style>\n",
              "<table border=\"1\" class=\"dataframe\">\n",
              "  <thead>\n",
              "    <tr style=\"text-align: right;\">\n",
              "      <th></th>\n",
              "      <th>age</th>\n",
              "      <th>sex</th>\n",
              "      <th>cp</th>\n",
              "      <th>trestbps</th>\n",
              "      <th>chol</th>\n",
              "      <th>fbs</th>\n",
              "      <th>restecg</th>\n",
              "      <th>thalach</th>\n",
              "      <th>exang</th>\n",
              "      <th>oldpeak</th>\n",
              "      <th>slope</th>\n",
              "      <th>ca</th>\n",
              "      <th>thal</th>\n",
              "      <th>target</th>\n",
              "    </tr>\n",
              "  </thead>\n",
              "  <tbody>\n",
              "    <tr>\n",
              "      <th>0</th>\n",
              "      <td>0.576923</td>\n",
              "      <td>1</td>\n",
              "      <td>3</td>\n",
              "      <td>0.75</td>\n",
              "      <td>-0.111111</td>\n",
              "      <td>1</td>\n",
              "      <td>0</td>\n",
              "      <td>-0.060606</td>\n",
              "      <td>0</td>\n",
              "      <td>0.9375</td>\n",
              "      <td>0</td>\n",
              "      <td>0</td>\n",
              "      <td>1</td>\n",
              "      <td>1</td>\n",
              "    </tr>\n",
              "    <tr>\n",
              "      <th>1</th>\n",
              "      <td>-1.423077</td>\n",
              "      <td>1</td>\n",
              "      <td>2</td>\n",
              "      <td>0.00</td>\n",
              "      <td>0.158730</td>\n",
              "      <td>0</td>\n",
              "      <td>1</td>\n",
              "      <td>1.060606</td>\n",
              "      <td>0</td>\n",
              "      <td>1.6875</td>\n",
              "      <td>0</td>\n",
              "      <td>0</td>\n",
              "      <td>2</td>\n",
              "      <td>1</td>\n",
              "    </tr>\n",
              "    <tr>\n",
              "      <th>2</th>\n",
              "      <td>-1.115385</td>\n",
              "      <td>0</td>\n",
              "      <td>1</td>\n",
              "      <td>0.00</td>\n",
              "      <td>-0.571429</td>\n",
              "      <td>0</td>\n",
              "      <td>0</td>\n",
              "      <td>0.606061</td>\n",
              "      <td>0</td>\n",
              "      <td>0.3750</td>\n",
              "      <td>2</td>\n",
              "      <td>0</td>\n",
              "      <td>2</td>\n",
              "      <td>1</td>\n",
              "    </tr>\n",
              "    <tr>\n",
              "      <th>3</th>\n",
              "      <td>0.038462</td>\n",
              "      <td>1</td>\n",
              "      <td>1</td>\n",
              "      <td>-0.50</td>\n",
              "      <td>-0.063492</td>\n",
              "      <td>0</td>\n",
              "      <td>1</td>\n",
              "      <td>0.787879</td>\n",
              "      <td>0</td>\n",
              "      <td>0.0000</td>\n",
              "      <td>2</td>\n",
              "      <td>0</td>\n",
              "      <td>2</td>\n",
              "      <td>1</td>\n",
              "    </tr>\n",
              "    <tr>\n",
              "      <th>4</th>\n",
              "      <td>0.115385</td>\n",
              "      <td>0</td>\n",
              "      <td>0</td>\n",
              "      <td>-0.50</td>\n",
              "      <td>1.809524</td>\n",
              "      <td>0</td>\n",
              "      <td>1</td>\n",
              "      <td>0.333333</td>\n",
              "      <td>1</td>\n",
              "      <td>-0.1250</td>\n",
              "      <td>2</td>\n",
              "      <td>0</td>\n",
              "      <td>2</td>\n",
              "      <td>1</td>\n",
              "    </tr>\n",
              "  </tbody>\n",
              "</table>\n",
              "</div>"
            ],
            "text/plain": [
              "        age  sex  cp  trestbps      chol  fbs  restecg   thalach  exang  \\\n",
              "0  0.576923    1   3      0.75 -0.111111    1        0 -0.060606      0   \n",
              "1 -1.423077    1   2      0.00  0.158730    0        1  1.060606      0   \n",
              "2 -1.115385    0   1      0.00 -0.571429    0        0  0.606061      0   \n",
              "3  0.038462    1   1     -0.50 -0.063492    0        1  0.787879      0   \n",
              "4  0.115385    0   0     -0.50  1.809524    0        1  0.333333      1   \n",
              "\n",
              "   oldpeak  slope  ca  thal  target  \n",
              "0   0.9375      0   0     1       1  \n",
              "1   1.6875      0   0     2       1  \n",
              "2   0.3750      2   0     2       1  \n",
              "3   0.0000      2   0     2       1  \n",
              "4  -0.1250      2   0     2       1  "
            ]
          },
          "metadata": {},
          "execution_count": 56
        }
      ]
    },
    {
      "cell_type": "code",
      "metadata": {
        "id": "6FS_H2Cq_brB"
      },
      "source": [
        ""
      ],
      "execution_count": null,
      "outputs": []
    }
  ]
}
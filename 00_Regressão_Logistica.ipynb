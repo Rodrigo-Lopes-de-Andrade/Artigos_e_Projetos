{
  "cells": [
    {
      "cell_type": "markdown",
      "metadata": {
        "id": "view-in-github",
        "colab_type": "text"
      },
      "source": [
        "<a href=\"https://colab.research.google.com/github/Rodrigo-Lopes-de-Andrade/Artigos_e_Projetos/blob/main/00_Regress%C3%A3o_Logistica.ipynb\" target=\"_parent\"><img src=\"https://colab.research.google.com/assets/colab-badge.svg\" alt=\"Open In Colab\"/></a>"
      ]
    },
    {
      "cell_type": "markdown",
      "source": [
        "<p align=\"center\">\n",
        "    <a href=\"https://medium.com/rodrigo-lopesandrade\" alt=\"Contributors\">\n",
        "        <img src=\"https://img.shields.io/badge/Medium-RLA Data Science-magenta\" />\n",
        "    </a>\n",
        "<a href=\"https://linkedin.com/in/rodrigo-lopes-de-andrade-51753246\" alt=\"Contributors\">\n",
        "        <img src=\"https://img.shields.io/badge/Linkedin-Rodrigo Lopes de Andrade-cyan\" />\n",
        "    </a>\n",
        "<a href=\"https://github.com/Rodrigo-Lopes-de-Andrade\" alt=\"Contributors\">\n",
        "        <img src=\"https://img.shields.io/badge/GitHub-Rodrigo Lopes de Andrade-purple\" />\n",
        "    </a>\n",
        "<p align=\"center\">\n",
        "  <img src=\"https://raw.githubusercontent.com/Rodrigo-Lopes-de-Andrade/Portifolio_Rodrigo_Andrade/main/LOGORLA.JPG\" >\n",
        "</p>"
      ],
      "metadata": {
        "id": "VKJWcg3FuCZh"
      }
    },
    {
      "metadata": {
        "id": "IPpqwtaVKQWY"
      },
      "cell_type": "markdown",
      "source": [
        "<a class=\"anchor\" id=\"0\"> </a>\n",
        "# **Tutorial do classificador de regressão logística com Python**\n",
        "\n",
        "\n",
        "Olá amigos,\n",
        "\n",
        "\n",
        "Neste kernel, implemento Regressão Logística com Python e Scikit-Learn. Eu construo um classificador de regressão logística para prever se vai chover ou não amanhã na Austrália. Eu treino um modelo de classificação binária usando Regressão Logística."
      ]
    },
    {
      "metadata": {
        "id": "G85B7tCnKQWk"
      },
      "cell_type": "markdown",
      "source": [
        "**Como sempre, espero que você ache este kernel útil e suas <font color = \"red\"> <b> ATUALIZAÇÕES </b> </font> seriam muito apreciadas**.\n"
      ]
    },
    {
      "metadata": {
        "id": "D0koVQ9tKQWn"
      },
      "cell_type": "markdown",
      "source": [
        "<a class=\"anchor\" id=\"0.1\"> </a>\n",
        "# **Índice**\n",
        "\n",
        "\n",
        "1. Introdução à regressão logística\n",
        "2. Intuição de regressão logística\n",
        "3. Premissas de regressão logística\n",
        "4. Tipos de regressão logística\n",
        "5. Importar bibliotecas\n",
        "6. Importar conjunto de dados\n",
        "7. Análise exploratória de dados\n",
        "8. Declara vetor de característica e variável de destino\n",
        "9. Divida os dados em treinamento e conjunto de teste separados)\n",
        "10. Engenharia de recursos\n",
        "11. Escala de recursos\n",
        "12. Treinamento do modelo\n",
        "13. Prever resultados\n",
        "14. Verificar pontuação de precisão\n",
        "15. Matriz de confusão\n",
        "16. Métricas de classificação\n",
        "17. Ajustando o nível de limite\n",
        "18. ROC - AUC\n",
        "19. Validação cruzada k-Fold] (# 19)\n",
        "20. Otimização de hiperparâmetros usando GridSearch CV\n",
        "21. Resultados e conclusão\n",
        "22. Referências\n"
      ]
    },
    {
      "metadata": {
        "id": "5WikyajIKQWp"
      },
      "cell_type": "markdown",
      "source": [
        "# **1. Introdução à regressão logística** <a class=\"anchor\" id=\"1\"> </a>\n",
        "\n",
        "Quando os cientistas de dados podem se deparar com um novo problema de classificação, o primeiro algoritmo que pode surgir em sua mente é **Regressão Logística**. É um algoritmo de classificação de aprendizagem supervisionada que é usado para prever observações para um conjunto discreto de classes. Na prática, é usado para classificar as observações em diferentes categorias. Portanto, sua saída é de natureza discreta. **Regressão logística** também é chamada de **Regressão Logit**. É um dos algoritmos de classificação mais simples, diretos e versáteis usados ​​para resolver problemas de classificação."
      ]
    },
    {
      "metadata": {
        "id": "2UE_DHQ-KQWr"
      },
      "cell_type": "markdown",
      "source": [
        "# **2. Intuição de regressão logística** <a class=\"anchor\" id=\"2\"> </a>\n",
        "\n",
        "\n",
        "Em estatística, o **modelo de regressão logística** é um modelo estatístico amplamente utilizado, principalmente para fins de classificação. Isso significa que, dado um conjunto de observações, o algoritmo de regressão logística nos ajuda a classificar essas observações em duas ou mais classes discretas. Portanto, a variável de destino é de natureza discreta.\n",
        "\n",
        "\n",
        "O algoritmo de regressão logística funciona da seguinte forma:"
      ]
    },
    {
      "metadata": {
        "id": "zctZsFlKKQWs"
      },
      "cell_type": "markdown",
      "source": [
        "## **Implementar equação linear**\n",
        "\n",
        "\n",
        "O algoritmo de regressão logística funciona implementando uma equação linear com variáveis ​​independentes ou explicativas para prever um valor de resposta. Por exemplo, consideramos o exemplo do número de horas estudadas e probabilidade de passar no exame. Aqui, o número de horas estudadas é a variável explicativa e é denotado por x1. A probabilidade de aprovação no exame é a resposta ou variável de destino e é denotada por z.\n",
        "\n",
        "\n",
        "Se tivermos uma variável explicativa (x1) e uma variável de resposta (z), então a equação linear seria dada matematicamente com a seguinte equação-\n",
        "\n",
        "    z = β0 + β1x1\n",
        "\n",
        "Aqui, os coeficientes β0 e β1 são os parâmetros do modelo.\n",
        "\n",
        "\n",
        "Se houver várias variáveis ​​explicativas, a equação acima pode ser estendida para\n",
        "\n",
        "    z = β0 + β1x1 + β2x2 + …… .. + βnxn\n",
        "    \n",
        "Aqui, os coeficientes β0, β1, β2 e βn são os parâmetros do modelo.\n",
        "\n",
        "Portanto, o valor de resposta previsto é dado pelas equações acima e é denotado por z."
      ]
    },
    {
      "metadata": {
        "id": "cxOX9wHHKQWu"
      },
      "cell_type": "markdown",
      "source": [
        "## **Função sigmóide**\n",
        "\n",
        "Esse valor de resposta previsto, denotado por z, é então convertido em um valor de probabilidade que fica entre 0 e 1. Usamos a função sigmóide para mapear os valores previstos para os valores de probabilidade. Esta função sigmóide então mapeia qualquer valor real em um valor de probabilidade entre 0 e 1.\n",
        "\n",
        "No aprendizado de máquina, a função sigmóide é usada para mapear as previsões para as probabilidades. A função sigmóide tem uma curva em forma de S. É também chamada de curva sigmóide.\n",
        "\n",
        "Uma função sigmóide é um caso especial da função logística. É dado pela seguinte fórmula matemática.\n",
        "\n",
        "Graficamente, podemos representar a função sigmóide com o gráfico a seguir."
      ]
    },
    {
      "metadata": {
        "id": "2X9ITAejKQWw"
      },
      "cell_type": "markdown",
      "source": [
        "### Função sigmóide\n",
        "\n",
        "![Sigmoid Function](https://miro.medium.com/max/970/1*Xu7B5y9gp0iL5ooBj7LtWw.png)"
      ]
    },
    {
      "metadata": {
        "id": "D3JsjPMpKQWx"
      },
      "cell_type": "markdown",
      "source": [
        "## **Limite de decisão**\n",
        "\n",
        "A função sigmóide retorna um valor de probabilidade entre 0 e 1. Este valor de probabilidade é então mapeado para uma classe discreta que é “0” ou “1”. Para mapear este valor de probabilidade para uma classe discreta (aprovado / reprovado, sim / não, verdadeiro / falso), selecionamos um valor limite. Este valor limite é denominado Limite de decisão. Acima desse valor limite, mapearemos os valores de probabilidade na classe 1 e abaixo dos quais mapearemos os valores na classe 0.\n",
        "\n",
        "Matematicamente, pode ser expresso da seguinte forma: -\n",
        "\n",
        "p ≥ 0,5 => classe = 1\n",
        "\n",
        "p <0,5 => classe = 0\n",
        "\n",
        "Geralmente, o limite de decisão é definido como 0,5. Portanto, se o valor da probabilidade for 0,8 (> 0,5), mapearemos essa observação para a classe 1. Da mesma forma, se o valor da probabilidade for 0,2 (<0,5), mapearemos essa observação para a classe 0. Isso é representado no gráfico abaixo-"
      ]
    },
    {
      "metadata": {
        "id": "ai_kPOjLKQW0"
      },
      "cell_type": "markdown",
      "source": [
        "![Decision boundary in sigmoid function](https://ml-cheatsheet.readthedocs.io/en/latest/_images/logistic_regression_sigmoid_w_threshold.png)"
      ]
    },
    {
      "metadata": {
        "id": "hgzMX75FKQW1"
      },
      "cell_type": "markdown",
      "source": [
        "## **Fazendo previsões**\n",
        "\n",
        "Agora, sabemos sobre a função sigmóide e o limite de decisão na regressão logística. Podemos usar nosso conhecimento da função sigmóide e limite de decisão para escrever uma função de previsão. Uma função de previsão em regressão logística retorna a probabilidade de a observação ser positiva, Sim ou Verdadeira. Chamamos isso de classe 1 e é denotado por P (classe = 1). Se a probabilidade se aproximar de um, teremos mais confiança em nosso modelo de que a observação está na classe 1, caso contrário, está na classe 0.\n"
      ]
    },
    {
      "metadata": {
        "id": "o8t6oouaKQW2"
      },
      "cell_type": "markdown",
      "source": [
        "# **3. Premissas de regressão logística** <a class=\"anchor\" id=\"3\"> </a>\n",
        "\n",
        "O modelo de regressão logística requer várias premissas importantes. São os seguintes: \n",
        "\n",
        "1. O modelo de regressão logística requer que a variável dependente seja binária, multinomial ou ordinal por natureza.\n",
        "\n",
        "2. Requer que as observações sejam independentes umas das outras. Portanto, as observações não devem vir de medições repetidas.\n",
        "\n",
        "3. O algoritmo de regressão logística requer pouca ou nenhuma multicolinearidade entre as variáveis ​​independentes. Isso significa que as variáveis ​​independentes não devem ser altamente correlacionadas entre si.\n",
        "\n",
        "4. O modelo de regressão logística assume linearidade de variáveis ​​independentes e log de odds.\n",
        "\n",
        "5. O sucesso do modelo de regressão logística depende do tamanho da amostra. Normalmente, é necessário um grande tamanho de amostra para atingir a alta precisão."
      ]
    },
    {
      "metadata": {
        "id": "uIYYBbz3KQW4"
      },
      "cell_type": "markdown",
      "source": [
        "# **4. Tipos de regressão logística** <a class=\"anchor\" id=\"4\"> </a>\n",
        "\n",
        "O modelo de regressão logística pode ser classificado em três grupos com base nas categorias de variáveis ​​de destino. Esses três grupos são descritos abaixo:\n",
        "\n",
        "### 1. Regressão Logística Binária\n",
        "\n",
        "Na Regressão Logística Binária, a variável de destino possui duas categorias possíveis. Os exemplos comuns de categorias são sim ou não, bom ou ruim, verdadeiro ou falso, spam ou não spam e passa ou falha.\n",
        "\n",
        "\n",
        "### 2. Regressão Logística Multinomial\n",
        "\n",
        "Na Regressão Logística Multinomial, a variável de destino tem três ou mais categorias que não estão em nenhuma ordem particular. Portanto, existem três ou mais categorias nominais. Os exemplos incluem os tipos de categorias de frutas - maçã, manga, laranja e banana.\n",
        "\n",
        "\n",
        "### 3. Regressão Logística Ordinal\n",
        "\n",
        "Na regressão logística ordinal, a variável de destino tem três ou mais categorias ordinais. Portanto, há uma ordem intrínseca envolvida nas categorias. Por exemplo, o desempenho do aluno pode ser categorizado como ruim, médio, bom e excelente."
      ]
    },
    {
      "metadata": {
        "id": "bDzs8M0UKQW4"
      },
      "cell_type": "markdown",
      "source": [
        "\n",
        "# **5. Importar bibliotecas** <a class=\"anchor\" id=\"5\"> </a>\n"
      ]
    },
    {
      "metadata": {
        "trusted": true,
        "id": "YZvh3NTeKQW5"
      },
      "cell_type": "code",
      "source": [
        "import numpy as np # linear algebra\n",
        "import pandas as pd # data processing, CSV file I/O (e.g. pd.read_csv)\n",
        "import matplotlib.pyplot as plt # data visualization\n",
        "import seaborn as sns # statistical data visualization"
      ],
      "execution_count": null,
      "outputs": []
    },
    {
      "metadata": {
        "trusted": true,
        "id": "vbtEPk_SKQW8"
      },
      "cell_type": "code",
      "source": [
        "import warnings\n",
        "\n",
        "warnings.filterwarnings('ignore')"
      ],
      "execution_count": null,
      "outputs": []
    },
    {
      "metadata": {
        "id": "CRc0iuynKQW9"
      },
      "cell_type": "markdown",
      "source": [
        "\n",
        "# **6. Importar conjunto de dados** <a class=\"anchor\" id=\"6\"> </a>"
      ]
    },
    {
      "metadata": {
        "trusted": true,
        "id": "21bbNcHpKQW-"
      },
      "cell_type": "code",
      "source": [
        "data = 'https://raw.githubusercontent.com/Rodrigo-Lopes-de-Andrade/Datasets/main/weatherAUS.csv'\n",
        "\n",
        "df = pd.read_csv(data)"
      ],
      "execution_count": null,
      "outputs": []
    },
    {
      "metadata": {
        "id": "ZNw_P1A7KQW-"
      },
      "cell_type": "markdown",
      "source": [
        "# **7. Análise exploratória de dados** <a class=\"anchor\" id=\"7\"> </a>\n",
        "\n",
        "\n",
        "\n",
        "\n",
        "Agora, explorarei os dados para obter insights sobre os dados."
      ]
    },
    {
      "metadata": {
        "trusted": true,
        "colab": {
          "base_uri": "https://localhost:8080/"
        },
        "id": "LEdKjuB5KQW_",
        "outputId": "fbee5666-f2db-4098-bf0e-3fc3b9d131cb"
      },
      "cell_type": "code",
      "source": [
        "# view dimensions of dataset\n",
        "\n",
        "df.shape"
      ],
      "execution_count": null,
      "outputs": [
        {
          "output_type": "execute_result",
          "data": {
            "text/plain": [
              "(145460, 23)"
            ]
          },
          "metadata": {},
          "execution_count": 460
        }
      ]
    },
    {
      "metadata": {
        "id": "lF2Tiq_yKQXA"
      },
      "cell_type": "markdown",
      "source": [
        "Podemos ver que existem 145460, instâncias e 23 variáveis ​​no conjunto de dados."
      ]
    },
    {
      "metadata": {
        "trusted": true,
        "colab": {
          "base_uri": "https://localhost:8080/",
          "height": 357
        },
        "id": "5vDHC1h4KQXA",
        "outputId": "3df340c4-74d3-4ab5-bf4d-ef702f1d3782"
      },
      "cell_type": "code",
      "source": [
        "# preview the dataset\n",
        "\n",
        "df.head()"
      ],
      "execution_count": null,
      "outputs": [
        {
          "output_type": "execute_result",
          "data": {
            "text/html": [
              "\n",
              "  <div id=\"df-56d57800-3a04-4c1a-9112-ae8fe31aa0c7\">\n",
              "    <div class=\"colab-df-container\">\n",
              "      <div>\n",
              "<style scoped>\n",
              "    .dataframe tbody tr th:only-of-type {\n",
              "        vertical-align: middle;\n",
              "    }\n",
              "\n",
              "    .dataframe tbody tr th {\n",
              "        vertical-align: top;\n",
              "    }\n",
              "\n",
              "    .dataframe thead th {\n",
              "        text-align: right;\n",
              "    }\n",
              "</style>\n",
              "<table border=\"1\" class=\"dataframe\">\n",
              "  <thead>\n",
              "    <tr style=\"text-align: right;\">\n",
              "      <th></th>\n",
              "      <th>Date</th>\n",
              "      <th>Location</th>\n",
              "      <th>MinTemp</th>\n",
              "      <th>MaxTemp</th>\n",
              "      <th>Rainfall</th>\n",
              "      <th>Evaporation</th>\n",
              "      <th>Sunshine</th>\n",
              "      <th>WindGustDir</th>\n",
              "      <th>WindGustSpeed</th>\n",
              "      <th>WindDir9am</th>\n",
              "      <th>WindDir3pm</th>\n",
              "      <th>WindSpeed9am</th>\n",
              "      <th>WindSpeed3pm</th>\n",
              "      <th>Humidity9am</th>\n",
              "      <th>Humidity3pm</th>\n",
              "      <th>Pressure9am</th>\n",
              "      <th>Pressure3pm</th>\n",
              "      <th>Cloud9am</th>\n",
              "      <th>Cloud3pm</th>\n",
              "      <th>Temp9am</th>\n",
              "      <th>Temp3pm</th>\n",
              "      <th>RainToday</th>\n",
              "      <th>RainTomorrow</th>\n",
              "    </tr>\n",
              "  </thead>\n",
              "  <tbody>\n",
              "    <tr>\n",
              "      <th>0</th>\n",
              "      <td>2008-12-01</td>\n",
              "      <td>Albury</td>\n",
              "      <td>13.4</td>\n",
              "      <td>22.9</td>\n",
              "      <td>0.6</td>\n",
              "      <td>NaN</td>\n",
              "      <td>NaN</td>\n",
              "      <td>W</td>\n",
              "      <td>44.0</td>\n",
              "      <td>W</td>\n",
              "      <td>WNW</td>\n",
              "      <td>20.0</td>\n",
              "      <td>24.0</td>\n",
              "      <td>71.0</td>\n",
              "      <td>22.0</td>\n",
              "      <td>1007.7</td>\n",
              "      <td>1007.1</td>\n",
              "      <td>8.0</td>\n",
              "      <td>NaN</td>\n",
              "      <td>16.9</td>\n",
              "      <td>21.8</td>\n",
              "      <td>No</td>\n",
              "      <td>No</td>\n",
              "    </tr>\n",
              "    <tr>\n",
              "      <th>1</th>\n",
              "      <td>2008-12-02</td>\n",
              "      <td>Albury</td>\n",
              "      <td>7.4</td>\n",
              "      <td>25.1</td>\n",
              "      <td>0.0</td>\n",
              "      <td>NaN</td>\n",
              "      <td>NaN</td>\n",
              "      <td>WNW</td>\n",
              "      <td>44.0</td>\n",
              "      <td>NNW</td>\n",
              "      <td>WSW</td>\n",
              "      <td>4.0</td>\n",
              "      <td>22.0</td>\n",
              "      <td>44.0</td>\n",
              "      <td>25.0</td>\n",
              "      <td>1010.6</td>\n",
              "      <td>1007.8</td>\n",
              "      <td>NaN</td>\n",
              "      <td>NaN</td>\n",
              "      <td>17.2</td>\n",
              "      <td>24.3</td>\n",
              "      <td>No</td>\n",
              "      <td>No</td>\n",
              "    </tr>\n",
              "    <tr>\n",
              "      <th>2</th>\n",
              "      <td>2008-12-03</td>\n",
              "      <td>Albury</td>\n",
              "      <td>12.9</td>\n",
              "      <td>25.7</td>\n",
              "      <td>0.0</td>\n",
              "      <td>NaN</td>\n",
              "      <td>NaN</td>\n",
              "      <td>WSW</td>\n",
              "      <td>46.0</td>\n",
              "      <td>W</td>\n",
              "      <td>WSW</td>\n",
              "      <td>19.0</td>\n",
              "      <td>26.0</td>\n",
              "      <td>38.0</td>\n",
              "      <td>30.0</td>\n",
              "      <td>1007.6</td>\n",
              "      <td>1008.7</td>\n",
              "      <td>NaN</td>\n",
              "      <td>2.0</td>\n",
              "      <td>21.0</td>\n",
              "      <td>23.2</td>\n",
              "      <td>No</td>\n",
              "      <td>No</td>\n",
              "    </tr>\n",
              "    <tr>\n",
              "      <th>3</th>\n",
              "      <td>2008-12-04</td>\n",
              "      <td>Albury</td>\n",
              "      <td>9.2</td>\n",
              "      <td>28.0</td>\n",
              "      <td>0.0</td>\n",
              "      <td>NaN</td>\n",
              "      <td>NaN</td>\n",
              "      <td>NE</td>\n",
              "      <td>24.0</td>\n",
              "      <td>SE</td>\n",
              "      <td>E</td>\n",
              "      <td>11.0</td>\n",
              "      <td>9.0</td>\n",
              "      <td>45.0</td>\n",
              "      <td>16.0</td>\n",
              "      <td>1017.6</td>\n",
              "      <td>1012.8</td>\n",
              "      <td>NaN</td>\n",
              "      <td>NaN</td>\n",
              "      <td>18.1</td>\n",
              "      <td>26.5</td>\n",
              "      <td>No</td>\n",
              "      <td>No</td>\n",
              "    </tr>\n",
              "    <tr>\n",
              "      <th>4</th>\n",
              "      <td>2008-12-05</td>\n",
              "      <td>Albury</td>\n",
              "      <td>17.5</td>\n",
              "      <td>32.3</td>\n",
              "      <td>1.0</td>\n",
              "      <td>NaN</td>\n",
              "      <td>NaN</td>\n",
              "      <td>W</td>\n",
              "      <td>41.0</td>\n",
              "      <td>ENE</td>\n",
              "      <td>NW</td>\n",
              "      <td>7.0</td>\n",
              "      <td>20.0</td>\n",
              "      <td>82.0</td>\n",
              "      <td>33.0</td>\n",
              "      <td>1010.8</td>\n",
              "      <td>1006.0</td>\n",
              "      <td>7.0</td>\n",
              "      <td>8.0</td>\n",
              "      <td>17.8</td>\n",
              "      <td>29.7</td>\n",
              "      <td>No</td>\n",
              "      <td>No</td>\n",
              "    </tr>\n",
              "  </tbody>\n",
              "</table>\n",
              "</div>\n",
              "      <button class=\"colab-df-convert\" onclick=\"convertToInteractive('df-56d57800-3a04-4c1a-9112-ae8fe31aa0c7')\"\n",
              "              title=\"Convert this dataframe to an interactive table.\"\n",
              "              style=\"display:none;\">\n",
              "        \n",
              "  <svg xmlns=\"http://www.w3.org/2000/svg\" height=\"24px\"viewBox=\"0 0 24 24\"\n",
              "       width=\"24px\">\n",
              "    <path d=\"M0 0h24v24H0V0z\" fill=\"none\"/>\n",
              "    <path d=\"M18.56 5.44l.94 2.06.94-2.06 2.06-.94-2.06-.94-.94-2.06-.94 2.06-2.06.94zm-11 1L8.5 8.5l.94-2.06 2.06-.94-2.06-.94L8.5 2.5l-.94 2.06-2.06.94zm10 10l.94 2.06.94-2.06 2.06-.94-2.06-.94-.94-2.06-.94 2.06-2.06.94z\"/><path d=\"M17.41 7.96l-1.37-1.37c-.4-.4-.92-.59-1.43-.59-.52 0-1.04.2-1.43.59L10.3 9.45l-7.72 7.72c-.78.78-.78 2.05 0 2.83L4 21.41c.39.39.9.59 1.41.59.51 0 1.02-.2 1.41-.59l7.78-7.78 2.81-2.81c.8-.78.8-2.07 0-2.86zM5.41 20L4 18.59l7.72-7.72 1.47 1.35L5.41 20z\"/>\n",
              "  </svg>\n",
              "      </button>\n",
              "      \n",
              "  <style>\n",
              "    .colab-df-container {\n",
              "      display:flex;\n",
              "      flex-wrap:wrap;\n",
              "      gap: 12px;\n",
              "    }\n",
              "\n",
              "    .colab-df-convert {\n",
              "      background-color: #E8F0FE;\n",
              "      border: none;\n",
              "      border-radius: 50%;\n",
              "      cursor: pointer;\n",
              "      display: none;\n",
              "      fill: #1967D2;\n",
              "      height: 32px;\n",
              "      padding: 0 0 0 0;\n",
              "      width: 32px;\n",
              "    }\n",
              "\n",
              "    .colab-df-convert:hover {\n",
              "      background-color: #E2EBFA;\n",
              "      box-shadow: 0px 1px 2px rgba(60, 64, 67, 0.3), 0px 1px 3px 1px rgba(60, 64, 67, 0.15);\n",
              "      fill: #174EA6;\n",
              "    }\n",
              "\n",
              "    [theme=dark] .colab-df-convert {\n",
              "      background-color: #3B4455;\n",
              "      fill: #D2E3FC;\n",
              "    }\n",
              "\n",
              "    [theme=dark] .colab-df-convert:hover {\n",
              "      background-color: #434B5C;\n",
              "      box-shadow: 0px 1px 3px 1px rgba(0, 0, 0, 0.15);\n",
              "      filter: drop-shadow(0px 1px 2px rgba(0, 0, 0, 0.3));\n",
              "      fill: #FFFFFF;\n",
              "    }\n",
              "  </style>\n",
              "\n",
              "      <script>\n",
              "        const buttonEl =\n",
              "          document.querySelector('#df-56d57800-3a04-4c1a-9112-ae8fe31aa0c7 button.colab-df-convert');\n",
              "        buttonEl.style.display =\n",
              "          google.colab.kernel.accessAllowed ? 'block' : 'none';\n",
              "\n",
              "        async function convertToInteractive(key) {\n",
              "          const element = document.querySelector('#df-56d57800-3a04-4c1a-9112-ae8fe31aa0c7');\n",
              "          const dataTable =\n",
              "            await google.colab.kernel.invokeFunction('convertToInteractive',\n",
              "                                                     [key], {});\n",
              "          if (!dataTable) return;\n",
              "\n",
              "          const docLinkHtml = 'Like what you see? Visit the ' +\n",
              "            '<a target=\"_blank\" href=https://colab.research.google.com/notebooks/data_table.ipynb>data table notebook</a>'\n",
              "            + ' to learn more about interactive tables.';\n",
              "          element.innerHTML = '';\n",
              "          dataTable['output_type'] = 'display_data';\n",
              "          await google.colab.output.renderOutput(dataTable, element);\n",
              "          const docLink = document.createElement('div');\n",
              "          docLink.innerHTML = docLinkHtml;\n",
              "          element.appendChild(docLink);\n",
              "        }\n",
              "      </script>\n",
              "    </div>\n",
              "  </div>\n",
              "  "
            ],
            "text/plain": [
              "         Date Location  MinTemp  ...  Temp3pm  RainToday  RainTomorrow\n",
              "0  2008-12-01   Albury     13.4  ...     21.8         No            No\n",
              "1  2008-12-02   Albury      7.4  ...     24.3         No            No\n",
              "2  2008-12-03   Albury     12.9  ...     23.2         No            No\n",
              "3  2008-12-04   Albury      9.2  ...     26.5         No            No\n",
              "4  2008-12-05   Albury     17.5  ...     29.7         No            No\n",
              "\n",
              "[5 rows x 23 columns]"
            ]
          },
          "metadata": {},
          "execution_count": 461
        }
      ]
    },
    {
      "metadata": {
        "trusted": true,
        "colab": {
          "base_uri": "https://localhost:8080/"
        },
        "id": "ld4BUS8BKQXA",
        "outputId": "10a85f80-f26a-4422-f6c0-b88814d72e12"
      },
      "cell_type": "code",
      "source": [
        "col_names = df.columns\n",
        "\n",
        "col_names"
      ],
      "execution_count": null,
      "outputs": [
        {
          "output_type": "execute_result",
          "data": {
            "text/plain": [
              "Index(['Date', 'Location', 'MinTemp', 'MaxTemp', 'Rainfall', 'Evaporation',\n",
              "       'Sunshine', 'WindGustDir', 'WindGustSpeed', 'WindDir9am', 'WindDir3pm',\n",
              "       'WindSpeed9am', 'WindSpeed3pm', 'Humidity9am', 'Humidity3pm',\n",
              "       'Pressure9am', 'Pressure3pm', 'Cloud9am', 'Cloud3pm', 'Temp9am',\n",
              "       'Temp3pm', 'RainToday', 'RainTomorrow'],\n",
              "      dtype='object')"
            ]
          },
          "metadata": {},
          "execution_count": 462
        }
      ]
    },
    {
      "metadata": {
        "trusted": true,
        "colab": {
          "base_uri": "https://localhost:8080/"
        },
        "id": "ed1kAqDTKQXC",
        "outputId": "73f5c6dc-aa65-43de-f861-ef39153004ef"
      },
      "cell_type": "code",
      "source": [
        "# view summary of dataset\n",
        "\n",
        "df.info()"
      ],
      "execution_count": null,
      "outputs": [
        {
          "output_type": "stream",
          "name": "stdout",
          "text": [
            "<class 'pandas.core.frame.DataFrame'>\n",
            "RangeIndex: 145460 entries, 0 to 145459\n",
            "Data columns (total 23 columns):\n",
            " #   Column         Non-Null Count   Dtype  \n",
            "---  ------         --------------   -----  \n",
            " 0   Date           145460 non-null  object \n",
            " 1   Location       145460 non-null  object \n",
            " 2   MinTemp        143975 non-null  float64\n",
            " 3   MaxTemp        144199 non-null  float64\n",
            " 4   Rainfall       142199 non-null  float64\n",
            " 5   Evaporation    82670 non-null   float64\n",
            " 6   Sunshine       75625 non-null   float64\n",
            " 7   WindGustDir    135134 non-null  object \n",
            " 8   WindGustSpeed  135197 non-null  float64\n",
            " 9   WindDir9am     134894 non-null  object \n",
            " 10  WindDir3pm     141232 non-null  object \n",
            " 11  WindSpeed9am   143693 non-null  float64\n",
            " 12  WindSpeed3pm   142398 non-null  float64\n",
            " 13  Humidity9am    142806 non-null  float64\n",
            " 14  Humidity3pm    140953 non-null  float64\n",
            " 15  Pressure9am    130395 non-null  float64\n",
            " 16  Pressure3pm    130432 non-null  float64\n",
            " 17  Cloud9am       89572 non-null   float64\n",
            " 18  Cloud3pm       86102 non-null   float64\n",
            " 19  Temp9am        143693 non-null  float64\n",
            " 20  Temp3pm        141851 non-null  float64\n",
            " 21  RainToday      142199 non-null  object \n",
            " 22  RainTomorrow   142193 non-null  object \n",
            "dtypes: float64(16), object(7)\n",
            "memory usage: 25.5+ MB\n"
          ]
        }
      ]
    },
    {
      "cell_type": "code",
      "source": [
        "# Medidas estatísticas\n",
        "import scipy as sp\n",
        "from scipy import stats\n",
        "\n",
        "def resumetable(df):\n",
        "\n",
        "    print('Rows: {}'.format(df.shape[0]))\n",
        "    print('Columns: {}'.format(df.shape[1]))\n",
        "    summary = pd.DataFrame(df.dtypes,columns=['dtypes'])\n",
        "    summary = summary.reset_index()\n",
        "    summary['Name'] = summary['index']\n",
        "    summary = summary[['Name','dtypes']]\n",
        "    summary['Missing'] = df.isnull().sum().values    \n",
        "    summary['Uniques'] = df.nunique().values\n",
        "    summary['First Value'] = df.loc[0].values\n",
        "    summary['Second Value'] = df.loc[1].values\n",
        "    summary['Third Value'] = df.loc[2].values\n",
        "    summary['Duplicated Value'] = df.duplicated().sum()\n",
        "\n",
        "    for name in summary['Name'].value_counts().index:\n",
        "        summary.loc[summary['Name'] == name, 'Entropy'] = round(stats.entropy(df[name].value_counts(normalize=True), base=2),2) \n",
        "\n",
        "    return summary"
      ],
      "metadata": {
        "id": "m3mMoeNQkR_C"
      },
      "execution_count": null,
      "outputs": []
    },
    {
      "cell_type": "code",
      "source": [
        "resumetable(df)"
      ],
      "metadata": {
        "colab": {
          "base_uri": "https://localhost:8080/",
          "height": 805
        },
        "id": "7f3udVIakTrG",
        "outputId": "c3652602-0519-44aa-aa8a-e0957ac1043b"
      },
      "execution_count": null,
      "outputs": [
        {
          "output_type": "stream",
          "name": "stdout",
          "text": [
            "Rows: 145460\n",
            "Columns: 23\n"
          ]
        },
        {
          "output_type": "execute_result",
          "data": {
            "text/html": [
              "\n",
              "  <div id=\"df-2178c49f-7d5b-4b80-a2be-93b3e927c34e\">\n",
              "    <div class=\"colab-df-container\">\n",
              "      <div>\n",
              "<style scoped>\n",
              "    .dataframe tbody tr th:only-of-type {\n",
              "        vertical-align: middle;\n",
              "    }\n",
              "\n",
              "    .dataframe tbody tr th {\n",
              "        vertical-align: top;\n",
              "    }\n",
              "\n",
              "    .dataframe thead th {\n",
              "        text-align: right;\n",
              "    }\n",
              "</style>\n",
              "<table border=\"1\" class=\"dataframe\">\n",
              "  <thead>\n",
              "    <tr style=\"text-align: right;\">\n",
              "      <th></th>\n",
              "      <th>Name</th>\n",
              "      <th>dtypes</th>\n",
              "      <th>Missing</th>\n",
              "      <th>Uniques</th>\n",
              "      <th>First Value</th>\n",
              "      <th>Second Value</th>\n",
              "      <th>Third Value</th>\n",
              "      <th>Duplicated Value</th>\n",
              "      <th>Entropy</th>\n",
              "    </tr>\n",
              "  </thead>\n",
              "  <tbody>\n",
              "    <tr>\n",
              "      <th>0</th>\n",
              "      <td>Date</td>\n",
              "      <td>object</td>\n",
              "      <td>0</td>\n",
              "      <td>3436</td>\n",
              "      <td>2008-12-01</td>\n",
              "      <td>2008-12-02</td>\n",
              "      <td>2008-12-03</td>\n",
              "      <td>0</td>\n",
              "      <td>11.62</td>\n",
              "    </tr>\n",
              "    <tr>\n",
              "      <th>1</th>\n",
              "      <td>Location</td>\n",
              "      <td>object</td>\n",
              "      <td>0</td>\n",
              "      <td>49</td>\n",
              "      <td>Albury</td>\n",
              "      <td>Albury</td>\n",
              "      <td>Albury</td>\n",
              "      <td>0</td>\n",
              "      <td>5.60</td>\n",
              "    </tr>\n",
              "    <tr>\n",
              "      <th>2</th>\n",
              "      <td>MinTemp</td>\n",
              "      <td>float64</td>\n",
              "      <td>1485</td>\n",
              "      <td>389</td>\n",
              "      <td>13.4</td>\n",
              "      <td>7.4</td>\n",
              "      <td>12.9</td>\n",
              "      <td>0</td>\n",
              "      <td>8.03</td>\n",
              "    </tr>\n",
              "    <tr>\n",
              "      <th>3</th>\n",
              "      <td>MaxTemp</td>\n",
              "      <td>float64</td>\n",
              "      <td>1261</td>\n",
              "      <td>505</td>\n",
              "      <td>22.9</td>\n",
              "      <td>25.1</td>\n",
              "      <td>25.7</td>\n",
              "      <td>0</td>\n",
              "      <td>8.16</td>\n",
              "    </tr>\n",
              "    <tr>\n",
              "      <th>4</th>\n",
              "      <td>Rainfall</td>\n",
              "      <td>float64</td>\n",
              "      <td>3261</td>\n",
              "      <td>681</td>\n",
              "      <td>0.6</td>\n",
              "      <td>0</td>\n",
              "      <td>0</td>\n",
              "      <td>0</td>\n",
              "      <td>3.10</td>\n",
              "    </tr>\n",
              "    <tr>\n",
              "      <th>5</th>\n",
              "      <td>Evaporation</td>\n",
              "      <td>float64</td>\n",
              "      <td>62790</td>\n",
              "      <td>358</td>\n",
              "      <td>NaN</td>\n",
              "      <td>NaN</td>\n",
              "      <td>NaN</td>\n",
              "      <td>0</td>\n",
              "      <td>6.10</td>\n",
              "    </tr>\n",
              "    <tr>\n",
              "      <th>6</th>\n",
              "      <td>Sunshine</td>\n",
              "      <td>float64</td>\n",
              "      <td>69835</td>\n",
              "      <td>145</td>\n",
              "      <td>NaN</td>\n",
              "      <td>NaN</td>\n",
              "      <td>NaN</td>\n",
              "      <td>0</td>\n",
              "      <td>6.97</td>\n",
              "    </tr>\n",
              "    <tr>\n",
              "      <th>7</th>\n",
              "      <td>WindGustDir</td>\n",
              "      <td>object</td>\n",
              "      <td>10326</td>\n",
              "      <td>16</td>\n",
              "      <td>W</td>\n",
              "      <td>WNW</td>\n",
              "      <td>WSW</td>\n",
              "      <td>0</td>\n",
              "      <td>3.99</td>\n",
              "    </tr>\n",
              "    <tr>\n",
              "      <th>8</th>\n",
              "      <td>WindGustSpeed</td>\n",
              "      <td>float64</td>\n",
              "      <td>10263</td>\n",
              "      <td>67</td>\n",
              "      <td>44</td>\n",
              "      <td>44</td>\n",
              "      <td>46</td>\n",
              "      <td>0</td>\n",
              "      <td>4.84</td>\n",
              "    </tr>\n",
              "    <tr>\n",
              "      <th>9</th>\n",
              "      <td>WindDir9am</td>\n",
              "      <td>object</td>\n",
              "      <td>10566</td>\n",
              "      <td>16</td>\n",
              "      <td>W</td>\n",
              "      <td>NNW</td>\n",
              "      <td>W</td>\n",
              "      <td>0</td>\n",
              "      <td>3.99</td>\n",
              "    </tr>\n",
              "    <tr>\n",
              "      <th>10</th>\n",
              "      <td>WindDir3pm</td>\n",
              "      <td>object</td>\n",
              "      <td>4228</td>\n",
              "      <td>16</td>\n",
              "      <td>WNW</td>\n",
              "      <td>WSW</td>\n",
              "      <td>WSW</td>\n",
              "      <td>0</td>\n",
              "      <td>3.99</td>\n",
              "    </tr>\n",
              "    <tr>\n",
              "      <th>11</th>\n",
              "      <td>WindSpeed9am</td>\n",
              "      <td>float64</td>\n",
              "      <td>1767</td>\n",
              "      <td>43</td>\n",
              "      <td>20</td>\n",
              "      <td>4</td>\n",
              "      <td>19</td>\n",
              "      <td>0</td>\n",
              "      <td>4.18</td>\n",
              "    </tr>\n",
              "    <tr>\n",
              "      <th>12</th>\n",
              "      <td>WindSpeed3pm</td>\n",
              "      <td>float64</td>\n",
              "      <td>3062</td>\n",
              "      <td>44</td>\n",
              "      <td>24</td>\n",
              "      <td>22</td>\n",
              "      <td>26</td>\n",
              "      <td>0</td>\n",
              "      <td>4.24</td>\n",
              "    </tr>\n",
              "    <tr>\n",
              "      <th>13</th>\n",
              "      <td>Humidity9am</td>\n",
              "      <td>float64</td>\n",
              "      <td>2654</td>\n",
              "      <td>101</td>\n",
              "      <td>71</td>\n",
              "      <td>44</td>\n",
              "      <td>38</td>\n",
              "      <td>0</td>\n",
              "      <td>6.16</td>\n",
              "    </tr>\n",
              "    <tr>\n",
              "      <th>14</th>\n",
              "      <td>Humidity3pm</td>\n",
              "      <td>float64</td>\n",
              "      <td>4507</td>\n",
              "      <td>101</td>\n",
              "      <td>22</td>\n",
              "      <td>25</td>\n",
              "      <td>30</td>\n",
              "      <td>0</td>\n",
              "      <td>6.38</td>\n",
              "    </tr>\n",
              "    <tr>\n",
              "      <th>15</th>\n",
              "      <td>Pressure9am</td>\n",
              "      <td>float64</td>\n",
              "      <td>15065</td>\n",
              "      <td>546</td>\n",
              "      <td>1007.7</td>\n",
              "      <td>1010.6</td>\n",
              "      <td>1007.6</td>\n",
              "      <td>0</td>\n",
              "      <td>8.19</td>\n",
              "    </tr>\n",
              "    <tr>\n",
              "      <th>16</th>\n",
              "      <td>Pressure3pm</td>\n",
              "      <td>float64</td>\n",
              "      <td>15028</td>\n",
              "      <td>549</td>\n",
              "      <td>1007.1</td>\n",
              "      <td>1007.8</td>\n",
              "      <td>1008.7</td>\n",
              "      <td>0</td>\n",
              "      <td>8.18</td>\n",
              "    </tr>\n",
              "    <tr>\n",
              "      <th>17</th>\n",
              "      <td>Cloud9am</td>\n",
              "      <td>float64</td>\n",
              "      <td>55888</td>\n",
              "      <td>10</td>\n",
              "      <td>8</td>\n",
              "      <td>NaN</td>\n",
              "      <td>NaN</td>\n",
              "      <td>0</td>\n",
              "      <td>2.99</td>\n",
              "    </tr>\n",
              "    <tr>\n",
              "      <th>18</th>\n",
              "      <td>Cloud3pm</td>\n",
              "      <td>float64</td>\n",
              "      <td>59358</td>\n",
              "      <td>10</td>\n",
              "      <td>NaN</td>\n",
              "      <td>NaN</td>\n",
              "      <td>2</td>\n",
              "      <td>0</td>\n",
              "      <td>3.03</td>\n",
              "    </tr>\n",
              "    <tr>\n",
              "      <th>19</th>\n",
              "      <td>Temp9am</td>\n",
              "      <td>float64</td>\n",
              "      <td>1767</td>\n",
              "      <td>441</td>\n",
              "      <td>16.9</td>\n",
              "      <td>17.2</td>\n",
              "      <td>21</td>\n",
              "      <td>0</td>\n",
              "      <td>8.05</td>\n",
              "    </tr>\n",
              "    <tr>\n",
              "      <th>20</th>\n",
              "      <td>Temp3pm</td>\n",
              "      <td>float64</td>\n",
              "      <td>3609</td>\n",
              "      <td>502</td>\n",
              "      <td>21.8</td>\n",
              "      <td>24.3</td>\n",
              "      <td>23.2</td>\n",
              "      <td>0</td>\n",
              "      <td>8.13</td>\n",
              "    </tr>\n",
              "    <tr>\n",
              "      <th>21</th>\n",
              "      <td>RainToday</td>\n",
              "      <td>object</td>\n",
              "      <td>3261</td>\n",
              "      <td>2</td>\n",
              "      <td>No</td>\n",
              "      <td>No</td>\n",
              "      <td>No</td>\n",
              "      <td>0</td>\n",
              "      <td>0.77</td>\n",
              "    </tr>\n",
              "    <tr>\n",
              "      <th>22</th>\n",
              "      <td>RainTomorrow</td>\n",
              "      <td>object</td>\n",
              "      <td>3267</td>\n",
              "      <td>2</td>\n",
              "      <td>No</td>\n",
              "      <td>No</td>\n",
              "      <td>No</td>\n",
              "      <td>0</td>\n",
              "      <td>0.77</td>\n",
              "    </tr>\n",
              "  </tbody>\n",
              "</table>\n",
              "</div>\n",
              "      <button class=\"colab-df-convert\" onclick=\"convertToInteractive('df-2178c49f-7d5b-4b80-a2be-93b3e927c34e')\"\n",
              "              title=\"Convert this dataframe to an interactive table.\"\n",
              "              style=\"display:none;\">\n",
              "        \n",
              "  <svg xmlns=\"http://www.w3.org/2000/svg\" height=\"24px\"viewBox=\"0 0 24 24\"\n",
              "       width=\"24px\">\n",
              "    <path d=\"M0 0h24v24H0V0z\" fill=\"none\"/>\n",
              "    <path d=\"M18.56 5.44l.94 2.06.94-2.06 2.06-.94-2.06-.94-.94-2.06-.94 2.06-2.06.94zm-11 1L8.5 8.5l.94-2.06 2.06-.94-2.06-.94L8.5 2.5l-.94 2.06-2.06.94zm10 10l.94 2.06.94-2.06 2.06-.94-2.06-.94-.94-2.06-.94 2.06-2.06.94z\"/><path d=\"M17.41 7.96l-1.37-1.37c-.4-.4-.92-.59-1.43-.59-.52 0-1.04.2-1.43.59L10.3 9.45l-7.72 7.72c-.78.78-.78 2.05 0 2.83L4 21.41c.39.39.9.59 1.41.59.51 0 1.02-.2 1.41-.59l7.78-7.78 2.81-2.81c.8-.78.8-2.07 0-2.86zM5.41 20L4 18.59l7.72-7.72 1.47 1.35L5.41 20z\"/>\n",
              "  </svg>\n",
              "      </button>\n",
              "      \n",
              "  <style>\n",
              "    .colab-df-container {\n",
              "      display:flex;\n",
              "      flex-wrap:wrap;\n",
              "      gap: 12px;\n",
              "    }\n",
              "\n",
              "    .colab-df-convert {\n",
              "      background-color: #E8F0FE;\n",
              "      border: none;\n",
              "      border-radius: 50%;\n",
              "      cursor: pointer;\n",
              "      display: none;\n",
              "      fill: #1967D2;\n",
              "      height: 32px;\n",
              "      padding: 0 0 0 0;\n",
              "      width: 32px;\n",
              "    }\n",
              "\n",
              "    .colab-df-convert:hover {\n",
              "      background-color: #E2EBFA;\n",
              "      box-shadow: 0px 1px 2px rgba(60, 64, 67, 0.3), 0px 1px 3px 1px rgba(60, 64, 67, 0.15);\n",
              "      fill: #174EA6;\n",
              "    }\n",
              "\n",
              "    [theme=dark] .colab-df-convert {\n",
              "      background-color: #3B4455;\n",
              "      fill: #D2E3FC;\n",
              "    }\n",
              "\n",
              "    [theme=dark] .colab-df-convert:hover {\n",
              "      background-color: #434B5C;\n",
              "      box-shadow: 0px 1px 3px 1px rgba(0, 0, 0, 0.15);\n",
              "      filter: drop-shadow(0px 1px 2px rgba(0, 0, 0, 0.3));\n",
              "      fill: #FFFFFF;\n",
              "    }\n",
              "  </style>\n",
              "\n",
              "      <script>\n",
              "        const buttonEl =\n",
              "          document.querySelector('#df-2178c49f-7d5b-4b80-a2be-93b3e927c34e button.colab-df-convert');\n",
              "        buttonEl.style.display =\n",
              "          google.colab.kernel.accessAllowed ? 'block' : 'none';\n",
              "\n",
              "        async function convertToInteractive(key) {\n",
              "          const element = document.querySelector('#df-2178c49f-7d5b-4b80-a2be-93b3e927c34e');\n",
              "          const dataTable =\n",
              "            await google.colab.kernel.invokeFunction('convertToInteractive',\n",
              "                                                     [key], {});\n",
              "          if (!dataTable) return;\n",
              "\n",
              "          const docLinkHtml = 'Like what you see? Visit the ' +\n",
              "            '<a target=\"_blank\" href=https://colab.research.google.com/notebooks/data_table.ipynb>data table notebook</a>'\n",
              "            + ' to learn more about interactive tables.';\n",
              "          element.innerHTML = '';\n",
              "          dataTable['output_type'] = 'display_data';\n",
              "          await google.colab.output.renderOutput(dataTable, element);\n",
              "          const docLink = document.createElement('div');\n",
              "          docLink.innerHTML = docLinkHtml;\n",
              "          element.appendChild(docLink);\n",
              "        }\n",
              "      </script>\n",
              "    </div>\n",
              "  </div>\n",
              "  "
            ],
            "text/plain": [
              "             Name   dtypes  Missing  ...  Third Value Duplicated Value Entropy\n",
              "0            Date   object        0  ...   2008-12-03                0   11.62\n",
              "1        Location   object        0  ...       Albury                0    5.60\n",
              "2         MinTemp  float64     1485  ...         12.9                0    8.03\n",
              "3         MaxTemp  float64     1261  ...         25.7                0    8.16\n",
              "4        Rainfall  float64     3261  ...            0                0    3.10\n",
              "5     Evaporation  float64    62790  ...          NaN                0    6.10\n",
              "6        Sunshine  float64    69835  ...          NaN                0    6.97\n",
              "7     WindGustDir   object    10326  ...          WSW                0    3.99\n",
              "8   WindGustSpeed  float64    10263  ...           46                0    4.84\n",
              "9      WindDir9am   object    10566  ...            W                0    3.99\n",
              "10     WindDir3pm   object     4228  ...          WSW                0    3.99\n",
              "11   WindSpeed9am  float64     1767  ...           19                0    4.18\n",
              "12   WindSpeed3pm  float64     3062  ...           26                0    4.24\n",
              "13    Humidity9am  float64     2654  ...           38                0    6.16\n",
              "14    Humidity3pm  float64     4507  ...           30                0    6.38\n",
              "15    Pressure9am  float64    15065  ...       1007.6                0    8.19\n",
              "16    Pressure3pm  float64    15028  ...       1008.7                0    8.18\n",
              "17       Cloud9am  float64    55888  ...          NaN                0    2.99\n",
              "18       Cloud3pm  float64    59358  ...            2                0    3.03\n",
              "19        Temp9am  float64     1767  ...           21                0    8.05\n",
              "20        Temp3pm  float64     3609  ...         23.2                0    8.13\n",
              "21      RainToday   object     3261  ...           No                0    0.77\n",
              "22   RainTomorrow   object     3267  ...           No                0    0.77\n",
              "\n",
              "[23 rows x 9 columns]"
            ]
          },
          "metadata": {},
          "execution_count": 465
        }
      ]
    },
    {
      "cell_type": "markdown",
      "source": [
        "Podemos notar que a Entropia dos valores são muito altas e temos valores ausentes"
      ],
      "metadata": {
        "id": "BHxDah5UXz6l"
      }
    },
    {
      "metadata": {
        "id": "UysSM_xBKQXD"
      },
      "cell_type": "markdown",
      "source": [
        "### Tipos de variáveis\n",
        "\n",
        "\n",
        "Nesta seção, eu segrego o conjunto de dados em variáveis ​​categóricas e numéricas. Há uma mistura de variáveis ​​categóricas e numéricas no conjunto de dados. Variáveis ​​categóricas têm objeto de tipo de dados. Variáveis ​​numéricas têm tipo de dados float64.\n",
        "\n",
        "\n",
        "Em primeiro lugar, encontrarei variáveis ​​categóricas."
      ]
    },
    {
      "metadata": {
        "trusted": true,
        "colab": {
          "base_uri": "https://localhost:8080/"
        },
        "id": "oet1rxkPKQXD",
        "outputId": "16040d72-cad9-44a5-f3a5-b6e29f3b4702"
      },
      "cell_type": "code",
      "source": [
        "# find categorical variables\n",
        "\n",
        "categorical = [var for var in df.columns if df[var].dtype=='O']\n",
        "\n",
        "print('There are {} categorical variables\\n'.format(len(categorical)))\n",
        "\n",
        "print('The categorical variables are :', categorical)"
      ],
      "execution_count": null,
      "outputs": [
        {
          "output_type": "stream",
          "name": "stdout",
          "text": [
            "There are 7 categorical variables\n",
            "\n",
            "The categorical variables are : ['Date', 'Location', 'WindGustDir', 'WindDir9am', 'WindDir3pm', 'RainToday', 'RainTomorrow']\n"
          ]
        }
      ]
    },
    {
      "metadata": {
        "trusted": true,
        "colab": {
          "base_uri": "https://localhost:8080/",
          "height": 206
        },
        "id": "sQldtewLKQXE",
        "outputId": "d67fe1f6-99c9-4501-b705-bb3539e537c6"
      },
      "cell_type": "code",
      "source": [
        "# view the categorical variables\n",
        "\n",
        "df[categorical].head()"
      ],
      "execution_count": null,
      "outputs": [
        {
          "output_type": "execute_result",
          "data": {
            "text/html": [
              "\n",
              "  <div id=\"df-a35d37e2-07c4-40e9-b27f-3c9b378d26dc\">\n",
              "    <div class=\"colab-df-container\">\n",
              "      <div>\n",
              "<style scoped>\n",
              "    .dataframe tbody tr th:only-of-type {\n",
              "        vertical-align: middle;\n",
              "    }\n",
              "\n",
              "    .dataframe tbody tr th {\n",
              "        vertical-align: top;\n",
              "    }\n",
              "\n",
              "    .dataframe thead th {\n",
              "        text-align: right;\n",
              "    }\n",
              "</style>\n",
              "<table border=\"1\" class=\"dataframe\">\n",
              "  <thead>\n",
              "    <tr style=\"text-align: right;\">\n",
              "      <th></th>\n",
              "      <th>Date</th>\n",
              "      <th>Location</th>\n",
              "      <th>WindGustDir</th>\n",
              "      <th>WindDir9am</th>\n",
              "      <th>WindDir3pm</th>\n",
              "      <th>RainToday</th>\n",
              "      <th>RainTomorrow</th>\n",
              "    </tr>\n",
              "  </thead>\n",
              "  <tbody>\n",
              "    <tr>\n",
              "      <th>0</th>\n",
              "      <td>2008-12-01</td>\n",
              "      <td>Albury</td>\n",
              "      <td>W</td>\n",
              "      <td>W</td>\n",
              "      <td>WNW</td>\n",
              "      <td>No</td>\n",
              "      <td>No</td>\n",
              "    </tr>\n",
              "    <tr>\n",
              "      <th>1</th>\n",
              "      <td>2008-12-02</td>\n",
              "      <td>Albury</td>\n",
              "      <td>WNW</td>\n",
              "      <td>NNW</td>\n",
              "      <td>WSW</td>\n",
              "      <td>No</td>\n",
              "      <td>No</td>\n",
              "    </tr>\n",
              "    <tr>\n",
              "      <th>2</th>\n",
              "      <td>2008-12-03</td>\n",
              "      <td>Albury</td>\n",
              "      <td>WSW</td>\n",
              "      <td>W</td>\n",
              "      <td>WSW</td>\n",
              "      <td>No</td>\n",
              "      <td>No</td>\n",
              "    </tr>\n",
              "    <tr>\n",
              "      <th>3</th>\n",
              "      <td>2008-12-04</td>\n",
              "      <td>Albury</td>\n",
              "      <td>NE</td>\n",
              "      <td>SE</td>\n",
              "      <td>E</td>\n",
              "      <td>No</td>\n",
              "      <td>No</td>\n",
              "    </tr>\n",
              "    <tr>\n",
              "      <th>4</th>\n",
              "      <td>2008-12-05</td>\n",
              "      <td>Albury</td>\n",
              "      <td>W</td>\n",
              "      <td>ENE</td>\n",
              "      <td>NW</td>\n",
              "      <td>No</td>\n",
              "      <td>No</td>\n",
              "    </tr>\n",
              "  </tbody>\n",
              "</table>\n",
              "</div>\n",
              "      <button class=\"colab-df-convert\" onclick=\"convertToInteractive('df-a35d37e2-07c4-40e9-b27f-3c9b378d26dc')\"\n",
              "              title=\"Convert this dataframe to an interactive table.\"\n",
              "              style=\"display:none;\">\n",
              "        \n",
              "  <svg xmlns=\"http://www.w3.org/2000/svg\" height=\"24px\"viewBox=\"0 0 24 24\"\n",
              "       width=\"24px\">\n",
              "    <path d=\"M0 0h24v24H0V0z\" fill=\"none\"/>\n",
              "    <path d=\"M18.56 5.44l.94 2.06.94-2.06 2.06-.94-2.06-.94-.94-2.06-.94 2.06-2.06.94zm-11 1L8.5 8.5l.94-2.06 2.06-.94-2.06-.94L8.5 2.5l-.94 2.06-2.06.94zm10 10l.94 2.06.94-2.06 2.06-.94-2.06-.94-.94-2.06-.94 2.06-2.06.94z\"/><path d=\"M17.41 7.96l-1.37-1.37c-.4-.4-.92-.59-1.43-.59-.52 0-1.04.2-1.43.59L10.3 9.45l-7.72 7.72c-.78.78-.78 2.05 0 2.83L4 21.41c.39.39.9.59 1.41.59.51 0 1.02-.2 1.41-.59l7.78-7.78 2.81-2.81c.8-.78.8-2.07 0-2.86zM5.41 20L4 18.59l7.72-7.72 1.47 1.35L5.41 20z\"/>\n",
              "  </svg>\n",
              "      </button>\n",
              "      \n",
              "  <style>\n",
              "    .colab-df-container {\n",
              "      display:flex;\n",
              "      flex-wrap:wrap;\n",
              "      gap: 12px;\n",
              "    }\n",
              "\n",
              "    .colab-df-convert {\n",
              "      background-color: #E8F0FE;\n",
              "      border: none;\n",
              "      border-radius: 50%;\n",
              "      cursor: pointer;\n",
              "      display: none;\n",
              "      fill: #1967D2;\n",
              "      height: 32px;\n",
              "      padding: 0 0 0 0;\n",
              "      width: 32px;\n",
              "    }\n",
              "\n",
              "    .colab-df-convert:hover {\n",
              "      background-color: #E2EBFA;\n",
              "      box-shadow: 0px 1px 2px rgba(60, 64, 67, 0.3), 0px 1px 3px 1px rgba(60, 64, 67, 0.15);\n",
              "      fill: #174EA6;\n",
              "    }\n",
              "\n",
              "    [theme=dark] .colab-df-convert {\n",
              "      background-color: #3B4455;\n",
              "      fill: #D2E3FC;\n",
              "    }\n",
              "\n",
              "    [theme=dark] .colab-df-convert:hover {\n",
              "      background-color: #434B5C;\n",
              "      box-shadow: 0px 1px 3px 1px rgba(0, 0, 0, 0.15);\n",
              "      filter: drop-shadow(0px 1px 2px rgba(0, 0, 0, 0.3));\n",
              "      fill: #FFFFFF;\n",
              "    }\n",
              "  </style>\n",
              "\n",
              "      <script>\n",
              "        const buttonEl =\n",
              "          document.querySelector('#df-a35d37e2-07c4-40e9-b27f-3c9b378d26dc button.colab-df-convert');\n",
              "        buttonEl.style.display =\n",
              "          google.colab.kernel.accessAllowed ? 'block' : 'none';\n",
              "\n",
              "        async function convertToInteractive(key) {\n",
              "          const element = document.querySelector('#df-a35d37e2-07c4-40e9-b27f-3c9b378d26dc');\n",
              "          const dataTable =\n",
              "            await google.colab.kernel.invokeFunction('convertToInteractive',\n",
              "                                                     [key], {});\n",
              "          if (!dataTable) return;\n",
              "\n",
              "          const docLinkHtml = 'Like what you see? Visit the ' +\n",
              "            '<a target=\"_blank\" href=https://colab.research.google.com/notebooks/data_table.ipynb>data table notebook</a>'\n",
              "            + ' to learn more about interactive tables.';\n",
              "          element.innerHTML = '';\n",
              "          dataTable['output_type'] = 'display_data';\n",
              "          await google.colab.output.renderOutput(dataTable, element);\n",
              "          const docLink = document.createElement('div');\n",
              "          docLink.innerHTML = docLinkHtml;\n",
              "          element.appendChild(docLink);\n",
              "        }\n",
              "      </script>\n",
              "    </div>\n",
              "  </div>\n",
              "  "
            ],
            "text/plain": [
              "         Date Location WindGustDir WindDir9am WindDir3pm RainToday RainTomorrow\n",
              "0  2008-12-01   Albury           W          W        WNW        No           No\n",
              "1  2008-12-02   Albury         WNW        NNW        WSW        No           No\n",
              "2  2008-12-03   Albury         WSW          W        WSW        No           No\n",
              "3  2008-12-04   Albury          NE         SE          E        No           No\n",
              "4  2008-12-05   Albury           W        ENE         NW        No           No"
            ]
          },
          "metadata": {},
          "execution_count": 467
        }
      ]
    },
    {
      "cell_type": "code",
      "source": [
        "cat_cols = [col for col in df.columns if df[col].dtypes == \"O\"]\n",
        "cat_but_car = [col for col in df.columns if df[col].nunique() > 20 and df[col].dtypes == \"O\"]\n",
        "cat_cols = [col for col in cat_cols if col not in cat_but_car]"
      ],
      "metadata": {
        "id": "kmrKOySkTY7r"
      },
      "execution_count": null,
      "outputs": []
    },
    {
      "cell_type": "code",
      "source": [
        "num_but_cat = [col for col in df.columns if df[col].nunique() < 10 and df[col].dtypes != \"O\"]"
      ],
      "metadata": {
        "id": "kpChhlrKTaAw"
      },
      "execution_count": null,
      "outputs": []
    },
    {
      "cell_type": "code",
      "source": [
        "cat_cols = cat_cols + num_but_cat"
      ],
      "metadata": {
        "id": "NXJmxTryTfUC"
      },
      "execution_count": null,
      "outputs": []
    },
    {
      "cell_type": "code",
      "source": [
        "cat_cols"
      ],
      "metadata": {
        "colab": {
          "base_uri": "https://localhost:8080/"
        },
        "id": "EwRnHtvPTi8q",
        "outputId": "d7af12a8-a945-4753-db19-57c7139d9f8a"
      },
      "execution_count": null,
      "outputs": [
        {
          "output_type": "execute_result",
          "data": {
            "text/plain": [
              "['WindGustDir', 'WindDir9am', 'WindDir3pm', 'RainToday', 'RainTomorrow']"
            ]
          },
          "metadata": {},
          "execution_count": 471
        }
      ]
    },
    {
      "metadata": {
        "id": "NGLk2KToKQXE"
      },
      "cell_type": "markdown",
      "source": [
        "### Resumo das variáveis ​​categóricas\n",
        "\n",
        "\n",
        "- Existe uma variável de data. É denotado pela coluna `Data`.\n",
        "\n",
        "\n",
        "- Existem 6 variáveis ​​categóricas. Estes são fornecidos por `Location`,` WindGustDir`, `WindDir9am`,` WindDir3pm`, `RainToday` e` RainTomorrow`.\n",
        "\n",
        "\n",
        "- Existem duas variáveis ​​categóricas binárias - `RainToday` e` RainTomorrow`.\n",
        "\n",
        "\n",
        "- `RainTomorrow` é a variável de destino."
      ]
    },
    {
      "metadata": {
        "id": "EA1zU2mYKQXF"
      },
      "cell_type": "markdown",
      "source": [
        "## Explorar problemas dentro de variáveis ​​categóricas\n",
        "\n",
        "\n",
        "Primeiro, explorarei as variáveis ​​categóricas.\n",
        "\n",
        "\n",
        "### Valores ausentes em variáveis ​​categóricas"
      ]
    },
    {
      "metadata": {
        "trusted": true,
        "colab": {
          "base_uri": "https://localhost:8080/"
        },
        "id": "k-gGhIVzKQXF",
        "outputId": "37d97a71-8867-4800-f9f5-b48bef14ec69"
      },
      "cell_type": "code",
      "source": [
        "# check missing values in categorical variables\n",
        "\n",
        "df[categorical].isnull().sum()"
      ],
      "execution_count": null,
      "outputs": [
        {
          "output_type": "execute_result",
          "data": {
            "text/plain": [
              "Date                0\n",
              "Location            0\n",
              "WindGustDir     10326\n",
              "WindDir9am      10566\n",
              "WindDir3pm       4228\n",
              "RainToday        3261\n",
              "RainTomorrow     3267\n",
              "dtype: int64"
            ]
          },
          "metadata": {},
          "execution_count": 472
        }
      ]
    },
    {
      "metadata": {
        "trusted": true,
        "colab": {
          "base_uri": "https://localhost:8080/"
        },
        "id": "4lzp2LF0KQXI",
        "outputId": "1a75d741-4aef-4f8b-abb6-19dff621d18f"
      },
      "cell_type": "code",
      "source": [
        "# print categorical variables containing missing values\n",
        "\n",
        "cat1 = [var for var in categorical if df[var].isnull().sum()!=0]\n",
        "\n",
        "print(df[cat1].isnull().sum())"
      ],
      "execution_count": null,
      "outputs": [
        {
          "output_type": "stream",
          "name": "stdout",
          "text": [
            "WindGustDir     10326\n",
            "WindDir9am      10566\n",
            "WindDir3pm       4228\n",
            "RainToday        3261\n",
            "RainTomorrow     3267\n",
            "dtype: int64\n"
          ]
        }
      ]
    },
    {
      "metadata": {
        "id": "BWM3H6iDKQXJ"
      },
      "cell_type": "markdown",
      "source": [
        "Podemos ver que existem apenas 4 variáveis ​​categóricas no conjunto de dados que contém valores ausentes. Estes são `WindGustDir`,` WindDir9am`, `WindDir3pm` e` RainToday`."
      ]
    },
    {
      "cell_type": "code",
      "source": [
        "total = df[cat1].isnull().sum().sort_values(ascending = False)\n",
        "percent = (df[cat1].isnull().sum()/df[cat1].isnull().count()*100).sort_values(ascending = False)\n",
        "missing_data  = pd.concat([total, percent], axis=1, keys=['Total', 'Percent'])\n",
        "missing_data"
      ],
      "metadata": {
        "colab": {
          "base_uri": "https://localhost:8080/",
          "height": 206
        },
        "id": "qpuzc_CEVakZ",
        "outputId": "0d449fd8-b26c-4b32-dc37-741604eb19ec"
      },
      "execution_count": null,
      "outputs": [
        {
          "output_type": "execute_result",
          "data": {
            "text/html": [
              "\n",
              "  <div id=\"df-a1f33fc0-0f8a-4f2b-b245-12d5ccac2328\">\n",
              "    <div class=\"colab-df-container\">\n",
              "      <div>\n",
              "<style scoped>\n",
              "    .dataframe tbody tr th:only-of-type {\n",
              "        vertical-align: middle;\n",
              "    }\n",
              "\n",
              "    .dataframe tbody tr th {\n",
              "        vertical-align: top;\n",
              "    }\n",
              "\n",
              "    .dataframe thead th {\n",
              "        text-align: right;\n",
              "    }\n",
              "</style>\n",
              "<table border=\"1\" class=\"dataframe\">\n",
              "  <thead>\n",
              "    <tr style=\"text-align: right;\">\n",
              "      <th></th>\n",
              "      <th>Total</th>\n",
              "      <th>Percent</th>\n",
              "    </tr>\n",
              "  </thead>\n",
              "  <tbody>\n",
              "    <tr>\n",
              "      <th>WindDir9am</th>\n",
              "      <td>10566</td>\n",
              "      <td>7.263853</td>\n",
              "    </tr>\n",
              "    <tr>\n",
              "      <th>WindGustDir</th>\n",
              "      <td>10326</td>\n",
              "      <td>7.098859</td>\n",
              "    </tr>\n",
              "    <tr>\n",
              "      <th>WindDir3pm</th>\n",
              "      <td>4228</td>\n",
              "      <td>2.906641</td>\n",
              "    </tr>\n",
              "    <tr>\n",
              "      <th>RainTomorrow</th>\n",
              "      <td>3267</td>\n",
              "      <td>2.245978</td>\n",
              "    </tr>\n",
              "    <tr>\n",
              "      <th>RainToday</th>\n",
              "      <td>3261</td>\n",
              "      <td>2.241853</td>\n",
              "    </tr>\n",
              "  </tbody>\n",
              "</table>\n",
              "</div>\n",
              "      <button class=\"colab-df-convert\" onclick=\"convertToInteractive('df-a1f33fc0-0f8a-4f2b-b245-12d5ccac2328')\"\n",
              "              title=\"Convert this dataframe to an interactive table.\"\n",
              "              style=\"display:none;\">\n",
              "        \n",
              "  <svg xmlns=\"http://www.w3.org/2000/svg\" height=\"24px\"viewBox=\"0 0 24 24\"\n",
              "       width=\"24px\">\n",
              "    <path d=\"M0 0h24v24H0V0z\" fill=\"none\"/>\n",
              "    <path d=\"M18.56 5.44l.94 2.06.94-2.06 2.06-.94-2.06-.94-.94-2.06-.94 2.06-2.06.94zm-11 1L8.5 8.5l.94-2.06 2.06-.94-2.06-.94L8.5 2.5l-.94 2.06-2.06.94zm10 10l.94 2.06.94-2.06 2.06-.94-2.06-.94-.94-2.06-.94 2.06-2.06.94z\"/><path d=\"M17.41 7.96l-1.37-1.37c-.4-.4-.92-.59-1.43-.59-.52 0-1.04.2-1.43.59L10.3 9.45l-7.72 7.72c-.78.78-.78 2.05 0 2.83L4 21.41c.39.39.9.59 1.41.59.51 0 1.02-.2 1.41-.59l7.78-7.78 2.81-2.81c.8-.78.8-2.07 0-2.86zM5.41 20L4 18.59l7.72-7.72 1.47 1.35L5.41 20z\"/>\n",
              "  </svg>\n",
              "      </button>\n",
              "      \n",
              "  <style>\n",
              "    .colab-df-container {\n",
              "      display:flex;\n",
              "      flex-wrap:wrap;\n",
              "      gap: 12px;\n",
              "    }\n",
              "\n",
              "    .colab-df-convert {\n",
              "      background-color: #E8F0FE;\n",
              "      border: none;\n",
              "      border-radius: 50%;\n",
              "      cursor: pointer;\n",
              "      display: none;\n",
              "      fill: #1967D2;\n",
              "      height: 32px;\n",
              "      padding: 0 0 0 0;\n",
              "      width: 32px;\n",
              "    }\n",
              "\n",
              "    .colab-df-convert:hover {\n",
              "      background-color: #E2EBFA;\n",
              "      box-shadow: 0px 1px 2px rgba(60, 64, 67, 0.3), 0px 1px 3px 1px rgba(60, 64, 67, 0.15);\n",
              "      fill: #174EA6;\n",
              "    }\n",
              "\n",
              "    [theme=dark] .colab-df-convert {\n",
              "      background-color: #3B4455;\n",
              "      fill: #D2E3FC;\n",
              "    }\n",
              "\n",
              "    [theme=dark] .colab-df-convert:hover {\n",
              "      background-color: #434B5C;\n",
              "      box-shadow: 0px 1px 3px 1px rgba(0, 0, 0, 0.15);\n",
              "      filter: drop-shadow(0px 1px 2px rgba(0, 0, 0, 0.3));\n",
              "      fill: #FFFFFF;\n",
              "    }\n",
              "  </style>\n",
              "\n",
              "      <script>\n",
              "        const buttonEl =\n",
              "          document.querySelector('#df-a1f33fc0-0f8a-4f2b-b245-12d5ccac2328 button.colab-df-convert');\n",
              "        buttonEl.style.display =\n",
              "          google.colab.kernel.accessAllowed ? 'block' : 'none';\n",
              "\n",
              "        async function convertToInteractive(key) {\n",
              "          const element = document.querySelector('#df-a1f33fc0-0f8a-4f2b-b245-12d5ccac2328');\n",
              "          const dataTable =\n",
              "            await google.colab.kernel.invokeFunction('convertToInteractive',\n",
              "                                                     [key], {});\n",
              "          if (!dataTable) return;\n",
              "\n",
              "          const docLinkHtml = 'Like what you see? Visit the ' +\n",
              "            '<a target=\"_blank\" href=https://colab.research.google.com/notebooks/data_table.ipynb>data table notebook</a>'\n",
              "            + ' to learn more about interactive tables.';\n",
              "          element.innerHTML = '';\n",
              "          dataTable['output_type'] = 'display_data';\n",
              "          await google.colab.output.renderOutput(dataTable, element);\n",
              "          const docLink = document.createElement('div');\n",
              "          docLink.innerHTML = docLinkHtml;\n",
              "          element.appendChild(docLink);\n",
              "        }\n",
              "      </script>\n",
              "    </div>\n",
              "  </div>\n",
              "  "
            ],
            "text/plain": [
              "              Total   Percent\n",
              "WindDir9am    10566  7.263853\n",
              "WindGustDir   10326  7.098859\n",
              "WindDir3pm     4228  2.906641\n",
              "RainTomorrow   3267  2.245978\n",
              "RainToday      3261  2.241853"
            ]
          },
          "metadata": {},
          "execution_count": 474
        }
      ]
    },
    {
      "metadata": {
        "id": "XHVZtV-gKQXJ"
      },
      "cell_type": "markdown",
      "source": [
        "### Contagens de frequência de variáveis ​​categóricas\n",
        "\n",
        "\n",
        "Agora, vou verificar as contagens de frequência das variáveis ​​categóricas."
      ]
    },
    {
      "metadata": {
        "trusted": true,
        "colab": {
          "base_uri": "https://localhost:8080/"
        },
        "id": "3ukPwuIHKQXK",
        "outputId": "c753cd72-3219-4128-a194-ae8a6891c640"
      },
      "cell_type": "code",
      "source": [
        "# view frequency of categorical variables\n",
        "\n",
        "for var in categorical: \n",
        "    \n",
        "    print(df[var].value_counts())"
      ],
      "execution_count": null,
      "outputs": [
        {
          "output_type": "stream",
          "name": "stdout",
          "text": [
            "2016-08-16    49\n",
            "2013-04-22    49\n",
            "2016-01-10    49\n",
            "2014-09-03    49\n",
            "2014-09-18    49\n",
            "              ..\n",
            "2008-01-13     1\n",
            "2007-12-29     1\n",
            "2007-12-18     1\n",
            "2007-12-24     1\n",
            "2007-12-30     1\n",
            "Name: Date, Length: 3436, dtype: int64\n",
            "Canberra            3436\n",
            "Sydney              3344\n",
            "Darwin              3193\n",
            "Hobart              3193\n",
            "Adelaide            3193\n",
            "Melbourne           3193\n",
            "Brisbane            3193\n",
            "Perth               3193\n",
            "Albury              3040\n",
            "GoldCoast           3040\n",
            "Wollongong          3040\n",
            "Albany              3040\n",
            "Cairns              3040\n",
            "Ballarat            3040\n",
            "AliceSprings        3040\n",
            "MountGambier        3040\n",
            "Bendigo             3040\n",
            "Launceston          3040\n",
            "MountGinini         3040\n",
            "Townsville          3040\n",
            "Penrith             3039\n",
            "Newcastle           3039\n",
            "Tuggeranong         3039\n",
            "Watsonia            3009\n",
            "Sale                3009\n",
            "Mildura             3009\n",
            "PerthAirport        3009\n",
            "WaggaWagga          3009\n",
            "Dartmoor            3009\n",
            "NorfolkIsland       3009\n",
            "Woomera             3009\n",
            "PearceRAAF          3009\n",
            "Nuriootpa           3009\n",
            "BadgerysCreek       3009\n",
            "Witchcliffe         3009\n",
            "Moree               3009\n",
            "Richmond            3009\n",
            "CoffsHarbour        3009\n",
            "SydneyAirport       3009\n",
            "Williamtown         3009\n",
            "Cobar               3009\n",
            "Portland            3009\n",
            "MelbourneAirport    3009\n",
            "Walpole             3006\n",
            "NorahHead           3004\n",
            "SalmonGums          3001\n",
            "Nhil                1578\n",
            "Katherine           1578\n",
            "Uluru               1578\n",
            "Name: Location, dtype: int64\n",
            "W      9915\n",
            "SE     9418\n",
            "N      9313\n",
            "SSE    9216\n",
            "E      9181\n",
            "S      9168\n",
            "WSW    9069\n",
            "SW     8967\n",
            "SSW    8736\n",
            "WNW    8252\n",
            "NW     8122\n",
            "ENE    8104\n",
            "ESE    7372\n",
            "NE     7133\n",
            "NNW    6620\n",
            "NNE    6548\n",
            "Name: WindGustDir, dtype: int64\n",
            "N      11758\n",
            "SE      9287\n",
            "E       9176\n",
            "SSE     9112\n",
            "NW      8749\n",
            "S       8659\n",
            "W       8459\n",
            "SW      8423\n",
            "NNE     8129\n",
            "NNW     7980\n",
            "ENE     7836\n",
            "NE      7671\n",
            "ESE     7630\n",
            "SSW     7587\n",
            "WNW     7414\n",
            "WSW     7024\n",
            "Name: WindDir9am, dtype: int64\n",
            "SE     10838\n",
            "W      10110\n",
            "S       9926\n",
            "WSW     9518\n",
            "SSE     9399\n",
            "SW      9354\n",
            "N       8890\n",
            "WNW     8874\n",
            "NW      8610\n",
            "ESE     8505\n",
            "E       8472\n",
            "NE      8263\n",
            "SSW     8156\n",
            "NNW     7870\n",
            "ENE     7857\n",
            "NNE     6590\n",
            "Name: WindDir3pm, dtype: int64\n",
            "No     110319\n",
            "Yes     31880\n",
            "Name: RainToday, dtype: int64\n",
            "No     110316\n",
            "Yes     31877\n",
            "Name: RainTomorrow, dtype: int64\n"
          ]
        }
      ]
    },
    {
      "metadata": {
        "trusted": true,
        "colab": {
          "base_uri": "https://localhost:8080/"
        },
        "id": "cVqu7mjBKQXK",
        "outputId": "5df2d478-6b88-4d05-bf44-d2de436e8b4a"
      },
      "cell_type": "code",
      "source": [
        "# view frequency distribution of categorical variables\n",
        "\n",
        "for var in categorical: \n",
        "    \n",
        "    print(df[var].value_counts()/np.float(len(df)))"
      ],
      "execution_count": null,
      "outputs": [
        {
          "output_type": "stream",
          "name": "stdout",
          "text": [
            "2016-08-16    0.000337\n",
            "2013-04-22    0.000337\n",
            "2016-01-10    0.000337\n",
            "2014-09-03    0.000337\n",
            "2014-09-18    0.000337\n",
            "                ...   \n",
            "2008-01-13    0.000007\n",
            "2007-12-29    0.000007\n",
            "2007-12-18    0.000007\n",
            "2007-12-24    0.000007\n",
            "2007-12-30    0.000007\n",
            "Name: Date, Length: 3436, dtype: float64\n",
            "Canberra            0.023622\n",
            "Sydney              0.022989\n",
            "Darwin              0.021951\n",
            "Hobart              0.021951\n",
            "Adelaide            0.021951\n",
            "Melbourne           0.021951\n",
            "Brisbane            0.021951\n",
            "Perth               0.021951\n",
            "Albury              0.020899\n",
            "GoldCoast           0.020899\n",
            "Wollongong          0.020899\n",
            "Albany              0.020899\n",
            "Cairns              0.020899\n",
            "Ballarat            0.020899\n",
            "AliceSprings        0.020899\n",
            "MountGambier        0.020899\n",
            "Bendigo             0.020899\n",
            "Launceston          0.020899\n",
            "MountGinini         0.020899\n",
            "Townsville          0.020899\n",
            "Penrith             0.020892\n",
            "Newcastle           0.020892\n",
            "Tuggeranong         0.020892\n",
            "Watsonia            0.020686\n",
            "Sale                0.020686\n",
            "Mildura             0.020686\n",
            "PerthAirport        0.020686\n",
            "WaggaWagga          0.020686\n",
            "Dartmoor            0.020686\n",
            "NorfolkIsland       0.020686\n",
            "Woomera             0.020686\n",
            "PearceRAAF          0.020686\n",
            "Nuriootpa           0.020686\n",
            "BadgerysCreek       0.020686\n",
            "Witchcliffe         0.020686\n",
            "Moree               0.020686\n",
            "Richmond            0.020686\n",
            "CoffsHarbour        0.020686\n",
            "SydneyAirport       0.020686\n",
            "Williamtown         0.020686\n",
            "Cobar               0.020686\n",
            "Portland            0.020686\n",
            "MelbourneAirport    0.020686\n",
            "Walpole             0.020665\n",
            "NorahHead           0.020652\n",
            "SalmonGums          0.020631\n",
            "Nhil                0.010848\n",
            "Katherine           0.010848\n",
            "Uluru               0.010848\n",
            "Name: Location, dtype: float64\n",
            "W      0.068163\n",
            "SE     0.064746\n",
            "N      0.064024\n",
            "SSE    0.063358\n",
            "E      0.063117\n",
            "S      0.063028\n",
            "WSW    0.062347\n",
            "SW     0.061646\n",
            "SSW    0.060058\n",
            "WNW    0.056730\n",
            "NW     0.055837\n",
            "ENE    0.055713\n",
            "ESE    0.050681\n",
            "NE     0.049038\n",
            "NNW    0.045511\n",
            "NNE    0.045016\n",
            "Name: WindGustDir, dtype: float64\n",
            "N      0.080833\n",
            "SE     0.063846\n",
            "E      0.063083\n",
            "SSE    0.062643\n",
            "NW     0.060147\n",
            "S      0.059528\n",
            "W      0.058153\n",
            "SW     0.057906\n",
            "NNE    0.055885\n",
            "NNW    0.054860\n",
            "ENE    0.053870\n",
            "NE     0.052736\n",
            "ESE    0.052454\n",
            "SSW    0.052159\n",
            "WNW    0.050969\n",
            "WSW    0.048288\n",
            "Name: WindDir9am, dtype: float64\n",
            "SE     0.074508\n",
            "W      0.069504\n",
            "S      0.068239\n",
            "WSW    0.065434\n",
            "SSE    0.064616\n",
            "SW     0.064306\n",
            "N      0.061116\n",
            "WNW    0.061006\n",
            "NW     0.059192\n",
            "ESE    0.058470\n",
            "E      0.058243\n",
            "NE     0.056806\n",
            "SSW    0.056070\n",
            "NNW    0.054104\n",
            "ENE    0.054015\n",
            "NNE    0.045305\n",
            "Name: WindDir3pm, dtype: float64\n",
            "No     0.758415\n",
            "Yes    0.219167\n",
            "Name: RainToday, dtype: float64\n",
            "No     0.758394\n",
            "Yes    0.219146\n",
            "Name: RainTomorrow, dtype: float64\n"
          ]
        }
      ]
    },
    {
      "metadata": {
        "id": "75t4V1KOKQXL"
      },
      "cell_type": "markdown",
      "source": [
        "### Número de rótulos: cardinalidade\n",
        "\n",
        "\n",
        "O número de rótulos em uma variável categórica é conhecido como **cardinalidade**. Um grande número de rótulos em uma variável é conhecido como **alta cardinalidade**. A alta cardinalidade pode representar alguns problemas sérios no modelo de aprendizado de máquina. Portanto, vou verificar se há alta cardinalidade."
      ]
    },
    {
      "metadata": {
        "trusted": true,
        "colab": {
          "base_uri": "https://localhost:8080/"
        },
        "id": "N7IqHuO3KQXL",
        "outputId": "9e11375c-fa40-463b-e791-68e0fd7c4a8f"
      },
      "cell_type": "code",
      "source": [
        "# check for cardinality in categorical variables\n",
        "\n",
        "for var in categorical:\n",
        "    \n",
        "    print(var, ' contains ', len(df[var].unique()), ' labels')"
      ],
      "execution_count": null,
      "outputs": [
        {
          "output_type": "stream",
          "name": "stdout",
          "text": [
            "Date  contains  3436  labels\n",
            "Location  contains  49  labels\n",
            "WindGustDir  contains  17  labels\n",
            "WindDir9am  contains  17  labels\n",
            "WindDir3pm  contains  17  labels\n",
            "RainToday  contains  3  labels\n",
            "RainTomorrow  contains  3  labels\n"
          ]
        }
      ]
    },
    {
      "metadata": {
        "id": "RtOvcg4EKQXM"
      },
      "cell_type": "markdown",
      "source": [
        "Podemos ver que existe uma variável `Date` que precisa ser pré-processada. Farei o pré-processamento na seção seguinte.\n",
        "\n",
        "\n",
        "Todas as outras variáveis ​​contêm um número relativamente menor de variáveis."
      ]
    },
    {
      "metadata": {
        "id": "376JcFptKQXM"
      },
      "cell_type": "markdown",
      "source": [
        "### Feature Engineering da Variável Data "
      ]
    },
    {
      "metadata": {
        "trusted": true,
        "colab": {
          "base_uri": "https://localhost:8080/"
        },
        "id": "3qzg6GOHKQXN",
        "outputId": "b3f13d6a-1ce9-4a7e-e803-3d2ba4b303ea"
      },
      "cell_type": "code",
      "source": [
        "df['Date'].dtypes"
      ],
      "execution_count": null,
      "outputs": [
        {
          "output_type": "execute_result",
          "data": {
            "text/plain": [
              "dtype('O')"
            ]
          },
          "metadata": {},
          "execution_count": 478
        }
      ]
    },
    {
      "metadata": {
        "id": "XQxloNSyKQXN"
      },
      "cell_type": "markdown",
      "source": [
        "Podemos ver que o tipo de dados da variável `Date` é objeto. Vou analisar a data codificada atualmente como objeto no formato datetime."
      ]
    },
    {
      "metadata": {
        "trusted": true,
        "id": "hR1xUNpqKQXN"
      },
      "cell_type": "code",
      "source": [
        "# parse the dates, currently coded as strings, into datetime format\n",
        "\n",
        "df['Date'] = pd.to_datetime(df['Date'])"
      ],
      "execution_count": null,
      "outputs": []
    },
    {
      "metadata": {
        "trusted": true,
        "colab": {
          "base_uri": "https://localhost:8080/"
        },
        "id": "RGZSaxcVKQXO",
        "outputId": "77e547c8-74d1-4c9c-d0a5-c176f4696a5b"
      },
      "cell_type": "code",
      "source": [
        "# extract year from date\n",
        "\n",
        "df['Year'] = df['Date'].dt.year\n",
        "\n",
        "df['Year'].head()"
      ],
      "execution_count": null,
      "outputs": [
        {
          "output_type": "execute_result",
          "data": {
            "text/plain": [
              "0    2008\n",
              "1    2008\n",
              "2    2008\n",
              "3    2008\n",
              "4    2008\n",
              "Name: Year, dtype: int64"
            ]
          },
          "metadata": {},
          "execution_count": 480
        }
      ]
    },
    {
      "metadata": {
        "trusted": true,
        "colab": {
          "base_uri": "https://localhost:8080/"
        },
        "id": "X8il9c-bKQXO",
        "outputId": "3514e3d8-7474-4544-a131-2852ce2f3ac9"
      },
      "cell_type": "code",
      "source": [
        "# extract month from date\n",
        "\n",
        "df['Month'] = df['Date'].dt.month\n",
        "\n",
        "df['Month'].head()"
      ],
      "execution_count": null,
      "outputs": [
        {
          "output_type": "execute_result",
          "data": {
            "text/plain": [
              "0    12\n",
              "1    12\n",
              "2    12\n",
              "3    12\n",
              "4    12\n",
              "Name: Month, dtype: int64"
            ]
          },
          "metadata": {},
          "execution_count": 481
        }
      ]
    },
    {
      "metadata": {
        "trusted": true,
        "colab": {
          "base_uri": "https://localhost:8080/"
        },
        "id": "KePmFlc9KQXO",
        "outputId": "1c16ccde-d688-4a6f-c079-ccdd895dc81e"
      },
      "cell_type": "code",
      "source": [
        "# extract day from date\n",
        "\n",
        "df['Day'] = df['Date'].dt.day\n",
        "\n",
        "df['Day'].head()"
      ],
      "execution_count": null,
      "outputs": [
        {
          "output_type": "execute_result",
          "data": {
            "text/plain": [
              "0    1\n",
              "1    2\n",
              "2    3\n",
              "3    4\n",
              "4    5\n",
              "Name: Day, dtype: int64"
            ]
          },
          "metadata": {},
          "execution_count": 482
        }
      ]
    },
    {
      "metadata": {
        "trusted": true,
        "colab": {
          "base_uri": "https://localhost:8080/"
        },
        "id": "L3uMpEZZKQXO",
        "outputId": "29189137-06d1-4969-db0e-20cf10e36a23"
      },
      "cell_type": "code",
      "source": [
        "# again view the summary of dataset\n",
        "\n",
        "df.info()"
      ],
      "execution_count": null,
      "outputs": [
        {
          "output_type": "stream",
          "name": "stdout",
          "text": [
            "<class 'pandas.core.frame.DataFrame'>\n",
            "RangeIndex: 145460 entries, 0 to 145459\n",
            "Data columns (total 26 columns):\n",
            " #   Column         Non-Null Count   Dtype         \n",
            "---  ------         --------------   -----         \n",
            " 0   Date           145460 non-null  datetime64[ns]\n",
            " 1   Location       145460 non-null  object        \n",
            " 2   MinTemp        143975 non-null  float64       \n",
            " 3   MaxTemp        144199 non-null  float64       \n",
            " 4   Rainfall       142199 non-null  float64       \n",
            " 5   Evaporation    82670 non-null   float64       \n",
            " 6   Sunshine       75625 non-null   float64       \n",
            " 7   WindGustDir    135134 non-null  object        \n",
            " 8   WindGustSpeed  135197 non-null  float64       \n",
            " 9   WindDir9am     134894 non-null  object        \n",
            " 10  WindDir3pm     141232 non-null  object        \n",
            " 11  WindSpeed9am   143693 non-null  float64       \n",
            " 12  WindSpeed3pm   142398 non-null  float64       \n",
            " 13  Humidity9am    142806 non-null  float64       \n",
            " 14  Humidity3pm    140953 non-null  float64       \n",
            " 15  Pressure9am    130395 non-null  float64       \n",
            " 16  Pressure3pm    130432 non-null  float64       \n",
            " 17  Cloud9am       89572 non-null   float64       \n",
            " 18  Cloud3pm       86102 non-null   float64       \n",
            " 19  Temp9am        143693 non-null  float64       \n",
            " 20  Temp3pm        141851 non-null  float64       \n",
            " 21  RainToday      142199 non-null  object        \n",
            " 22  RainTomorrow   142193 non-null  object        \n",
            " 23  Year           145460 non-null  int64         \n",
            " 24  Month          145460 non-null  int64         \n",
            " 25  Day            145460 non-null  int64         \n",
            "dtypes: datetime64[ns](1), float64(16), int64(3), object(6)\n",
            "memory usage: 28.9+ MB\n"
          ]
        }
      ]
    },
    {
      "metadata": {
        "id": "yGj705T_KQXP"
      },
      "cell_type": "markdown",
      "source": [
        "Podemos ver que existem três colunas adicionais criadas a partir da variável `Date`. Agora, eliminarei a variável `Date` original do conjunto de dados."
      ]
    },
    {
      "metadata": {
        "trusted": true,
        "id": "hvHPbG_PKQXP"
      },
      "cell_type": "code",
      "source": [
        "# drop the original Date variable\n",
        "\n",
        "df.drop('Date', axis=1, inplace = True)"
      ],
      "execution_count": null,
      "outputs": []
    },
    {
      "metadata": {
        "trusted": true,
        "colab": {
          "base_uri": "https://localhost:8080/",
          "height": 270
        },
        "id": "SCjwJkPBKQXP",
        "outputId": "25ebd41a-9548-4e0e-e55f-a68fea11d3bc"
      },
      "cell_type": "code",
      "source": [
        "# preview the dataset again\n",
        "\n",
        "df.head()"
      ],
      "execution_count": null,
      "outputs": [
        {
          "output_type": "execute_result",
          "data": {
            "text/html": [
              "\n",
              "  <div id=\"df-e12b7b0b-b2df-4a6a-b942-3624e055c987\">\n",
              "    <div class=\"colab-df-container\">\n",
              "      <div>\n",
              "<style scoped>\n",
              "    .dataframe tbody tr th:only-of-type {\n",
              "        vertical-align: middle;\n",
              "    }\n",
              "\n",
              "    .dataframe tbody tr th {\n",
              "        vertical-align: top;\n",
              "    }\n",
              "\n",
              "    .dataframe thead th {\n",
              "        text-align: right;\n",
              "    }\n",
              "</style>\n",
              "<table border=\"1\" class=\"dataframe\">\n",
              "  <thead>\n",
              "    <tr style=\"text-align: right;\">\n",
              "      <th></th>\n",
              "      <th>Location</th>\n",
              "      <th>MinTemp</th>\n",
              "      <th>MaxTemp</th>\n",
              "      <th>Rainfall</th>\n",
              "      <th>Evaporation</th>\n",
              "      <th>Sunshine</th>\n",
              "      <th>WindGustDir</th>\n",
              "      <th>WindGustSpeed</th>\n",
              "      <th>WindDir9am</th>\n",
              "      <th>WindDir3pm</th>\n",
              "      <th>WindSpeed9am</th>\n",
              "      <th>WindSpeed3pm</th>\n",
              "      <th>Humidity9am</th>\n",
              "      <th>Humidity3pm</th>\n",
              "      <th>Pressure9am</th>\n",
              "      <th>Pressure3pm</th>\n",
              "      <th>Cloud9am</th>\n",
              "      <th>Cloud3pm</th>\n",
              "      <th>Temp9am</th>\n",
              "      <th>Temp3pm</th>\n",
              "      <th>RainToday</th>\n",
              "      <th>RainTomorrow</th>\n",
              "      <th>Year</th>\n",
              "      <th>Month</th>\n",
              "      <th>Day</th>\n",
              "    </tr>\n",
              "  </thead>\n",
              "  <tbody>\n",
              "    <tr>\n",
              "      <th>0</th>\n",
              "      <td>Albury</td>\n",
              "      <td>13.4</td>\n",
              "      <td>22.9</td>\n",
              "      <td>0.6</td>\n",
              "      <td>NaN</td>\n",
              "      <td>NaN</td>\n",
              "      <td>W</td>\n",
              "      <td>44.0</td>\n",
              "      <td>W</td>\n",
              "      <td>WNW</td>\n",
              "      <td>20.0</td>\n",
              "      <td>24.0</td>\n",
              "      <td>71.0</td>\n",
              "      <td>22.0</td>\n",
              "      <td>1007.7</td>\n",
              "      <td>1007.1</td>\n",
              "      <td>8.0</td>\n",
              "      <td>NaN</td>\n",
              "      <td>16.9</td>\n",
              "      <td>21.8</td>\n",
              "      <td>No</td>\n",
              "      <td>No</td>\n",
              "      <td>2008</td>\n",
              "      <td>12</td>\n",
              "      <td>1</td>\n",
              "    </tr>\n",
              "    <tr>\n",
              "      <th>1</th>\n",
              "      <td>Albury</td>\n",
              "      <td>7.4</td>\n",
              "      <td>25.1</td>\n",
              "      <td>0.0</td>\n",
              "      <td>NaN</td>\n",
              "      <td>NaN</td>\n",
              "      <td>WNW</td>\n",
              "      <td>44.0</td>\n",
              "      <td>NNW</td>\n",
              "      <td>WSW</td>\n",
              "      <td>4.0</td>\n",
              "      <td>22.0</td>\n",
              "      <td>44.0</td>\n",
              "      <td>25.0</td>\n",
              "      <td>1010.6</td>\n",
              "      <td>1007.8</td>\n",
              "      <td>NaN</td>\n",
              "      <td>NaN</td>\n",
              "      <td>17.2</td>\n",
              "      <td>24.3</td>\n",
              "      <td>No</td>\n",
              "      <td>No</td>\n",
              "      <td>2008</td>\n",
              "      <td>12</td>\n",
              "      <td>2</td>\n",
              "    </tr>\n",
              "    <tr>\n",
              "      <th>2</th>\n",
              "      <td>Albury</td>\n",
              "      <td>12.9</td>\n",
              "      <td>25.7</td>\n",
              "      <td>0.0</td>\n",
              "      <td>NaN</td>\n",
              "      <td>NaN</td>\n",
              "      <td>WSW</td>\n",
              "      <td>46.0</td>\n",
              "      <td>W</td>\n",
              "      <td>WSW</td>\n",
              "      <td>19.0</td>\n",
              "      <td>26.0</td>\n",
              "      <td>38.0</td>\n",
              "      <td>30.0</td>\n",
              "      <td>1007.6</td>\n",
              "      <td>1008.7</td>\n",
              "      <td>NaN</td>\n",
              "      <td>2.0</td>\n",
              "      <td>21.0</td>\n",
              "      <td>23.2</td>\n",
              "      <td>No</td>\n",
              "      <td>No</td>\n",
              "      <td>2008</td>\n",
              "      <td>12</td>\n",
              "      <td>3</td>\n",
              "    </tr>\n",
              "    <tr>\n",
              "      <th>3</th>\n",
              "      <td>Albury</td>\n",
              "      <td>9.2</td>\n",
              "      <td>28.0</td>\n",
              "      <td>0.0</td>\n",
              "      <td>NaN</td>\n",
              "      <td>NaN</td>\n",
              "      <td>NE</td>\n",
              "      <td>24.0</td>\n",
              "      <td>SE</td>\n",
              "      <td>E</td>\n",
              "      <td>11.0</td>\n",
              "      <td>9.0</td>\n",
              "      <td>45.0</td>\n",
              "      <td>16.0</td>\n",
              "      <td>1017.6</td>\n",
              "      <td>1012.8</td>\n",
              "      <td>NaN</td>\n",
              "      <td>NaN</td>\n",
              "      <td>18.1</td>\n",
              "      <td>26.5</td>\n",
              "      <td>No</td>\n",
              "      <td>No</td>\n",
              "      <td>2008</td>\n",
              "      <td>12</td>\n",
              "      <td>4</td>\n",
              "    </tr>\n",
              "    <tr>\n",
              "      <th>4</th>\n",
              "      <td>Albury</td>\n",
              "      <td>17.5</td>\n",
              "      <td>32.3</td>\n",
              "      <td>1.0</td>\n",
              "      <td>NaN</td>\n",
              "      <td>NaN</td>\n",
              "      <td>W</td>\n",
              "      <td>41.0</td>\n",
              "      <td>ENE</td>\n",
              "      <td>NW</td>\n",
              "      <td>7.0</td>\n",
              "      <td>20.0</td>\n",
              "      <td>82.0</td>\n",
              "      <td>33.0</td>\n",
              "      <td>1010.8</td>\n",
              "      <td>1006.0</td>\n",
              "      <td>7.0</td>\n",
              "      <td>8.0</td>\n",
              "      <td>17.8</td>\n",
              "      <td>29.7</td>\n",
              "      <td>No</td>\n",
              "      <td>No</td>\n",
              "      <td>2008</td>\n",
              "      <td>12</td>\n",
              "      <td>5</td>\n",
              "    </tr>\n",
              "  </tbody>\n",
              "</table>\n",
              "</div>\n",
              "      <button class=\"colab-df-convert\" onclick=\"convertToInteractive('df-e12b7b0b-b2df-4a6a-b942-3624e055c987')\"\n",
              "              title=\"Convert this dataframe to an interactive table.\"\n",
              "              style=\"display:none;\">\n",
              "        \n",
              "  <svg xmlns=\"http://www.w3.org/2000/svg\" height=\"24px\"viewBox=\"0 0 24 24\"\n",
              "       width=\"24px\">\n",
              "    <path d=\"M0 0h24v24H0V0z\" fill=\"none\"/>\n",
              "    <path d=\"M18.56 5.44l.94 2.06.94-2.06 2.06-.94-2.06-.94-.94-2.06-.94 2.06-2.06.94zm-11 1L8.5 8.5l.94-2.06 2.06-.94-2.06-.94L8.5 2.5l-.94 2.06-2.06.94zm10 10l.94 2.06.94-2.06 2.06-.94-2.06-.94-.94-2.06-.94 2.06-2.06.94z\"/><path d=\"M17.41 7.96l-1.37-1.37c-.4-.4-.92-.59-1.43-.59-.52 0-1.04.2-1.43.59L10.3 9.45l-7.72 7.72c-.78.78-.78 2.05 0 2.83L4 21.41c.39.39.9.59 1.41.59.51 0 1.02-.2 1.41-.59l7.78-7.78 2.81-2.81c.8-.78.8-2.07 0-2.86zM5.41 20L4 18.59l7.72-7.72 1.47 1.35L5.41 20z\"/>\n",
              "  </svg>\n",
              "      </button>\n",
              "      \n",
              "  <style>\n",
              "    .colab-df-container {\n",
              "      display:flex;\n",
              "      flex-wrap:wrap;\n",
              "      gap: 12px;\n",
              "    }\n",
              "\n",
              "    .colab-df-convert {\n",
              "      background-color: #E8F0FE;\n",
              "      border: none;\n",
              "      border-radius: 50%;\n",
              "      cursor: pointer;\n",
              "      display: none;\n",
              "      fill: #1967D2;\n",
              "      height: 32px;\n",
              "      padding: 0 0 0 0;\n",
              "      width: 32px;\n",
              "    }\n",
              "\n",
              "    .colab-df-convert:hover {\n",
              "      background-color: #E2EBFA;\n",
              "      box-shadow: 0px 1px 2px rgba(60, 64, 67, 0.3), 0px 1px 3px 1px rgba(60, 64, 67, 0.15);\n",
              "      fill: #174EA6;\n",
              "    }\n",
              "\n",
              "    [theme=dark] .colab-df-convert {\n",
              "      background-color: #3B4455;\n",
              "      fill: #D2E3FC;\n",
              "    }\n",
              "\n",
              "    [theme=dark] .colab-df-convert:hover {\n",
              "      background-color: #434B5C;\n",
              "      box-shadow: 0px 1px 3px 1px rgba(0, 0, 0, 0.15);\n",
              "      filter: drop-shadow(0px 1px 2px rgba(0, 0, 0, 0.3));\n",
              "      fill: #FFFFFF;\n",
              "    }\n",
              "  </style>\n",
              "\n",
              "      <script>\n",
              "        const buttonEl =\n",
              "          document.querySelector('#df-e12b7b0b-b2df-4a6a-b942-3624e055c987 button.colab-df-convert');\n",
              "        buttonEl.style.display =\n",
              "          google.colab.kernel.accessAllowed ? 'block' : 'none';\n",
              "\n",
              "        async function convertToInteractive(key) {\n",
              "          const element = document.querySelector('#df-e12b7b0b-b2df-4a6a-b942-3624e055c987');\n",
              "          const dataTable =\n",
              "            await google.colab.kernel.invokeFunction('convertToInteractive',\n",
              "                                                     [key], {});\n",
              "          if (!dataTable) return;\n",
              "\n",
              "          const docLinkHtml = 'Like what you see? Visit the ' +\n",
              "            '<a target=\"_blank\" href=https://colab.research.google.com/notebooks/data_table.ipynb>data table notebook</a>'\n",
              "            + ' to learn more about interactive tables.';\n",
              "          element.innerHTML = '';\n",
              "          dataTable['output_type'] = 'display_data';\n",
              "          await google.colab.output.renderOutput(dataTable, element);\n",
              "          const docLink = document.createElement('div');\n",
              "          docLink.innerHTML = docLinkHtml;\n",
              "          element.appendChild(docLink);\n",
              "        }\n",
              "      </script>\n",
              "    </div>\n",
              "  </div>\n",
              "  "
            ],
            "text/plain": [
              "  Location  MinTemp  MaxTemp  Rainfall  ...  RainTomorrow  Year Month  Day\n",
              "0   Albury     13.4     22.9       0.6  ...            No  2008    12    1\n",
              "1   Albury      7.4     25.1       0.0  ...            No  2008    12    2\n",
              "2   Albury     12.9     25.7       0.0  ...            No  2008    12    3\n",
              "3   Albury      9.2     28.0       0.0  ...            No  2008    12    4\n",
              "4   Albury     17.5     32.3       1.0  ...            No  2008    12    5\n",
              "\n",
              "[5 rows x 25 columns]"
            ]
          },
          "metadata": {},
          "execution_count": 485
        }
      ]
    },
    {
      "metadata": {
        "id": "prCvO6ZcKQXP"
      },
      "cell_type": "markdown",
      "source": [
        "\n",
        "Agora, podemos ver que a variável `Date` foi removida do conjunto de dados.\n"
      ]
    },
    {
      "metadata": {
        "id": "x0f790AlKQXQ"
      },
      "cell_type": "markdown",
      "source": [
        "### Explorar variáveis ​​categóricas\n",
        "\n",
        "\n",
        "Agora, explorarei as variáveis ​​categóricas uma por uma."
      ]
    },
    {
      "metadata": {
        "trusted": true,
        "colab": {
          "base_uri": "https://localhost:8080/"
        },
        "id": "hOnvwIPDKQXQ",
        "outputId": "37058ddc-9a40-498a-d30f-0477c69bada9"
      },
      "cell_type": "code",
      "source": [
        "# find categorical variables\n",
        "\n",
        "categorical = [var for var in df.columns if df[var].dtype=='O']\n",
        "\n",
        "print('There are {} categorical variables\\n'.format(len(categorical)))\n",
        "\n",
        "print('The categorical variables are :', categorical)"
      ],
      "execution_count": null,
      "outputs": [
        {
          "output_type": "stream",
          "name": "stdout",
          "text": [
            "There are 6 categorical variables\n",
            "\n",
            "The categorical variables are : ['Location', 'WindGustDir', 'WindDir9am', 'WindDir3pm', 'RainToday', 'RainTomorrow']\n"
          ]
        }
      ]
    },
    {
      "metadata": {
        "id": "UCRevwliKQXQ"
      },
      "cell_type": "markdown",
      "source": [
        "Podemos ver que existem 6 variáveis ​​categóricas no conjunto de dados. A variável `Date` foi removida. Primeiro, verificarei os valores ausentes em variáveis ​​categóricas."
      ]
    },
    {
      "metadata": {
        "trusted": true,
        "colab": {
          "base_uri": "https://localhost:8080/"
        },
        "id": "aerbKaZVKQXQ",
        "outputId": "a4287485-238e-4b5c-ff9f-e30129c2b573"
      },
      "cell_type": "code",
      "source": [
        "# check for missing values in categorical variables \n",
        "\n",
        "df[categorical].isnull().sum()"
      ],
      "execution_count": null,
      "outputs": [
        {
          "output_type": "execute_result",
          "data": {
            "text/plain": [
              "Location            0\n",
              "WindGustDir     10326\n",
              "WindDir9am      10566\n",
              "WindDir3pm       4228\n",
              "RainToday        3261\n",
              "RainTomorrow     3267\n",
              "dtype: int64"
            ]
          },
          "metadata": {},
          "execution_count": 487
        }
      ]
    },
    {
      "metadata": {
        "id": "JYVRQ5dSKQXR"
      },
      "cell_type": "markdown",
      "source": [
        "Podemos ver que as variáveis ​​`WindGustDir`,` WindDir9am`, `WindDir3pm`,` RainToday` contêm valores ausentes. Vou explorar essas variáveis ​​uma por uma."
      ]
    },
    {
      "metadata": {
        "id": "pq155recKQXR"
      },
      "cell_type": "markdown",
      "source": [
        "### Explorar a variável `Location`"
      ]
    },
    {
      "metadata": {
        "trusted": true,
        "colab": {
          "base_uri": "https://localhost:8080/"
        },
        "id": "P3xU1JlsKQXR",
        "outputId": "cf512033-6c2f-4240-ced9-10cb86a01e22"
      },
      "cell_type": "code",
      "source": [
        "# print number of labels in Location variable\n",
        "\n",
        "print('Location contains', len(df.Location.unique()), 'labels')"
      ],
      "execution_count": null,
      "outputs": [
        {
          "output_type": "stream",
          "name": "stdout",
          "text": [
            "Location contains 49 labels\n"
          ]
        }
      ]
    },
    {
      "cell_type": "code",
      "source": [
        "# print number of labels in Location variable\n",
        "df.Location.nunique()\n",
        "print('Location contains', df.Location.nunique(), 'labels')"
      ],
      "metadata": {
        "colab": {
          "base_uri": "https://localhost:8080/"
        },
        "id": "_mHraoSzZFNd",
        "outputId": "48cc660c-bb41-47f1-b894-6962e7e3d722"
      },
      "execution_count": null,
      "outputs": [
        {
          "output_type": "stream",
          "name": "stdout",
          "text": [
            "Location contains 49 labels\n"
          ]
        }
      ]
    },
    {
      "metadata": {
        "trusted": true,
        "colab": {
          "base_uri": "https://localhost:8080/"
        },
        "id": "sNtVp8mxKQXR",
        "outputId": "b2523aa4-9435-45e1-8b9c-8b949d000eec"
      },
      "cell_type": "code",
      "source": [
        "# check labels in location variable\n",
        "\n",
        "df.Location.unique()"
      ],
      "execution_count": null,
      "outputs": [
        {
          "output_type": "execute_result",
          "data": {
            "text/plain": [
              "array(['Albury', 'BadgerysCreek', 'Cobar', 'CoffsHarbour', 'Moree',\n",
              "       'Newcastle', 'NorahHead', 'NorfolkIsland', 'Penrith', 'Richmond',\n",
              "       'Sydney', 'SydneyAirport', 'WaggaWagga', 'Williamtown',\n",
              "       'Wollongong', 'Canberra', 'Tuggeranong', 'MountGinini', 'Ballarat',\n",
              "       'Bendigo', 'Sale', 'MelbourneAirport', 'Melbourne', 'Mildura',\n",
              "       'Nhil', 'Portland', 'Watsonia', 'Dartmoor', 'Brisbane', 'Cairns',\n",
              "       'GoldCoast', 'Townsville', 'Adelaide', 'MountGambier', 'Nuriootpa',\n",
              "       'Woomera', 'Albany', 'Witchcliffe', 'PearceRAAF', 'PerthAirport',\n",
              "       'Perth', 'SalmonGums', 'Walpole', 'Hobart', 'Launceston',\n",
              "       'AliceSprings', 'Darwin', 'Katherine', 'Uluru'], dtype=object)"
            ]
          },
          "metadata": {},
          "execution_count": 490
        }
      ]
    },
    {
      "metadata": {
        "trusted": true,
        "colab": {
          "base_uri": "https://localhost:8080/"
        },
        "id": "vy5ekiwgKQXS",
        "outputId": "6c26cf54-4d8a-4e78-fbec-a95351e06920"
      },
      "cell_type": "code",
      "source": [
        "# check frequency distribution of values in Location variable\n",
        "\n",
        "df.Location.value_counts()"
      ],
      "execution_count": null,
      "outputs": [
        {
          "output_type": "execute_result",
          "data": {
            "text/plain": [
              "Canberra            3436\n",
              "Sydney              3344\n",
              "Darwin              3193\n",
              "Hobart              3193\n",
              "Adelaide            3193\n",
              "Melbourne           3193\n",
              "Brisbane            3193\n",
              "Perth               3193\n",
              "Albury              3040\n",
              "GoldCoast           3040\n",
              "Wollongong          3040\n",
              "Albany              3040\n",
              "Cairns              3040\n",
              "Ballarat            3040\n",
              "AliceSprings        3040\n",
              "MountGambier        3040\n",
              "Bendigo             3040\n",
              "Launceston          3040\n",
              "MountGinini         3040\n",
              "Townsville          3040\n",
              "Penrith             3039\n",
              "Newcastle           3039\n",
              "Tuggeranong         3039\n",
              "Watsonia            3009\n",
              "Sale                3009\n",
              "Mildura             3009\n",
              "PerthAirport        3009\n",
              "WaggaWagga          3009\n",
              "Dartmoor            3009\n",
              "NorfolkIsland       3009\n",
              "Woomera             3009\n",
              "PearceRAAF          3009\n",
              "Nuriootpa           3009\n",
              "BadgerysCreek       3009\n",
              "Witchcliffe         3009\n",
              "Moree               3009\n",
              "Richmond            3009\n",
              "CoffsHarbour        3009\n",
              "SydneyAirport       3009\n",
              "Williamtown         3009\n",
              "Cobar               3009\n",
              "Portland            3009\n",
              "MelbourneAirport    3009\n",
              "Walpole             3006\n",
              "NorahHead           3004\n",
              "SalmonGums          3001\n",
              "Nhil                1578\n",
              "Katherine           1578\n",
              "Uluru               1578\n",
              "Name: Location, dtype: int64"
            ]
          },
          "metadata": {},
          "execution_count": 491
        }
      ]
    },
    {
      "metadata": {
        "trusted": true,
        "colab": {
          "base_uri": "https://localhost:8080/",
          "height": 270
        },
        "id": "kV1DMm1mKQXS",
        "outputId": "f74ad0c4-de2c-4538-89bc-a7dfe869e289"
      },
      "cell_type": "code",
      "source": [
        "# vamos fazer One Hot Encoding of Location variable\n",
        "# get k-1 variáveis ​​dummy após One Hot Encoding\n",
        "# visualize o conjunto de dados com o método head ()\n",
        "\n",
        "pd.get_dummies(df.Location, drop_first=True).head()"
      ],
      "execution_count": null,
      "outputs": [
        {
          "output_type": "execute_result",
          "data": {
            "text/html": [
              "\n",
              "  <div id=\"df-de025e09-e2e2-4d8a-be9a-bf58a94f444d\">\n",
              "    <div class=\"colab-df-container\">\n",
              "      <div>\n",
              "<style scoped>\n",
              "    .dataframe tbody tr th:only-of-type {\n",
              "        vertical-align: middle;\n",
              "    }\n",
              "\n",
              "    .dataframe tbody tr th {\n",
              "        vertical-align: top;\n",
              "    }\n",
              "\n",
              "    .dataframe thead th {\n",
              "        text-align: right;\n",
              "    }\n",
              "</style>\n",
              "<table border=\"1\" class=\"dataframe\">\n",
              "  <thead>\n",
              "    <tr style=\"text-align: right;\">\n",
              "      <th></th>\n",
              "      <th>Albany</th>\n",
              "      <th>Albury</th>\n",
              "      <th>AliceSprings</th>\n",
              "      <th>BadgerysCreek</th>\n",
              "      <th>Ballarat</th>\n",
              "      <th>Bendigo</th>\n",
              "      <th>Brisbane</th>\n",
              "      <th>Cairns</th>\n",
              "      <th>Canberra</th>\n",
              "      <th>Cobar</th>\n",
              "      <th>CoffsHarbour</th>\n",
              "      <th>Dartmoor</th>\n",
              "      <th>Darwin</th>\n",
              "      <th>GoldCoast</th>\n",
              "      <th>Hobart</th>\n",
              "      <th>Katherine</th>\n",
              "      <th>Launceston</th>\n",
              "      <th>Melbourne</th>\n",
              "      <th>MelbourneAirport</th>\n",
              "      <th>Mildura</th>\n",
              "      <th>Moree</th>\n",
              "      <th>MountGambier</th>\n",
              "      <th>MountGinini</th>\n",
              "      <th>Newcastle</th>\n",
              "      <th>Nhil</th>\n",
              "      <th>NorahHead</th>\n",
              "      <th>NorfolkIsland</th>\n",
              "      <th>Nuriootpa</th>\n",
              "      <th>PearceRAAF</th>\n",
              "      <th>Penrith</th>\n",
              "      <th>Perth</th>\n",
              "      <th>PerthAirport</th>\n",
              "      <th>Portland</th>\n",
              "      <th>Richmond</th>\n",
              "      <th>Sale</th>\n",
              "      <th>SalmonGums</th>\n",
              "      <th>Sydney</th>\n",
              "      <th>SydneyAirport</th>\n",
              "      <th>Townsville</th>\n",
              "      <th>Tuggeranong</th>\n",
              "      <th>Uluru</th>\n",
              "      <th>WaggaWagga</th>\n",
              "      <th>Walpole</th>\n",
              "      <th>Watsonia</th>\n",
              "      <th>Williamtown</th>\n",
              "      <th>Witchcliffe</th>\n",
              "      <th>Wollongong</th>\n",
              "      <th>Woomera</th>\n",
              "    </tr>\n",
              "  </thead>\n",
              "  <tbody>\n",
              "    <tr>\n",
              "      <th>0</th>\n",
              "      <td>0</td>\n",
              "      <td>1</td>\n",
              "      <td>0</td>\n",
              "      <td>0</td>\n",
              "      <td>0</td>\n",
              "      <td>0</td>\n",
              "      <td>0</td>\n",
              "      <td>0</td>\n",
              "      <td>0</td>\n",
              "      <td>0</td>\n",
              "      <td>0</td>\n",
              "      <td>0</td>\n",
              "      <td>0</td>\n",
              "      <td>0</td>\n",
              "      <td>0</td>\n",
              "      <td>0</td>\n",
              "      <td>0</td>\n",
              "      <td>0</td>\n",
              "      <td>0</td>\n",
              "      <td>0</td>\n",
              "      <td>0</td>\n",
              "      <td>0</td>\n",
              "      <td>0</td>\n",
              "      <td>0</td>\n",
              "      <td>0</td>\n",
              "      <td>0</td>\n",
              "      <td>0</td>\n",
              "      <td>0</td>\n",
              "      <td>0</td>\n",
              "      <td>0</td>\n",
              "      <td>0</td>\n",
              "      <td>0</td>\n",
              "      <td>0</td>\n",
              "      <td>0</td>\n",
              "      <td>0</td>\n",
              "      <td>0</td>\n",
              "      <td>0</td>\n",
              "      <td>0</td>\n",
              "      <td>0</td>\n",
              "      <td>0</td>\n",
              "      <td>0</td>\n",
              "      <td>0</td>\n",
              "      <td>0</td>\n",
              "      <td>0</td>\n",
              "      <td>0</td>\n",
              "      <td>0</td>\n",
              "      <td>0</td>\n",
              "      <td>0</td>\n",
              "    </tr>\n",
              "    <tr>\n",
              "      <th>1</th>\n",
              "      <td>0</td>\n",
              "      <td>1</td>\n",
              "      <td>0</td>\n",
              "      <td>0</td>\n",
              "      <td>0</td>\n",
              "      <td>0</td>\n",
              "      <td>0</td>\n",
              "      <td>0</td>\n",
              "      <td>0</td>\n",
              "      <td>0</td>\n",
              "      <td>0</td>\n",
              "      <td>0</td>\n",
              "      <td>0</td>\n",
              "      <td>0</td>\n",
              "      <td>0</td>\n",
              "      <td>0</td>\n",
              "      <td>0</td>\n",
              "      <td>0</td>\n",
              "      <td>0</td>\n",
              "      <td>0</td>\n",
              "      <td>0</td>\n",
              "      <td>0</td>\n",
              "      <td>0</td>\n",
              "      <td>0</td>\n",
              "      <td>0</td>\n",
              "      <td>0</td>\n",
              "      <td>0</td>\n",
              "      <td>0</td>\n",
              "      <td>0</td>\n",
              "      <td>0</td>\n",
              "      <td>0</td>\n",
              "      <td>0</td>\n",
              "      <td>0</td>\n",
              "      <td>0</td>\n",
              "      <td>0</td>\n",
              "      <td>0</td>\n",
              "      <td>0</td>\n",
              "      <td>0</td>\n",
              "      <td>0</td>\n",
              "      <td>0</td>\n",
              "      <td>0</td>\n",
              "      <td>0</td>\n",
              "      <td>0</td>\n",
              "      <td>0</td>\n",
              "      <td>0</td>\n",
              "      <td>0</td>\n",
              "      <td>0</td>\n",
              "      <td>0</td>\n",
              "    </tr>\n",
              "    <tr>\n",
              "      <th>2</th>\n",
              "      <td>0</td>\n",
              "      <td>1</td>\n",
              "      <td>0</td>\n",
              "      <td>0</td>\n",
              "      <td>0</td>\n",
              "      <td>0</td>\n",
              "      <td>0</td>\n",
              "      <td>0</td>\n",
              "      <td>0</td>\n",
              "      <td>0</td>\n",
              "      <td>0</td>\n",
              "      <td>0</td>\n",
              "      <td>0</td>\n",
              "      <td>0</td>\n",
              "      <td>0</td>\n",
              "      <td>0</td>\n",
              "      <td>0</td>\n",
              "      <td>0</td>\n",
              "      <td>0</td>\n",
              "      <td>0</td>\n",
              "      <td>0</td>\n",
              "      <td>0</td>\n",
              "      <td>0</td>\n",
              "      <td>0</td>\n",
              "      <td>0</td>\n",
              "      <td>0</td>\n",
              "      <td>0</td>\n",
              "      <td>0</td>\n",
              "      <td>0</td>\n",
              "      <td>0</td>\n",
              "      <td>0</td>\n",
              "      <td>0</td>\n",
              "      <td>0</td>\n",
              "      <td>0</td>\n",
              "      <td>0</td>\n",
              "      <td>0</td>\n",
              "      <td>0</td>\n",
              "      <td>0</td>\n",
              "      <td>0</td>\n",
              "      <td>0</td>\n",
              "      <td>0</td>\n",
              "      <td>0</td>\n",
              "      <td>0</td>\n",
              "      <td>0</td>\n",
              "      <td>0</td>\n",
              "      <td>0</td>\n",
              "      <td>0</td>\n",
              "      <td>0</td>\n",
              "    </tr>\n",
              "    <tr>\n",
              "      <th>3</th>\n",
              "      <td>0</td>\n",
              "      <td>1</td>\n",
              "      <td>0</td>\n",
              "      <td>0</td>\n",
              "      <td>0</td>\n",
              "      <td>0</td>\n",
              "      <td>0</td>\n",
              "      <td>0</td>\n",
              "      <td>0</td>\n",
              "      <td>0</td>\n",
              "      <td>0</td>\n",
              "      <td>0</td>\n",
              "      <td>0</td>\n",
              "      <td>0</td>\n",
              "      <td>0</td>\n",
              "      <td>0</td>\n",
              "      <td>0</td>\n",
              "      <td>0</td>\n",
              "      <td>0</td>\n",
              "      <td>0</td>\n",
              "      <td>0</td>\n",
              "      <td>0</td>\n",
              "      <td>0</td>\n",
              "      <td>0</td>\n",
              "      <td>0</td>\n",
              "      <td>0</td>\n",
              "      <td>0</td>\n",
              "      <td>0</td>\n",
              "      <td>0</td>\n",
              "      <td>0</td>\n",
              "      <td>0</td>\n",
              "      <td>0</td>\n",
              "      <td>0</td>\n",
              "      <td>0</td>\n",
              "      <td>0</td>\n",
              "      <td>0</td>\n",
              "      <td>0</td>\n",
              "      <td>0</td>\n",
              "      <td>0</td>\n",
              "      <td>0</td>\n",
              "      <td>0</td>\n",
              "      <td>0</td>\n",
              "      <td>0</td>\n",
              "      <td>0</td>\n",
              "      <td>0</td>\n",
              "      <td>0</td>\n",
              "      <td>0</td>\n",
              "      <td>0</td>\n",
              "    </tr>\n",
              "    <tr>\n",
              "      <th>4</th>\n",
              "      <td>0</td>\n",
              "      <td>1</td>\n",
              "      <td>0</td>\n",
              "      <td>0</td>\n",
              "      <td>0</td>\n",
              "      <td>0</td>\n",
              "      <td>0</td>\n",
              "      <td>0</td>\n",
              "      <td>0</td>\n",
              "      <td>0</td>\n",
              "      <td>0</td>\n",
              "      <td>0</td>\n",
              "      <td>0</td>\n",
              "      <td>0</td>\n",
              "      <td>0</td>\n",
              "      <td>0</td>\n",
              "      <td>0</td>\n",
              "      <td>0</td>\n",
              "      <td>0</td>\n",
              "      <td>0</td>\n",
              "      <td>0</td>\n",
              "      <td>0</td>\n",
              "      <td>0</td>\n",
              "      <td>0</td>\n",
              "      <td>0</td>\n",
              "      <td>0</td>\n",
              "      <td>0</td>\n",
              "      <td>0</td>\n",
              "      <td>0</td>\n",
              "      <td>0</td>\n",
              "      <td>0</td>\n",
              "      <td>0</td>\n",
              "      <td>0</td>\n",
              "      <td>0</td>\n",
              "      <td>0</td>\n",
              "      <td>0</td>\n",
              "      <td>0</td>\n",
              "      <td>0</td>\n",
              "      <td>0</td>\n",
              "      <td>0</td>\n",
              "      <td>0</td>\n",
              "      <td>0</td>\n",
              "      <td>0</td>\n",
              "      <td>0</td>\n",
              "      <td>0</td>\n",
              "      <td>0</td>\n",
              "      <td>0</td>\n",
              "      <td>0</td>\n",
              "    </tr>\n",
              "  </tbody>\n",
              "</table>\n",
              "</div>\n",
              "      <button class=\"colab-df-convert\" onclick=\"convertToInteractive('df-de025e09-e2e2-4d8a-be9a-bf58a94f444d')\"\n",
              "              title=\"Convert this dataframe to an interactive table.\"\n",
              "              style=\"display:none;\">\n",
              "        \n",
              "  <svg xmlns=\"http://www.w3.org/2000/svg\" height=\"24px\"viewBox=\"0 0 24 24\"\n",
              "       width=\"24px\">\n",
              "    <path d=\"M0 0h24v24H0V0z\" fill=\"none\"/>\n",
              "    <path d=\"M18.56 5.44l.94 2.06.94-2.06 2.06-.94-2.06-.94-.94-2.06-.94 2.06-2.06.94zm-11 1L8.5 8.5l.94-2.06 2.06-.94-2.06-.94L8.5 2.5l-.94 2.06-2.06.94zm10 10l.94 2.06.94-2.06 2.06-.94-2.06-.94-.94-2.06-.94 2.06-2.06.94z\"/><path d=\"M17.41 7.96l-1.37-1.37c-.4-.4-.92-.59-1.43-.59-.52 0-1.04.2-1.43.59L10.3 9.45l-7.72 7.72c-.78.78-.78 2.05 0 2.83L4 21.41c.39.39.9.59 1.41.59.51 0 1.02-.2 1.41-.59l7.78-7.78 2.81-2.81c.8-.78.8-2.07 0-2.86zM5.41 20L4 18.59l7.72-7.72 1.47 1.35L5.41 20z\"/>\n",
              "  </svg>\n",
              "      </button>\n",
              "      \n",
              "  <style>\n",
              "    .colab-df-container {\n",
              "      display:flex;\n",
              "      flex-wrap:wrap;\n",
              "      gap: 12px;\n",
              "    }\n",
              "\n",
              "    .colab-df-convert {\n",
              "      background-color: #E8F0FE;\n",
              "      border: none;\n",
              "      border-radius: 50%;\n",
              "      cursor: pointer;\n",
              "      display: none;\n",
              "      fill: #1967D2;\n",
              "      height: 32px;\n",
              "      padding: 0 0 0 0;\n",
              "      width: 32px;\n",
              "    }\n",
              "\n",
              "    .colab-df-convert:hover {\n",
              "      background-color: #E2EBFA;\n",
              "      box-shadow: 0px 1px 2px rgba(60, 64, 67, 0.3), 0px 1px 3px 1px rgba(60, 64, 67, 0.15);\n",
              "      fill: #174EA6;\n",
              "    }\n",
              "\n",
              "    [theme=dark] .colab-df-convert {\n",
              "      background-color: #3B4455;\n",
              "      fill: #D2E3FC;\n",
              "    }\n",
              "\n",
              "    [theme=dark] .colab-df-convert:hover {\n",
              "      background-color: #434B5C;\n",
              "      box-shadow: 0px 1px 3px 1px rgba(0, 0, 0, 0.15);\n",
              "      filter: drop-shadow(0px 1px 2px rgba(0, 0, 0, 0.3));\n",
              "      fill: #FFFFFF;\n",
              "    }\n",
              "  </style>\n",
              "\n",
              "      <script>\n",
              "        const buttonEl =\n",
              "          document.querySelector('#df-de025e09-e2e2-4d8a-be9a-bf58a94f444d button.colab-df-convert');\n",
              "        buttonEl.style.display =\n",
              "          google.colab.kernel.accessAllowed ? 'block' : 'none';\n",
              "\n",
              "        async function convertToInteractive(key) {\n",
              "          const element = document.querySelector('#df-de025e09-e2e2-4d8a-be9a-bf58a94f444d');\n",
              "          const dataTable =\n",
              "            await google.colab.kernel.invokeFunction('convertToInteractive',\n",
              "                                                     [key], {});\n",
              "          if (!dataTable) return;\n",
              "\n",
              "          const docLinkHtml = 'Like what you see? Visit the ' +\n",
              "            '<a target=\"_blank\" href=https://colab.research.google.com/notebooks/data_table.ipynb>data table notebook</a>'\n",
              "            + ' to learn more about interactive tables.';\n",
              "          element.innerHTML = '';\n",
              "          dataTable['output_type'] = 'display_data';\n",
              "          await google.colab.output.renderOutput(dataTable, element);\n",
              "          const docLink = document.createElement('div');\n",
              "          docLink.innerHTML = docLinkHtml;\n",
              "          element.appendChild(docLink);\n",
              "        }\n",
              "      </script>\n",
              "    </div>\n",
              "  </div>\n",
              "  "
            ],
            "text/plain": [
              "   Albany  Albury  AliceSprings  ...  Witchcliffe  Wollongong  Woomera\n",
              "0       0       1             0  ...            0           0        0\n",
              "1       0       1             0  ...            0           0        0\n",
              "2       0       1             0  ...            0           0        0\n",
              "3       0       1             0  ...            0           0        0\n",
              "4       0       1             0  ...            0           0        0\n",
              "\n",
              "[5 rows x 48 columns]"
            ]
          },
          "metadata": {},
          "execution_count": 492
        }
      ]
    },
    {
      "metadata": {
        "id": "pbEOLYqaKQXS"
      },
      "cell_type": "markdown",
      "source": [
        "### Explorar a variável `WindGustDir`"
      ]
    },
    {
      "metadata": {
        "trusted": true,
        "colab": {
          "base_uri": "https://localhost:8080/"
        },
        "id": "EQrK69J7KQXS",
        "outputId": "16d27eb7-0af8-4a4f-e902-44f740674fb9"
      },
      "cell_type": "code",
      "source": [
        "# print number of labels in WindGustDir variable\n",
        "\n",
        "print('WindGustDir contains', len(df['WindGustDir'].unique()), 'labels')"
      ],
      "execution_count": null,
      "outputs": [
        {
          "output_type": "stream",
          "name": "stdout",
          "text": [
            "WindGustDir contains 17 labels\n"
          ]
        }
      ]
    },
    {
      "metadata": {
        "trusted": true,
        "colab": {
          "base_uri": "https://localhost:8080/"
        },
        "id": "yO0XJhUUKQXT",
        "outputId": "9b236663-8259-47a8-f9dd-5fb93ea3fa3f"
      },
      "cell_type": "code",
      "source": [
        "# check labels in WindGustDir variable\n",
        "\n",
        "df['WindGustDir'].unique()"
      ],
      "execution_count": null,
      "outputs": [
        {
          "output_type": "execute_result",
          "data": {
            "text/plain": [
              "array(['W', 'WNW', 'WSW', 'NE', 'NNW', 'N', 'NNE', 'SW', nan, 'ENE',\n",
              "       'SSE', 'S', 'NW', 'SE', 'ESE', 'E', 'SSW'], dtype=object)"
            ]
          },
          "metadata": {},
          "execution_count": 494
        }
      ]
    },
    {
      "metadata": {
        "trusted": true,
        "colab": {
          "base_uri": "https://localhost:8080/"
        },
        "id": "dvycf2VyKQXT",
        "outputId": "9cc91c9e-9146-48a3-86ac-97789e66d835"
      },
      "cell_type": "code",
      "source": [
        "# check frequency distribution of values in WindGustDir variable\n",
        "\n",
        "df.WindGustDir.value_counts()"
      ],
      "execution_count": null,
      "outputs": [
        {
          "output_type": "execute_result",
          "data": {
            "text/plain": [
              "W      9915\n",
              "SE     9418\n",
              "N      9313\n",
              "SSE    9216\n",
              "E      9181\n",
              "S      9168\n",
              "WSW    9069\n",
              "SW     8967\n",
              "SSW    8736\n",
              "WNW    8252\n",
              "NW     8122\n",
              "ENE    8104\n",
              "ESE    7372\n",
              "NE     7133\n",
              "NNW    6620\n",
              "NNE    6548\n",
              "Name: WindGustDir, dtype: int64"
            ]
          },
          "metadata": {},
          "execution_count": 495
        }
      ]
    },
    {
      "metadata": {
        "trusted": true,
        "colab": {
          "base_uri": "https://localhost:8080/",
          "height": 206
        },
        "id": "0PCVYojeKQXT",
        "outputId": "387fa4ef-87d6-4b9d-864e-569a4e6ad83d"
      },
      "cell_type": "code",
      "source": [
        "# vamos fazer One Hot Encoding da variável WindGustDir\n",
        "# get k-1 variáveis ​​dummy após One Hot Encoding\n",
        "# também adiciona uma variável fictícia adicional para indicar que faltavam dados\n",
        "# visualize o conjunto de dados com o método head ()\n",
        "\n",
        "pd.get_dummies(df.WindGustDir, drop_first=True, dummy_na=True).head()"
      ],
      "execution_count": null,
      "outputs": [
        {
          "output_type": "execute_result",
          "data": {
            "text/html": [
              "\n",
              "  <div id=\"df-a3406cef-dae8-4846-b032-80b15265fa79\">\n",
              "    <div class=\"colab-df-container\">\n",
              "      <div>\n",
              "<style scoped>\n",
              "    .dataframe tbody tr th:only-of-type {\n",
              "        vertical-align: middle;\n",
              "    }\n",
              "\n",
              "    .dataframe tbody tr th {\n",
              "        vertical-align: top;\n",
              "    }\n",
              "\n",
              "    .dataframe thead th {\n",
              "        text-align: right;\n",
              "    }\n",
              "</style>\n",
              "<table border=\"1\" class=\"dataframe\">\n",
              "  <thead>\n",
              "    <tr style=\"text-align: right;\">\n",
              "      <th></th>\n",
              "      <th>ENE</th>\n",
              "      <th>ESE</th>\n",
              "      <th>N</th>\n",
              "      <th>NE</th>\n",
              "      <th>NNE</th>\n",
              "      <th>NNW</th>\n",
              "      <th>NW</th>\n",
              "      <th>S</th>\n",
              "      <th>SE</th>\n",
              "      <th>SSE</th>\n",
              "      <th>SSW</th>\n",
              "      <th>SW</th>\n",
              "      <th>W</th>\n",
              "      <th>WNW</th>\n",
              "      <th>WSW</th>\n",
              "      <th>NaN</th>\n",
              "    </tr>\n",
              "  </thead>\n",
              "  <tbody>\n",
              "    <tr>\n",
              "      <th>0</th>\n",
              "      <td>0</td>\n",
              "      <td>0</td>\n",
              "      <td>0</td>\n",
              "      <td>0</td>\n",
              "      <td>0</td>\n",
              "      <td>0</td>\n",
              "      <td>0</td>\n",
              "      <td>0</td>\n",
              "      <td>0</td>\n",
              "      <td>0</td>\n",
              "      <td>0</td>\n",
              "      <td>0</td>\n",
              "      <td>1</td>\n",
              "      <td>0</td>\n",
              "      <td>0</td>\n",
              "      <td>0</td>\n",
              "    </tr>\n",
              "    <tr>\n",
              "      <th>1</th>\n",
              "      <td>0</td>\n",
              "      <td>0</td>\n",
              "      <td>0</td>\n",
              "      <td>0</td>\n",
              "      <td>0</td>\n",
              "      <td>0</td>\n",
              "      <td>0</td>\n",
              "      <td>0</td>\n",
              "      <td>0</td>\n",
              "      <td>0</td>\n",
              "      <td>0</td>\n",
              "      <td>0</td>\n",
              "      <td>0</td>\n",
              "      <td>1</td>\n",
              "      <td>0</td>\n",
              "      <td>0</td>\n",
              "    </tr>\n",
              "    <tr>\n",
              "      <th>2</th>\n",
              "      <td>0</td>\n",
              "      <td>0</td>\n",
              "      <td>0</td>\n",
              "      <td>0</td>\n",
              "      <td>0</td>\n",
              "      <td>0</td>\n",
              "      <td>0</td>\n",
              "      <td>0</td>\n",
              "      <td>0</td>\n",
              "      <td>0</td>\n",
              "      <td>0</td>\n",
              "      <td>0</td>\n",
              "      <td>0</td>\n",
              "      <td>0</td>\n",
              "      <td>1</td>\n",
              "      <td>0</td>\n",
              "    </tr>\n",
              "    <tr>\n",
              "      <th>3</th>\n",
              "      <td>0</td>\n",
              "      <td>0</td>\n",
              "      <td>0</td>\n",
              "      <td>1</td>\n",
              "      <td>0</td>\n",
              "      <td>0</td>\n",
              "      <td>0</td>\n",
              "      <td>0</td>\n",
              "      <td>0</td>\n",
              "      <td>0</td>\n",
              "      <td>0</td>\n",
              "      <td>0</td>\n",
              "      <td>0</td>\n",
              "      <td>0</td>\n",
              "      <td>0</td>\n",
              "      <td>0</td>\n",
              "    </tr>\n",
              "    <tr>\n",
              "      <th>4</th>\n",
              "      <td>0</td>\n",
              "      <td>0</td>\n",
              "      <td>0</td>\n",
              "      <td>0</td>\n",
              "      <td>0</td>\n",
              "      <td>0</td>\n",
              "      <td>0</td>\n",
              "      <td>0</td>\n",
              "      <td>0</td>\n",
              "      <td>0</td>\n",
              "      <td>0</td>\n",
              "      <td>0</td>\n",
              "      <td>1</td>\n",
              "      <td>0</td>\n",
              "      <td>0</td>\n",
              "      <td>0</td>\n",
              "    </tr>\n",
              "  </tbody>\n",
              "</table>\n",
              "</div>\n",
              "      <button class=\"colab-df-convert\" onclick=\"convertToInteractive('df-a3406cef-dae8-4846-b032-80b15265fa79')\"\n",
              "              title=\"Convert this dataframe to an interactive table.\"\n",
              "              style=\"display:none;\">\n",
              "        \n",
              "  <svg xmlns=\"http://www.w3.org/2000/svg\" height=\"24px\"viewBox=\"0 0 24 24\"\n",
              "       width=\"24px\">\n",
              "    <path d=\"M0 0h24v24H0V0z\" fill=\"none\"/>\n",
              "    <path d=\"M18.56 5.44l.94 2.06.94-2.06 2.06-.94-2.06-.94-.94-2.06-.94 2.06-2.06.94zm-11 1L8.5 8.5l.94-2.06 2.06-.94-2.06-.94L8.5 2.5l-.94 2.06-2.06.94zm10 10l.94 2.06.94-2.06 2.06-.94-2.06-.94-.94-2.06-.94 2.06-2.06.94z\"/><path d=\"M17.41 7.96l-1.37-1.37c-.4-.4-.92-.59-1.43-.59-.52 0-1.04.2-1.43.59L10.3 9.45l-7.72 7.72c-.78.78-.78 2.05 0 2.83L4 21.41c.39.39.9.59 1.41.59.51 0 1.02-.2 1.41-.59l7.78-7.78 2.81-2.81c.8-.78.8-2.07 0-2.86zM5.41 20L4 18.59l7.72-7.72 1.47 1.35L5.41 20z\"/>\n",
              "  </svg>\n",
              "      </button>\n",
              "      \n",
              "  <style>\n",
              "    .colab-df-container {\n",
              "      display:flex;\n",
              "      flex-wrap:wrap;\n",
              "      gap: 12px;\n",
              "    }\n",
              "\n",
              "    .colab-df-convert {\n",
              "      background-color: #E8F0FE;\n",
              "      border: none;\n",
              "      border-radius: 50%;\n",
              "      cursor: pointer;\n",
              "      display: none;\n",
              "      fill: #1967D2;\n",
              "      height: 32px;\n",
              "      padding: 0 0 0 0;\n",
              "      width: 32px;\n",
              "    }\n",
              "\n",
              "    .colab-df-convert:hover {\n",
              "      background-color: #E2EBFA;\n",
              "      box-shadow: 0px 1px 2px rgba(60, 64, 67, 0.3), 0px 1px 3px 1px rgba(60, 64, 67, 0.15);\n",
              "      fill: #174EA6;\n",
              "    }\n",
              "\n",
              "    [theme=dark] .colab-df-convert {\n",
              "      background-color: #3B4455;\n",
              "      fill: #D2E3FC;\n",
              "    }\n",
              "\n",
              "    [theme=dark] .colab-df-convert:hover {\n",
              "      background-color: #434B5C;\n",
              "      box-shadow: 0px 1px 3px 1px rgba(0, 0, 0, 0.15);\n",
              "      filter: drop-shadow(0px 1px 2px rgba(0, 0, 0, 0.3));\n",
              "      fill: #FFFFFF;\n",
              "    }\n",
              "  </style>\n",
              "\n",
              "      <script>\n",
              "        const buttonEl =\n",
              "          document.querySelector('#df-a3406cef-dae8-4846-b032-80b15265fa79 button.colab-df-convert');\n",
              "        buttonEl.style.display =\n",
              "          google.colab.kernel.accessAllowed ? 'block' : 'none';\n",
              "\n",
              "        async function convertToInteractive(key) {\n",
              "          const element = document.querySelector('#df-a3406cef-dae8-4846-b032-80b15265fa79');\n",
              "          const dataTable =\n",
              "            await google.colab.kernel.invokeFunction('convertToInteractive',\n",
              "                                                     [key], {});\n",
              "          if (!dataTable) return;\n",
              "\n",
              "          const docLinkHtml = 'Like what you see? Visit the ' +\n",
              "            '<a target=\"_blank\" href=https://colab.research.google.com/notebooks/data_table.ipynb>data table notebook</a>'\n",
              "            + ' to learn more about interactive tables.';\n",
              "          element.innerHTML = '';\n",
              "          dataTable['output_type'] = 'display_data';\n",
              "          await google.colab.output.renderOutput(dataTable, element);\n",
              "          const docLink = document.createElement('div');\n",
              "          docLink.innerHTML = docLinkHtml;\n",
              "          element.appendChild(docLink);\n",
              "        }\n",
              "      </script>\n",
              "    </div>\n",
              "  </div>\n",
              "  "
            ],
            "text/plain": [
              "   ENE  ESE  N  NE  NNE  NNW  NW  S  SE  SSE  SSW  SW  W  WNW  WSW  NaN\n",
              "0    0    0  0   0    0    0   0  0   0    0    0   0  1    0    0    0\n",
              "1    0    0  0   0    0    0   0  0   0    0    0   0  0    1    0    0\n",
              "2    0    0  0   0    0    0   0  0   0    0    0   0  0    0    1    0\n",
              "3    0    0  0   1    0    0   0  0   0    0    0   0  0    0    0    0\n",
              "4    0    0  0   0    0    0   0  0   0    0    0   0  1    0    0    0"
            ]
          },
          "metadata": {},
          "execution_count": 496
        }
      ]
    },
    {
      "metadata": {
        "trusted": true,
        "colab": {
          "base_uri": "https://localhost:8080/"
        },
        "id": "7J7pf23AKQXT",
        "outputId": "54da53b2-5479-4c2c-aa67-18cb93a21ccd"
      },
      "cell_type": "code",
      "source": [
        "# soma o número de 1s por variável booleana nas linhas do conjunto de dados\n",
        "# nos dirá quantas observações temos para cada categoria\n",
        "\n",
        "pd.get_dummies(df.WindGustDir, drop_first=True, dummy_na=True).sum(axis=0)"
      ],
      "execution_count": null,
      "outputs": [
        {
          "output_type": "execute_result",
          "data": {
            "text/plain": [
              "ENE     8104\n",
              "ESE     7372\n",
              "N       9313\n",
              "NE      7133\n",
              "NNE     6548\n",
              "NNW     6620\n",
              "NW      8122\n",
              "S       9168\n",
              "SE      9418\n",
              "SSE     9216\n",
              "SSW     8736\n",
              "SW      8967\n",
              "W       9915\n",
              "WNW     8252\n",
              "WSW     9069\n",
              "NaN    10326\n",
              "dtype: int64"
            ]
          },
          "metadata": {},
          "execution_count": 497
        }
      ]
    },
    {
      "metadata": {
        "id": "759tWzjIKQXU"
      },
      "cell_type": "markdown",
      "source": [
        "Podemos ver que existem 10326 valores ausentes na variável WindGustDir."
      ]
    },
    {
      "metadata": {
        "id": "cSbRDZNKKQXU"
      },
      "cell_type": "markdown",
      "source": [
        "### Explorar a variável `WindDir9am`"
      ]
    },
    {
      "metadata": {
        "trusted": true,
        "colab": {
          "base_uri": "https://localhost:8080/"
        },
        "id": "xGdQUX7oKQXU",
        "outputId": "c61ed332-739e-4459-a0da-1ed181d71486"
      },
      "cell_type": "code",
      "source": [
        "# print number of labels in WindDir9am variable\n",
        "\n",
        "print('WindDir9am contains', len(df['WindDir9am'].unique()), 'labels')"
      ],
      "execution_count": null,
      "outputs": [
        {
          "output_type": "stream",
          "name": "stdout",
          "text": [
            "WindDir9am contains 17 labels\n"
          ]
        }
      ]
    },
    {
      "metadata": {
        "trusted": true,
        "colab": {
          "base_uri": "https://localhost:8080/"
        },
        "id": "yXZC2P8mKQXV",
        "outputId": "e6be9d55-00fc-4210-85b1-eea46f36232a"
      },
      "cell_type": "code",
      "source": [
        "# check labels in WindDir9am variable\n",
        "\n",
        "df['WindDir9am'].unique()"
      ],
      "execution_count": null,
      "outputs": [
        {
          "output_type": "execute_result",
          "data": {
            "text/plain": [
              "array(['W', 'NNW', 'SE', 'ENE', 'SW', 'SSE', 'S', 'NE', nan, 'SSW', 'N',\n",
              "       'WSW', 'ESE', 'E', 'NW', 'WNW', 'NNE'], dtype=object)"
            ]
          },
          "metadata": {},
          "execution_count": 499
        }
      ]
    },
    {
      "metadata": {
        "trusted": true,
        "colab": {
          "base_uri": "https://localhost:8080/"
        },
        "id": "S3um2itcKQXV",
        "outputId": "77c91356-90da-4948-dbf8-c28776950d0b"
      },
      "cell_type": "code",
      "source": [
        "# check frequency distribution of values in WindDir9am variable\n",
        "\n",
        "df['WindDir9am'].value_counts()"
      ],
      "execution_count": null,
      "outputs": [
        {
          "output_type": "execute_result",
          "data": {
            "text/plain": [
              "N      11758\n",
              "SE      9287\n",
              "E       9176\n",
              "SSE     9112\n",
              "NW      8749\n",
              "S       8659\n",
              "W       8459\n",
              "SW      8423\n",
              "NNE     8129\n",
              "NNW     7980\n",
              "ENE     7836\n",
              "NE      7671\n",
              "ESE     7630\n",
              "SSW     7587\n",
              "WNW     7414\n",
              "WSW     7024\n",
              "Name: WindDir9am, dtype: int64"
            ]
          },
          "metadata": {},
          "execution_count": 500
        }
      ]
    },
    {
      "metadata": {
        "trusted": true,
        "colab": {
          "base_uri": "https://localhost:8080/",
          "height": 206
        },
        "id": "TZTk3cdwKQXV",
        "outputId": "ce0efc4a-962f-40fe-ef51-7eaa9cf756b5"
      },
      "cell_type": "code",
      "source": [
        "# let's do One Hot Encoding of WindDir9am variable\n",
        "# get k-1 dummy variables after One Hot Encoding \n",
        "# also add an additional dummy variable to indicate there was missing data\n",
        "# preview the dataset with head() method\n",
        "\n",
        "pd.get_dummies(df.WindDir9am, drop_first=True, dummy_na=True).head()"
      ],
      "execution_count": null,
      "outputs": [
        {
          "output_type": "execute_result",
          "data": {
            "text/html": [
              "\n",
              "  <div id=\"df-f688c2b1-496a-4dba-b68f-493d32d840a2\">\n",
              "    <div class=\"colab-df-container\">\n",
              "      <div>\n",
              "<style scoped>\n",
              "    .dataframe tbody tr th:only-of-type {\n",
              "        vertical-align: middle;\n",
              "    }\n",
              "\n",
              "    .dataframe tbody tr th {\n",
              "        vertical-align: top;\n",
              "    }\n",
              "\n",
              "    .dataframe thead th {\n",
              "        text-align: right;\n",
              "    }\n",
              "</style>\n",
              "<table border=\"1\" class=\"dataframe\">\n",
              "  <thead>\n",
              "    <tr style=\"text-align: right;\">\n",
              "      <th></th>\n",
              "      <th>ENE</th>\n",
              "      <th>ESE</th>\n",
              "      <th>N</th>\n",
              "      <th>NE</th>\n",
              "      <th>NNE</th>\n",
              "      <th>NNW</th>\n",
              "      <th>NW</th>\n",
              "      <th>S</th>\n",
              "      <th>SE</th>\n",
              "      <th>SSE</th>\n",
              "      <th>SSW</th>\n",
              "      <th>SW</th>\n",
              "      <th>W</th>\n",
              "      <th>WNW</th>\n",
              "      <th>WSW</th>\n",
              "      <th>NaN</th>\n",
              "    </tr>\n",
              "  </thead>\n",
              "  <tbody>\n",
              "    <tr>\n",
              "      <th>0</th>\n",
              "      <td>0</td>\n",
              "      <td>0</td>\n",
              "      <td>0</td>\n",
              "      <td>0</td>\n",
              "      <td>0</td>\n",
              "      <td>0</td>\n",
              "      <td>0</td>\n",
              "      <td>0</td>\n",
              "      <td>0</td>\n",
              "      <td>0</td>\n",
              "      <td>0</td>\n",
              "      <td>0</td>\n",
              "      <td>1</td>\n",
              "      <td>0</td>\n",
              "      <td>0</td>\n",
              "      <td>0</td>\n",
              "    </tr>\n",
              "    <tr>\n",
              "      <th>1</th>\n",
              "      <td>0</td>\n",
              "      <td>0</td>\n",
              "      <td>0</td>\n",
              "      <td>0</td>\n",
              "      <td>0</td>\n",
              "      <td>1</td>\n",
              "      <td>0</td>\n",
              "      <td>0</td>\n",
              "      <td>0</td>\n",
              "      <td>0</td>\n",
              "      <td>0</td>\n",
              "      <td>0</td>\n",
              "      <td>0</td>\n",
              "      <td>0</td>\n",
              "      <td>0</td>\n",
              "      <td>0</td>\n",
              "    </tr>\n",
              "    <tr>\n",
              "      <th>2</th>\n",
              "      <td>0</td>\n",
              "      <td>0</td>\n",
              "      <td>0</td>\n",
              "      <td>0</td>\n",
              "      <td>0</td>\n",
              "      <td>0</td>\n",
              "      <td>0</td>\n",
              "      <td>0</td>\n",
              "      <td>0</td>\n",
              "      <td>0</td>\n",
              "      <td>0</td>\n",
              "      <td>0</td>\n",
              "      <td>1</td>\n",
              "      <td>0</td>\n",
              "      <td>0</td>\n",
              "      <td>0</td>\n",
              "    </tr>\n",
              "    <tr>\n",
              "      <th>3</th>\n",
              "      <td>0</td>\n",
              "      <td>0</td>\n",
              "      <td>0</td>\n",
              "      <td>0</td>\n",
              "      <td>0</td>\n",
              "      <td>0</td>\n",
              "      <td>0</td>\n",
              "      <td>0</td>\n",
              "      <td>1</td>\n",
              "      <td>0</td>\n",
              "      <td>0</td>\n",
              "      <td>0</td>\n",
              "      <td>0</td>\n",
              "      <td>0</td>\n",
              "      <td>0</td>\n",
              "      <td>0</td>\n",
              "    </tr>\n",
              "    <tr>\n",
              "      <th>4</th>\n",
              "      <td>1</td>\n",
              "      <td>0</td>\n",
              "      <td>0</td>\n",
              "      <td>0</td>\n",
              "      <td>0</td>\n",
              "      <td>0</td>\n",
              "      <td>0</td>\n",
              "      <td>0</td>\n",
              "      <td>0</td>\n",
              "      <td>0</td>\n",
              "      <td>0</td>\n",
              "      <td>0</td>\n",
              "      <td>0</td>\n",
              "      <td>0</td>\n",
              "      <td>0</td>\n",
              "      <td>0</td>\n",
              "    </tr>\n",
              "  </tbody>\n",
              "</table>\n",
              "</div>\n",
              "      <button class=\"colab-df-convert\" onclick=\"convertToInteractive('df-f688c2b1-496a-4dba-b68f-493d32d840a2')\"\n",
              "              title=\"Convert this dataframe to an interactive table.\"\n",
              "              style=\"display:none;\">\n",
              "        \n",
              "  <svg xmlns=\"http://www.w3.org/2000/svg\" height=\"24px\"viewBox=\"0 0 24 24\"\n",
              "       width=\"24px\">\n",
              "    <path d=\"M0 0h24v24H0V0z\" fill=\"none\"/>\n",
              "    <path d=\"M18.56 5.44l.94 2.06.94-2.06 2.06-.94-2.06-.94-.94-2.06-.94 2.06-2.06.94zm-11 1L8.5 8.5l.94-2.06 2.06-.94-2.06-.94L8.5 2.5l-.94 2.06-2.06.94zm10 10l.94 2.06.94-2.06 2.06-.94-2.06-.94-.94-2.06-.94 2.06-2.06.94z\"/><path d=\"M17.41 7.96l-1.37-1.37c-.4-.4-.92-.59-1.43-.59-.52 0-1.04.2-1.43.59L10.3 9.45l-7.72 7.72c-.78.78-.78 2.05 0 2.83L4 21.41c.39.39.9.59 1.41.59.51 0 1.02-.2 1.41-.59l7.78-7.78 2.81-2.81c.8-.78.8-2.07 0-2.86zM5.41 20L4 18.59l7.72-7.72 1.47 1.35L5.41 20z\"/>\n",
              "  </svg>\n",
              "      </button>\n",
              "      \n",
              "  <style>\n",
              "    .colab-df-container {\n",
              "      display:flex;\n",
              "      flex-wrap:wrap;\n",
              "      gap: 12px;\n",
              "    }\n",
              "\n",
              "    .colab-df-convert {\n",
              "      background-color: #E8F0FE;\n",
              "      border: none;\n",
              "      border-radius: 50%;\n",
              "      cursor: pointer;\n",
              "      display: none;\n",
              "      fill: #1967D2;\n",
              "      height: 32px;\n",
              "      padding: 0 0 0 0;\n",
              "      width: 32px;\n",
              "    }\n",
              "\n",
              "    .colab-df-convert:hover {\n",
              "      background-color: #E2EBFA;\n",
              "      box-shadow: 0px 1px 2px rgba(60, 64, 67, 0.3), 0px 1px 3px 1px rgba(60, 64, 67, 0.15);\n",
              "      fill: #174EA6;\n",
              "    }\n",
              "\n",
              "    [theme=dark] .colab-df-convert {\n",
              "      background-color: #3B4455;\n",
              "      fill: #D2E3FC;\n",
              "    }\n",
              "\n",
              "    [theme=dark] .colab-df-convert:hover {\n",
              "      background-color: #434B5C;\n",
              "      box-shadow: 0px 1px 3px 1px rgba(0, 0, 0, 0.15);\n",
              "      filter: drop-shadow(0px 1px 2px rgba(0, 0, 0, 0.3));\n",
              "      fill: #FFFFFF;\n",
              "    }\n",
              "  </style>\n",
              "\n",
              "      <script>\n",
              "        const buttonEl =\n",
              "          document.querySelector('#df-f688c2b1-496a-4dba-b68f-493d32d840a2 button.colab-df-convert');\n",
              "        buttonEl.style.display =\n",
              "          google.colab.kernel.accessAllowed ? 'block' : 'none';\n",
              "\n",
              "        async function convertToInteractive(key) {\n",
              "          const element = document.querySelector('#df-f688c2b1-496a-4dba-b68f-493d32d840a2');\n",
              "          const dataTable =\n",
              "            await google.colab.kernel.invokeFunction('convertToInteractive',\n",
              "                                                     [key], {});\n",
              "          if (!dataTable) return;\n",
              "\n",
              "          const docLinkHtml = 'Like what you see? Visit the ' +\n",
              "            '<a target=\"_blank\" href=https://colab.research.google.com/notebooks/data_table.ipynb>data table notebook</a>'\n",
              "            + ' to learn more about interactive tables.';\n",
              "          element.innerHTML = '';\n",
              "          dataTable['output_type'] = 'display_data';\n",
              "          await google.colab.output.renderOutput(dataTable, element);\n",
              "          const docLink = document.createElement('div');\n",
              "          docLink.innerHTML = docLinkHtml;\n",
              "          element.appendChild(docLink);\n",
              "        }\n",
              "      </script>\n",
              "    </div>\n",
              "  </div>\n",
              "  "
            ],
            "text/plain": [
              "   ENE  ESE  N  NE  NNE  NNW  NW  S  SE  SSE  SSW  SW  W  WNW  WSW  NaN\n",
              "0    0    0  0   0    0    0   0  0   0    0    0   0  1    0    0    0\n",
              "1    0    0  0   0    0    1   0  0   0    0    0   0  0    0    0    0\n",
              "2    0    0  0   0    0    0   0  0   0    0    0   0  1    0    0    0\n",
              "3    0    0  0   0    0    0   0  0   1    0    0   0  0    0    0    0\n",
              "4    1    0  0   0    0    0   0  0   0    0    0   0  0    0    0    0"
            ]
          },
          "metadata": {},
          "execution_count": 501
        }
      ]
    },
    {
      "metadata": {
        "trusted": true,
        "colab": {
          "base_uri": "https://localhost:8080/"
        },
        "id": "H0PTmoRkKQXW",
        "outputId": "f1669f90-bb08-4fc8-e3d4-41b2ca57f0ec"
      },
      "cell_type": "code",
      "source": [
        "# sum the number of 1s per boolean variable over the rows of the dataset\n",
        "# it will tell us how many observations we have for each category\n",
        "\n",
        "pd.get_dummies(df.WindDir9am, drop_first=True, dummy_na=True).sum(axis=0)"
      ],
      "execution_count": null,
      "outputs": [
        {
          "output_type": "execute_result",
          "data": {
            "text/plain": [
              "ENE     7836\n",
              "ESE     7630\n",
              "N      11758\n",
              "NE      7671\n",
              "NNE     8129\n",
              "NNW     7980\n",
              "NW      8749\n",
              "S       8659\n",
              "SE      9287\n",
              "SSE     9112\n",
              "SSW     7587\n",
              "SW      8423\n",
              "W       8459\n",
              "WNW     7414\n",
              "WSW     7024\n",
              "NaN    10566\n",
              "dtype: int64"
            ]
          },
          "metadata": {},
          "execution_count": 502
        }
      ]
    },
    {
      "metadata": {
        "id": "HM3FwVh7KQXW"
      },
      "cell_type": "markdown",
      "source": [
        "Podemos ver que existem 10566 valores ausentes na variável `WindDir9am`."
      ]
    },
    {
      "metadata": {
        "id": "7gbhvWY7KQXW"
      },
      "cell_type": "markdown",
      "source": [
        "### Explorar a variável `WindDir3pm`"
      ]
    },
    {
      "metadata": {
        "trusted": true,
        "colab": {
          "base_uri": "https://localhost:8080/"
        },
        "id": "plLLt9dNKQXW",
        "outputId": "9655ab0c-985c-434c-bab5-1773c97d4742"
      },
      "cell_type": "code",
      "source": [
        "# print number of labels in WindDir3pm variable\n",
        "\n",
        "print('WindDir3pm contains', len(df['WindDir3pm'].unique()), 'labels')"
      ],
      "execution_count": null,
      "outputs": [
        {
          "output_type": "stream",
          "name": "stdout",
          "text": [
            "WindDir3pm contains 17 labels\n"
          ]
        }
      ]
    },
    {
      "metadata": {
        "trusted": true,
        "colab": {
          "base_uri": "https://localhost:8080/"
        },
        "id": "25obpBgHKQXW",
        "outputId": "5b797ab0-10e2-4343-dc92-5058b1e1ccb9"
      },
      "cell_type": "code",
      "source": [
        "# check labels in WindDir3pm variable\n",
        "\n",
        "df['WindDir3pm'].unique()"
      ],
      "execution_count": null,
      "outputs": [
        {
          "output_type": "execute_result",
          "data": {
            "text/plain": [
              "array(['WNW', 'WSW', 'E', 'NW', 'W', 'SSE', 'ESE', 'ENE', 'NNW', 'SSW',\n",
              "       'SW', 'SE', 'N', 'S', 'NNE', nan, 'NE'], dtype=object)"
            ]
          },
          "metadata": {},
          "execution_count": 504
        }
      ]
    },
    {
      "metadata": {
        "trusted": true,
        "colab": {
          "base_uri": "https://localhost:8080/"
        },
        "id": "tWXWSsvTKQXX",
        "outputId": "0a7f366d-8e8d-4487-fa3d-a297a88f8e0e"
      },
      "cell_type": "code",
      "source": [
        "# check frequency distribution of values in WindDir3pm variable\n",
        "\n",
        "df['WindDir3pm'].value_counts()"
      ],
      "execution_count": null,
      "outputs": [
        {
          "output_type": "execute_result",
          "data": {
            "text/plain": [
              "SE     10838\n",
              "W      10110\n",
              "S       9926\n",
              "WSW     9518\n",
              "SSE     9399\n",
              "SW      9354\n",
              "N       8890\n",
              "WNW     8874\n",
              "NW      8610\n",
              "ESE     8505\n",
              "E       8472\n",
              "NE      8263\n",
              "SSW     8156\n",
              "NNW     7870\n",
              "ENE     7857\n",
              "NNE     6590\n",
              "Name: WindDir3pm, dtype: int64"
            ]
          },
          "metadata": {},
          "execution_count": 505
        }
      ]
    },
    {
      "metadata": {
        "trusted": true,
        "colab": {
          "base_uri": "https://localhost:8080/",
          "height": 206
        },
        "id": "uuAPzWZQKQXX",
        "outputId": "85eaff22-0c76-4ce1-9eac-9eef2ef73f8a"
      },
      "cell_type": "code",
      "source": [
        "# let's do One Hot Encoding of WindDir3pm variable\n",
        "# get k-1 dummy variables after One Hot Encoding \n",
        "# also add an additional dummy variable to indicate there was missing data\n",
        "# preview the dataset with head() method\n",
        "\n",
        "pd.get_dummies(df.WindDir3pm, drop_first=True, dummy_na=True).head()"
      ],
      "execution_count": null,
      "outputs": [
        {
          "output_type": "execute_result",
          "data": {
            "text/html": [
              "\n",
              "  <div id=\"df-5c6b478c-577b-4d6c-9efb-2198df449817\">\n",
              "    <div class=\"colab-df-container\">\n",
              "      <div>\n",
              "<style scoped>\n",
              "    .dataframe tbody tr th:only-of-type {\n",
              "        vertical-align: middle;\n",
              "    }\n",
              "\n",
              "    .dataframe tbody tr th {\n",
              "        vertical-align: top;\n",
              "    }\n",
              "\n",
              "    .dataframe thead th {\n",
              "        text-align: right;\n",
              "    }\n",
              "</style>\n",
              "<table border=\"1\" class=\"dataframe\">\n",
              "  <thead>\n",
              "    <tr style=\"text-align: right;\">\n",
              "      <th></th>\n",
              "      <th>ENE</th>\n",
              "      <th>ESE</th>\n",
              "      <th>N</th>\n",
              "      <th>NE</th>\n",
              "      <th>NNE</th>\n",
              "      <th>NNW</th>\n",
              "      <th>NW</th>\n",
              "      <th>S</th>\n",
              "      <th>SE</th>\n",
              "      <th>SSE</th>\n",
              "      <th>SSW</th>\n",
              "      <th>SW</th>\n",
              "      <th>W</th>\n",
              "      <th>WNW</th>\n",
              "      <th>WSW</th>\n",
              "      <th>NaN</th>\n",
              "    </tr>\n",
              "  </thead>\n",
              "  <tbody>\n",
              "    <tr>\n",
              "      <th>0</th>\n",
              "      <td>0</td>\n",
              "      <td>0</td>\n",
              "      <td>0</td>\n",
              "      <td>0</td>\n",
              "      <td>0</td>\n",
              "      <td>0</td>\n",
              "      <td>0</td>\n",
              "      <td>0</td>\n",
              "      <td>0</td>\n",
              "      <td>0</td>\n",
              "      <td>0</td>\n",
              "      <td>0</td>\n",
              "      <td>0</td>\n",
              "      <td>1</td>\n",
              "      <td>0</td>\n",
              "      <td>0</td>\n",
              "    </tr>\n",
              "    <tr>\n",
              "      <th>1</th>\n",
              "      <td>0</td>\n",
              "      <td>0</td>\n",
              "      <td>0</td>\n",
              "      <td>0</td>\n",
              "      <td>0</td>\n",
              "      <td>0</td>\n",
              "      <td>0</td>\n",
              "      <td>0</td>\n",
              "      <td>0</td>\n",
              "      <td>0</td>\n",
              "      <td>0</td>\n",
              "      <td>0</td>\n",
              "      <td>0</td>\n",
              "      <td>0</td>\n",
              "      <td>1</td>\n",
              "      <td>0</td>\n",
              "    </tr>\n",
              "    <tr>\n",
              "      <th>2</th>\n",
              "      <td>0</td>\n",
              "      <td>0</td>\n",
              "      <td>0</td>\n",
              "      <td>0</td>\n",
              "      <td>0</td>\n",
              "      <td>0</td>\n",
              "      <td>0</td>\n",
              "      <td>0</td>\n",
              "      <td>0</td>\n",
              "      <td>0</td>\n",
              "      <td>0</td>\n",
              "      <td>0</td>\n",
              "      <td>0</td>\n",
              "      <td>0</td>\n",
              "      <td>1</td>\n",
              "      <td>0</td>\n",
              "    </tr>\n",
              "    <tr>\n",
              "      <th>3</th>\n",
              "      <td>0</td>\n",
              "      <td>0</td>\n",
              "      <td>0</td>\n",
              "      <td>0</td>\n",
              "      <td>0</td>\n",
              "      <td>0</td>\n",
              "      <td>0</td>\n",
              "      <td>0</td>\n",
              "      <td>0</td>\n",
              "      <td>0</td>\n",
              "      <td>0</td>\n",
              "      <td>0</td>\n",
              "      <td>0</td>\n",
              "      <td>0</td>\n",
              "      <td>0</td>\n",
              "      <td>0</td>\n",
              "    </tr>\n",
              "    <tr>\n",
              "      <th>4</th>\n",
              "      <td>0</td>\n",
              "      <td>0</td>\n",
              "      <td>0</td>\n",
              "      <td>0</td>\n",
              "      <td>0</td>\n",
              "      <td>0</td>\n",
              "      <td>1</td>\n",
              "      <td>0</td>\n",
              "      <td>0</td>\n",
              "      <td>0</td>\n",
              "      <td>0</td>\n",
              "      <td>0</td>\n",
              "      <td>0</td>\n",
              "      <td>0</td>\n",
              "      <td>0</td>\n",
              "      <td>0</td>\n",
              "    </tr>\n",
              "  </tbody>\n",
              "</table>\n",
              "</div>\n",
              "      <button class=\"colab-df-convert\" onclick=\"convertToInteractive('df-5c6b478c-577b-4d6c-9efb-2198df449817')\"\n",
              "              title=\"Convert this dataframe to an interactive table.\"\n",
              "              style=\"display:none;\">\n",
              "        \n",
              "  <svg xmlns=\"http://www.w3.org/2000/svg\" height=\"24px\"viewBox=\"0 0 24 24\"\n",
              "       width=\"24px\">\n",
              "    <path d=\"M0 0h24v24H0V0z\" fill=\"none\"/>\n",
              "    <path d=\"M18.56 5.44l.94 2.06.94-2.06 2.06-.94-2.06-.94-.94-2.06-.94 2.06-2.06.94zm-11 1L8.5 8.5l.94-2.06 2.06-.94-2.06-.94L8.5 2.5l-.94 2.06-2.06.94zm10 10l.94 2.06.94-2.06 2.06-.94-2.06-.94-.94-2.06-.94 2.06-2.06.94z\"/><path d=\"M17.41 7.96l-1.37-1.37c-.4-.4-.92-.59-1.43-.59-.52 0-1.04.2-1.43.59L10.3 9.45l-7.72 7.72c-.78.78-.78 2.05 0 2.83L4 21.41c.39.39.9.59 1.41.59.51 0 1.02-.2 1.41-.59l7.78-7.78 2.81-2.81c.8-.78.8-2.07 0-2.86zM5.41 20L4 18.59l7.72-7.72 1.47 1.35L5.41 20z\"/>\n",
              "  </svg>\n",
              "      </button>\n",
              "      \n",
              "  <style>\n",
              "    .colab-df-container {\n",
              "      display:flex;\n",
              "      flex-wrap:wrap;\n",
              "      gap: 12px;\n",
              "    }\n",
              "\n",
              "    .colab-df-convert {\n",
              "      background-color: #E8F0FE;\n",
              "      border: none;\n",
              "      border-radius: 50%;\n",
              "      cursor: pointer;\n",
              "      display: none;\n",
              "      fill: #1967D2;\n",
              "      height: 32px;\n",
              "      padding: 0 0 0 0;\n",
              "      width: 32px;\n",
              "    }\n",
              "\n",
              "    .colab-df-convert:hover {\n",
              "      background-color: #E2EBFA;\n",
              "      box-shadow: 0px 1px 2px rgba(60, 64, 67, 0.3), 0px 1px 3px 1px rgba(60, 64, 67, 0.15);\n",
              "      fill: #174EA6;\n",
              "    }\n",
              "\n",
              "    [theme=dark] .colab-df-convert {\n",
              "      background-color: #3B4455;\n",
              "      fill: #D2E3FC;\n",
              "    }\n",
              "\n",
              "    [theme=dark] .colab-df-convert:hover {\n",
              "      background-color: #434B5C;\n",
              "      box-shadow: 0px 1px 3px 1px rgba(0, 0, 0, 0.15);\n",
              "      filter: drop-shadow(0px 1px 2px rgba(0, 0, 0, 0.3));\n",
              "      fill: #FFFFFF;\n",
              "    }\n",
              "  </style>\n",
              "\n",
              "      <script>\n",
              "        const buttonEl =\n",
              "          document.querySelector('#df-5c6b478c-577b-4d6c-9efb-2198df449817 button.colab-df-convert');\n",
              "        buttonEl.style.display =\n",
              "          google.colab.kernel.accessAllowed ? 'block' : 'none';\n",
              "\n",
              "        async function convertToInteractive(key) {\n",
              "          const element = document.querySelector('#df-5c6b478c-577b-4d6c-9efb-2198df449817');\n",
              "          const dataTable =\n",
              "            await google.colab.kernel.invokeFunction('convertToInteractive',\n",
              "                                                     [key], {});\n",
              "          if (!dataTable) return;\n",
              "\n",
              "          const docLinkHtml = 'Like what you see? Visit the ' +\n",
              "            '<a target=\"_blank\" href=https://colab.research.google.com/notebooks/data_table.ipynb>data table notebook</a>'\n",
              "            + ' to learn more about interactive tables.';\n",
              "          element.innerHTML = '';\n",
              "          dataTable['output_type'] = 'display_data';\n",
              "          await google.colab.output.renderOutput(dataTable, element);\n",
              "          const docLink = document.createElement('div');\n",
              "          docLink.innerHTML = docLinkHtml;\n",
              "          element.appendChild(docLink);\n",
              "        }\n",
              "      </script>\n",
              "    </div>\n",
              "  </div>\n",
              "  "
            ],
            "text/plain": [
              "   ENE  ESE  N  NE  NNE  NNW  NW  S  SE  SSE  SSW  SW  W  WNW  WSW  NaN\n",
              "0    0    0  0   0    0    0   0  0   0    0    0   0  0    1    0    0\n",
              "1    0    0  0   0    0    0   0  0   0    0    0   0  0    0    1    0\n",
              "2    0    0  0   0    0    0   0  0   0    0    0   0  0    0    1    0\n",
              "3    0    0  0   0    0    0   0  0   0    0    0   0  0    0    0    0\n",
              "4    0    0  0   0    0    0   1  0   0    0    0   0  0    0    0    0"
            ]
          },
          "metadata": {},
          "execution_count": 506
        }
      ]
    },
    {
      "metadata": {
        "trusted": true,
        "colab": {
          "base_uri": "https://localhost:8080/"
        },
        "id": "zAKd7701KQXX",
        "outputId": "372781fb-808a-4a44-aad5-9353bdff501c"
      },
      "cell_type": "code",
      "source": [
        "# sum the number of 1s per boolean variable over the rows of the dataset\n",
        "# it will tell us how many observations we have for each category\n",
        "\n",
        "pd.get_dummies(df.WindDir3pm, drop_first=True, dummy_na=True).sum(axis=0)"
      ],
      "execution_count": null,
      "outputs": [
        {
          "output_type": "execute_result",
          "data": {
            "text/plain": [
              "ENE     7857\n",
              "ESE     8505\n",
              "N       8890\n",
              "NE      8263\n",
              "NNE     6590\n",
              "NNW     7870\n",
              "NW      8610\n",
              "S       9926\n",
              "SE     10838\n",
              "SSE     9399\n",
              "SSW     8156\n",
              "SW      9354\n",
              "W      10110\n",
              "WNW     8874\n",
              "WSW     9518\n",
              "NaN     4228\n",
              "dtype: int64"
            ]
          },
          "metadata": {},
          "execution_count": 507
        }
      ]
    },
    {
      "metadata": {
        "id": "sOU5mZZcKQXX"
      },
      "cell_type": "markdown",
      "source": [
        "\n",
        "Existem 4288 valores ausentes na variável `WindDir3pm`."
      ]
    },
    {
      "metadata": {
        "id": "WMaYEbGdKQXY"
      },
      "cell_type": "markdown",
      "source": [
        "### Explore `RainToday` variable"
      ]
    },
    {
      "metadata": {
        "trusted": true,
        "colab": {
          "base_uri": "https://localhost:8080/"
        },
        "id": "nfyWMMPGKQXY",
        "outputId": "e2f46298-97f5-453d-cfda-af594de80a23"
      },
      "cell_type": "code",
      "source": [
        "# print number of labels in RainToday variable\n",
        "\n",
        "print('RainToday contains', len(df['RainToday'].unique()), 'labels')"
      ],
      "execution_count": null,
      "outputs": [
        {
          "output_type": "stream",
          "name": "stdout",
          "text": [
            "RainToday contains 3 labels\n"
          ]
        }
      ]
    },
    {
      "metadata": {
        "trusted": true,
        "colab": {
          "base_uri": "https://localhost:8080/"
        },
        "id": "-wrpERcpKQXY",
        "outputId": "5ed91ca9-7f97-433a-eb11-684c3fa57231"
      },
      "cell_type": "code",
      "source": [
        "# check labels in WindGustDir variable\n",
        "\n",
        "df['RainToday'].unique()"
      ],
      "execution_count": null,
      "outputs": [
        {
          "output_type": "execute_result",
          "data": {
            "text/plain": [
              "array(['No', 'Yes', nan], dtype=object)"
            ]
          },
          "metadata": {},
          "execution_count": 509
        }
      ]
    },
    {
      "metadata": {
        "trusted": true,
        "colab": {
          "base_uri": "https://localhost:8080/"
        },
        "id": "EI-3rvM0KQXY",
        "outputId": "e48013a4-c787-40d9-df47-4f0c9b5dc0cb"
      },
      "cell_type": "code",
      "source": [
        "# check frequency distribution of values in WindGustDir variable\n",
        "\n",
        "df.RainToday.value_counts()"
      ],
      "execution_count": null,
      "outputs": [
        {
          "output_type": "execute_result",
          "data": {
            "text/plain": [
              "No     110319\n",
              "Yes     31880\n",
              "Name: RainToday, dtype: int64"
            ]
          },
          "metadata": {},
          "execution_count": 510
        }
      ]
    },
    {
      "metadata": {
        "trusted": true,
        "colab": {
          "base_uri": "https://localhost:8080/",
          "height": 206
        },
        "id": "IYgSXV-lKQXY",
        "outputId": "6c859677-6d8d-46ff-dac4-1438812f4f9d"
      },
      "cell_type": "code",
      "source": [
        "# let's do One Hot Encoding of RainToday variable\n",
        "# get k-1 dummy variables after One Hot Encoding \n",
        "# also add an additional dummy variable to indicate there was missing data\n",
        "# preview the dataset with head() method\n",
        "\n",
        "pd.get_dummies(df.RainToday, drop_first=True, dummy_na=True).head()"
      ],
      "execution_count": null,
      "outputs": [
        {
          "output_type": "execute_result",
          "data": {
            "text/html": [
              "\n",
              "  <div id=\"df-a3b118ca-215a-4d27-b279-0fbb8ff8aee0\">\n",
              "    <div class=\"colab-df-container\">\n",
              "      <div>\n",
              "<style scoped>\n",
              "    .dataframe tbody tr th:only-of-type {\n",
              "        vertical-align: middle;\n",
              "    }\n",
              "\n",
              "    .dataframe tbody tr th {\n",
              "        vertical-align: top;\n",
              "    }\n",
              "\n",
              "    .dataframe thead th {\n",
              "        text-align: right;\n",
              "    }\n",
              "</style>\n",
              "<table border=\"1\" class=\"dataframe\">\n",
              "  <thead>\n",
              "    <tr style=\"text-align: right;\">\n",
              "      <th></th>\n",
              "      <th>Yes</th>\n",
              "      <th>NaN</th>\n",
              "    </tr>\n",
              "  </thead>\n",
              "  <tbody>\n",
              "    <tr>\n",
              "      <th>0</th>\n",
              "      <td>0</td>\n",
              "      <td>0</td>\n",
              "    </tr>\n",
              "    <tr>\n",
              "      <th>1</th>\n",
              "      <td>0</td>\n",
              "      <td>0</td>\n",
              "    </tr>\n",
              "    <tr>\n",
              "      <th>2</th>\n",
              "      <td>0</td>\n",
              "      <td>0</td>\n",
              "    </tr>\n",
              "    <tr>\n",
              "      <th>3</th>\n",
              "      <td>0</td>\n",
              "      <td>0</td>\n",
              "    </tr>\n",
              "    <tr>\n",
              "      <th>4</th>\n",
              "      <td>0</td>\n",
              "      <td>0</td>\n",
              "    </tr>\n",
              "  </tbody>\n",
              "</table>\n",
              "</div>\n",
              "      <button class=\"colab-df-convert\" onclick=\"convertToInteractive('df-a3b118ca-215a-4d27-b279-0fbb8ff8aee0')\"\n",
              "              title=\"Convert this dataframe to an interactive table.\"\n",
              "              style=\"display:none;\">\n",
              "        \n",
              "  <svg xmlns=\"http://www.w3.org/2000/svg\" height=\"24px\"viewBox=\"0 0 24 24\"\n",
              "       width=\"24px\">\n",
              "    <path d=\"M0 0h24v24H0V0z\" fill=\"none\"/>\n",
              "    <path d=\"M18.56 5.44l.94 2.06.94-2.06 2.06-.94-2.06-.94-.94-2.06-.94 2.06-2.06.94zm-11 1L8.5 8.5l.94-2.06 2.06-.94-2.06-.94L8.5 2.5l-.94 2.06-2.06.94zm10 10l.94 2.06.94-2.06 2.06-.94-2.06-.94-.94-2.06-.94 2.06-2.06.94z\"/><path d=\"M17.41 7.96l-1.37-1.37c-.4-.4-.92-.59-1.43-.59-.52 0-1.04.2-1.43.59L10.3 9.45l-7.72 7.72c-.78.78-.78 2.05 0 2.83L4 21.41c.39.39.9.59 1.41.59.51 0 1.02-.2 1.41-.59l7.78-7.78 2.81-2.81c.8-.78.8-2.07 0-2.86zM5.41 20L4 18.59l7.72-7.72 1.47 1.35L5.41 20z\"/>\n",
              "  </svg>\n",
              "      </button>\n",
              "      \n",
              "  <style>\n",
              "    .colab-df-container {\n",
              "      display:flex;\n",
              "      flex-wrap:wrap;\n",
              "      gap: 12px;\n",
              "    }\n",
              "\n",
              "    .colab-df-convert {\n",
              "      background-color: #E8F0FE;\n",
              "      border: none;\n",
              "      border-radius: 50%;\n",
              "      cursor: pointer;\n",
              "      display: none;\n",
              "      fill: #1967D2;\n",
              "      height: 32px;\n",
              "      padding: 0 0 0 0;\n",
              "      width: 32px;\n",
              "    }\n",
              "\n",
              "    .colab-df-convert:hover {\n",
              "      background-color: #E2EBFA;\n",
              "      box-shadow: 0px 1px 2px rgba(60, 64, 67, 0.3), 0px 1px 3px 1px rgba(60, 64, 67, 0.15);\n",
              "      fill: #174EA6;\n",
              "    }\n",
              "\n",
              "    [theme=dark] .colab-df-convert {\n",
              "      background-color: #3B4455;\n",
              "      fill: #D2E3FC;\n",
              "    }\n",
              "\n",
              "    [theme=dark] .colab-df-convert:hover {\n",
              "      background-color: #434B5C;\n",
              "      box-shadow: 0px 1px 3px 1px rgba(0, 0, 0, 0.15);\n",
              "      filter: drop-shadow(0px 1px 2px rgba(0, 0, 0, 0.3));\n",
              "      fill: #FFFFFF;\n",
              "    }\n",
              "  </style>\n",
              "\n",
              "      <script>\n",
              "        const buttonEl =\n",
              "          document.querySelector('#df-a3b118ca-215a-4d27-b279-0fbb8ff8aee0 button.colab-df-convert');\n",
              "        buttonEl.style.display =\n",
              "          google.colab.kernel.accessAllowed ? 'block' : 'none';\n",
              "\n",
              "        async function convertToInteractive(key) {\n",
              "          const element = document.querySelector('#df-a3b118ca-215a-4d27-b279-0fbb8ff8aee0');\n",
              "          const dataTable =\n",
              "            await google.colab.kernel.invokeFunction('convertToInteractive',\n",
              "                                                     [key], {});\n",
              "          if (!dataTable) return;\n",
              "\n",
              "          const docLinkHtml = 'Like what you see? Visit the ' +\n",
              "            '<a target=\"_blank\" href=https://colab.research.google.com/notebooks/data_table.ipynb>data table notebook</a>'\n",
              "            + ' to learn more about interactive tables.';\n",
              "          element.innerHTML = '';\n",
              "          dataTable['output_type'] = 'display_data';\n",
              "          await google.colab.output.renderOutput(dataTable, element);\n",
              "          const docLink = document.createElement('div');\n",
              "          docLink.innerHTML = docLinkHtml;\n",
              "          element.appendChild(docLink);\n",
              "        }\n",
              "      </script>\n",
              "    </div>\n",
              "  </div>\n",
              "  "
            ],
            "text/plain": [
              "   Yes  NaN\n",
              "0    0    0\n",
              "1    0    0\n",
              "2    0    0\n",
              "3    0    0\n",
              "4    0    0"
            ]
          },
          "metadata": {},
          "execution_count": 511
        }
      ]
    },
    {
      "metadata": {
        "trusted": true,
        "colab": {
          "base_uri": "https://localhost:8080/"
        },
        "id": "Z6d7gyAwKQXZ",
        "outputId": "d49d441c-7025-4494-cd92-21f663d80381"
      },
      "cell_type": "code",
      "source": [
        "# sum the number of 1s per boolean variable over the rows of the dataset\n",
        "# it will tell us how many observations we have for each category\n",
        "\n",
        "pd.get_dummies(df.RainToday, drop_first=True, dummy_na=True).sum(axis=0)"
      ],
      "execution_count": null,
      "outputs": [
        {
          "output_type": "execute_result",
          "data": {
            "text/plain": [
              "Yes    31880\n",
              "NaN     3261\n",
              "dtype: int64"
            ]
          },
          "metadata": {},
          "execution_count": 512
        }
      ]
    },
    {
      "metadata": {
        "id": "c-VozrTAKQXZ"
      },
      "cell_type": "markdown",
      "source": [
        "\n",
        "Existem 3261 valores ausentes na variável `RainToday`."
      ]
    },
    {
      "metadata": {
        "id": "Kf1FHUkXKQXZ"
      },
      "cell_type": "markdown",
      "source": [
        "### Explorar Variáveis ​​Numéricas"
      ]
    },
    {
      "metadata": {
        "trusted": true,
        "colab": {
          "base_uri": "https://localhost:8080/"
        },
        "id": "G4UAN6TSKQXZ",
        "outputId": "358abea1-c1b4-47c6-d9ca-451604c7107c"
      },
      "cell_type": "code",
      "source": [
        "# find numerical variables\n",
        "\n",
        "numerical = [var for var in df.columns if df[var].dtype!='O']\n",
        "\n",
        "print('There are {} numerical variables\\n'.format(len(numerical)))\n",
        "\n",
        "print('The numerical variables are :', numerical)"
      ],
      "execution_count": null,
      "outputs": [
        {
          "output_type": "stream",
          "name": "stdout",
          "text": [
            "There are 19 numerical variables\n",
            "\n",
            "The numerical variables are : ['MinTemp', 'MaxTemp', 'Rainfall', 'Evaporation', 'Sunshine', 'WindGustSpeed', 'WindSpeed9am', 'WindSpeed3pm', 'Humidity9am', 'Humidity3pm', 'Pressure9am', 'Pressure3pm', 'Cloud9am', 'Cloud3pm', 'Temp9am', 'Temp3pm', 'Year', 'Month', 'Day']\n"
          ]
        }
      ]
    },
    {
      "metadata": {
        "trusted": true,
        "colab": {
          "base_uri": "https://localhost:8080/",
          "height": 250
        },
        "id": "gJ9zOWoBKQXa",
        "outputId": "561d7324-42df-430d-f4f9-90787b451aec"
      },
      "cell_type": "code",
      "source": [
        "# view the numerical variables\n",
        "\n",
        "df[numerical].head()"
      ],
      "execution_count": null,
      "outputs": [
        {
          "output_type": "execute_result",
          "data": {
            "text/html": [
              "\n",
              "  <div id=\"df-21ca276a-6d8a-4dc5-9f5a-94e2cb9378f4\">\n",
              "    <div class=\"colab-df-container\">\n",
              "      <div>\n",
              "<style scoped>\n",
              "    .dataframe tbody tr th:only-of-type {\n",
              "        vertical-align: middle;\n",
              "    }\n",
              "\n",
              "    .dataframe tbody tr th {\n",
              "        vertical-align: top;\n",
              "    }\n",
              "\n",
              "    .dataframe thead th {\n",
              "        text-align: right;\n",
              "    }\n",
              "</style>\n",
              "<table border=\"1\" class=\"dataframe\">\n",
              "  <thead>\n",
              "    <tr style=\"text-align: right;\">\n",
              "      <th></th>\n",
              "      <th>MinTemp</th>\n",
              "      <th>MaxTemp</th>\n",
              "      <th>Rainfall</th>\n",
              "      <th>Evaporation</th>\n",
              "      <th>Sunshine</th>\n",
              "      <th>WindGustSpeed</th>\n",
              "      <th>WindSpeed9am</th>\n",
              "      <th>WindSpeed3pm</th>\n",
              "      <th>Humidity9am</th>\n",
              "      <th>Humidity3pm</th>\n",
              "      <th>Pressure9am</th>\n",
              "      <th>Pressure3pm</th>\n",
              "      <th>Cloud9am</th>\n",
              "      <th>Cloud3pm</th>\n",
              "      <th>Temp9am</th>\n",
              "      <th>Temp3pm</th>\n",
              "      <th>Year</th>\n",
              "      <th>Month</th>\n",
              "      <th>Day</th>\n",
              "    </tr>\n",
              "  </thead>\n",
              "  <tbody>\n",
              "    <tr>\n",
              "      <th>0</th>\n",
              "      <td>13.4</td>\n",
              "      <td>22.9</td>\n",
              "      <td>0.6</td>\n",
              "      <td>NaN</td>\n",
              "      <td>NaN</td>\n",
              "      <td>44.0</td>\n",
              "      <td>20.0</td>\n",
              "      <td>24.0</td>\n",
              "      <td>71.0</td>\n",
              "      <td>22.0</td>\n",
              "      <td>1007.7</td>\n",
              "      <td>1007.1</td>\n",
              "      <td>8.0</td>\n",
              "      <td>NaN</td>\n",
              "      <td>16.9</td>\n",
              "      <td>21.8</td>\n",
              "      <td>2008</td>\n",
              "      <td>12</td>\n",
              "      <td>1</td>\n",
              "    </tr>\n",
              "    <tr>\n",
              "      <th>1</th>\n",
              "      <td>7.4</td>\n",
              "      <td>25.1</td>\n",
              "      <td>0.0</td>\n",
              "      <td>NaN</td>\n",
              "      <td>NaN</td>\n",
              "      <td>44.0</td>\n",
              "      <td>4.0</td>\n",
              "      <td>22.0</td>\n",
              "      <td>44.0</td>\n",
              "      <td>25.0</td>\n",
              "      <td>1010.6</td>\n",
              "      <td>1007.8</td>\n",
              "      <td>NaN</td>\n",
              "      <td>NaN</td>\n",
              "      <td>17.2</td>\n",
              "      <td>24.3</td>\n",
              "      <td>2008</td>\n",
              "      <td>12</td>\n",
              "      <td>2</td>\n",
              "    </tr>\n",
              "    <tr>\n",
              "      <th>2</th>\n",
              "      <td>12.9</td>\n",
              "      <td>25.7</td>\n",
              "      <td>0.0</td>\n",
              "      <td>NaN</td>\n",
              "      <td>NaN</td>\n",
              "      <td>46.0</td>\n",
              "      <td>19.0</td>\n",
              "      <td>26.0</td>\n",
              "      <td>38.0</td>\n",
              "      <td>30.0</td>\n",
              "      <td>1007.6</td>\n",
              "      <td>1008.7</td>\n",
              "      <td>NaN</td>\n",
              "      <td>2.0</td>\n",
              "      <td>21.0</td>\n",
              "      <td>23.2</td>\n",
              "      <td>2008</td>\n",
              "      <td>12</td>\n",
              "      <td>3</td>\n",
              "    </tr>\n",
              "    <tr>\n",
              "      <th>3</th>\n",
              "      <td>9.2</td>\n",
              "      <td>28.0</td>\n",
              "      <td>0.0</td>\n",
              "      <td>NaN</td>\n",
              "      <td>NaN</td>\n",
              "      <td>24.0</td>\n",
              "      <td>11.0</td>\n",
              "      <td>9.0</td>\n",
              "      <td>45.0</td>\n",
              "      <td>16.0</td>\n",
              "      <td>1017.6</td>\n",
              "      <td>1012.8</td>\n",
              "      <td>NaN</td>\n",
              "      <td>NaN</td>\n",
              "      <td>18.1</td>\n",
              "      <td>26.5</td>\n",
              "      <td>2008</td>\n",
              "      <td>12</td>\n",
              "      <td>4</td>\n",
              "    </tr>\n",
              "    <tr>\n",
              "      <th>4</th>\n",
              "      <td>17.5</td>\n",
              "      <td>32.3</td>\n",
              "      <td>1.0</td>\n",
              "      <td>NaN</td>\n",
              "      <td>NaN</td>\n",
              "      <td>41.0</td>\n",
              "      <td>7.0</td>\n",
              "      <td>20.0</td>\n",
              "      <td>82.0</td>\n",
              "      <td>33.0</td>\n",
              "      <td>1010.8</td>\n",
              "      <td>1006.0</td>\n",
              "      <td>7.0</td>\n",
              "      <td>8.0</td>\n",
              "      <td>17.8</td>\n",
              "      <td>29.7</td>\n",
              "      <td>2008</td>\n",
              "      <td>12</td>\n",
              "      <td>5</td>\n",
              "    </tr>\n",
              "  </tbody>\n",
              "</table>\n",
              "</div>\n",
              "      <button class=\"colab-df-convert\" onclick=\"convertToInteractive('df-21ca276a-6d8a-4dc5-9f5a-94e2cb9378f4')\"\n",
              "              title=\"Convert this dataframe to an interactive table.\"\n",
              "              style=\"display:none;\">\n",
              "        \n",
              "  <svg xmlns=\"http://www.w3.org/2000/svg\" height=\"24px\"viewBox=\"0 0 24 24\"\n",
              "       width=\"24px\">\n",
              "    <path d=\"M0 0h24v24H0V0z\" fill=\"none\"/>\n",
              "    <path d=\"M18.56 5.44l.94 2.06.94-2.06 2.06-.94-2.06-.94-.94-2.06-.94 2.06-2.06.94zm-11 1L8.5 8.5l.94-2.06 2.06-.94-2.06-.94L8.5 2.5l-.94 2.06-2.06.94zm10 10l.94 2.06.94-2.06 2.06-.94-2.06-.94-.94-2.06-.94 2.06-2.06.94z\"/><path d=\"M17.41 7.96l-1.37-1.37c-.4-.4-.92-.59-1.43-.59-.52 0-1.04.2-1.43.59L10.3 9.45l-7.72 7.72c-.78.78-.78 2.05 0 2.83L4 21.41c.39.39.9.59 1.41.59.51 0 1.02-.2 1.41-.59l7.78-7.78 2.81-2.81c.8-.78.8-2.07 0-2.86zM5.41 20L4 18.59l7.72-7.72 1.47 1.35L5.41 20z\"/>\n",
              "  </svg>\n",
              "      </button>\n",
              "      \n",
              "  <style>\n",
              "    .colab-df-container {\n",
              "      display:flex;\n",
              "      flex-wrap:wrap;\n",
              "      gap: 12px;\n",
              "    }\n",
              "\n",
              "    .colab-df-convert {\n",
              "      background-color: #E8F0FE;\n",
              "      border: none;\n",
              "      border-radius: 50%;\n",
              "      cursor: pointer;\n",
              "      display: none;\n",
              "      fill: #1967D2;\n",
              "      height: 32px;\n",
              "      padding: 0 0 0 0;\n",
              "      width: 32px;\n",
              "    }\n",
              "\n",
              "    .colab-df-convert:hover {\n",
              "      background-color: #E2EBFA;\n",
              "      box-shadow: 0px 1px 2px rgba(60, 64, 67, 0.3), 0px 1px 3px 1px rgba(60, 64, 67, 0.15);\n",
              "      fill: #174EA6;\n",
              "    }\n",
              "\n",
              "    [theme=dark] .colab-df-convert {\n",
              "      background-color: #3B4455;\n",
              "      fill: #D2E3FC;\n",
              "    }\n",
              "\n",
              "    [theme=dark] .colab-df-convert:hover {\n",
              "      background-color: #434B5C;\n",
              "      box-shadow: 0px 1px 3px 1px rgba(0, 0, 0, 0.15);\n",
              "      filter: drop-shadow(0px 1px 2px rgba(0, 0, 0, 0.3));\n",
              "      fill: #FFFFFF;\n",
              "    }\n",
              "  </style>\n",
              "\n",
              "      <script>\n",
              "        const buttonEl =\n",
              "          document.querySelector('#df-21ca276a-6d8a-4dc5-9f5a-94e2cb9378f4 button.colab-df-convert');\n",
              "        buttonEl.style.display =\n",
              "          google.colab.kernel.accessAllowed ? 'block' : 'none';\n",
              "\n",
              "        async function convertToInteractive(key) {\n",
              "          const element = document.querySelector('#df-21ca276a-6d8a-4dc5-9f5a-94e2cb9378f4');\n",
              "          const dataTable =\n",
              "            await google.colab.kernel.invokeFunction('convertToInteractive',\n",
              "                                                     [key], {});\n",
              "          if (!dataTable) return;\n",
              "\n",
              "          const docLinkHtml = 'Like what you see? Visit the ' +\n",
              "            '<a target=\"_blank\" href=https://colab.research.google.com/notebooks/data_table.ipynb>data table notebook</a>'\n",
              "            + ' to learn more about interactive tables.';\n",
              "          element.innerHTML = '';\n",
              "          dataTable['output_type'] = 'display_data';\n",
              "          await google.colab.output.renderOutput(dataTable, element);\n",
              "          const docLink = document.createElement('div');\n",
              "          docLink.innerHTML = docLinkHtml;\n",
              "          element.appendChild(docLink);\n",
              "        }\n",
              "      </script>\n",
              "    </div>\n",
              "  </div>\n",
              "  "
            ],
            "text/plain": [
              "   MinTemp  MaxTemp  Rainfall  Evaporation  ...  Temp3pm  Year  Month  Day\n",
              "0     13.4     22.9       0.6          NaN  ...     21.8  2008     12    1\n",
              "1      7.4     25.1       0.0          NaN  ...     24.3  2008     12    2\n",
              "2     12.9     25.7       0.0          NaN  ...     23.2  2008     12    3\n",
              "3      9.2     28.0       0.0          NaN  ...     26.5  2008     12    4\n",
              "4     17.5     32.3       1.0          NaN  ...     29.7  2008     12    5\n",
              "\n",
              "[5 rows x 19 columns]"
            ]
          },
          "metadata": {},
          "execution_count": 514
        }
      ]
    },
    {
      "metadata": {
        "id": "y-8J2lZAKQXa"
      },
      "cell_type": "markdown",
      "source": [
        "### Resumo das variáveis ​​numéricas\n",
        "\n",
        "\n",
        "- Existem 16 variáveis ​​numéricas.\n",
        "\n",
        "\n",
        "- São fornecidos por `MinTemp`,` MaxTemp`, `Rainfall`,` Evaporation`, `Sunshine`,` WindGustSpeed`, `WindSpeed9am`,` WindSpeed3pm`, `Humidity9am`,` Humidity3pm`, `Pressure9am`,` Pressure3pm`, `Cloud9am`,` Cloud3pm`, `Temp9am` e` Temp3pm`.\n",
        "### Resumo das variáveis ​​numéricas\n",
        "\n",
        "\n",
        "- Existem 16 variáveis ​​numéricas.\n",
        "\n",
        "\n",
        "- São fornecidos por `MinTemp`,` MaxTemp`, `Rainfall`,` Evaporation`, `Sunshine`,` WindGustSpeed`, `WindSpeed9am`,` WindSpeed3pm`, `Humidity9am`,` Humidity3pm`, `Pressure9am`,` Pressure3pm`, `Cloud9am`,` Cloud3pm`, `Temp9am` e` Temp3pm`.\n",
        "\n",
        "- Todas as variáveis ​​numéricas são do tipo contínuo."
      ]
    },
    {
      "cell_type": "code",
      "source": [
        ""
      ],
      "metadata": {
        "id": "6KgbhLdDd3-i"
      },
      "execution_count": null,
      "outputs": []
    },
    {
      "metadata": {
        "id": "mVUcGdOMKQXa"
      },
      "cell_type": "markdown",
      "source": [
        "\n",
        "## Explorar problemas dentro de variáveis ​​numéricas\n",
        "\n",
        "\n",
        "Agora, explorarei as variáveis ​​numéricas.\n",
        "\n",
        "\n",
        "### Valores ausentes em variáveis ​​numéricas"
      ]
    },
    {
      "metadata": {
        "trusted": true,
        "colab": {
          "base_uri": "https://localhost:8080/"
        },
        "id": "Sph2YOZqKQXa",
        "outputId": "bae5c4f1-b1a4-4b23-8eec-4029de1b9606"
      },
      "cell_type": "code",
      "source": [
        "# check missing values in numerical variables\n",
        "\n",
        "df[numerical].isnull().sum()"
      ],
      "execution_count": null,
      "outputs": [
        {
          "output_type": "execute_result",
          "data": {
            "text/plain": [
              "MinTemp           1485\n",
              "MaxTemp           1261\n",
              "Rainfall          3261\n",
              "Evaporation      62790\n",
              "Sunshine         69835\n",
              "WindGustSpeed    10263\n",
              "WindSpeed9am      1767\n",
              "WindSpeed3pm      3062\n",
              "Humidity9am       2654\n",
              "Humidity3pm       4507\n",
              "Pressure9am      15065\n",
              "Pressure3pm      15028\n",
              "Cloud9am         55888\n",
              "Cloud3pm         59358\n",
              "Temp9am           1767\n",
              "Temp3pm           3609\n",
              "Year                 0\n",
              "Month                0\n",
              "Day                  0\n",
              "dtype: int64"
            ]
          },
          "metadata": {},
          "execution_count": 515
        }
      ]
    },
    {
      "metadata": {
        "id": "go2qEXBOKQXa"
      },
      "cell_type": "markdown",
      "source": [
        "Podemos ver que todas as 16 variáveis ​​numéricas contêm valores ausentes."
      ]
    },
    {
      "cell_type": "code",
      "source": [
        "total = df[numerical].isnull().sum().sort_values(ascending = False)\n",
        "percent = (df[numerical].isnull().sum()/df[numerical].isnull().count()*100).sort_values(ascending = False)\n",
        "missing_data  = pd.concat([total, percent], axis=1, keys=['Total', 'Percent'])\n",
        "missing_data"
      ],
      "metadata": {
        "colab": {
          "base_uri": "https://localhost:8080/",
          "height": 645
        },
        "id": "0f6V2g9GeNaC",
        "outputId": "2e09bc7a-d939-4115-c58f-32a1e3f40d6e"
      },
      "execution_count": null,
      "outputs": [
        {
          "output_type": "execute_result",
          "data": {
            "text/html": [
              "\n",
              "  <div id=\"df-e0a612c8-f807-4ea7-8f74-5b84d2997c20\">\n",
              "    <div class=\"colab-df-container\">\n",
              "      <div>\n",
              "<style scoped>\n",
              "    .dataframe tbody tr th:only-of-type {\n",
              "        vertical-align: middle;\n",
              "    }\n",
              "\n",
              "    .dataframe tbody tr th {\n",
              "        vertical-align: top;\n",
              "    }\n",
              "\n",
              "    .dataframe thead th {\n",
              "        text-align: right;\n",
              "    }\n",
              "</style>\n",
              "<table border=\"1\" class=\"dataframe\">\n",
              "  <thead>\n",
              "    <tr style=\"text-align: right;\">\n",
              "      <th></th>\n",
              "      <th>Total</th>\n",
              "      <th>Percent</th>\n",
              "    </tr>\n",
              "  </thead>\n",
              "  <tbody>\n",
              "    <tr>\n",
              "      <th>Sunshine</th>\n",
              "      <td>69835</td>\n",
              "      <td>48.009762</td>\n",
              "    </tr>\n",
              "    <tr>\n",
              "      <th>Evaporation</th>\n",
              "      <td>62790</td>\n",
              "      <td>43.166506</td>\n",
              "    </tr>\n",
              "    <tr>\n",
              "      <th>Cloud3pm</th>\n",
              "      <td>59358</td>\n",
              "      <td>40.807095</td>\n",
              "    </tr>\n",
              "    <tr>\n",
              "      <th>Cloud9am</th>\n",
              "      <td>55888</td>\n",
              "      <td>38.421559</td>\n",
              "    </tr>\n",
              "    <tr>\n",
              "      <th>Pressure9am</th>\n",
              "      <td>15065</td>\n",
              "      <td>10.356799</td>\n",
              "    </tr>\n",
              "    <tr>\n",
              "      <th>Pressure3pm</th>\n",
              "      <td>15028</td>\n",
              "      <td>10.331363</td>\n",
              "    </tr>\n",
              "    <tr>\n",
              "      <th>WindGustSpeed</th>\n",
              "      <td>10263</td>\n",
              "      <td>7.055548</td>\n",
              "    </tr>\n",
              "    <tr>\n",
              "      <th>Humidity3pm</th>\n",
              "      <td>4507</td>\n",
              "      <td>3.098446</td>\n",
              "    </tr>\n",
              "    <tr>\n",
              "      <th>Temp3pm</th>\n",
              "      <td>3609</td>\n",
              "      <td>2.481094</td>\n",
              "    </tr>\n",
              "    <tr>\n",
              "      <th>Rainfall</th>\n",
              "      <td>3261</td>\n",
              "      <td>2.241853</td>\n",
              "    </tr>\n",
              "    <tr>\n",
              "      <th>WindSpeed3pm</th>\n",
              "      <td>3062</td>\n",
              "      <td>2.105046</td>\n",
              "    </tr>\n",
              "    <tr>\n",
              "      <th>Humidity9am</th>\n",
              "      <td>2654</td>\n",
              "      <td>1.824557</td>\n",
              "    </tr>\n",
              "    <tr>\n",
              "      <th>Temp9am</th>\n",
              "      <td>1767</td>\n",
              "      <td>1.214767</td>\n",
              "    </tr>\n",
              "    <tr>\n",
              "      <th>WindSpeed9am</th>\n",
              "      <td>1767</td>\n",
              "      <td>1.214767</td>\n",
              "    </tr>\n",
              "    <tr>\n",
              "      <th>MinTemp</th>\n",
              "      <td>1485</td>\n",
              "      <td>1.020899</td>\n",
              "    </tr>\n",
              "    <tr>\n",
              "      <th>MaxTemp</th>\n",
              "      <td>1261</td>\n",
              "      <td>0.866905</td>\n",
              "    </tr>\n",
              "    <tr>\n",
              "      <th>Month</th>\n",
              "      <td>0</td>\n",
              "      <td>0.000000</td>\n",
              "    </tr>\n",
              "    <tr>\n",
              "      <th>Year</th>\n",
              "      <td>0</td>\n",
              "      <td>0.000000</td>\n",
              "    </tr>\n",
              "    <tr>\n",
              "      <th>Day</th>\n",
              "      <td>0</td>\n",
              "      <td>0.000000</td>\n",
              "    </tr>\n",
              "  </tbody>\n",
              "</table>\n",
              "</div>\n",
              "      <button class=\"colab-df-convert\" onclick=\"convertToInteractive('df-e0a612c8-f807-4ea7-8f74-5b84d2997c20')\"\n",
              "              title=\"Convert this dataframe to an interactive table.\"\n",
              "              style=\"display:none;\">\n",
              "        \n",
              "  <svg xmlns=\"http://www.w3.org/2000/svg\" height=\"24px\"viewBox=\"0 0 24 24\"\n",
              "       width=\"24px\">\n",
              "    <path d=\"M0 0h24v24H0V0z\" fill=\"none\"/>\n",
              "    <path d=\"M18.56 5.44l.94 2.06.94-2.06 2.06-.94-2.06-.94-.94-2.06-.94 2.06-2.06.94zm-11 1L8.5 8.5l.94-2.06 2.06-.94-2.06-.94L8.5 2.5l-.94 2.06-2.06.94zm10 10l.94 2.06.94-2.06 2.06-.94-2.06-.94-.94-2.06-.94 2.06-2.06.94z\"/><path d=\"M17.41 7.96l-1.37-1.37c-.4-.4-.92-.59-1.43-.59-.52 0-1.04.2-1.43.59L10.3 9.45l-7.72 7.72c-.78.78-.78 2.05 0 2.83L4 21.41c.39.39.9.59 1.41.59.51 0 1.02-.2 1.41-.59l7.78-7.78 2.81-2.81c.8-.78.8-2.07 0-2.86zM5.41 20L4 18.59l7.72-7.72 1.47 1.35L5.41 20z\"/>\n",
              "  </svg>\n",
              "      </button>\n",
              "      \n",
              "  <style>\n",
              "    .colab-df-container {\n",
              "      display:flex;\n",
              "      flex-wrap:wrap;\n",
              "      gap: 12px;\n",
              "    }\n",
              "\n",
              "    .colab-df-convert {\n",
              "      background-color: #E8F0FE;\n",
              "      border: none;\n",
              "      border-radius: 50%;\n",
              "      cursor: pointer;\n",
              "      display: none;\n",
              "      fill: #1967D2;\n",
              "      height: 32px;\n",
              "      padding: 0 0 0 0;\n",
              "      width: 32px;\n",
              "    }\n",
              "\n",
              "    .colab-df-convert:hover {\n",
              "      background-color: #E2EBFA;\n",
              "      box-shadow: 0px 1px 2px rgba(60, 64, 67, 0.3), 0px 1px 3px 1px rgba(60, 64, 67, 0.15);\n",
              "      fill: #174EA6;\n",
              "    }\n",
              "\n",
              "    [theme=dark] .colab-df-convert {\n",
              "      background-color: #3B4455;\n",
              "      fill: #D2E3FC;\n",
              "    }\n",
              "\n",
              "    [theme=dark] .colab-df-convert:hover {\n",
              "      background-color: #434B5C;\n",
              "      box-shadow: 0px 1px 3px 1px rgba(0, 0, 0, 0.15);\n",
              "      filter: drop-shadow(0px 1px 2px rgba(0, 0, 0, 0.3));\n",
              "      fill: #FFFFFF;\n",
              "    }\n",
              "  </style>\n",
              "\n",
              "      <script>\n",
              "        const buttonEl =\n",
              "          document.querySelector('#df-e0a612c8-f807-4ea7-8f74-5b84d2997c20 button.colab-df-convert');\n",
              "        buttonEl.style.display =\n",
              "          google.colab.kernel.accessAllowed ? 'block' : 'none';\n",
              "\n",
              "        async function convertToInteractive(key) {\n",
              "          const element = document.querySelector('#df-e0a612c8-f807-4ea7-8f74-5b84d2997c20');\n",
              "          const dataTable =\n",
              "            await google.colab.kernel.invokeFunction('convertToInteractive',\n",
              "                                                     [key], {});\n",
              "          if (!dataTable) return;\n",
              "\n",
              "          const docLinkHtml = 'Like what you see? Visit the ' +\n",
              "            '<a target=\"_blank\" href=https://colab.research.google.com/notebooks/data_table.ipynb>data table notebook</a>'\n",
              "            + ' to learn more about interactive tables.';\n",
              "          element.innerHTML = '';\n",
              "          dataTable['output_type'] = 'display_data';\n",
              "          await google.colab.output.renderOutput(dataTable, element);\n",
              "          const docLink = document.createElement('div');\n",
              "          docLink.innerHTML = docLinkHtml;\n",
              "          element.appendChild(docLink);\n",
              "        }\n",
              "      </script>\n",
              "    </div>\n",
              "  </div>\n",
              "  "
            ],
            "text/plain": [
              "               Total    Percent\n",
              "Sunshine       69835  48.009762\n",
              "Evaporation    62790  43.166506\n",
              "Cloud3pm       59358  40.807095\n",
              "Cloud9am       55888  38.421559\n",
              "Pressure9am    15065  10.356799\n",
              "Pressure3pm    15028  10.331363\n",
              "WindGustSpeed  10263   7.055548\n",
              "Humidity3pm     4507   3.098446\n",
              "Temp3pm         3609   2.481094\n",
              "Rainfall        3261   2.241853\n",
              "WindSpeed3pm    3062   2.105046\n",
              "Humidity9am     2654   1.824557\n",
              "Temp9am         1767   1.214767\n",
              "WindSpeed9am    1767   1.214767\n",
              "MinTemp         1485   1.020899\n",
              "MaxTemp         1261   0.866905\n",
              "Month              0   0.000000\n",
              "Year               0   0.000000\n",
              "Day                0   0.000000"
            ]
          },
          "metadata": {},
          "execution_count": 516
        }
      ]
    },
    {
      "metadata": {
        "id": "NUOiOXb2KQXb"
      },
      "cell_type": "markdown",
      "source": [
        "### Outliers in numerical variables"
      ]
    },
    {
      "metadata": {
        "trusted": true,
        "colab": {
          "base_uri": "https://localhost:8080/"
        },
        "id": "I_oQRVBJKQXb",
        "outputId": "f9b1b837-28ad-4096-be41-752b3688e8ce"
      },
      "cell_type": "code",
      "source": [
        "# view summary statistics in numerical variables\n",
        "\n",
        "print(round(df[numerical].describe().T,2))"
      ],
      "execution_count": null,
      "outputs": [
        {
          "output_type": "stream",
          "name": "stdout",
          "text": [
            "                  count     mean    std     min     25%     50%     75%     max\n",
            "MinTemp        143975.0    12.19   6.40    -8.5     7.6    12.0    16.9    33.9\n",
            "MaxTemp        144199.0    23.22   7.12    -4.8    17.9    22.6    28.2    48.1\n",
            "Rainfall       142199.0     2.36   8.48     0.0     0.0     0.0     0.8   371.0\n",
            "Evaporation     82670.0     5.47   4.19     0.0     2.6     4.8     7.4   145.0\n",
            "Sunshine        75625.0     7.61   3.79     0.0     4.8     8.4    10.6    14.5\n",
            "WindGustSpeed  135197.0    40.04  13.61     6.0    31.0    39.0    48.0   135.0\n",
            "WindSpeed9am   143693.0    14.04   8.92     0.0     7.0    13.0    19.0   130.0\n",
            "WindSpeed3pm   142398.0    18.66   8.81     0.0    13.0    19.0    24.0    87.0\n",
            "Humidity9am    142806.0    68.88  19.03     0.0    57.0    70.0    83.0   100.0\n",
            "Humidity3pm    140953.0    51.54  20.80     0.0    37.0    52.0    66.0   100.0\n",
            "Pressure9am    130395.0  1017.65   7.11   980.5  1012.9  1017.6  1022.4  1041.0\n",
            "Pressure3pm    130432.0  1015.26   7.04   977.1  1010.4  1015.2  1020.0  1039.6\n",
            "Cloud9am        89572.0     4.45   2.89     0.0     1.0     5.0     7.0     9.0\n",
            "Cloud3pm        86102.0     4.51   2.72     0.0     2.0     5.0     7.0     9.0\n",
            "Temp9am        143693.0    16.99   6.49    -7.2    12.3    16.7    21.6    40.2\n",
            "Temp3pm        141851.0    21.68   6.94    -5.4    16.6    21.1    26.4    46.7\n",
            "Year           145460.0  2012.77   2.54  2007.0  2011.0  2013.0  2015.0  2017.0\n",
            "Month          145460.0     6.40   3.43     1.0     3.0     6.0     9.0    12.0\n",
            "Day            145460.0    15.71   8.79     1.0     8.0    16.0    23.0    31.0\n"
          ]
        }
      ]
    },
    {
      "metadata": {
        "id": "uDAGzgQOKQXb"
      },
      "cell_type": "markdown",
      "source": [
        "Em uma inspeção mais detalhada, podemos ver que as colunas `Rainfall`,` Evaporation`, `WindSpeed9am` e` WindSpeed3pm` podem conter outliers.\n",
        "\n",
        "\n",
        "Vou desenhar boxplots para visualizar outliers nas variáveis ​​acima."
      ]
    },
    {
      "cell_type": "code",
      "source": [
        "# analysis of numerical variables\n",
        "df[[\"Rainfall\", \"Evaporation\", 'WindSpeed9am', 'WindSpeed3pm']].describe([0.05, 0.10, 0.25, 0.50, 0.75, 0.80, 0.90, 0.95, 0.99]).T"
      ],
      "metadata": {
        "colab": {
          "base_uri": "https://localhost:8080/",
          "height": 175
        },
        "id": "RsjymPREfrM5",
        "outputId": "578330b2-5949-4455-8fa8-5b558b31dd59"
      },
      "execution_count": null,
      "outputs": [
        {
          "output_type": "execute_result",
          "data": {
            "text/html": [
              "\n",
              "  <div id=\"df-79842dfe-381e-491a-bb45-8de43d0703a7\">\n",
              "    <div class=\"colab-df-container\">\n",
              "      <div>\n",
              "<style scoped>\n",
              "    .dataframe tbody tr th:only-of-type {\n",
              "        vertical-align: middle;\n",
              "    }\n",
              "\n",
              "    .dataframe tbody tr th {\n",
              "        vertical-align: top;\n",
              "    }\n",
              "\n",
              "    .dataframe thead th {\n",
              "        text-align: right;\n",
              "    }\n",
              "</style>\n",
              "<table border=\"1\" class=\"dataframe\">\n",
              "  <thead>\n",
              "    <tr style=\"text-align: right;\">\n",
              "      <th></th>\n",
              "      <th>count</th>\n",
              "      <th>mean</th>\n",
              "      <th>std</th>\n",
              "      <th>min</th>\n",
              "      <th>5%</th>\n",
              "      <th>10%</th>\n",
              "      <th>25%</th>\n",
              "      <th>50%</th>\n",
              "      <th>75%</th>\n",
              "      <th>80%</th>\n",
              "      <th>90%</th>\n",
              "      <th>95%</th>\n",
              "      <th>99%</th>\n",
              "      <th>max</th>\n",
              "    </tr>\n",
              "  </thead>\n",
              "  <tbody>\n",
              "    <tr>\n",
              "      <th>Rainfall</th>\n",
              "      <td>142199.0</td>\n",
              "      <td>2.360918</td>\n",
              "      <td>8.478060</td>\n",
              "      <td>0.0</td>\n",
              "      <td>0.0</td>\n",
              "      <td>0.0</td>\n",
              "      <td>0.0</td>\n",
              "      <td>0.0</td>\n",
              "      <td>0.8</td>\n",
              "      <td>1.6</td>\n",
              "      <td>6.2</td>\n",
              "      <td>13.0</td>\n",
              "      <td>37.4</td>\n",
              "      <td>371.0</td>\n",
              "    </tr>\n",
              "    <tr>\n",
              "      <th>Evaporation</th>\n",
              "      <td>82670.0</td>\n",
              "      <td>5.468232</td>\n",
              "      <td>4.193704</td>\n",
              "      <td>0.0</td>\n",
              "      <td>1.0</td>\n",
              "      <td>1.4</td>\n",
              "      <td>2.6</td>\n",
              "      <td>4.8</td>\n",
              "      <td>7.4</td>\n",
              "      <td>8.0</td>\n",
              "      <td>10.2</td>\n",
              "      <td>12.0</td>\n",
              "      <td>18.4</td>\n",
              "      <td>145.0</td>\n",
              "    </tr>\n",
              "    <tr>\n",
              "      <th>WindSpeed9am</th>\n",
              "      <td>143693.0</td>\n",
              "      <td>14.043426</td>\n",
              "      <td>8.915375</td>\n",
              "      <td>0.0</td>\n",
              "      <td>0.0</td>\n",
              "      <td>4.0</td>\n",
              "      <td>7.0</td>\n",
              "      <td>13.0</td>\n",
              "      <td>19.0</td>\n",
              "      <td>20.0</td>\n",
              "      <td>26.0</td>\n",
              "      <td>30.0</td>\n",
              "      <td>39.0</td>\n",
              "      <td>130.0</td>\n",
              "    </tr>\n",
              "    <tr>\n",
              "      <th>WindSpeed3pm</th>\n",
              "      <td>142398.0</td>\n",
              "      <td>18.662657</td>\n",
              "      <td>8.809800</td>\n",
              "      <td>0.0</td>\n",
              "      <td>6.0</td>\n",
              "      <td>9.0</td>\n",
              "      <td>13.0</td>\n",
              "      <td>19.0</td>\n",
              "      <td>24.0</td>\n",
              "      <td>26.0</td>\n",
              "      <td>30.0</td>\n",
              "      <td>35.0</td>\n",
              "      <td>43.0</td>\n",
              "      <td>87.0</td>\n",
              "    </tr>\n",
              "  </tbody>\n",
              "</table>\n",
              "</div>\n",
              "      <button class=\"colab-df-convert\" onclick=\"convertToInteractive('df-79842dfe-381e-491a-bb45-8de43d0703a7')\"\n",
              "              title=\"Convert this dataframe to an interactive table.\"\n",
              "              style=\"display:none;\">\n",
              "        \n",
              "  <svg xmlns=\"http://www.w3.org/2000/svg\" height=\"24px\"viewBox=\"0 0 24 24\"\n",
              "       width=\"24px\">\n",
              "    <path d=\"M0 0h24v24H0V0z\" fill=\"none\"/>\n",
              "    <path d=\"M18.56 5.44l.94 2.06.94-2.06 2.06-.94-2.06-.94-.94-2.06-.94 2.06-2.06.94zm-11 1L8.5 8.5l.94-2.06 2.06-.94-2.06-.94L8.5 2.5l-.94 2.06-2.06.94zm10 10l.94 2.06.94-2.06 2.06-.94-2.06-.94-.94-2.06-.94 2.06-2.06.94z\"/><path d=\"M17.41 7.96l-1.37-1.37c-.4-.4-.92-.59-1.43-.59-.52 0-1.04.2-1.43.59L10.3 9.45l-7.72 7.72c-.78.78-.78 2.05 0 2.83L4 21.41c.39.39.9.59 1.41.59.51 0 1.02-.2 1.41-.59l7.78-7.78 2.81-2.81c.8-.78.8-2.07 0-2.86zM5.41 20L4 18.59l7.72-7.72 1.47 1.35L5.41 20z\"/>\n",
              "  </svg>\n",
              "      </button>\n",
              "      \n",
              "  <style>\n",
              "    .colab-df-container {\n",
              "      display:flex;\n",
              "      flex-wrap:wrap;\n",
              "      gap: 12px;\n",
              "    }\n",
              "\n",
              "    .colab-df-convert {\n",
              "      background-color: #E8F0FE;\n",
              "      border: none;\n",
              "      border-radius: 50%;\n",
              "      cursor: pointer;\n",
              "      display: none;\n",
              "      fill: #1967D2;\n",
              "      height: 32px;\n",
              "      padding: 0 0 0 0;\n",
              "      width: 32px;\n",
              "    }\n",
              "\n",
              "    .colab-df-convert:hover {\n",
              "      background-color: #E2EBFA;\n",
              "      box-shadow: 0px 1px 2px rgba(60, 64, 67, 0.3), 0px 1px 3px 1px rgba(60, 64, 67, 0.15);\n",
              "      fill: #174EA6;\n",
              "    }\n",
              "\n",
              "    [theme=dark] .colab-df-convert {\n",
              "      background-color: #3B4455;\n",
              "      fill: #D2E3FC;\n",
              "    }\n",
              "\n",
              "    [theme=dark] .colab-df-convert:hover {\n",
              "      background-color: #434B5C;\n",
              "      box-shadow: 0px 1px 3px 1px rgba(0, 0, 0, 0.15);\n",
              "      filter: drop-shadow(0px 1px 2px rgba(0, 0, 0, 0.3));\n",
              "      fill: #FFFFFF;\n",
              "    }\n",
              "  </style>\n",
              "\n",
              "      <script>\n",
              "        const buttonEl =\n",
              "          document.querySelector('#df-79842dfe-381e-491a-bb45-8de43d0703a7 button.colab-df-convert');\n",
              "        buttonEl.style.display =\n",
              "          google.colab.kernel.accessAllowed ? 'block' : 'none';\n",
              "\n",
              "        async function convertToInteractive(key) {\n",
              "          const element = document.querySelector('#df-79842dfe-381e-491a-bb45-8de43d0703a7');\n",
              "          const dataTable =\n",
              "            await google.colab.kernel.invokeFunction('convertToInteractive',\n",
              "                                                     [key], {});\n",
              "          if (!dataTable) return;\n",
              "\n",
              "          const docLinkHtml = 'Like what you see? Visit the ' +\n",
              "            '<a target=\"_blank\" href=https://colab.research.google.com/notebooks/data_table.ipynb>data table notebook</a>'\n",
              "            + ' to learn more about interactive tables.';\n",
              "          element.innerHTML = '';\n",
              "          dataTable['output_type'] = 'display_data';\n",
              "          await google.colab.output.renderOutput(dataTable, element);\n",
              "          const docLink = document.createElement('div');\n",
              "          docLink.innerHTML = docLinkHtml;\n",
              "          element.appendChild(docLink);\n",
              "        }\n",
              "      </script>\n",
              "    </div>\n",
              "  </div>\n",
              "  "
            ],
            "text/plain": [
              "                 count       mean       std  min  ...   90%   95%   99%    max\n",
              "Rainfall      142199.0   2.360918  8.478060  0.0  ...   6.2  13.0  37.4  371.0\n",
              "Evaporation    82670.0   5.468232  4.193704  0.0  ...  10.2  12.0  18.4  145.0\n",
              "WindSpeed9am  143693.0  14.043426  8.915375  0.0  ...  26.0  30.0  39.0  130.0\n",
              "WindSpeed3pm  142398.0  18.662657  8.809800  0.0  ...  30.0  35.0  43.0   87.0\n",
              "\n",
              "[4 rows x 14 columns]"
            ]
          },
          "metadata": {},
          "execution_count": 518
        }
      ]
    },
    {
      "cell_type": "code",
      "source": [
        "def num_summary(dataframe, numerical_col, plot=False, plot_type=\"hist\"):\n",
        "    quantiles = [0.05, 0.10, 0.25, 0.50, 0.75, 0.80, 0.90, 0.95, 0.99]\n",
        "    print(dataframe[numerical_col].describe(quantiles).T)\n",
        "    if plot:\n",
        "        if plot_type == \"hist\":\n",
        "            sns.set_theme(style=\"whitegrid\",palette=\"Set2\")\n",
        "            dataframe[numerical_col].hist(bins=30)\n",
        "            plt.xlabel(numerical_col)\n",
        "            plt.title(numerical_col)\n",
        "            plt.show()\n",
        "        \n",
        "        elif plot_type == \"box_plot\":\n",
        "            sns.set_theme(style=\"whitegrid\",palette=\"Set2\")\n",
        "            sns.set_theme(style=\"whitegrid\")\n",
        "            sns.boxplot(x=dataframe[numerical_col], palette=\"Set2\")\n",
        "            plt.xlabel(numerical_col)\n",
        "            plt.title(numerical_col)\n",
        "            plt.show()\n",
        "        else:\n",
        "            print(\"Not correct chart type\")"
      ],
      "metadata": {
        "id": "KIk4FxWaTzKz"
      },
      "execution_count": null,
      "outputs": []
    },
    {
      "cell_type": "code",
      "source": [
        "num_cols= df[[\"Rainfall\", \"Evaporation\", 'WindSpeed9am', 'WindSpeed3pm']]\n",
        "for col in num_cols:\n",
        "    num_summary(df, col, plot=True, plot_type=\"box_plot\")"
      ],
      "metadata": {
        "colab": {
          "base_uri": "https://localhost:8080/",
          "height": 1000
        },
        "id": "7c-eOVXiT2qf",
        "outputId": "8ba1942f-6e48-4211-abc9-ff3b1a0283b8"
      },
      "execution_count": null,
      "outputs": [
        {
          "output_type": "stream",
          "name": "stdout",
          "text": [
            "count    142199.000000\n",
            "mean          2.360918\n",
            "std           8.478060\n",
            "min           0.000000\n",
            "5%            0.000000\n",
            "10%           0.000000\n",
            "25%           0.000000\n",
            "50%           0.000000\n",
            "75%           0.800000\n",
            "80%           1.600000\n",
            "90%           6.200000\n",
            "95%          13.000000\n",
            "99%          37.400000\n",
            "max         371.000000\n",
            "Name: Rainfall, dtype: float64\n"
          ]
        },
        {
          "output_type": "display_data",
          "data": {
            "image/png": "[encoded data removed]",
            "text/plain": [
              "<Figure size 432x288 with 1 Axes>"
            ]
          },
          "metadata": {}
        },
        {
          "output_type": "stream",
          "name": "stdout",
          "text": [
            "count    82670.000000\n",
            "mean         5.468232\n",
            "std          4.193704\n",
            "min          0.000000\n",
            "5%           1.000000\n",
            "10%          1.400000\n",
            "25%          2.600000\n",
            "50%          4.800000\n",
            "75%          7.400000\n",
            "80%          8.000000\n",
            "90%         10.200000\n",
            "95%         12.000000\n",
            "99%         18.400000\n",
            "max        145.000000\n",
            "Name: Evaporation, dtype: float64\n"
          ]
        },
        {
          "output_type": "display_data",
          "data": {
            "image/png": "[encoded data removed]",
            "text/plain": [
              "<Figure size 432x288 with 1 Axes>"
            ]
          },
          "metadata": {}
        },
        {
          "output_type": "stream",
          "name": "stdout",
          "text": [
            "count    143693.000000\n",
            "mean         14.043426\n",
            "std           8.915375\n",
            "min           0.000000\n",
            "5%            0.000000\n",
            "10%           4.000000\n",
            "25%           7.000000\n",
            "50%          13.000000\n",
            "75%          19.000000\n",
            "80%          20.000000\n",
            "90%          26.000000\n",
            "95%          30.000000\n",
            "99%          39.000000\n",
            "max         130.000000\n",
            "Name: WindSpeed9am, dtype: float64\n"
          ]
        },
        {
          "output_type": "display_data",
          "data": {
            "image/png": "[encoded data removed]",
            "text/plain": [
              "<Figure size 432x288 with 1 Axes>"
            ]
          },
          "metadata": {}
        },
        {
          "output_type": "stream",
          "name": "stdout",
          "text": [
            "count    142398.000000\n",
            "mean         18.662657\n",
            "std           8.809800\n",
            "min           0.000000\n",
            "5%            6.000000\n",
            "10%           9.000000\n",
            "25%          13.000000\n",
            "50%          19.000000\n",
            "75%          24.000000\n",
            "80%          26.000000\n",
            "90%          30.000000\n",
            "95%          35.000000\n",
            "99%          43.000000\n",
            "max          87.000000\n",
            "Name: WindSpeed3pm, dtype: float64\n"
          ]
        },
        {
          "output_type": "display_data",
          "data": {
            "image/png": "[encoded data removed]",
            "text/plain": [
              "<Figure size 432x288 with 1 Axes>"
            ]
          },
          "metadata": {}
        }
      ]
    },
    {
      "metadata": {
        "id": "YCILmJJ3KQXc"
      },
      "cell_type": "markdown",
      "source": [
        "The above boxplots confirm that there are lot of outliers in these variables."
      ]
    },
    {
      "metadata": {
        "id": "_RWf5MhFKQXc"
      },
      "cell_type": "markdown",
      "source": [
        "### Verifique a distribuição das variáveis\n",
        "\n",
        "\n",
        "Agora, vou representar graficamente os histogramas para verificar as distribuições e descobrir se estão normais ou distorcidas. Se a variável segue a distribuição normal, então farei uma `Análise de valor extremo`, caso contrário, se eles estiverem distorcidos, encontrarei IQR (intervalo interquantil)."
      ]
    },
    {
      "cell_type": "code",
      "source": [
        "num_cols= df[[\"Rainfall\", \"Evaporation\", 'WindSpeed9am', 'WindSpeed3pm']]\n",
        "for col in num_cols:\n",
        "    num_summary(df, col, plot=True)"
      ],
      "metadata": {
        "colab": {
          "base_uri": "https://localhost:8080/",
          "height": 1000
        },
        "id": "ckZqDOEVU3i7",
        "outputId": "7a9bef19-1169-455f-90ac-b9b943a4924f"
      },
      "execution_count": null,
      "outputs": [
        {
          "output_type": "stream",
          "name": "stdout",
          "text": [
            "count    142199.000000\n",
            "mean          2.360918\n",
            "std           8.478060\n",
            "min           0.000000\n",
            "5%            0.000000\n",
            "10%           0.000000\n",
            "25%           0.000000\n",
            "50%           0.000000\n",
            "75%           0.800000\n",
            "80%           1.600000\n",
            "90%           6.200000\n",
            "95%          13.000000\n",
            "99%          37.400000\n",
            "max         371.000000\n",
            "Name: Rainfall, dtype: float64\n"
          ]
        },
        {
          "output_type": "display_data",
          "data": {
            "image/png": "[encoded data removed]",
            "text/plain": [
              "<Figure size 432x288 with 1 Axes>"
            ]
          },
          "metadata": {}
        },
        {
          "output_type": "stream",
          "name": "stdout",
          "text": [
            "count    82670.000000\n",
            "mean         5.468232\n",
            "std          4.193704\n",
            "min          0.000000\n",
            "5%           1.000000\n",
            "10%          1.400000\n",
            "25%          2.600000\n",
            "50%          4.800000\n",
            "75%          7.400000\n",
            "80%          8.000000\n",
            "90%         10.200000\n",
            "95%         12.000000\n",
            "99%         18.400000\n",
            "max        145.000000\n",
            "Name: Evaporation, dtype: float64\n"
          ]
        },
        {
          "output_type": "display_data",
          "data": {
            "image/png": "[encoded data removed]",
            "text/plain": [
              "<Figure size 432x288 with 1 Axes>"
            ]
          },
          "metadata": {}
        },
        {
          "output_type": "stream",
          "name": "stdout",
          "text": [
            "count    143693.000000\n",
            "mean         14.043426\n",
            "std           8.915375\n",
            "min           0.000000\n",
            "5%            0.000000\n",
            "10%           4.000000\n",
            "25%           7.000000\n",
            "50%          13.000000\n",
            "75%          19.000000\n",
            "80%          20.000000\n",
            "90%          26.000000\n",
            "95%          30.000000\n",
            "99%          39.000000\n",
            "max         130.000000\n",
            "Name: WindSpeed9am, dtype: float64\n"
          ]
        },
        {
          "output_type": "display_data",
          "data": {
            "image/png": "[encoded data removed]",
            "text/plain": [
              "<Figure size 432x288 with 1 Axes>"
            ]
          },
          "metadata": {}
        },
        {
          "output_type": "stream",
          "name": "stdout",
          "text": [
            "count    142398.000000\n",
            "mean         18.662657\n",
            "std           8.809800\n",
            "min           0.000000\n",
            "5%            6.000000\n",
            "10%           9.000000\n",
            "25%          13.000000\n",
            "50%          19.000000\n",
            "75%          24.000000\n",
            "80%          26.000000\n",
            "90%          30.000000\n",
            "95%          35.000000\n",
            "99%          43.000000\n",
            "max          87.000000\n",
            "Name: WindSpeed3pm, dtype: float64\n"
          ]
        },
        {
          "output_type": "display_data",
          "data": {
            "image/png": "[encoded data removed]",
            "text/plain": [
              "<Figure size 432x288 with 1 Axes>"
            ]
          },
          "metadata": {}
        }
      ]
    },
    {
      "metadata": {
        "id": "Wmj32tqVKQXc"
      },
      "cell_type": "markdown",
      "source": [
        "Podemos ver que todas as quatro variáveis ​​estão distorcidas. Portanto, usarei o intervalo interquantil para descobrir outliers."
      ]
    },
    {
      "cell_type": "code",
      "source": [
        "Q1 = df.quantile(0.25)             \n",
        "#Para encontrar o 25º percentil e o 75º percentil.\n",
        "Q3 = df.quantile(0.75)\n",
        "# Intervalo de quantil Inter (75º perentil - 25º percentil)\n",
        "IQR = Q3 - Q1                     \n",
        "# Encontrar limites inferior e superior para todos os valores. Todos os valores fora desses limites são outliers\n",
        "lower=Q1-3*IQR               \n",
        "upper=Q3+3*IQR"
      ],
      "metadata": {
        "id": "hW6PYi7WZrRY"
      },
      "execution_count": null,
      "outputs": []
    },
    {
      "cell_type": "code",
      "source": [
        "# Precentual de outiliers por coluna \n",
        "((df.select_dtypes(include=['float64','int64'])<lower) | (df.select_dtypes(include=['float64','int64'])>upper)).sum()/len(df)*100"
      ],
      "metadata": {
        "colab": {
          "base_uri": "https://localhost:8080/"
        },
        "id": "ugm-Dk4cZxJp",
        "outputId": "5b9bfb02-c3cb-4a44-e131-0eb5e454b0df"
      },
      "execution_count": null,
      "outputs": [
        {
          "output_type": "execute_result",
          "data": {
            "text/plain": [
              "MinTemp           0.000000\n",
              "MaxTemp           0.000000\n",
              "Rainfall         14.273340\n",
              "Evaporation       0.330675\n",
              "Sunshine          0.000000\n",
              "WindGustSpeed     0.105184\n",
              "WindSpeed9am      0.078372\n",
              "WindSpeed3pm      0.056373\n",
              "Humidity9am       0.000000\n",
              "Humidity3pm       0.000000\n",
              "Pressure9am       0.005500\n",
              "Pressure3pm       0.004812\n",
              "Cloud9am          0.000000\n",
              "Cloud3pm          0.000000\n",
              "Temp9am           0.000000\n",
              "Temp3pm           0.000000\n",
              "Year              0.000000\n",
              "Month             0.000000\n",
              "Day               0.000000\n",
              "dtype: float64"
            ]
          },
          "metadata": {},
          "execution_count": 523
        }
      ]
    },
    {
      "cell_type": "code",
      "source": [
        "# Limite superior por coluna\n",
        "print(upper)"
      ],
      "metadata": {
        "colab": {
          "base_uri": "https://localhost:8080/"
        },
        "id": "6RLzQA-v4kTp",
        "outputId": "019b918b-783d-4e57-d6bf-d98df4432f20"
      },
      "execution_count": null,
      "outputs": [
        {
          "output_type": "stream",
          "name": "stdout",
          "text": [
            "MinTemp            44.8\n",
            "MaxTemp            59.1\n",
            "Rainfall            3.2\n",
            "Evaporation        21.8\n",
            "Sunshine           28.0\n",
            "WindGustSpeed      99.0\n",
            "WindSpeed9am       55.0\n",
            "WindSpeed3pm       57.0\n",
            "Humidity9am       161.0\n",
            "Humidity3pm       153.0\n",
            "Pressure9am      1050.9\n",
            "Pressure3pm      1048.8\n",
            "Cloud9am           25.0\n",
            "Cloud3pm           22.0\n",
            "Temp9am            49.5\n",
            "Temp3pm            55.8\n",
            "Year             2027.0\n",
            "Month              27.0\n",
            "Day                68.0\n",
            "dtype: float64\n"
          ]
        }
      ]
    },
    {
      "cell_type": "code",
      "source": [
        "# Quantidade de observações acima do limite superior\n",
        "df[df['Rainfall'] > upper.Rainfall].sort_values(by='Rainfall',ascending=False ).count()"
      ],
      "metadata": {
        "colab": {
          "base_uri": "https://localhost:8080/"
        },
        "id": "_RX4M3U85gYS",
        "outputId": "d62c6125-2402-46ad-dbd4-f2bf3b1ac825"
      },
      "execution_count": null,
      "outputs": [
        {
          "output_type": "execute_result",
          "data": {
            "text/plain": [
              "Location         20762\n",
              "MinTemp          20683\n",
              "MaxTemp          20685\n",
              "Rainfall         20762\n",
              "Evaporation      11481\n",
              "Sunshine         10806\n",
              "WindGustDir      19042\n",
              "WindGustSpeed    19061\n",
              "WindDir9am       19672\n",
              "WindDir3pm       20110\n",
              "WindSpeed9am     20588\n",
              "WindSpeed3pm     20312\n",
              "Humidity9am      20441\n",
              "Humidity3pm      20112\n",
              "Pressure9am      18701\n",
              "Pressure3pm      18700\n",
              "Cloud9am         13833\n",
              "Cloud3pm         13319\n",
              "Temp9am          20599\n",
              "Temp3pm          20260\n",
              "RainToday        20762\n",
              "RainTomorrow     20462\n",
              "Year             20762\n",
              "Month            20762\n",
              "Day              20762\n",
              "dtype: int64"
            ]
          },
          "metadata": {},
          "execution_count": 526
        }
      ]
    },
    {
      "cell_type": "code",
      "source": [
        "# Mostrando as variavies acima do limite superior \n",
        "df[df['Rainfall'] > upper.Rainfall].sort_values(by='Rainfall',ascending=False ).head(10)"
      ],
      "metadata": {
        "colab": {
          "base_uri": "https://localhost:8080/",
          "height": 427
        },
        "id": "wb2ZJ6NK7fsk",
        "outputId": "b9cb7298-48c2-4e38-d989-a2ac11548d03"
      },
      "execution_count": null,
      "outputs": [
        {
          "output_type": "execute_result",
          "data": {
            "text/html": [
              "\n",
              "  <div id=\"df-31377a19-a196-4999-8e78-f835d742bbe2\">\n",
              "    <div class=\"colab-df-container\">\n",
              "      <div>\n",
              "<style scoped>\n",
              "    .dataframe tbody tr th:only-of-type {\n",
              "        vertical-align: middle;\n",
              "    }\n",
              "\n",
              "    .dataframe tbody tr th {\n",
              "        vertical-align: top;\n",
              "    }\n",
              "\n",
              "    .dataframe thead th {\n",
              "        text-align: right;\n",
              "    }\n",
              "</style>\n",
              "<table border=\"1\" class=\"dataframe\">\n",
              "  <thead>\n",
              "    <tr style=\"text-align: right;\">\n",
              "      <th></th>\n",
              "      <th>Location</th>\n",
              "      <th>MinTemp</th>\n",
              "      <th>MaxTemp</th>\n",
              "      <th>Rainfall</th>\n",
              "      <th>Evaporation</th>\n",
              "      <th>Sunshine</th>\n",
              "      <th>WindGustDir</th>\n",
              "      <th>WindGustSpeed</th>\n",
              "      <th>WindDir9am</th>\n",
              "      <th>WindDir3pm</th>\n",
              "      <th>WindSpeed9am</th>\n",
              "      <th>WindSpeed3pm</th>\n",
              "      <th>Humidity9am</th>\n",
              "      <th>Humidity3pm</th>\n",
              "      <th>Pressure9am</th>\n",
              "      <th>Pressure3pm</th>\n",
              "      <th>Cloud9am</th>\n",
              "      <th>Cloud3pm</th>\n",
              "      <th>Temp9am</th>\n",
              "      <th>Temp3pm</th>\n",
              "      <th>RainToday</th>\n",
              "      <th>RainTomorrow</th>\n",
              "      <th>Year</th>\n",
              "      <th>Month</th>\n",
              "      <th>Day</th>\n",
              "    </tr>\n",
              "  </thead>\n",
              "  <tbody>\n",
              "    <tr>\n",
              "      <th>9368</th>\n",
              "      <td>CoffsHarbour</td>\n",
              "      <td>17.4</td>\n",
              "      <td>23.1</td>\n",
              "      <td>371.0</td>\n",
              "      <td>NaN</td>\n",
              "      <td>3.5</td>\n",
              "      <td>NaN</td>\n",
              "      <td>NaN</td>\n",
              "      <td>SW</td>\n",
              "      <td>S</td>\n",
              "      <td>13.0</td>\n",
              "      <td>19.0</td>\n",
              "      <td>93.0</td>\n",
              "      <td>81.0</td>\n",
              "      <td>1026.6</td>\n",
              "      <td>1025.9</td>\n",
              "      <td>8.0</td>\n",
              "      <td>5.0</td>\n",
              "      <td>18.6</td>\n",
              "      <td>22.0</td>\n",
              "      <td>Yes</td>\n",
              "      <td>Yes</td>\n",
              "      <td>2009</td>\n",
              "      <td>11</td>\n",
              "      <td>7</td>\n",
              "    </tr>\n",
              "    <tr>\n",
              "      <th>140071</th>\n",
              "      <td>Darwin</td>\n",
              "      <td>22.1</td>\n",
              "      <td>25.6</td>\n",
              "      <td>367.6</td>\n",
              "      <td>NaN</td>\n",
              "      <td>0.0</td>\n",
              "      <td>WSW</td>\n",
              "      <td>83.0</td>\n",
              "      <td>SSE</td>\n",
              "      <td>WSW</td>\n",
              "      <td>20.0</td>\n",
              "      <td>46.0</td>\n",
              "      <td>98.0</td>\n",
              "      <td>98.0</td>\n",
              "      <td>996.3</td>\n",
              "      <td>996.0</td>\n",
              "      <td>8.0</td>\n",
              "      <td>8.0</td>\n",
              "      <td>24.3</td>\n",
              "      <td>23.5</td>\n",
              "      <td>Yes</td>\n",
              "      <td>Yes</td>\n",
              "      <td>2011</td>\n",
              "      <td>2</td>\n",
              "      <td>16</td>\n",
              "    </tr>\n",
              "    <tr>\n",
              "      <th>87242</th>\n",
              "      <td>Cairns</td>\n",
              "      <td>22.3</td>\n",
              "      <td>27.4</td>\n",
              "      <td>278.4</td>\n",
              "      <td>NaN</td>\n",
              "      <td>0.0</td>\n",
              "      <td>NW</td>\n",
              "      <td>59.0</td>\n",
              "      <td>SSE</td>\n",
              "      <td>NNW</td>\n",
              "      <td>17.0</td>\n",
              "      <td>11.0</td>\n",
              "      <td>96.0</td>\n",
              "      <td>98.0</td>\n",
              "      <td>1003.5</td>\n",
              "      <td>999.6</td>\n",
              "      <td>8.0</td>\n",
              "      <td>8.0</td>\n",
              "      <td>24.7</td>\n",
              "      <td>25.3</td>\n",
              "      <td>Yes</td>\n",
              "      <td>Yes</td>\n",
              "      <td>2009</td>\n",
              "      <td>1</td>\n",
              "      <td>12</td>\n",
              "    </tr>\n",
              "    <tr>\n",
              "      <th>87995</th>\n",
              "      <td>Cairns</td>\n",
              "      <td>22.9</td>\n",
              "      <td>29.9</td>\n",
              "      <td>268.6</td>\n",
              "      <td>NaN</td>\n",
              "      <td>2.0</td>\n",
              "      <td>ENE</td>\n",
              "      <td>37.0</td>\n",
              "      <td>ENE</td>\n",
              "      <td>ENE</td>\n",
              "      <td>15.0</td>\n",
              "      <td>11.0</td>\n",
              "      <td>82.0</td>\n",
              "      <td>84.0</td>\n",
              "      <td>1011.1</td>\n",
              "      <td>1009.3</td>\n",
              "      <td>6.0</td>\n",
              "      <td>8.0</td>\n",
              "      <td>29.8</td>\n",
              "      <td>28.0</td>\n",
              "      <td>Yes</td>\n",
              "      <td>Yes</td>\n",
              "      <td>2011</td>\n",
              "      <td>2</td>\n",
              "      <td>4</td>\n",
              "    </tr>\n",
              "    <tr>\n",
              "      <th>89371</th>\n",
              "      <td>Cairns</td>\n",
              "      <td>23.8</td>\n",
              "      <td>31.0</td>\n",
              "      <td>247.2</td>\n",
              "      <td>NaN</td>\n",
              "      <td>2.0</td>\n",
              "      <td>E</td>\n",
              "      <td>44.0</td>\n",
              "      <td>SSE</td>\n",
              "      <td>SE</td>\n",
              "      <td>17.0</td>\n",
              "      <td>28.0</td>\n",
              "      <td>100.0</td>\n",
              "      <td>74.0</td>\n",
              "      <td>1014.2</td>\n",
              "      <td>1011.4</td>\n",
              "      <td>8.0</td>\n",
              "      <td>8.0</td>\n",
              "      <td>25.3</td>\n",
              "      <td>30.0</td>\n",
              "      <td>Yes</td>\n",
              "      <td>Yes</td>\n",
              "      <td>2015</td>\n",
              "      <td>2</td>\n",
              "      <td>8</td>\n",
              "    </tr>\n",
              "    <tr>\n",
              "      <th>17321</th>\n",
              "      <td>Newcastle</td>\n",
              "      <td>NaN</td>\n",
              "      <td>21.7</td>\n",
              "      <td>240.0</td>\n",
              "      <td>NaN</td>\n",
              "      <td>NaN</td>\n",
              "      <td>NaN</td>\n",
              "      <td>NaN</td>\n",
              "      <td>NW</td>\n",
              "      <td>NaN</td>\n",
              "      <td>4.0</td>\n",
              "      <td>0.0</td>\n",
              "      <td>72.0</td>\n",
              "      <td>62.0</td>\n",
              "      <td>NaN</td>\n",
              "      <td>NaN</td>\n",
              "      <td>6.0</td>\n",
              "      <td>6.0</td>\n",
              "      <td>17.5</td>\n",
              "      <td>21.0</td>\n",
              "      <td>Yes</td>\n",
              "      <td>No</td>\n",
              "      <td>2015</td>\n",
              "      <td>4</td>\n",
              "      <td>23</td>\n",
              "    </tr>\n",
              "    <tr>\n",
              "      <th>93344</th>\n",
              "      <td>Townsville</td>\n",
              "      <td>22.8</td>\n",
              "      <td>25.4</td>\n",
              "      <td>236.8</td>\n",
              "      <td>NaN</td>\n",
              "      <td>0.0</td>\n",
              "      <td>ESE</td>\n",
              "      <td>48.0</td>\n",
              "      <td>ESE</td>\n",
              "      <td>SE</td>\n",
              "      <td>22.0</td>\n",
              "      <td>20.0</td>\n",
              "      <td>98.0</td>\n",
              "      <td>95.0</td>\n",
              "      <td>1003.8</td>\n",
              "      <td>1000.6</td>\n",
              "      <td>8.0</td>\n",
              "      <td>8.0</td>\n",
              "      <td>23.8</td>\n",
              "      <td>25.0</td>\n",
              "      <td>Yes</td>\n",
              "      <td>Yes</td>\n",
              "      <td>2009</td>\n",
              "      <td>2</td>\n",
              "      <td>3</td>\n",
              "    </tr>\n",
              "    <tr>\n",
              "      <th>42010</th>\n",
              "      <td>Williamtown</td>\n",
              "      <td>18.5</td>\n",
              "      <td>19.9</td>\n",
              "      <td>225.0</td>\n",
              "      <td>NaN</td>\n",
              "      <td>0.0</td>\n",
              "      <td>S</td>\n",
              "      <td>80.0</td>\n",
              "      <td>SSW</td>\n",
              "      <td>SSW</td>\n",
              "      <td>39.0</td>\n",
              "      <td>35.0</td>\n",
              "      <td>95.0</td>\n",
              "      <td>90.0</td>\n",
              "      <td>1008.5</td>\n",
              "      <td>1008.8</td>\n",
              "      <td>8.0</td>\n",
              "      <td>8.0</td>\n",
              "      <td>19.2</td>\n",
              "      <td>19.4</td>\n",
              "      <td>Yes</td>\n",
              "      <td>Yes</td>\n",
              "      <td>2016</td>\n",
              "      <td>1</td>\n",
              "      <td>6</td>\n",
              "    </tr>\n",
              "    <tr>\n",
              "      <th>11681</th>\n",
              "      <td>CoffsHarbour</td>\n",
              "      <td>14.6</td>\n",
              "      <td>19.2</td>\n",
              "      <td>219.6</td>\n",
              "      <td>NaN</td>\n",
              "      <td>NaN</td>\n",
              "      <td>WSW</td>\n",
              "      <td>70.0</td>\n",
              "      <td>WNW</td>\n",
              "      <td>NNE</td>\n",
              "      <td>9.0</td>\n",
              "      <td>19.0</td>\n",
              "      <td>90.0</td>\n",
              "      <td>83.0</td>\n",
              "      <td>998.5</td>\n",
              "      <td>993.7</td>\n",
              "      <td>8.0</td>\n",
              "      <td>8.0</td>\n",
              "      <td>16.5</td>\n",
              "      <td>18.0</td>\n",
              "      <td>Yes</td>\n",
              "      <td>No</td>\n",
              "      <td>2016</td>\n",
              "      <td>6</td>\n",
              "      <td>5</td>\n",
              "    </tr>\n",
              "    <tr>\n",
              "      <th>17579</th>\n",
              "      <td>Newcastle</td>\n",
              "      <td>15.5</td>\n",
              "      <td>NaN</td>\n",
              "      <td>216.3</td>\n",
              "      <td>NaN</td>\n",
              "      <td>NaN</td>\n",
              "      <td>NaN</td>\n",
              "      <td>NaN</td>\n",
              "      <td>SE</td>\n",
              "      <td>NaN</td>\n",
              "      <td>37.0</td>\n",
              "      <td>NaN</td>\n",
              "      <td>98.0</td>\n",
              "      <td>NaN</td>\n",
              "      <td>NaN</td>\n",
              "      <td>NaN</td>\n",
              "      <td>8.0</td>\n",
              "      <td>NaN</td>\n",
              "      <td>18.8</td>\n",
              "      <td>NaN</td>\n",
              "      <td>Yes</td>\n",
              "      <td>Yes</td>\n",
              "      <td>2016</td>\n",
              "      <td>1</td>\n",
              "      <td>6</td>\n",
              "    </tr>\n",
              "  </tbody>\n",
              "</table>\n",
              "</div>\n",
              "      <button class=\"colab-df-convert\" onclick=\"convertToInteractive('df-31377a19-a196-4999-8e78-f835d742bbe2')\"\n",
              "              title=\"Convert this dataframe to an interactive table.\"\n",
              "              style=\"display:none;\">\n",
              "        \n",
              "  <svg xmlns=\"http://www.w3.org/2000/svg\" height=\"24px\"viewBox=\"0 0 24 24\"\n",
              "       width=\"24px\">\n",
              "    <path d=\"M0 0h24v24H0V0z\" fill=\"none\"/>\n",
              "    <path d=\"M18.56 5.44l.94 2.06.94-2.06 2.06-.94-2.06-.94-.94-2.06-.94 2.06-2.06.94zm-11 1L8.5 8.5l.94-2.06 2.06-.94-2.06-.94L8.5 2.5l-.94 2.06-2.06.94zm10 10l.94 2.06.94-2.06 2.06-.94-2.06-.94-.94-2.06-.94 2.06-2.06.94z\"/><path d=\"M17.41 7.96l-1.37-1.37c-.4-.4-.92-.59-1.43-.59-.52 0-1.04.2-1.43.59L10.3 9.45l-7.72 7.72c-.78.78-.78 2.05 0 2.83L4 21.41c.39.39.9.59 1.41.59.51 0 1.02-.2 1.41-.59l7.78-7.78 2.81-2.81c.8-.78.8-2.07 0-2.86zM5.41 20L4 18.59l7.72-7.72 1.47 1.35L5.41 20z\"/>\n",
              "  </svg>\n",
              "      </button>\n",
              "      \n",
              "  <style>\n",
              "    .colab-df-container {\n",
              "      display:flex;\n",
              "      flex-wrap:wrap;\n",
              "      gap: 12px;\n",
              "    }\n",
              "\n",
              "    .colab-df-convert {\n",
              "      background-color: #E8F0FE;\n",
              "      border: none;\n",
              "      border-radius: 50%;\n",
              "      cursor: pointer;\n",
              "      display: none;\n",
              "      fill: #1967D2;\n",
              "      height: 32px;\n",
              "      padding: 0 0 0 0;\n",
              "      width: 32px;\n",
              "    }\n",
              "\n",
              "    .colab-df-convert:hover {\n",
              "      background-color: #E2EBFA;\n",
              "      box-shadow: 0px 1px 2px rgba(60, 64, 67, 0.3), 0px 1px 3px 1px rgba(60, 64, 67, 0.15);\n",
              "      fill: #174EA6;\n",
              "    }\n",
              "\n",
              "    [theme=dark] .colab-df-convert {\n",
              "      background-color: #3B4455;\n",
              "      fill: #D2E3FC;\n",
              "    }\n",
              "\n",
              "    [theme=dark] .colab-df-convert:hover {\n",
              "      background-color: #434B5C;\n",
              "      box-shadow: 0px 1px 3px 1px rgba(0, 0, 0, 0.15);\n",
              "      filter: drop-shadow(0px 1px 2px rgba(0, 0, 0, 0.3));\n",
              "      fill: #FFFFFF;\n",
              "    }\n",
              "  </style>\n",
              "\n",
              "      <script>\n",
              "        const buttonEl =\n",
              "          document.querySelector('#df-31377a19-a196-4999-8e78-f835d742bbe2 button.colab-df-convert');\n",
              "        buttonEl.style.display =\n",
              "          google.colab.kernel.accessAllowed ? 'block' : 'none';\n",
              "\n",
              "        async function convertToInteractive(key) {\n",
              "          const element = document.querySelector('#df-31377a19-a196-4999-8e78-f835d742bbe2');\n",
              "          const dataTable =\n",
              "            await google.colab.kernel.invokeFunction('convertToInteractive',\n",
              "                                                     [key], {});\n",
              "          if (!dataTable) return;\n",
              "\n",
              "          const docLinkHtml = 'Like what you see? Visit the ' +\n",
              "            '<a target=\"_blank\" href=https://colab.research.google.com/notebooks/data_table.ipynb>data table notebook</a>'\n",
              "            + ' to learn more about interactive tables.';\n",
              "          element.innerHTML = '';\n",
              "          dataTable['output_type'] = 'display_data';\n",
              "          await google.colab.output.renderOutput(dataTable, element);\n",
              "          const docLink = document.createElement('div');\n",
              "          docLink.innerHTML = docLinkHtml;\n",
              "          element.appendChild(docLink);\n",
              "        }\n",
              "      </script>\n",
              "    </div>\n",
              "  </div>\n",
              "  "
            ],
            "text/plain": [
              "            Location  MinTemp  MaxTemp  Rainfall  ...  RainTomorrow  Year Month  Day\n",
              "9368    CoffsHarbour     17.4     23.1     371.0  ...           Yes  2009    11    7\n",
              "140071        Darwin     22.1     25.6     367.6  ...           Yes  2011     2   16\n",
              "87242         Cairns     22.3     27.4     278.4  ...           Yes  2009     1   12\n",
              "87995         Cairns     22.9     29.9     268.6  ...           Yes  2011     2    4\n",
              "89371         Cairns     23.8     31.0     247.2  ...           Yes  2015     2    8\n",
              "17321      Newcastle      NaN     21.7     240.0  ...            No  2015     4   23\n",
              "93344     Townsville     22.8     25.4     236.8  ...           Yes  2009     2    3\n",
              "42010    Williamtown     18.5     19.9     225.0  ...           Yes  2016     1    6\n",
              "11681   CoffsHarbour     14.6     19.2     219.6  ...            No  2016     6    5\n",
              "17579      Newcastle     15.5      NaN     216.3  ...           Yes  2016     1    6\n",
              "\n",
              "[10 rows x 25 columns]"
            ]
          },
          "metadata": {},
          "execution_count": 527
        }
      ]
    },
    {
      "metadata": {
        "id": "1L6XmfONKQXe"
      },
      "cell_type": "markdown",
      "source": [
        "# **8. Declarar variávies explicativas e variável de target** <a class=\"anchor\" id=\"8\"> </a>\n",
        "\n",
        "\n",
        "---\n",
        "\n"
      ]
    },
    {
      "cell_type": "code",
      "source": [
        "# Eliminando valoren missing na variável target\n",
        "df['RainTomorrow'].dropna(inplace=True)"
      ],
      "metadata": {
        "id": "A_oHhaCRIsAo"
      },
      "execution_count": null,
      "outputs": []
    },
    {
      "metadata": {
        "trusted": true,
        "id": "ADI_cJVBKQXf"
      },
      "cell_type": "code",
      "source": [
        "X = df.drop(['RainTomorrow'], axis=1)\n",
        "\n",
        "y = df['RainTomorrow']"
      ],
      "execution_count": null,
      "outputs": []
    },
    {
      "metadata": {
        "id": "c74qYIefKQXf"
      },
      "cell_type": "markdown",
      "source": [
        "# **9. Divida os dados em treinamento e conjunto de teste separados** <a class=\"anchor\" id=\"9\"> </a>\n"
      ]
    },
    {
      "metadata": {
        "trusted": true,
        "id": "yYBjEE7WKQXg"
      },
      "cell_type": "code",
      "source": [
        "# dividir X e y em conjuntos de treinamento e teste\n",
        "\n",
        "from sklearn.model_selection import train_test_split\n",
        "\n",
        "X_train, X_test, y_train, y_test = train_test_split(X, y, test_size = 0.2, random_state = 0)\n"
      ],
      "execution_count": null,
      "outputs": []
    },
    {
      "metadata": {
        "trusted": true,
        "colab": {
          "base_uri": "https://localhost:8080/"
        },
        "id": "bVY2ymfNKQXg",
        "outputId": "02bbf821-da49-4033-c1ce-8541b5bb674e"
      },
      "cell_type": "code",
      "source": [
        "# verifique a forma de X_train e X_test\n",
        "\n",
        "X_train.shape, X_test.shape"
      ],
      "execution_count": null,
      "outputs": [
        {
          "output_type": "execute_result",
          "data": {
            "text/plain": [
              "((116368, 24), (29092, 24))"
            ]
          },
          "metadata": {},
          "execution_count": 404
        }
      ]
    },
    {
      "metadata": {
        "id": "Ylxaq9ghKQXg"
      },
      "cell_type": "markdown",
      "source": [
        "# **10. Feature Engineering (Engenharia de atributos)** <a class=\"anchor\" id=\"10\"> </a>\n",
        "\n",
        "\n",
        "**Engenharia de recursos** é o processo de transformar dados brutos em recursos úteis que nos ajudam a entender melhor nosso modelo e aumentar seu poder preditivo. Vou realizar engenharia de recursos em diferentes tipos de variáveis.\n",
        "\n",
        "\n",
        "Primeiro, irei exibir as variáveis ​​categóricas e numéricas novamente separadamente."
      ]
    },
    {
      "metadata": {
        "trusted": true,
        "colab": {
          "base_uri": "https://localhost:8080/"
        },
        "id": "iOBmJ8lVKQXg",
        "outputId": "88c35ef8-06ce-4af8-c883-b4b0ba34bdc8"
      },
      "cell_type": "code",
      "source": [
        "# verificar os tipos de dados no X_train\n",
        "\n",
        "X_train.dtypes"
      ],
      "execution_count": null,
      "outputs": [
        {
          "output_type": "execute_result",
          "data": {
            "text/plain": [
              "Location          object\n",
              "MinTemp          float64\n",
              "MaxTemp          float64\n",
              "Rainfall         float64\n",
              "Evaporation      float64\n",
              "Sunshine         float64\n",
              "WindGustDir       object\n",
              "WindGustSpeed    float64\n",
              "WindDir9am        object\n",
              "WindDir3pm        object\n",
              "WindSpeed9am     float64\n",
              "WindSpeed3pm     float64\n",
              "Humidity9am      float64\n",
              "Humidity3pm      float64\n",
              "Pressure9am      float64\n",
              "Pressure3pm      float64\n",
              "Cloud9am         float64\n",
              "Cloud3pm         float64\n",
              "Temp9am          float64\n",
              "Temp3pm          float64\n",
              "RainToday         object\n",
              "Year               int64\n",
              "Month              int64\n",
              "Day                int64\n",
              "dtype: object"
            ]
          },
          "metadata": {},
          "execution_count": 405
        }
      ]
    },
    {
      "metadata": {
        "trusted": true,
        "colab": {
          "base_uri": "https://localhost:8080/"
        },
        "id": "8ZF-VR-DKQXh",
        "outputId": "ef06a3c3-a061-4ecd-c822-bc47b5911778"
      },
      "cell_type": "code",
      "source": [
        "# exibir variáveis ​​categóricas\n",
        "\n",
        "categorical = [col for col in X_train.columns if X_train[col].dtypes == 'O']\n",
        "\n",
        "categorical"
      ],
      "execution_count": null,
      "outputs": [
        {
          "output_type": "execute_result",
          "data": {
            "text/plain": [
              "['Location', 'WindGustDir', 'WindDir9am', 'WindDir3pm', 'RainToday']"
            ]
          },
          "metadata": {},
          "execution_count": 406
        }
      ]
    },
    {
      "metadata": {
        "trusted": true,
        "colab": {
          "base_uri": "https://localhost:8080/"
        },
        "id": "QydEXkkoKQXh",
        "outputId": "be2fb086-976b-451a-e07e-7893fb80c7f6"
      },
      "cell_type": "code",
      "source": [
        "# exibir variáveis ​​categóricas\n",
        "\n",
        "numerical = [col for col in X_train.columns if X_train[col].dtypes != 'O']\n",
        "\n",
        "numerical"
      ],
      "execution_count": null,
      "outputs": [
        {
          "output_type": "execute_result",
          "data": {
            "text/plain": [
              "['MinTemp',\n",
              " 'MaxTemp',\n",
              " 'Rainfall',\n",
              " 'Evaporation',\n",
              " 'Sunshine',\n",
              " 'WindGustSpeed',\n",
              " 'WindSpeed9am',\n",
              " 'WindSpeed3pm',\n",
              " 'Humidity9am',\n",
              " 'Humidity3pm',\n",
              " 'Pressure9am',\n",
              " 'Pressure3pm',\n",
              " 'Cloud9am',\n",
              " 'Cloud3pm',\n",
              " 'Temp9am',\n",
              " 'Temp3pm',\n",
              " 'Year',\n",
              " 'Month',\n",
              " 'Day']"
            ]
          },
          "metadata": {},
          "execution_count": 407
        }
      ]
    },
    {
      "metadata": {
        "id": "zyqqFuenKQXi"
      },
      "cell_type": "markdown",
      "source": [
        "### **Engineering missing values (Engenharia de valores ausentes)**\n"
      ]
    },
    {
      "metadata": {
        "trusted": true,
        "colab": {
          "base_uri": "https://localhost:8080/"
        },
        "id": "W9o9XSNVKQXi",
        "outputId": "0ce8c7e6-8fc2-4553-fd88-dbe947408349"
      },
      "cell_type": "code",
      "source": [
        "# verificar valores ausentes em variáveis ​​numéricas em X_train\n",
        "\n",
        "X_train[numerical].isnull().sum()"
      ],
      "execution_count": null,
      "outputs": [
        {
          "output_type": "execute_result",
          "data": {
            "text/plain": [
              "MinTemp           1183\n",
              "MaxTemp           1019\n",
              "Rainfall          2617\n",
              "Evaporation      50355\n",
              "Sunshine         55899\n",
              "WindGustSpeed     8218\n",
              "WindSpeed9am      1409\n",
              "WindSpeed3pm      2456\n",
              "Humidity9am       2147\n",
              "Humidity3pm       3598\n",
              "Pressure9am      12091\n",
              "Pressure3pm      12064\n",
              "Cloud9am         44796\n",
              "Cloud3pm         47557\n",
              "Temp9am           1415\n",
              "Temp3pm           2865\n",
              "Year                 0\n",
              "Month                0\n",
              "Day                  0\n",
              "dtype: int64"
            ]
          },
          "metadata": {},
          "execution_count": 408
        }
      ]
    },
    {
      "metadata": {
        "trusted": true,
        "colab": {
          "base_uri": "https://localhost:8080/"
        },
        "id": "b8RWor23KQXi",
        "outputId": "6a0d7f76-4b18-43c3-e60e-99991054d3a9"
      },
      "cell_type": "code",
      "source": [
        "# verificar valores ausentes em variáveis ​​numéricas em X_test\n",
        "\n",
        "X_test[numerical].isnull().sum()"
      ],
      "execution_count": null,
      "outputs": [
        {
          "output_type": "execute_result",
          "data": {
            "text/plain": [
              "MinTemp            302\n",
              "MaxTemp            242\n",
              "Rainfall           644\n",
              "Evaporation      12435\n",
              "Sunshine         13936\n",
              "WindGustSpeed     2045\n",
              "WindSpeed9am       358\n",
              "WindSpeed3pm       606\n",
              "Humidity9am        507\n",
              "Humidity3pm        909\n",
              "Pressure9am       2974\n",
              "Pressure3pm       2964\n",
              "Cloud9am         11092\n",
              "Cloud3pm         11801\n",
              "Temp9am            352\n",
              "Temp3pm            744\n",
              "Year                 0\n",
              "Month                0\n",
              "Day                  0\n",
              "dtype: int64"
            ]
          },
          "metadata": {},
          "execution_count": 409
        }
      ]
    },
    {
      "metadata": {
        "trusted": true,
        "colab": {
          "base_uri": "https://localhost:8080/"
        },
        "id": "JLqVjYPrKQXm",
        "outputId": "ca9c433e-6843-47e9-86ed-a907d51fb990"
      },
      "cell_type": "code",
      "source": [
        "# imprime a porcentagem de valores ausentes nas variáveis ​​numéricas no conjunto de treinamento\n",
        "\n",
        "for col in numerical:\n",
        "    if X_train[col].isnull().mean()>0:\n",
        "        print(col, round(X_train[col].isnull().mean(),4))"
      ],
      "execution_count": null,
      "outputs": [
        {
          "output_type": "stream",
          "name": "stdout",
          "text": [
            "MinTemp 0.0102\n",
            "MaxTemp 0.0088\n",
            "Rainfall 0.0225\n",
            "Evaporation 0.4327\n",
            "Sunshine 0.4804\n",
            "WindGustSpeed 0.0706\n",
            "WindSpeed9am 0.0121\n",
            "WindSpeed3pm 0.0211\n",
            "Humidity9am 0.0185\n",
            "Humidity3pm 0.0309\n",
            "Pressure9am 0.1039\n",
            "Pressure3pm 0.1037\n",
            "Cloud9am 0.385\n",
            "Cloud3pm 0.4087\n",
            "Temp9am 0.0122\n",
            "Temp3pm 0.0246\n"
          ]
        }
      ]
    },
    {
      "metadata": {
        "id": "nmNNSLo2KQXm"
      },
      "cell_type": "markdown",
      "source": [
        "### Suposição\n",
        "\n",
        "\n",
        "  Presumo que os dados estão faltando completamente ao acaso **(MCAR)**. Existem dois métodos que podem ser usados ​​para imputar valores ausentes. Um é imputação de média ou mediana e o outro é imputação de amostra aleatória. Quando há outliers no conjunto de dados, devemos usar a imputação mediana. Portanto, usarei a imputação da mediana porque a imputação da **mediana é robusta para outliers**.\n",
        "\n",
        "  Vou imputar os valores ausentes com as medidas estatísticas apropriadas dos dados, neste caso a mediana. **A imputação deve ser feita no conjunto de treinamento** e, em seguida, propagada para o conjunto de teste. Isso significa que as medidas estatísticas a serem usadas para preencher os valores ausentes tanto no treino quanto no conjunto de teste devem ser extraídas apenas do conjunto de treino. Isso é para evitar overfitting."
      ]
    },
    {
      "metadata": {
        "trusted": true,
        "id": "yPRglFwDKQXm"
      },
      "cell_type": "code",
      "source": [
        "# imputa valores ausentes em X_train e X_test com a respectiva mediana da coluna em X_train\n",
        "\n",
        "for df1 in [X_train, X_test]:\n",
        "    for col in numerical:\n",
        "        col_median=X_train[col].median()\n",
        "        df1[col].fillna(col_median, inplace=True)           \n",
        "      "
      ],
      "execution_count": null,
      "outputs": []
    },
    {
      "metadata": {
        "trusted": true,
        "colab": {
          "base_uri": "https://localhost:8080/"
        },
        "id": "G6kk8JVAKQXn",
        "outputId": "834b9a1c-b071-4c5a-b839-22b5e8e9241c"
      },
      "cell_type": "code",
      "source": [
        "# verifique novamente os valores perdidos nas variáveis ​​numéricas no X_train\n",
        "\n",
        "X_train[numerical].isnull().sum()"
      ],
      "execution_count": null,
      "outputs": [
        {
          "output_type": "execute_result",
          "data": {
            "text/plain": [
              "MinTemp          0\n",
              "MaxTemp          0\n",
              "Rainfall         0\n",
              "Evaporation      0\n",
              "Sunshine         0\n",
              "WindGustSpeed    0\n",
              "WindSpeed9am     0\n",
              "WindSpeed3pm     0\n",
              "Humidity9am      0\n",
              "Humidity3pm      0\n",
              "Pressure9am      0\n",
              "Pressure3pm      0\n",
              "Cloud9am         0\n",
              "Cloud3pm         0\n",
              "Temp9am          0\n",
              "Temp3pm          0\n",
              "Year             0\n",
              "Month            0\n",
              "Day              0\n",
              "dtype: int64"
            ]
          },
          "metadata": {},
          "execution_count": 412
        }
      ]
    },
    {
      "metadata": {
        "trusted": true,
        "colab": {
          "base_uri": "https://localhost:8080/"
        },
        "id": "8-J9qwW9KQXn",
        "outputId": "9cfe1ec5-440b-4c6a-b4a4-01529d34fdf2"
      },
      "cell_type": "code",
      "source": [
        "# verificar valores ausentes em variáveis ​​numéricas em X_test\n",
        "X_test[numerical].isnull().sum()"
      ],
      "execution_count": null,
      "outputs": [
        {
          "output_type": "execute_result",
          "data": {
            "text/plain": [
              "MinTemp          0\n",
              "MaxTemp          0\n",
              "Rainfall         0\n",
              "Evaporation      0\n",
              "Sunshine         0\n",
              "WindGustSpeed    0\n",
              "WindSpeed9am     0\n",
              "WindSpeed3pm     0\n",
              "Humidity9am      0\n",
              "Humidity3pm      0\n",
              "Pressure9am      0\n",
              "Pressure3pm      0\n",
              "Cloud9am         0\n",
              "Cloud3pm         0\n",
              "Temp9am          0\n",
              "Temp3pm          0\n",
              "Year             0\n",
              "Month            0\n",
              "Day              0\n",
              "dtype: int64"
            ]
          },
          "metadata": {},
          "execution_count": 413
        }
      ]
    },
    {
      "metadata": {
        "id": "Np0xqSurKQXo"
      },
      "cell_type": "markdown",
      "source": [
        "Agora, podemos ver que não há valores ausentes nas colunas numéricas de treinamento e conjunto de teste."
      ]
    },
    {
      "metadata": {
        "id": "agFa2OktKQXo"
      },
      "cell_type": "markdown",
      "source": [
        "### Engineering missing values (Engenharia de valores ausentes) em variáveis ​​categóricas"
      ]
    },
    {
      "metadata": {
        "trusted": true,
        "colab": {
          "base_uri": "https://localhost:8080/"
        },
        "id": "jDfrWV6yKQXo",
        "outputId": "1dee4e8d-a3f6-4bb4-82d8-e8aeda5862c5"
      },
      "cell_type": "code",
      "source": [
        "# imprime a porcentagem de valores ausentes nas variáveis ​​categóricas no conjunto de treinamento\n",
        "\n",
        "X_train[categorical].isnull().mean()"
      ],
      "execution_count": null,
      "outputs": [
        {
          "output_type": "execute_result",
          "data": {
            "text/plain": [
              "Location       0.000000\n",
              "WindGustDir    0.071068\n",
              "WindDir9am     0.072597\n",
              "WindDir3pm     0.028951\n",
              "RainToday      0.022489\n",
              "dtype: float64"
            ]
          },
          "metadata": {},
          "execution_count": 414
        }
      ]
    },
    {
      "metadata": {
        "trusted": true,
        "colab": {
          "base_uri": "https://localhost:8080/"
        },
        "id": "HV5aZIlJKQXp",
        "outputId": "19bedb17-a42c-4bda-cca0-191e8db3c64b"
      },
      "cell_type": "code",
      "source": [
        "# imprime variáveis ​​categóricas com dados ausentes\n",
        "\n",
        "for col in categorical:\n",
        "    if X_train[col].isnull().mean()>0:\n",
        "        print(col, (X_train[col].isnull().mean()))"
      ],
      "execution_count": null,
      "outputs": [
        {
          "output_type": "stream",
          "name": "stdout",
          "text": [
            "WindGustDir 0.07106764746322013\n",
            "WindDir9am 0.07259727760208992\n",
            "WindDir3pm 0.028951258077822083\n",
            "RainToday 0.02248900041248453\n"
          ]
        }
      ]
    },
    {
      "metadata": {
        "trusted": true,
        "id": "8FeWmxgIKQXp"
      },
      "cell_type": "code",
      "source": [
        "# imputa variáveis ​​categóricas ausentes com o valor mais frequente\n",
        "\n",
        "for df2 in [X_train, X_test]:\n",
        "    df2['WindGustDir'].fillna(X_train['WindGustDir'].mode()[0], inplace=True)\n",
        "    df2['WindDir9am'].fillna(X_train['WindDir9am'].mode()[0], inplace=True)\n",
        "    df2['WindDir3pm'].fillna(X_train['WindDir3pm'].mode()[0], inplace=True)\n",
        "    df2['RainToday'].fillna(X_train['RainToday'].mode()[0], inplace=True)"
      ],
      "execution_count": null,
      "outputs": []
    },
    {
      "metadata": {
        "trusted": true,
        "colab": {
          "base_uri": "https://localhost:8080/"
        },
        "id": "gs1zil-eKQXp",
        "outputId": "47b5d4dc-423a-4bc3-a035-b93f632f883c"
      },
      "cell_type": "code",
      "source": [
        "# verificar valores ausentes em variáveis ​​categóricas em X_train\n",
        "\n",
        "X_train[categorical].isnull().sum()"
      ],
      "execution_count": null,
      "outputs": [
        {
          "output_type": "execute_result",
          "data": {
            "text/plain": [
              "Location       0\n",
              "WindGustDir    0\n",
              "WindDir9am     0\n",
              "WindDir3pm     0\n",
              "RainToday      0\n",
              "dtype: int64"
            ]
          },
          "metadata": {},
          "execution_count": 417
        }
      ]
    },
    {
      "metadata": {
        "trusted": true,
        "colab": {
          "base_uri": "https://localhost:8080/"
        },
        "id": "7dZRUsL_KQXq",
        "outputId": "39e7b2eb-0f41-4ba9-82f5-bde462458900"
      },
      "cell_type": "code",
      "source": [
        "# verificar valores ausentes em variáveis ​​categóricas em X_test\n",
        "\n",
        "X_test[categorical].isnull().sum()"
      ],
      "execution_count": null,
      "outputs": [
        {
          "output_type": "execute_result",
          "data": {
            "text/plain": [
              "Location       0\n",
              "WindGustDir    0\n",
              "WindDir9am     0\n",
              "WindDir3pm     0\n",
              "RainToday      0\n",
              "dtype: int64"
            ]
          },
          "metadata": {},
          "execution_count": 418
        }
      ]
    },
    {
      "metadata": {
        "id": "gWQiWjfXKQXq"
      },
      "cell_type": "markdown",
      "source": [
        "Como uma verificação final, verificarei se há valores ausentes em X_train e X_test."
      ]
    },
    {
      "metadata": {
        "trusted": true,
        "colab": {
          "base_uri": "https://localhost:8080/"
        },
        "id": "JOUa9zGJKQXr",
        "outputId": "e57cc383-5ea2-428c-f702-ac010528b16c"
      },
      "cell_type": "code",
      "source": [
        "# verificar valores ausentes em X_train\n",
        "\n",
        "X_train.isnull().sum()"
      ],
      "execution_count": null,
      "outputs": [
        {
          "output_type": "execute_result",
          "data": {
            "text/plain": [
              "MinTemp        0\n",
              "MaxTemp        0\n",
              "Rainfall       0\n",
              "Evaporation    0\n",
              "Sunshine       0\n",
              "              ..\n",
              "SSW            0\n",
              "SW             0\n",
              "W              0\n",
              "WNW            0\n",
              "WSW            0\n",
              "Length: 118, dtype: int64"
            ]
          },
          "metadata": {},
          "execution_count": 445
        }
      ]
    },
    {
      "metadata": {
        "trusted": true,
        "colab": {
          "base_uri": "https://localhost:8080/"
        },
        "id": "XyaIzBZbKQXr",
        "outputId": "4f2e0b0a-7515-4ea0-e322-65e9fcb430e5"
      },
      "cell_type": "code",
      "source": [
        "# verifique os valores ausentes em X_test\n",
        "\n",
        "X_test.isnull().sum()"
      ],
      "execution_count": null,
      "outputs": [
        {
          "output_type": "execute_result",
          "data": {
            "text/plain": [
              "MinTemp        0\n",
              "MaxTemp        0\n",
              "Rainfall       0\n",
              "Evaporation    0\n",
              "Sunshine       0\n",
              "              ..\n",
              "SSW            0\n",
              "SW             0\n",
              "W              0\n",
              "WNW            0\n",
              "WSW            0\n",
              "Length: 118, dtype: int64"
            ]
          },
          "metadata": {},
          "execution_count": 446
        }
      ]
    },
    {
      "metadata": {
        "id": "eoW0j3huKQXs"
      },
      "cell_type": "markdown",
      "source": [
        "Podemos ver que não há valores ausentes em X_train e X_test."
      ]
    },
    {
      "metadata": {
        "id": "5KQXPYdIKQXs"
      },
      "cell_type": "markdown",
      "source": [
        "### Engineering outliers em variáveis ​​numéricas\n",
        "\n",
        "Vimos que as colunas `Rainfall`,` Evaporation`, `WindSpeed9am` e` WindSpeed3pm` contêm outliers. Vou usar a abordagem de codificação superior para limitar os valores máximos e remover outliers das variáveis ​​acima.\n"
      ]
    },
    {
      "metadata": {
        "trusted": true,
        "id": "XsNHOE_UKQXs"
      },
      "cell_type": "code",
      "source": [
        "def max_value(df3, variable, top):\n",
        "    return np.where(df3[variable]>top, top, df3[variable])\n",
        "\n",
        "for df3 in [X_train, X_test]:\n",
        "    df3['Rainfall'] = max_value(df3, 'Rainfall', 3.2)\n",
        "    df3['Evaporation'] = max_value(df3, 'Evaporation', 21.8)\n",
        "    df3['WindSpeed9am'] = max_value(df3, 'WindSpeed9am', 55)\n",
        "    df3['WindSpeed3pm'] = max_value(df3, 'WindSpeed3pm', 57)"
      ],
      "execution_count": null,
      "outputs": []
    },
    {
      "metadata": {
        "trusted": true,
        "colab": {
          "base_uri": "https://localhost:8080/"
        },
        "id": "Bqq0mn_aKQXs",
        "outputId": "94e22f1c-c46a-4e21-d238-24b887313b96"
      },
      "cell_type": "code",
      "source": [
        "X_train.Rainfall.max(), X_test.Rainfall.max()"
      ],
      "execution_count": null,
      "outputs": [
        {
          "output_type": "execute_result",
          "data": {
            "text/plain": [
              "(3.2, 3.2)"
            ]
          },
          "metadata": {},
          "execution_count": 422
        }
      ]
    },
    {
      "metadata": {
        "trusted": true,
        "colab": {
          "base_uri": "https://localhost:8080/"
        },
        "id": "5fWofBKdKQXt",
        "outputId": "57e36547-47be-403c-88fc-945ac34b7e5f"
      },
      "cell_type": "code",
      "source": [
        "X_train.Evaporation.max(), X_test.Evaporation.max()"
      ],
      "execution_count": null,
      "outputs": [
        {
          "output_type": "execute_result",
          "data": {
            "text/plain": [
              "(21.8, 21.8)"
            ]
          },
          "metadata": {},
          "execution_count": 423
        }
      ]
    },
    {
      "metadata": {
        "trusted": true,
        "colab": {
          "base_uri": "https://localhost:8080/"
        },
        "id": "oi9QXrGpKQXt",
        "outputId": "3e291249-d77b-49eb-cb28-c58b964ea58d"
      },
      "cell_type": "code",
      "source": [
        "X_train.WindSpeed9am.max(), X_test.WindSpeed9am.max()"
      ],
      "execution_count": null,
      "outputs": [
        {
          "output_type": "execute_result",
          "data": {
            "text/plain": [
              "(55.0, 55.0)"
            ]
          },
          "metadata": {},
          "execution_count": 424
        }
      ]
    },
    {
      "metadata": {
        "trusted": true,
        "colab": {
          "base_uri": "https://localhost:8080/"
        },
        "id": "UerDAnPEKQXt",
        "outputId": "693826f8-59da-4561-968a-59da17a002ff"
      },
      "cell_type": "code",
      "source": [
        "X_train.WindSpeed3pm.max(), X_test.WindSpeed3pm.max()"
      ],
      "execution_count": null,
      "outputs": [
        {
          "output_type": "execute_result",
          "data": {
            "text/plain": [
              "(57.0, 57.0)"
            ]
          },
          "metadata": {},
          "execution_count": 425
        }
      ]
    },
    {
      "metadata": {
        "trusted": true,
        "colab": {
          "base_uri": "https://localhost:8080/",
          "height": 645
        },
        "id": "hkWlXuInKQXt",
        "outputId": "a7531387-f763-4c7b-eecb-e8f9ecc8fd34"
      },
      "cell_type": "code",
      "source": [
        "X_train[numerical].describe().T"
      ],
      "execution_count": null,
      "outputs": [
        {
          "output_type": "execute_result",
          "data": {
            "text/html": [
              "\n",
              "  <div id=\"df-67f9c3dd-9d8b-484d-baf1-c220a94329bc\">\n",
              "    <div class=\"colab-df-container\">\n",
              "      <div>\n",
              "<style scoped>\n",
              "    .dataframe tbody tr th:only-of-type {\n",
              "        vertical-align: middle;\n",
              "    }\n",
              "\n",
              "    .dataframe tbody tr th {\n",
              "        vertical-align: top;\n",
              "    }\n",
              "\n",
              "    .dataframe thead th {\n",
              "        text-align: right;\n",
              "    }\n",
              "</style>\n",
              "<table border=\"1\" class=\"dataframe\">\n",
              "  <thead>\n",
              "    <tr style=\"text-align: right;\">\n",
              "      <th></th>\n",
              "      <th>count</th>\n",
              "      <th>mean</th>\n",
              "      <th>std</th>\n",
              "      <th>min</th>\n",
              "      <th>25%</th>\n",
              "      <th>50%</th>\n",
              "      <th>75%</th>\n",
              "      <th>max</th>\n",
              "    </tr>\n",
              "  </thead>\n",
              "  <tbody>\n",
              "    <tr>\n",
              "      <th>MinTemp</th>\n",
              "      <td>116368.0</td>\n",
              "      <td>0.512133</td>\n",
              "      <td>0.157596</td>\n",
              "      <td>0.0</td>\n",
              "      <td>0.400990</td>\n",
              "      <td>0.507426</td>\n",
              "      <td>0.626238</td>\n",
              "      <td>1.0</td>\n",
              "    </tr>\n",
              "    <tr>\n",
              "      <th>MaxTemp</th>\n",
              "      <td>116368.0</td>\n",
              "      <td>0.529359</td>\n",
              "      <td>0.133940</td>\n",
              "      <td>0.0</td>\n",
              "      <td>0.431002</td>\n",
              "      <td>0.517958</td>\n",
              "      <td>0.623819</td>\n",
              "      <td>1.0</td>\n",
              "    </tr>\n",
              "    <tr>\n",
              "      <th>Rainfall</th>\n",
              "      <td>116368.0</td>\n",
              "      <td>0.209625</td>\n",
              "      <td>0.369223</td>\n",
              "      <td>0.0</td>\n",
              "      <td>0.000000</td>\n",
              "      <td>0.000000</td>\n",
              "      <td>0.187500</td>\n",
              "      <td>1.0</td>\n",
              "    </tr>\n",
              "    <tr>\n",
              "      <th>Evaporation</th>\n",
              "      <td>116368.0</td>\n",
              "      <td>0.233640</td>\n",
              "      <td>0.128450</td>\n",
              "      <td>0.0</td>\n",
              "      <td>0.183486</td>\n",
              "      <td>0.215596</td>\n",
              "      <td>0.238532</td>\n",
              "      <td>1.0</td>\n",
              "    </tr>\n",
              "    <tr>\n",
              "      <th>Sunshine</th>\n",
              "      <td>116368.0</td>\n",
              "      <td>0.550516</td>\n",
              "      <td>0.190458</td>\n",
              "      <td>0.0</td>\n",
              "      <td>0.565517</td>\n",
              "      <td>0.579310</td>\n",
              "      <td>0.593103</td>\n",
              "      <td>1.0</td>\n",
              "    </tr>\n",
              "    <tr>\n",
              "      <th>WindGustSpeed</th>\n",
              "      <td>116368.0</td>\n",
              "      <td>0.263427</td>\n",
              "      <td>0.101767</td>\n",
              "      <td>0.0</td>\n",
              "      <td>0.193798</td>\n",
              "      <td>0.255814</td>\n",
              "      <td>0.310078</td>\n",
              "      <td>1.0</td>\n",
              "    </tr>\n",
              "    <tr>\n",
              "      <th>WindSpeed9am</th>\n",
              "      <td>116368.0</td>\n",
              "      <td>0.255080</td>\n",
              "      <td>0.160647</td>\n",
              "      <td>0.0</td>\n",
              "      <td>0.127273</td>\n",
              "      <td>0.236364</td>\n",
              "      <td>0.345455</td>\n",
              "      <td>1.0</td>\n",
              "    </tr>\n",
              "    <tr>\n",
              "      <th>WindSpeed3pm</th>\n",
              "      <td>116368.0</td>\n",
              "      <td>0.327850</td>\n",
              "      <td>0.152642</td>\n",
              "      <td>0.0</td>\n",
              "      <td>0.228070</td>\n",
              "      <td>0.333333</td>\n",
              "      <td>0.421053</td>\n",
              "      <td>1.0</td>\n",
              "    </tr>\n",
              "    <tr>\n",
              "      <th>Humidity9am</th>\n",
              "      <td>116368.0</td>\n",
              "      <td>0.689507</td>\n",
              "      <td>0.188114</td>\n",
              "      <td>0.0</td>\n",
              "      <td>0.570000</td>\n",
              "      <td>0.700000</td>\n",
              "      <td>0.830000</td>\n",
              "      <td>1.0</td>\n",
              "    </tr>\n",
              "    <tr>\n",
              "      <th>Humidity3pm</th>\n",
              "      <td>116368.0</td>\n",
              "      <td>0.516058</td>\n",
              "      <td>0.204400</td>\n",
              "      <td>0.0</td>\n",
              "      <td>0.370000</td>\n",
              "      <td>0.520000</td>\n",
              "      <td>0.650000</td>\n",
              "      <td>1.0</td>\n",
              "    </tr>\n",
              "    <tr>\n",
              "      <th>Pressure9am</th>\n",
              "      <td>116368.0</td>\n",
              "      <td>0.613882</td>\n",
              "      <td>0.111210</td>\n",
              "      <td>0.0</td>\n",
              "      <td>0.545455</td>\n",
              "      <td>0.613223</td>\n",
              "      <td>0.682645</td>\n",
              "      <td>1.0</td>\n",
              "    </tr>\n",
              "    <tr>\n",
              "      <th>Pressure3pm</th>\n",
              "      <td>116368.0</td>\n",
              "      <td>0.610319</td>\n",
              "      <td>0.106584</td>\n",
              "      <td>0.0</td>\n",
              "      <td>0.544000</td>\n",
              "      <td>0.609600</td>\n",
              "      <td>0.676800</td>\n",
              "      <td>1.0</td>\n",
              "    </tr>\n",
              "    <tr>\n",
              "      <th>Cloud9am</th>\n",
              "      <td>116368.0</td>\n",
              "      <td>0.518232</td>\n",
              "      <td>0.253410</td>\n",
              "      <td>0.0</td>\n",
              "      <td>0.333333</td>\n",
              "      <td>0.555556</td>\n",
              "      <td>0.666667</td>\n",
              "      <td>1.0</td>\n",
              "    </tr>\n",
              "    <tr>\n",
              "      <th>Cloud3pm</th>\n",
              "      <td>116368.0</td>\n",
              "      <td>0.588841</td>\n",
              "      <td>0.263255</td>\n",
              "      <td>0.0</td>\n",
              "      <td>0.500000</td>\n",
              "      <td>0.625000</td>\n",
              "      <td>0.750000</td>\n",
              "      <td>1.0</td>\n",
              "    </tr>\n",
              "    <tr>\n",
              "      <th>Temp9am</th>\n",
              "      <td>116368.0</td>\n",
              "      <td>0.510115</td>\n",
              "      <td>0.136068</td>\n",
              "      <td>0.0</td>\n",
              "      <td>0.411392</td>\n",
              "      <td>0.504219</td>\n",
              "      <td>0.605485</td>\n",
              "      <td>1.0</td>\n",
              "    </tr>\n",
              "    <tr>\n",
              "      <th>Temp3pm</th>\n",
              "      <td>116368.0</td>\n",
              "      <td>0.519332</td>\n",
              "      <td>0.131445</td>\n",
              "      <td>0.0</td>\n",
              "      <td>0.424184</td>\n",
              "      <td>0.508637</td>\n",
              "      <td>0.606526</td>\n",
              "      <td>1.0</td>\n",
              "    </tr>\n",
              "    <tr>\n",
              "      <th>Year</th>\n",
              "      <td>116368.0</td>\n",
              "      <td>0.576706</td>\n",
              "      <td>0.253840</td>\n",
              "      <td>0.0</td>\n",
              "      <td>0.400000</td>\n",
              "      <td>0.600000</td>\n",
              "      <td>0.800000</td>\n",
              "      <td>1.0</td>\n",
              "    </tr>\n",
              "    <tr>\n",
              "      <th>Month</th>\n",
              "      <td>116368.0</td>\n",
              "      <td>0.490463</td>\n",
              "      <td>0.311405</td>\n",
              "      <td>0.0</td>\n",
              "      <td>0.181818</td>\n",
              "      <td>0.454545</td>\n",
              "      <td>0.727273</td>\n",
              "      <td>1.0</td>\n",
              "    </tr>\n",
              "    <tr>\n",
              "      <th>Day</th>\n",
              "      <td>116368.0</td>\n",
              "      <td>0.491065</td>\n",
              "      <td>0.293231</td>\n",
              "      <td>0.0</td>\n",
              "      <td>0.233333</td>\n",
              "      <td>0.500000</td>\n",
              "      <td>0.733333</td>\n",
              "      <td>1.0</td>\n",
              "    </tr>\n",
              "  </tbody>\n",
              "</table>\n",
              "</div>\n",
              "      <button class=\"colab-df-convert\" onclick=\"convertToInteractive('df-67f9c3dd-9d8b-484d-baf1-c220a94329bc')\"\n",
              "              title=\"Convert this dataframe to an interactive table.\"\n",
              "              style=\"display:none;\">\n",
              "        \n",
              "  <svg xmlns=\"http://www.w3.org/2000/svg\" height=\"24px\"viewBox=\"0 0 24 24\"\n",
              "       width=\"24px\">\n",
              "    <path d=\"M0 0h24v24H0V0z\" fill=\"none\"/>\n",
              "    <path d=\"M18.56 5.44l.94 2.06.94-2.06 2.06-.94-2.06-.94-.94-2.06-.94 2.06-2.06.94zm-11 1L8.5 8.5l.94-2.06 2.06-.94-2.06-.94L8.5 2.5l-.94 2.06-2.06.94zm10 10l.94 2.06.94-2.06 2.06-.94-2.06-.94-.94-2.06-.94 2.06-2.06.94z\"/><path d=\"M17.41 7.96l-1.37-1.37c-.4-.4-.92-.59-1.43-.59-.52 0-1.04.2-1.43.59L10.3 9.45l-7.72 7.72c-.78.78-.78 2.05 0 2.83L4 21.41c.39.39.9.59 1.41.59.51 0 1.02-.2 1.41-.59l7.78-7.78 2.81-2.81c.8-.78.8-2.07 0-2.86zM5.41 20L4 18.59l7.72-7.72 1.47 1.35L5.41 20z\"/>\n",
              "  </svg>\n",
              "      </button>\n",
              "      \n",
              "  <style>\n",
              "    .colab-df-container {\n",
              "      display:flex;\n",
              "      flex-wrap:wrap;\n",
              "      gap: 12px;\n",
              "    }\n",
              "\n",
              "    .colab-df-convert {\n",
              "      background-color: #E8F0FE;\n",
              "      border: none;\n",
              "      border-radius: 50%;\n",
              "      cursor: pointer;\n",
              "      display: none;\n",
              "      fill: #1967D2;\n",
              "      height: 32px;\n",
              "      padding: 0 0 0 0;\n",
              "      width: 32px;\n",
              "    }\n",
              "\n",
              "    .colab-df-convert:hover {\n",
              "      background-color: #E2EBFA;\n",
              "      box-shadow: 0px 1px 2px rgba(60, 64, 67, 0.3), 0px 1px 3px 1px rgba(60, 64, 67, 0.15);\n",
              "      fill: #174EA6;\n",
              "    }\n",
              "\n",
              "    [theme=dark] .colab-df-convert {\n",
              "      background-color: #3B4455;\n",
              "      fill: #D2E3FC;\n",
              "    }\n",
              "\n",
              "    [theme=dark] .colab-df-convert:hover {\n",
              "      background-color: #434B5C;\n",
              "      box-shadow: 0px 1px 3px 1px rgba(0, 0, 0, 0.15);\n",
              "      filter: drop-shadow(0px 1px 2px rgba(0, 0, 0, 0.3));\n",
              "      fill: #FFFFFF;\n",
              "    }\n",
              "  </style>\n",
              "\n",
              "      <script>\n",
              "        const buttonEl =\n",
              "          document.querySelector('#df-67f9c3dd-9d8b-484d-baf1-c220a94329bc button.colab-df-convert');\n",
              "        buttonEl.style.display =\n",
              "          google.colab.kernel.accessAllowed ? 'block' : 'none';\n",
              "\n",
              "        async function convertToInteractive(key) {\n",
              "          const element = document.querySelector('#df-67f9c3dd-9d8b-484d-baf1-c220a94329bc');\n",
              "          const dataTable =\n",
              "            await google.colab.kernel.invokeFunction('convertToInteractive',\n",
              "                                                     [key], {});\n",
              "          if (!dataTable) return;\n",
              "\n",
              "          const docLinkHtml = 'Like what you see? Visit the ' +\n",
              "            '<a target=\"_blank\" href=https://colab.research.google.com/notebooks/data_table.ipynb>data table notebook</a>'\n",
              "            + ' to learn more about interactive tables.';\n",
              "          element.innerHTML = '';\n",
              "          dataTable['output_type'] = 'display_data';\n",
              "          await google.colab.output.renderOutput(dataTable, element);\n",
              "          const docLink = document.createElement('div');\n",
              "          docLink.innerHTML = docLinkHtml;\n",
              "          element.appendChild(docLink);\n",
              "        }\n",
              "      </script>\n",
              "    </div>\n",
              "  </div>\n",
              "  "
            ],
            "text/plain": [
              "                  count      mean       std  ...       50%       75%  max\n",
              "MinTemp        116368.0  0.512133  0.157596  ...  0.507426  0.626238  1.0\n",
              "MaxTemp        116368.0  0.529359  0.133940  ...  0.517958  0.623819  1.0\n",
              "Rainfall       116368.0  0.209625  0.369223  ...  0.000000  0.187500  1.0\n",
              "Evaporation    116368.0  0.233640  0.128450  ...  0.215596  0.238532  1.0\n",
              "Sunshine       116368.0  0.550516  0.190458  ...  0.579310  0.593103  1.0\n",
              "WindGustSpeed  116368.0  0.263427  0.101767  ...  0.255814  0.310078  1.0\n",
              "WindSpeed9am   116368.0  0.255080  0.160647  ...  0.236364  0.345455  1.0\n",
              "WindSpeed3pm   116368.0  0.327850  0.152642  ...  0.333333  0.421053  1.0\n",
              "Humidity9am    116368.0  0.689507  0.188114  ...  0.700000  0.830000  1.0\n",
              "Humidity3pm    116368.0  0.516058  0.204400  ...  0.520000  0.650000  1.0\n",
              "Pressure9am    116368.0  0.613882  0.111210  ...  0.613223  0.682645  1.0\n",
              "Pressure3pm    116368.0  0.610319  0.106584  ...  0.609600  0.676800  1.0\n",
              "Cloud9am       116368.0  0.518232  0.253410  ...  0.555556  0.666667  1.0\n",
              "Cloud3pm       116368.0  0.588841  0.263255  ...  0.625000  0.750000  1.0\n",
              "Temp9am        116368.0  0.510115  0.136068  ...  0.504219  0.605485  1.0\n",
              "Temp3pm        116368.0  0.519332  0.131445  ...  0.508637  0.606526  1.0\n",
              "Year           116368.0  0.576706  0.253840  ...  0.600000  0.800000  1.0\n",
              "Month          116368.0  0.490463  0.311405  ...  0.454545  0.727273  1.0\n",
              "Day            116368.0  0.491065  0.293231  ...  0.500000  0.733333  1.0\n",
              "\n",
              "[19 rows x 8 columns]"
            ]
          },
          "metadata": {},
          "execution_count": 593
        }
      ]
    },
    {
      "metadata": {
        "id": "n6-WVVH_KQXt"
      },
      "cell_type": "markdown",
      "source": [
        "\n",
        "Agora podemos ver que os outliers nas colunas `Rainfall`,` Evaporation`, `WindSpeed9am` e` WindSpeed3pm` são limitados."
      ]
    },
    {
      "metadata": {
        "id": "sJ2kBKvcKQXu"
      },
      "cell_type": "markdown",
      "source": [
        "### Encode (Codifique) variáveis ​​categóricas"
      ]
    },
    {
      "metadata": {
        "trusted": true,
        "colab": {
          "base_uri": "https://localhost:8080/"
        },
        "id": "mlPz1kbbKQXu",
        "outputId": "a3ea8af9-ab0f-48c3-ed78-bfe83765d042"
      },
      "cell_type": "code",
      "source": [
        "categorical"
      ],
      "execution_count": null,
      "outputs": [
        {
          "output_type": "execute_result",
          "data": {
            "text/plain": [
              "['Location',\n",
              " 'WindGustDir',\n",
              " 'WindDir9am',\n",
              " 'WindDir3pm',\n",
              " 'RainToday',\n",
              " 'RainTomorrow']"
            ]
          },
          "metadata": {},
          "execution_count": 594
        }
      ]
    },
    {
      "metadata": {
        "trusted": true,
        "colab": {
          "base_uri": "https://localhost:8080/",
          "height": 311
        },
        "id": "DviLdoD7KQXu",
        "outputId": "d7c56b26-dd54-433e-e227-a935b7e00c6d"
      },
      "cell_type": "code",
      "source": [
        "X_train[categorical].head()"
      ],
      "execution_count": null,
      "outputs": [
        {
          "output_type": "error",
          "ename": "KeyError",
          "evalue": "ignored",
          "traceback": [
            "\u001b[0;31m---------------------------------------------------------------------------\u001b[0m",
            "\u001b[0;31mKeyError\u001b[0m                                  Traceback (most recent call last)",
            "\u001b[0;32m<ipython-input-595-efe83d5db19e>\u001b[0m in \u001b[0;36m<module>\u001b[0;34m()\u001b[0m\n\u001b[0;32m----> 1\u001b[0;31m \u001b[0mX_train\u001b[0m\u001b[0;34m[\u001b[0m\u001b[0mcategorical\u001b[0m\u001b[0;34m]\u001b[0m\u001b[0;34m.\u001b[0m\u001b[0mhead\u001b[0m\u001b[0;34m(\u001b[0m\u001b[0;34m)\u001b[0m\u001b[0;34m\u001b[0m\u001b[0;34m\u001b[0m\u001b[0m\n\u001b[0m",
            "\u001b[0;32m/usr/local/lib/python3.7/dist-packages/pandas/core/frame.py\u001b[0m in \u001b[0;36m__getitem__\u001b[0;34m(self, key)\u001b[0m\n\u001b[1;32m   2910\u001b[0m             \u001b[0;32mif\u001b[0m \u001b[0mis_iterator\u001b[0m\u001b[0;34m(\u001b[0m\u001b[0mkey\u001b[0m\u001b[0;34m)\u001b[0m\u001b[0;34m:\u001b[0m\u001b[0;34m\u001b[0m\u001b[0;34m\u001b[0m\u001b[0m\n\u001b[1;32m   2911\u001b[0m                 \u001b[0mkey\u001b[0m \u001b[0;34m=\u001b[0m \u001b[0mlist\u001b[0m\u001b[0;34m(\u001b[0m\u001b[0mkey\u001b[0m\u001b[0;34m)\u001b[0m\u001b[0;34m\u001b[0m\u001b[0;34m\u001b[0m\u001b[0m\n\u001b[0;32m-> 2912\u001b[0;31m             \u001b[0mindexer\u001b[0m \u001b[0;34m=\u001b[0m \u001b[0mself\u001b[0m\u001b[0;34m.\u001b[0m\u001b[0mloc\u001b[0m\u001b[0;34m.\u001b[0m\u001b[0m_get_listlike_indexer\u001b[0m\u001b[0;34m(\u001b[0m\u001b[0mkey\u001b[0m\u001b[0;34m,\u001b[0m \u001b[0maxis\u001b[0m\u001b[0;34m=\u001b[0m\u001b[0;36m1\u001b[0m\u001b[0;34m,\u001b[0m \u001b[0mraise_missing\u001b[0m\u001b[0;34m=\u001b[0m\u001b[0;32mTrue\u001b[0m\u001b[0;34m)\u001b[0m\u001b[0;34m[\u001b[0m\u001b[0;36m1\u001b[0m\u001b[0;34m]\u001b[0m\u001b[0;34m\u001b[0m\u001b[0;34m\u001b[0m\u001b[0m\n\u001b[0m\u001b[1;32m   2913\u001b[0m \u001b[0;34m\u001b[0m\u001b[0m\n\u001b[1;32m   2914\u001b[0m         \u001b[0;31m# take() does not accept boolean indexers\u001b[0m\u001b[0;34m\u001b[0m\u001b[0;34m\u001b[0m\u001b[0;34m\u001b[0m\u001b[0m\n",
            "\u001b[0;32m/usr/local/lib/python3.7/dist-packages/pandas/core/indexing.py\u001b[0m in \u001b[0;36m_get_listlike_indexer\u001b[0;34m(self, key, axis, raise_missing)\u001b[0m\n\u001b[1;32m   1238\u001b[0m         \u001b[0;31m# Have the index compute an indexer or return None\u001b[0m\u001b[0;34m\u001b[0m\u001b[0;34m\u001b[0m\u001b[0;34m\u001b[0m\u001b[0m\n\u001b[1;32m   1239\u001b[0m         \u001b[0;31m# if it cannot handle:\u001b[0m\u001b[0;34m\u001b[0m\u001b[0;34m\u001b[0m\u001b[0;34m\u001b[0m\u001b[0m\n\u001b[0;32m-> 1240\u001b[0;31m         \u001b[0mindexer\u001b[0m\u001b[0;34m,\u001b[0m \u001b[0mkeyarr\u001b[0m \u001b[0;34m=\u001b[0m \u001b[0max\u001b[0m\u001b[0;34m.\u001b[0m\u001b[0m_convert_listlike_indexer\u001b[0m\u001b[0;34m(\u001b[0m\u001b[0mkey\u001b[0m\u001b[0;34m)\u001b[0m\u001b[0;34m\u001b[0m\u001b[0;34m\u001b[0m\u001b[0m\n\u001b[0m\u001b[1;32m   1241\u001b[0m         \u001b[0;31m# We only act on all found values:\u001b[0m\u001b[0;34m\u001b[0m\u001b[0;34m\u001b[0m\u001b[0;34m\u001b[0m\u001b[0m\n\u001b[1;32m   1242\u001b[0m         \u001b[0;32mif\u001b[0m \u001b[0mindexer\u001b[0m \u001b[0;32mis\u001b[0m \u001b[0;32mnot\u001b[0m \u001b[0;32mNone\u001b[0m \u001b[0;32mand\u001b[0m \u001b[0;34m(\u001b[0m\u001b[0mindexer\u001b[0m \u001b[0;34m!=\u001b[0m \u001b[0;34m-\u001b[0m\u001b[0;36m1\u001b[0m\u001b[0;34m)\u001b[0m\u001b[0;34m.\u001b[0m\u001b[0mall\u001b[0m\u001b[0;34m(\u001b[0m\u001b[0;34m)\u001b[0m\u001b[0;34m:\u001b[0m\u001b[0;34m\u001b[0m\u001b[0;34m\u001b[0m\u001b[0m\n",
            "\u001b[0;32m/usr/local/lib/python3.7/dist-packages/pandas/core/indexes/multi.py\u001b[0m in \u001b[0;36m_convert_listlike_indexer\u001b[0;34m(self, keyarr)\u001b[0m\n\u001b[1;32m   2398\u001b[0m             \u001b[0mmask\u001b[0m \u001b[0;34m=\u001b[0m \u001b[0mcheck\u001b[0m \u001b[0;34m==\u001b[0m \u001b[0;34m-\u001b[0m\u001b[0;36m1\u001b[0m\u001b[0;34m\u001b[0m\u001b[0;34m\u001b[0m\u001b[0m\n\u001b[1;32m   2399\u001b[0m             \u001b[0;32mif\u001b[0m \u001b[0mmask\u001b[0m\u001b[0;34m.\u001b[0m\u001b[0many\u001b[0m\u001b[0;34m(\u001b[0m\u001b[0;34m)\u001b[0m\u001b[0;34m:\u001b[0m\u001b[0;34m\u001b[0m\u001b[0;34m\u001b[0m\u001b[0m\n\u001b[0;32m-> 2400\u001b[0;31m                 \u001b[0;32mraise\u001b[0m \u001b[0mKeyError\u001b[0m\u001b[0;34m(\u001b[0m\u001b[0;34mf\"{keyarr[mask]} not in index\"\u001b[0m\u001b[0;34m)\u001b[0m\u001b[0;34m\u001b[0m\u001b[0;34m\u001b[0m\u001b[0m\n\u001b[0m\u001b[1;32m   2401\u001b[0m \u001b[0;34m\u001b[0m\u001b[0m\n\u001b[1;32m   2402\u001b[0m         \u001b[0;32mreturn\u001b[0m \u001b[0mindexer\u001b[0m\u001b[0;34m,\u001b[0m \u001b[0mkeyarr\u001b[0m\u001b[0;34m\u001b[0m\u001b[0;34m\u001b[0m\u001b[0m\n",
            "\u001b[0;31mKeyError\u001b[0m: \"['Location' 'WindGustDir' 'WindDir9am' 'WindDir3pm' 'RainToday'\\n 'RainTomorrow'] not in index\""
          ]
        }
      ]
    },
    {
      "cell_type": "code",
      "source": [
        "! pip install category_encoders"
      ],
      "metadata": {
        "colab": {
          "base_uri": "https://localhost:8080/"
        },
        "id": "KKsYFMavCcEk",
        "outputId": "a05d77d9-8178-4c06-868b-2ed021cd51d6"
      },
      "execution_count": null,
      "outputs": [
        {
          "output_type": "stream",
          "name": "stdout",
          "text": [
            "Requirement already satisfied: category_encoders in /usr/local/lib/python3.7/dist-packages (2.3.0)\n",
            "Requirement already satisfied: scipy>=1.0.0 in /usr/local/lib/python3.7/dist-packages (from category_encoders) (1.4.1)\n",
            "Requirement already satisfied: patsy>=0.5.1 in /usr/local/lib/python3.7/dist-packages (from category_encoders) (0.5.2)\n",
            "Requirement already satisfied: pandas>=0.21.1 in /usr/local/lib/python3.7/dist-packages (from category_encoders) (1.1.5)\n",
            "Requirement already satisfied: numpy>=1.14.0 in /usr/local/lib/python3.7/dist-packages (from category_encoders) (1.19.5)\n",
            "Requirement already satisfied: scikit-learn>=0.20.0 in /usr/local/lib/python3.7/dist-packages (from category_encoders) (1.0.1)\n",
            "Requirement already satisfied: statsmodels>=0.9.0 in /usr/local/lib/python3.7/dist-packages (from category_encoders) (0.10.2)\n",
            "Requirement already satisfied: python-dateutil>=2.7.3 in /usr/local/lib/python3.7/dist-packages (from pandas>=0.21.1->category_encoders) (2.8.2)\n",
            "Requirement already satisfied: pytz>=2017.2 in /usr/local/lib/python3.7/dist-packages (from pandas>=0.21.1->category_encoders) (2018.9)\n",
            "Requirement already satisfied: six in /usr/local/lib/python3.7/dist-packages (from patsy>=0.5.1->category_encoders) (1.15.0)\n",
            "Requirement already satisfied: joblib>=0.11 in /usr/local/lib/python3.7/dist-packages (from scikit-learn>=0.20.0->category_encoders) (1.1.0)\n",
            "Requirement already satisfied: threadpoolctl>=2.0.0 in /usr/local/lib/python3.7/dist-packages (from scikit-learn>=0.20.0->category_encoders) (3.0.0)\n"
          ]
        }
      ]
    },
    {
      "metadata": {
        "trusted": true,
        "id": "t5-KiKPhKQXv"
      },
      "cell_type": "code",
      "source": [
        "# codificar variável RainToday\n",
        "\n",
        "import category_encoders as ce\n",
        "\n",
        "encoder = ce.BinaryEncoder(cols=['RainToday'])\n",
        "\n",
        "X_train = encoder.fit_transform(X_train)\n",
        "\n",
        "X_test = encoder.transform(X_test)"
      ],
      "execution_count": null,
      "outputs": []
    },
    {
      "metadata": {
        "trusted": true,
        "colab": {
          "base_uri": "https://localhost:8080/",
          "height": 270
        },
        "id": "MebEtwJpKQXv",
        "outputId": "ea20557f-45ba-4425-b90a-a1401b9dcf67"
      },
      "cell_type": "code",
      "source": [
        "X_train.head()"
      ],
      "execution_count": null,
      "outputs": [
        {
          "output_type": "execute_result",
          "data": {
            "text/html": [
              "\n",
              "  <div id=\"df-4b4b3297-a21f-4603-acbc-1fe97c97f8ef\">\n",
              "    <div class=\"colab-df-container\">\n",
              "      <div>\n",
              "<style scoped>\n",
              "    .dataframe tbody tr th:only-of-type {\n",
              "        vertical-align: middle;\n",
              "    }\n",
              "\n",
              "    .dataframe tbody tr th {\n",
              "        vertical-align: top;\n",
              "    }\n",
              "\n",
              "    .dataframe thead th {\n",
              "        text-align: right;\n",
              "    }\n",
              "</style>\n",
              "<table border=\"1\" class=\"dataframe\">\n",
              "  <thead>\n",
              "    <tr style=\"text-align: right;\">\n",
              "      <th></th>\n",
              "      <th>Location</th>\n",
              "      <th>MinTemp</th>\n",
              "      <th>MaxTemp</th>\n",
              "      <th>Rainfall</th>\n",
              "      <th>Evaporation</th>\n",
              "      <th>Sunshine</th>\n",
              "      <th>WindGustDir</th>\n",
              "      <th>WindGustSpeed</th>\n",
              "      <th>WindDir9am</th>\n",
              "      <th>WindDir3pm</th>\n",
              "      <th>WindSpeed9am</th>\n",
              "      <th>WindSpeed3pm</th>\n",
              "      <th>Humidity9am</th>\n",
              "      <th>Humidity3pm</th>\n",
              "      <th>Pressure9am</th>\n",
              "      <th>Pressure3pm</th>\n",
              "      <th>Cloud9am</th>\n",
              "      <th>Cloud3pm</th>\n",
              "      <th>Temp9am</th>\n",
              "      <th>Temp3pm</th>\n",
              "      <th>RainToday_0</th>\n",
              "      <th>RainToday_1</th>\n",
              "      <th>Year</th>\n",
              "      <th>Month</th>\n",
              "      <th>Day</th>\n",
              "    </tr>\n",
              "  </thead>\n",
              "  <tbody>\n",
              "    <tr>\n",
              "      <th>22926</th>\n",
              "      <td>NorfolkIsland</td>\n",
              "      <td>18.8</td>\n",
              "      <td>23.7</td>\n",
              "      <td>0.2</td>\n",
              "      <td>5.0</td>\n",
              "      <td>7.3</td>\n",
              "      <td>ESE</td>\n",
              "      <td>52.0</td>\n",
              "      <td>ESE</td>\n",
              "      <td>ESE</td>\n",
              "      <td>31.0</td>\n",
              "      <td>28.0</td>\n",
              "      <td>74.0</td>\n",
              "      <td>73.0</td>\n",
              "      <td>1016.6</td>\n",
              "      <td>1013.9</td>\n",
              "      <td>5.0</td>\n",
              "      <td>7.0</td>\n",
              "      <td>21.4</td>\n",
              "      <td>22.2</td>\n",
              "      <td>0</td>\n",
              "      <td>1</td>\n",
              "      <td>2014</td>\n",
              "      <td>3</td>\n",
              "      <td>12</td>\n",
              "    </tr>\n",
              "    <tr>\n",
              "      <th>80735</th>\n",
              "      <td>Watsonia</td>\n",
              "      <td>9.3</td>\n",
              "      <td>24.0</td>\n",
              "      <td>0.2</td>\n",
              "      <td>1.6</td>\n",
              "      <td>10.9</td>\n",
              "      <td>NE</td>\n",
              "      <td>48.0</td>\n",
              "      <td>NNW</td>\n",
              "      <td>NNE</td>\n",
              "      <td>13.0</td>\n",
              "      <td>24.0</td>\n",
              "      <td>74.0</td>\n",
              "      <td>55.0</td>\n",
              "      <td>1018.3</td>\n",
              "      <td>1014.6</td>\n",
              "      <td>3.0</td>\n",
              "      <td>5.0</td>\n",
              "      <td>14.3</td>\n",
              "      <td>23.2</td>\n",
              "      <td>0</td>\n",
              "      <td>1</td>\n",
              "      <td>2016</td>\n",
              "      <td>10</td>\n",
              "      <td>6</td>\n",
              "    </tr>\n",
              "    <tr>\n",
              "      <th>121764</th>\n",
              "      <td>Perth</td>\n",
              "      <td>10.9</td>\n",
              "      <td>22.2</td>\n",
              "      <td>1.4</td>\n",
              "      <td>1.2</td>\n",
              "      <td>9.6</td>\n",
              "      <td>SW</td>\n",
              "      <td>26.0</td>\n",
              "      <td>N</td>\n",
              "      <td>SW</td>\n",
              "      <td>0.0</td>\n",
              "      <td>11.0</td>\n",
              "      <td>85.0</td>\n",
              "      <td>47.0</td>\n",
              "      <td>1017.6</td>\n",
              "      <td>1014.9</td>\n",
              "      <td>1.0</td>\n",
              "      <td>2.0</td>\n",
              "      <td>16.6</td>\n",
              "      <td>21.5</td>\n",
              "      <td>1</td>\n",
              "      <td>0</td>\n",
              "      <td>2011</td>\n",
              "      <td>8</td>\n",
              "      <td>31</td>\n",
              "    </tr>\n",
              "    <tr>\n",
              "      <th>139821</th>\n",
              "      <td>Darwin</td>\n",
              "      <td>19.3</td>\n",
              "      <td>29.9</td>\n",
              "      <td>0.0</td>\n",
              "      <td>9.2</td>\n",
              "      <td>11.0</td>\n",
              "      <td>ESE</td>\n",
              "      <td>43.0</td>\n",
              "      <td>ESE</td>\n",
              "      <td>E</td>\n",
              "      <td>26.0</td>\n",
              "      <td>17.0</td>\n",
              "      <td>44.0</td>\n",
              "      <td>37.0</td>\n",
              "      <td>1015.9</td>\n",
              "      <td>1012.1</td>\n",
              "      <td>1.0</td>\n",
              "      <td>1.0</td>\n",
              "      <td>23.2</td>\n",
              "      <td>29.1</td>\n",
              "      <td>0</td>\n",
              "      <td>1</td>\n",
              "      <td>2010</td>\n",
              "      <td>6</td>\n",
              "      <td>11</td>\n",
              "    </tr>\n",
              "    <tr>\n",
              "      <th>1867</th>\n",
              "      <td>Albury</td>\n",
              "      <td>15.7</td>\n",
              "      <td>17.6</td>\n",
              "      <td>3.2</td>\n",
              "      <td>4.7</td>\n",
              "      <td>8.4</td>\n",
              "      <td>E</td>\n",
              "      <td>20.0</td>\n",
              "      <td>ESE</td>\n",
              "      <td>E</td>\n",
              "      <td>11.0</td>\n",
              "      <td>13.0</td>\n",
              "      <td>100.0</td>\n",
              "      <td>100.0</td>\n",
              "      <td>1015.2</td>\n",
              "      <td>1010.5</td>\n",
              "      <td>8.0</td>\n",
              "      <td>8.0</td>\n",
              "      <td>16.5</td>\n",
              "      <td>17.3</td>\n",
              "      <td>1</td>\n",
              "      <td>0</td>\n",
              "      <td>2014</td>\n",
              "      <td>4</td>\n",
              "      <td>10</td>\n",
              "    </tr>\n",
              "  </tbody>\n",
              "</table>\n",
              "</div>\n",
              "      <button class=\"colab-df-convert\" onclick=\"convertToInteractive('df-4b4b3297-a21f-4603-acbc-1fe97c97f8ef')\"\n",
              "              title=\"Convert this dataframe to an interactive table.\"\n",
              "              style=\"display:none;\">\n",
              "        \n",
              "  <svg xmlns=\"http://www.w3.org/2000/svg\" height=\"24px\"viewBox=\"0 0 24 24\"\n",
              "       width=\"24px\">\n",
              "    <path d=\"M0 0h24v24H0V0z\" fill=\"none\"/>\n",
              "    <path d=\"M18.56 5.44l.94 2.06.94-2.06 2.06-.94-2.06-.94-.94-2.06-.94 2.06-2.06.94zm-11 1L8.5 8.5l.94-2.06 2.06-.94-2.06-.94L8.5 2.5l-.94 2.06-2.06.94zm10 10l.94 2.06.94-2.06 2.06-.94-2.06-.94-.94-2.06-.94 2.06-2.06.94z\"/><path d=\"M17.41 7.96l-1.37-1.37c-.4-.4-.92-.59-1.43-.59-.52 0-1.04.2-1.43.59L10.3 9.45l-7.72 7.72c-.78.78-.78 2.05 0 2.83L4 21.41c.39.39.9.59 1.41.59.51 0 1.02-.2 1.41-.59l7.78-7.78 2.81-2.81c.8-.78.8-2.07 0-2.86zM5.41 20L4 18.59l7.72-7.72 1.47 1.35L5.41 20z\"/>\n",
              "  </svg>\n",
              "      </button>\n",
              "      \n",
              "  <style>\n",
              "    .colab-df-container {\n",
              "      display:flex;\n",
              "      flex-wrap:wrap;\n",
              "      gap: 12px;\n",
              "    }\n",
              "\n",
              "    .colab-df-convert {\n",
              "      background-color: #E8F0FE;\n",
              "      border: none;\n",
              "      border-radius: 50%;\n",
              "      cursor: pointer;\n",
              "      display: none;\n",
              "      fill: #1967D2;\n",
              "      height: 32px;\n",
              "      padding: 0 0 0 0;\n",
              "      width: 32px;\n",
              "    }\n",
              "\n",
              "    .colab-df-convert:hover {\n",
              "      background-color: #E2EBFA;\n",
              "      box-shadow: 0px 1px 2px rgba(60, 64, 67, 0.3), 0px 1px 3px 1px rgba(60, 64, 67, 0.15);\n",
              "      fill: #174EA6;\n",
              "    }\n",
              "\n",
              "    [theme=dark] .colab-df-convert {\n",
              "      background-color: #3B4455;\n",
              "      fill: #D2E3FC;\n",
              "    }\n",
              "\n",
              "    [theme=dark] .colab-df-convert:hover {\n",
              "      background-color: #434B5C;\n",
              "      box-shadow: 0px 1px 3px 1px rgba(0, 0, 0, 0.15);\n",
              "      filter: drop-shadow(0px 1px 2px rgba(0, 0, 0, 0.3));\n",
              "      fill: #FFFFFF;\n",
              "    }\n",
              "  </style>\n",
              "\n",
              "      <script>\n",
              "        const buttonEl =\n",
              "          document.querySelector('#df-4b4b3297-a21f-4603-acbc-1fe97c97f8ef button.colab-df-convert');\n",
              "        buttonEl.style.display =\n",
              "          google.colab.kernel.accessAllowed ? 'block' : 'none';\n",
              "\n",
              "        async function convertToInteractive(key) {\n",
              "          const element = document.querySelector('#df-4b4b3297-a21f-4603-acbc-1fe97c97f8ef');\n",
              "          const dataTable =\n",
              "            await google.colab.kernel.invokeFunction('convertToInteractive',\n",
              "                                                     [key], {});\n",
              "          if (!dataTable) return;\n",
              "\n",
              "          const docLinkHtml = 'Like what you see? Visit the ' +\n",
              "            '<a target=\"_blank\" href=https://colab.research.google.com/notebooks/data_table.ipynb>data table notebook</a>'\n",
              "            + ' to learn more about interactive tables.';\n",
              "          element.innerHTML = '';\n",
              "          dataTable['output_type'] = 'display_data';\n",
              "          await google.colab.output.renderOutput(dataTable, element);\n",
              "          const docLink = document.createElement('div');\n",
              "          docLink.innerHTML = docLinkHtml;\n",
              "          element.appendChild(docLink);\n",
              "        }\n",
              "      </script>\n",
              "    </div>\n",
              "  </div>\n",
              "  "
            ],
            "text/plain": [
              "             Location  MinTemp  MaxTemp  ...  Year  Month  Day\n",
              "22926   NorfolkIsland     18.8     23.7  ...  2014      3   12\n",
              "80735        Watsonia      9.3     24.0  ...  2016     10    6\n",
              "121764          Perth     10.9     22.2  ...  2011      8   31\n",
              "139821         Darwin     19.3     29.9  ...  2010      6   11\n",
              "1867           Albury     15.7     17.6  ...  2014      4   10\n",
              "\n",
              "[5 rows x 25 columns]"
            ]
          },
          "metadata": {},
          "execution_count": 431
        }
      ]
    },
    {
      "metadata": {
        "id": "ioNdFXH0KQXv"
      },
      "cell_type": "markdown",
      "source": [
        "Podemos ver que duas variáveis ​​adicionais `RainToday_0` e` RainToday_1` são criadas a partir da variável `RainToday`.\n",
        "\n",
        "Agora, vou criar o conjunto de treinamento `X_train`."
      ]
    },
    {
      "metadata": {
        "trusted": true,
        "id": "rYDZWfFhKQXw"
      },
      "cell_type": "code",
      "source": [
        "X_train = pd.concat([X_train[numerical], X_train[['RainToday_0', 'RainToday_1']],\n",
        "                     pd.get_dummies(X_train.Location), \n",
        "                     pd.get_dummies(X_train.WindGustDir),\n",
        "                     pd.get_dummies(X_train.WindDir9am),\n",
        "                     pd.get_dummies(X_train.WindDir3pm)], axis=1)"
      ],
      "execution_count": null,
      "outputs": []
    },
    {
      "metadata": {
        "trusted": true,
        "colab": {
          "base_uri": "https://localhost:8080/",
          "height": 300
        },
        "id": "WPySBzNGKQXw",
        "outputId": "562cc289-503f-4324-a0d9-8f28d2f7fcc0"
      },
      "cell_type": "code",
      "source": [
        "X_train.head()"
      ],
      "execution_count": null,
      "outputs": [
        {
          "output_type": "execute_result",
          "data": {
            "text/html": [
              "\n",
              "  <div id=\"df-e5e5b9a6-964b-41d6-9b90-ec3f38224aae\">\n",
              "    <div class=\"colab-df-container\">\n",
              "      <div>\n",
              "<style scoped>\n",
              "    .dataframe tbody tr th:only-of-type {\n",
              "        vertical-align: middle;\n",
              "    }\n",
              "\n",
              "    .dataframe tbody tr th {\n",
              "        vertical-align: top;\n",
              "    }\n",
              "\n",
              "    .dataframe thead th {\n",
              "        text-align: right;\n",
              "    }\n",
              "</style>\n",
              "<table border=\"1\" class=\"dataframe\">\n",
              "  <thead>\n",
              "    <tr style=\"text-align: right;\">\n",
              "      <th></th>\n",
              "      <th>MinTemp</th>\n",
              "      <th>MaxTemp</th>\n",
              "      <th>Rainfall</th>\n",
              "      <th>Evaporation</th>\n",
              "      <th>Sunshine</th>\n",
              "      <th>WindGustSpeed</th>\n",
              "      <th>WindSpeed9am</th>\n",
              "      <th>WindSpeed3pm</th>\n",
              "      <th>Humidity9am</th>\n",
              "      <th>Humidity3pm</th>\n",
              "      <th>Pressure9am</th>\n",
              "      <th>Pressure3pm</th>\n",
              "      <th>Cloud9am</th>\n",
              "      <th>Cloud3pm</th>\n",
              "      <th>Temp9am</th>\n",
              "      <th>Temp3pm</th>\n",
              "      <th>Year</th>\n",
              "      <th>Month</th>\n",
              "      <th>Day</th>\n",
              "      <th>RainToday_0</th>\n",
              "      <th>RainToday_1</th>\n",
              "      <th>Adelaide</th>\n",
              "      <th>Albany</th>\n",
              "      <th>Albury</th>\n",
              "      <th>AliceSprings</th>\n",
              "      <th>BadgerysCreek</th>\n",
              "      <th>Ballarat</th>\n",
              "      <th>Bendigo</th>\n",
              "      <th>Brisbane</th>\n",
              "      <th>Cairns</th>\n",
              "      <th>Canberra</th>\n",
              "      <th>Cobar</th>\n",
              "      <th>CoffsHarbour</th>\n",
              "      <th>Dartmoor</th>\n",
              "      <th>Darwin</th>\n",
              "      <th>GoldCoast</th>\n",
              "      <th>Hobart</th>\n",
              "      <th>Katherine</th>\n",
              "      <th>Launceston</th>\n",
              "      <th>Melbourne</th>\n",
              "      <th>...</th>\n",
              "      <th>S</th>\n",
              "      <th>SE</th>\n",
              "      <th>SSE</th>\n",
              "      <th>SSW</th>\n",
              "      <th>SW</th>\n",
              "      <th>W</th>\n",
              "      <th>WNW</th>\n",
              "      <th>WSW</th>\n",
              "      <th>E</th>\n",
              "      <th>ENE</th>\n",
              "      <th>ESE</th>\n",
              "      <th>N</th>\n",
              "      <th>NE</th>\n",
              "      <th>NNE</th>\n",
              "      <th>NNW</th>\n",
              "      <th>NW</th>\n",
              "      <th>S</th>\n",
              "      <th>SE</th>\n",
              "      <th>SSE</th>\n",
              "      <th>SSW</th>\n",
              "      <th>SW</th>\n",
              "      <th>W</th>\n",
              "      <th>WNW</th>\n",
              "      <th>WSW</th>\n",
              "      <th>E</th>\n",
              "      <th>ENE</th>\n",
              "      <th>ESE</th>\n",
              "      <th>N</th>\n",
              "      <th>NE</th>\n",
              "      <th>NNE</th>\n",
              "      <th>NNW</th>\n",
              "      <th>NW</th>\n",
              "      <th>S</th>\n",
              "      <th>SE</th>\n",
              "      <th>SSE</th>\n",
              "      <th>SSW</th>\n",
              "      <th>SW</th>\n",
              "      <th>W</th>\n",
              "      <th>WNW</th>\n",
              "      <th>WSW</th>\n",
              "    </tr>\n",
              "  </thead>\n",
              "  <tbody>\n",
              "    <tr>\n",
              "      <th>22926</th>\n",
              "      <td>18.8</td>\n",
              "      <td>23.7</td>\n",
              "      <td>0.2</td>\n",
              "      <td>5.0</td>\n",
              "      <td>7.3</td>\n",
              "      <td>52.0</td>\n",
              "      <td>31.0</td>\n",
              "      <td>28.0</td>\n",
              "      <td>74.0</td>\n",
              "      <td>73.0</td>\n",
              "      <td>1016.6</td>\n",
              "      <td>1013.9</td>\n",
              "      <td>5.0</td>\n",
              "      <td>7.0</td>\n",
              "      <td>21.4</td>\n",
              "      <td>22.2</td>\n",
              "      <td>2014</td>\n",
              "      <td>3</td>\n",
              "      <td>12</td>\n",
              "      <td>0</td>\n",
              "      <td>1</td>\n",
              "      <td>0</td>\n",
              "      <td>0</td>\n",
              "      <td>0</td>\n",
              "      <td>0</td>\n",
              "      <td>0</td>\n",
              "      <td>0</td>\n",
              "      <td>0</td>\n",
              "      <td>0</td>\n",
              "      <td>0</td>\n",
              "      <td>0</td>\n",
              "      <td>0</td>\n",
              "      <td>0</td>\n",
              "      <td>0</td>\n",
              "      <td>0</td>\n",
              "      <td>0</td>\n",
              "      <td>0</td>\n",
              "      <td>0</td>\n",
              "      <td>0</td>\n",
              "      <td>0</td>\n",
              "      <td>...</td>\n",
              "      <td>0</td>\n",
              "      <td>0</td>\n",
              "      <td>0</td>\n",
              "      <td>0</td>\n",
              "      <td>0</td>\n",
              "      <td>0</td>\n",
              "      <td>0</td>\n",
              "      <td>0</td>\n",
              "      <td>0</td>\n",
              "      <td>0</td>\n",
              "      <td>1</td>\n",
              "      <td>0</td>\n",
              "      <td>0</td>\n",
              "      <td>0</td>\n",
              "      <td>0</td>\n",
              "      <td>0</td>\n",
              "      <td>0</td>\n",
              "      <td>0</td>\n",
              "      <td>0</td>\n",
              "      <td>0</td>\n",
              "      <td>0</td>\n",
              "      <td>0</td>\n",
              "      <td>0</td>\n",
              "      <td>0</td>\n",
              "      <td>0</td>\n",
              "      <td>0</td>\n",
              "      <td>1</td>\n",
              "      <td>0</td>\n",
              "      <td>0</td>\n",
              "      <td>0</td>\n",
              "      <td>0</td>\n",
              "      <td>0</td>\n",
              "      <td>0</td>\n",
              "      <td>0</td>\n",
              "      <td>0</td>\n",
              "      <td>0</td>\n",
              "      <td>0</td>\n",
              "      <td>0</td>\n",
              "      <td>0</td>\n",
              "      <td>0</td>\n",
              "    </tr>\n",
              "    <tr>\n",
              "      <th>80735</th>\n",
              "      <td>9.3</td>\n",
              "      <td>24.0</td>\n",
              "      <td>0.2</td>\n",
              "      <td>1.6</td>\n",
              "      <td>10.9</td>\n",
              "      <td>48.0</td>\n",
              "      <td>13.0</td>\n",
              "      <td>24.0</td>\n",
              "      <td>74.0</td>\n",
              "      <td>55.0</td>\n",
              "      <td>1018.3</td>\n",
              "      <td>1014.6</td>\n",
              "      <td>3.0</td>\n",
              "      <td>5.0</td>\n",
              "      <td>14.3</td>\n",
              "      <td>23.2</td>\n",
              "      <td>2016</td>\n",
              "      <td>10</td>\n",
              "      <td>6</td>\n",
              "      <td>0</td>\n",
              "      <td>1</td>\n",
              "      <td>0</td>\n",
              "      <td>0</td>\n",
              "      <td>0</td>\n",
              "      <td>0</td>\n",
              "      <td>0</td>\n",
              "      <td>0</td>\n",
              "      <td>0</td>\n",
              "      <td>0</td>\n",
              "      <td>0</td>\n",
              "      <td>0</td>\n",
              "      <td>0</td>\n",
              "      <td>0</td>\n",
              "      <td>0</td>\n",
              "      <td>0</td>\n",
              "      <td>0</td>\n",
              "      <td>0</td>\n",
              "      <td>0</td>\n",
              "      <td>0</td>\n",
              "      <td>0</td>\n",
              "      <td>...</td>\n",
              "      <td>0</td>\n",
              "      <td>0</td>\n",
              "      <td>0</td>\n",
              "      <td>0</td>\n",
              "      <td>0</td>\n",
              "      <td>0</td>\n",
              "      <td>0</td>\n",
              "      <td>0</td>\n",
              "      <td>0</td>\n",
              "      <td>0</td>\n",
              "      <td>0</td>\n",
              "      <td>0</td>\n",
              "      <td>0</td>\n",
              "      <td>0</td>\n",
              "      <td>1</td>\n",
              "      <td>0</td>\n",
              "      <td>0</td>\n",
              "      <td>0</td>\n",
              "      <td>0</td>\n",
              "      <td>0</td>\n",
              "      <td>0</td>\n",
              "      <td>0</td>\n",
              "      <td>0</td>\n",
              "      <td>0</td>\n",
              "      <td>0</td>\n",
              "      <td>0</td>\n",
              "      <td>0</td>\n",
              "      <td>0</td>\n",
              "      <td>0</td>\n",
              "      <td>1</td>\n",
              "      <td>0</td>\n",
              "      <td>0</td>\n",
              "      <td>0</td>\n",
              "      <td>0</td>\n",
              "      <td>0</td>\n",
              "      <td>0</td>\n",
              "      <td>0</td>\n",
              "      <td>0</td>\n",
              "      <td>0</td>\n",
              "      <td>0</td>\n",
              "    </tr>\n",
              "    <tr>\n",
              "      <th>121764</th>\n",
              "      <td>10.9</td>\n",
              "      <td>22.2</td>\n",
              "      <td>1.4</td>\n",
              "      <td>1.2</td>\n",
              "      <td>9.6</td>\n",
              "      <td>26.0</td>\n",
              "      <td>0.0</td>\n",
              "      <td>11.0</td>\n",
              "      <td>85.0</td>\n",
              "      <td>47.0</td>\n",
              "      <td>1017.6</td>\n",
              "      <td>1014.9</td>\n",
              "      <td>1.0</td>\n",
              "      <td>2.0</td>\n",
              "      <td>16.6</td>\n",
              "      <td>21.5</td>\n",
              "      <td>2011</td>\n",
              "      <td>8</td>\n",
              "      <td>31</td>\n",
              "      <td>1</td>\n",
              "      <td>0</td>\n",
              "      <td>0</td>\n",
              "      <td>0</td>\n",
              "      <td>0</td>\n",
              "      <td>0</td>\n",
              "      <td>0</td>\n",
              "      <td>0</td>\n",
              "      <td>0</td>\n",
              "      <td>0</td>\n",
              "      <td>0</td>\n",
              "      <td>0</td>\n",
              "      <td>0</td>\n",
              "      <td>0</td>\n",
              "      <td>0</td>\n",
              "      <td>0</td>\n",
              "      <td>0</td>\n",
              "      <td>0</td>\n",
              "      <td>0</td>\n",
              "      <td>0</td>\n",
              "      <td>0</td>\n",
              "      <td>...</td>\n",
              "      <td>0</td>\n",
              "      <td>0</td>\n",
              "      <td>0</td>\n",
              "      <td>0</td>\n",
              "      <td>1</td>\n",
              "      <td>0</td>\n",
              "      <td>0</td>\n",
              "      <td>0</td>\n",
              "      <td>0</td>\n",
              "      <td>0</td>\n",
              "      <td>0</td>\n",
              "      <td>1</td>\n",
              "      <td>0</td>\n",
              "      <td>0</td>\n",
              "      <td>0</td>\n",
              "      <td>0</td>\n",
              "      <td>0</td>\n",
              "      <td>0</td>\n",
              "      <td>0</td>\n",
              "      <td>0</td>\n",
              "      <td>0</td>\n",
              "      <td>0</td>\n",
              "      <td>0</td>\n",
              "      <td>0</td>\n",
              "      <td>0</td>\n",
              "      <td>0</td>\n",
              "      <td>0</td>\n",
              "      <td>0</td>\n",
              "      <td>0</td>\n",
              "      <td>0</td>\n",
              "      <td>0</td>\n",
              "      <td>0</td>\n",
              "      <td>0</td>\n",
              "      <td>0</td>\n",
              "      <td>0</td>\n",
              "      <td>0</td>\n",
              "      <td>1</td>\n",
              "      <td>0</td>\n",
              "      <td>0</td>\n",
              "      <td>0</td>\n",
              "    </tr>\n",
              "    <tr>\n",
              "      <th>139821</th>\n",
              "      <td>19.3</td>\n",
              "      <td>29.9</td>\n",
              "      <td>0.0</td>\n",
              "      <td>9.2</td>\n",
              "      <td>11.0</td>\n",
              "      <td>43.0</td>\n",
              "      <td>26.0</td>\n",
              "      <td>17.0</td>\n",
              "      <td>44.0</td>\n",
              "      <td>37.0</td>\n",
              "      <td>1015.9</td>\n",
              "      <td>1012.1</td>\n",
              "      <td>1.0</td>\n",
              "      <td>1.0</td>\n",
              "      <td>23.2</td>\n",
              "      <td>29.1</td>\n",
              "      <td>2010</td>\n",
              "      <td>6</td>\n",
              "      <td>11</td>\n",
              "      <td>0</td>\n",
              "      <td>1</td>\n",
              "      <td>0</td>\n",
              "      <td>0</td>\n",
              "      <td>0</td>\n",
              "      <td>0</td>\n",
              "      <td>0</td>\n",
              "      <td>0</td>\n",
              "      <td>0</td>\n",
              "      <td>0</td>\n",
              "      <td>0</td>\n",
              "      <td>0</td>\n",
              "      <td>0</td>\n",
              "      <td>0</td>\n",
              "      <td>0</td>\n",
              "      <td>1</td>\n",
              "      <td>0</td>\n",
              "      <td>0</td>\n",
              "      <td>0</td>\n",
              "      <td>0</td>\n",
              "      <td>0</td>\n",
              "      <td>...</td>\n",
              "      <td>0</td>\n",
              "      <td>0</td>\n",
              "      <td>0</td>\n",
              "      <td>0</td>\n",
              "      <td>0</td>\n",
              "      <td>0</td>\n",
              "      <td>0</td>\n",
              "      <td>0</td>\n",
              "      <td>0</td>\n",
              "      <td>0</td>\n",
              "      <td>1</td>\n",
              "      <td>0</td>\n",
              "      <td>0</td>\n",
              "      <td>0</td>\n",
              "      <td>0</td>\n",
              "      <td>0</td>\n",
              "      <td>0</td>\n",
              "      <td>0</td>\n",
              "      <td>0</td>\n",
              "      <td>0</td>\n",
              "      <td>0</td>\n",
              "      <td>0</td>\n",
              "      <td>0</td>\n",
              "      <td>0</td>\n",
              "      <td>1</td>\n",
              "      <td>0</td>\n",
              "      <td>0</td>\n",
              "      <td>0</td>\n",
              "      <td>0</td>\n",
              "      <td>0</td>\n",
              "      <td>0</td>\n",
              "      <td>0</td>\n",
              "      <td>0</td>\n",
              "      <td>0</td>\n",
              "      <td>0</td>\n",
              "      <td>0</td>\n",
              "      <td>0</td>\n",
              "      <td>0</td>\n",
              "      <td>0</td>\n",
              "      <td>0</td>\n",
              "    </tr>\n",
              "    <tr>\n",
              "      <th>1867</th>\n",
              "      <td>15.7</td>\n",
              "      <td>17.6</td>\n",
              "      <td>3.2</td>\n",
              "      <td>4.7</td>\n",
              "      <td>8.4</td>\n",
              "      <td>20.0</td>\n",
              "      <td>11.0</td>\n",
              "      <td>13.0</td>\n",
              "      <td>100.0</td>\n",
              "      <td>100.0</td>\n",
              "      <td>1015.2</td>\n",
              "      <td>1010.5</td>\n",
              "      <td>8.0</td>\n",
              "      <td>8.0</td>\n",
              "      <td>16.5</td>\n",
              "      <td>17.3</td>\n",
              "      <td>2014</td>\n",
              "      <td>4</td>\n",
              "      <td>10</td>\n",
              "      <td>1</td>\n",
              "      <td>0</td>\n",
              "      <td>0</td>\n",
              "      <td>0</td>\n",
              "      <td>1</td>\n",
              "      <td>0</td>\n",
              "      <td>0</td>\n",
              "      <td>0</td>\n",
              "      <td>0</td>\n",
              "      <td>0</td>\n",
              "      <td>0</td>\n",
              "      <td>0</td>\n",
              "      <td>0</td>\n",
              "      <td>0</td>\n",
              "      <td>0</td>\n",
              "      <td>0</td>\n",
              "      <td>0</td>\n",
              "      <td>0</td>\n",
              "      <td>0</td>\n",
              "      <td>0</td>\n",
              "      <td>0</td>\n",
              "      <td>...</td>\n",
              "      <td>0</td>\n",
              "      <td>0</td>\n",
              "      <td>0</td>\n",
              "      <td>0</td>\n",
              "      <td>0</td>\n",
              "      <td>0</td>\n",
              "      <td>0</td>\n",
              "      <td>0</td>\n",
              "      <td>0</td>\n",
              "      <td>0</td>\n",
              "      <td>1</td>\n",
              "      <td>0</td>\n",
              "      <td>0</td>\n",
              "      <td>0</td>\n",
              "      <td>0</td>\n",
              "      <td>0</td>\n",
              "      <td>0</td>\n",
              "      <td>0</td>\n",
              "      <td>0</td>\n",
              "      <td>0</td>\n",
              "      <td>0</td>\n",
              "      <td>0</td>\n",
              "      <td>0</td>\n",
              "      <td>0</td>\n",
              "      <td>1</td>\n",
              "      <td>0</td>\n",
              "      <td>0</td>\n",
              "      <td>0</td>\n",
              "      <td>0</td>\n",
              "      <td>0</td>\n",
              "      <td>0</td>\n",
              "      <td>0</td>\n",
              "      <td>0</td>\n",
              "      <td>0</td>\n",
              "      <td>0</td>\n",
              "      <td>0</td>\n",
              "      <td>0</td>\n",
              "      <td>0</td>\n",
              "      <td>0</td>\n",
              "      <td>0</td>\n",
              "    </tr>\n",
              "  </tbody>\n",
              "</table>\n",
              "<p>5 rows × 118 columns</p>\n",
              "</div>\n",
              "      <button class=\"colab-df-convert\" onclick=\"convertToInteractive('df-e5e5b9a6-964b-41d6-9b90-ec3f38224aae')\"\n",
              "              title=\"Convert this dataframe to an interactive table.\"\n",
              "              style=\"display:none;\">\n",
              "        \n",
              "  <svg xmlns=\"http://www.w3.org/2000/svg\" height=\"24px\"viewBox=\"0 0 24 24\"\n",
              "       width=\"24px\">\n",
              "    <path d=\"M0 0h24v24H0V0z\" fill=\"none\"/>\n",
              "    <path d=\"M18.56 5.44l.94 2.06.94-2.06 2.06-.94-2.06-.94-.94-2.06-.94 2.06-2.06.94zm-11 1L8.5 8.5l.94-2.06 2.06-.94-2.06-.94L8.5 2.5l-.94 2.06-2.06.94zm10 10l.94 2.06.94-2.06 2.06-.94-2.06-.94-.94-2.06-.94 2.06-2.06.94z\"/><path d=\"M17.41 7.96l-1.37-1.37c-.4-.4-.92-.59-1.43-.59-.52 0-1.04.2-1.43.59L10.3 9.45l-7.72 7.72c-.78.78-.78 2.05 0 2.83L4 21.41c.39.39.9.59 1.41.59.51 0 1.02-.2 1.41-.59l7.78-7.78 2.81-2.81c.8-.78.8-2.07 0-2.86zM5.41 20L4 18.59l7.72-7.72 1.47 1.35L5.41 20z\"/>\n",
              "  </svg>\n",
              "      </button>\n",
              "      \n",
              "  <style>\n",
              "    .colab-df-container {\n",
              "      display:flex;\n",
              "      flex-wrap:wrap;\n",
              "      gap: 12px;\n",
              "    }\n",
              "\n",
              "    .colab-df-convert {\n",
              "      background-color: #E8F0FE;\n",
              "      border: none;\n",
              "      border-radius: 50%;\n",
              "      cursor: pointer;\n",
              "      display: none;\n",
              "      fill: #1967D2;\n",
              "      height: 32px;\n",
              "      padding: 0 0 0 0;\n",
              "      width: 32px;\n",
              "    }\n",
              "\n",
              "    .colab-df-convert:hover {\n",
              "      background-color: #E2EBFA;\n",
              "      box-shadow: 0px 1px 2px rgba(60, 64, 67, 0.3), 0px 1px 3px 1px rgba(60, 64, 67, 0.15);\n",
              "      fill: #174EA6;\n",
              "    }\n",
              "\n",
              "    [theme=dark] .colab-df-convert {\n",
              "      background-color: #3B4455;\n",
              "      fill: #D2E3FC;\n",
              "    }\n",
              "\n",
              "    [theme=dark] .colab-df-convert:hover {\n",
              "      background-color: #434B5C;\n",
              "      box-shadow: 0px 1px 3px 1px rgba(0, 0, 0, 0.15);\n",
              "      filter: drop-shadow(0px 1px 2px rgba(0, 0, 0, 0.3));\n",
              "      fill: #FFFFFF;\n",
              "    }\n",
              "  </style>\n",
              "\n",
              "      <script>\n",
              "        const buttonEl =\n",
              "          document.querySelector('#df-e5e5b9a6-964b-41d6-9b90-ec3f38224aae button.colab-df-convert');\n",
              "        buttonEl.style.display =\n",
              "          google.colab.kernel.accessAllowed ? 'block' : 'none';\n",
              "\n",
              "        async function convertToInteractive(key) {\n",
              "          const element = document.querySelector('#df-e5e5b9a6-964b-41d6-9b90-ec3f38224aae');\n",
              "          const dataTable =\n",
              "            await google.colab.kernel.invokeFunction('convertToInteractive',\n",
              "                                                     [key], {});\n",
              "          if (!dataTable) return;\n",
              "\n",
              "          const docLinkHtml = 'Like what you see? Visit the ' +\n",
              "            '<a target=\"_blank\" href=https://colab.research.google.com/notebooks/data_table.ipynb>data table notebook</a>'\n",
              "            + ' to learn more about interactive tables.';\n",
              "          element.innerHTML = '';\n",
              "          dataTable['output_type'] = 'display_data';\n",
              "          await google.colab.output.renderOutput(dataTable, element);\n",
              "          const docLink = document.createElement('div');\n",
              "          docLink.innerHTML = docLinkHtml;\n",
              "          element.appendChild(docLink);\n",
              "        }\n",
              "      </script>\n",
              "    </div>\n",
              "  </div>\n",
              "  "
            ],
            "text/plain": [
              "        MinTemp  MaxTemp  Rainfall  Evaporation  Sunshine  ...  SSW  SW  W  WNW  WSW\n",
              "22926      18.8     23.7       0.2          5.0       7.3  ...    0   0  0    0    0\n",
              "80735       9.3     24.0       0.2          1.6      10.9  ...    0   0  0    0    0\n",
              "121764     10.9     22.2       1.4          1.2       9.6  ...    0   1  0    0    0\n",
              "139821     19.3     29.9       0.0          9.2      11.0  ...    0   0  0    0    0\n",
              "1867       15.7     17.6       3.2          4.7       8.4  ...    0   0  0    0    0\n",
              "\n",
              "[5 rows x 118 columns]"
            ]
          },
          "metadata": {},
          "execution_count": 433
        }
      ]
    },
    {
      "metadata": {
        "id": "NJwWq5gzKQXw"
      },
      "cell_type": "markdown",
      "source": [
        "Da mesma forma, vou criar o conjunto de testes `X_test`."
      ]
    },
    {
      "metadata": {
        "trusted": true,
        "id": "OJp95nghKQXw"
      },
      "cell_type": "code",
      "source": [
        "X_test = pd.concat([X_test[numerical], X_test[['RainToday_0', 'RainToday_1']],\n",
        "                     pd.get_dummies(X_test.Location), \n",
        "                     pd.get_dummies(X_test.WindGustDir),\n",
        "                     pd.get_dummies(X_test.WindDir9am),\n",
        "                     pd.get_dummies(X_test.WindDir3pm)], axis=1)"
      ],
      "execution_count": null,
      "outputs": []
    },
    {
      "metadata": {
        "trusted": true,
        "colab": {
          "base_uri": "https://localhost:8080/",
          "height": 300
        },
        "id": "D8lVOdsRKQXx",
        "outputId": "e7e114e5-bad8-4841-86d1-986f4a0d5b7a"
      },
      "cell_type": "code",
      "source": [
        "X_test.head()"
      ],
      "execution_count": null,
      "outputs": [
        {
          "output_type": "execute_result",
          "data": {
            "text/html": [
              "\n",
              "  <div id=\"df-f0bc3dbb-9eaa-4243-b181-3426e13f8626\">\n",
              "    <div class=\"colab-df-container\">\n",
              "      <div>\n",
              "<style scoped>\n",
              "    .dataframe tbody tr th:only-of-type {\n",
              "        vertical-align: middle;\n",
              "    }\n",
              "\n",
              "    .dataframe tbody tr th {\n",
              "        vertical-align: top;\n",
              "    }\n",
              "\n",
              "    .dataframe thead th {\n",
              "        text-align: right;\n",
              "    }\n",
              "</style>\n",
              "<table border=\"1\" class=\"dataframe\">\n",
              "  <thead>\n",
              "    <tr style=\"text-align: right;\">\n",
              "      <th></th>\n",
              "      <th>MinTemp</th>\n",
              "      <th>MaxTemp</th>\n",
              "      <th>Rainfall</th>\n",
              "      <th>Evaporation</th>\n",
              "      <th>Sunshine</th>\n",
              "      <th>WindGustSpeed</th>\n",
              "      <th>WindSpeed9am</th>\n",
              "      <th>WindSpeed3pm</th>\n",
              "      <th>Humidity9am</th>\n",
              "      <th>Humidity3pm</th>\n",
              "      <th>Pressure9am</th>\n",
              "      <th>Pressure3pm</th>\n",
              "      <th>Cloud9am</th>\n",
              "      <th>Cloud3pm</th>\n",
              "      <th>Temp9am</th>\n",
              "      <th>Temp3pm</th>\n",
              "      <th>Year</th>\n",
              "      <th>Month</th>\n",
              "      <th>Day</th>\n",
              "      <th>RainToday_0</th>\n",
              "      <th>RainToday_1</th>\n",
              "      <th>Adelaide</th>\n",
              "      <th>Albany</th>\n",
              "      <th>Albury</th>\n",
              "      <th>AliceSprings</th>\n",
              "      <th>BadgerysCreek</th>\n",
              "      <th>Ballarat</th>\n",
              "      <th>Bendigo</th>\n",
              "      <th>Brisbane</th>\n",
              "      <th>Cairns</th>\n",
              "      <th>Canberra</th>\n",
              "      <th>Cobar</th>\n",
              "      <th>CoffsHarbour</th>\n",
              "      <th>Dartmoor</th>\n",
              "      <th>Darwin</th>\n",
              "      <th>GoldCoast</th>\n",
              "      <th>Hobart</th>\n",
              "      <th>Katherine</th>\n",
              "      <th>Launceston</th>\n",
              "      <th>Melbourne</th>\n",
              "      <th>...</th>\n",
              "      <th>S</th>\n",
              "      <th>SE</th>\n",
              "      <th>SSE</th>\n",
              "      <th>SSW</th>\n",
              "      <th>SW</th>\n",
              "      <th>W</th>\n",
              "      <th>WNW</th>\n",
              "      <th>WSW</th>\n",
              "      <th>E</th>\n",
              "      <th>ENE</th>\n",
              "      <th>ESE</th>\n",
              "      <th>N</th>\n",
              "      <th>NE</th>\n",
              "      <th>NNE</th>\n",
              "      <th>NNW</th>\n",
              "      <th>NW</th>\n",
              "      <th>S</th>\n",
              "      <th>SE</th>\n",
              "      <th>SSE</th>\n",
              "      <th>SSW</th>\n",
              "      <th>SW</th>\n",
              "      <th>W</th>\n",
              "      <th>WNW</th>\n",
              "      <th>WSW</th>\n",
              "      <th>E</th>\n",
              "      <th>ENE</th>\n",
              "      <th>ESE</th>\n",
              "      <th>N</th>\n",
              "      <th>NE</th>\n",
              "      <th>NNE</th>\n",
              "      <th>NNW</th>\n",
              "      <th>NW</th>\n",
              "      <th>S</th>\n",
              "      <th>SE</th>\n",
              "      <th>SSE</th>\n",
              "      <th>SSW</th>\n",
              "      <th>SW</th>\n",
              "      <th>W</th>\n",
              "      <th>WNW</th>\n",
              "      <th>WSW</th>\n",
              "    </tr>\n",
              "  </thead>\n",
              "  <tbody>\n",
              "    <tr>\n",
              "      <th>138175</th>\n",
              "      <td>21.9</td>\n",
              "      <td>39.4</td>\n",
              "      <td>1.6</td>\n",
              "      <td>11.2</td>\n",
              "      <td>11.5</td>\n",
              "      <td>57.0</td>\n",
              "      <td>20.0</td>\n",
              "      <td>33.0</td>\n",
              "      <td>50.0</td>\n",
              "      <td>26.0</td>\n",
              "      <td>1008.5</td>\n",
              "      <td>1004.1</td>\n",
              "      <td>2.0</td>\n",
              "      <td>6.0</td>\n",
              "      <td>29.8</td>\n",
              "      <td>35.4</td>\n",
              "      <td>2014</td>\n",
              "      <td>12</td>\n",
              "      <td>3</td>\n",
              "      <td>1</td>\n",
              "      <td>0</td>\n",
              "      <td>0</td>\n",
              "      <td>0</td>\n",
              "      <td>0</td>\n",
              "      <td>1</td>\n",
              "      <td>0</td>\n",
              "      <td>0</td>\n",
              "      <td>0</td>\n",
              "      <td>0</td>\n",
              "      <td>0</td>\n",
              "      <td>0</td>\n",
              "      <td>0</td>\n",
              "      <td>0</td>\n",
              "      <td>0</td>\n",
              "      <td>0</td>\n",
              "      <td>0</td>\n",
              "      <td>0</td>\n",
              "      <td>0</td>\n",
              "      <td>0</td>\n",
              "      <td>0</td>\n",
              "      <td>...</td>\n",
              "      <td>0</td>\n",
              "      <td>0</td>\n",
              "      <td>0</td>\n",
              "      <td>0</td>\n",
              "      <td>0</td>\n",
              "      <td>0</td>\n",
              "      <td>0</td>\n",
              "      <td>0</td>\n",
              "      <td>0</td>\n",
              "      <td>0</td>\n",
              "      <td>0</td>\n",
              "      <td>0</td>\n",
              "      <td>1</td>\n",
              "      <td>0</td>\n",
              "      <td>0</td>\n",
              "      <td>0</td>\n",
              "      <td>0</td>\n",
              "      <td>0</td>\n",
              "      <td>0</td>\n",
              "      <td>0</td>\n",
              "      <td>0</td>\n",
              "      <td>0</td>\n",
              "      <td>0</td>\n",
              "      <td>0</td>\n",
              "      <td>0</td>\n",
              "      <td>0</td>\n",
              "      <td>0</td>\n",
              "      <td>1</td>\n",
              "      <td>0</td>\n",
              "      <td>0</td>\n",
              "      <td>0</td>\n",
              "      <td>0</td>\n",
              "      <td>0</td>\n",
              "      <td>0</td>\n",
              "      <td>0</td>\n",
              "      <td>0</td>\n",
              "      <td>0</td>\n",
              "      <td>0</td>\n",
              "      <td>0</td>\n",
              "      <td>0</td>\n",
              "    </tr>\n",
              "    <tr>\n",
              "      <th>38638</th>\n",
              "      <td>20.5</td>\n",
              "      <td>37.5</td>\n",
              "      <td>0.0</td>\n",
              "      <td>9.2</td>\n",
              "      <td>8.4</td>\n",
              "      <td>59.0</td>\n",
              "      <td>17.0</td>\n",
              "      <td>20.0</td>\n",
              "      <td>47.0</td>\n",
              "      <td>22.0</td>\n",
              "      <td>1012.9</td>\n",
              "      <td>1006.5</td>\n",
              "      <td>4.0</td>\n",
              "      <td>7.0</td>\n",
              "      <td>27.3</td>\n",
              "      <td>35.7</td>\n",
              "      <td>2015</td>\n",
              "      <td>1</td>\n",
              "      <td>8</td>\n",
              "      <td>0</td>\n",
              "      <td>1</td>\n",
              "      <td>0</td>\n",
              "      <td>0</td>\n",
              "      <td>0</td>\n",
              "      <td>0</td>\n",
              "      <td>0</td>\n",
              "      <td>0</td>\n",
              "      <td>0</td>\n",
              "      <td>0</td>\n",
              "      <td>0</td>\n",
              "      <td>0</td>\n",
              "      <td>0</td>\n",
              "      <td>0</td>\n",
              "      <td>0</td>\n",
              "      <td>0</td>\n",
              "      <td>0</td>\n",
              "      <td>0</td>\n",
              "      <td>0</td>\n",
              "      <td>0</td>\n",
              "      <td>0</td>\n",
              "      <td>...</td>\n",
              "      <td>0</td>\n",
              "      <td>0</td>\n",
              "      <td>0</td>\n",
              "      <td>0</td>\n",
              "      <td>0</td>\n",
              "      <td>0</td>\n",
              "      <td>1</td>\n",
              "      <td>0</td>\n",
              "      <td>0</td>\n",
              "      <td>1</td>\n",
              "      <td>0</td>\n",
              "      <td>0</td>\n",
              "      <td>0</td>\n",
              "      <td>0</td>\n",
              "      <td>0</td>\n",
              "      <td>0</td>\n",
              "      <td>0</td>\n",
              "      <td>0</td>\n",
              "      <td>0</td>\n",
              "      <td>0</td>\n",
              "      <td>0</td>\n",
              "      <td>0</td>\n",
              "      <td>0</td>\n",
              "      <td>0</td>\n",
              "      <td>0</td>\n",
              "      <td>0</td>\n",
              "      <td>0</td>\n",
              "      <td>1</td>\n",
              "      <td>0</td>\n",
              "      <td>0</td>\n",
              "      <td>0</td>\n",
              "      <td>0</td>\n",
              "      <td>0</td>\n",
              "      <td>0</td>\n",
              "      <td>0</td>\n",
              "      <td>0</td>\n",
              "      <td>0</td>\n",
              "      <td>0</td>\n",
              "      <td>0</td>\n",
              "      <td>0</td>\n",
              "    </tr>\n",
              "    <tr>\n",
              "      <th>124058</th>\n",
              "      <td>5.1</td>\n",
              "      <td>17.2</td>\n",
              "      <td>0.2</td>\n",
              "      <td>4.7</td>\n",
              "      <td>8.4</td>\n",
              "      <td>50.0</td>\n",
              "      <td>28.0</td>\n",
              "      <td>22.0</td>\n",
              "      <td>68.0</td>\n",
              "      <td>51.0</td>\n",
              "      <td>1017.6</td>\n",
              "      <td>1015.2</td>\n",
              "      <td>5.0</td>\n",
              "      <td>5.0</td>\n",
              "      <td>10.1</td>\n",
              "      <td>16.1</td>\n",
              "      <td>2009</td>\n",
              "      <td>8</td>\n",
              "      <td>16</td>\n",
              "      <td>0</td>\n",
              "      <td>1</td>\n",
              "      <td>0</td>\n",
              "      <td>0</td>\n",
              "      <td>0</td>\n",
              "      <td>0</td>\n",
              "      <td>0</td>\n",
              "      <td>0</td>\n",
              "      <td>0</td>\n",
              "      <td>0</td>\n",
              "      <td>0</td>\n",
              "      <td>0</td>\n",
              "      <td>0</td>\n",
              "      <td>0</td>\n",
              "      <td>0</td>\n",
              "      <td>0</td>\n",
              "      <td>0</td>\n",
              "      <td>0</td>\n",
              "      <td>0</td>\n",
              "      <td>0</td>\n",
              "      <td>0</td>\n",
              "      <td>...</td>\n",
              "      <td>0</td>\n",
              "      <td>0</td>\n",
              "      <td>0</td>\n",
              "      <td>0</td>\n",
              "      <td>0</td>\n",
              "      <td>1</td>\n",
              "      <td>0</td>\n",
              "      <td>0</td>\n",
              "      <td>0</td>\n",
              "      <td>0</td>\n",
              "      <td>0</td>\n",
              "      <td>0</td>\n",
              "      <td>0</td>\n",
              "      <td>0</td>\n",
              "      <td>0</td>\n",
              "      <td>0</td>\n",
              "      <td>0</td>\n",
              "      <td>0</td>\n",
              "      <td>0</td>\n",
              "      <td>0</td>\n",
              "      <td>0</td>\n",
              "      <td>0</td>\n",
              "      <td>1</td>\n",
              "      <td>0</td>\n",
              "      <td>0</td>\n",
              "      <td>0</td>\n",
              "      <td>0</td>\n",
              "      <td>0</td>\n",
              "      <td>0</td>\n",
              "      <td>0</td>\n",
              "      <td>0</td>\n",
              "      <td>0</td>\n",
              "      <td>0</td>\n",
              "      <td>0</td>\n",
              "      <td>0</td>\n",
              "      <td>0</td>\n",
              "      <td>0</td>\n",
              "      <td>1</td>\n",
              "      <td>0</td>\n",
              "      <td>0</td>\n",
              "    </tr>\n",
              "    <tr>\n",
              "      <th>99214</th>\n",
              "      <td>11.9</td>\n",
              "      <td>16.8</td>\n",
              "      <td>1.0</td>\n",
              "      <td>4.7</td>\n",
              "      <td>8.4</td>\n",
              "      <td>28.0</td>\n",
              "      <td>11.0</td>\n",
              "      <td>13.0</td>\n",
              "      <td>80.0</td>\n",
              "      <td>79.0</td>\n",
              "      <td>1018.5</td>\n",
              "      <td>1017.7</td>\n",
              "      <td>5.0</td>\n",
              "      <td>5.0</td>\n",
              "      <td>14.3</td>\n",
              "      <td>15.2</td>\n",
              "      <td>2016</td>\n",
              "      <td>8</td>\n",
              "      <td>31</td>\n",
              "      <td>0</td>\n",
              "      <td>1</td>\n",
              "      <td>1</td>\n",
              "      <td>0</td>\n",
              "      <td>0</td>\n",
              "      <td>0</td>\n",
              "      <td>0</td>\n",
              "      <td>0</td>\n",
              "      <td>0</td>\n",
              "      <td>0</td>\n",
              "      <td>0</td>\n",
              "      <td>0</td>\n",
              "      <td>0</td>\n",
              "      <td>0</td>\n",
              "      <td>0</td>\n",
              "      <td>0</td>\n",
              "      <td>0</td>\n",
              "      <td>0</td>\n",
              "      <td>0</td>\n",
              "      <td>0</td>\n",
              "      <td>0</td>\n",
              "      <td>...</td>\n",
              "      <td>0</td>\n",
              "      <td>0</td>\n",
              "      <td>0</td>\n",
              "      <td>0</td>\n",
              "      <td>1</td>\n",
              "      <td>0</td>\n",
              "      <td>0</td>\n",
              "      <td>0</td>\n",
              "      <td>0</td>\n",
              "      <td>0</td>\n",
              "      <td>0</td>\n",
              "      <td>0</td>\n",
              "      <td>0</td>\n",
              "      <td>0</td>\n",
              "      <td>0</td>\n",
              "      <td>0</td>\n",
              "      <td>0</td>\n",
              "      <td>0</td>\n",
              "      <td>0</td>\n",
              "      <td>0</td>\n",
              "      <td>0</td>\n",
              "      <td>0</td>\n",
              "      <td>1</td>\n",
              "      <td>0</td>\n",
              "      <td>0</td>\n",
              "      <td>0</td>\n",
              "      <td>0</td>\n",
              "      <td>0</td>\n",
              "      <td>0</td>\n",
              "      <td>0</td>\n",
              "      <td>0</td>\n",
              "      <td>0</td>\n",
              "      <td>0</td>\n",
              "      <td>0</td>\n",
              "      <td>0</td>\n",
              "      <td>0</td>\n",
              "      <td>1</td>\n",
              "      <td>0</td>\n",
              "      <td>0</td>\n",
              "      <td>0</td>\n",
              "    </tr>\n",
              "    <tr>\n",
              "      <th>25097</th>\n",
              "      <td>7.5</td>\n",
              "      <td>21.3</td>\n",
              "      <td>0.0</td>\n",
              "      <td>4.7</td>\n",
              "      <td>8.4</td>\n",
              "      <td>15.0</td>\n",
              "      <td>2.0</td>\n",
              "      <td>7.0</td>\n",
              "      <td>88.0</td>\n",
              "      <td>52.0</td>\n",
              "      <td>1017.6</td>\n",
              "      <td>1015.2</td>\n",
              "      <td>5.0</td>\n",
              "      <td>5.0</td>\n",
              "      <td>13.7</td>\n",
              "      <td>21.1</td>\n",
              "      <td>2011</td>\n",
              "      <td>8</td>\n",
              "      <td>28</td>\n",
              "      <td>0</td>\n",
              "      <td>1</td>\n",
              "      <td>0</td>\n",
              "      <td>0</td>\n",
              "      <td>0</td>\n",
              "      <td>0</td>\n",
              "      <td>0</td>\n",
              "      <td>0</td>\n",
              "      <td>0</td>\n",
              "      <td>0</td>\n",
              "      <td>0</td>\n",
              "      <td>0</td>\n",
              "      <td>0</td>\n",
              "      <td>0</td>\n",
              "      <td>0</td>\n",
              "      <td>0</td>\n",
              "      <td>0</td>\n",
              "      <td>0</td>\n",
              "      <td>0</td>\n",
              "      <td>0</td>\n",
              "      <td>0</td>\n",
              "      <td>...</td>\n",
              "      <td>0</td>\n",
              "      <td>0</td>\n",
              "      <td>0</td>\n",
              "      <td>0</td>\n",
              "      <td>0</td>\n",
              "      <td>0</td>\n",
              "      <td>0</td>\n",
              "      <td>0</td>\n",
              "      <td>0</td>\n",
              "      <td>0</td>\n",
              "      <td>0</td>\n",
              "      <td>0</td>\n",
              "      <td>0</td>\n",
              "      <td>0</td>\n",
              "      <td>0</td>\n",
              "      <td>0</td>\n",
              "      <td>0</td>\n",
              "      <td>0</td>\n",
              "      <td>0</td>\n",
              "      <td>0</td>\n",
              "      <td>1</td>\n",
              "      <td>0</td>\n",
              "      <td>0</td>\n",
              "      <td>0</td>\n",
              "      <td>0</td>\n",
              "      <td>0</td>\n",
              "      <td>0</td>\n",
              "      <td>0</td>\n",
              "      <td>0</td>\n",
              "      <td>1</td>\n",
              "      <td>0</td>\n",
              "      <td>0</td>\n",
              "      <td>0</td>\n",
              "      <td>0</td>\n",
              "      <td>0</td>\n",
              "      <td>0</td>\n",
              "      <td>0</td>\n",
              "      <td>0</td>\n",
              "      <td>0</td>\n",
              "      <td>0</td>\n",
              "    </tr>\n",
              "  </tbody>\n",
              "</table>\n",
              "<p>5 rows × 118 columns</p>\n",
              "</div>\n",
              "      <button class=\"colab-df-convert\" onclick=\"convertToInteractive('df-f0bc3dbb-9eaa-4243-b181-3426e13f8626')\"\n",
              "              title=\"Convert this dataframe to an interactive table.\"\n",
              "              style=\"display:none;\">\n",
              "        \n",
              "  <svg xmlns=\"http://www.w3.org/2000/svg\" height=\"24px\"viewBox=\"0 0 24 24\"\n",
              "       width=\"24px\">\n",
              "    <path d=\"M0 0h24v24H0V0z\" fill=\"none\"/>\n",
              "    <path d=\"M18.56 5.44l.94 2.06.94-2.06 2.06-.94-2.06-.94-.94-2.06-.94 2.06-2.06.94zm-11 1L8.5 8.5l.94-2.06 2.06-.94-2.06-.94L8.5 2.5l-.94 2.06-2.06.94zm10 10l.94 2.06.94-2.06 2.06-.94-2.06-.94-.94-2.06-.94 2.06-2.06.94z\"/><path d=\"M17.41 7.96l-1.37-1.37c-.4-.4-.92-.59-1.43-.59-.52 0-1.04.2-1.43.59L10.3 9.45l-7.72 7.72c-.78.78-.78 2.05 0 2.83L4 21.41c.39.39.9.59 1.41.59.51 0 1.02-.2 1.41-.59l7.78-7.78 2.81-2.81c.8-.78.8-2.07 0-2.86zM5.41 20L4 18.59l7.72-7.72 1.47 1.35L5.41 20z\"/>\n",
              "  </svg>\n",
              "      </button>\n",
              "      \n",
              "  <style>\n",
              "    .colab-df-container {\n",
              "      display:flex;\n",
              "      flex-wrap:wrap;\n",
              "      gap: 12px;\n",
              "    }\n",
              "\n",
              "    .colab-df-convert {\n",
              "      background-color: #E8F0FE;\n",
              "      border: none;\n",
              "      border-radius: 50%;\n",
              "      cursor: pointer;\n",
              "      display: none;\n",
              "      fill: #1967D2;\n",
              "      height: 32px;\n",
              "      padding: 0 0 0 0;\n",
              "      width: 32px;\n",
              "    }\n",
              "\n",
              "    .colab-df-convert:hover {\n",
              "      background-color: #E2EBFA;\n",
              "      box-shadow: 0px 1px 2px rgba(60, 64, 67, 0.3), 0px 1px 3px 1px rgba(60, 64, 67, 0.15);\n",
              "      fill: #174EA6;\n",
              "    }\n",
              "\n",
              "    [theme=dark] .colab-df-convert {\n",
              "      background-color: #3B4455;\n",
              "      fill: #D2E3FC;\n",
              "    }\n",
              "\n",
              "    [theme=dark] .colab-df-convert:hover {\n",
              "      background-color: #434B5C;\n",
              "      box-shadow: 0px 1px 3px 1px rgba(0, 0, 0, 0.15);\n",
              "      filter: drop-shadow(0px 1px 2px rgba(0, 0, 0, 0.3));\n",
              "      fill: #FFFFFF;\n",
              "    }\n",
              "  </style>\n",
              "\n",
              "      <script>\n",
              "        const buttonEl =\n",
              "          document.querySelector('#df-f0bc3dbb-9eaa-4243-b181-3426e13f8626 button.colab-df-convert');\n",
              "        buttonEl.style.display =\n",
              "          google.colab.kernel.accessAllowed ? 'block' : 'none';\n",
              "\n",
              "        async function convertToInteractive(key) {\n",
              "          const element = document.querySelector('#df-f0bc3dbb-9eaa-4243-b181-3426e13f8626');\n",
              "          const dataTable =\n",
              "            await google.colab.kernel.invokeFunction('convertToInteractive',\n",
              "                                                     [key], {});\n",
              "          if (!dataTable) return;\n",
              "\n",
              "          const docLinkHtml = 'Like what you see? Visit the ' +\n",
              "            '<a target=\"_blank\" href=https://colab.research.google.com/notebooks/data_table.ipynb>data table notebook</a>'\n",
              "            + ' to learn more about interactive tables.';\n",
              "          element.innerHTML = '';\n",
              "          dataTable['output_type'] = 'display_data';\n",
              "          await google.colab.output.renderOutput(dataTable, element);\n",
              "          const docLink = document.createElement('div');\n",
              "          docLink.innerHTML = docLinkHtml;\n",
              "          element.appendChild(docLink);\n",
              "        }\n",
              "      </script>\n",
              "    </div>\n",
              "  </div>\n",
              "  "
            ],
            "text/plain": [
              "        MinTemp  MaxTemp  Rainfall  Evaporation  Sunshine  ...  SSW  SW  W  WNW  WSW\n",
              "138175     21.9     39.4       1.6         11.2      11.5  ...    0   0  0    0    0\n",
              "38638      20.5     37.5       0.0          9.2       8.4  ...    0   0  0    0    0\n",
              "124058      5.1     17.2       0.2          4.7       8.4  ...    0   0  1    0    0\n",
              "99214      11.9     16.8       1.0          4.7       8.4  ...    0   1  0    0    0\n",
              "25097       7.5     21.3       0.0          4.7       8.4  ...    0   0  0    0    0\n",
              "\n",
              "[5 rows x 118 columns]"
            ]
          },
          "metadata": {},
          "execution_count": 435
        }
      ]
    },
    {
      "metadata": {
        "id": "_ep4LCJzKQXx"
      },
      "cell_type": "markdown",
      "source": [
        "Agora temos um conjunto de treinamento e teste pronto para a construção do modelo. Antes disso, devemos mapear todas as variáveis ​​de recurso na mesma escala. É chamado de `escalonamento de recurso`. Vou fazer da seguinte maneira."
      ]
    },
    {
      "metadata": {
        "id": "52fG78KUKQXx"
      },
      "cell_type": "markdown",
      "source": [
        "# **11. Feature Scaling** <a class=\"anchor\" id=\"11\"></a>\n",
        "\n"
      ]
    },
    {
      "metadata": {
        "trusted": true,
        "colab": {
          "base_uri": "https://localhost:8080/",
          "height": 423
        },
        "id": "ucHU9rAVKQX3",
        "outputId": "da23a16f-b7b7-475c-9d27-7cc3c0cc6f69"
      },
      "cell_type": "code",
      "source": [
        "X_train.describe().T"
      ],
      "execution_count": null,
      "outputs": [
        {
          "output_type": "execute_result",
          "data": {
            "text/html": [
              "\n",
              "  <div id=\"df-de19f8b9-6b82-4502-b487-861c1b0e3590\">\n",
              "    <div class=\"colab-df-container\">\n",
              "      <div>\n",
              "<style scoped>\n",
              "    .dataframe tbody tr th:only-of-type {\n",
              "        vertical-align: middle;\n",
              "    }\n",
              "\n",
              "    .dataframe tbody tr th {\n",
              "        vertical-align: top;\n",
              "    }\n",
              "\n",
              "    .dataframe thead th {\n",
              "        text-align: right;\n",
              "    }\n",
              "</style>\n",
              "<table border=\"1\" class=\"dataframe\">\n",
              "  <thead>\n",
              "    <tr style=\"text-align: right;\">\n",
              "      <th></th>\n",
              "      <th>count</th>\n",
              "      <th>mean</th>\n",
              "      <th>std</th>\n",
              "      <th>min</th>\n",
              "      <th>25%</th>\n",
              "      <th>50%</th>\n",
              "      <th>75%</th>\n",
              "      <th>max</th>\n",
              "    </tr>\n",
              "  </thead>\n",
              "  <tbody>\n",
              "    <tr>\n",
              "      <th>MinTemp</th>\n",
              "      <td>116368.0</td>\n",
              "      <td>12.190189</td>\n",
              "      <td>6.366893</td>\n",
              "      <td>-8.5</td>\n",
              "      <td>7.7</td>\n",
              "      <td>12.0</td>\n",
              "      <td>16.8</td>\n",
              "      <td>31.9</td>\n",
              "    </tr>\n",
              "    <tr>\n",
              "      <th>MaxTemp</th>\n",
              "      <td>116368.0</td>\n",
              "      <td>23.203107</td>\n",
              "      <td>7.085408</td>\n",
              "      <td>-4.8</td>\n",
              "      <td>18.0</td>\n",
              "      <td>22.6</td>\n",
              "      <td>28.2</td>\n",
              "      <td>48.1</td>\n",
              "    </tr>\n",
              "    <tr>\n",
              "      <th>Rainfall</th>\n",
              "      <td>116368.0</td>\n",
              "      <td>0.670800</td>\n",
              "      <td>1.181512</td>\n",
              "      <td>0.0</td>\n",
              "      <td>0.0</td>\n",
              "      <td>0.0</td>\n",
              "      <td>0.6</td>\n",
              "      <td>3.2</td>\n",
              "    </tr>\n",
              "    <tr>\n",
              "      <th>Evaporation</th>\n",
              "      <td>116368.0</td>\n",
              "      <td>5.093362</td>\n",
              "      <td>2.800200</td>\n",
              "      <td>0.0</td>\n",
              "      <td>4.0</td>\n",
              "      <td>4.7</td>\n",
              "      <td>5.2</td>\n",
              "      <td>21.8</td>\n",
              "    </tr>\n",
              "    <tr>\n",
              "      <th>Sunshine</th>\n",
              "      <td>116368.0</td>\n",
              "      <td>7.982476</td>\n",
              "      <td>2.761639</td>\n",
              "      <td>0.0</td>\n",
              "      <td>8.2</td>\n",
              "      <td>8.4</td>\n",
              "      <td>8.6</td>\n",
              "      <td>14.5</td>\n",
              "    </tr>\n",
              "    <tr>\n",
              "      <th>...</th>\n",
              "      <td>...</td>\n",
              "      <td>...</td>\n",
              "      <td>...</td>\n",
              "      <td>...</td>\n",
              "      <td>...</td>\n",
              "      <td>...</td>\n",
              "      <td>...</td>\n",
              "      <td>...</td>\n",
              "    </tr>\n",
              "    <tr>\n",
              "      <th>SSW</th>\n",
              "      <td>116368.0</td>\n",
              "      <td>0.056055</td>\n",
              "      <td>0.230029</td>\n",
              "      <td>0.0</td>\n",
              "      <td>0.0</td>\n",
              "      <td>0.0</td>\n",
              "      <td>0.0</td>\n",
              "      <td>1.0</td>\n",
              "    </tr>\n",
              "    <tr>\n",
              "      <th>SW</th>\n",
              "      <td>116368.0</td>\n",
              "      <td>0.064786</td>\n",
              "      <td>0.246149</td>\n",
              "      <td>0.0</td>\n",
              "      <td>0.0</td>\n",
              "      <td>0.0</td>\n",
              "      <td>0.0</td>\n",
              "      <td>1.0</td>\n",
              "    </tr>\n",
              "    <tr>\n",
              "      <th>W</th>\n",
              "      <td>116368.0</td>\n",
              "      <td>0.069323</td>\n",
              "      <td>0.254004</td>\n",
              "      <td>0.0</td>\n",
              "      <td>0.0</td>\n",
              "      <td>0.0</td>\n",
              "      <td>0.0</td>\n",
              "      <td>1.0</td>\n",
              "    </tr>\n",
              "    <tr>\n",
              "      <th>WNW</th>\n",
              "      <td>116368.0</td>\n",
              "      <td>0.060309</td>\n",
              "      <td>0.238059</td>\n",
              "      <td>0.0</td>\n",
              "      <td>0.0</td>\n",
              "      <td>0.0</td>\n",
              "      <td>0.0</td>\n",
              "      <td>1.0</td>\n",
              "    </tr>\n",
              "    <tr>\n",
              "      <th>WSW</th>\n",
              "      <td>116368.0</td>\n",
              "      <td>0.064958</td>\n",
              "      <td>0.246452</td>\n",
              "      <td>0.0</td>\n",
              "      <td>0.0</td>\n",
              "      <td>0.0</td>\n",
              "      <td>0.0</td>\n",
              "      <td>1.0</td>\n",
              "    </tr>\n",
              "  </tbody>\n",
              "</table>\n",
              "<p>118 rows × 8 columns</p>\n",
              "</div>\n",
              "      <button class=\"colab-df-convert\" onclick=\"convertToInteractive('df-de19f8b9-6b82-4502-b487-861c1b0e3590')\"\n",
              "              title=\"Convert this dataframe to an interactive table.\"\n",
              "              style=\"display:none;\">\n",
              "        \n",
              "  <svg xmlns=\"http://www.w3.org/2000/svg\" height=\"24px\"viewBox=\"0 0 24 24\"\n",
              "       width=\"24px\">\n",
              "    <path d=\"M0 0h24v24H0V0z\" fill=\"none\"/>\n",
              "    <path d=\"M18.56 5.44l.94 2.06.94-2.06 2.06-.94-2.06-.94-.94-2.06-.94 2.06-2.06.94zm-11 1L8.5 8.5l.94-2.06 2.06-.94-2.06-.94L8.5 2.5l-.94 2.06-2.06.94zm10 10l.94 2.06.94-2.06 2.06-.94-2.06-.94-.94-2.06-.94 2.06-2.06.94z\"/><path d=\"M17.41 7.96l-1.37-1.37c-.4-.4-.92-.59-1.43-.59-.52 0-1.04.2-1.43.59L10.3 9.45l-7.72 7.72c-.78.78-.78 2.05 0 2.83L4 21.41c.39.39.9.59 1.41.59.51 0 1.02-.2 1.41-.59l7.78-7.78 2.81-2.81c.8-.78.8-2.07 0-2.86zM5.41 20L4 18.59l7.72-7.72 1.47 1.35L5.41 20z\"/>\n",
              "  </svg>\n",
              "      </button>\n",
              "      \n",
              "  <style>\n",
              "    .colab-df-container {\n",
              "      display:flex;\n",
              "      flex-wrap:wrap;\n",
              "      gap: 12px;\n",
              "    }\n",
              "\n",
              "    .colab-df-convert {\n",
              "      background-color: #E8F0FE;\n",
              "      border: none;\n",
              "      border-radius: 50%;\n",
              "      cursor: pointer;\n",
              "      display: none;\n",
              "      fill: #1967D2;\n",
              "      height: 32px;\n",
              "      padding: 0 0 0 0;\n",
              "      width: 32px;\n",
              "    }\n",
              "\n",
              "    .colab-df-convert:hover {\n",
              "      background-color: #E2EBFA;\n",
              "      box-shadow: 0px 1px 2px rgba(60, 64, 67, 0.3), 0px 1px 3px 1px rgba(60, 64, 67, 0.15);\n",
              "      fill: #174EA6;\n",
              "    }\n",
              "\n",
              "    [theme=dark] .colab-df-convert {\n",
              "      background-color: #3B4455;\n",
              "      fill: #D2E3FC;\n",
              "    }\n",
              "\n",
              "    [theme=dark] .colab-df-convert:hover {\n",
              "      background-color: #434B5C;\n",
              "      box-shadow: 0px 1px 3px 1px rgba(0, 0, 0, 0.15);\n",
              "      filter: drop-shadow(0px 1px 2px rgba(0, 0, 0, 0.3));\n",
              "      fill: #FFFFFF;\n",
              "    }\n",
              "  </style>\n",
              "\n",
              "      <script>\n",
              "        const buttonEl =\n",
              "          document.querySelector('#df-de19f8b9-6b82-4502-b487-861c1b0e3590 button.colab-df-convert');\n",
              "        buttonEl.style.display =\n",
              "          google.colab.kernel.accessAllowed ? 'block' : 'none';\n",
              "\n",
              "        async function convertToInteractive(key) {\n",
              "          const element = document.querySelector('#df-de19f8b9-6b82-4502-b487-861c1b0e3590');\n",
              "          const dataTable =\n",
              "            await google.colab.kernel.invokeFunction('convertToInteractive',\n",
              "                                                     [key], {});\n",
              "          if (!dataTable) return;\n",
              "\n",
              "          const docLinkHtml = 'Like what you see? Visit the ' +\n",
              "            '<a target=\"_blank\" href=https://colab.research.google.com/notebooks/data_table.ipynb>data table notebook</a>'\n",
              "            + ' to learn more about interactive tables.';\n",
              "          element.innerHTML = '';\n",
              "          dataTable['output_type'] = 'display_data';\n",
              "          await google.colab.output.renderOutput(dataTable, element);\n",
              "          const docLink = document.createElement('div');\n",
              "          docLink.innerHTML = docLinkHtml;\n",
              "          element.appendChild(docLink);\n",
              "        }\n",
              "      </script>\n",
              "    </div>\n",
              "  </div>\n",
              "  "
            ],
            "text/plain": [
              "                count       mean       std  min   25%   50%   75%   max\n",
              "MinTemp      116368.0  12.190189  6.366893 -8.5   7.7  12.0  16.8  31.9\n",
              "MaxTemp      116368.0  23.203107  7.085408 -4.8  18.0  22.6  28.2  48.1\n",
              "Rainfall     116368.0   0.670800  1.181512  0.0   0.0   0.0   0.6   3.2\n",
              "Evaporation  116368.0   5.093362  2.800200  0.0   4.0   4.7   5.2  21.8\n",
              "Sunshine     116368.0   7.982476  2.761639  0.0   8.2   8.4   8.6  14.5\n",
              "...               ...        ...       ...  ...   ...   ...   ...   ...\n",
              "SSW          116368.0   0.056055  0.230029  0.0   0.0   0.0   0.0   1.0\n",
              "SW           116368.0   0.064786  0.246149  0.0   0.0   0.0   0.0   1.0\n",
              "W            116368.0   0.069323  0.254004  0.0   0.0   0.0   0.0   1.0\n",
              "WNW          116368.0   0.060309  0.238059  0.0   0.0   0.0   0.0   1.0\n",
              "WSW          116368.0   0.064958  0.246452  0.0   0.0   0.0   0.0   1.0\n",
              "\n",
              "[118 rows x 8 columns]"
            ]
          },
          "metadata": {},
          "execution_count": 436
        }
      ]
    },
    {
      "metadata": {
        "trusted": true,
        "id": "s03HGbvVKQX3"
      },
      "cell_type": "code",
      "source": [
        "cols = X_train.columns"
      ],
      "execution_count": null,
      "outputs": []
    },
    {
      "metadata": {
        "trusted": true,
        "id": "ekxzPPQ8KQX4"
      },
      "cell_type": "code",
      "source": [
        "from sklearn.preprocessing import MinMaxScaler\n",
        "\n",
        "scaler = MinMaxScaler()\n",
        "\n",
        "X_train = scaler.fit_transform(X_train)\n",
        "\n",
        "X_test = scaler.transform(X_test)\n"
      ],
      "execution_count": null,
      "outputs": []
    },
    {
      "metadata": {
        "trusted": true,
        "id": "L7Gd7yF5KQX4"
      },
      "cell_type": "code",
      "source": [
        "X_train = pd.DataFrame(X_train, columns=[cols])"
      ],
      "execution_count": null,
      "outputs": []
    },
    {
      "metadata": {
        "trusted": true,
        "id": "OxpwzmP4KQX4"
      },
      "cell_type": "code",
      "source": [
        "X_test = pd.DataFrame(X_test, columns=[cols])"
      ],
      "execution_count": null,
      "outputs": []
    },
    {
      "metadata": {
        "trusted": true,
        "colab": {
          "base_uri": "https://localhost:8080/",
          "height": 393
        },
        "id": "BzFEQRDvKQX5",
        "outputId": "bd6dbfc8-772e-4054-e385-ec663f113bdd"
      },
      "cell_type": "code",
      "source": [
        "X_train.describe()"
      ],
      "execution_count": null,
      "outputs": [
        {
          "output_type": "execute_result",
          "data": {
            "text/html": [
              "\n",
              "  <div id=\"df-d7577454-5fff-4e7d-a295-1794f7d63f80\">\n",
              "    <div class=\"colab-df-container\">\n",
              "      <div>\n",
              "<style scoped>\n",
              "    .dataframe tbody tr th:only-of-type {\n",
              "        vertical-align: middle;\n",
              "    }\n",
              "\n",
              "    .dataframe tbody tr th {\n",
              "        vertical-align: top;\n",
              "    }\n",
              "\n",
              "    .dataframe thead tr th {\n",
              "        text-align: left;\n",
              "    }\n",
              "</style>\n",
              "<table border=\"1\" class=\"dataframe\">\n",
              "  <thead>\n",
              "    <tr>\n",
              "      <th></th>\n",
              "      <th>MinTemp</th>\n",
              "      <th>MaxTemp</th>\n",
              "      <th>Rainfall</th>\n",
              "      <th>Evaporation</th>\n",
              "      <th>Sunshine</th>\n",
              "      <th>WindGustSpeed</th>\n",
              "      <th>WindSpeed9am</th>\n",
              "      <th>WindSpeed3pm</th>\n",
              "      <th>Humidity9am</th>\n",
              "      <th>Humidity3pm</th>\n",
              "      <th>Pressure9am</th>\n",
              "      <th>Pressure3pm</th>\n",
              "      <th>Cloud9am</th>\n",
              "      <th>Cloud3pm</th>\n",
              "      <th>Temp9am</th>\n",
              "      <th>Temp3pm</th>\n",
              "      <th>Year</th>\n",
              "      <th>Month</th>\n",
              "      <th>Day</th>\n",
              "      <th>RainToday_0</th>\n",
              "      <th>RainToday_1</th>\n",
              "      <th>Adelaide</th>\n",
              "      <th>Albany</th>\n",
              "      <th>Albury</th>\n",
              "      <th>AliceSprings</th>\n",
              "      <th>BadgerysCreek</th>\n",
              "      <th>Ballarat</th>\n",
              "      <th>Bendigo</th>\n",
              "      <th>Brisbane</th>\n",
              "      <th>Cairns</th>\n",
              "      <th>Canberra</th>\n",
              "      <th>Cobar</th>\n",
              "      <th>CoffsHarbour</th>\n",
              "      <th>Dartmoor</th>\n",
              "      <th>Darwin</th>\n",
              "      <th>GoldCoast</th>\n",
              "      <th>Hobart</th>\n",
              "      <th>Katherine</th>\n",
              "      <th>Launceston</th>\n",
              "      <th>Melbourne</th>\n",
              "      <th>...</th>\n",
              "      <th>S</th>\n",
              "      <th>SE</th>\n",
              "      <th>SSE</th>\n",
              "      <th>SSW</th>\n",
              "      <th>SW</th>\n",
              "      <th>W</th>\n",
              "      <th>WNW</th>\n",
              "      <th>WSW</th>\n",
              "      <th>E</th>\n",
              "      <th>ENE</th>\n",
              "      <th>ESE</th>\n",
              "      <th>N</th>\n",
              "      <th>NE</th>\n",
              "      <th>NNE</th>\n",
              "      <th>NNW</th>\n",
              "      <th>NW</th>\n",
              "      <th>S</th>\n",
              "      <th>SE</th>\n",
              "      <th>SSE</th>\n",
              "      <th>SSW</th>\n",
              "      <th>SW</th>\n",
              "      <th>W</th>\n",
              "      <th>WNW</th>\n",
              "      <th>WSW</th>\n",
              "      <th>E</th>\n",
              "      <th>ENE</th>\n",
              "      <th>ESE</th>\n",
              "      <th>N</th>\n",
              "      <th>NE</th>\n",
              "      <th>NNE</th>\n",
              "      <th>NNW</th>\n",
              "      <th>NW</th>\n",
              "      <th>S</th>\n",
              "      <th>SE</th>\n",
              "      <th>SSE</th>\n",
              "      <th>SSW</th>\n",
              "      <th>SW</th>\n",
              "      <th>W</th>\n",
              "      <th>WNW</th>\n",
              "      <th>WSW</th>\n",
              "    </tr>\n",
              "  </thead>\n",
              "  <tbody>\n",
              "    <tr>\n",
              "      <th>count</th>\n",
              "      <td>116368.000000</td>\n",
              "      <td>116368.000000</td>\n",
              "      <td>116368.000000</td>\n",
              "      <td>116368.000000</td>\n",
              "      <td>116368.000000</td>\n",
              "      <td>116368.000000</td>\n",
              "      <td>116368.000000</td>\n",
              "      <td>116368.000000</td>\n",
              "      <td>116368.000000</td>\n",
              "      <td>116368.000000</td>\n",
              "      <td>116368.000000</td>\n",
              "      <td>116368.000000</td>\n",
              "      <td>116368.000000</td>\n",
              "      <td>116368.000000</td>\n",
              "      <td>116368.000000</td>\n",
              "      <td>116368.000000</td>\n",
              "      <td>116368.000000</td>\n",
              "      <td>116368.000000</td>\n",
              "      <td>116368.000000</td>\n",
              "      <td>116368.000000</td>\n",
              "      <td>116368.000000</td>\n",
              "      <td>116368.000000</td>\n",
              "      <td>116368.000000</td>\n",
              "      <td>116368.000000</td>\n",
              "      <td>116368.000000</td>\n",
              "      <td>116368.000000</td>\n",
              "      <td>116368.000000</td>\n",
              "      <td>116368.000000</td>\n",
              "      <td>116368.000000</td>\n",
              "      <td>116368.000000</td>\n",
              "      <td>116368.000000</td>\n",
              "      <td>116368.000000</td>\n",
              "      <td>116368.000000</td>\n",
              "      <td>116368.000000</td>\n",
              "      <td>116368.000000</td>\n",
              "      <td>116368.000000</td>\n",
              "      <td>116368.000000</td>\n",
              "      <td>116368.000000</td>\n",
              "      <td>116368.000000</td>\n",
              "      <td>116368.000000</td>\n",
              "      <td>...</td>\n",
              "      <td>116368.000000</td>\n",
              "      <td>116368.000000</td>\n",
              "      <td>116368.000000</td>\n",
              "      <td>116368.000000</td>\n",
              "      <td>116368.000000</td>\n",
              "      <td>116368.000000</td>\n",
              "      <td>116368.000000</td>\n",
              "      <td>116368.000000</td>\n",
              "      <td>116368.000000</td>\n",
              "      <td>116368.000000</td>\n",
              "      <td>116368.000000</td>\n",
              "      <td>116368.000000</td>\n",
              "      <td>116368.000000</td>\n",
              "      <td>116368.000000</td>\n",
              "      <td>116368.000000</td>\n",
              "      <td>116368.000000</td>\n",
              "      <td>116368.000000</td>\n",
              "      <td>116368.000000</td>\n",
              "      <td>116368.000000</td>\n",
              "      <td>116368.000000</td>\n",
              "      <td>116368.000000</td>\n",
              "      <td>116368.000000</td>\n",
              "      <td>116368.000000</td>\n",
              "      <td>116368.000000</td>\n",
              "      <td>116368.000000</td>\n",
              "      <td>116368.000000</td>\n",
              "      <td>116368.000000</td>\n",
              "      <td>116368.000000</td>\n",
              "      <td>116368.000000</td>\n",
              "      <td>116368.000000</td>\n",
              "      <td>116368.000000</td>\n",
              "      <td>116368.000000</td>\n",
              "      <td>116368.000000</td>\n",
              "      <td>116368.000000</td>\n",
              "      <td>116368.000000</td>\n",
              "      <td>116368.000000</td>\n",
              "      <td>116368.000000</td>\n",
              "      <td>116368.000000</td>\n",
              "      <td>116368.000000</td>\n",
              "      <td>116368.000000</td>\n",
              "    </tr>\n",
              "    <tr>\n",
              "      <th>mean</th>\n",
              "      <td>0.512133</td>\n",
              "      <td>0.529359</td>\n",
              "      <td>0.209625</td>\n",
              "      <td>0.233640</td>\n",
              "      <td>0.550516</td>\n",
              "      <td>0.263427</td>\n",
              "      <td>0.255080</td>\n",
              "      <td>0.327850</td>\n",
              "      <td>0.689507</td>\n",
              "      <td>0.516058</td>\n",
              "      <td>0.613882</td>\n",
              "      <td>0.610319</td>\n",
              "      <td>0.518232</td>\n",
              "      <td>0.588841</td>\n",
              "      <td>0.510115</td>\n",
              "      <td>0.519332</td>\n",
              "      <td>0.576706</td>\n",
              "      <td>0.490463</td>\n",
              "      <td>0.491065</td>\n",
              "      <td>0.219648</td>\n",
              "      <td>0.780352</td>\n",
              "      <td>0.021527</td>\n",
              "      <td>0.020925</td>\n",
              "      <td>0.020908</td>\n",
              "      <td>0.020882</td>\n",
              "      <td>0.020856</td>\n",
              "      <td>0.020616</td>\n",
              "      <td>0.021252</td>\n",
              "      <td>0.021561</td>\n",
              "      <td>0.021071</td>\n",
              "      <td>0.023649</td>\n",
              "      <td>0.020409</td>\n",
              "      <td>0.020770</td>\n",
              "      <td>0.020676</td>\n",
              "      <td>0.021853</td>\n",
              "      <td>0.020908</td>\n",
              "      <td>0.022300</td>\n",
              "      <td>0.010338</td>\n",
              "      <td>0.021011</td>\n",
              "      <td>0.022231</td>\n",
              "      <td>...</td>\n",
              "      <td>0.062766</td>\n",
              "      <td>0.064769</td>\n",
              "      <td>0.063574</td>\n",
              "      <td>0.060352</td>\n",
              "      <td>0.062320</td>\n",
              "      <td>0.138397</td>\n",
              "      <td>0.056966</td>\n",
              "      <td>0.062216</td>\n",
              "      <td>0.062938</td>\n",
              "      <td>0.053322</td>\n",
              "      <td>0.052102</td>\n",
              "      <td>0.153771</td>\n",
              "      <td>0.053296</td>\n",
              "      <td>0.055342</td>\n",
              "      <td>0.055213</td>\n",
              "      <td>0.059836</td>\n",
              "      <td>0.059776</td>\n",
              "      <td>0.064408</td>\n",
              "      <td>0.062440</td>\n",
              "      <td>0.052635</td>\n",
              "      <td>0.057988</td>\n",
              "      <td>0.058117</td>\n",
              "      <td>0.050564</td>\n",
              "      <td>0.048252</td>\n",
              "      <td>0.057481</td>\n",
              "      <td>0.054285</td>\n",
              "      <td>0.058427</td>\n",
              "      <td>0.061340</td>\n",
              "      <td>0.057103</td>\n",
              "      <td>0.045339</td>\n",
              "      <td>0.054078</td>\n",
              "      <td>0.059123</td>\n",
              "      <td>0.068447</td>\n",
              "      <td>0.103723</td>\n",
              "      <td>0.065224</td>\n",
              "      <td>0.056055</td>\n",
              "      <td>0.064786</td>\n",
              "      <td>0.069323</td>\n",
              "      <td>0.060309</td>\n",
              "      <td>0.064958</td>\n",
              "    </tr>\n",
              "    <tr>\n",
              "      <th>std</th>\n",
              "      <td>0.157596</td>\n",
              "      <td>0.133940</td>\n",
              "      <td>0.369223</td>\n",
              "      <td>0.128450</td>\n",
              "      <td>0.190458</td>\n",
              "      <td>0.101767</td>\n",
              "      <td>0.160647</td>\n",
              "      <td>0.152642</td>\n",
              "      <td>0.188114</td>\n",
              "      <td>0.204400</td>\n",
              "      <td>0.111210</td>\n",
              "      <td>0.106584</td>\n",
              "      <td>0.253410</td>\n",
              "      <td>0.263255</td>\n",
              "      <td>0.136068</td>\n",
              "      <td>0.131445</td>\n",
              "      <td>0.253840</td>\n",
              "      <td>0.311405</td>\n",
              "      <td>0.293231</td>\n",
              "      <td>0.414010</td>\n",
              "      <td>0.414010</td>\n",
              "      <td>0.145132</td>\n",
              "      <td>0.143134</td>\n",
              "      <td>0.143076</td>\n",
              "      <td>0.142990</td>\n",
              "      <td>0.142904</td>\n",
              "      <td>0.142094</td>\n",
              "      <td>0.144222</td>\n",
              "      <td>0.145245</td>\n",
              "      <td>0.143622</td>\n",
              "      <td>0.151954</td>\n",
              "      <td>0.141397</td>\n",
              "      <td>0.142615</td>\n",
              "      <td>0.142297</td>\n",
              "      <td>0.146204</td>\n",
              "      <td>0.143076</td>\n",
              "      <td>0.147658</td>\n",
              "      <td>0.101149</td>\n",
              "      <td>0.143421</td>\n",
              "      <td>0.147435</td>\n",
              "      <td>...</td>\n",
              "      <td>0.242543</td>\n",
              "      <td>0.246118</td>\n",
              "      <td>0.243994</td>\n",
              "      <td>0.238138</td>\n",
              "      <td>0.241736</td>\n",
              "      <td>0.345318</td>\n",
              "      <td>0.231778</td>\n",
              "      <td>0.241549</td>\n",
              "      <td>0.242853</td>\n",
              "      <td>0.224676</td>\n",
              "      <td>0.222234</td>\n",
              "      <td>0.360730</td>\n",
              "      <td>0.224625</td>\n",
              "      <td>0.228647</td>\n",
              "      <td>0.228396</td>\n",
              "      <td>0.237184</td>\n",
              "      <td>0.237072</td>\n",
              "      <td>0.245479</td>\n",
              "      <td>0.241954</td>\n",
              "      <td>0.223304</td>\n",
              "      <td>0.233723</td>\n",
              "      <td>0.233966</td>\n",
              "      <td>0.219106</td>\n",
              "      <td>0.214299</td>\n",
              "      <td>0.232761</td>\n",
              "      <td>0.226580</td>\n",
              "      <td>0.234550</td>\n",
              "      <td>0.239954</td>\n",
              "      <td>0.232041</td>\n",
              "      <td>0.208047</td>\n",
              "      <td>0.226173</td>\n",
              "      <td>0.235855</td>\n",
              "      <td>0.252512</td>\n",
              "      <td>0.304902</td>\n",
              "      <td>0.246922</td>\n",
              "      <td>0.230029</td>\n",
              "      <td>0.246149</td>\n",
              "      <td>0.254004</td>\n",
              "      <td>0.238059</td>\n",
              "      <td>0.246452</td>\n",
              "    </tr>\n",
              "    <tr>\n",
              "      <th>min</th>\n",
              "      <td>0.000000</td>\n",
              "      <td>0.000000</td>\n",
              "      <td>0.000000</td>\n",
              "      <td>0.000000</td>\n",
              "      <td>0.000000</td>\n",
              "      <td>0.000000</td>\n",
              "      <td>0.000000</td>\n",
              "      <td>0.000000</td>\n",
              "      <td>0.000000</td>\n",
              "      <td>0.000000</td>\n",
              "      <td>0.000000</td>\n",
              "      <td>0.000000</td>\n",
              "      <td>0.000000</td>\n",
              "      <td>0.000000</td>\n",
              "      <td>0.000000</td>\n",
              "      <td>0.000000</td>\n",
              "      <td>0.000000</td>\n",
              "      <td>0.000000</td>\n",
              "      <td>0.000000</td>\n",
              "      <td>0.000000</td>\n",
              "      <td>0.000000</td>\n",
              "      <td>0.000000</td>\n",
              "      <td>0.000000</td>\n",
              "      <td>0.000000</td>\n",
              "      <td>0.000000</td>\n",
              "      <td>0.000000</td>\n",
              "      <td>0.000000</td>\n",
              "      <td>0.000000</td>\n",
              "      <td>0.000000</td>\n",
              "      <td>0.000000</td>\n",
              "      <td>0.000000</td>\n",
              "      <td>0.000000</td>\n",
              "      <td>0.000000</td>\n",
              "      <td>0.000000</td>\n",
              "      <td>0.000000</td>\n",
              "      <td>0.000000</td>\n",
              "      <td>0.000000</td>\n",
              "      <td>0.000000</td>\n",
              "      <td>0.000000</td>\n",
              "      <td>0.000000</td>\n",
              "      <td>...</td>\n",
              "      <td>0.000000</td>\n",
              "      <td>0.000000</td>\n",
              "      <td>0.000000</td>\n",
              "      <td>0.000000</td>\n",
              "      <td>0.000000</td>\n",
              "      <td>0.000000</td>\n",
              "      <td>0.000000</td>\n",
              "      <td>0.000000</td>\n",
              "      <td>0.000000</td>\n",
              "      <td>0.000000</td>\n",
              "      <td>0.000000</td>\n",
              "      <td>0.000000</td>\n",
              "      <td>0.000000</td>\n",
              "      <td>0.000000</td>\n",
              "      <td>0.000000</td>\n",
              "      <td>0.000000</td>\n",
              "      <td>0.000000</td>\n",
              "      <td>0.000000</td>\n",
              "      <td>0.000000</td>\n",
              "      <td>0.000000</td>\n",
              "      <td>0.000000</td>\n",
              "      <td>0.000000</td>\n",
              "      <td>0.000000</td>\n",
              "      <td>0.000000</td>\n",
              "      <td>0.000000</td>\n",
              "      <td>0.000000</td>\n",
              "      <td>0.000000</td>\n",
              "      <td>0.000000</td>\n",
              "      <td>0.000000</td>\n",
              "      <td>0.000000</td>\n",
              "      <td>0.000000</td>\n",
              "      <td>0.000000</td>\n",
              "      <td>0.000000</td>\n",
              "      <td>0.000000</td>\n",
              "      <td>0.000000</td>\n",
              "      <td>0.000000</td>\n",
              "      <td>0.000000</td>\n",
              "      <td>0.000000</td>\n",
              "      <td>0.000000</td>\n",
              "      <td>0.000000</td>\n",
              "    </tr>\n",
              "    <tr>\n",
              "      <th>25%</th>\n",
              "      <td>0.400990</td>\n",
              "      <td>0.431002</td>\n",
              "      <td>0.000000</td>\n",
              "      <td>0.183486</td>\n",
              "      <td>0.565517</td>\n",
              "      <td>0.193798</td>\n",
              "      <td>0.127273</td>\n",
              "      <td>0.228070</td>\n",
              "      <td>0.570000</td>\n",
              "      <td>0.370000</td>\n",
              "      <td>0.545455</td>\n",
              "      <td>0.544000</td>\n",
              "      <td>0.333333</td>\n",
              "      <td>0.500000</td>\n",
              "      <td>0.411392</td>\n",
              "      <td>0.424184</td>\n",
              "      <td>0.400000</td>\n",
              "      <td>0.181818</td>\n",
              "      <td>0.233333</td>\n",
              "      <td>0.000000</td>\n",
              "      <td>1.000000</td>\n",
              "      <td>0.000000</td>\n",
              "      <td>0.000000</td>\n",
              "      <td>0.000000</td>\n",
              "      <td>0.000000</td>\n",
              "      <td>0.000000</td>\n",
              "      <td>0.000000</td>\n",
              "      <td>0.000000</td>\n",
              "      <td>0.000000</td>\n",
              "      <td>0.000000</td>\n",
              "      <td>0.000000</td>\n",
              "      <td>0.000000</td>\n",
              "      <td>0.000000</td>\n",
              "      <td>0.000000</td>\n",
              "      <td>0.000000</td>\n",
              "      <td>0.000000</td>\n",
              "      <td>0.000000</td>\n",
              "      <td>0.000000</td>\n",
              "      <td>0.000000</td>\n",
              "      <td>0.000000</td>\n",
              "      <td>...</td>\n",
              "      <td>0.000000</td>\n",
              "      <td>0.000000</td>\n",
              "      <td>0.000000</td>\n",
              "      <td>0.000000</td>\n",
              "      <td>0.000000</td>\n",
              "      <td>0.000000</td>\n",
              "      <td>0.000000</td>\n",
              "      <td>0.000000</td>\n",
              "      <td>0.000000</td>\n",
              "      <td>0.000000</td>\n",
              "      <td>0.000000</td>\n",
              "      <td>0.000000</td>\n",
              "      <td>0.000000</td>\n",
              "      <td>0.000000</td>\n",
              "      <td>0.000000</td>\n",
              "      <td>0.000000</td>\n",
              "      <td>0.000000</td>\n",
              "      <td>0.000000</td>\n",
              "      <td>0.000000</td>\n",
              "      <td>0.000000</td>\n",
              "      <td>0.000000</td>\n",
              "      <td>0.000000</td>\n",
              "      <td>0.000000</td>\n",
              "      <td>0.000000</td>\n",
              "      <td>0.000000</td>\n",
              "      <td>0.000000</td>\n",
              "      <td>0.000000</td>\n",
              "      <td>0.000000</td>\n",
              "      <td>0.000000</td>\n",
              "      <td>0.000000</td>\n",
              "      <td>0.000000</td>\n",
              "      <td>0.000000</td>\n",
              "      <td>0.000000</td>\n",
              "      <td>0.000000</td>\n",
              "      <td>0.000000</td>\n",
              "      <td>0.000000</td>\n",
              "      <td>0.000000</td>\n",
              "      <td>0.000000</td>\n",
              "      <td>0.000000</td>\n",
              "      <td>0.000000</td>\n",
              "    </tr>\n",
              "    <tr>\n",
              "      <th>50%</th>\n",
              "      <td>0.507426</td>\n",
              "      <td>0.517958</td>\n",
              "      <td>0.000000</td>\n",
              "      <td>0.215596</td>\n",
              "      <td>0.579310</td>\n",
              "      <td>0.255814</td>\n",
              "      <td>0.236364</td>\n",
              "      <td>0.333333</td>\n",
              "      <td>0.700000</td>\n",
              "      <td>0.520000</td>\n",
              "      <td>0.613223</td>\n",
              "      <td>0.609600</td>\n",
              "      <td>0.555556</td>\n",
              "      <td>0.625000</td>\n",
              "      <td>0.504219</td>\n",
              "      <td>0.508637</td>\n",
              "      <td>0.600000</td>\n",
              "      <td>0.454545</td>\n",
              "      <td>0.500000</td>\n",
              "      <td>0.000000</td>\n",
              "      <td>1.000000</td>\n",
              "      <td>0.000000</td>\n",
              "      <td>0.000000</td>\n",
              "      <td>0.000000</td>\n",
              "      <td>0.000000</td>\n",
              "      <td>0.000000</td>\n",
              "      <td>0.000000</td>\n",
              "      <td>0.000000</td>\n",
              "      <td>0.000000</td>\n",
              "      <td>0.000000</td>\n",
              "      <td>0.000000</td>\n",
              "      <td>0.000000</td>\n",
              "      <td>0.000000</td>\n",
              "      <td>0.000000</td>\n",
              "      <td>0.000000</td>\n",
              "      <td>0.000000</td>\n",
              "      <td>0.000000</td>\n",
              "      <td>0.000000</td>\n",
              "      <td>0.000000</td>\n",
              "      <td>0.000000</td>\n",
              "      <td>...</td>\n",
              "      <td>0.000000</td>\n",
              "      <td>0.000000</td>\n",
              "      <td>0.000000</td>\n",
              "      <td>0.000000</td>\n",
              "      <td>0.000000</td>\n",
              "      <td>0.000000</td>\n",
              "      <td>0.000000</td>\n",
              "      <td>0.000000</td>\n",
              "      <td>0.000000</td>\n",
              "      <td>0.000000</td>\n",
              "      <td>0.000000</td>\n",
              "      <td>0.000000</td>\n",
              "      <td>0.000000</td>\n",
              "      <td>0.000000</td>\n",
              "      <td>0.000000</td>\n",
              "      <td>0.000000</td>\n",
              "      <td>0.000000</td>\n",
              "      <td>0.000000</td>\n",
              "      <td>0.000000</td>\n",
              "      <td>0.000000</td>\n",
              "      <td>0.000000</td>\n",
              "      <td>0.000000</td>\n",
              "      <td>0.000000</td>\n",
              "      <td>0.000000</td>\n",
              "      <td>0.000000</td>\n",
              "      <td>0.000000</td>\n",
              "      <td>0.000000</td>\n",
              "      <td>0.000000</td>\n",
              "      <td>0.000000</td>\n",
              "      <td>0.000000</td>\n",
              "      <td>0.000000</td>\n",
              "      <td>0.000000</td>\n",
              "      <td>0.000000</td>\n",
              "      <td>0.000000</td>\n",
              "      <td>0.000000</td>\n",
              "      <td>0.000000</td>\n",
              "      <td>0.000000</td>\n",
              "      <td>0.000000</td>\n",
              "      <td>0.000000</td>\n",
              "      <td>0.000000</td>\n",
              "    </tr>\n",
              "    <tr>\n",
              "      <th>75%</th>\n",
              "      <td>0.626238</td>\n",
              "      <td>0.623819</td>\n",
              "      <td>0.187500</td>\n",
              "      <td>0.238532</td>\n",
              "      <td>0.593103</td>\n",
              "      <td>0.310078</td>\n",
              "      <td>0.345455</td>\n",
              "      <td>0.421053</td>\n",
              "      <td>0.830000</td>\n",
              "      <td>0.650000</td>\n",
              "      <td>0.682645</td>\n",
              "      <td>0.676800</td>\n",
              "      <td>0.666667</td>\n",
              "      <td>0.750000</td>\n",
              "      <td>0.605485</td>\n",
              "      <td>0.606526</td>\n",
              "      <td>0.800000</td>\n",
              "      <td>0.727273</td>\n",
              "      <td>0.733333</td>\n",
              "      <td>0.000000</td>\n",
              "      <td>1.000000</td>\n",
              "      <td>0.000000</td>\n",
              "      <td>0.000000</td>\n",
              "      <td>0.000000</td>\n",
              "      <td>0.000000</td>\n",
              "      <td>0.000000</td>\n",
              "      <td>0.000000</td>\n",
              "      <td>0.000000</td>\n",
              "      <td>0.000000</td>\n",
              "      <td>0.000000</td>\n",
              "      <td>0.000000</td>\n",
              "      <td>0.000000</td>\n",
              "      <td>0.000000</td>\n",
              "      <td>0.000000</td>\n",
              "      <td>0.000000</td>\n",
              "      <td>0.000000</td>\n",
              "      <td>0.000000</td>\n",
              "      <td>0.000000</td>\n",
              "      <td>0.000000</td>\n",
              "      <td>0.000000</td>\n",
              "      <td>...</td>\n",
              "      <td>0.000000</td>\n",
              "      <td>0.000000</td>\n",
              "      <td>0.000000</td>\n",
              "      <td>0.000000</td>\n",
              "      <td>0.000000</td>\n",
              "      <td>0.000000</td>\n",
              "      <td>0.000000</td>\n",
              "      <td>0.000000</td>\n",
              "      <td>0.000000</td>\n",
              "      <td>0.000000</td>\n",
              "      <td>0.000000</td>\n",
              "      <td>0.000000</td>\n",
              "      <td>0.000000</td>\n",
              "      <td>0.000000</td>\n",
              "      <td>0.000000</td>\n",
              "      <td>0.000000</td>\n",
              "      <td>0.000000</td>\n",
              "      <td>0.000000</td>\n",
              "      <td>0.000000</td>\n",
              "      <td>0.000000</td>\n",
              "      <td>0.000000</td>\n",
              "      <td>0.000000</td>\n",
              "      <td>0.000000</td>\n",
              "      <td>0.000000</td>\n",
              "      <td>0.000000</td>\n",
              "      <td>0.000000</td>\n",
              "      <td>0.000000</td>\n",
              "      <td>0.000000</td>\n",
              "      <td>0.000000</td>\n",
              "      <td>0.000000</td>\n",
              "      <td>0.000000</td>\n",
              "      <td>0.000000</td>\n",
              "      <td>0.000000</td>\n",
              "      <td>0.000000</td>\n",
              "      <td>0.000000</td>\n",
              "      <td>0.000000</td>\n",
              "      <td>0.000000</td>\n",
              "      <td>0.000000</td>\n",
              "      <td>0.000000</td>\n",
              "      <td>0.000000</td>\n",
              "    </tr>\n",
              "    <tr>\n",
              "      <th>max</th>\n",
              "      <td>1.000000</td>\n",
              "      <td>1.000000</td>\n",
              "      <td>1.000000</td>\n",
              "      <td>1.000000</td>\n",
              "      <td>1.000000</td>\n",
              "      <td>1.000000</td>\n",
              "      <td>1.000000</td>\n",
              "      <td>1.000000</td>\n",
              "      <td>1.000000</td>\n",
              "      <td>1.000000</td>\n",
              "      <td>1.000000</td>\n",
              "      <td>1.000000</td>\n",
              "      <td>1.000000</td>\n",
              "      <td>1.000000</td>\n",
              "      <td>1.000000</td>\n",
              "      <td>1.000000</td>\n",
              "      <td>1.000000</td>\n",
              "      <td>1.000000</td>\n",
              "      <td>1.000000</td>\n",
              "      <td>1.000000</td>\n",
              "      <td>1.000000</td>\n",
              "      <td>1.000000</td>\n",
              "      <td>1.000000</td>\n",
              "      <td>1.000000</td>\n",
              "      <td>1.000000</td>\n",
              "      <td>1.000000</td>\n",
              "      <td>1.000000</td>\n",
              "      <td>1.000000</td>\n",
              "      <td>1.000000</td>\n",
              "      <td>1.000000</td>\n",
              "      <td>1.000000</td>\n",
              "      <td>1.000000</td>\n",
              "      <td>1.000000</td>\n",
              "      <td>1.000000</td>\n",
              "      <td>1.000000</td>\n",
              "      <td>1.000000</td>\n",
              "      <td>1.000000</td>\n",
              "      <td>1.000000</td>\n",
              "      <td>1.000000</td>\n",
              "      <td>1.000000</td>\n",
              "      <td>...</td>\n",
              "      <td>1.000000</td>\n",
              "      <td>1.000000</td>\n",
              "      <td>1.000000</td>\n",
              "      <td>1.000000</td>\n",
              "      <td>1.000000</td>\n",
              "      <td>1.000000</td>\n",
              "      <td>1.000000</td>\n",
              "      <td>1.000000</td>\n",
              "      <td>1.000000</td>\n",
              "      <td>1.000000</td>\n",
              "      <td>1.000000</td>\n",
              "      <td>1.000000</td>\n",
              "      <td>1.000000</td>\n",
              "      <td>1.000000</td>\n",
              "      <td>1.000000</td>\n",
              "      <td>1.000000</td>\n",
              "      <td>1.000000</td>\n",
              "      <td>1.000000</td>\n",
              "      <td>1.000000</td>\n",
              "      <td>1.000000</td>\n",
              "      <td>1.000000</td>\n",
              "      <td>1.000000</td>\n",
              "      <td>1.000000</td>\n",
              "      <td>1.000000</td>\n",
              "      <td>1.000000</td>\n",
              "      <td>1.000000</td>\n",
              "      <td>1.000000</td>\n",
              "      <td>1.000000</td>\n",
              "      <td>1.000000</td>\n",
              "      <td>1.000000</td>\n",
              "      <td>1.000000</td>\n",
              "      <td>1.000000</td>\n",
              "      <td>1.000000</td>\n",
              "      <td>1.000000</td>\n",
              "      <td>1.000000</td>\n",
              "      <td>1.000000</td>\n",
              "      <td>1.000000</td>\n",
              "      <td>1.000000</td>\n",
              "      <td>1.000000</td>\n",
              "      <td>1.000000</td>\n",
              "    </tr>\n",
              "  </tbody>\n",
              "</table>\n",
              "<p>8 rows × 118 columns</p>\n",
              "</div>\n",
              "      <button class=\"colab-df-convert\" onclick=\"convertToInteractive('df-d7577454-5fff-4e7d-a295-1794f7d63f80')\"\n",
              "              title=\"Convert this dataframe to an interactive table.\"\n",
              "              style=\"display:none;\">\n",
              "        \n",
              "  <svg xmlns=\"http://www.w3.org/2000/svg\" height=\"24px\"viewBox=\"0 0 24 24\"\n",
              "       width=\"24px\">\n",
              "    <path d=\"M0 0h24v24H0V0z\" fill=\"none\"/>\n",
              "    <path d=\"M18.56 5.44l.94 2.06.94-2.06 2.06-.94-2.06-.94-.94-2.06-.94 2.06-2.06.94zm-11 1L8.5 8.5l.94-2.06 2.06-.94-2.06-.94L8.5 2.5l-.94 2.06-2.06.94zm10 10l.94 2.06.94-2.06 2.06-.94-2.06-.94-.94-2.06-.94 2.06-2.06.94z\"/><path d=\"M17.41 7.96l-1.37-1.37c-.4-.4-.92-.59-1.43-.59-.52 0-1.04.2-1.43.59L10.3 9.45l-7.72 7.72c-.78.78-.78 2.05 0 2.83L4 21.41c.39.39.9.59 1.41.59.51 0 1.02-.2 1.41-.59l7.78-7.78 2.81-2.81c.8-.78.8-2.07 0-2.86zM5.41 20L4 18.59l7.72-7.72 1.47 1.35L5.41 20z\"/>\n",
              "  </svg>\n",
              "      </button>\n",
              "      \n",
              "  <style>\n",
              "    .colab-df-container {\n",
              "      display:flex;\n",
              "      flex-wrap:wrap;\n",
              "      gap: 12px;\n",
              "    }\n",
              "\n",
              "    .colab-df-convert {\n",
              "      background-color: #E8F0FE;\n",
              "      border: none;\n",
              "      border-radius: 50%;\n",
              "      cursor: pointer;\n",
              "      display: none;\n",
              "      fill: #1967D2;\n",
              "      height: 32px;\n",
              "      padding: 0 0 0 0;\n",
              "      width: 32px;\n",
              "    }\n",
              "\n",
              "    .colab-df-convert:hover {\n",
              "      background-color: #E2EBFA;\n",
              "      box-shadow: 0px 1px 2px rgba(60, 64, 67, 0.3), 0px 1px 3px 1px rgba(60, 64, 67, 0.15);\n",
              "      fill: #174EA6;\n",
              "    }\n",
              "\n",
              "    [theme=dark] .colab-df-convert {\n",
              "      background-color: #3B4455;\n",
              "      fill: #D2E3FC;\n",
              "    }\n",
              "\n",
              "    [theme=dark] .colab-df-convert:hover {\n",
              "      background-color: #434B5C;\n",
              "      box-shadow: 0px 1px 3px 1px rgba(0, 0, 0, 0.15);\n",
              "      filter: drop-shadow(0px 1px 2px rgba(0, 0, 0, 0.3));\n",
              "      fill: #FFFFFF;\n",
              "    }\n",
              "  </style>\n",
              "\n",
              "      <script>\n",
              "        const buttonEl =\n",
              "          document.querySelector('#df-d7577454-5fff-4e7d-a295-1794f7d63f80 button.colab-df-convert');\n",
              "        buttonEl.style.display =\n",
              "          google.colab.kernel.accessAllowed ? 'block' : 'none';\n",
              "\n",
              "        async function convertToInteractive(key) {\n",
              "          const element = document.querySelector('#df-d7577454-5fff-4e7d-a295-1794f7d63f80');\n",
              "          const dataTable =\n",
              "            await google.colab.kernel.invokeFunction('convertToInteractive',\n",
              "                                                     [key], {});\n",
              "          if (!dataTable) return;\n",
              "\n",
              "          const docLinkHtml = 'Like what you see? Visit the ' +\n",
              "            '<a target=\"_blank\" href=https://colab.research.google.com/notebooks/data_table.ipynb>data table notebook</a>'\n",
              "            + ' to learn more about interactive tables.';\n",
              "          element.innerHTML = '';\n",
              "          dataTable['output_type'] = 'display_data';\n",
              "          await google.colab.output.renderOutput(dataTable, element);\n",
              "          const docLink = document.createElement('div');\n",
              "          docLink.innerHTML = docLinkHtml;\n",
              "          element.appendChild(docLink);\n",
              "        }\n",
              "      </script>\n",
              "    </div>\n",
              "  </div>\n",
              "  "
            ],
            "text/plain": [
              "             MinTemp        MaxTemp  ...            WNW            WSW\n",
              "count  116368.000000  116368.000000  ...  116368.000000  116368.000000\n",
              "mean        0.512133       0.529359  ...       0.060309       0.064958\n",
              "std         0.157596       0.133940  ...       0.238059       0.246452\n",
              "min         0.000000       0.000000  ...       0.000000       0.000000\n",
              "25%         0.400990       0.431002  ...       0.000000       0.000000\n",
              "50%         0.507426       0.517958  ...       0.000000       0.000000\n",
              "75%         0.626238       0.623819  ...       0.000000       0.000000\n",
              "max         1.000000       1.000000  ...       1.000000       1.000000\n",
              "\n",
              "[8 rows x 118 columns]"
            ]
          },
          "metadata": {},
          "execution_count": 441
        }
      ]
    },
    {
      "metadata": {
        "id": "ORqj0Z70KQX5"
      },
      "cell_type": "markdown",
      "source": [
        "Agora temos o conjunto de dados `X_train` pronto para ser alimentado no classificador de regressão logística. Vou fazer da seguinte maneira."
      ]
    },
    {
      "cell_type": "code",
      "source": [
        "X_test.isnull().sum()"
      ],
      "metadata": {
        "colab": {
          "base_uri": "https://localhost:8080/"
        },
        "id": "K-5TNkSvEQtW",
        "outputId": "128d0ea4-45c5-4a8b-a4c9-ee2c14baf80b"
      },
      "execution_count": null,
      "outputs": [
        {
          "output_type": "execute_result",
          "data": {
            "text/plain": [
              "MinTemp        0\n",
              "MaxTemp        0\n",
              "Rainfall       0\n",
              "Evaporation    0\n",
              "Sunshine       0\n",
              "              ..\n",
              "SSW            0\n",
              "SW             0\n",
              "W              0\n",
              "WNW            0\n",
              "WSW            0\n",
              "Length: 118, dtype: int64"
            ]
          },
          "metadata": {},
          "execution_count": 447
        }
      ]
    },
    {
      "cell_type": "code",
      "source": [
        "X_train.isnull().sum()"
      ],
      "metadata": {
        "colab": {
          "base_uri": "https://localhost:8080/"
        },
        "id": "yvNa_shZESkJ",
        "outputId": "4aeda1cd-837f-4185-e10a-48e62eb9580d"
      },
      "execution_count": null,
      "outputs": [
        {
          "output_type": "execute_result",
          "data": {
            "text/plain": [
              "MinTemp        0\n",
              "MaxTemp        0\n",
              "Rainfall       0\n",
              "Evaporation    0\n",
              "Sunshine       0\n",
              "              ..\n",
              "SSW            0\n",
              "SW             0\n",
              "W              0\n",
              "WNW            0\n",
              "WSW            0\n",
              "Length: 118, dtype: int64"
            ]
          },
          "metadata": {},
          "execution_count": 448
        }
      ]
    },
    {
      "metadata": {
        "id": "NFCPUtVXKQX6"
      },
      "cell_type": "markdown",
      "source": [
        "# **12. Treinamento do modelo** <a class=\"anchor\" id=\"12\"> </a>\n"
      ]
    },
    {
      "metadata": {
        "trusted": true,
        "colab": {
          "base_uri": "https://localhost:8080/"
        },
        "id": "F2v77GBhKQX6",
        "outputId": "20c7402a-5f1f-4719-ee71-6787639b8498"
      },
      "cell_type": "code",
      "source": [
        "# treinar um modelo de regressão logística no conjunto de treinamento\n",
        "from sklearn.linear_model import LogisticRegression\n",
        "\n",
        "# instanciar o modelo\n",
        "logreg = LogisticRegression(solver='liblinear', random_state=0)\n",
        "\n",
        "# treinar o modelo\n",
        "logreg.fit(X_train, y_train)\n"
      ],
      "execution_count": null,
      "outputs": [
        {
          "output_type": "execute_result",
          "data": {
            "text/plain": [
              "LogisticRegression(random_state=0, solver='liblinear')"
            ]
          },
          "metadata": {},
          "execution_count": 528
        }
      ]
    },
    {
      "metadata": {
        "id": "hqxY3qrKKQX6"
      },
      "cell_type": "markdown",
      "source": [
        "# **13. Prever os resultados** <a class=\"anchor\" id=\"13\"> </a>"
      ]
    },
    {
      "metadata": {
        "trusted": true,
        "colab": {
          "base_uri": "https://localhost:8080/"
        },
        "id": "iLgjSdYUKQX7",
        "outputId": "44b30fef-3462-4ebe-f493-ffb8bbd3ca10"
      },
      "cell_type": "code",
      "source": [
        "y_pred_test = logreg.predict(X_test)\n",
        "\n",
        "y_pred_test"
      ],
      "execution_count": null,
      "outputs": [
        {
          "output_type": "execute_result",
          "data": {
            "text/plain": [
              "array(['No', 'No', 'No', ..., 'Yes', 'No', 'No'], dtype=object)"
            ]
          },
          "metadata": {},
          "execution_count": 529
        }
      ]
    },
    {
      "metadata": {
        "id": "epPIBXoJKQX7"
      },
      "cell_type": "markdown",
      "source": [
        "### método predict_proba\n",
        "\n",
        "\n",
        "O método **predict_proba** fornece as probabilidades para a variável de destino (0 e 1) neste caso, na forma de matriz.\n",
        "\n",
        "`0 é para probabilidade de não chover` e` 1 é para probabilidade de chuva."
      ]
    },
    {
      "metadata": {
        "trusted": true,
        "colab": {
          "base_uri": "https://localhost:8080/"
        },
        "id": "u2c0Nz9GKQX7",
        "outputId": "fb1fce4f-4dcb-4f74-a882-018de0591d2d"
      },
      "cell_type": "code",
      "source": [
        "# probabilidade de obter a saída como 0 - sem chuva\n",
        "\n",
        "logreg.predict_proba(X_test)[:,0]"
      ],
      "execution_count": null,
      "outputs": [
        {
          "output_type": "execute_result",
          "data": {
            "text/plain": [
              "array([0.83218012, 0.74547897, 0.79864899, ..., 0.42025828, 0.65746991,\n",
              "       0.96954653])"
            ]
          },
          "metadata": {},
          "execution_count": 530
        }
      ]
    },
    {
      "metadata": {
        "trusted": true,
        "colab": {
          "base_uri": "https://localhost:8080/"
        },
        "id": "3aXtLWVsKQX8",
        "outputId": "48d69070-b871-4dda-e6b6-b44054751f39"
      },
      "cell_type": "code",
      "source": [
        "# probabilidade de obter a saída como 1 - chuva\n",
        "\n",
        "logreg.predict_proba(X_test)[:,1]"
      ],
      "execution_count": null,
      "outputs": [
        {
          "output_type": "execute_result",
          "data": {
            "text/plain": [
              "array([0.16781988, 0.25452103, 0.20135101, ..., 0.57974172, 0.34253009,\n",
              "       0.03045347])"
            ]
          },
          "metadata": {},
          "execution_count": 531
        }
      ]
    },
    {
      "metadata": {
        "id": "y-0P36nAKQX8"
      },
      "cell_type": "markdown",
      "source": [
        "# **14. Verifique a pontuação de precisão** <a class=\"anchor\" id=\"14\"> </a>\n",
        "\n"
      ]
    },
    {
      "metadata": {
        "trusted": true,
        "colab": {
          "base_uri": "https://localhost:8080/"
        },
        "id": "Wxkecx34KQX8",
        "outputId": "26b86d76-b605-4be6-c169-7302892d541e"
      },
      "cell_type": "code",
      "source": [
        "from sklearn.metrics import accuracy_score\n",
        "\n",
        "print('Model accuracy score: {0:0.4f}'. format(accuracy_score(y_test, y_pred_test)))"
      ],
      "execution_count": null,
      "outputs": [
        {
          "output_type": "stream",
          "name": "stdout",
          "text": [
            "Model accuracy score: 0.8484\n"
          ]
        }
      ]
    },
    {
      "metadata": {
        "id": "fNxpuPPDKQX9"
      },
      "cell_type": "markdown",
      "source": [
        "Aqui, **y_test** são os rótulos de classe verdadeiros e **y_pred_test** são os rótulos de classe previstos no conjunto de testes."
      ]
    },
    {
      "metadata": {
        "id": "1RvlYnE9KQX9"
      },
      "cell_type": "markdown",
      "source": [
        "### Compare a precisão do conjunto de treinamento e teste\n",
        "\n",
        "\n",
        "Agora, compararei a precisão do conjunto de trem e do conjunto de teste para verificar se há overfitting."
      ]
    },
    {
      "metadata": {
        "trusted": true,
        "colab": {
          "base_uri": "https://localhost:8080/"
        },
        "id": "wfq4GQTYKQX9",
        "outputId": "3c0bc514-b7c9-4b0d-9957-41b3257d9cf2"
      },
      "cell_type": "code",
      "source": [
        "y_pred_train = logreg.predict(X_train)\n",
        "\n",
        "y_pred_train"
      ],
      "execution_count": null,
      "outputs": [
        {
          "output_type": "execute_result",
          "data": {
            "text/plain": [
              "array(['No', 'No', 'No', ..., 'No', 'No', 'No'], dtype=object)"
            ]
          },
          "metadata": {},
          "execution_count": 533
        }
      ]
    },
    {
      "metadata": {
        "trusted": true,
        "colab": {
          "base_uri": "https://localhost:8080/"
        },
        "id": "W7tVt2pxKQX-",
        "outputId": "853a8aab-9076-4d7b-85bb-fc724e589bf1"
      },
      "cell_type": "code",
      "source": [
        "print('Training-set accuracy score: {0:0.4f}'. format(accuracy_score(y_train, y_pred_train)))"
      ],
      "execution_count": null,
      "outputs": [
        {
          "output_type": "stream",
          "name": "stdout",
          "text": [
            "Training-set accuracy score: 0.8488\n"
          ]
        }
      ]
    },
    {
      "metadata": {
        "id": "wkuDwB0YKQX-"
      },
      "cell_type": "markdown",
      "source": [
        "### Verifique se há overfitting e underfitting\n",
        "\n",
        "---\n",
        "\n"
      ]
    },
    {
      "metadata": {
        "trusted": true,
        "colab": {
          "base_uri": "https://localhost:8080/"
        },
        "id": "qpI3JXqCKQX-",
        "outputId": "778b6d52-2e5e-40a4-e590-55af18898d1e"
      },
      "cell_type": "code",
      "source": [
        "# imprimir as pontuações no conjunto de treinamento e teste\n",
        "\n",
        "print('Training set score: {:.4f}'.format(logreg.score(X_train, y_train)))\n",
        "\n",
        "print('Test set score: {:.4f}'.format(logreg.score(X_test, y_test)))"
      ],
      "execution_count": null,
      "outputs": [
        {
          "output_type": "stream",
          "name": "stdout",
          "text": [
            "Training set score: 0.8488\n",
            "Test set score: 0.8484\n"
          ]
        }
      ]
    },
    {
      "metadata": {
        "id": "bPs2OADwKQX_"
      },
      "cell_type": "markdown",
      "source": [
        "A pontuação de precisão do conjunto de treinamento é 0,8476, enquanto a precisão do conjunto de teste é 0,8501. Esses dois valores são bastante comparáveis. Portanto, não há questão de sobreajuste.\n"
      ]
    },
    {
      "metadata": {
        "id": "YL1iY7ghKQX_"
      },
      "cell_type": "markdown",
      "source": [
        "Na regressão logística, usamos o valor padrão de C = 1. Ele fornece bom desempenho com aproximadamente 85% de precisão no treinamento e no conjunto de teste. Mas o desempenho do modelo no conjunto de treinamento e teste é muito comparável. É provável que seja o caso de underfitting.\n",
        "\n",
        "Vou aumentar C e ajustar um modelo mais flexível."
      ]
    },
    {
      "metadata": {
        "trusted": true,
        "colab": {
          "base_uri": "https://localhost:8080/"
        },
        "id": "BuA_wiidKQX_",
        "outputId": "0d37cf7c-5a5a-4e44-e362-4a2fd0c362f5"
      },
      "cell_type": "code",
      "source": [
        "# ajustar o modelo de regressão logsítica com C = 100\n",
        "\n",
        "\n",
        "# instanciar o modelo\n",
        "logreg100 = LogisticRegression(C=100, solver='liblinear', random_state=0)\n",
        "\n",
        "\n",
        "# treinar o modelo\n",
        "logreg100.fit(X_train, y_train)"
      ],
      "execution_count": null,
      "outputs": [
        {
          "output_type": "execute_result",
          "data": {
            "text/plain": [
              "LogisticRegression(C=100, random_state=0, solver='liblinear')"
            ]
          },
          "metadata": {},
          "execution_count": 536
        }
      ]
    },
    {
      "metadata": {
        "trusted": true,
        "colab": {
          "base_uri": "https://localhost:8080/"
        },
        "id": "NupeXbT-KQYA",
        "outputId": "69f9a2bb-a8dd-4d49-f05d-b7d9a8335956"
      },
      "cell_type": "code",
      "source": [
        "# imprimir as pontuações no conjunto de treinamento e teste\n",
        "\n",
        "print('Training set score: {:.4f}'.format(logreg100.score(X_train, y_train)))\n",
        "\n",
        "print('Test set score: {:.4f}'.format(logreg100.score(X_test, y_test)))"
      ],
      "execution_count": null,
      "outputs": [
        {
          "output_type": "stream",
          "name": "stdout",
          "text": [
            "Training set score: 0.8489\n",
            "Test set score: 0.8491\n"
          ]
        }
      ]
    },
    {
      "metadata": {
        "id": "jBHXigEAKQYA"
      },
      "cell_type": "markdown",
      "source": [
        "\n",
        "Podemos ver que, C = 100 resulta em maior precisão do conjunto de teste e também um aumento ligeiramente na precisão do conjunto de treinamento. Portanto, podemos concluir que um modelo mais complexo deve ter um desempenho melhor."
      ]
    },
    {
      "metadata": {
        "id": "GO_pqPvuKQYA"
      },
      "cell_type": "markdown",
      "source": [
        "Agora, vou investigar o que acontece se usarmos um modelo mais regularizado do que o valor padrão de C = 1, definindo C = 0,01."
      ]
    },
    {
      "metadata": {
        "trusted": true,
        "colab": {
          "base_uri": "https://localhost:8080/"
        },
        "id": "czVTFJ0ZKQYB",
        "outputId": "9432830b-18cd-42a7-c419-fb69cdf75113"
      },
      "cell_type": "code",
      "source": [
        "# ajustar o modelo de regressão logsítica com C = 001\n",
        "\n",
        "# instanciar o modelo\n",
        "logreg001 = LogisticRegression(C=0.01, solver='liblinear', random_state=0)\n",
        "\n",
        "\n",
        "# fit the model\n",
        "logreg001.fit(X_train, y_train)"
      ],
      "execution_count": null,
      "outputs": [
        {
          "output_type": "execute_result",
          "data": {
            "text/plain": [
              "LogisticRegression(C=0.01, random_state=0, solver='liblinear')"
            ]
          },
          "metadata": {},
          "execution_count": 538
        }
      ]
    },
    {
      "metadata": {
        "trusted": true,
        "colab": {
          "base_uri": "https://localhost:8080/"
        },
        "id": "SnEGtq6XKQYB",
        "outputId": "f770778b-b86e-4bd4-8855-8972084ba79d"
      },
      "cell_type": "code",
      "source": [
        "\n",
        "# imprimir as pontuações no conjunto de treinamento e teste\n",
        "\n",
        "print('Training set score: {:.4f}'.format(logreg001.score(X_train, y_train)))\n",
        "\n",
        "print('Test set score: {:.4f}'.format(logreg001.score(X_test, y_test)))"
      ],
      "execution_count": null,
      "outputs": [
        {
          "output_type": "stream",
          "name": "stdout",
          "text": [
            "Training set score: 0.8427\n",
            "Test set score: 0.8418\n"
          ]
        }
      ]
    },
    {
      "metadata": {
        "id": "mCcGXgkOKQYB"
      },
      "cell_type": "markdown",
      "source": [
        "Portanto, se usarmos um modelo mais regularizado definindo C = 0,01, tanto o treinamento quanto a precisão do conjunto de teste diminuirão em relação aos parâmetros padrão."
      ]
    },
    {
      "metadata": {
        "id": "pmCJGsx8KQYC"
      },
      "cell_type": "markdown",
      "source": [
        "### Compare a precisão do modelo com a precisão nula\n",
        "\n",
        "\n",
        "Portanto, a precisão do modelo é 0,8501. Porém, não podemos dizer que nosso modelo seja muito bom com base na precisão acima. Devemos compará-lo com a **precisão nula**. A precisão nula é a precisão que pode ser alcançada sempre prevendo a classe mais frequente.\n",
        "\n",
        "Portanto, devemos primeiro verificar a distribuição da classe no conjunto de teste."
      ]
    },
    {
      "metadata": {
        "trusted": true,
        "colab": {
          "base_uri": "https://localhost:8080/"
        },
        "id": "bOYcEmukKQYC",
        "outputId": "c42bb7ee-d4bc-488b-df33-25cc02af5b4c"
      },
      "cell_type": "code",
      "source": [
        "# verificar a distribuição da classe no conjunto de teste\n",
        "\n",
        "y_test.value_counts()"
      ],
      "execution_count": null,
      "outputs": [
        {
          "output_type": "execute_result",
          "data": {
            "text/plain": [
              "No     22726\n",
              "Yes     6366\n",
              "Name: RainTomorrow, dtype: int64"
            ]
          },
          "metadata": {},
          "execution_count": 540
        }
      ]
    },
    {
      "metadata": {
        "id": "EnCtZnFLKQYC"
      },
      "cell_type": "markdown",
      "source": [
        "Podemos ver que a ocorrência da classe mais frequente é 22067. Portanto, podemos calcular a precisão nula dividindo 22067 pelo número total de ocorrências."
      ]
    },
    {
      "metadata": {
        "trusted": true,
        "colab": {
          "base_uri": "https://localhost:8080/"
        },
        "id": "bjQcJt3MKQYD",
        "outputId": "3c9348f1-6e04-49af-9fba-05439e3dcc37"
      },
      "cell_type": "code",
      "source": [
        "# check null accuracy score\n",
        "\n",
        "null_accuracy = (22067/(22067+6372))\n",
        "\n",
        "print('Null accuracy score: {0:0.4f}'. format(null_accuracy))"
      ],
      "execution_count": null,
      "outputs": [
        {
          "output_type": "stream",
          "name": "stdout",
          "text": [
            "Null accuracy score: 0.7759\n"
          ]
        }
      ]
    },
    {
      "metadata": {
        "id": "MY3uIDQHKQYD"
      },
      "cell_type": "markdown",
      "source": [
        "Podemos ver que nossa pontuação de precisão do modelo é 0,8501, mas a pontuação de precisão nula é 0,7759. Portanto, podemos concluir que nosso modelo de regressão logística está fazendo um trabalho muito bom na previsão dos rótulos das classes."
      ]
    },
    {
      "metadata": {
        "id": "s5aW74IBKQYE"
      },
      "cell_type": "markdown",
      "source": [
        "Agora, com base na análise acima, podemos concluir que a precisão do nosso modelo de classificação é muito boa. Nosso modelo está fazendo um trabalho muito bom em termos de previsão dos rótulos das classes.\n",
        "\n",
        "\n",
        "Mas não fornece a distribuição de valores subjacente. Além disso, não diz nada sobre os tipos de erros que nosso classificador está cometendo.\n",
        "\n",
        "\n",
        "Temos outra ferramenta chamada `Matriz de confusão` que vem em nosso socorro."
      ]
    },
    {
      "metadata": {
        "id": "J4Z1hBkwKQYF"
      },
      "cell_type": "markdown",
      "source": [
        "# **15. Matriz de confusão** <a class=\"anchor\" id=\"15\"> </a>\n",
        "\n",
        "\n",
        "Uma matriz de confusão é uma ferramenta para resumir o desempenho de um algoritmo de classificação. Uma matriz de confusão nos dará uma imagem clara do desempenho do modelo de classificação e dos tipos de erros produzidos pelo modelo. Ele nos dá um resumo das previsões corretas e incorretas divididas por cada categoria. O resumo é representado em forma de tabela.\n",
        "\n",
        "\n",
        "Quatro tipos de resultados são possíveis ao avaliar o desempenho de um modelo de classificação. Esses quatro resultados são descritos abaixo: -\n",
        "\n",
        "\n",
        "**Verdadeiros positivos (TP)** - Os verdadeiros positivos ocorrem quando predizemos que uma observação pertence a uma determinada classe e a observação realmente pertence a essa classe.\n",
        "\n",
        "\n",
        "**Negativos verdadeiros (TN)** - Os negativos verdadeiros ocorrem quando predizemos que uma observação não pertence a uma determinada classe e a observação na verdade não pertence a essa classe.\n",
        "\n",
        "\n",
        "**Falsos positivos (FP)** - Falsos positivos ocorrem quando predizemos que uma observação pertence a uma determinada classe, mas a observação na verdade não pertence a essa classe. Este tipo de erro é denominado ** erro Tipo I. **\n",
        "\n",
        "\n",
        "\n",
        "**Falsos negativos (FN)** - Falsos negativos ocorrem quando prevemos que uma observação não pertence a uma determinada classe, mas a observação realmente pertence a essa classe. Este é um erro muito sério e é chamado de ** erro Tipo II. **\n",
        "\n",
        "\n",
        "\n",
        "Esses quatro resultados são resumidos em uma matriz de confusão fornecida abaixo.\n"
      ]
    },
    {
      "metadata": {
        "trusted": true,
        "colab": {
          "base_uri": "https://localhost:8080/"
        },
        "id": "tP1vpUXfKQYF",
        "outputId": "f9de48d4-c379-46c1-cb7e-6de266f165d8"
      },
      "cell_type": "code",
      "source": [
        "# Imprima a Matriz de confusão e divida-a em quatro partes\n",
        "\n",
        "from sklearn.metrics import confusion_matrix\n",
        "\n",
        "cm = confusion_matrix(y_test, y_pred_test)\n",
        "\n",
        "print('Confusion matrix\\n\\n', cm)\n",
        "\n",
        "print('\\nTrue Positives(TP) = ', cm[0,0])\n",
        "\n",
        "print('\\nTrue Negatives(TN) = ', cm[1,1])\n",
        "\n",
        "print('\\nFalse Positives(FP) = ', cm[0,1])\n",
        "\n",
        "print('\\nFalse Negatives(FN) = ', cm[1,0])"
      ],
      "execution_count": null,
      "outputs": [
        {
          "output_type": "stream",
          "name": "stdout",
          "text": [
            "Confusion matrix\n",
            "\n",
            " [[21543  1183]\n",
            " [ 3227  3139]]\n",
            "\n",
            "True Positives(TP) =  21543\n",
            "\n",
            "True Negatives(TN) =  3139\n",
            "\n",
            "False Positives(FP) =  1183\n",
            "\n",
            "False Negatives(FN) =  3227\n"
          ]
        }
      ]
    },
    {
      "metadata": {
        "id": "epi-su1IKQYF"
      },
      "cell_type": "markdown",
      "source": [
        "A matriz de confusão mostra `20892 + 3285 = 24177 previsões corretas` e` 3087 + 1175 = 4262 previsões incorretas`.\n",
        "\n",
        "\n",
        "Neste caso, temos\n",
        "\n",
        "\n",
        "- `Positivos verdadeiros` (Positivos reais: 1 e Positivos preditivos: 1) - 20892\n",
        "\n",
        "\n",
        "- `Negativos reais` (Negativo real: 0 e Negativo previsto: 0) - 3285\n",
        "\n",
        "\n",
        "- `Falsos positivos` (negativo real: 0, mas positivo preditivo: 1) - 1175` (erro tipo I) `\n",
        "\n",
        "\n",
        "- `Falsos negativos` (Positivo real: 1, mas Negativo previsto: 0) - 3087` (erro Tipo II) `"
      ]
    },
    {
      "metadata": {
        "trusted": true,
        "colab": {
          "base_uri": "https://localhost:8080/",
          "height": 285
        },
        "id": "YwlWnN95KQYG",
        "outputId": "d1949393-46b5-4b89-be8b-45df56def238"
      },
      "cell_type": "code",
      "source": [
        "# visualizar matriz de confusão com mapa de calor do mar\n",
        "\n",
        "cm_matrix = pd.DataFrame(data=cm, columns=['Actual Positive:1', 'Actual Negative:0'], \n",
        "                                 index=['Predict Positive:1', 'Predict Negative:0'])\n",
        "\n",
        "sns.heatmap(cm_matrix, annot=True, fmt='d', cmap='OrRd')"
      ],
      "execution_count": null,
      "outputs": [
        {
          "output_type": "execute_result",
          "data": {
            "text/plain": [
              "<matplotlib.axes._subplots.AxesSubplot at 0x7f1c9d2664d0>"
            ]
          },
          "metadata": {},
          "execution_count": 547
        },
        {
          "output_type": "display_data",
          "data": {
            "image/png": "[encoded data removed]",
            "text/plain": [
              "<Figure size 432x288 with 2 Axes>"
            ]
          },
          "metadata": {}
        }
      ]
    },
    {
      "metadata": {
        "id": "jfHivvyqKQYG"
      },
      "cell_type": "markdown",
      "source": [
        "\n",
        "# **16. Métricas de classificação** <a class=\"anchor\" id=\"16\"> </a>"
      ]
    },
    {
      "metadata": {
        "id": "j37MToq4KQYG"
      },
      "cell_type": "markdown",
      "source": [
        "\n",
        "## Relatório de Classificação\n",
        "\n",
        "\n",
        "**Relatório de classificação** é outra forma de avaliar o desempenho do modelo de classificação. Ele exibe as pontuações de **precision**, **recall**, **f1** e **support**  para o modelo. Descrevi esses termos posteriormente.\n",
        "\n",
        "Podemos imprimir um relatório de classificação da seguinte forma: "
      ]
    },
    {
      "metadata": {
        "trusted": true,
        "colab": {
          "base_uri": "https://localhost:8080/"
        },
        "id": "emIpWjuGKQYG",
        "outputId": "75d0080d-9db3-454e-fae2-69cd1743ab9c"
      },
      "cell_type": "code",
      "source": [
        "from sklearn.metrics import classification_report\n",
        "\n",
        "print(classification_report(y_test, y_pred_test))"
      ],
      "execution_count": null,
      "outputs": [
        {
          "output_type": "stream",
          "name": "stdout",
          "text": [
            "              precision    recall  f1-score   support\n",
            "\n",
            "          No       0.87      0.95      0.91     22726\n",
            "         Yes       0.73      0.49      0.59      6366\n",
            "\n",
            "    accuracy                           0.85     29092\n",
            "   macro avg       0.80      0.72      0.75     29092\n",
            "weighted avg       0.84      0.85      0.84     29092\n",
            "\n"
          ]
        }
      ]
    },
    {
      "metadata": {
        "id": "tnqfBtQ0KQYG"
      },
      "cell_type": "markdown",
      "source": [
        "\n",
        "## Precisão de classificação"
      ]
    },
    {
      "metadata": {
        "trusted": true,
        "id": "7zHPDWRpKQYH"
      },
      "cell_type": "code",
      "source": [
        "TP = cm[0,0]\n",
        "TN = cm[1,1]\n",
        "FP = cm[0,1]\n",
        "FN = cm[1,0]"
      ],
      "execution_count": null,
      "outputs": []
    },
    {
      "metadata": {
        "trusted": true,
        "colab": {
          "base_uri": "https://localhost:8080/"
        },
        "id": "JrhUxKXGKQYH",
        "outputId": "8a0a1746-558a-4565-af3a-4655688c5b1f"
      },
      "cell_type": "code",
      "source": [
        "# imprimir precisão de classificação\n",
        "\n",
        "classification_accuracy = (TP + TN) / float(TP + TN + FP + FN)\n",
        "\n",
        "print('Classification accuracy : {0:0.4f}'.format(classification_accuracy))\n"
      ],
      "execution_count": null,
      "outputs": [
        {
          "output_type": "stream",
          "name": "stdout",
          "text": [
            "Classification accuracy : 0.8484\n"
          ]
        }
      ]
    },
    {
      "metadata": {
        "id": "fzMaslOHKQYH"
      },
      "cell_type": "markdown",
      "source": [
        "## Erro de classificação"
      ]
    },
    {
      "metadata": {
        "trusted": true,
        "colab": {
          "base_uri": "https://localhost:8080/"
        },
        "id": "Sh0i-CRSKQYH",
        "outputId": "5f2a150a-e7dc-46d0-a596-287685ae4457"
      },
      "cell_type": "code",
      "source": [
        "# erro de classificação de impressão\n",
        "\n",
        "classification_error = (FP + FN) / float(TP + TN + FP + FN)\n",
        "\n",
        "print('Classification error : {0:0.4f}'.format(classification_error))\n"
      ],
      "execution_count": null,
      "outputs": [
        {
          "output_type": "stream",
          "name": "stdout",
          "text": [
            "Classification error : 0.1516\n"
          ]
        }
      ]
    },
    {
      "metadata": {
        "id": "ft9Km-xcKQYH"
      },
      "cell_type": "markdown",
      "source": [
        "## Precision\n",
        "\n",
        "\n",
        "**Precision** pode ser definida como a porcentagem de resultados positivos previstos corretamente de todos os resultados positivos previstos. Pode ser dada como a razão de verdadeiros positivos (TP) para a soma de verdadeiros e falsos positivos (TP + FP).\n",
        "\n",
        "\n",
        "Portanto, **Precision** identifica a proporção de resultados positivos previstos corretamente. Está mais preocupado com a classe positiva do que com a classe negativa.\n",
        "\n",
        "\n",
        "\n",
        "Matematicamente, a precisão pode ser definida como a proporção de `TP para (TP + FP) .`\n",
        "\n",
        "\n"
      ]
    },
    {
      "metadata": {
        "trusted": true,
        "colab": {
          "base_uri": "https://localhost:8080/"
        },
        "id": "e1Doh0xnKQYI",
        "outputId": "9dea5d76-e775-43a1-eef4-6ff035b2956a"
      },
      "cell_type": "code",
      "source": [
        "# print precision score\n",
        "\n",
        "precision = TP / float(TP + FP)\n",
        "\n",
        "\n",
        "print('Precision : {0:0.4f}'.format(precision))\n"
      ],
      "execution_count": null,
      "outputs": [
        {
          "output_type": "stream",
          "name": "stdout",
          "text": [
            "Precision : 0.9479\n"
          ]
        }
      ]
    },
    {
      "metadata": {
        "id": "JcDcneVOKQYI"
      },
      "cell_type": "markdown",
      "source": [
        "## Recall\n",
        "\n",
        "\n",
        "O Recall pode ser definida como a porcentagem de resultados positivos previstos corretamente de todos os resultados positivos reais.\n",
        "Pode ser dado como a proporção de verdadeiros positivos (TP) para a soma de verdadeiros positivos e falsos negativos (TP + FN). **Recall** também é chamada de **Sensitivity (Sensibilidade)**.\n",
        "\n",
        "\n",
        "**Recall** identifica a proporção de positivos reais previstos corretamente.\n",
        "\n",
        "\n",
        "Matematicamente, a Recall pode ser dada como a proporção de `TP para (TP + FN) .`\n",
        "\n",
        "\n",
        "\n"
      ]
    },
    {
      "metadata": {
        "trusted": true,
        "colab": {
          "base_uri": "https://localhost:8080/"
        },
        "id": "veWZiYtGKQYI",
        "outputId": "f904f287-660b-42c4-c66e-999d05ca7b7b"
      },
      "cell_type": "code",
      "source": [
        "recall = TP / float(TP + FN)\n",
        "\n",
        "print('Recall or Sensitivity : {0:0.4f}'.format(recall))"
      ],
      "execution_count": null,
      "outputs": [
        {
          "output_type": "stream",
          "name": "stdout",
          "text": [
            "Recall or Sensitivity : 0.8697\n"
          ]
        }
      ]
    },
    {
      "metadata": {
        "id": "XUAoATljKQYI"
      },
      "cell_type": "markdown",
      "source": [
        "## Taxa de verdadeiro positivo\n",
        "\n",
        "\n",
        "**Taxa de verdadeiro positivo** é sinônimo de **Recall**.\n"
      ]
    },
    {
      "metadata": {
        "trusted": true,
        "colab": {
          "base_uri": "https://localhost:8080/"
        },
        "id": "GzKwXRKvKQYI",
        "outputId": "7f1e9917-592d-49c2-94c5-5fa2983b2c4f"
      },
      "cell_type": "code",
      "source": [
        "true_positive_rate = TP / float(TP + FN)\n",
        "\n",
        "\n",
        "print('True Positive Rate : {0:0.4f}'.format(true_positive_rate))"
      ],
      "execution_count": null,
      "outputs": [
        {
          "output_type": "stream",
          "name": "stdout",
          "text": [
            "True Positive Rate : 0.8697\n"
          ]
        }
      ]
    },
    {
      "metadata": {
        "id": "BzFftM7fKQYI"
      },
      "cell_type": "markdown",
      "source": [
        "\n",
        "## Taxa de falso positivo"
      ]
    },
    {
      "metadata": {
        "trusted": true,
        "colab": {
          "base_uri": "https://localhost:8080/"
        },
        "id": "U2aXp3AIKQYJ",
        "outputId": "743fe9d4-c924-4cb2-f542-03ba7aa2a00a"
      },
      "cell_type": "code",
      "source": [
        "false_positive_rate = FP / float(FP + TN)\n",
        "\n",
        "\n",
        "print('False Positive Rate : {0:0.4f}'.format(false_positive_rate))"
      ],
      "execution_count": null,
      "outputs": [
        {
          "output_type": "stream",
          "name": "stdout",
          "text": [
            "False Positive Rate : 0.2737\n"
          ]
        }
      ]
    },
    {
      "metadata": {
        "id": "Q0CmHpLBKQYJ"
      },
      "cell_type": "markdown",
      "source": [
        "\n",
        "## Especificidade"
      ]
    },
    {
      "metadata": {
        "trusted": true,
        "colab": {
          "base_uri": "https://localhost:8080/"
        },
        "id": "C7aa1xy5KQYJ",
        "outputId": "57ecb372-a24a-4523-c33a-8e7f5336ca93"
      },
      "cell_type": "code",
      "source": [
        "specificity = TN / (TN + FP)\n",
        "\n",
        "print('Specificity : {0:0.4f}'.format(specificity))"
      ],
      "execution_count": null,
      "outputs": [
        {
          "output_type": "stream",
          "name": "stdout",
          "text": [
            "Specificity : 0.7263\n"
          ]
        }
      ]
    },
    {
      "metadata": {
        "id": "ypCbLIKZKQYJ"
      },
      "cell_type": "markdown",
      "source": [
        "## f1-score\n",
        "\n",
        "\n",
        "**f1-score** é a média harmônica ponderada de precisão e recall. A melhor **pontuação f1** possível seria 1,0 e a pior\n",
        "seria 0,0. **f1-score** é a média harmônica de precisão e recall. Portanto, **f1-score** é sempre menor do que as medidas de precisão, pois elas incorporam precisão e recall em seus cálculos. A média ponderada de `pontuação f1` deve ser usada para\n",
        "compare modelos de classificador, não precisão global.\n",
        "\n"
      ]
    },
    {
      "metadata": {
        "id": "JGDetrtXKQYJ"
      },
      "cell_type": "markdown",
      "source": [
        "## Suporte\n",
        "\n",
        "\n",
        "**Suporte** é o número real de ocorrências da classe em nosso conjunto de dados."
      ]
    },
    {
      "metadata": {
        "id": "08z-ZmVeKQYK"
      },
      "cell_type": "markdown",
      "source": [
        "\n",
        "# **17. Ajustando o nível de limite** <a class=\"anchor\" id=\"17\"> </a>\n"
      ]
    },
    {
      "metadata": {
        "trusted": true,
        "colab": {
          "base_uri": "https://localhost:8080/"
        },
        "id": "cOLdXBy2KQYK",
        "outputId": "83927178-e188-4917-fb5a-7fa9e339429e"
      },
      "cell_type": "code",
      "source": [
        "# imprime as 10 primeiras probabilidades previstas de duas classes - 0 e 1\n",
        "\n",
        "y_pred_prob = logreg.predict_proba(X_test)[0:10]\n",
        "\n",
        "y_pred_prob"
      ],
      "execution_count": null,
      "outputs": [
        {
          "output_type": "execute_result",
          "data": {
            "text/plain": [
              "array([[0.83218012, 0.16781988],\n",
              "       [0.74547897, 0.25452103],\n",
              "       [0.79864899, 0.20135101],\n",
              "       [0.58509213, 0.41490787],\n",
              "       [0.92165784, 0.07834216],\n",
              "       [0.95625879, 0.04374121],\n",
              "       [0.57881888, 0.42118112],\n",
              "       [0.50293916, 0.49706084],\n",
              "       [0.80281943, 0.19718057],\n",
              "       [0.72340946, 0.27659054]])"
            ]
          },
          "metadata": {},
          "execution_count": 557
        }
      ]
    },
    {
      "metadata": {
        "id": "geZGPbZTKQYK"
      },
      "cell_type": "markdown",
      "source": [
        "### Observações\n",
        "\n",
        "\n",
        "- Em cada linha, os números somam 1.\n",
        "\n",
        "\n",
        "- Existem 2 colunas que correspondem a 2 classes - 0 e 1.\n",
        "\n",
        "    - Classe 0 - probabilidade prevista de que amanhã não choverá.\n",
        "    \n",
        "    - Classe 1 - probabilidade prevista de chuva amanhã.\n",
        "        \n",
        "    \n",
        "- Importância das probabilidades previstas\n",
        "\n",
        "    - Podemos classificar as observações por probabilidade de chuva ou ausência de chuva.\n",
        "\n",
        "\n",
        "- processo Predict_proba\n",
        "\n",
        "    - Prevê as probabilidades\n",
        "    \n",
        "    - Escolha a classe com a maior probabilidade\n",
        "    \n",
        "    \n",
        "- Nível de limite de classificação\n",
        "\n",
        "    - Existe um nível de limite de classificação de 0,5.\n",
        "    \n",
        "    - Classe 1 - probabilidade de chuva é prevista se probabilidade> 0,5.\n",
        "    \n",
        "    - Classe 0 - probabilidade de nenhuma chuva é prevista se probabilidade <0,5.   \n",
        "    \n"
      ]
    },
    {
      "metadata": {
        "trusted": true,
        "colab": {
          "base_uri": "https://localhost:8080/",
          "height": 362
        },
        "id": "EPQpoOlRKQYK",
        "outputId": "c29de5aa-88f9-48d5-9e11-e0abb21440d8"
      },
      "cell_type": "code",
      "source": [
        "# armazena as probabilidades no dataframe\n",
        "\n",
        "y_pred_prob_df = pd.DataFrame(data=y_pred_prob, columns=['Prob of - No rain tomorrow (0)', 'Prob of - Rain tomorrow (1)'])\n",
        "\n",
        "y_pred_prob_df"
      ],
      "execution_count": null,
      "outputs": [
        {
          "output_type": "execute_result",
          "data": {
            "text/html": [
              "\n",
              "  <div id=\"df-550060c3-9f41-4da1-a25c-a050d5c7c5a5\">\n",
              "    <div class=\"colab-df-container\">\n",
              "      <div>\n",
              "<style scoped>\n",
              "    .dataframe tbody tr th:only-of-type {\n",
              "        vertical-align: middle;\n",
              "    }\n",
              "\n",
              "    .dataframe tbody tr th {\n",
              "        vertical-align: top;\n",
              "    }\n",
              "\n",
              "    .dataframe thead th {\n",
              "        text-align: right;\n",
              "    }\n",
              "</style>\n",
              "<table border=\"1\" class=\"dataframe\">\n",
              "  <thead>\n",
              "    <tr style=\"text-align: right;\">\n",
              "      <th></th>\n",
              "      <th>Prob of - No rain tomorrow (0)</th>\n",
              "      <th>Prob of - Rain tomorrow (1)</th>\n",
              "    </tr>\n",
              "  </thead>\n",
              "  <tbody>\n",
              "    <tr>\n",
              "      <th>0</th>\n",
              "      <td>0.832180</td>\n",
              "      <td>0.167820</td>\n",
              "    </tr>\n",
              "    <tr>\n",
              "      <th>1</th>\n",
              "      <td>0.745479</td>\n",
              "      <td>0.254521</td>\n",
              "    </tr>\n",
              "    <tr>\n",
              "      <th>2</th>\n",
              "      <td>0.798649</td>\n",
              "      <td>0.201351</td>\n",
              "    </tr>\n",
              "    <tr>\n",
              "      <th>3</th>\n",
              "      <td>0.585092</td>\n",
              "      <td>0.414908</td>\n",
              "    </tr>\n",
              "    <tr>\n",
              "      <th>4</th>\n",
              "      <td>0.921658</td>\n",
              "      <td>0.078342</td>\n",
              "    </tr>\n",
              "    <tr>\n",
              "      <th>5</th>\n",
              "      <td>0.956259</td>\n",
              "      <td>0.043741</td>\n",
              "    </tr>\n",
              "    <tr>\n",
              "      <th>6</th>\n",
              "      <td>0.578819</td>\n",
              "      <td>0.421181</td>\n",
              "    </tr>\n",
              "    <tr>\n",
              "      <th>7</th>\n",
              "      <td>0.502939</td>\n",
              "      <td>0.497061</td>\n",
              "    </tr>\n",
              "    <tr>\n",
              "      <th>8</th>\n",
              "      <td>0.802819</td>\n",
              "      <td>0.197181</td>\n",
              "    </tr>\n",
              "    <tr>\n",
              "      <th>9</th>\n",
              "      <td>0.723409</td>\n",
              "      <td>0.276591</td>\n",
              "    </tr>\n",
              "  </tbody>\n",
              "</table>\n",
              "</div>\n",
              "      <button class=\"colab-df-convert\" onclick=\"convertToInteractive('df-550060c3-9f41-4da1-a25c-a050d5c7c5a5')\"\n",
              "              title=\"Convert this dataframe to an interactive table.\"\n",
              "              style=\"display:none;\">\n",
              "        \n",
              "  <svg xmlns=\"http://www.w3.org/2000/svg\" height=\"24px\"viewBox=\"0 0 24 24\"\n",
              "       width=\"24px\">\n",
              "    <path d=\"M0 0h24v24H0V0z\" fill=\"none\"/>\n",
              "    <path d=\"M18.56 5.44l.94 2.06.94-2.06 2.06-.94-2.06-.94-.94-2.06-.94 2.06-2.06.94zm-11 1L8.5 8.5l.94-2.06 2.06-.94-2.06-.94L8.5 2.5l-.94 2.06-2.06.94zm10 10l.94 2.06.94-2.06 2.06-.94-2.06-.94-.94-2.06-.94 2.06-2.06.94z\"/><path d=\"M17.41 7.96l-1.37-1.37c-.4-.4-.92-.59-1.43-.59-.52 0-1.04.2-1.43.59L10.3 9.45l-7.72 7.72c-.78.78-.78 2.05 0 2.83L4 21.41c.39.39.9.59 1.41.59.51 0 1.02-.2 1.41-.59l7.78-7.78 2.81-2.81c.8-.78.8-2.07 0-2.86zM5.41 20L4 18.59l7.72-7.72 1.47 1.35L5.41 20z\"/>\n",
              "  </svg>\n",
              "      </button>\n",
              "      \n",
              "  <style>\n",
              "    .colab-df-container {\n",
              "      display:flex;\n",
              "      flex-wrap:wrap;\n",
              "      gap: 12px;\n",
              "    }\n",
              "\n",
              "    .colab-df-convert {\n",
              "      background-color: #E8F0FE;\n",
              "      border: none;\n",
              "      border-radius: 50%;\n",
              "      cursor: pointer;\n",
              "      display: none;\n",
              "      fill: #1967D2;\n",
              "      height: 32px;\n",
              "      padding: 0 0 0 0;\n",
              "      width: 32px;\n",
              "    }\n",
              "\n",
              "    .colab-df-convert:hover {\n",
              "      background-color: #E2EBFA;\n",
              "      box-shadow: 0px 1px 2px rgba(60, 64, 67, 0.3), 0px 1px 3px 1px rgba(60, 64, 67, 0.15);\n",
              "      fill: #174EA6;\n",
              "    }\n",
              "\n",
              "    [theme=dark] .colab-df-convert {\n",
              "      background-color: #3B4455;\n",
              "      fill: #D2E3FC;\n",
              "    }\n",
              "\n",
              "    [theme=dark] .colab-df-convert:hover {\n",
              "      background-color: #434B5C;\n",
              "      box-shadow: 0px 1px 3px 1px rgba(0, 0, 0, 0.15);\n",
              "      filter: drop-shadow(0px 1px 2px rgba(0, 0, 0, 0.3));\n",
              "      fill: #FFFFFF;\n",
              "    }\n",
              "  </style>\n",
              "\n",
              "      <script>\n",
              "        const buttonEl =\n",
              "          document.querySelector('#df-550060c3-9f41-4da1-a25c-a050d5c7c5a5 button.colab-df-convert');\n",
              "        buttonEl.style.display =\n",
              "          google.colab.kernel.accessAllowed ? 'block' : 'none';\n",
              "\n",
              "        async function convertToInteractive(key) {\n",
              "          const element = document.querySelector('#df-550060c3-9f41-4da1-a25c-a050d5c7c5a5');\n",
              "          const dataTable =\n",
              "            await google.colab.kernel.invokeFunction('convertToInteractive',\n",
              "                                                     [key], {});\n",
              "          if (!dataTable) return;\n",
              "\n",
              "          const docLinkHtml = 'Like what you see? Visit the ' +\n",
              "            '<a target=\"_blank\" href=https://colab.research.google.com/notebooks/data_table.ipynb>data table notebook</a>'\n",
              "            + ' to learn more about interactive tables.';\n",
              "          element.innerHTML = '';\n",
              "          dataTable['output_type'] = 'display_data';\n",
              "          await google.colab.output.renderOutput(dataTable, element);\n",
              "          const docLink = document.createElement('div');\n",
              "          docLink.innerHTML = docLinkHtml;\n",
              "          element.appendChild(docLink);\n",
              "        }\n",
              "      </script>\n",
              "    </div>\n",
              "  </div>\n",
              "  "
            ],
            "text/plain": [
              "   Prob of - No rain tomorrow (0)  Prob of - Rain tomorrow (1)\n",
              "0                        0.832180                     0.167820\n",
              "1                        0.745479                     0.254521\n",
              "2                        0.798649                     0.201351\n",
              "3                        0.585092                     0.414908\n",
              "4                        0.921658                     0.078342\n",
              "5                        0.956259                     0.043741\n",
              "6                        0.578819                     0.421181\n",
              "7                        0.502939                     0.497061\n",
              "8                        0.802819                     0.197181\n",
              "9                        0.723409                     0.276591"
            ]
          },
          "metadata": {},
          "execution_count": 558
        }
      ]
    },
    {
      "metadata": {
        "trusted": true,
        "colab": {
          "base_uri": "https://localhost:8080/"
        },
        "id": "zSLjvGY1KQYK",
        "outputId": "59822097-c495-4789-f2aa-286f8b2fb1c9"
      },
      "cell_type": "code",
      "source": [
        "# imprime as 10 primeiras probabilidades previstas para a classe 1 - Probabilidade de chuva\n",
        "\n",
        "logreg.predict_proba(X_test)[0:10, 1]"
      ],
      "execution_count": null,
      "outputs": [
        {
          "output_type": "execute_result",
          "data": {
            "text/plain": [
              "array([0.16781988, 0.25452103, 0.20135101, 0.41490787, 0.07834216,\n",
              "       0.04374121, 0.42118112, 0.49706084, 0.19718057, 0.27659054])"
            ]
          },
          "metadata": {},
          "execution_count": 559
        }
      ]
    },
    {
      "metadata": {
        "trusted": true,
        "id": "N20o5vFuKQYL"
      },
      "cell_type": "code",
      "source": [
        "# armazene as probabilidades previstas para a classe 1 - Probabilidade de chuva\n",
        "\n",
        "y_pred1 = logreg.predict_proba(X_test)[:, 1]"
      ],
      "execution_count": null,
      "outputs": []
    },
    {
      "metadata": {
        "trusted": true,
        "colab": {
          "base_uri": "https://localhost:8080/",
          "height": 318
        },
        "id": "MEJ3fIbfKQYL",
        "outputId": "392b60fa-d453-41a5-91c0-113afcd8f0c7"
      },
      "cell_type": "code",
      "source": [
        "# plotar o histograma das probabilidades previstas\n",
        "\n",
        "\n",
        "# ajusta o tamanho da fonte\n",
        "plt.rcParams['font.size'] = 12\n",
        "\n",
        "\n",
        "\n",
        "# plotar histograma com 10 caixas\n",
        "plt.hist(y_pred1, bins = 10)\n",
        "\n",
        "\n",
        "# definir o título das probabilidades previstas\n",
        "plt.title('Histogram of predicted probabilities of rain')\n",
        "\n",
        "\n",
        "# definir o limite do eixo x\n",
        "plt.xlim(0,1)\n",
        "\n",
        "\n",
        "# definir o título\n",
        "plt.xlabel('Predicted probabilities of rain')\n",
        "plt.ylabel('Frequency')"
      ],
      "execution_count": null,
      "outputs": [
        {
          "output_type": "execute_result",
          "data": {
            "text/plain": [
              "Text(0, 0.5, 'Frequency')"
            ]
          },
          "metadata": {},
          "execution_count": 561
        },
        {
          "output_type": "display_data",
          "data": {
            "image/png": "[encoded data removed]",
            "text/plain": [
              "<Figure size 432x288 with 1 Axes>"
            ]
          },
          "metadata": {}
        }
      ]
    },
    {
      "metadata": {
        "id": "S6j6EUkHKQYL"
      },
      "cell_type": "markdown",
      "source": [
        "### Observações\n",
        "\n",
        "\n",
        "- Podemos ver que o histograma acima é enviesado altamente positivo.\n",
        "\n",
        "\n",
        "- A primeira coluna nos informa que existem aproximadamente 15.000 observações com probabilidade entre 0,0 e 0,1.\n",
        "\n",
        "\n",
        "- Há pequeno número de observações com probabilidade> 0,5.\n",
        "\n",
        "\n",
        "- Então, esse pequeno número de observações prevê que vai chover amanhã.\n",
        "\n",
        "\n",
        "- A maioria das observações prevê que não haverá chuva amanhã."
      ]
    },
    {
      "metadata": {
        "id": "d-fCazHXKQYL"
      },
      "cell_type": "markdown",
      "source": [
        "\n",
        "### Abaixe o limite"
      ]
    },
    {
      "cell_type": "code",
      "source": [
        "!pip install binarize"
      ],
      "metadata": {
        "colab": {
          "base_uri": "https://localhost:8080/"
        },
        "id": "91oFVakbLjdv",
        "outputId": "f5f2fc94-0735-4f1d-d75f-7e889c11f11c"
      },
      "execution_count": null,
      "outputs": [
        {
          "output_type": "stream",
          "name": "stdout",
          "text": [
            "Collecting binarize\n",
            "  Downloading binarize-0.0.1.tar.gz (6.8 kB)\n",
            "Building wheels for collected packages: binarize\n",
            "  Building wheel for binarize (setup.py) ... \u001b[?25l\u001b[?25hdone\n",
            "  Created wheel for binarize: filename=binarize-0.0.1-py3-none-any.whl size=10038 sha256=87ca2fdd25944d10a4141c068dabc2d80214723a1516ba2a86ae7be5e411ecc9\n",
            "  Stored in directory: /root/.cache/pip/wheels/ec/8a/d3/798a694fe2b2cf70c26a766fcf96bb198156774c003991510f\n",
            "Successfully built binarize\n",
            "Installing collected packages: binarize\n",
            "Successfully installed binarize-0.0.1\n"
          ]
        }
      ]
    },
    {
      "metadata": {
        "trusted": true,
        "colab": {
          "base_uri": "https://localhost:8080/"
        },
        "id": "p40Jz_H8KQYL",
        "outputId": "6011bebd-5e2c-47e4-8e9d-3d7987e61c0b"
      },
      "cell_type": "code",
      "source": [
        "from sklearn.preprocessing import binarize\n",
        "\n",
        "for i in range(1,10):\n",
        "    \n",
        "    cm1=0\n",
        "    \n",
        "    y_pred1 = logreg.predict_proba(X_test)[:,1]\n",
        "    \n",
        "    y_pred1 = y_pred1.reshape(-1,1)\n",
        "    \n",
        "    y_pred2 = binarize(y_pred1,  threshold=i/10)\n",
        "    \n",
        "    y_pred2 = np.where(y_pred2 == 1, 'Yes', 'No')\n",
        "    \n",
        "    cm1 = confusion_matrix(y_test, y_pred2)\n",
        "        \n",
        "    print ('With',i/10,'threshold the Confusion Matrix is ','\\n\\n',cm1,'\\n\\n',\n",
        "           \n",
        "            'with',cm1[0,0]+cm1[1,1],'correct predictions, ', '\\n\\n', \n",
        "           \n",
        "            cm1[0,1],'Type I errors( False Positives), ','\\n\\n',\n",
        "           \n",
        "            cm1[1,0],'Type II errors( False Negatives), ','\\n\\n',\n",
        "           \n",
        "           'Accuracy score: ', (accuracy_score(y_test, y_pred2)), '\\n\\n',\n",
        "           \n",
        "           'Sensitivity: ',cm1[1,1]/(float(cm1[1,1]+cm1[1,0])), '\\n\\n',\n",
        "           \n",
        "           'Specificity: ',cm1[0,0]/(float(cm1[0,0]+cm1[0,1])),'\\n\\n',\n",
        "          \n",
        "            '====================================================', '\\n\\n')"
      ],
      "execution_count": null,
      "outputs": [
        {
          "output_type": "stream",
          "name": "stdout",
          "text": [
            "With 0.1 threshold the Confusion Matrix is  \n",
            "\n",
            " [[13292  9434]\n",
            " [  571  5795]] \n",
            "\n",
            " with 19087 correct predictions,  \n",
            "\n",
            " 9434 Type I errors( False Positives),  \n",
            "\n",
            " 571 Type II errors( False Negatives),  \n",
            "\n",
            " Accuracy score:  0.6560910215866905 \n",
            "\n",
            " Sensitivity:  0.9103047439522463 \n",
            "\n",
            " Specificity:  0.584880753322186 \n",
            "\n",
            " ==================================================== \n",
            "\n",
            "\n",
            "With 0.2 threshold the Confusion Matrix is  \n",
            "\n",
            " [[17741  4985]\n",
            " [ 1365  5001]] \n",
            "\n",
            " with 22742 correct predictions,  \n",
            "\n",
            " 4985 Type I errors( False Positives),  \n",
            "\n",
            " 1365 Type II errors( False Negatives),  \n",
            "\n",
            " Accuracy score:  0.7817269352399285 \n",
            "\n",
            " Sensitivity:  0.7855796418473139 \n",
            "\n",
            " Specificity:  0.7806477162721113 \n",
            "\n",
            " ==================================================== \n",
            "\n",
            "\n",
            "With 0.3 threshold the Confusion Matrix is  \n",
            "\n",
            " [[19744  2982]\n",
            " [ 2043  4323]] \n",
            "\n",
            " with 24067 correct predictions,  \n",
            "\n",
            " 2982 Type I errors( False Positives),  \n",
            "\n",
            " 2043 Type II errors( False Negatives),  \n",
            "\n",
            " Accuracy score:  0.8272721022961639 \n",
            "\n",
            " Sensitivity:  0.679076343072573 \n",
            "\n",
            " Specificity:  0.8687846519405087 \n",
            "\n",
            " ==================================================== \n",
            "\n",
            "\n",
            "With 0.4 threshold the Confusion Matrix is  \n",
            "\n",
            " [[20840  1886]\n",
            " [ 2646  3720]] \n",
            "\n",
            " with 24560 correct predictions,  \n",
            "\n",
            " 1886 Type I errors( False Positives),  \n",
            "\n",
            " 2646 Type II errors( False Negatives),  \n",
            "\n",
            " Accuracy score:  0.844218341812182 \n",
            "\n",
            " Sensitivity:  0.58435438265787 \n",
            "\n",
            " Specificity:  0.9170113526357476 \n",
            "\n",
            " ==================================================== \n",
            "\n",
            "\n",
            "With 0.5 threshold the Confusion Matrix is  \n",
            "\n",
            " [[21543  1183]\n",
            " [ 3227  3139]] \n",
            "\n",
            " with 24682 correct predictions,  \n",
            "\n",
            " 1183 Type I errors( False Positives),  \n",
            "\n",
            " 3227 Type II errors( False Negatives),  \n",
            "\n",
            " Accuracy score:  0.8484119345524542 \n",
            "\n",
            " Sensitivity:  0.49308828149544454 \n",
            "\n",
            " Specificity:  0.9479450849247558 \n",
            "\n",
            " ==================================================== \n",
            "\n",
            "\n",
            "With 0.6 threshold the Confusion Matrix is  \n",
            "\n",
            " [[22008   718]\n",
            " [ 3820  2546]] \n",
            "\n",
            " with 24554 correct predictions,  \n",
            "\n",
            " 718 Type I errors( False Positives),  \n",
            "\n",
            " 3820 Type II errors( False Negatives),  \n",
            "\n",
            " Accuracy score:  0.844012099546267 \n",
            "\n",
            " Sensitivity:  0.39993716619541314 \n",
            "\n",
            " Specificity:  0.968406230748922 \n",
            "\n",
            " ==================================================== \n",
            "\n",
            "\n",
            "With 0.7 threshold the Confusion Matrix is  \n",
            "\n",
            " [[22324   402]\n",
            " [ 4439  1927]] \n",
            "\n",
            " with 24251 correct predictions,  \n",
            "\n",
            " 402 Type I errors( False Positives),  \n",
            "\n",
            " 4439 Type II errors( False Negatives),  \n",
            "\n",
            " Accuracy score:  0.833596865117558 \n",
            "\n",
            " Sensitivity:  0.30270185359723534 \n",
            "\n",
            " Specificity:  0.9823110094165274 \n",
            "\n",
            " ==================================================== \n",
            "\n",
            "\n",
            "With 0.8 threshold the Confusion Matrix is  \n",
            "\n",
            " [[22551   175]\n",
            " [ 5045  1321]] \n",
            "\n",
            " with 23872 correct predictions,  \n",
            "\n",
            " 175 Type I errors( False Positives),  \n",
            "\n",
            " 5045 Type II errors( False Negatives),  \n",
            "\n",
            " Accuracy score:  0.8205692286539255 \n",
            "\n",
            " Sensitivity:  0.20750863964813068 \n",
            "\n",
            " Specificity:  0.9922995687758515 \n",
            "\n",
            " ==================================================== \n",
            "\n",
            "\n",
            "With 0.9 threshold the Confusion Matrix is  \n",
            "\n",
            " [[22678    48]\n",
            " [ 5757   609]] \n",
            "\n",
            " with 23287 correct predictions,  \n",
            "\n",
            " 48 Type I errors( False Positives),  \n",
            "\n",
            " 5757 Type II errors( False Negatives),  \n",
            "\n",
            " Accuracy score:  0.8004606077272103 \n",
            "\n",
            " Sensitivity:  0.09566446748350613 \n",
            "\n",
            " Specificity:  0.9978878817213764 \n",
            "\n",
            " ==================================================== \n",
            "\n",
            "\n"
          ]
        }
      ]
    },
    {
      "metadata": {
        "id": "609R8AVUKQYM"
      },
      "cell_type": "markdown",
      "source": [
        "### Comentários\n",
        "\n",
        "\n",
        "- Em problemas binários, o limite de 0,5 é usado por padrão para converter probabilidades previstas em previsões de classe.\n",
        "\n",
        "\n",
        "- O limite pode ser ajustado para aumentar a sensibilidade ou especificidade.\n",
        "\n",
        "\n",
        "- A sensibilidade e a especificidade têm uma relação inversa. Aumentar um sempre diminuiria o outro e vice-versa.\n",
        "\n",
        "\n",
        "- Podemos ver que aumentar o nível de limite resulta em maior precisão.\n",
        "\n",
        "\n",
        "- Ajustar o nível de limite deve ser uma das últimas etapas do processo de construção do modelo."
      ]
    },
    {
      "metadata": {
        "id": "O9RJzatgKQYM"
      },
      "cell_type": "markdown",
      "source": [
        "# **18. ROC - AUC** <a class=\"anchor\" id=\"18\"> </a>\n",
        "\n",
        "\n",
        "## Curva ROC\n",
        "\n",
        "\n",
        "Outra ferramenta para medir o desempenho do modelo de classificação visualmente é a **Curva ROC**. Curva ROC significa **Receiver Operating Characteristic Curve**. Uma **Curva ROC** é um gráfico que mostra o desempenho de um modelo de classificação em vários\n",
        "níveis de limiar de classificação.\n",
        "\n",
        "\n",
        "\n",
        "A **Curva ROC** plota a **Taxa de Verdadeiro Positivo (TPR)** em relação à **Taxa de Falso Positivo (FPR)** em vários níveis de limiar.\n",
        "\n",
        "\n",
        "\n",
        "**Taxa de True Positive (TPR)** também é chamada de **Recall**. É definido como a proporção de `TP para (TP + FN) .`\n",
        "\n",
        "\n",
        "\n",
        "**Taxa de falso positivo (FPR)** **negrito** é definida como a razão de `FP para (FP + TN).\n",
        "\n",
        "\n",
        "\n",
        "\n",
        "Na Curva ROC, iremos focar na TPR (Taxa de Verdadeiro Positivo) e FPR (Taxa de Falso Positivo) de um único ponto. Isso nos dará o desempenho geral da curva ROC, que consiste no TPR e FPR em vários níveis de limiar. Portanto, uma curva ROC representa TPR vs FPR em diferentes níveis de limiar de classificação. Se diminuirmos os níveis de limite, isso pode resultar em mais itens sendo classificados como positivos. Isso aumentará tanto os positivos verdadeiros (TP) quanto os falsos positivos (FP).\n",
        "\n"
      ]
    },
    {
      "metadata": {
        "trusted": true,
        "colab": {
          "base_uri": "https://localhost:8080/",
          "height": 517
        },
        "id": "kiQkYJU6KQYM",
        "outputId": "3b4b3a4e-73ab-419c-8201-a933bb816005"
      },
      "cell_type": "code",
      "source": [
        "# plot ROC Curve\n",
        "\n",
        "from sklearn.metrics import roc_curve\n",
        "\n",
        "fpr, tpr, thresholds = roc_curve(y_test, y_pred1, pos_label = 'Yes')\n",
        "\n",
        "plt.figure(figsize=(10,8))\n",
        "\n",
        "plt.plot(fpr, tpr, linewidth=2)\n",
        "\n",
        "plt.plot([0,1], [0,1], 'k--' )\n",
        "\n",
        "plt.rcParams['font.size'] = 12\n",
        "\n",
        "plt.title('ROC curve for RainTomorrow classifier')\n",
        "\n",
        "plt.xlabel('False Positive Rate (1 - Specificity)')\n",
        "\n",
        "plt.ylabel('True Positive Rate (Sensitivity)')\n",
        "\n",
        "plt.show()\n"
      ],
      "execution_count": null,
      "outputs": [
        {
          "output_type": "display_data",
          "data": {
            "image/png": "[encoded data removed]",
            "text/plain": [
              "<Figure size 720x576 with 1 Axes>"
            ]
          },
          "metadata": {}
        }
      ]
    },
    {
      "metadata": {
        "id": "_SYoZjemKQYM"
      },
      "cell_type": "markdown",
      "source": [
        "A curva ROC nos ajuda a escolher um nível de limite que equilibra a sensibilidade e a especificidade para um determinado contexto."
      ]
    },
    {
      "metadata": {
        "id": "-vzigbCqKQYN"
      },
      "cell_type": "markdown",
      "source": [
        "## ROC-AUC\n",
        "\n",
        "\n",
        "**ROC AUC** significa **Receiver Operating Characteristic - Area Under Curve**. É uma técnica para comparar o desempenho do classificador. Nesta técnica, medimos a `área sob a curva (AUC)`. Um classificador perfeito terá um ROC AUC igual a 1, enquanto um classificador puramente aleatório terá um ROC AUC igual a 0,5.\n",
        "\n",
        "\n",
        "Portanto, **ROC AUC** é a porcentagem do gráfico ROC que está abaixo da curva."
      ]
    },
    {
      "metadata": {
        "trusted": true,
        "colab": {
          "base_uri": "https://localhost:8080/"
        },
        "id": "uNS6jNBKKQYN",
        "outputId": "678d99b1-9cab-4c75-adea-63c47a83fa86"
      },
      "cell_type": "code",
      "source": [
        "# compute ROC AUC\n",
        "\n",
        "from sklearn.metrics import roc_auc_score\n",
        "\n",
        "ROC_AUC = roc_auc_score(y_test, y_pred1)\n",
        "\n",
        "print('ROC AUC : {:.4f}'.format(ROC_AUC))"
      ],
      "execution_count": null,
      "outputs": [
        {
          "output_type": "stream",
          "name": "stdout",
          "text": [
            "ROC AUC : 0.8671\n"
          ]
        }
      ]
    },
    {
      "metadata": {
        "id": "bJlGklt-KQYN"
      },
      "cell_type": "markdown",
      "source": [
        "### Comentários\n",
        "\n",
        "\n",
        "- ROC AUC é um resumo de número único do desempenho do classificador. Quanto maior o valor, melhor é o classificador.\n",
        "\n",
        "- ROC AUC de nosso modelo se aproxima de 1. Portanto, podemos concluir que nosso classificador faz um bom trabalho em prever se vai chover amanhã ou não."
      ]
    },
    {
      "metadata": {
        "trusted": true,
        "colab": {
          "base_uri": "https://localhost:8080/"
        },
        "id": "Ic5CKp55KQYN",
        "outputId": "3e4dab39-9204-454e-8757-81d34c32eec0"
      },
      "cell_type": "code",
      "source": [
        "# calculate cross-validated ROC AUC \n",
        "\n",
        "from sklearn.model_selection import cross_val_score\n",
        "\n",
        "Cross_validated_ROC_AUC = cross_val_score(logreg, X_train, y_train, cv=5, scoring='roc_auc').mean()\n",
        "\n",
        "print('Cross validated ROC AUC : {:.4f}'.format(Cross_validated_ROC_AUC))"
      ],
      "execution_count": null,
      "outputs": [
        {
          "output_type": "stream",
          "name": "stdout",
          "text": [
            "Cross validated ROC AUC : 0.8675\n"
          ]
        }
      ]
    },
    {
      "metadata": {
        "id": "xEtIiEBVKQYN"
      },
      "cell_type": "markdown",
      "source": [
        "# **19. Validação cruzada k-Fold** <a class=\"anchor\" id=\"19\"> </a>"
      ]
    },
    {
      "metadata": {
        "trusted": true,
        "colab": {
          "base_uri": "https://localhost:8080/"
        },
        "id": "sQoje7YqKQYN",
        "outputId": "ef29d228-7d08-4ef1-dfb8-d04e2039fe3d"
      },
      "cell_type": "code",
      "source": [
        "# Aplicação de validação cruzada de 5 folds\n",
        "\n",
        "from sklearn.model_selection import cross_val_score\n",
        "\n",
        "scores = cross_val_score(logreg, X_train, y_train, cv = 5, scoring='accuracy')\n",
        "\n",
        "print('Cross-validation scores:{}'.format(scores))"
      ],
      "execution_count": null,
      "outputs": [
        {
          "output_type": "stream",
          "name": "stdout",
          "text": [
            "Cross-validation scores:[0.84802784 0.84931683 0.84940277 0.84501353 0.84879474]\n"
          ]
        }
      ]
    },
    {
      "metadata": {
        "id": "ZDvxZa5uKQYO"
      },
      "cell_type": "markdown",
      "source": [
        "Podemos resumir a precisão da validação cruzada calculando sua média."
      ]
    },
    {
      "metadata": {
        "trusted": true,
        "colab": {
          "base_uri": "https://localhost:8080/"
        },
        "id": "DDC1IiiqKQYO",
        "outputId": "9c803e73-d998-4067-996b-8f93d0edaa48"
      },
      "cell_type": "code",
      "source": [
        "# compute Average cross-validation score\n",
        "\n",
        "print('Average cross-validation score: {:.4f}'.format(scores.mean()))"
      ],
      "execution_count": null,
      "outputs": [
        {
          "output_type": "stream",
          "name": "stdout",
          "text": [
            "Average cross-validation score: 0.8481\n"
          ]
        }
      ]
    },
    {
      "metadata": {
        "id": "ZJ4X6OObKQYO"
      },
      "cell_type": "markdown",
      "source": [
        "Nossa pontuação do modelo original é de 0,8476. A pontuação média da validação cruzada é 0,8474. Portanto, podemos concluir que a validação cruzada não resulta em melhoria de desempenho."
      ]
    },
    {
      "metadata": {
        "id": "q20Xxs2aKQYO"
      },
      "cell_type": "markdown",
      "source": [
        "# **20. Otimização de hiperparâmetros usando GridSearch CV** <a class=\"anchor\" id=\"20\"> </a>\n"
      ]
    },
    {
      "metadata": {
        "scrolled": true,
        "trusted": true,
        "colab": {
          "base_uri": "https://localhost:8080/"
        },
        "id": "AzzXEoJxKQYO",
        "outputId": "3d82379f-743b-421c-a938-3daa18e3fab4"
      },
      "cell_type": "code",
      "source": [
        "from sklearn.model_selection import GridSearchCV\n",
        "\n",
        "\n",
        "parameters = [{'penalty':['l1','l2']}, \n",
        "              {'C':[1, 10, 100, 1000]}]\n",
        "\n",
        "\n",
        "\n",
        "grid_search = GridSearchCV(estimator = logreg,  \n",
        "                           param_grid = parameters,\n",
        "                           scoring = 'accuracy',\n",
        "                           cv = 5,\n",
        "                           verbose=0)\n",
        "\n",
        "\n",
        "grid_search.fit(X_train, y_train)\n"
      ],
      "execution_count": null,
      "outputs": [
        {
          "output_type": "execute_result",
          "data": {
            "text/plain": [
              "GridSearchCV(cv=5,\n",
              "             estimator=LogisticRegression(random_state=0, solver='liblinear'),\n",
              "             param_grid=[{'penalty': ['l1', 'l2']}, {'C': [1, 10, 100, 1000]}],\n",
              "             scoring='accuracy')"
            ]
          },
          "metadata": {},
          "execution_count": 568
        }
      ]
    },
    {
      "metadata": {
        "trusted": true,
        "colab": {
          "base_uri": "https://localhost:8080/"
        },
        "id": "ix6isdEpKQYP",
        "outputId": "440b9782-19ed-4a5c-d7c0-d7a9e4fc430b"
      },
      "cell_type": "code",
      "source": [
        "# examine o melhor modelo\n",
        "\n",
        "\n",
        "# melhor pontuação alcançada durante o GridSearchCV\n",
        "print('GridSearch CV best score : {:.4f}\\n\\n'.format(grid_search.best_score_))\n",
        "\n",
        "# print os parâmetros que fornecem os melhores resultados\n",
        "print('Parameters that give the best results :','\\n\\n', (grid_search.best_params_))\n",
        "\n",
        "\n",
        "# estimador de impressão que foi escolhido pelo GridSearch\n",
        "print('\\n\\nEstimator that was chosen by the search :','\\n\\n', (grid_search.best_estimator_))"
      ],
      "execution_count": null,
      "outputs": [
        {
          "output_type": "stream",
          "name": "stdout",
          "text": [
            "GridSearch CV best score : 0.8483\n",
            "\n",
            "\n",
            "Parameters that give the best results : \n",
            "\n",
            " {'penalty': 'l1'}\n",
            "\n",
            "\n",
            "Estimator that was chosen by the search : \n",
            "\n",
            " LogisticRegression(penalty='l1', random_state=0, solver='liblinear')\n"
          ]
        }
      ]
    },
    {
      "metadata": {
        "trusted": true,
        "colab": {
          "base_uri": "https://localhost:8080/"
        },
        "id": "NGSnOya0KQYP",
        "outputId": "22a47cc1-e8f3-49ce-9ada-b940eeabd557"
      },
      "cell_type": "code",
      "source": [
        "# calcular a pontuação do GridSearch CV no conjunto de teste\n",
        "\n",
        "print('GridSearch CV score on test set: {0:0.4f}'.format(grid_search.score(X_test, y_test)))"
      ],
      "execution_count": null,
      "outputs": [
        {
          "output_type": "stream",
          "name": "stdout",
          "text": [
            "GridSearch CV score on test set: 0.8488\n"
          ]
        }
      ]
    },
    {
      "metadata": {
        "id": "o7dvNQt9KQYP"
      },
      "cell_type": "markdown",
      "source": [
        "### Comentários\n",
        "\n",
        "\n",
        "- A precisão do teste do nosso modelo original é 0,8501, enquanto a precisão do GridSearch CV é 0,8507.\n",
        "\n",
        "\n",
        "- Podemos ver que o GridSearch CV melhora o desempenho para este modelo específico."
      ]
    },
    {
      "metadata": {
        "id": "IowvFm6uKQYP"
      },
      "cell_type": "markdown",
      "source": [
        "# **21. Resultados e conclusão** <a class=\"anchor\" id=\"21\"> </a>\n"
      ]
    },
    {
      "metadata": {
        "id": "SQX09EHJKQYP"
      },
      "cell_type": "markdown",
      "source": [
        "1. A pontuação de precisão do modelo de regressão logística é 0,8501. Portanto, o modelo faz um excelente trabalho ao prever se vai chover ou não amanhã na Austrália.\n",
        "\n",
        "2. Um pequeno número de observações prevê que haverá chuva amanhã. A maioria das observações prevê que não haverá chuva amanhã.\n",
        "\n",
        "3. O modelo não mostra sinais de sobreajuste.\n",
        "\n",
        "4. Aumentar o valor de C resulta em maior precisão do conjunto de teste e também em um aumento ligeiramente na precisão do conjunto de treinamento. Portanto, podemos concluir que um modelo mais complexo deve ter um desempenho melhor.\n",
        "\n",
        "5. Aumentar o nível de limite resulta em maior precisão.\n",
        "\n",
        "6. ROC AUC de nosso modelo se aproxima de 1. Portanto, podemos concluir que nosso classificador faz um bom trabalho em prever se vai chover amanhã ou não.\n",
        "\n",
        "7. Nossa pontuação de precisão do modelo original é 0,8501, enquanto a pontuação de precisão após RFECV é 0,8500. Portanto, podemos obter uma precisão aproximadamente semelhante, mas com um conjunto reduzido de recursos.\n",
        "\n",
        "8. No modelo original, temos FP = 1175 enquanto FP1 = 1174. Portanto, obtemos aproximadamente o mesmo número de falsos positivos. Além disso, FN = 3087 enquanto FN1 = 3091. Assim, obtemos falsos negativos um pouco mais altos.\n",
        "\n",
        "9. Nossa pontuação do modelo original é de 0,8476. A pontuação média da validação cruzada é 0,8474. Portanto, podemos concluir que a validação cruzada não resulta em melhoria de desempenho.\n",
        "\n",
        "10. A precisão do teste do nosso modelo original é 0,8501, enquanto a precisão do GridSearch CV é 0,8507. Podemos ver que o GridSearch CV melhora o desempenho para este modelo específico.\n"
      ]
    },
    {
      "metadata": {
        "id": "e1DveCuiKQYQ"
      },
      "cell_type": "markdown",
      "source": [
        "# **22. References** <a class=\"anchor\" id=\"22\"></a>\n",
        "\n",
        "\n",
        "[Table of Contents](#0.1)\n",
        "\n",
        "\n",
        "\n",
        "The work done in this project is inspired from following books and websites:-\n",
        "\n",
        "\n",
        "1. Hands on Machine Learning with Scikit-Learn and Tensorflow by Aurélién Géron\n",
        "\n",
        "2. Introduction to Machine Learning with Python by Andreas C. Müller and Sarah Guido\n",
        "\n",
        "3. Udemy course – Machine Learning – A Z by Kirill Eremenko and Hadelin de Ponteves\n",
        "\n",
        "4. Udemy course – Feature Engineering for Machine Learning by Soledad Galli\n",
        "\n",
        "5. Udemy course – Feature Selection for Machine Learning by Soledad Galli\n",
        "\n",
        "6. https://en.wikipedia.org/wiki/Logistic_regression\n",
        "\n",
        "7. https://ml-cheatsheet.readthedocs.io/en/latest/logistic_regression.html\n",
        "\n",
        "8. https://en.wikipedia.org/wiki/Sigmoid_function\n",
        "\n",
        "9. https://www.statisticssolutions.com/assumptions-of-logistic-regression/\n",
        "\n",
        "10. https://www.kaggle.com/mnassrib/titanic-logistic-regression-with-python\n",
        "\n",
        "11. https://www.kaggle.com/neisha/heart-disease-prediction-using-logistic-regression\n",
        "\n",
        "12. https://www.ritchieng.com/machine-learning-evaluate-classification-model/\n"
      ]
    },
    {
      "cell_type": "markdown",
      "source": [
        ""
      ],
      "metadata": {
        "id": "KB_fizxRt-rf"
      }
    }
  ],
  "metadata": {
    "kernelspec": {
      "display_name": "Python 3",
      "language": "python",
      "name": "python3"
    },
    "language_info": {
      "codemirror_mode": {
        "name": "ipython",
        "version": 3
      },
      "file_extension": ".py",
      "mimetype": "text/x-python",
      "name": "python",
      "nbconvert_exporter": "python",
      "pygments_lexer": "ipython3",
      "version": "3.7.0"
    },
    "colab": {
      "name": "00-Regressão Logistica.ipynb",
      "provenance": [],
      "collapsed_sections": [
        "NGLk2KToKQXE",
        "ypCbLIKZKQYJ",
        "JGDetrtXKQYJ",
        "S6j6EUkHKQYL",
        "609R8AVUKQYM",
        "o7dvNQt9KQYP"
      ],
      "include_colab_link": true
    }
  },
  "nbformat": 4,
  "nbformat_minor": 0
}